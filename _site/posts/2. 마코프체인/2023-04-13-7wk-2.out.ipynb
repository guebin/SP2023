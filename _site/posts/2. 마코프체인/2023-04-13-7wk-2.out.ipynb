{
  "cells": [
    {
      "cell_type": "markdown",
      "metadata": {},
      "source": [
        "# 07wk-2: 마코프체인 (3)\n",
        "\n",
        "최규빈  \n",
        "2023-04-13\n",
        "\n",
        "# 강의영상\n",
        "\n",
        "> youtube:\n",
        "> <https://youtube.com/playlist?list=PLQqh36zP38-zAMowm9anbqZG0fCAmFI_1>\n",
        "\n",
        "# import"
      ],
      "id": "1b6f3e6b-209d-4cfe-b9eb-9f84d54db710"
    },
    {
      "cell_type": "code",
      "execution_count": 104,
      "metadata": {},
      "outputs": [],
      "source": [
        "import numpy as np\n",
        "import matplotlib.pyplot as plt"
      ],
      "id": "e2cc083a-f412-4a78-854e-5bd57b3d0b1b"
    },
    {
      "cell_type": "code",
      "execution_count": 123,
      "metadata": {},
      "outputs": [],
      "source": [
        "def rain(before):\n",
        "    if before == True: # 비가 왔음 \n",
        "        after = np.random.rand() < 0.9\n",
        "    else: # 비가 안왔음 \n",
        "        after = np.random.rand() < 0.2 \n",
        "    return after "
      ],
      "id": "615acab5-b92f-4972-b985-7c0fc161fb51"
    },
    {
      "cell_type": "code",
      "execution_count": 124,
      "metadata": {},
      "outputs": [],
      "source": [
        "def doctor_strange(X0): # X0=today \n",
        "    lst = [X0]\n",
        "    for i in range(10000): \n",
        "        lst.append(rain(lst[i]))\n",
        "    return lst "
      ],
      "id": "4a19f642-1743-42e5-a772-3215a5981b8f"
    },
    {
      "cell_type": "markdown",
      "metadata": {},
      "source": [
        "# 날씨모형 리뷰\n",
        "\n",
        "## formular\n",
        "\n",
        "`-` 저번시간에 살펴본 날씨모형은 결국 아래와 같은 모형이었다.\n",
        "\n",
        "$$\\begin{bmatrix}\n",
        "P(X_{t+1}=0) \\\\\n",
        "P(X_{t+1}=1)\n",
        "\\end{bmatrix}= \\begin{bmatrix} 0.8 & 0.1 \\\\ 0.2 & 0.9 \\end{bmatrix} \\begin{bmatrix}\n",
        "P(X_{t}=0) \\\\\n",
        "P(X_{t}=1)\n",
        "\\end{bmatrix}$$\n",
        "\n",
        "양변에 트랜스포즈를 취하게 되면\n",
        "\n",
        "$$\\begin{bmatrix}\n",
        "P(X_{t+1}=0) &\n",
        "P(X_{t+1}=1)\n",
        "\\end{bmatrix}= \\begin{bmatrix}\n",
        "P(X_{t}=0) &\n",
        "P(X_{t}=1)\n",
        "\\end{bmatrix}\\begin{bmatrix} 0.8 & 0.2 \\\\ 0.1 & 0.9 \\end{bmatrix} $$\n",
        "\n",
        "수식화하면 아래와 같이 된다. (보통 이러한 형태로 책에 많이 쓰니까 이\n",
        "형태로 외울것!)\n",
        "\n",
        "$${\\boldsymbol \\mu}_{t+1}^\\top ={\\boldsymbol \\mu}_{t}^\\top {\\bf P}$$\n",
        "\n",
        "> 참고: $X_t$는 0 혹은 1의 값을 가질수 있는데, 이렇게 $X_t$가 가질 수\n",
        "> 있는 값들을 모은 공간을 상태공간이라고 하고 기호로는 $V=\\{0,1\\}$와\n",
        "> 같이 표현한다.\n",
        "\n",
        "> 참고: 여기에서 확률과정 $\\{X_t\\}$는 이전시점의 값 $X_{t-1}$에\n",
        "> 의하여서만 결정된다. 이러한 확률과정을 마코프체인이라고 한다.\n",
        "\n",
        "> 참고: 이때 매트릭스 ${\\bf P}$를 transition matrix 라고 한다.\n",
        "\n",
        "`-` ${\\bf P}$의 의미 ($\\star$)\n",
        "\n",
        "${\\bf P}$의 각 원소를 아래와 같이 두자.\n",
        "\n",
        "-   ${\\bf P} = \\begin{bmatrix} p_{00} & p_{01} \\\\ p_{10} & p_{11} \\end{bmatrix}$\n",
        "\n",
        "${\\bf P}$의 $(i,j)$의 원소는 $i \\to j$로 이동할 확률을 의미한다. 즉\n",
        "$p_{00}$, $p_{01}$, $p_{10}$, $p_{11}$ 은 각각 아래를 의미한다.\n",
        "\n",
        "-   $p_{00}$: $0 \\to 0$일 확률. 즉 $P(X_t = 0 | X_{t-1} = 0)$\n",
        "-   $p_{01}$: $0 \\to 1$일 확률. 즉 $P(X_t = 1 | X_{t-1} = 0)$\n",
        "-   $p_{10}$: $1 \\to 0$일 확률. 즉 $P(X_t = 0 | X_{t-1} = 1)$\n",
        "-   $p_{11}$: $1 \\to 1$일 확률. 즉 $P(X_t = 1 | X_{t-1} = 1)$\n",
        "\n",
        "`-` ${\\boldsymbol \\mu}$의 의미 ($\\star$)\n",
        "\n",
        "-   ${\\boldsymbol \\mu}_t$는 $X_t$의 pmf를 의미한다.\n",
        "-   ${\\boldsymbol \\mu}_0$는 $X_0$의 pmf를 의미한다. 즉 초기분포를\n",
        "    의미한다.\n",
        "-   ${\\boldsymbol \\mu}$자체가 어떠한 분포를 의미한다.\n",
        "\n",
        "## 특징들\n",
        "\n",
        "`-` 특징1: ${\\bf P}$는 수렴한다. 즉 ${\\bf P}^{\\infty}$가 존재한다."
      ],
      "id": "451e84de-0599-4c35-a898-a6a1445d4106"
    },
    {
      "cell_type": "code",
      "execution_count": 184,
      "metadata": {},
      "outputs": [],
      "source": [
        "P = np.array([[0.8, 0.2],[0.1, 0.9]])\n",
        "P"
      ],
      "id": "34c0c7f0-1f0c-4276-b766-cb514c631b2f"
    },
    {
      "cell_type": "code",
      "execution_count": 185,
      "metadata": {},
      "outputs": [],
      "source": [
        "np.linalg.matrix_power(P,1),np.linalg.matrix_power(P,10),np.linalg.matrix_power(P,30),np.linalg.matrix_power(P,50)"
      ],
      "id": "de7d8cfe-f61b-4de3-9e75-a6724eed0cf9"
    },
    {
      "cell_type": "code",
      "execution_count": 186,
      "metadata": {},
      "outputs": [],
      "source": [
        "Plim = np.linalg.matrix_power(P,100)"
      ],
      "id": "b66522f8-9750-4abd-a9d3-048b3c905ebb"
    },
    {
      "cell_type": "markdown",
      "metadata": {},
      "source": [
        "`-` 특징2: ${\\bf P}^{\\infty}$의 each column은 모두 동일한 값을 가진다.\n",
        "$\\Rightarrow$ $\\mu$에 어떠한 값을 넣어도\n",
        "${\\boldsymbol \\mu}^\\top{\\bf P}^{\\infty}={\\boldsymbol \\pi}^\\top = [1/3, 2/3]$\n",
        "$\\Rightarrow$ ${\\bf P}$의 아무 row 나 선택하여 그것을\n",
        "${\\boldsymbol \\pi}^\\top$라고 두자. ${\\boldsymbol \\pi}$는 $X_{\\infty}$의\n",
        "pmf가 된다."
      ],
      "id": "a70bdb45-b1ec-41a8-8b59-086809325c02"
    },
    {
      "cell_type": "code",
      "execution_count": 187,
      "metadata": {},
      "outputs": [],
      "source": [
        "μ = np.array([[0.5],[0.5]]) \n",
        "μ.T @ Plim"
      ],
      "id": "8ddff591-c4a6-471b-93f1-9de937ffb5a5"
    },
    {
      "cell_type": "code",
      "execution_count": 216,
      "metadata": {},
      "outputs": [],
      "source": [
        "π = np.array([1/3,2/3]).reshape(2,1)\n",
        "π"
      ],
      "id": "228c5ad7-a1b1-41d9-a5e0-1c09eaaa289a"
    },
    {
      "cell_type": "markdown",
      "metadata": {},
      "source": [
        "-   $X_{\\infty}=\\begin{cases} 0 & w.p.~ 1/3 \\\\ 1 & w.p.~ 2/3 \\end{cases}$\n",
        "\n",
        "> 참고: 여기에서 ${\\boldsymbol \\pi}$를 확률과정 $\\{X_t\\}$의 정상분포\n",
        "> (stationary distribution) 라고 한다.\n",
        "\n",
        "`-` 특징3: ${\\boldsymbol \\pi}^\\top {\\bf P} = {\\boldsymbol \\pi}^\\top$ 가\n",
        "성립한다.\n",
        "\n",
        "-   근데 이건 왜 이러지?"
      ],
      "id": "a7ca44b4-9e32-4cc0-8dbd-7201600a7581"
    },
    {
      "cell_type": "code",
      "execution_count": 217,
      "metadata": {},
      "outputs": [],
      "source": [
        "π.T @ P"
      ],
      "id": "551b8c69-acdc-49d6-bb86-5d3cf043a8f3"
    },
    {
      "cell_type": "markdown",
      "metadata": {},
      "source": [
        "당연히 다른 분포 ${\\boldsymbol \\mu}$에 대하여서는 성립하지 않음"
      ],
      "id": "845f48c5-b7b5-4af4-b381-5f20d49e2893"
    },
    {
      "cell_type": "code",
      "execution_count": 218,
      "metadata": {},
      "outputs": [],
      "source": [
        "μ = np.array([[0.5],[0.5]]) \n",
        "μ.T @ P"
      ],
      "id": "85d2c6e7-90c7-4908-97ad-0755b2870ed5"
    },
    {
      "cell_type": "markdown",
      "metadata": {},
      "source": [
        "> 참고: 여기에서 수식\n",
        "> ${\\boldsymbol \\pi}^\\top {\\bf P} = {\\boldsymbol \\pi}^\\top$ 자체가\n",
        "> 정상분포의 정의가 된다. 즉 마코프체인 $\\{X_t\\}$의 트랜지션 매트릭스가\n",
        "> ${\\bf P}$일때,\n",
        "> ${\\boldsymbol \\pi}^\\top {\\bf P} = {\\boldsymbol \\pi}^\\top$를 만족하는\n",
        "> ${\\boldsymbol \\pi}$가 존재한다면 ${\\boldsymbol \\pi}$를 확률과정\n",
        "> $\\{X_t\\}$의 정상분포라고 한다.\n",
        "\n",
        "`-` 특징4: 초기분포 ${\\boldsymbol \\mu}_0$를 ${\\boldsymbol \\pi}$로\n",
        "설정하면 $\\{X_t\\}$는 모든 $t$에 대하여 동일한 분포를 가진다. (독립은\n",
        "아니다)"
      ],
      "id": "a80216ca-d06d-41f2-860d-af56a0312ad1"
    },
    {
      "cell_type": "code",
      "execution_count": 219,
      "metadata": {},
      "outputs": [],
      "source": [
        "π # 초기분포: X0의 pmf "
      ],
      "id": "5b4d4870-d7a8-4819-bd66-e819a56fca1c"
    },
    {
      "cell_type": "code",
      "execution_count": 220,
      "metadata": {},
      "outputs": [],
      "source": [
        "X0 = np.random.rand() < 2/3\n",
        "# X0 = np.random.rand() > 0.52941176"
      ],
      "id": "57825fd0-50d3-4f8c-a4e6-027f57f8a6df"
    },
    {
      "cell_type": "code",
      "execution_count": 221,
      "metadata": {},
      "outputs": [],
      "source": [
        "arr = np.array([doctor_strange(np.random.rand() < 2/3) for i in range(4305)])\n",
        "arr"
      ],
      "id": "351a74c0-01de-4d44-814e-bdec8f852328"
    },
    {
      "cell_type": "code",
      "execution_count": 222,
      "metadata": {},
      "outputs": [
        {
          "output_type": "display_data",
          "metadata": {},
          "data": {
            "image/png": "[encoded data removed]"
          }
        }
      ],
      "source": [
        "plt.plot(arr[0][-100:])"
      ],
      "id": "08ffeed6-b5da-45d2-8278-e8d9961b66a1"
    },
    {
      "cell_type": "code",
      "execution_count": 223,
      "metadata": {},
      "outputs": [],
      "source": [
        "arr[:,0]*1"
      ],
      "id": "173d016b-f75f-403b-b0ca-4d03a2003ee5"
    },
    {
      "cell_type": "code",
      "execution_count": 224,
      "metadata": {},
      "outputs": [],
      "source": [
        "arr[:,-1].sum()"
      ],
      "id": "2ca923a0-f7bd-4d52-859a-b0291fd401ce"
    },
    {
      "cell_type": "code",
      "execution_count": 225,
      "metadata": {},
      "outputs": [],
      "source": [
        "arr[:,0].sum()"
      ],
      "id": "3bd4b808-9be8-4da6-abb3-77b3758fa248"
    },
    {
      "cell_type": "code",
      "execution_count": 226,
      "metadata": {},
      "outputs": [
        {
          "output_type": "display_data",
          "metadata": {},
          "data": {
            "image/png": "[encoded data removed]"
          }
        }
      ],
      "source": [
        "fig, ax = plt.subplots(3,3)\n",
        "ax[0][0].hist(arr[:,0]*1,alpha=0.5);\n",
        "ax[0][1].hist(arr[:,500]*1,alpha=0.5);\n",
        "ax[0][2].hist(arr[:,1000]*1,alpha=0.5);\n",
        "ax[1][0].hist(arr[:,1500]*1,alpha=0.5);\n",
        "ax[1][1].hist(arr[:,2000]*1,alpha=0.5);\n",
        "ax[1][2].hist(arr[:,2500]*1,alpha=0.5);\n",
        "ax[2][0].hist(arr[:,3000]*1,alpha=0.5);\n",
        "ax[2][1].hist(arr[:,3500]*1,alpha=0.5);\n",
        "ax[2][2].hist(arr[:,4000]*1,alpha=0.5);\n",
        "fig.tight_layout()"
      ],
      "id": "0e712a4a-4b20-4c91-9acb-2a8402694204"
    },
    {
      "cell_type": "code",
      "execution_count": 227,
      "metadata": {},
      "outputs": [
        {
          "output_type": "display_data",
          "metadata": {},
          "data": {
            "image/png": "[encoded data removed]"
          }
        }
      ],
      "source": [
        "plt.hist(arr[0]*1)"
      ],
      "id": "87f5b274-12af-42a9-bbc9-46cba2f58a4a"
    },
    {
      "cell_type": "markdown",
      "metadata": {},
      "source": [
        "**특징4의 변형**: 초기분포가 ${\\boldsymbol \\pi}$가 아니더라도 적당한\n",
        "시점 $T_0$ 이후에는 $\\{X_t\\}_{t\\geq T_0}$는 동일한분포를 가진다고 볼 수\n",
        "있다.\n",
        "\n",
        "> 참고: 특징4는 후에 MCMC를 이해하는 중요한 예제가 된다.\n",
        "\n",
        "## 특징3을 위한 약간의 해설\n",
        "\n",
        "편의상 ${\\bf P}^{\\star}={\\bf P}^{\\infty}$ 라고 하자. 이미 살펴본 것 처럼\n",
        "\n",
        "-   ${\\bf P}^\\star {\\bf P} = {\\bf P}^\\star$\n",
        "\n",
        "가 성립한다. 특징2에서 살펴본것 처럼 임의의 ${\\boldsymbol \\mu}$에 대하여\n",
        "${\\boldsymbol \\mu}^\\top {\\bf P}^{\\star} = {\\boldsymbol \\pi}^\\top$ 가\n",
        "항상 성립함을 확인할 수 있다. 이 수식을 살짝 변형하면\n",
        "\n",
        "-   ${\\boldsymbol \\mu}^\\top {\\bf P}^{\\star} = {\\boldsymbol \\pi}^\\top$\n",
        "-   $\\Rightarrow ({\\boldsymbol \\mu}^\\top{\\bf P}^{\\star}){\\bf P} = {\\boldsymbol \\pi}^\\top$\n",
        "-   $\\Rightarrow {\\boldsymbol \\pi}^\\top{\\bf P} = {\\boldsymbol \\pi}^\\top$\n",
        "\n",
        "이다. 따라서 특징3이 유도된다."
      ],
      "id": "f0a035a7-7ed1-4946-86d9-062f9e91fdbf"
    }
  ],
  "nbformat": 4,
  "nbformat_minor": 5,
  "metadata": {
    "kernelspec": {
      "name": "python3",
      "display_name": "Python 3",
      "language": "python"
    },
    "language_info": {
      "name": "python",
      "codemirror_mode": {
        "name": "ipython",
        "version": "3"
      },
      "file_extension": ".py",
      "mimetype": "text/x-python",
      "nbconvert_exporter": "python",
      "pygments_lexer": "ipython3",
      "version": "3.8.16"
    }
  }
}