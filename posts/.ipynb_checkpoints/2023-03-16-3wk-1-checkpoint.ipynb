{
 "cells": [
  {
   "cell_type": "raw",
   "id": "9512228b-479b-44f7-af1f-46cd347d0bc4",
   "metadata": {},
   "source": [
    "---\n",
    "title: \"3wk-1: 측도론 intro (3)\"\n",
    "author: \"최규빈\"\n",
    "date: \"03/16/2023\"\n",
    "---"
   ]
  },
  {
   "cell_type": "markdown",
   "id": "e7b2812f-0b78-4a51-af8b-4a9d47fbe0c0",
   "metadata": {},
   "source": [
    "# 강의영상 "
   ]
  },
  {
   "cell_type": "markdown",
   "id": "999fdbb1-8ef1-4ad3-bea8-54c532872456",
   "metadata": {},
   "source": [
    "> <https://youtube.com/playlist?list=PLQqh36zP38-y_-OXU_IFt6uH3oo61swW4>"
   ]
  },
  {
   "cell_type": "markdown",
   "id": "8cda0f48-dc11-4483-94ab-caa7f4ef8659",
   "metadata": {},
   "source": [
    "# 지난시간 내용 "
   ]
  },
  {
   "cell_type": "markdown",
   "id": "66f9a0b1-66ee-455d-a11f-40df38344dcd",
   "metadata": {},
   "source": [
    "## 전사, 단사, 전단사 "
   ]
  },
  {
   "cell_type": "markdown",
   "id": "e12989c4-49e7-4776-94f9-1020a0bb2bf9",
   "metadata": {},
   "source": [
    "함수 $f: X \\to Y$ 를 상상하자. "
   ]
  },
  {
   "cell_type": "markdown",
   "id": "4f81b29a-f092-41f9-853a-932b1d97b822",
   "metadata": {},
   "source": [
    "`-` 단사함수(일대일함수,인젝티브한 함수): $\\forall x_1,x_2 \\in X: ~ x_1 \\neq x_2 \\Rightarrow f(x_1)\\neq f(x_2)$\n",
    "\n",
    "- 암기 (고등학교): 입력이 다르면 출력이 달라 \n",
    "- 느낌: 화살표가 팍 퍼지는 느낌 \n",
    "- 그래프를 이용한 판단 (고등학교): 수평선을 그어서 교점이 2개 이상이면 단사함수가 아님 "
   ]
  },
  {
   "cell_type": "markdown",
   "id": "89ff5345-5646-4e08-a937-68260ac77270",
   "metadata": {},
   "source": [
    "`-` 전사함수(위로의함수,서젝티브한 함수): $\\forall y \\in Y~ \\exists x \\in X$ such that $f(x)=y$ \n",
    "\n",
    "- 암기 (고등학교): 치역 = 공역 \n",
    "- 암기 (대학교): inverse image가 정의역에 있어야함 ($\\star$)\n",
    "- 느낌: 화살표가 모이는 느낌 \n",
    "- 그래프를 이용한 판단 (고등학교): 모양으로 판단하기 애매함..^[$y=x^2$은 공역을 $\\mathbb{R}$로 설정한다면 전사함수가 아니지만 공역을 $\\mathbb{R}_{\\geq 0}$로 설정한다면 전사함수임]"
   ]
  },
  {
   "cell_type": "markdown",
   "id": "8d2624a9-d046-4b25-8316-479c769124ff",
   "metadata": {},
   "source": [
    "`-` 전단사함수(일대일대응함수,바이젝티브한 함수)"
   ]
  },
  {
   "cell_type": "markdown",
   "id": "94d50660-7e89-4b56-bb59-61c4876af61c",
   "metadata": {},
   "source": [
    "## 예제 (finite cases)"
   ]
  },
  {
   "cell_type": "markdown",
   "id": "2408c706-caee-494f-821b-cd6102eb797b",
   "metadata": {},
   "source": [
    "### 예시1\n",
    "\n",
    "![그림1: 단사함수 O, 전사함수 X](https://upload.wikimedia.org/wikipedia/commons/thumb/0/02/Injection.svg/1024px-Injection.svg.png){width=50% fig-algin=\"center\"}"
   ]
  },
  {
   "cell_type": "markdown",
   "id": "b6a191e9-e735-4a9c-a7d4-8711dd0cc213",
   "metadata": {},
   "source": [
    "`-` 단사함수임을 따져보자!"
   ]
  },
  {
   "cell_type": "markdown",
   "id": "e0b96860-b104-401d-b96e-232221ddf997",
   "metadata": {},
   "source": [
    "$\\forall x_1,x_2 \\in X: x_1\\neq x_2 \\Rightarrow f(x_1)\\neq f(x_2)$"
   ]
  },
  {
   "cell_type": "markdown",
   "id": "3fae3d39-bced-443c-9201-aa47a80ae039",
   "metadata": {},
   "source": [
    "|$x_1$|$x_2$|$f(x_1)$|$f(x_2)$|\n",
    "|:-:|:-:|:-:|:-:|\n",
    "|1|2|D|B|\n",
    "|1|3|D|A|\n",
    "|2|1|B|D|\n",
    "|2|3|B|A|\n",
    "|3|1|A|D|\n",
    "|3|2|A|B|"
   ]
  },
  {
   "cell_type": "markdown",
   "id": "42d816ab-97a0-415c-b224-668c26d54ea4",
   "metadata": {},
   "source": [
    "`-` 전사함수임을 따져보자! "
   ]
  },
  {
   "cell_type": "markdown",
   "id": "88f4311f-a880-4d8c-997f-6e752a4cc988",
   "metadata": {},
   "source": [
    "$\\forall y \\in Y ~ \\exists x \\in X$ such that $f(x)=y$"
   ]
  },
  {
   "cell_type": "markdown",
   "id": "544768ef-37a7-41b3-978d-613906531fb7",
   "metadata": {},
   "source": [
    "|$y$| $x$ such that $f(x)=y$ | \n",
    "|:-:|:-:|\n",
    "|D|1|\n",
    "|B|2|\n",
    "|C|?|\n",
    "|A|3|"
   ]
  },
  {
   "cell_type": "markdown",
   "id": "5c7c3ab7-1245-4b6d-91d1-9d69171d86b1",
   "metadata": {},
   "source": [
    "### 예시2\n",
    "\n",
    "![그림2: 단사함수 X, 전사함수 O](https://upload.wikimedia.org/wikipedia/commons/thumb/6/6c/Surjection.svg/1024px-Surjection.svg.png){width=50% fig-algin=\"center\"}"
   ]
  },
  {
   "cell_type": "markdown",
   "id": "6dbd0608-101e-42f6-86b4-689f68937a3a",
   "metadata": {},
   "source": [
    "`-` 단사함수임을 따져보자!"
   ]
  },
  {
   "cell_type": "markdown",
   "id": "be388fb1-6b30-4802-8ffa-7d9af0cd149a",
   "metadata": {},
   "source": [
    "$\\forall x_1,x_2 \\in X: x_1\\neq x_2 \\Rightarrow f(x_1)\\neq f(x_2)$"
   ]
  },
  {
   "cell_type": "markdown",
   "id": "22b37d24-4b1a-4eb1-bce0-76f4cf4479f1",
   "metadata": {},
   "source": [
    "|$x_1$|$x_2$|$f(x_1)$|$f(x_2)$|\n",
    "|:-:|:-:|:-:|:-:|\n",
    "|1|2|D|B|\n",
    "|1|3|D|C|\n",
    "|1|4|D|C|\n",
    "|2|1|B|D|\n",
    "|2|3|B|C|\n",
    "|2|4|B|C|\n",
    "|3|1|C|D|\n",
    "|3|2|C|B|\n",
    "|3|4|C|C|\n",
    "|4|1|C|D|\n",
    "|4|2|C|B|\n",
    "|4|3|C|C|"
   ]
  },
  {
   "cell_type": "markdown",
   "id": "9e9e417f-4fcf-43e4-b560-06e236bfc858",
   "metadata": {},
   "source": [
    "`-` 전사함수임을 따져보자! "
   ]
  },
  {
   "cell_type": "markdown",
   "id": "c15dc80b-1b79-415a-911e-783b1103255b",
   "metadata": {},
   "source": [
    "$\\forall y \\in Y ~ \\exists x \\in X$ such that $f(x)=y$"
   ]
  },
  {
   "cell_type": "markdown",
   "id": "7c16eb5f-41db-4a6e-af9b-a233f7ce8e2c",
   "metadata": {},
   "source": [
    "|$y$| $x$ such that $f(x)=y$ | \n",
    "|:-:|:-:|\n",
    "|D|1|\n",
    "|B|2|\n",
    "|C|3,4|"
   ]
  },
  {
   "cell_type": "markdown",
   "id": "4e0103a0-3aa5-4e47-9e2a-c5aa08e22b15",
   "metadata": {},
   "source": [
    "### 예시3\n",
    "\n",
    "![그림3: 단사함수 X, 전사함수 X](https://upload.wikimedia.org/wikipedia/commons/thumb/0/02/Total_function.svg/1024px-Total_function.svg.png){width=50% fig-algin=\"center\"}"
   ]
  },
  {
   "cell_type": "markdown",
   "id": "2a91a61d-acce-4aa7-b24e-bed20deb04a6",
   "metadata": {},
   "source": [
    "`-` 단사함수임을 따져보자!"
   ]
  },
  {
   "cell_type": "markdown",
   "id": "163c7112-4dc8-4409-a427-3dbc98dcc53d",
   "metadata": {},
   "source": [
    "$\\forall x_1,x_2 \\in X: x_1\\neq x_2 \\Rightarrow f(x_1)\\neq f(x_2)$"
   ]
  },
  {
   "cell_type": "markdown",
   "id": "76c5afb7-46f2-438e-9dd9-e2869c088e72",
   "metadata": {},
   "source": [
    "|$x_1$|$x_2$|$f(x_1)$|$f(x_2)$|\n",
    "|:-:|:-:|:-:|:-:|\n",
    "|1|2|d|d|\n",
    "|1|3|d|c|\n",
    "|2|1|d|d|\n",
    "|2|3|d|c|\n",
    "|3|1|c|d|\n",
    "|3|2|c|d|"
   ]
  },
  {
   "cell_type": "markdown",
   "id": "760f3c4a-3370-4563-aa33-f249dbcc018d",
   "metadata": {},
   "source": [
    "`-` 전사함수임을 따져보자! "
   ]
  },
  {
   "cell_type": "markdown",
   "id": "d56c6d56-3238-45e8-b207-210cb45a57a1",
   "metadata": {},
   "source": [
    "$\\forall y \\in Y ~ \\exists x \\in X$ such that $f(x)=y$"
   ]
  },
  {
   "cell_type": "markdown",
   "id": "7800c185-cd08-41ff-944a-5e0d2b297786",
   "metadata": {},
   "source": [
    "|$y$| $x$ such that $f(x)=y$ | \n",
    "|:-:|:-:|\n",
    "|a|?|\n",
    "|d|1,2|\n",
    "|b|?|\n",
    "|c|3|"
   ]
  },
  {
   "cell_type": "markdown",
   "id": "62962975-1b95-4cfd-a1bc-0fed82d43f1d",
   "metadata": {},
   "source": [
    "## 예제 (infinite cases) "
   ]
  },
  {
   "cell_type": "markdown",
   "id": "fbe8939d-6980-4c50-b85d-8685a0cbbf4e",
   "metadata": {},
   "source": [
    "### 예시1"
   ]
  },
  {
   "cell_type": "markdown",
   "id": "43c01903-1b92-4295-8f5f-e472ef390e0a",
   "metadata": {},
   "source": [
    "`-` 아래를 판단해보자."
   ]
  },
  {
   "cell_type": "markdown",
   "id": "403a8da6-35bb-48f0-b9aa-a9dbb2095bf8",
   "metadata": {},
   "source": [
    "1. $f:\\mathbb{R} \\to \\mathbb{R}$ defined by $f(x)=2x+1$. // 답^[단사 O, 전사 O]\n",
    "\n",
    "2. $f:\\mathbb{R} \\to \\mathbb{R}$ defined by $f(x)=x^2$. // 답^[단사 X, 전사 X]\n",
    "\n",
    "3. $f:\\mathbb{R} \\to \\mathbb{R}_{\\geq 0}$ defined by $f(x)=x^2$. // 답^[단사 X, 전사 O]\n",
    "\n",
    "4. $f:\\mathbb{Z} \\to \\{0,1\\}$ defined by $f(x)= x ~\\text{mod}~ 2$. // 답^[단사 X, 전사 O]\n",
    "\n",
    "5. $f:\\mathbb{N} \\to \\mathbb{N} \\cup \\{0\\}$ defined by $f(x)= x-1$. // 답^[단사 O, 전사 O]\n",
    "\n",
    "6. $f:\\mathbb{N} \\to \\mathbb{N}^-$ defined by $f(k)= -k$. // 답^[단사 O, 전사 O]\n",
    "     - 여기에서 $\\mathbb{N}^-\\{-1,-2,\\dots,\\}$ 으로 정의 "
   ]
  },
  {
   "cell_type": "markdown",
   "id": "b9ee9d72-219b-40de-989f-f1f8f42e5cd8",
   "metadata": {},
   "source": [
    "### 예시2 "
   ]
  },
  {
   "cell_type": "markdown",
   "id": "04f9af60-7666-40e3-8a59-b0ed10cb4428",
   "metadata": {},
   "source": [
    "`-` 집합 $X$가 집합 $Y$의 부분집합이라면 항상 $X$에서 $Y$로 향하는 단사함수가 존재함을 보여라. \n",
    "\n",
    "- 따라서 $X \\subset Y$ $\\Rightarrow$ $|X|\\leq |Y|$"
   ]
  },
  {
   "cell_type": "markdown",
   "id": "ed7b8e61-223e-4cba-af4e-c1ea63155597",
   "metadata": {
    "slideshow": {
     "slide_type": "slide"
    }
   },
   "source": [
    "# 실수집합의 카디널리티 "
   ]
  },
  {
   "cell_type": "markdown",
   "id": "a97cc2b8-74af-4a18-994e-6284a70066b7",
   "metadata": {
    "slideshow": {
     "slide_type": "slide"
    }
   },
   "source": [
    "`-` 아래의 관계가 성립했다. \n",
    "\n",
    "- $|\\mathbb{N}| = \\aleph_0$\n",
    "- $|\\mathbb{N}\\cup \\{0\\}| = \\aleph_0$\n",
    "- $|\\mathbb{Z}| = \\aleph_0$\n",
    "- $|\\mathbb{Q}| = \\aleph_0$"
   ]
  },
  {
   "cell_type": "markdown",
   "id": "a6404678-1b3a-4411-ae55-6b13e3c3479c",
   "metadata": {
    "slideshow": {
     "slide_type": "slide"
    }
   },
   "source": [
    "`-` 그렇다면 아래는 어떠할까? "
   ]
  },
  {
   "cell_type": "markdown",
   "id": "2c3b149b-95bb-4f09-a448-9e7899314fc2",
   "metadata": {
    "slideshow": {
     "slide_type": "slide"
    }
   },
   "source": [
    "$$|\\mathbb{R}|=??$$"
   ]
  },
  {
   "cell_type": "markdown",
   "id": "551be9da-7c20-41c3-9ddf-0307676d9056",
   "metadata": {
    "slideshow": {
     "slide_type": "fragment"
    }
   },
   "source": [
    "**(주장)** 실수의 유리수의 카디널넘버 보다 크다. "
   ]
  },
  {
   "cell_type": "markdown",
   "id": "17fe38c7-6025-4142-b099-f2e2a2928a3e",
   "metadata": {},
   "source": [
    "그런데 유리수의 카디널넘버와 자연수의 카디널넘버가 같다는 것을 떠올리면 \"실수의 카디널넘버는 자연수의 카디널넘버보다 크다\" 를 보여도 충분함을 유추할 수 있다. "
   ]
  },
  {
   "cell_type": "markdown",
   "id": "90953d02-2b28-4143-9c63-f6e3d87a0862",
   "metadata": {
    "slideshow": {
     "slide_type": "slide"
    }
   },
   "source": [
    "**(단사)**"
   ]
  },
  {
   "cell_type": "markdown",
   "id": "7b9a06fe-9357-46e6-85f6-798d9984f772",
   "metadata": {
    "slideshow": {
     "slide_type": "fragment"
    }
   },
   "source": [
    "자연수에서 실수로 가는 단사함수는 존재한다. (자연수는 실수의 부분집합이니까)"
   ]
  },
  {
   "cell_type": "markdown",
   "id": "53e55e61-69f2-46fd-813c-0e8ea8e30448",
   "metadata": {
    "slideshow": {
     "slide_type": "slide"
    }
   },
   "source": [
    "**(전사)**"
   ]
  },
  {
   "cell_type": "markdown",
   "id": "06ada08c-2ec8-4ed3-ae57-83dbb82cd82b",
   "metadata": {
    "slideshow": {
     "slide_type": "fragment"
    }
   },
   "source": [
    "**소망**: $\\mathbb{N}$에서 $\\mathbb{R}$로 향하는 전사는 존재할 수 없음을 보이고 싶음."
   ]
  },
  {
   "cell_type": "markdown",
   "id": "dae87da7-af7b-407a-8930-6f5d34c88e59",
   "metadata": {
    "slideshow": {
     "slide_type": "fragment"
    }
   },
   "source": [
    "**소망2**: 그런데 $\\mathbb{N}$에서 $[0,1]$로 향하는 전사가 존재할 수 없음을 보여도 충분함. "
   ]
  },
  {
   "cell_type": "markdown",
   "id": "e3eced1d-b998-4854-a50b-caee26af4bf7",
   "metadata": {
    "slideshow": {
     "slide_type": "fragment"
    }
   },
   "source": [
    "**전략**: $\\mathbb{N}$에서 $[0,1]$로 가는 전사가 존재한다고 가정하고 모순을 이끌어 내자. "
   ]
  },
  {
   "cell_type": "markdown",
   "id": "5602f52c-7a48-41de-a268-4198c848eb02",
   "metadata": {
    "slideshow": {
     "slide_type": "slide"
    }
   },
   "source": [
    "`1`. 아래와 같은 주장을 하는 가상의 인물을 세움: \n",
    "\n",
    "> $\\mathbb{N}$에서 $[0,1]$로 향하는 전사함수가 존재한다. \n"
   ]
  },
  {
   "cell_type": "markdown",
   "id": "802af65e-07c6-4426-bc90-d5e07be3d60e",
   "metadata": {
    "slideshow": {
     "slide_type": "slide"
    }
   },
   "source": [
    "`2`. 그 가상의 인물이 하는 주장을 잘 생각해보면 아래와 같음 \n",
    "\n",
    "$f$는 정의역이 자연수이고 공역이 실수인 함수이므로 아래와 같은 형태일 것임. \n",
    "\n",
    "- $f(1)=0.2344253456\\cdots$\n",
    "- $f(2)=0.3459837981\\cdots$\n",
    "- $f(3)=0.5452349871\\cdots$ \n",
    "- $\\dots$"
   ]
  },
  {
   "cell_type": "markdown",
   "id": "97550814-9073-42eb-90c9-3b0669ff6dcc",
   "metadata": {
    "slideshow": {
     "slide_type": "slide"
    }
   },
   "source": [
    "그 가상의 인물의 주장대로라면 \n",
    "\n",
    "$$[0,1]=\\{f(1),f(2),f(3),\\dots\\}$$"
   ]
  },
  {
   "cell_type": "markdown",
   "id": "8ba3d1bb-8308-4884-9286-4e3d6f1cf51d",
   "metadata": {
    "slideshow": {
     "slide_type": "fragment"
    }
   },
   "source": [
    "이라는 의미임.^[다시 말하면 $[0,1]$ 사이의 모든 실수는 \"셀수있다\"라는 의미임]"
   ]
  },
  {
   "cell_type": "markdown",
   "id": "2ff93078-dd98-427f-a3ac-52e4923e2dd6",
   "metadata": {
    "slideshow": {
     "slide_type": "slide"
    }
   },
   "source": [
    "`3`. 전사함수의 정의에 의하여 아래가 성립해야 함\n",
    "\n",
    "> $\\forall y\\in [0,1] ~\\exists x \\in \\mathbb{N}$ such that $f(x)=y$"
   ]
  },
  {
   "cell_type": "markdown",
   "id": "b4b4efa7-95e1-449c-8a49-e4def583512c",
   "metadata": {
    "slideshow": {
     "slide_type": "slide"
    }
   },
   "source": [
    "아래의 원리에 따라서 $y=0.x_1x_2x_3\\cdots$를 뽑는다면? \n",
    "\n",
    "- $y$의 첫번째 소수점의 값 $x_1$은 $f(1)$의 첫번째 소수점과 다르게 한다. $\\Rightarrow$ $y\\neq f(1)$ $\\Rightarrow$ $y \\notin \\{f(1)\\}$\n",
    "- $y$의 두번째 소수점의 값 $x_2$은 $f(2)$의 두번째 소수점과 다르게 한다. $\\Rightarrow$ $y\\neq f(1)$ and $y\\neq f(2)$ $\\Rightarrow$ $y \\notin \\{f(1), f(2)\\}$\n"
   ]
  },
  {
   "cell_type": "markdown",
   "id": "9eddd4e0-00c8-4b2e-92b5-81b204e32066",
   "metadata": {
    "slideshow": {
     "slide_type": "fragment"
    }
   },
   "source": [
    "이러한 $y$는 분명히 실수이지만 $y \\notin \\{f(1),f(2),f(3),\\dots,\\}$ 이다.^[모순이네?]"
   ]
  },
  {
   "cell_type": "markdown",
   "id": "2b536f0e-fe8b-4986-80a0-0e2ba7be8873",
   "metadata": {
    "slideshow": {
     "slide_type": "slide"
    }
   },
   "source": [
    "# 무리수집합의 카디널리티 "
   ]
  },
  {
   "cell_type": "markdown",
   "id": "cdc0f04a-eb03-45d4-a4c5-9554f7d331be",
   "metadata": {},
   "source": [
    "**(주장)** 무리수집합의 카디널리티는 $\\aleph_0$가 아니다. "
   ]
  },
  {
   "cell_type": "markdown",
   "id": "ccebab01-4127-4d3b-837b-dc8a76817890",
   "metadata": {},
   "source": [
    "**(쉐도복싱)** 무리수집합의 카디널리티가 $\\aleph_0$ 이라고 하자. "
   ]
  },
  {
   "cell_type": "markdown",
   "id": "fb8c120d-288f-4fb2-b6fa-d37f77c4d26e",
   "metadata": {},
   "source": [
    "- $\\mathbb{R} = \\mathbb{Q} \\cup \\mathbb{Q}^c$ \n",
    "- $|\\mathbb{Q}|=\\aleph_0$ 이므로 $\\mathbb{Q}$와 $\\mathbb{N}$사이에는 전단사함수가 존재함. \n",
    "- $|\\mathbb{Q}^c|=\\aleph_0$ 이므로 $\\mathbb{Q}^c$와 $\\mathbb{N}^{-}=\\{-1,-2,\\dots\\}$사이에는 전단사함수가 존재함. \n",
    "- 따라서 $\\mathbb{Q} \\cup \\mathbb{Q}^c$ 와 $\\mathbb{N} \\cup \\mathbb{N}^-$ 사이에는 전단사함수가 존재함. (모순) "
   ]
  }
 ],
 "metadata": {
  "kernelspec": {
   "display_name": "Python 3",
   "language": "python",
   "name": "python3"
  },
  "language_info": {
   "codemirror_mode": {
    "name": "ipython",
    "version": 3
   },
   "file_extension": ".py",
   "mimetype": "text/x-python",
   "name": "python",
   "nbconvert_exporter": "python",
   "pygments_lexer": "ipython3",
   "version": "3.8.16"
  }
 },
 "nbformat": 4,
 "nbformat_minor": 5
}
