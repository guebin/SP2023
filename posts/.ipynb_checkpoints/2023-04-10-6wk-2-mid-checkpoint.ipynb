{
 "cells": [
  {
   "cell_type": "raw",
   "id": "fba306a0-1535-46f0-93af-01b77df5295b",
   "metadata": {},
   "source": [
    "---\n",
    "title: \"6wk-2: 중간고사\"\n",
    "author: \"최규빈\"\n",
    "date: \"04/10/2023\"\n",
    "---"
   ]
  },
  {
   "cell_type": "markdown",
   "id": "4b031dbe-d897-43f3-8a76-b7d0e4827b3d",
   "metadata": {},
   "source": [
    "# `1`. Cardinality"
   ]
  },
  {
   "cell_type": "markdown",
   "id": "91464302-cfb3-4e54-b557-c6706cc96e81",
   "metadata": {},
   "source": [
    "`(1)` $\\mathbb{Q}$의 cardinality가 $\\aleph_0$임을 증명하라. "
   ]
  },
  {
   "cell_type": "markdown",
   "id": "7e15bd8a-b8c1-475f-9a12-319a9a9a0330",
   "metadata": {},
   "source": [
    "`(풀이)` 생략 "
   ]
  },
  {
   "cell_type": "markdown",
   "id": "8ac13718-08e4-4bad-a640-c95fd32ec79d",
   "metadata": {},
   "source": [
    "`(2)` $\\mathbb{R}$의 cardinality가 $\\aleph_0$이 아님을 보여라. "
   ]
  },
  {
   "cell_type": "markdown",
   "id": "9e39444f-251e-4c39-a161-411cba2f2adf",
   "metadata": {},
   "source": [
    "`(풀이)` 생략 "
   ]
  },
  {
   "cell_type": "markdown",
   "id": "eda6799b-adac-4de2-994b-20f1dde36241",
   "metadata": {},
   "source": [
    "# `2`. $\\sigma$-field"
   ]
  },
  {
   "cell_type": "markdown",
   "id": "57bdac37-5b03-46f6-b769-bf0002496822",
   "metadata": {},
   "source": [
    "`(1)` $\\Omega=\\{1,2,3,4,5,6\\}$일 때, 다음 중 시그마필드의 정의를 만족하는 집합을 모두 골라라. \n",
    "\n",
    "1. ${\\cal F}=\\{\\emptyset, \\Omega\\}$\n",
    "2. ${\\cal F}=\\{\\emptyset, \\{1\\},\\{2,3,4,5,6\\},\\Omega\\}$\n",
    "3. ${\\cal F}=\\{\\emptyset, \\{1,2,3\\}, \\{4,5,6\\}, \\Omega\\}$\n",
    "4. ${\\cal F}=2^\\Omega$"
   ]
  },
  {
   "cell_type": "markdown",
   "id": "9522c44c-74bf-4db3-8821-4df24eab4d2d",
   "metadata": {},
   "source": [
    "**note**: 답만 써도 무방."
   ]
  },
  {
   "cell_type": "markdown",
   "id": "1221fb08-5985-4214-a39f-faea579264bf",
   "metadata": {},
   "source": [
    "**note**: 정확하게 모두 고를 경우만 정답으로 인정. "
   ]
  },
  {
   "cell_type": "markdown",
   "id": "b1de0b0b-d3c7-42e6-9661-82e8a886d304",
   "metadata": {},
   "source": [
    "`(풀이)` 1,2,3,4 모두 시그마필드"
   ]
  },
  {
   "cell_type": "markdown",
   "id": "600733ec-6d19-4114-900a-737eb15e4aea",
   "metadata": {},
   "source": [
    "`(2)` $\\Omega=\\{1,2,3,4,5,6\\}$ 일 때, \n",
    "\n",
    "$${\\cal A}=\\{\\{1,2,3\\},\\{4,5,6\\}\\}$$ \n",
    "\n",
    "이라고 하자. $\\sigma({\\cal A})$를 구하여라. "
   ]
  },
  {
   "cell_type": "markdown",
   "id": "2038bb22-4281-4291-b70c-cc0fc1ff9397",
   "metadata": {},
   "source": [
    "**note**: 답만 써도 무방."
   ]
  },
  {
   "cell_type": "markdown",
   "id": "56feacb9-ed05-4f3a-a9a6-adc75d536b25",
   "metadata": {},
   "source": [
    "`(풀이)` $\\sigma({\\cal A}) = \\{\\emptyset, \\Omega, \\{1,2,3\\},\\{4,5,6\\}\\}$"
   ]
  },
  {
   "cell_type": "markdown",
   "id": "5af8349a-5724-4993-b139-4abef05ddb34",
   "metadata": {},
   "source": [
    "`(3)` $\\Omega=\\mathbb{N}$ 일 때, \n",
    "\n",
    "- ${\\cal A}=\\{\\{n\\}: n \\in \\mathbb{N}\\}$\n",
    "- ${\\cal F} = \\sigma({\\cal A})$ \n",
    "\n",
    "이라고 하자. 아래의 물음에 답하여라. \n",
    "\n",
    "1. $\\{2\\} \\in {\\cal F}$ 인가? \n",
    "2. $\\mathbb{N} \\in {\\cal F}$ 인가? \n",
    "3. $\\emptyset \\in {\\cal F}$ 인가? \n",
    "4. $\\{2n: n\\in \\mathbb{N}\\} \\in {\\cal F}$ 인가? \n",
    "5. $\\mathbb{Z} \\in {\\cal F}$ 인가? "
   ]
  },
  {
   "cell_type": "markdown",
   "id": "de0bd397-5cdd-46a0-8dad-bfb7fe47a403",
   "metadata": {},
   "source": [
    "**note:** 답만 써도 무방."
   ]
  },
  {
   "cell_type": "markdown",
   "id": "676702ef-b3e9-4343-a740-eca0d73eb092",
   "metadata": {},
   "source": [
    "**note:** 모두 맞출 경우만 정답으로 인정 "
   ]
  },
  {
   "cell_type": "markdown",
   "id": "29d043bc-387c-45bc-bf3c-347572b9dfad",
   "metadata": {},
   "source": [
    "`(풀이)` 1,2,3,4 (O) // 5 (X) \n",
    "\n",
    "시그마필드는 공집합과 전체집합을 포함하므로 $\\mathbb{N}, \\emptyset$은 ${\\cal F}$의 원소이어야 한다. 시그마필드의 원소는 $\\mathbb{N}$의 부분집합이어야 하므로 $\\mathbb{Z}$는 ${\\cal F}$의 원소가 될 수 없다. ${\\cal F}$는 $\\{2\\},\\{4\\},\\{6\\},\\dots$ 등을 원소로 포함하고 시그마필드는 가산합집합에 닫혀있으므로 $\\{2n: n \\in \\mathbb{N}\\}$ 은 ${\\cal F}$의 원소이다. "
   ]
  },
  {
   "cell_type": "markdown",
   "id": "e0d47a74-f1db-441d-b849-6eca4fd54d4c",
   "metadata": {},
   "source": [
    "`(4)` $\\Omega=\\mathbb{R}$ 일 때, \n",
    "\n",
    "- ${\\cal A}=\\{(a,b): -\\infty <a< b< \\infty\\}$\n",
    "- ${\\cal F}=\\sigma({\\cal A})$\n",
    "\n",
    "이라고 하자. 아래의 물음에 답하여라. \n",
    "\n",
    "1. $\\{0\\} \\in {\\cal F}$ 인가? \n",
    "2. $\\mathbb{R} \\in {\\cal F}$ 인가? \n",
    "3. $\\mathbb{Q} \\in {\\cal F}$ 인가? \n",
    "4. $\\mathbb{R} - \\mathbb{Q} \\in {\\cal F}$ 인가? \n",
    "5. $(1,3] \\in {\\cal F}$ 인가? \n",
    "6. $[1,3] \\in {\\cal F}$ 인가? \n",
    "7. $[1,3) \\in {\\cal F}$ 인가? \n",
    "8. $[1,3) \\cup (3,5] \\in {\\cal F}$ 인가? "
   ]
  },
  {
   "cell_type": "markdown",
   "id": "898520db-fe4a-4c9f-9a94-cf95414b6447",
   "metadata": {},
   "source": [
    "**note**: 답만 쓸 경우 정답으로 인정하지 않음, 답에 대한 근거를 간단히 서술할 것"
   ]
  },
  {
   "cell_type": "markdown",
   "id": "dd4cb6c2-88ce-4eb0-aaa9-06fd84bdc8c1",
   "metadata": {},
   "source": [
    "**note:** 시그마필드가 교집합, 차집합등에 닫혀있다는 성질은 증명없이 이용해도 무방함. "
   ]
  },
  {
   "cell_type": "markdown",
   "id": "1acbb8ff-7c23-4a97-8a7b-3fcf51d38cec",
   "metadata": {},
   "source": [
    "`(풀이)` 1,2,3,4,5,6,7,8 모두 O.\n",
    "\n",
    "`1`. $(-1,1) - \\big((-1,0)\\cup (0,1)\\big) \\in {\\cal F}$ \n",
    "\n",
    "- 모든 열린구간은 ${\\cal F}$의 원소이고, 열린구간의 합집합 역시 ${\\cal F}$의 원소이므로 $(0,1) \\cup (-1,0)$ 역시 ${\\cal F}$의 원소이다. \n",
    "- $A=(-1,1)$, $B=(0,1)\\cup (-1,0)$ 이라고 하면, $A-B = \\{0\\}$ 이고 시그마필드는 차집합에 닫혀있으므로 $A\\in {\\cal F}, B \\in {\\cal F}$ 는 $A-B=\\{0\\} \\in {\\cal F}$를 imply한다. \n",
    "\n",
    "`2`. $\\Omega \\in {\\cal F}$ \n",
    "\n",
    "- 시그마필드는 전체집합을 포함하므로 $\\mathbb{R}$은 ${\\cal F}$의 원소이다. \n",
    "\n",
    "`3`. $\\forall x \\in \\mathbb{Q}, \\{x\\} \\in \\mathbb{Q} ~\\Rightarrow ~\\cup_{x \\in \\mathbb{Q}} \\{x\\} \\in {\\cal F}$\n",
    "\n",
    "- 1에 의하여 하나의 원소만 포함하는 모든 집합은 ${\\cal F}$의 원소이다. 즉 모든 $x\\in \\mathbb{R}$에 대하여 $\\{x\\} \\in {\\cal F}$ 이 성립한다. \n",
    "- 유리수전체의 집합은 $\\mathbb{Q}=\\cup_{x \\in \\mathbb{Q}} \\{x\\}$ 와 같이 한점만 포함하는 집합들의 countable union으로 표현가능하고, 시그마필드는 countable union에 닫혀있으므로 $\\mathbb{Q} \\in {\\cal F}$ 이다.  \n",
    "\n",
    "`4`. $\\mathbb{Q} \\in {\\cal F} ~\\Rightarrow~ \\mathbb{Q}^c \\in {\\cal F}$ \n",
    "\n",
    "- 무리수전체의 집합은 $\\mathbb{Q}^c = \\cup_{x \\in \\mathbb{Q}^c}\\{x\\}$ 와 같이 한점만 포함하는 집합들의 uncountable union으로 표현되므로 3과 같은 방식으로는 증명할 수 없음. \n",
    "- 하지만 $\\mathbb{Q} \\in \\mathbb{R}$임을 3에서 보였고, 시그마필드는 여집합에 닫혀있으므로 $\\mathbb{Q}^c \\in \\mathbb{R}$ 임을 보일 수 있다. \n",
    "\n",
    "`5-8`. \n",
    "\n",
    "- 모든 열린구간은 ${\\cal F}$의 원소이며, 한점만 포함된 모든 집합 $\\{x\\}, x\\in\\mathbb{R}$ 은 1과 유사한 논리로 ${\\cal F}$의 원소임을 보일 수 있으므로 5-8은 모두 성립함. \n",
    "\n"
   ]
  },
  {
   "cell_type": "markdown",
   "id": "26540377-7ce9-4214-b3e3-e440b081bb88",
   "metadata": {},
   "source": [
    "# `3`. 확률과 확률변수 "
   ]
  },
  {
   "cell_type": "markdown",
   "id": "73829dc5-2d25-4cb3-ad0e-49a8ec2695d7",
   "metadata": {},
   "source": [
    "`(1)` 아래와 같은 잴 수 있는 공간 $(\\Omega, {\\cal F})$를 고려하자. \n",
    "\n",
    "- $\\Omega=\\{a,b,c,d\\}$\n",
    "- ${\\cal F}=2^\\Omega$"
   ]
  },
  {
   "cell_type": "markdown",
   "id": "668bb6cb-cc78-4c71-8d3e-03b66e5b0bfa",
   "metadata": {},
   "source": [
    "아래와 같은 확률변수 $X: \\Omega \\to \\{1,2,3,4\\}$ 를 고려하자. 다음 중 올바른 표현은? "
   ]
  },
  {
   "cell_type": "markdown",
   "id": "fc7ed833-faf0-4c73-8347-8733fdbabebf",
   "metadata": {},
   "source": [
    "1. $X(a)$ \n",
    "2. $X(\\{a\\})$\n",
    "3. $P(a)$\n",
    "4. $P(\\{a\\})$\n",
    "5. $P(X=1)$\n",
    "6. $X = \\begin{cases} 1 & w.p.~\\frac{1}{2} \\\\ 2 & w.p. ~\\frac{1}{6} \\\\ 3 & w.p. ~\\frac{1}{6} \\\\ 4 & w.p. ~\\frac{1}{6} \\end{cases}$"
   ]
  },
  {
   "cell_type": "markdown",
   "id": "423d30a3-2dd0-48ac-b9b3-4e212441d977",
   "metadata": {},
   "source": [
    "**note:** 답만 써도 무방. "
   ]
  },
  {
   "cell_type": "markdown",
   "id": "6421de6b-8a10-40fc-9e82-614dde6a0896",
   "metadata": {},
   "source": [
    "**note:** 모두 맞출 경우만 정답으로 인정 "
   ]
  },
  {
   "cell_type": "markdown",
   "id": "b5b15eff-4428-4e8a-8573-eaa098ed46c2",
   "metadata": {},
   "source": [
    "`(풀이)` 1,4,5,6 "
   ]
  },
  {
   "cell_type": "markdown",
   "id": "71e50759-c1dd-47fb-b366-0161dd2f1337",
   "metadata": {},
   "source": [
    "`(2)` 두개의 잴 수 있는 공간 $(\\Omega, {\\cal F})$와 $(S,{\\cal S})$를 고려하자. 단, \n",
    "\n",
    "- $\\Omega=\\mathbb{R}$,\n",
    "- ${\\cal F} =\\sigma({\\cal A})$ where ${\\cal A} = \\{\\mathbb{Q}\\}$,\n",
    "- $S = \\{0,1\\}$,\n",
    "- ${\\cal S} = 2^{S}$. "
   ]
  },
  {
   "cell_type": "markdown",
   "id": "0e357c00-5da9-417b-b18a-bb4c740f689c",
   "metadata": {},
   "source": [
    "아래와 같은 함수 $X:\\Omega \\to S$을 고려하라. "
   ]
  },
  {
   "cell_type": "markdown",
   "id": "72376699-9653-4c6f-a0d5-6d9179fa6378",
   "metadata": {},
   "source": [
    "$$X(\\omega) = \\begin{cases}\n",
    "0 & \\omega \\in \\mathbb{Q}\\\\\n",
    "1 & \\omega \\in \\mathbb{R} - \\mathbb{Q}\n",
    "\\end{cases}$$"
   ]
  },
  {
   "cell_type": "markdown",
   "id": "d28ff890-b5fd-4d73-b529-3a80e6c93f28",
   "metadata": {},
   "source": [
    "$X$는 $(\\Omega,{\\cal F})$에서의 확률변수인가? (즉 $X$는 $(\\Omega,{\\cal F})\\to(S,{\\cal S})$인 가측함수인가?)"
   ]
  },
  {
   "cell_type": "markdown",
   "id": "2ad60033-2bf8-4a31-a4f2-a0a7d0d26861",
   "metadata": {},
   "source": [
    "**note:** 답만 쓸 경우 인정하지 않음. 근거를 쓸 것. "
   ]
  },
  {
   "cell_type": "markdown",
   "id": "7b3e689a-932a-406e-932e-d9f75256eeb8",
   "metadata": {},
   "source": [
    "**note**: ${\\cal A}=\\mathbb{Q}$ 가 아님을 유의하라. 즉 ${\\cal A}$의 원소수는 1개이다. (${\\cal A} = \\mathbb{Q}$ 일 경우 원소수는 유리수의 숫자만큼 존재함)"
   ]
  },
  {
   "cell_type": "markdown",
   "id": "ca9de063-71ae-49cb-bdb1-3ecdb81d63e7",
   "metadata": {},
   "source": [
    "`(풀이)` 확률변수임. "
   ]
  },
  {
   "cell_type": "markdown",
   "id": "be5fb905-10d0-4fb0-8442-35dde543c3a0",
   "metadata": {},
   "source": [
    "Note: $\\sigma({\\cal A})=\\{\\emptyset, \\mathbb{Q}, \\mathbb{Q}^c, \\mathbb{R} \\}, 2^S  = \\{\\emptyset, \\{0\\}, \\{1\\}, \\{0,1\\}\\}$ \n",
    "\n",
    "확률변수임을 체크하기 위해서는 $2^S$의 모든 부분집합 $B$에 대하여 $X^{-1}(B):= \\{\\omega : X(\\omega) \\in B\\} \\in {\\cal F}$ 임을 확인하면 된다. \n",
    "\n",
    "- $B=\\emptyset$ 일 경우: $\\{\\omega: X(\\omega) \\in \\emptyset\\}=\\emptyset \\in \\sigma({\\cal A})$\n",
    "- $B=\\{0\\}$ 일 경우: $\\{\\omega: X(\\omega) \\in \\{0\\}\\}=\\mathbb{Q} \\in \\sigma({\\cal A})$\n",
    "- $B=\\{1\\}$ 일 경우: $\\{\\omega: X(\\omega) \\in \\{1\\}\\}=\\mathbb{Q}^c \\in \\sigma({\\cal A})$\n",
    "- $B=\\{0,1\\}$ 일 경우: $\\{\\omega: X(\\omega) \\in \\{0,1\\}\\}=\\mathbb{R} \\in \\sigma({\\cal A})$"
   ]
  },
  {
   "cell_type": "markdown",
   "id": "fcd7eec7-3234-4965-b38a-a617ff084f02",
   "metadata": {},
   "source": [
    "`(3)` 두개의 잴 수 있는 공간 $(\\Omega, {\\cal F})$와 $(S,{\\cal S})$를 고려하자. 단, \n",
    "\n",
    "- $\\Omega=\\mathbb{R}$,\n",
    "- ${\\cal F} =\\sigma({\\cal A})$ where ${\\cal A} = \\{\\mathbb{Q}\\}$,\n",
    "- $S = \\{0,1\\}$,\n",
    "- ${\\cal S} = 2^S$."
   ]
  },
  {
   "cell_type": "markdown",
   "id": "315dc8d5-5f72-45f7-9541-7407c67b3d35",
   "metadata": {},
   "source": [
    "아래와 같은 함수 $X:\\Omega \\to S$을 고려하라. "
   ]
  },
  {
   "cell_type": "markdown",
   "id": "d3dc7551-4863-4a4d-a3e7-9224ed60d005",
   "metadata": {},
   "source": [
    "$$X(\\omega) = \\begin{cases}\n",
    "0 & \\omega =0\\\\\n",
    "1 & \\omega \\neq 0\n",
    "\\end{cases}$$"
   ]
  },
  {
   "cell_type": "markdown",
   "id": "11f2e644-14fc-46a3-9f31-bb909428abf5",
   "metadata": {},
   "source": [
    "$X$는 $(\\Omega,{\\cal F})$에서의 확률변수인가? (즉 $X$는 $(\\Omega,{\\cal F})\\to(S,{\\cal S})$인 가측함수인가?)"
   ]
  },
  {
   "cell_type": "markdown",
   "id": "3caf4973-a733-45f5-ace4-18a41aa20ef7",
   "metadata": {},
   "source": [
    "**note:** 답만 쓸 경우 인정하지 않음. 근거를 쓸 것. "
   ]
  },
  {
   "cell_type": "markdown",
   "id": "52d0cda7-b7e8-46ae-9724-77412ad7c2d9",
   "metadata": {},
   "source": [
    "`(풀이)` 확률변수가 아님. $B=\\{0\\}$ 일 경우, $\\{\\omega: X(\\omega) \\in B\\}=\\{0\\} \\notin \\sigma({\\cal A})$ 이므로 확률변수의 정의에 만족하지 않음. "
   ]
  },
  {
   "cell_type": "code",
   "execution_count": null,
   "id": "91da55c6-cb88-4937-a7d3-8044abbb0601",
   "metadata": {},
   "outputs": [
    {
     "name": "stdout",
     "output_type": "stream",
     "text": [
      "git: 'add.' is not a git command. See 'git --help'.\n",
      "\n",
      "The most similar command is\n",
      "\tadd\n",
      "On branch main\n",
      "Your branch is up to date with 'origin/main'.\n",
      "\n",
      "Changes not staged for commit:\n",
      "  (use \"git add/rm <file>...\" to update what will be committed)\n",
      "  (use \"git restore <file>...\" to discard changes in working directory)\n",
      "\t\u001b[31mmodified:   ../_site/about.html\u001b[m\n",
      "\t\u001b[31mmodified:   ../_site/index.html\u001b[m\n",
      "\t\u001b[31mmodified:   ../_site/listings.json\u001b[m\n",
      "\t\u001b[31mdeleted:    \"../_site/posts/1. \\341\\204\\216\\341\\205\\263\\341\\206\\250\\341\\204\\203\\341\\205\\251\\341\\204\\205\\341\\205\\251\\341\\206\\253/2023-03-09-2wk-1.html\"\u001b[m\n",
      "\t\u001b[31mdeleted:    \"../_site/posts/1. \\341\\204\\216\\341\\205\\263\\341\\206\\250\\341\\204\\203\\341\\205\\251\\341\\204\\205\\341\\205\\251\\341\\206\\253/2023-03-14-2wk-2.html\"\u001b[m\n",
      "\t\u001b[31mdeleted:    \"../_site/posts/1. \\341\\204\\216\\341\\205\\263\\341\\206\\250\\341\\204\\203\\341\\205\\251\\341\\204\\205\\341\\205\\251\\341\\206\\253/2023-03-14-2wk-2_files/figure-html/4da5aaa8-0e84-4c7f-a1ae-eae6a2e34076-1-7f6cdfaf-faf5-464e-9ec6-4668e9b1aab1.png\"\u001b[m\n",
      "\t\u001b[31mdeleted:    \"../_site/posts/1. \\341\\204\\216\\341\\205\\263\\341\\206\\250\\341\\204\\203\\341\\205\\251\\341\\204\\205\\341\\205\\251\\341\\206\\253/2023-03-14-2wk-2_files/figure-html/db8d65e9-6245-48bf-ba03-60cb2be9a3b1-1-1ef07e05-c45c-44c2-8d5a-03992cc26016.png\"\u001b[m\n",
      "\t\u001b[31mdeleted:    \"../_site/posts/1. \\341\\204\\216\\341\\205\\263\\341\\206\\250\\341\\204\\203\\341\\205\\251\\341\\204\\205\\341\\205\\251\\341\\206\\253/2023-03-16-3wk-1.html\"\u001b[m\n",
      "\t\u001b[31mdeleted:    \"../_site/posts/1. \\341\\204\\216\\341\\205\\263\\341\\206\\250\\341\\204\\203\\341\\205\\251\\341\\204\\205\\341\\205\\251\\341\\206\\253/2023-03-21-3wk-2.html\"\u001b[m\n",
      "\t\u001b[31mdeleted:    \"../_site/posts/1. \\341\\204\\216\\341\\205\\263\\341\\206\\250\\341\\204\\203\\341\\205\\251\\341\\204\\205\\341\\205\\251\\341\\206\\253/2023-03-23-4wk-1.html\"\u001b[m\n",
      "\t\u001b[31mdeleted:    \"../_site/posts/1. \\341\\204\\216\\341\\205\\263\\341\\206\\250\\341\\204\\203\\341\\205\\251\\341\\204\\205\\341\\205\\251\\341\\206\\253/2023-03-23-4wk-1_files/figure-html/0fc30545-4697-4e3e-a19c-9b759dbb92ea-1-cf2e33ce-3af7-4926-859a-98e92811920c.png\"\u001b[m\n",
      "\t\u001b[31mdeleted:    \"../_site/posts/1. \\341\\204\\216\\341\\205\\263\\341\\206\\250\\341\\204\\203\\341\\205\\251\\341\\204\\205\\341\\205\\251\\341\\206\\253/2023-03-23-4wk-1_files/figure-html/278c4061-b34a-4d47-84e9-81c3adf3f554-1-image.png\"\u001b[m\n",
      "\t\u001b[31mdeleted:    \"../_site/posts/1. \\341\\204\\216\\341\\205\\263\\341\\206\\250\\341\\204\\203\\341\\205\\251\\341\\204\\205\\341\\205\\251\\341\\206\\253/2023-03-23-4wk-1_files/figure-html/4ac7a9a0-6ab5-4587-b7f4-5446bb59d5d9-1-image.png\"\u001b[m\n",
      "\t\u001b[31mdeleted:    \"../_site/posts/1. \\341\\204\\216\\341\\205\\263\\341\\206\\250\\341\\204\\203\\341\\205\\251\\341\\204\\205\\341\\205\\251\\341\\206\\253/2023-03-23-4wk-1_files/figure-html/55f5f1af-731b-41a3-a53a-0835fa8f41dc-1-2e3b6cdd-8339-4938-9606-9ceb390e6459.png\"\u001b[m\n",
      "\t\u001b[31mdeleted:    \"../_site/posts/1. \\341\\204\\216\\341\\205\\263\\341\\206\\250\\341\\204\\203\\341\\205\\251\\341\\204\\205\\341\\205\\251\\341\\206\\253/2023-03-23-4wk-1_files/figure-html/66c3c6a1-6772-4605-8302-b8eaf36810f5-1-image.png\"\u001b[m\n",
      "\t\u001b[31mdeleted:    \"../_site/posts/1. \\341\\204\\216\\341\\205\\263\\341\\206\\250\\341\\204\\203\\341\\205\\251\\341\\204\\205\\341\\205\\251\\341\\206\\253/2023-03-28-4wk-2.html\"\u001b[m\n",
      "\t\u001b[31mdeleted:    \"../_site/posts/1. \\341\\204\\216\\341\\205\\263\\341\\206\\250\\341\\204\\203\\341\\205\\251\\341\\204\\205\\341\\205\\251\\341\\206\\253/2023-03-28-4wk-2_files/figure-html/6910c6e2-d1ce-49f4-81fa-761d80d95671-1-72ca667e-06cc-4236-98d9-6fdd8cf5e190.png\"\u001b[m\n",
      "\t\u001b[31mdeleted:    \"../_site/posts/1. \\341\\204\\216\\341\\205\\263\\341\\206\\250\\341\\204\\203\\341\\205\\251\\341\\204\\205\\341\\205\\251\\341\\206\\253/2023-03-28-4wk-2_files/figure-html/fee84cd4-4f43-49ca-b7f2-ffe47ff9fc97-1-12848e5a-dc22-4b3c-8694-ffafcde27d2b.png\"\u001b[m\n",
      "\t\u001b[31mdeleted:    \"../_site/posts/1. \\341\\204\\216\\341\\205\\263\\341\\206\\250\\341\\204\\203\\341\\205\\251\\341\\204\\205\\341\\205\\251\\341\\206\\253/2023-03-29-hw1.html\"\u001b[m\n",
      "\t\u001b[31mdeleted:    \"../_site/posts/2. \\341\\204\\206\\341\\205\\241\\341\\204\\217\\341\\205\\251\\341\\204\\221\\341\\205\\263\\341\\204\\216\\341\\205\\246\\341\\204\\213\\341\\205\\265\\341\\206\\253/2023-03-30-5wk-1.html\"\u001b[m\n",
      "\t\u001b[31mdeleted:    \"../_site/posts/2. \\341\\204\\206\\341\\205\\241\\341\\204\\217\\341\\205\\251\\341\\204\\221\\341\\205\\263\\341\\204\\216\\341\\205\\246\\341\\204\\213\\341\\205\\265\\341\\206\\253/2023-03-30-5wk-1_files/figure-html/1ae49750-8166-46b8-a81a-d52b0402a54b-1-6ca8ec20-c415-4bb7-b2b1-ff941fa33047.png\"\u001b[m\n",
      "\t\u001b[31mdeleted:    \"../_site/posts/2. \\341\\204\\206\\341\\205\\241\\341\\204\\217\\341\\205\\251\\341\\204\\221\\341\\205\\263\\341\\204\\216\\341\\205\\246\\341\\204\\213\\341\\205\\265\\341\\206\\253/2023-03-30-5wk-1_files/figure-html/cell-22-output-1.png\"\u001b[m\n",
      "\t\u001b[31mdeleted:    \"../_site/posts/2. \\341\\204\\206\\341\\205\\241\\341\\204\\217\\341\\205\\251\\341\\204\\221\\341\\205\\263\\341\\204\\216\\341\\205\\246\\341\\204\\213\\341\\205\\265\\341\\206\\253/2023-03-30-5wk-1_files/figure-html/cell-23-output-1.png\"\u001b[m\n",
      "\t\u001b[31mdeleted:    \"../_site/posts/2. \\341\\204\\206\\341\\205\\241\\341\\204\\217\\341\\205\\251\\341\\204\\221\\341\\205\\263\\341\\204\\216\\341\\205\\246\\341\\204\\213\\341\\205\\265\\341\\206\\253/2023-03-30-5wk-1_files/figure-html/cell-24-output-1.png\"\u001b[m\n",
      "\t\u001b[31mdeleted:    \"../_site/posts/2. \\341\\204\\206\\341\\205\\241\\341\\204\\217\\341\\205\\251\\341\\204\\221\\341\\205\\263\\341\\204\\216\\341\\205\\246\\341\\204\\213\\341\\205\\265\\341\\206\\253/2023-03-30-5wk-1_files/figure-html/cell-25-output-1.png\"\u001b[m\n",
      "\t\u001b[31mdeleted:    \"../_site/posts/2. \\341\\204\\206\\341\\205\\241\\341\\204\\217\\341\\205\\251\\341\\204\\221\\341\\205\\263\\341\\204\\216\\341\\205\\246\\341\\204\\213\\341\\205\\265\\341\\206\\253/2023-03-30-5wk-1_files/figure-html/cell-30-output-1.png\"\u001b[m\n",
      "\t\u001b[31mmodified:   ../_site/posts/2023-03-07-1wk-2.html\u001b[m\n",
      "\t\u001b[31mmodified:   ../_site/search.json\u001b[m\n",
      "\t\u001b[31mmodified:   ../_site/site_libs/bootstrap/bootstrap.min.css\u001b[m\n",
      "\t\u001b[31mmodified:   .ipynb_checkpoints/2023-04-10-6wk-2-mid-checkpoint.ipynb\u001b[m\n",
      "\t\u001b[31mmodified:   2023-04-10-6wk-2-mid.ipynb\u001b[m\n",
      "\n",
      "Untracked files:\n",
      "  (use \"git add <file>...\" to include in what will be committed)\n",
      "\t\u001b[31m\"../_site/posts/1. \\354\\270\\241\\353\\217\\204\\353\\241\\240/\"\u001b[m\n",
      "\t\u001b[31m\"../_site/posts/2. \\353\\247\\210\\354\\275\\224\\355\\224\\204\\354\\262\\264\\354\\235\\270/\"\u001b[m\n",
      "\t\u001b[31m../_site/posts/2023-04-10-6wk-2-mid.html\u001b[m\n",
      "\t\u001b[31m../_site/sitemap.xml\u001b[m\n",
      "\n",
      "no changes added to commit (use \"git add\" and/or \"git commit -a\")\n",
      "Everything up-to-date\n"
     ]
    }
   ],
   "source": [
    "!git add. \n",
    "!git commit -m .\n",
    "!git push\n",
    "!quarto publish --no-browser --no-prompt"
   ]
  },
  {
   "cell_type": "code",
   "execution_count": null,
   "id": "b593bffd-1cad-4192-87e5-6281217ed2b0",
   "metadata": {},
   "outputs": [],
   "source": []
  }
 ],
 "metadata": {
  "kernelspec": {
   "display_name": "Python 3",
   "language": "python",
   "name": "python3"
  },
  "language_info": {
   "codemirror_mode": {
    "name": "ipython",
    "version": 3
   },
   "file_extension": ".py",
   "mimetype": "text/x-python",
   "name": "python",
   "nbconvert_exporter": "python",
   "pygments_lexer": "ipython3",
   "version": "3.8.16"
  }
 },
 "nbformat": 4,
 "nbformat_minor": 5
}
