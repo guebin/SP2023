{
 "cells": [
  {
   "cell_type": "raw",
   "id": "fba306a0-1535-46f0-93af-01b77df5295b",
   "metadata": {},
   "source": [
    "---\n",
    "title: \"6wk-2: 중간고사\"\n",
    "author: \"최규빈\"\n",
    "date: \"04/10/2023\"\n",
    "---"
   ]
  },
  {
   "cell_type": "markdown",
   "id": "60077981-1569-41fa-8131-a063d0a92994",
   "metadata": {},
   "source": [
    "# 배점 -- HW1와 배점다름 "
   ]
  },
  {
   "cell_type": "markdown",
   "id": "3002b830-aae4-4768-9194-6edbdf3ded0f",
   "metadata": {},
   "source": [
    "|문항|점수|\n",
    "|:-:|:-:|\n",
    "|1-(1)|10|\n",
    "|1-(2)|10|\n",
    "|2-(1)|5|\n",
    "|2-(2)|5|\n",
    "|2-(3)|10|\n",
    "|2-(4)|20|\n",
    "|3-(1)|10|\n",
    "|3-(2)|15|\n",
    "|3-(3)|15|"
   ]
  },
  {
   "cell_type": "markdown",
   "id": "4b031dbe-d897-43f3-8a76-b7d0e4827b3d",
   "metadata": {},
   "source": [
    "# `1`. Cardinality"
   ]
  },
  {
   "cell_type": "markdown",
   "id": "91464302-cfb3-4e54-b557-c6706cc96e81",
   "metadata": {},
   "source": [
    "`(1)` $\\mathbb{Q}$의 cardinality가 $\\aleph_0$임을 증명하라. "
   ]
  },
  {
   "cell_type": "markdown",
   "id": "7e15bd8a-b8c1-475f-9a12-319a9a9a0330",
   "metadata": {},
   "source": [
    "`(풀이)` 생략 "
   ]
  },
  {
   "cell_type": "markdown",
   "id": "8ac13718-08e4-4bad-a640-c95fd32ec79d",
   "metadata": {},
   "source": [
    "`(2)` $\\mathbb{R}$의 cardinality가 $\\aleph_0$이 아님을 보여라. "
   ]
  },
  {
   "cell_type": "markdown",
   "id": "9e39444f-251e-4c39-a161-411cba2f2adf",
   "metadata": {},
   "source": [
    "`(풀이)` 생략 "
   ]
  },
  {
   "cell_type": "markdown",
   "id": "eda6799b-adac-4de2-994b-20f1dde36241",
   "metadata": {},
   "source": [
    "# `2`. $\\sigma$-field"
   ]
  },
  {
   "cell_type": "markdown",
   "id": "57bdac37-5b03-46f6-b769-bf0002496822",
   "metadata": {},
   "source": [
    "`(1)` $\\Omega=\\{1,2,3,4,5,6\\}$일 때, 다음 중 시그마필드의 정의를 만족하는 집합을 모두 골라라. \n",
    "\n",
    "1. ${\\cal F}=\\{\\emptyset, \\Omega\\}$\n",
    "2. ${\\cal F}=\\{\\emptyset, \\{1\\},\\{2,3,4,5,6\\},\\Omega\\}$\n",
    "3. ${\\cal F}=\\{\\emptyset, \\{1,2,3\\}, \\{4,5,6\\}, \\Omega\\}$\n",
    "4. ${\\cal F}=2^\\Omega$"
   ]
  },
  {
   "cell_type": "markdown",
   "id": "9522c44c-74bf-4db3-8821-4df24eab4d2d",
   "metadata": {},
   "source": [
    "**note**: 답만 써도 무방."
   ]
  },
  {
   "cell_type": "markdown",
   "id": "1221fb08-5985-4214-a39f-faea579264bf",
   "metadata": {},
   "source": [
    "**note**: 정확하게 모두 고를 경우만 정답으로 인정. "
   ]
  },
  {
   "cell_type": "markdown",
   "id": "600733ec-6d19-4114-900a-737eb15e4aea",
   "metadata": {},
   "source": [
    "`(2)` $\\Omega=\\{1,2,3,4,5,6\\}$ 일 때, \n",
    "\n",
    "$${\\cal A}=\\{\\{1,2,3\\},\\{4,5,6\\}\\}$$ \n",
    "\n",
    "이라고 하자. $\\sigma({\\cal A})$를 구하여라. "
   ]
  },
  {
   "cell_type": "markdown",
   "id": "2038bb22-4281-4291-b70c-cc0fc1ff9397",
   "metadata": {},
   "source": [
    "**note**: 답만 써도 무방."
   ]
  },
  {
   "cell_type": "markdown",
   "id": "5af8349a-5724-4993-b139-4abef05ddb34",
   "metadata": {},
   "source": [
    "`(3)` $\\Omega=\\mathbb{N}$ 일 때, \n",
    "\n",
    "- ${\\cal A}=\\{\\{n\\}: n \\in \\mathbb{N}\\}$\n",
    "- ${\\cal F} = \\sigma({\\cal A})$ \n",
    "\n",
    "이라고 하자. 아래의 물음에 답하여라. \n",
    "\n",
    "1. $\\{2\\} \\in {\\cal F}$ 인가? \n",
    "2. $\\mathbb{N} \\in {\\cal F}$ 인가? \n",
    "3. $\\emptyset \\in {\\cal F}$ 인가? \n",
    "4. $\\{2n: n\\in \\mathbb{N}\\} \\in {\\cal F}$ 인가? \n",
    "5. $\\mathbb{Z} \\in {\\cal F}$ 인가? "
   ]
  },
  {
   "cell_type": "markdown",
   "id": "de0bd397-5cdd-46a0-8dad-bfb7fe47a403",
   "metadata": {},
   "source": [
    "**note:** 답만 써도 무방."
   ]
  },
  {
   "cell_type": "markdown",
   "id": "676702ef-b3e9-4343-a740-eca0d73eb092",
   "metadata": {},
   "source": [
    "**note:** 모두 맞출 경우만 정답으로 인정 "
   ]
  },
  {
   "cell_type": "markdown",
   "id": "e0d47a74-f1db-441d-b849-6eca4fd54d4c",
   "metadata": {},
   "source": [
    "`(4)` $\\Omega=\\mathbb{R}$ 일 때, \n",
    "\n",
    "- ${\\cal A}=\\{(a,b): -\\infty <a< b< \\infty\\}$\n",
    "- ${\\cal F}=\\sigma({\\cal A})$\n",
    "\n",
    "이라고 하자. 아래의 물음에 답하여라. \n",
    "\n",
    "1. $\\{0\\} \\in {\\cal F}$ 인가? \n",
    "2. $\\mathbb{R} \\in {\\cal F}$ 인가? \n",
    "3. $\\mathbb{Q} \\in {\\cal F}$ 인가? \n",
    "4. $\\mathbb{R} - \\mathbb{Q} \\in {\\cal F}$ 인가? \n",
    "5. $(1,3] \\in {\\cal F}$ 인가? \n",
    "6. $[1,3] \\in {\\cal F}$ 인가? \n",
    "7. $[1,3) \\in {\\cal F}$ 인가? \n",
    "8. $[1,3) \\cup (3,5] \\in {\\cal F}$ 인가? "
   ]
  },
  {
   "cell_type": "markdown",
   "id": "898520db-fe4a-4c9f-9a94-cf95414b6447",
   "metadata": {},
   "source": [
    "**note**: 답만 쓸 경우 정답으로 인정하지 않음, 답에 대한 근거를 간단히 서술할 것"
   ]
  },
  {
   "cell_type": "markdown",
   "id": "855bf5ec-d10c-456d-99aa-79554ce1a8a2",
   "metadata": {},
   "source": [
    "**note:** 근거는 수식으로 쓰지 않아도 무방함. "
   ]
  },
  {
   "cell_type": "markdown",
   "id": "ab3e188f-162d-4474-8d73-eebde468d727",
   "metadata": {},
   "source": [
    "(답안예시) \n",
    "\n",
    "$(1,2) \\cup (3,4) \\in {\\cal F}$ 인가? \n",
    "\n",
    "- 그렇다. $(1,2)$와 $(3,4)$는 모두 ${\\cal F}$의 원소이고 시그마필드는 합집합에 닫혀있으므로. "
   ]
  },
  {
   "cell_type": "markdown",
   "id": "dd4cb6c2-88ce-4eb0-aaa9-06fd84bdc8c1",
   "metadata": {},
   "source": [
    "**note:** 시그마필드가 교집합, 차집합등에 닫혀있다는 성질은 증명없이 이용해도 무방함. "
   ]
  },
  {
   "cell_type": "markdown",
   "id": "26540377-7ce9-4214-b3e3-e440b081bb88",
   "metadata": {},
   "source": [
    "# `3`. 확률과 확률변수 "
   ]
  },
  {
   "cell_type": "markdown",
   "id": "73829dc5-2d25-4cb3-ad0e-49a8ec2695d7",
   "metadata": {},
   "source": [
    "`(1)` 아래와 같은 잴 수 있는 공간 $(\\Omega, {\\cal F})$를 고려하자. \n",
    "\n",
    "- $\\Omega=\\{a,b,c,d\\}$\n",
    "- ${\\cal F}=2^\\Omega$"
   ]
  },
  {
   "cell_type": "markdown",
   "id": "668bb6cb-cc78-4c71-8d3e-03b66e5b0bfa",
   "metadata": {},
   "source": [
    "아래와 같은 확률변수 $X: \\Omega \\to \\{1,2,3,4\\}$ 를 고려하자. 다음 중 올바른 표현은? "
   ]
  },
  {
   "cell_type": "markdown",
   "id": "fc7ed833-faf0-4c73-8347-8733fdbabebf",
   "metadata": {},
   "source": [
    "1. $X(a)$ \n",
    "2. $X(\\{a\\})$\n",
    "3. $P(a)$\n",
    "4. $P(\\{a\\})$\n",
    "5. $P(X=1)$\n",
    "6. $X = \\begin{cases} 1 & w.p.~\\frac{1}{2} \\\\ 2 & w.p. ~\\frac{1}{6} \\\\ 3 & w.p. ~\\frac{1}{6} \\\\ 4 & w.p. ~\\frac{1}{6} \\end{cases}$"
   ]
  },
  {
   "cell_type": "markdown",
   "id": "423d30a3-2dd0-48ac-b9b3-4e212441d977",
   "metadata": {},
   "source": [
    "**note:** 답만 써도 무방. "
   ]
  },
  {
   "cell_type": "markdown",
   "id": "6421de6b-8a10-40fc-9e82-614dde6a0896",
   "metadata": {},
   "source": [
    "**note:** 모두 맞출 경우만 정답으로 인정 "
   ]
  },
  {
   "cell_type": "markdown",
   "id": "71e50759-c1dd-47fb-b366-0161dd2f1337",
   "metadata": {},
   "source": [
    "`(2)` 두개의 잴 수 있는 공간 $(\\Omega, {\\cal F})$와 $(S,{\\cal S})$를 고려하자. 단, \n",
    "\n",
    "- $\\Omega=\\mathbb{R}$,\n",
    "- ${\\cal F} =\\sigma({\\cal A})$ where ${\\cal A} = \\{\\mathbb{Q}\\}$,\n",
    "- $S = \\{0,1\\}$,\n",
    "- ${\\cal S} = 2^{S}$. "
   ]
  },
  {
   "cell_type": "markdown",
   "id": "0e357c00-5da9-417b-b18a-bb4c740f689c",
   "metadata": {},
   "source": [
    "아래와 같은 함수 $X:\\Omega \\to S$을 고려하라. "
   ]
  },
  {
   "cell_type": "markdown",
   "id": "72376699-9653-4c6f-a0d5-6d9179fa6378",
   "metadata": {},
   "source": [
    "$$X(\\omega) = \\begin{cases}\n",
    "0 & \\omega \\in \\mathbb{Q}\\\\\n",
    "1 & \\omega \\in \\mathbb{R} - \\mathbb{Q}\n",
    "\\end{cases}$$"
   ]
  },
  {
   "cell_type": "markdown",
   "id": "d28ff890-b5fd-4d73-b529-3a80e6c93f28",
   "metadata": {},
   "source": [
    "$X$는 $(\\Omega,{\\cal F})$에서의 확률변수인가? (즉 $X$는 $(\\Omega,{\\cal F})\\to(S,{\\cal S})$인 가측함수인가?)"
   ]
  },
  {
   "cell_type": "markdown",
   "id": "2ad60033-2bf8-4a31-a4f2-a0a7d0d26861",
   "metadata": {},
   "source": [
    "**note:** 답만 쓸 경우 인정하지 않음. 근거를 쓸 것. "
   ]
  },
  {
   "cell_type": "markdown",
   "id": "7b3e689a-932a-406e-932e-d9f75256eeb8",
   "metadata": {},
   "source": [
    "**note**: ${\\cal A}=\\mathbb{Q}$ 가 아님을 유의하라. 즉 ${\\cal A}$의 원소수는 1개이다. (${\\cal A} = \\mathbb{Q}$ 일 경우 원소수는 유리수의 숫자만큼 존재함)"
   ]
  },
  {
   "cell_type": "markdown",
   "id": "fcd7eec7-3234-4965-b38a-a617ff084f02",
   "metadata": {},
   "source": [
    "`(3)` 두개의 잴 수 있는 공간 $(\\Omega, {\\cal F})$와 $(S,{\\cal S})$를 고려하자. 단, \n",
    "\n",
    "- $\\Omega=\\mathbb{R}$,\n",
    "- ${\\cal F} =\\sigma({\\cal A})$ where ${\\cal A} = \\{\\mathbb{Q}\\}$,\n",
    "- $S = \\{0,1\\}$,\n",
    "- ${\\cal S} = 2^S$."
   ]
  },
  {
   "cell_type": "markdown",
   "id": "315dc8d5-5f72-45f7-9541-7407c67b3d35",
   "metadata": {},
   "source": [
    "아래와 같은 함수 $X:\\Omega \\to S$을 고려하라. "
   ]
  },
  {
   "cell_type": "markdown",
   "id": "d3dc7551-4863-4a4d-a3e7-9224ed60d005",
   "metadata": {},
   "source": [
    "$$X(\\omega) = \\begin{cases}\n",
    "0 & \\omega =0\\\\\n",
    "1 & \\omega \\neq 0\n",
    "\\end{cases}$$"
   ]
  },
  {
   "cell_type": "markdown",
   "id": "11f2e644-14fc-46a3-9f31-bb909428abf5",
   "metadata": {},
   "source": [
    "$X$는 $(\\Omega,{\\cal F})$에서의 확률변수인가? (즉 $X$는 $(\\Omega,{\\cal F})\\to(S,{\\cal S})$인 가측함수인가?)"
   ]
  },
  {
   "cell_type": "markdown",
   "id": "3caf4973-a733-45f5-ace4-18a41aa20ef7",
   "metadata": {},
   "source": [
    "**note:** 답만 쓸 경우 인정하지 않음. 근거를 쓸 것. "
   ]
  }
 ],
 "metadata": {
  "kernelspec": {
   "display_name": "Python 3",
   "language": "python",
   "name": "python3"
  },
  "language_info": {
   "codemirror_mode": {
    "name": "ipython",
    "version": 3
   },
   "file_extension": ".py",
   "mimetype": "text/x-python",
   "name": "python",
   "nbconvert_exporter": "python",
   "pygments_lexer": "ipython3",
   "version": "3.8.16"
  }
 },
 "nbformat": 4,
 "nbformat_minor": 5
}
