{
 "cells": [
  {
   "cell_type": "raw",
   "id": "63637203",
   "metadata": {},
   "source": [
    "---\n",
    "title: \"2wk-1: 측도론 intro\"\n",
    "author: \"최규빈\"\n",
    "date: \"03/01/2023\"\n",
    "---"
   ]
  },
  {
   "cell_type": "markdown",
   "id": "aa55482a-b582-4901-8cc7-0cb4961ebb7c",
   "metadata": {
    "slideshow": {
     "slide_type": "slide"
    }
   },
   "source": [
    "# 예제1: 동전 "
   ]
  },
  {
   "cell_type": "markdown",
   "id": "ac1359cc-b8f2-4b3c-85b3-03fd24dff87c",
   "metadata": {
    "slideshow": {
     "slide_type": "fragment"
    }
   },
   "source": [
    "`-` $\\Omega =\\{H,T\\}$: sample space "
   ]
  },
  {
   "cell_type": "markdown",
   "id": "04116b84-3427-4bc0-8d28-338dfd06ecee",
   "metadata": {
    "slideshow": {
     "slide_type": "fragment"
    }
   },
   "source": [
    "`-` $P(\\{H\\})=P(\\{T\\})=\\frac{1}{2}$: prob"
   ]
  },
  {
   "cell_type": "markdown",
   "id": "afa5ca5e",
   "metadata": {
    "slideshow": {
     "slide_type": "fragment"
    }
   },
   "source": [
    "`-` 질문: $\\Omega$의 임의의(=모든) 부분 집합 $\\Omega^*$에 대하여 $P(\\Omega^*)$를 **모순없이** 정의할 수 있을까? "
   ]
  },
  {
   "cell_type": "markdown",
   "id": "9fb1f8d2-bb31-4fc2-be52-86027256fe11",
   "metadata": {
    "slideshow": {
     "slide_type": "fragment"
    }
   },
   "source": [
    "- 당연한거 아냐?\n",
    "- 이게 왜 안돼?"
   ]
  },
  {
   "cell_type": "markdown",
   "id": "3dd2f79a",
   "metadata": {
    "slideshow": {
     "slide_type": "slide"
    }
   },
   "source": [
    "`-` 질문에 대한 대답"
   ]
  },
  {
   "cell_type": "markdown",
   "id": "7d0a654c-743a-4894-9b61-b1cd2782c669",
   "metadata": {
    "slideshow": {
     "slide_type": "fragment"
    }
   },
   "source": [
    "1. $\\Omega$의 부분집합: $\\emptyset, \\Omega, \\{H\\},\\{T\\}$ \n",
    "2. $P(\\{H\\})=\\frac{1}{2}$, $P(\\{T\\})=\\frac{1}{2}$, $P(\\Omega)=P(\\{H,T\\})=1$, $P(\\emptyset)=0$"
   ]
  },
  {
   "cell_type": "markdown",
   "id": "8981eafc",
   "metadata": {
    "slideshow": {
     "slide_type": "fragment"
    }
   },
   "source": [
    "`-` **모순없이**의 의미? "
   ]
  },
  {
   "cell_type": "markdown",
   "id": "b2f4835e-c42c-461a-9f76-4e1a6fe8b1cf",
   "metadata": {
    "slideshow": {
     "slide_type": "fragment"
    }
   },
   "source": [
    "- 우리가 상식적으로 확률에 적용가능한 어떠한 연산들이 있음. (확률의 공리 + 기본성질) // [네이버검색](https://deep-learning-study.tistory.com/40#:~:text=%EA%B3%B5%EB%A6%AC%201%EC%9D%80%20%EC%96%B4%EB%96%A4%20%EC%8B%A4%ED%97%98,%EA%B3%BC%20%EA%B0%99%EC%9D%8C%EC%9D%84%20%EC%9D%98%EB%AF%B8%ED%95%A9%EB%8B%88%EB%8B%A4.)\n",
    "- 이러한 연산을 적용해도 상식적인 수준에서 납득이 가야함 "
   ]
  },
  {
   "cell_type": "markdown",
   "id": "eb7f75fa",
   "metadata": {
    "slideshow": {
     "slide_type": "slide"
    }
   },
   "source": [
    "**(상식적인 연산 적용 예시1)**\n",
    "\n",
    "$\\{H\\} \\subset \\Omega \\Rightarrow P(\\{H\\})<P(\\Omega)$"
   ]
  },
  {
   "cell_type": "markdown",
   "id": "de9c4d07-90af-4be9-88e4-3c89df2f370c",
   "metadata": {
    "slideshow": {
     "slide_type": "fragment"
    }
   },
   "source": [
    "- 집합 $\\{H\\}$은 집합 $\\Omega$보다 작은 집합임 \n",
    "- 상식적으로 작은집합이 일어날 확률이 큰 집합이 일어날 확률보다 클 수 없음\n",
    "- 동전 예제의 경우 모든 $A,B \\subset \\Omega$ 에 대하여, $A\\subset B$ 이라면 $P(A) < P(B)$ 가 성립함 "
   ]
  },
  {
   "cell_type": "markdown",
   "id": "087c21fd",
   "metadata": {
    "slideshow": {
     "slide_type": "slide"
    }
   },
   "source": [
    "**(상식적인 연산 적용 예시2)**\n",
    "\n",
    "$\\{H\\} \\cap \\{T\\} = \\emptyset \\Rightarrow P(\\{H\\} \\cup \\{T\\})=P(\\{H\\}) + P(\\{T\\}) =1$ "
   ]
  },
  {
   "cell_type": "markdown",
   "id": "7b793945-fb40-44fd-999c-40a7543a0745",
   "metadata": {
    "slideshow": {
     "slide_type": "fragment"
    }
   },
   "source": [
    "- 우리의 상식에 따르면 $A,B$가 서로소인 사건이라면 $P(A)+P(B)$이어야 함.^[확률의 공리]\n",
    "- 이 예제는 실제로 그러함. \n",
    "- 사실 이 예제의 경우 $P(\\{H\\} \\cup \\{T\\})=P(\\Omega)=1$ 와 같이 계산할 수도 있음. \n",
    "- 하지만 어떠한 방식으로 계산해도 **모순이 없음**. "
   ]
  },
  {
   "cell_type": "markdown",
   "id": "5b46d2bb-b319-49fb-9015-5dba8bd49de4",
   "metadata": {
    "slideshow": {
     "slide_type": "slide"
    }
   },
   "source": [
    "# 예제2: 바늘이 하나만 있는 시계"
   ]
  },
  {
   "cell_type": "markdown",
   "id": "01fb1467",
   "metadata": {
    "slideshow": {
     "slide_type": "fragment"
    }
   },
   "source": [
    "`-` $\\Omega  = [0,2\\pi)$\n",
    "\n",
    "- 시계바늘을 돌려서 나오는 각도를 재는일 $\\Leftrightarrow$ $[0,2\\pi)$사이의 숫자중에 하나를 뽑는 일 "
   ]
  },
  {
   "cell_type": "markdown",
   "id": "27607af0-70d3-4eee-9d61-569a4dfd9ba5",
   "metadata": {
    "slideshow": {
     "slide_type": "fragment"
    }
   },
   "source": [
    "`-` 질문: 바늘을 랜덤으로 돌렸을때 12시-6시 사이에 바늘이 있을 확률? $\\frac{1}{2}$\n",
    "\n",
    "- $\\Omega^* = [0,\\pi)$\n",
    "- $P(\\Omega^*)= \\frac{1}{2}$"
   ]
  },
  {
   "cell_type": "markdown",
   "id": "8223bb88",
   "metadata": {
    "slideshow": {
     "slide_type": "slide"
    }
   },
   "source": [
    "`-` 계산하는 방법? 아래와 같이 계산하면 가능!!\n",
    "\n",
    "$$\\forall \\Omega^* \\subset \\Omega, \\quad P(\\Omega^*)=\\frac{m(\\Omega^*)}{m(\\Omega)}$$\n",
    "\n",
    "단 여기에서 $m$은 구간의 길이를 재는 함수라고 하자. "
   ]
  },
  {
   "cell_type": "markdown",
   "id": "5accbdc5-3be1-49e3-aa26-9178fca96c82",
   "metadata": {
    "slideshow": {
     "slide_type": "fragment"
    }
   },
   "source": [
    "**연습:** $m$의 사용 \n",
    "\n",
    "- $m(\\Omega)=m\\big([0,2\\pi)\\big)=2\\pi$\n",
    "- $m(\\Omega^*) = m\\big([0,\\pi)\\big)= \\pi$"
   ]
  },
  {
   "cell_type": "markdown",
   "id": "128611ed-edd0-4ae8-9543-0fd9990e8d73",
   "metadata": {
    "slideshow": {
     "slide_type": "slide"
    }
   },
   "source": [
    "`-` 위와 같은 방식으로 확률을 정의하면 잘 정의될까? 이게 쉽지 않음. 왜냐하면 확률을 잘 정의하기 위해서는 \n",
    "\n",
    "> $\\Omega$의 모든 부분집합 $\\Omega^*$에 대하여 $P(\\Omega^*)$를 모순없이\n",
    "\n",
    "정의할 수 있어야 하는데, 이게 쉬운일이 아님. "
   ]
  },
  {
   "cell_type": "markdown",
   "id": "d2f9893d",
   "metadata": {
    "slideshow": {
     "slide_type": "slide"
    }
   },
   "source": [
    "`(질문0)` 그냥 몸풀기 용 질문 \n",
    "\n",
    "> $\\Omega^*=\\emptyset$ 일 확률이 얼마인가? "
   ]
  },
  {
   "cell_type": "markdown",
   "id": "526e529f-49a1-440f-b5d8-601c5f1bbd8d",
   "metadata": {
    "slideshow": {
     "slide_type": "fragment"
    }
   },
   "source": [
    "(답변)\n",
    "\n",
    "- 0 이야^[이걸 좀 더 엄밀하게 따질수도 있는데 일단 직관적으로 0이라 생각하고 넘어가자]"
   ]
  },
  {
   "cell_type": "markdown",
   "id": "fc17930d",
   "metadata": {
    "slideshow": {
     "slide_type": "slide"
    }
   },
   "source": [
    "`(질문1)` 첫번째 도전적인 질문\n",
    "\n",
    "> $\\Omega^* =\\{0\\}$일 확률이 얼마인가?"
   ]
  },
  {
   "cell_type": "markdown",
   "id": "0550612d-2ca4-45fb-a3d3-912274765279",
   "metadata": {
    "slideshow": {
     "slide_type": "fragment"
    }
   },
   "source": [
    "(답변)\n",
    "\n",
    "- 즉 바늘침이 정확하게 12시를 가르킬 확률이 얼마냐는 것\n",
    "- 한 점으로 이루어진 집합 $\\{0\\}$은 분명히 $\\Omega=[0,2\\pi)$의 부분집합 이므로 앞서 논의한대로라면 이러한 집합에 대한 확률을 **명확하게, 모순없이** 정의할 수 있어야 함\n",
    "- 많은 사람들이 이 질문에 대한 답은 $0$ 이라고 알고 있고 그 이유를 \"점의 길이는 0 이니까\" 라고 이해하고 있음.^[이해 안되면 약속이라고 생각하자.] \n",
    "\n",
    "*답변이 사실 좀 찝찝해. 바늘침이 정확하게 12시를 가르키는 것은 우리가 분명 하루에 한번씩은 경험하는 사건임. 그런데 그 사건이 일어날 확률은 0이다?*^[자연어에서는 \"확률=0\" 와 \"불가능\" 은 동일하지만 여기서는 아니다.]"
   ]
  },
  {
   "cell_type": "markdown",
   "id": "cd149893",
   "metadata": {
    "slideshow": {
     "slide_type": "slide"
    }
   },
   "source": [
    "`(참견질문)` 생각해보니까 이런게 있었잖아?\n",
    "\n",
    "$$A \\subset B \\Rightarrow P(A)<P(B)$$\n",
    "\n",
    "그런데 $\\emptyset \\subset \\{0\\}$ 인데 $P(\\emptyset)=P(\\{0\\})$ 이다..? "
   ]
  },
  {
   "cell_type": "markdown",
   "id": "b4cee1fc-452c-4070-9ee6-446c1dee73f3",
   "metadata": {
    "slideshow": {
     "slide_type": "fragment"
    }
   },
   "source": [
    "(답변)\n",
    "\n",
    "- 원래식 $A \\subset B \\Rightarrow P(A)\\leq P(B)$ 이 성립함\n",
    "- 즉 $A$가 $B$의 진 부분집합이더라도 $P(A)=P(B)$인 경우가 존재함. \n"
   ]
  },
  {
   "cell_type": "markdown",
   "id": "31702f94",
   "metadata": {
    "slideshow": {
     "slide_type": "slide"
    }
   },
   "source": [
    "`(질문2)` 두번째 질문은 아래와 같다. \n",
    "\n",
    "> 그렇다면 사건 $\\{0,\\pi\\}$가 일어날 확률은 얼마인가?"
   ]
  },
  {
   "cell_type": "markdown",
   "id": "9e994887-9836-4a77-b8a2-d6e615ccf6f9",
   "metadata": {
    "slideshow": {
     "slide_type": "fragment"
    }
   },
   "source": [
    "(답변)\n",
    "\n",
    "- 질문을 다시 풀어쓰면 바늘침이 정확하게 12시를 가르키거나 혹은 정확하게 6시를 가르킬 확률이 얼마냐는 것\n",
    "- 따라서 이 질문에 대한 대답은 $0+0=0$ 이므로 $0$이라고 주장할 수 있음."
   ]
  },
  {
   "cell_type": "markdown",
   "id": "78712d7c",
   "metadata": {
    "slideshow": {
     "slide_type": "slide"
    }
   },
   "source": [
    "`(질문3)` 세번째 질문은 아래와 같다.\n",
    "\n",
    "> 구간 $[0,2\\pi)$는 무수히 많은 점들이 모여서 만들어지는 집합이다. 그런데 점 하나의 길이는 0이다. 0을 무수히 더해도 0이다. 그러므로 구간 $[0,2\\pi)$의 길이도 0이 되어야 한다. 이것은 모순아닌가?"
   ]
  },
  {
   "cell_type": "markdown",
   "id": "c0f7d763-d72b-49f4-8fd7-10053674fec4",
   "metadata": {
    "slideshow": {
     "slide_type": "fragment"
    }
   },
   "source": [
    "(답변)\n",
    "\n",
    "- 까다롭다. \n",
    "- $m([0,2\\pi))=0$ 임을 인정하면 전체확률은 1이어야 한다는 기본상식^[심지어 이건 확률의 공리]에 어긋나 모순이 생김.\n",
    "- 질문의 논리는 타당해보임. 이 논리의 약점은 딱히 없어보임. 굳이 약점이 있다면 \"무한\"이라는 개념?\n",
    "- 어쩔수없이 직관에 근거한 약간의 약속을 또 다시 해야할 것 같음. 예를들면 \"점들을 유한번 합치면 그냥 많은 점들이지만 무한히 합치면 이것은 선분이 된다. 따라서 길이가 생긴다.\" 와 같이.\n",
    "- 우리는 이 약속을 \"무한번의 기적\"이라고 칭하자."
   ]
  },
  {
   "cell_type": "markdown",
   "id": "44329a28-ed8c-4a73-a01d-8683d872cc59",
   "metadata": {
    "slideshow": {
     "slide_type": "slide"
    }
   },
   "source": [
    "`(질문4)` 그렇다면 아래의 질문은 어떻게 대답할 수 있을까? \n",
    "\n",
    "> $[0,\\pi)$ 에서 유리수만 뽑아낸 집합이 있다고 생각하자. 편의상 이 집합을 $\\mathbb{Q}$ 라고 하자. 이 집합은 분명히 무한개의 점을 포함하고 있다. 그렇다면 이 집합도 길이가 있는가? 있다면 얼마인가?"
   ]
  },
  {
   "cell_type": "markdown",
   "id": "b428b830-7453-4af8-8b9d-fdfffe2456d3",
   "metadata": {
    "slideshow": {
     "slide_type": "fragment"
    }
   },
   "source": [
    "(답변)\n",
    "\n",
    "- 이미 점들의 길이를 무한번 더하면 길이가 생긴다고 주장한 상태이므로 (무한번의 기적) 길이가 0이라고 주장할 수 없다. 따라서 길이가 있다고 주장해야 한다. \n",
    "- $\\pi$말고 딱히 떠오르는 수가 없는데 단순히 길이가 $\\pi$라고 주장한다면 바로 모순에 빠짐을 알 수 있다.^[왜 모순에 빠지냐면 $[0,\\pi)$에서 무리수만 뽑아낸 집합의 길이가 뭐냐고 물을경우 0이라고 말해야함]\n",
    "- 길이는 일단 0보다 커야하고 $\\pi$보다 작아야함은 자명하므로 그 사이에 있는 어떤 값이 길이라고 주장하자.^[구체적으로 어떤값인지는 모른다고 하자.]\n",
    "- 따라서 (질문4)에 대한 답은 ''구체적으로 얼마인지는 모르겠지만 길이가 분명 존재하고 그 길이는 0 보다 크고 $\\pi$ 보다는 작은 어떠한 값 $a$이다.'' 정도로 정리할 수 있다. \n",
    "- 즉 $m(\\mathbb{Q})=a$."
   ]
  },
  {
   "cell_type": "markdown",
   "id": "a1bbb971-6173-4030-96b1-10092b8a4d1f",
   "metadata": {
    "slideshow": {
     "slide_type": "slide"
    }
   },
   "source": [
    "`(질문5)` -- 외통수"
   ]
  },
  {
   "cell_type": "markdown",
   "id": "47d1a967-2f77-4d59-87b7-0945bcef232b",
   "metadata": {
    "slideshow": {
     "slide_type": "fragment"
    }
   },
   "source": [
    "질문4로부터 만들어지는 논리는 빌드업1-3으로 이어지는 콤보질문을 적절하게 대답하지 못한다. (질문이 좀 길어서 나누어서 설명합니다)"
   ]
  },
  {
   "cell_type": "markdown",
   "id": "e7b0df13",
   "metadata": {
    "slideshow": {
     "slide_type": "slide"
    }
   },
   "source": [
    "*`(빌드업1)`* -- *평행이동은 길이를 변화시키지 않아, 그렇지?*"
   ]
  },
  {
   "cell_type": "markdown",
   "id": "2086f99b-1104-45f5-9ebe-9bb22eb7f810",
   "metadata": {
    "slideshow": {
     "slide_type": "fragment"
    }
   },
   "source": [
    "- $\\mathbb{Q}$의 모든점에 $\\sqrt{2}$를 더한다. 이 점들로 집합을 만들어 $\\mathbb{Q}_{\\sqrt{2}}$를 만든다. \n",
    "- 여기에서 $\\mathbb{Q}_{\\sqrt{2}}$는 $\\Omega$의 부분집합 $\\Rightarrow$ $\\mathbb{Q}_{\\sqrt{2}}$는 길이를 **명확하고 모순없이** 정의할 수 있어야 함\n",
    "- $\\mathbb{Q}_{\\sqrt{2}}$의 길이는 사실 쉽게 $a$라고 정의할 수 있음^[평행이동은 길이를 변화시킬 수 없으니까]. 즉, $m(\\mathbb{Q}_{\\sqrt{2}})=a$.\n"
   ]
  },
  {
   "cell_type": "markdown",
   "id": "11443423-40d1-4feb-b493-853b5474f704",
   "metadata": {
    "slideshow": {
     "slide_type": "slide"
    }
   },
   "source": [
    "*`(빌드업2)`* -- *겹치지 않게 평행이동 시킨다음에 길이를 더한다면?*"
   ]
  },
  {
   "cell_type": "markdown",
   "id": "3c34b52b-c3b8-4fbd-bb42-888f527e729a",
   "metadata": {
    "slideshow": {
     "slide_type": "fragment"
    }
   },
   "source": [
    "이제 $\\mathbb{Q}_{\\sqrt{2}},\\mathbb{Q}_{\\sqrt{2}/2},\\mathbb{Q}_{\\sqrt{2}/3}$를 생각하자. 아래의 성질을 관찰할 수 있다. \n",
    "\n",
    "1. $\\mathbb{Q}_{\\sqrt{2}},\\mathbb{Q}_{\\sqrt{2}/2},\\mathbb{Q}_{\\sqrt{2}/3}$는 모두 $\\Omega$의 부분집합 $\\Rightarrow$ 따라서 길이를 **명확하고 모순없이** 정의할 수 있어야 함\n",
    "2. $\\mathbb{Q}_{\\sqrt{2}},\\mathbb{Q}_{\\sqrt{2}/2},\\mathbb{Q}_{\\sqrt{2}/3}$의 길이는 각각 $a$로 정의할 수 있다.^[평행이동은 길이를 변화시키지 않으니까]\n",
    "3. $P(\\mathbb{Q}_{\\sqrt{2}} \\cup \\mathbb{Q}_{\\sqrt{2}/2} \\cup \\mathbb{Q}_{\\sqrt{2}/3})=P(\\mathbb{Q}_{\\sqrt{2}}) + P(\\mathbb{Q}_{\\sqrt{2}/2})+ P(\\mathbb{Q}_{\\sqrt{2}/3})$^[$\\mathbb{Q}_{\\sqrt{2}},\\mathbb{Q}_{\\sqrt{2}/2},\\mathbb{Q}_{\\sqrt{2}/3}$는 모두 서로소 임을 이용]"
   ]
  },
  {
   "cell_type": "markdown",
   "id": "2a6f0bd0-04a8-4a44-ab04-f1692b8beb92",
   "metadata": {
    "slideshow": {
     "slide_type": "fragment"
    }
   },
   "source": [
    "굳이 $P(\\mathbb{Q}_{\\sqrt{2}}) + P(\\mathbb{Q}_{\\sqrt{2}/2})+ P(\\mathbb{Q}_{\\sqrt{2}/3})$를 계산하면 아래와 같이 계산할 수 있겠다. \n",
    "\n",
    "$$P(\\mathbb{Q}_{\\sqrt{2}}) + P(\\mathbb{Q}_{\\sqrt{2}/2})+ P(\\mathbb{Q}_{\\sqrt{2}/3})=\\frac{a}{2\\pi}+\\frac{a}{2\\pi}+\\frac{a}{2\\pi}=3 \\times \\frac{a}{2\\pi}$$"
   ]
  },
  {
   "cell_type": "markdown",
   "id": "3e292976-140b-47e2-a9bc-a5c423a8f176",
   "metadata": {
    "slideshow": {
     "slide_type": "slide"
    }
   },
   "source": [
    "*`(빌드업3)`* -- *그런데 난 겹치지않게 평행이동시킬 방법을 무한대로 알고 있는데?*"
   ]
  },
  {
   "cell_type": "markdown",
   "id": "e83ba0d0-ccd9-4100-8c43-ad3fee2da271",
   "metadata": {
    "slideshow": {
     "slide_type": "fragment"
    }
   },
   "source": [
    "눈 여겨볼 점은 아래 식이 성립해야 한다는 것이다. ($\\because$ 확률의 공리)^[첫 등호는 서로소인 사건에 대한 공리, 그다음 부등호는 확률의 총합은 1보다 같거나 작다라는 공리]\n",
    "\n",
    "$$P\\big(\\mathbb{Q}_{\\sqrt{2}} \\cup \\mathbb{Q}_{\\sqrt{2}/2} \\cup \\mathbb{Q}_{\\sqrt{2}/3}\\big) = 3 \\times \\frac{a}{2\\pi} \\leq 1 \\quad \\cdots (\\star)$$"
   ]
  },
  {
   "cell_type": "markdown",
   "id": "4b9c3673-845b-4be3-9710-bd7c05e59a8f",
   "metadata": {
    "slideshow": {
     "slide_type": "fragment"
    }
   },
   "source": [
    "- 그런데 $(\\star)$에서 좌변의 값은 편의에 따라서 값을 임의로 키울 수 있다. \n",
    "- 이렇게 임의로 키워진 좌변의 값이라도 항상 그 값은 1보다 작아야 하는데 (확률의 공리), 이게 가능하려면 $\\alpha=0$인 경우 말고 없다. \n",
    "- 그런데 $\\alpha=0$ 이 된다면 \"무한번 더해서 일어나는 기적\"은 허구가 되므로 `질문3` 의 대답에 모순이 된다. "
   ]
  },
  {
   "cell_type": "markdown",
   "id": "03010363-ba04-451c-80fd-7594493e2bc4",
   "metadata": {
    "slideshow": {
     "slide_type": "fragment"
    }
   },
   "source": [
    "그런데 임의로 좌변의 값을 키워도 항상 그 값은 1보다 작아야 하는데 이러한 $\\alpha$는 0이외에 불가능하다. \n",
    "\n",
    "그런데 $\\alpha=0$ 이 된다면 \"무한번 더해서 일어나는 기적\"은 허구가 되므로 `질문3` 의 대답에 모순이 된다. "
   ]
  },
  {
   "cell_type": "markdown",
   "id": "99109933-b84d-4af6-8851-b8a5a0f93f07",
   "metadata": {
    "slideshow": {
     "slide_type": "slide"
    }
   },
   "source": [
    "# 르벡메져"
   ]
  },
  {
   "cell_type": "markdown",
   "id": "1da2d5e8-8937-4392-84fb-defc5d59b5be",
   "metadata": {
    "slideshow": {
     "slide_type": "fragment"
    }
   },
   "source": [
    "`-` 예제2에서의 마지막 질문은 지금까지 제시한 논리로 방어가 불가능. 이처럼 논리적인 모순없는 체계를 만드는 것은 매우 어려운 일임. \n",
    "\n",
    "`-` 결론적으로 말하면 길이를 재는 함수 $m$을 아래와 가정하면 위의 모든 질문에 대한 대답을 논리적 모순없이 설계할 수 있다. \n",
    "\n",
    "1. 한 점에 대한 길이는 $0$ 이다. \n",
    "\n",
    "2. $[0,2\\pi)$ 사이의 모든 유리수를 더한 집합은 그 길이가 $0$이다. \n",
    "       \n",
    "3. $[0,2\\pi)$ 사이의 모든 무리수를 더한 집합은 그 길이가 $2\\pi$이다. \n",
    "\n",
    "참고로 르벡측도(Lebesgue measure)를 사용하면 위의 성질을 만족한다.^[물론 르벡측도의 정의가 위와 같지는 않다] 따라서 르벡측도를 활용하여 확률을 정의하는 것이 모순을 최대한 피할 수 있다. \n"
   ]
  }
 ],
 "metadata": {
  "celltoolbar": "Slideshow",
  "kernelspec": {
   "display_name": "Python 3",
   "language": "python",
   "name": "python3"
  },
  "language_info": {
   "codemirror_mode": {
    "name": "ipython",
    "version": 3
   },
   "file_extension": ".py",
   "mimetype": "text/x-python",
   "name": "python",
   "nbconvert_exporter": "python",
   "pygments_lexer": "ipython3",
   "version": "3.7.15"
  }
 },
 "nbformat": 4,
 "nbformat_minor": 5
}
