{
 "cells": [
  {
   "cell_type": "markdown",
   "id": "4b6d166a-fa24-4ecf-8deb-ae5ffee84d76",
   "metadata": {},
   "source": [
    "# `1`. 다음을 읽고 참 거짓을 판단하여라. (30점)\n",
    "\n",
    "`(1)` 전이확률행렬 ${\\bf P}={\\bf I}$를 가지는 HMC는 irreducible 하다. \n",
    "\n",
    "`(2)` HMC $\\{X_t\\}$가 유한한 상태공간을 가진다면 irreducible 조건은 positive recurrent 를 암시한다.\n",
    "\n",
    "`(3)` HMC $\\{X_t\\}$가 irreducible 하다면 항상 전이확률행렬 ${\\bf P}$가 수렴한다. \n",
    "\n",
    "`(4)` HMC $\\{X_t\\}$가 irreducible 하다면 positive recurrent 조건과 유일한 정상분포를 가질 조건이 동치이다. \n",
    "\n",
    "`(5)` HMC $\\{X_t\\}$가 정상분포를 가진다면 DBC (detailed balance condition) 을 만족한다. "
   ]
  },
  {
   "cell_type": "markdown",
   "id": "3e5fa495-e7d3-429a-9346-7df478ff2d14",
   "metadata": {},
   "source": [
    "210.117.173."
   ]
  }
 ],
 "metadata": {
  "kernelspec": {
   "display_name": "Python 3",
   "language": "python",
   "name": "python3"
  },
  "language_info": {
   "codemirror_mode": {
    "name": "ipython",
    "version": 3
   },
   "file_extension": ".py",
   "mimetype": "text/x-python",
   "name": "python",
   "nbconvert_exporter": "python",
   "pygments_lexer": "ipython3",
   "version": "3.8.16"
  }
 },
 "nbformat": 4,
 "nbformat_minor": 5
}
