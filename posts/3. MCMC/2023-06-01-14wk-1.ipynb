{
 "cells": [
  {
   "cell_type": "raw",
   "id": "fa98f255-9f26-472b-be77-6df1a0d11894",
   "metadata": {},
   "source": [
    "---\n",
    "title: \"14wk-1,2: MCMC (2)\"\n",
    "author: \"최규빈\"\n",
    "date: \"06/01/2023\"\n",
    "bibliography: ref.bib\n",
    "title-block-style: none\n",
    "title-block-banner: false\n",
    "---"
   ]
  },
  {
   "cell_type": "markdown",
   "id": "3ceea099-8c08-4bca-8f8b-a82b55b1f721",
   "metadata": {},
   "source": [
    "# 강의영상 "
   ]
  },
  {
   "cell_type": "markdown",
   "id": "526c2f40-f446-47d5-ab0c-c7f5e2306827",
   "metadata": {},
   "source": [
    "> youtube: <https://youtube.com/playlist?list=PLQqh36zP38-zN7idmV8iVcOs4zV2Lg8WE>"
   ]
  },
  {
   "cell_type": "markdown",
   "id": "10f28e8e-d705-4321-bb4b-a03ed3732023",
   "metadata": {},
   "source": [
    "- 이 강의는 14wk-1, 14wk-2 의 강의가 합쳐져 있습니다. "
   ]
  },
  {
   "cell_type": "markdown",
   "id": "251a0b3f-9292-42f8-a0b7-932bae4d5c05",
   "metadata": {},
   "source": [
    "# imports "
   ]
  },
  {
   "cell_type": "code",
   "execution_count": 40,
   "id": "97a04a84-3fec-4181-a96d-00a359bbf6ec",
   "metadata": {},
   "outputs": [],
   "source": [
    "import numpy as np\n",
    "import matplotlib.pyplot as plt\n",
    "import scipy"
   ]
  },
  {
   "cell_type": "markdown",
   "id": "3a6ce5a4-5f5a-4195-bc31-177a0e955159",
   "metadata": {},
   "source": [
    "# 약간의 이론 "
   ]
  },
  {
   "cell_type": "markdown",
   "id": "7db75d7c-b668-4be6-bf32-2aaf2e5d2db5",
   "metadata": {},
   "source": [
    "`-` **이론**: $\\{X_t\\}$가 IRR-HMC^[irreducible 한 homogeneous markov chain] 라고 하자. \n",
    "\n",
    "1. 만약에 $\\{X_t\\}$가 정상분포를 가진다면 그 정상분포는 유일한 정상분포이다. \n",
    "2. 1이 성립한다면 $\\{X_t\\}$는 positive recurrent HMC가 된다.^[IRR-HMC 에서는 PR 조건과 $\\exists! {\\boldsymbol \\pi}$ 조건이 동치이므로.]\n",
    "3. $\\{X_t\\}$는 IRR-PR-HMC 이므로 주기를 논의할 수 있다.^[주기를 논의할 수 있는 이유는 모든 상태가 recurrent 하므로.] 만약에 $\\{X_t\\}$가 aperiodic 이면^[즉 모든 상태에 대한 주기가 1이라면.] $\\{X_t\\}$는 에르고딕 마코프체인이 된다. \n",
    "4. 따라서 이 경우는 $\\bar{\\boldsymbol \\pi} \\to {\\boldsymbol \\pi} = {\\bf p}_{\\star}$ 가 성립한다. (***nice case***)"
   ]
  },
  {
   "cell_type": "markdown",
   "id": "70323345-7cc3-42fe-afe6-6429a90d179d",
   "metadata": {},
   "source": [
    "`-` 무기: $\\{X_t\\}$가 IRR-HMC라고 할때 (1) 어떠한 방식으로든 정상분포가 존재함을 보이고 (유일함을 보이지 않더라도 유일해짐) (2) AP 임을 보이면 ***nice case***가 된다. "
   ]
  },
  {
   "cell_type": "markdown",
   "id": "2ff67bf7-239f-497c-a5c9-2d226eb4625a",
   "metadata": {},
   "source": [
    "> 사실상 periodicity는 $\\frac{1}{2}({\\bf P} + {\\bf I})$ 와 같은 방식으로 쉽게 kill 할 수 있으므로 \"$\\exists {\\boldsymbol \\pi}$\"를 보이면 ***nice case*** 를 만들수 있다고 봐야함. "
   ]
  },
  {
   "cell_type": "markdown",
   "id": "bb17f63f-425e-40ae-9689-aacbed2c9684",
   "metadata": {},
   "source": [
    "`-` **Thm**: $\\{X_t\\}$가 IRR-HMC라고 하고 ${\\bf P}$ 가 $\\{X_t\\}$의 transition matrix (혹은 그 비슷한 것) 이라고 하자. 분포의 정의를 만족하는 어떠한 벡터 ${\\boldsymbol \\mu}$가 아래의 조건을 만족한다면 \n",
    "\n",
    "$$\\forall i,j \\in E:~\\mu_ip_{ij} = \\mu_jp_{ji} \\quad \\quad \\cdots (\\star)$$\n",
    "\n"
   ]
  },
  {
   "cell_type": "markdown",
   "id": "6166355e-4119-4b7c-bf6d-ae7c2d646d94",
   "metadata": {},
   "source": [
    "벡터 ${\\boldsymbol \\mu}$는 정상분포이다. 즉 아래가 성립한다. "
   ]
  },
  {
   "cell_type": "markdown",
   "id": "fff1831a-c2ad-4f9e-8710-f46a4af00f4a",
   "metadata": {},
   "source": [
    "$${\\boldsymbol \\mu}^\\top {\\bf P} = {\\boldsymbol \\mu}^\\top \\quad \\cdots (\\star\\star)$$"
   ]
  },
  {
   "cell_type": "markdown",
   "id": "4826c267-7647-4dcf-a674-e2f31877315e",
   "metadata": {},
   "source": [
    "단 여기에서 편의상 아래와 같이 생각하자.\n",
    "\n",
    "- ${\\boldsymbol \\mu}^\\top = [\\mu_0,\\mu_1,\\dots]$\n",
    "\n",
    "- ${\\bf P} = \\begin{bmatrix} p_{00} & p_{01} & \\dots \\\\ p_{10} & p_{11} & \\dots \\\\ \\dots & \\dots & \\dots \\end{bmatrix}$ "
   ]
  },
  {
   "cell_type": "markdown",
   "id": "7cf4bcdd-283a-4b01-84de-3e6996e49391",
   "metadata": {},
   "source": [
    "`-` 조건 $(\\star)$를 detailed balance condition (DBC) 라고 부른다. 이 조건은 정상분포가 존재할 조건 $(\\star\\star)$ 보다 강한조건이다. 즉 $(\\star) \\Rightarrow (\\star\\star)$ 이다. "
   ]
  },
  {
   "cell_type": "markdown",
   "id": "107d46d5-73aa-4660-9266-3123bb549e4e",
   "metadata": {},
   "source": [
    "`-` DBC가 ${\\boldsymbol \\mu}^\\top {\\bf P} = {\\boldsymbol \\mu}^\\top$ 를 하는 이유를 체크하기 위해서 $(\\star)$의 양변에 $\\sum_i$를 취하면 된다. 아래의 1,2,3을 관찰해볼 것. "
   ]
  },
  {
   "cell_type": "markdown",
   "id": "9f2fdcaf-46ea-4294-8b16-61408370184f",
   "metadata": {},
   "source": [
    "1. $\\forall j\\in E:~ \\sum_{i}\\mu_i p_{ij} = \\sum_{i} \\mu_j p_{ji}$\n",
    "2. $\\forall j\\in E:~ \\sum_{i}\\mu_i p_{ij} = \\mu_j$\n",
    "3. ${\\boldsymbol \\mu}^\\top {\\bf P} = {\\boldsymbol \\mu}^\\top$"
   ]
  },
  {
   "cell_type": "markdown",
   "id": "58b42850-ba4b-48f2-aa53-a688331d4782",
   "metadata": {},
   "source": [
    "`-` (용어) DBC를 만족하는 마코프체인을 ***reversible*** 하다고 표현하다. "
   ]
  },
  {
   "cell_type": "markdown",
   "id": "ca3cbf17-4358-4ad3-97dc-92277acbcbcf",
   "metadata": {},
   "source": [
    "# Toy Example "
   ]
  },
  {
   "cell_type": "markdown",
   "id": "b1e4e61a-21cf-40bc-a115-93541e8f0dd6",
   "metadata": {},
   "source": [
    "`-` 예시1: 아래와 같은 transitio matrix를 고려하자. (08wk-1에 소개된 예제)"
   ]
  },
  {
   "cell_type": "code",
   "execution_count": 44,
   "id": "cd2e920d-7abc-499d-ad3c-befa17903e91",
   "metadata": {},
   "outputs": [
    {
     "data": {
      "text/plain": [
       "array([[0.4, 0.6],\n",
       "       [0.9, 0.1]])"
      ]
     },
     "execution_count": 44,
     "metadata": {},
     "output_type": "execute_result"
    }
   ],
   "source": [
    "P = np.array([[0.4,0.6],\n",
    "              [0.9,0.1]])\n",
    "P"
   ]
  },
  {
   "cell_type": "markdown",
   "id": "72bbc1a0-194d-44e9-ac5f-5f57e2dbb99d",
   "metadata": {},
   "source": [
    "아래와 같은 벡터를 고려하자. "
   ]
  },
  {
   "cell_type": "code",
   "execution_count": 46,
   "id": "bd06f046-2dd7-488b-a3c3-3db596a9d69c",
   "metadata": {},
   "outputs": [
    {
     "data": {
      "text/plain": [
       "array([[0.6, 0.4]])"
      ]
     },
     "execution_count": 46,
     "metadata": {},
     "output_type": "execute_result"
    }
   ],
   "source": [
    "π = np.array([[0.6],[0.4]]) \n",
    "π.T"
   ]
  },
  {
   "cell_type": "markdown",
   "id": "47664312-2a3c-433e-be44-f5b4f179b3fe",
   "metadata": {},
   "source": [
    "${\\boldsymbol \\pi}$가 DBC조건을 만족하는지 체크하자.^[아직은 ${\\boldsymbol \\pi}$가 정상분포인것은 모르지만 만약에 DBC를 만족하면 ${\\boldsymbol \\pi}$를 정상분포라고 주장할 수 있음]"
   ]
  },
  {
   "cell_type": "code",
   "execution_count": 54,
   "id": "5607d4d2-acd4-4492-bf80-80aec1200ed7",
   "metadata": {},
   "outputs": [
    {
     "data": {
      "text/plain": [
       "(array([0.24]), array([0.24]))"
      ]
     },
     "execution_count": 54,
     "metadata": {},
     "output_type": "execute_result"
    }
   ],
   "source": [
    "# i=0, j=0\n",
    "π[0]*P[0,0], π[0]*P[0,0]"
   ]
  },
  {
   "cell_type": "code",
   "execution_count": 55,
   "id": "0e67bb22-17f5-4ede-9b55-ae56eefd0822",
   "metadata": {},
   "outputs": [
    {
     "data": {
      "text/plain": [
       "(array([0.36]), array([0.36]))"
      ]
     },
     "execution_count": 55,
     "metadata": {},
     "output_type": "execute_result"
    }
   ],
   "source": [
    "# i=0, j=1\n",
    "π[0]*P[0,1], π[1]*P[1,0]"
   ]
  },
  {
   "cell_type": "code",
   "execution_count": 56,
   "id": "b14a4da8-4444-4876-88ad-370ded6de2b4",
   "metadata": {},
   "outputs": [
    {
     "data": {
      "text/plain": [
       "(array([0.36]), array([0.36]))"
      ]
     },
     "execution_count": 56,
     "metadata": {},
     "output_type": "execute_result"
    }
   ],
   "source": [
    "# i=1, j=0\n",
    "π[1]*P[1,0], π[0]*P[0,1]"
   ]
  },
  {
   "cell_type": "code",
   "execution_count": 57,
   "id": "f9dc8dc0-9716-4a79-8732-b3e9c3cc0513",
   "metadata": {},
   "outputs": [
    {
     "data": {
      "text/plain": [
       "(array([0.04]), array([0.04]))"
      ]
     },
     "execution_count": 57,
     "metadata": {},
     "output_type": "execute_result"
    }
   ],
   "source": [
    "# i=1, j=1\n",
    "π[1]*P[1,1], π[1]*P[1,1]"
   ]
  },
  {
   "cell_type": "markdown",
   "id": "c1e54f69-5a0e-4c8e-b188-c114f3b72c2a",
   "metadata": {},
   "source": [
    "DBC를 만족하므로 ${\\boldsymbol \\pi}$는 정상분포이다. 또한 이 예제에서는 IRR조건이 만족하므로 이 정상분포는 유일해진다. 그리고 IRR이고 \"$\\exists! {\\boldsymbol \\pi}$\" 이므로 이 마코프체인은 PR이다. 그리고 이 마코프체인은 AP이므로 결국에는 에르고딕 마코프체인이 된다. "
   ]
  },
  {
   "cell_type": "markdown",
   "id": "e84fddd0-d2d2-44fb-a44f-e42a2602b703",
   "metadata": {},
   "source": [
    "`-` 샘플링: 아래와 같은 분포 ${\\boldsymbol \\pi}$를 따르는 확률변수 $X$를 생성하고 싶다고 하자. "
   ]
  },
  {
   "cell_type": "markdown",
   "id": "305707c3-9f74-41f6-9ba1-187eb9225e61",
   "metadata": {},
   "source": [
    "|$X$|$0$|$1$|\n",
    "|:-:|:-:|:-:|\n",
    "|$\\mathbb{P}(X=k)$|$0.6$|$0.4$|"
   ]
  },
  {
   "cell_type": "markdown",
   "id": "29fe5797-6e1c-4eb8-aa56-e1f8a9b39b05",
   "metadata": {},
   "source": [
    "그렇다면 아래와 같은 ${\\bf P}$에서 계속 샘플링을 하면 된다. "
   ]
  },
  {
   "cell_type": "code",
   "execution_count": 58,
   "id": "87577556-2ca7-499c-bc17-e43a37a625a4",
   "metadata": {},
   "outputs": [
    {
     "data": {
      "text/plain": [
       "array([[0.4, 0.6],\n",
       "       [0.9, 0.1]])"
      ]
     },
     "execution_count": 58,
     "metadata": {},
     "output_type": "execute_result"
    }
   ],
   "source": [
    "P"
   ]
  },
  {
   "cell_type": "code",
   "execution_count": 64,
   "id": "4b38cd42-a924-43af-a3cc-66f8f29cf684",
   "metadata": {},
   "outputs": [],
   "source": [
    "def rain(before):\n",
    "    if before == 0: \n",
    "        after = np.random.rand() < 0.6\n",
    "    else:\n",
    "        after = np.random.rand() < 0.1\n",
    "    return after*1"
   ]
  },
  {
   "cell_type": "code",
   "execution_count": 79,
   "id": "ff406039-6cab-44b9-a8fe-3e3e6747524c",
   "metadata": {},
   "outputs": [],
   "source": [
    "def doctor_strange(x0):\n",
    "    lst = [x0]\n",
    "    for t in range(10500): \n",
    "        lst.append(rain(lst[t]))\n",
    "    return lst "
   ]
  },
  {
   "cell_type": "code",
   "execution_count": 80,
   "id": "e9ee78f2-7253-4676-bd29-0ceab7a02da7",
   "metadata": {},
   "outputs": [],
   "source": [
    "xx = doctor_strange(0)"
   ]
  },
  {
   "cell_type": "code",
   "execution_count": 84,
   "id": "97301245-2801-49bc-8ed9-86a046a7489d",
   "metadata": {},
   "outputs": [
    {
     "data": {
      "image/png": "[encoded data removed]",
      "text/plain": [
       "<Figure size 432x288 with 1 Axes>"
      ]
     },
     "metadata": {
      "needs_background": "light"
     },
     "output_type": "display_data"
    }
   ],
   "source": [
    "plt.hist(xx[501:],bins=100);"
   ]
  },
  {
   "cell_type": "markdown",
   "id": "eb94cd57-b773-4df5-95ce-a0ba64b76cfc",
   "metadata": {},
   "source": [
    "`-` 샘플링이 성공하는 이유? (당연한 것 같은데 그래도 써보면) "
   ]
  },
  {
   "cell_type": "markdown",
   "id": "e5b62e0a-7c85-41ed-b595-302eb1c28fee",
   "metadata": {},
   "source": [
    "아래와 같은 조건부확률에 따라 $X$에서 $X'$을 반복적으로 만들면\n",
    "\n",
    "- $p_{00} = \\mathbb{P}(X'=0 | X=0)=0.4$\n",
    "- $p_{01} = \\mathbb{P}(X'=1 | X=0)=0.6$\n",
    "- $p_{10} = \\mathbb{P}(X'=0 | X=1)=0.9$\n",
    "- $p_{11} = \\mathbb{P}(X'=1 | X=1)=0.1$\n"
   ]
  },
  {
   "cell_type": "markdown",
   "id": "f2dfb1a4-0f80-46e0-a8f9-56ac6d445530",
   "metadata": {},
   "source": [
    "결국 $X_{\\infty}$는 분포 ${\\boldsymbol \\pi}^\\top = [0.6, 0.4]$를 pmf로 가진다. 이러한 분포의 히스토그램은 원래 "
   ]
  },
  {
   "cell_type": "markdown",
   "id": "5233e5b7-4612-4316-800c-c01c5b12b2b7",
   "metadata": {},
   "source": [
    "$$X_{\\infty}(\\omega_1),X_{\\infty}(\\omega_2),X_{\\infty}(\\omega_3),\\dots$$"
   ]
  },
  {
   "cell_type": "markdown",
   "id": "630701e2-bbe0-48e5-af00-6509d24d2834",
   "metadata": {},
   "source": [
    "와 같은 샘플을 모아서 그려야 하지만 "
   ]
  },
  {
   "cell_type": "markdown",
   "id": "581b4a4c-ceed-40c7-8ee1-e78aa5d1925b",
   "metadata": {},
   "source": [
    "$$X_{T_0}(\\omega_1),X_{T_0+1}(\\omega_1),X_{T_0+2}(\\omega_2),\\dots$$"
   ]
  },
  {
   "cell_type": "markdown",
   "id": "b2dc1a4e-6d70-45ec-85b5-651574d39c15",
   "metadata": {},
   "source": [
    "와 같은 샘플을 모아서 그릴 수 있다.^[$X_{T_0}(\\omega_1),X_{T_0+1}(\\omega_1),X_{T_0+2}(\\omega_2),\\dots$ 는 동일한 분포를 가짐] 여기에서 $T_0$는 적당히 큰 숫자이고 우리의 예제의 경우 $T_0=500$을 설정하였다. "
   ]
  },
  {
   "cell_type": "markdown",
   "id": "4ce6841c-1596-4e1c-8ef4-f94b1dcb7261",
   "metadata": {},
   "source": [
    "`-` 주의: 물론 이 예제는 샘플링이 어렵지 않습니다. 아래와 같이 뽑아도 됩니다. "
   ]
  },
  {
   "cell_type": "code",
   "execution_count": 90,
   "id": "887a0259-8f4c-4272-b66b-6fed7e890e39",
   "metadata": {},
   "outputs": [],
   "source": [
    "xx = (np.random.rand(10000) < 0.4)*1"
   ]
  },
  {
   "cell_type": "markdown",
   "id": "9ace4505-b450-4f6b-a2c5-af110fd3d3bb",
   "metadata": {},
   "source": [
    "# MCMC "
   ]
  },
  {
   "cell_type": "markdown",
   "id": "90016242-a611-4acf-b6e8-1f1de066a423",
   "metadata": {},
   "source": [
    "## 샘플추천X \\& 이산형"
   ]
  },
  {
   "cell_type": "markdown",
   "id": "283c9864-04c4-48b7-9569-843d57926a14",
   "metadata": {},
   "source": [
    "`-` 모티브: 위의 예제에서 전이행렬이 꼭 아래와 같을 필요는 없는것 아닌가? "
   ]
  },
  {
   "cell_type": "code",
   "execution_count": 91,
   "id": "b9fea8a7-3638-48e1-892a-92af76805b84",
   "metadata": {},
   "outputs": [
    {
     "data": {
      "text/plain": [
       "array([[0.4, 0.6],\n",
       "       [0.9, 0.1]])"
      ]
     },
     "execution_count": 91,
     "metadata": {},
     "output_type": "execute_result"
    }
   ],
   "source": [
    "P"
   ]
  },
  {
   "cell_type": "markdown",
   "id": "1cfaa5a2-6f9f-46d9-8108-9bc8f4f1aac6",
   "metadata": {},
   "source": [
    "`-` 우리의 목표: 아래와 같은 분포 ${\\boldsymbol \\pi}$를 따르는 확률변수 $X$를 생성하기만 하면 되는 것 아닌가?"
   ]
  },
  {
   "cell_type": "markdown",
   "id": "6e09afa9-7021-4969-af9b-e391bd1410f4",
   "metadata": {},
   "source": [
    "|$X$|$0$|$1$|\n",
    "|:-:|:-:|:-:|\n",
    "|$\\mathbb{P}(X=k)$|$0.6$|$0.4$|"
   ]
  },
  {
   "cell_type": "markdown",
   "id": "6503c2c8-b279-4f21-8964-07bc833ff349",
   "metadata": {},
   "source": [
    "이러한 정상분포를 가지는 에르고딕 마코프체인의 전이행렬 ${\\bf P}$를 역으로 설계해보자. "
   ]
  },
  {
   "cell_type": "code",
   "execution_count": 104,
   "id": "44b37c08-07c1-4f7d-89d9-ece7e2c4acff",
   "metadata": {},
   "outputs": [],
   "source": [
    "P = np.array([[0.6,0.4],\n",
    "              [0.6,0.4]])"
   ]
  },
  {
   "cell_type": "code",
   "execution_count": 105,
   "id": "d0101b99-1757-4d97-9626-a61cba564561",
   "metadata": {},
   "outputs": [
    {
     "data": {
      "text/plain": [
       "array([[0.6, 0.4],\n",
       "       [0.6, 0.4]])"
      ]
     },
     "execution_count": 105,
     "metadata": {},
     "output_type": "execute_result"
    }
   ],
   "source": [
    "P"
   ]
  },
  {
   "cell_type": "markdown",
   "id": "cb219f91-aa1a-4cad-a234-0ae490c0db77",
   "metadata": {},
   "source": [
    "`-` DBC 체크: 아래의 detailed balance condition을 만족하기만 하면 target distribution ${\\boldsymbol \\pi}$는 새롭게 설계한 ${\\bf P}$를 가지는 HMC $\\{X_t\\}$의 정상분포라 주장할 수 있다. "
   ]
  },
  {
   "cell_type": "markdown",
   "id": "a334de12-dddc-432f-8376-c0f5e3671c22",
   "metadata": {},
   "source": [
    "$$\\forall i,j \\in E:~ \\pi_ip_{ij}=\\pi_jp_{ji}$$"
   ]
  },
  {
   "cell_type": "markdown",
   "id": "37d232c1-e28c-46c5-9075-67e39010289e",
   "metadata": {},
   "source": [
    "이 예제의 경우 "
   ]
  },
  {
   "cell_type": "markdown",
   "id": "299c454c-a4e6-4c76-8ba7-00c301ceeb96",
   "metadata": {},
   "source": [
    "$$\\forall i,j \\in E:~ \\pi_i\\pi_{j}=\\pi_j\\pi_{i}$$"
   ]
  },
  {
   "cell_type": "markdown",
   "id": "cd12b968-3088-4641-85f3-3e29ed0c8459",
   "metadata": {},
   "source": [
    "가 되므로 성립한다. "
   ]
  },
  {
   "cell_type": "markdown",
   "id": "e7c4e08d-d76e-4814-bb95-d3d855fb5c52",
   "metadata": {},
   "source": [
    "`-` 따라서 전이행렬 ${\\bf P}$를 가지는 마코프체인은 ${\\boldsymbol \\pi}^\\top=[0.4,0.6]$를 정상분포로 가지는 마코프체인이다.^[DBC를 만족하기 때문에] 이 마코프체인은 IRR 이므로 정상분포 ${\\boldsymbol \\pi}$는 유일한 정상분포가 되고, 따라서 PR조건이 만족된다. 또한 AP를 만족하므로 에르고딕 마코프체인이 된다. "
   ]
  },
  {
   "cell_type": "code",
   "execution_count": 112,
   "id": "440cb42e-1725-4903-b467-2e43fe258b0c",
   "metadata": {},
   "outputs": [
    {
     "data": {
      "text/plain": [
       "array([[0.6, 0.4],\n",
       "       [0.6, 0.4]])"
      ]
     },
     "execution_count": 112,
     "metadata": {},
     "output_type": "execute_result"
    }
   ],
   "source": [
    "P"
   ]
  },
  {
   "cell_type": "code",
   "execution_count": 113,
   "id": "77be67b3-e23c-452b-830f-8cf412e2b5cd",
   "metadata": {},
   "outputs": [],
   "source": [
    "def doctor_strange(x0):\n",
    "    xx = [x0]\n",
    "    for t in range(10500): \n",
    "        _u = np.random.rand()\n",
    "        if _u < 0.4:\n",
    "            xx.append(1)\n",
    "        else:\n",
    "            xx.append(0)\n",
    "    return xx "
   ]
  },
  {
   "cell_type": "code",
   "execution_count": 108,
   "id": "79a2ac62",
   "metadata": {
    "tags": []
   },
   "outputs": [],
   "source": [
    "xx = doctor_strange(0)"
   ]
  },
  {
   "cell_type": "code",
   "execution_count": 109,
   "id": "59650516",
   "metadata": {},
   "outputs": [
    {
     "data": {
      "image/png": "[encoded data removed]",
      "text/plain": [
       "<Figure size 432x288 with 1 Axes>"
      ]
     },
     "metadata": {
      "needs_background": "light"
     },
     "output_type": "display_data"
    }
   ],
   "source": [
    "plt.hist(xx[501:],bins=100);"
   ]
  },
  {
   "cell_type": "markdown",
   "id": "ad0f2b63-ea45-4325-8bcb-0a802bdf87f8",
   "metadata": {},
   "source": [
    "`-` 이러한 방식은 유한차원으로 확장가능하다. (그런데 귀찮다)"
   ]
  },
  {
   "cell_type": "markdown",
   "id": "850d4640-8a9b-4a5a-8e5b-65c6f560f262",
   "metadata": {},
   "source": [
    "|$X$|$0$|$1$|$2$|\n",
    "|:-:|:-:|:-:|:-:|\n",
    "|$\\mathbb{P}(X=k)$|$0.6$|$0.2$|$0.2$"
   ]
  },
  {
   "cell_type": "code",
   "execution_count": 120,
   "id": "99faf68c-6253-4105-93f1-1a9e8deed501",
   "metadata": {},
   "outputs": [],
   "source": [
    "P = np.array([[0.6,0.2,0.2],\n",
    "              [0.6,0.2,0.2],\n",
    "              [0.6,0.2,0.2]])"
   ]
  },
  {
   "cell_type": "code",
   "execution_count": 121,
   "id": "f562b2f6-7988-4d2c-8b70-23f5cb0191d5",
   "metadata": {},
   "outputs": [],
   "source": [
    "def doctor_strange(x0):\n",
    "    xx = [x0]\n",
    "    for t in range(10500): \n",
    "        _u = np.random.rand()\n",
    "        if _u < 0.6:\n",
    "            xx.append(0)\n",
    "        elif _u< 0.8:\n",
    "            xx.append(1)\n",
    "        else:\n",
    "            xx.append(2)        \n",
    "    return xx "
   ]
  },
  {
   "cell_type": "code",
   "execution_count": 122,
   "id": "dde5ef5a-890b-4648-8550-0c581d70a2e0",
   "metadata": {},
   "outputs": [],
   "source": [
    "xx = doctor_strange(0)"
   ]
  },
  {
   "cell_type": "code",
   "execution_count": 124,
   "id": "62e6108c-86e9-4ca0-8d6b-6989b19f01a2",
   "metadata": {},
   "outputs": [
    {
     "data": {
      "image/png": "[encoded data removed]",
      "text/plain": [
       "<Figure size 432x288 with 1 Axes>"
      ]
     },
     "metadata": {
      "needs_background": "light"
     },
     "output_type": "display_data"
    }
   ],
   "source": [
    "plt.hist(xx[501:],bins=100);"
   ]
  },
  {
   "cell_type": "markdown",
   "id": "168455e0-bb35-4860-8bcd-446fc5db67c4",
   "metadata": {},
   "source": [
    "## 샘플추천 \\& 이산형"
   ]
  },
  {
   "cell_type": "markdown",
   "id": "388d2892-0002-4ac7-8166-601b3ebd4d9a",
   "metadata": {},
   "source": [
    "`-` 아래의 분포를 고려하자. "
   ]
  },
  {
   "cell_type": "code",
   "execution_count": 138,
   "id": "d77c6238-914e-409c-9095-96b58bbac8ab",
   "metadata": {},
   "outputs": [
    {
     "data": {
      "text/plain": [
       "array([[0.12977311, 0.00786117, 0.13310662, 0.09836388, 0.01944822,\n",
       "        0.01858917, 0.13959302, 0.15544153, 0.14440391, 0.15341937]])"
      ]
     },
     "execution_count": 138,
     "metadata": {},
     "output_type": "execute_result"
    }
   ],
   "source": [
    "np.random.seed(43052)\n",
    "u = np.random.rand(10)\n",
    "π = (u/u.sum()).reshape(-1,1)\n",
    "π.T"
   ]
  },
  {
   "cell_type": "code",
   "execution_count": 139,
   "id": "3669fa86-1b92-4d09-9fe4-ce6a49e8d3e5",
   "metadata": {},
   "outputs": [
    {
     "data": {
      "text/plain": [
       "<StemContainer object of 3 artists>"
      ]
     },
     "execution_count": 139,
     "metadata": {},
     "output_type": "execute_result"
    },
    {
     "data": {
      "image/png": "[encoded data removed]",
      "text/plain": [
       "<Figure size 432x288 with 1 Axes>"
      ]
     },
     "metadata": {
      "needs_background": "light"
     },
     "output_type": "display_data"
    }
   ],
   "source": [
    "plt.stem(π)"
   ]
  },
  {
   "cell_type": "markdown",
   "id": "9b63f2e4-382e-4a89-8538-ecf8abf0b03c",
   "metadata": {},
   "source": [
    "`-` 이러한 분포에서 샘플을 뽑는 상황을 고려하자. \n",
    "\n",
    "- 위의 코드로는 못하겠다. \n",
    "- 다른 방법은 없을까? \n",
    "\n",
    "> 그냥 저번시간처럼 하자. $x$에서 $x'$으로 가는 확률을 다 정의하지 말고, $x'$를 적당히 추천받고 옮겨탈지 말지 결정하자. "
   ]
  },
  {
   "cell_type": "markdown",
   "id": "4495fcf5-e781-4c4a-8e1b-02139cef3c7b",
   "metadata": {},
   "source": [
    "`-` 저번시간 테크닉: $X(\\omega_1)=x$가 주어졌을때 $X'(\\omega_1)=x'$를 뽑는 방법!\n",
    "\n",
    "1. $x$가 주어졌다고 가정하자. \n",
    "2. $x'$의 후보로 $Y(\\omega^\\ast)=y$를 뽑는다. $Y \\sim {\\boldsymbol p}_Y:=[\\frac{1}{10},\\dots,\\frac{1}{10}]$\n",
    "3. $x'$은 $x$가 적절한지, 아니면 추천받은 $y$가 적절한지 따져보고 결정한다. 즉 아래의 확률로 $x'=y$를 선택한다. \n",
    "\n",
    "$$\\frac{\\pi_y}{\\pi_x + \\pi_y}$$"
   ]
  },
  {
   "cell_type": "markdown",
   "id": "c2ddde8a-be85-4c8a-83b3-89b3467d052b",
   "metadata": {},
   "source": [
    "`-` 의문: 저렇게 막 만들어도 에르고딕한지 어떻게 알지?\n",
    "\n",
    "- 당연히 몰라요. \n",
    "- 조사를 좀 해봐야 합니다. "
   ]
  },
  {
   "cell_type": "markdown",
   "id": "4c8b9b8b-fe86-4365-a5f2-7af36ec5835c",
   "metadata": {},
   "source": [
    "`-` DBC condition 체크 "
   ]
  },
  {
   "cell_type": "markdown",
   "id": "4a0d21de-ea06-417a-bc5c-0fc6e55a1044",
   "metadata": {},
   "source": [
    "$$\\forall i,j \\in E:~ \\pi_ip_{ij}=\\pi_jp_{ji}$$"
   ]
  },
  {
   "cell_type": "markdown",
   "id": "5a90ce37-f5a2-488d-a9ba-c14d6704994c",
   "metadata": {},
   "source": [
    "노테이션을 살짝 변경하면 아래와 같다. "
   ]
  },
  {
   "cell_type": "markdown",
   "id": "0d7ab2c3-126b-4a70-8091-625189a066e4",
   "metadata": {},
   "source": [
    "$$\\forall x,x' \\in E:~ \\pi_xp_{xx'}=\\pi_{x'}p_{x'x}$$"
   ]
  },
  {
   "cell_type": "markdown",
   "id": "331426d1-12e7-4e68-9ea2-3fd65e550fb9",
   "metadata": {},
   "source": [
    "여기에서 $p_{xx'}$와 $p_{x'x}$를 각각 구하면 아래와 같다. "
   ]
  },
  {
   "cell_type": "markdown",
   "id": "400d574c-6e1b-4df6-8576-425a24c2b2ba",
   "metadata": {},
   "source": [
    "$$p_{xx'} = \\frac{1}{10}\\frac{\\pi_{x'}}{\\pi_x + \\pi_{x'}}$$"
   ]
  },
  {
   "cell_type": "markdown",
   "id": "cc4677c6-3216-4967-b387-db395c676939",
   "metadata": {},
   "source": [
    "$$p_{x'x} = \\frac{1}{10}\\frac{\\pi_{x}}{\\pi_x + \\pi_{x'}}$$"
   ]
  },
  {
   "cell_type": "markdown",
   "id": "51a91c79-50ed-4fe0-bc54-89b0aea31570",
   "metadata": {},
   "source": [
    "따라서 DBC가 성립한다. "
   ]
  },
  {
   "cell_type": "markdown",
   "id": "f2735f64-78f6-4239-b7b2-edf4db8068a5",
   "metadata": {},
   "source": [
    "`-` 이론전개: DBC가 만족되었으므로 ${\\boldsymbol \\pi}$는 정상분포가 된다. 그리고 이 마코프체인은 IRR 이므로 정상분포는 유일해진다. 또한 IRR-HMC에서는 유일한 정상분포의 존재와 PR이 동치이므로 이 마코프체인은 PR이 된다. 또한 이 마코프체인은 AP조건을 만족한다. 따라서 이 마코프체인은 에르고딕이 된다. "
   ]
  },
  {
   "cell_type": "code",
   "execution_count": 164,
   "id": "3f0fed78-344a-49c4-8c78-c5ee2198f1f0",
   "metadata": {},
   "outputs": [],
   "source": [
    "def doctor_strange(x0):\n",
    "    xx = [x0]\n",
    "    for t in range(100500): \n",
    "        y = np.random.choice(range(10))\n",
    "        acceptance_prob = π[y]/(π[xx[t]]+π[y]) ## acceptance_prob 가 클수록 y가 선택\n",
    "        _u = np.random.rand()\n",
    "        if _u < acceptance_prob:\n",
    "            xx.append(y)\n",
    "        else:\n",
    "            xx.append(xx[t])\n",
    "    return xx "
   ]
  },
  {
   "cell_type": "code",
   "execution_count": 165,
   "id": "bccb265d-ed3f-4bae-8271-a1046c96e6cb",
   "metadata": {},
   "outputs": [],
   "source": [
    "xx = doctor_strange(0)"
   ]
  },
  {
   "cell_type": "code",
   "execution_count": 166,
   "id": "fb979e81-622d-4a47-be35-7e1f6ad86adb",
   "metadata": {},
   "outputs": [
    {
     "data": {
      "image/png": "[encoded data removed]",
      "text/plain": [
       "<Figure size 432x288 with 1 Axes>"
      ]
     },
     "metadata": {
      "needs_background": "light"
     },
     "output_type": "display_data"
    }
   ],
   "source": [
    "plt.stem(π*100000)\n",
    "plt.hist(xx[501:],bins=100,color='C1',alpha=0.8);"
   ]
  },
  {
   "cell_type": "markdown",
   "id": "eefc7bee-9f2f-4d7a-a6db-88af474f70b6",
   "metadata": {},
   "source": [
    "***참고***\n",
    "\n",
    "```Python \n",
    "### 비교를 위해 이전에 만들었던 코드를 확인해보자.\n",
    "T = 100000\n",
    "xx = [0.99]\n",
    "for t in range(T):\n",
    "    y = np.random.rand()\n",
    "    thresh_prob = f(y)/(f(xx[t])+f(y)) ## thresh_prob 가 클수록 y가 선택\n",
    "    _u = np.random.rand()\n",
    "    if _u < thresh_prob:\n",
    "        xx.append(y) \n",
    "    else:\n",
    "        xx.append(xx[t])\n",
    "```"
   ]
  },
  {
   "cell_type": "markdown",
   "id": "b52a4ee6-aad2-4873-8e2f-2ef5de25d43a",
   "metadata": {},
   "source": [
    "## 샘플추천 \\& 연속형 "
   ]
  },
  {
   "cell_type": "markdown",
   "id": "3349b87b-722d-43b8-bdd6-c55401608a70",
   "metadata": {},
   "source": [
    "`-` 아래와 같은 pdf $f_X(x)$를 가지는 확률변수를 만들고 싶다면? "
   ]
  },
  {
   "cell_type": "code",
   "execution_count": 171,
   "id": "1130cc34-0bfc-4a89-a3df-5a11ae95df02",
   "metadata": {},
   "outputs": [],
   "source": [
    "g = scipy.special.gamma"
   ]
  },
  {
   "cell_type": "code",
   "execution_count": 172,
   "id": "6b38791e-bfb7-41bb-9e64-ce4c32b4dfa2",
   "metadata": {},
   "outputs": [],
   "source": [
    "def f(x): \n",
    "    return g(2+6)/(g(2)*g(6)) * x**(2-1) * (1-x)**(6-1)"
   ]
  },
  {
   "cell_type": "code",
   "execution_count": 173,
   "id": "ed812163-f228-4845-b304-c640041dd98c",
   "metadata": {},
   "outputs": [
    {
     "data": {
      "text/plain": [
       "[<matplotlib.lines.Line2D at 0x7f8e8cb38070>]"
      ]
     },
     "execution_count": 173,
     "metadata": {},
     "output_type": "execute_result"
    },
    {
     "data": {
      "image/png": "[encoded data removed]",
      "text/plain": [
       "<Figure size 432x288 with 1 Axes>"
      ]
     },
     "metadata": {
      "needs_background": "light"
     },
     "output_type": "display_data"
    }
   ],
   "source": [
    "_x = np.linspace(0,1,1000)\n",
    "plt.plot(_x, f(_x))"
   ]
  },
  {
   "cell_type": "markdown",
   "id": "8cae0a81-1b18-449a-bf61-9a577e99eace",
   "metadata": {},
   "source": [
    "`-` 어? 잠깐만.. \n",
    "\n",
    "- 이전예제: $E= \\{0,1,2,3,4,5,6,7,8,9\\}$\n",
    "- 지금예제: $E= [0,1]$\n",
    "\n",
    "상태공간 $E$ coutable 이 아니잖아? (그래도 일단 진행해보자)"
   ]
  },
  {
   "cell_type": "markdown",
   "id": "4ffae1b6-60a0-46f6-b114-d21299686b6f",
   "metadata": {},
   "source": [
    "`-` 테크닉: $X(\\omega_1)=x$가 주어졌을때 $X'(\\omega_1)=x'$를 뽑는 방법!\n",
    "\n",
    "1. $x$가 주어졌다고 가정하자. \n",
    "2. $x'$의 후보로 $Y(\\omega^\\ast)=y$를 뽑는다. $Y \\sim {\\cal U}$\n",
    "3. $x'$은 $x$가 적절한지, 아니면 추천받은 $y$가 적절한지 따져보고 결정한다. 즉 아래의 확률로 $x'=y$를 선택한다. \n",
    "\n",
    "$$\\frac{f_X(y)}{f_X(x) + f_X(y)}$$"
   ]
  },
  {
   "cell_type": "markdown",
   "id": "ba4d2f0d-2ffa-4118-b2a7-f83440e8e356",
   "metadata": {},
   "source": [
    "`-` DBC condition 체크 "
   ]
  },
  {
   "cell_type": "markdown",
   "id": "0c997386-d7fb-47ca-ba70-6e239e87d328",
   "metadata": {},
   "source": [
    "***이전예제***"
   ]
  },
  {
   "cell_type": "markdown",
   "id": "63e0c42c-baca-4a68-8e77-7c7c812b8d36",
   "metadata": {},
   "source": [
    "$$\\forall x,x' \\in E:~ \\pi_xp_{xx'}=\\pi_{x'}p_{x'x}$$"
   ]
  },
  {
   "cell_type": "markdown",
   "id": "0ce04fb1-92cc-47ca-9c2c-d7968a07316a",
   "metadata": {},
   "source": [
    "***지금예제***"
   ]
  },
  {
   "cell_type": "markdown",
   "id": "c3723bde-fdaf-4339-a3f8-30aeb11c9323",
   "metadata": {},
   "source": [
    "$$\\forall x,x' \\in E:~ f_X(x)p_{xx'}=f_X(x')p_{x'x}$$"
   ]
  },
  {
   "cell_type": "markdown",
   "id": "93b91e90-d7d5-4863-98a8-77a417c8e990",
   "metadata": {},
   "source": [
    "여기에서 $p_{xx'}$와 $p_{x'x}$는 대충 아래와 같이 쓸 수 있을것 같다. "
   ]
  },
  {
   "cell_type": "markdown",
   "id": "c203dab3-92dc-4994-8af6-3b7abb77f6fa",
   "metadata": {},
   "source": [
    "$$p_{xx'} = f_Y(x')\\frac{f_X(x')}{f_X(x) + f_X(x')}$$"
   ]
  },
  {
   "cell_type": "markdown",
   "id": "f6d93720-b937-4474-96f1-c52edf519bb7",
   "metadata": {},
   "source": [
    "$$p_{x'x} = f_Y(x)\\frac{f_X(x)}{f_X(x) + f_X(x')}$$"
   ]
  },
  {
   "cell_type": "markdown",
   "id": "5f96f25e-3063-4fb8-bb59-f2640ae19089",
   "metadata": {},
   "source": [
    "우선 $f_Y(x')=f_Y(x)=1$ 이므로 지금까지의 논의가 맞다면 DBC는 만족된다. "
   ]
  },
  {
   "cell_type": "markdown",
   "id": "ea13837c-b3af-4d48-98e9-0a27819322ab",
   "metadata": {},
   "source": [
    "`-` 의문1: 좀 이상한데? $f_X(x)$는 $\\pi_x$와 다르게 확률을 의미하는게 아니잖아? "
   ]
  },
  {
   "cell_type": "markdown",
   "id": "9db64cdf-7cfa-48cf-9e32-d8a06283a9de",
   "metadata": {},
   "source": [
    "`-` 의문2: 애초에 HMC $\\{X_t\\}$를 coutable한 state space를 가진다고 정의하지 않았어?"
   ]
  },
  {
   "cell_type": "markdown",
   "id": "28baebf4-3dd3-4d70-b0c7-e55380ce3a52",
   "metadata": {},
   "source": [
    "# Polish space "
   ]
  },
  {
   "cell_type": "markdown",
   "id": "eb17bfa0-a8f0-4dd0-af45-ed68232f4d10",
   "metadata": {},
   "source": [
    "`-` MCMC 샘플링이 성공하는 이유를 다시 생각해보자. "
   ]
  },
  {
   "cell_type": "markdown",
   "id": "8013c6df-d6de-4c26-adca-96e773c8d04e",
   "metadata": {},
   "source": [
    "아래와 같은 조건부확률에 따라 $X$에서 $X'$을 반복적으로 만들면\n",
    "\n",
    "- $p_{00} = \\mathbb{P}(X'=0 | X=0)=0.4$\n",
    "- $p_{01} = \\mathbb{P}(X'=1 | X=0)=0.6$\n",
    "- $p_{10} = \\mathbb{P}(X'=0 | X=1)=0.9$\n",
    "- $p_{11} = \\mathbb{P}(X'=1 | X=1)=0.1$\n",
    "\n",
    ".... 중략"
   ]
  },
  {
   "cell_type": "markdown",
   "id": "764cb747-90a4-4bd3-abb3-81b23dc82106",
   "metadata": {},
   "source": [
    "`-` 그런데 조건부 \"확률\"은 잘 정의할 수 있나?\n",
    "\n",
    "- 할 수 있음. \n",
    "- 상태공간이 $E$가 countable 일 경우에는 좀 쉬운편입니다. 그리고 조건부확률들을 모아서 매트릭스 (혹은 그 비슷한것) ${\\bf P}$를 만들수 있음. \n",
    "- 상태공간이 $E$가 uncoutable 일 경우에는 좀 까다로운데 polish space라는 곳에서는 잘 정의됨. 그리고 조건부확률들을 모아서 매트릭스 (혹은 그 비슷한것) ${\\bf P}$를 만들 수는 없지만 대신에 transition kernel 이라는 것은 정의할 수 있습니다. "
   ]
  },
  {
   "cell_type": "markdown",
   "id": "610cf83d-e0fc-45d2-ada5-62c728e13ca6",
   "metadata": {},
   "source": [
    "`-` 좀 더 이론적인건 엄밀하게 따져야하지만 (대학원외의 과정, 개인적으로 공부하고 싶으면 공부하는 영역임) 하여튼 연속형일 경우에도 가능합니다. "
   ]
  },
  {
   "cell_type": "markdown",
   "id": "12a879ae-f8d8-4b9b-8f2f-e2824a4bba86",
   "metadata": {},
   "source": [
    "> 아무튼 연속형일 경우도 이산형처럼 가능하다. "
   ]
  },
  {
   "cell_type": "markdown",
   "id": "4e0f2c6c-2c3f-4b38-a97c-6ef360124931",
   "metadata": {},
   "source": [
    "`-` 앞으로는 연속형일지라도 이산형처럼 생각해서 논리전개하세요. "
   ]
  },
  {
   "cell_type": "markdown",
   "id": "9e8fb086-402a-4018-bb98-5defbcf5858a",
   "metadata": {},
   "source": [
    "# 메트로폴리스-헤이스팅스 "
   ]
  },
  {
   "cell_type": "markdown",
   "id": "26f9af03-c1d6-4aaf-8e5e-2f87bf4e685a",
   "metadata": {},
   "source": [
    "`-` 이전의 테크닉: $X(\\omega_1)=x$가 주어졌을때 $X'(\\omega_1)=x'$를 뽑는 방법!\n",
    "\n",
    "1. $x$가 주어졌다고 가정하자. \n",
    "2. $x'$의 후보로 $Y(\\omega^\\ast)=y$를 뽑는다. $Y \\sim {\\boldsymbol p}_Y:=[\\frac{1}{10},\\dots,\\frac{1}{10}]$\n",
    "3. $x'$은 $x$가 적절한지, 아니면 추천받은 $y$가 적절한지 따져보고 결정한다. 즉 아래의 확률로 $x'=y$를 선택한다. \n",
    "\n",
    "$${\\tt acceptance ~prob} =\\frac{\\pi_y}{\\pi_x + \\pi_y}$$"
   ]
  },
  {
   "cell_type": "markdown",
   "id": "66a21f0d-23b7-4001-a8aa-2dd010804fcc",
   "metadata": {},
   "source": [
    "`-` 새로운 테크닉: $X(\\omega_1)=x$가 주어졌을때 $X'(\\omega_1)=x'$를 뽑는 방법!\n",
    "\n",
    "1. $x$가 주어졌다고 가정하자. \n",
    "2. $x'$의 후보로 $Y(\\omega^\\ast)=y$를 뽑는다. $Y \\sim {\\boldsymbol p}_Y:=[\\frac{1}{10},\\dots,\\frac{1}{10}]$\n",
    "3. $x'$은 $x$가 적절한지, 아니면 추천받은 $y$가 적절한지 따져보고 결정한다. 즉 아래의 확률로 $x'=y$를 선택한다. \n",
    "\n",
    "$${\\tt acceptance ~prob} =\\min\\left(1,\\frac{\\pi_y}{\\pi_x}\\right)$$"
   ]
  },
  {
   "cell_type": "markdown",
   "id": "8dcafc8d-6d02-4eef-ba3e-064448d32466",
   "metadata": {},
   "source": [
    "`-` DBC를 만족하는지 체크 "
   ]
  },
  {
   "cell_type": "markdown",
   "id": "1f766657-cacc-4659-854d-3c9e7558d6af",
   "metadata": {},
   "source": [
    "$$\\forall x,x' \\in E:~ \\pi_xp_{xx'}=\\pi_{x'}p_{x'x}$$"
   ]
  },
  {
   "cell_type": "markdown",
   "id": "7c4b6eac-2fc8-478b-9a18-121c186153af",
   "metadata": {},
   "source": [
    "여기에서 $p_{xx'}$와 $p_{x'x}$를 각각 구하면 아래와 같다. \n",
    "\n"
   ]
  },
  {
   "cell_type": "markdown",
   "id": "37c4ae31-1be9-4260-9a08-a78906195272",
   "metadata": {},
   "source": [
    "$$p_{xx'} = \\frac{1}{10}\\min\\left(1,\\frac{\\pi_{x'}}{\\pi_x}\\right)$$"
   ]
  },
  {
   "cell_type": "markdown",
   "id": "06305431-267f-4cad-837a-19822c769248",
   "metadata": {},
   "source": [
    "$$p_{xx'} = \\frac{1}{10}\\min\\left(1,\\frac{\\pi_{x}}{\\pi_{x'}}\\right)$$"
   ]
  },
  {
   "cell_type": "markdown",
   "id": "36faf6d5-8d13-4b50-8ada-44d9a7765a8d",
   "metadata": {},
   "source": [
    "경우를 (1) $\\pi_{x'} > \\pi_x$ (2) $\\pi_{x'} < \\pi_x$ 와 같이 나누어 풀어보면 DBC를 만족함을 쉽게 체크할 수 있다. 이후에 위의 예제들과 동일한 논리전개를 따르면 $\\{X_t\\}$ 가 에르고딕 마코프체인임을 보일 수 있다. 따라서 새로운 테크닉으로 샘플을 뽑아도 무방하다. "
   ]
  }
 ],
 "metadata": {
  "kernelspec": {
   "display_name": "Python 3",
   "language": "python",
   "name": "python3"
  },
  "language_info": {
   "codemirror_mode": {
    "name": "ipython",
    "version": 3
   },
   "file_extension": ".py",
   "mimetype": "text/x-python",
   "name": "python",
   "nbconvert_exporter": "python",
   "pygments_lexer": "ipython3",
   "version": "3.8.16"
  }
 },
 "nbformat": 4,
 "nbformat_minor": 5
}
