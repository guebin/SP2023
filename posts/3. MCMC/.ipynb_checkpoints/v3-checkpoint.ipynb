{
 "cells": [
  {
   "cell_type": "code",
   "execution_count": 42,
   "id": "bdba7d13-ab5f-4d3a-9ead-c920b05c0816",
   "metadata": {},
   "outputs": [],
   "source": [
    "import numpy as np\n",
    "import matplotlib.pyplot as plt\n",
    "import pandas as pd\n",
    "import copy"
   ]
  },
  {
   "cell_type": "markdown",
   "id": "04ada100-d49b-4ade-89dd-92af93603d31",
   "metadata": {},
   "source": [
    "## 데이터"
   ]
  },
  {
   "cell_type": "code",
   "execution_count": 3,
   "id": "e6bc340e-894c-44e7-a2c0-1a2f12e1a560",
   "metadata": {},
   "outputs": [],
   "source": [
    "# topic1 = ['골', '슈팅', '수비', '공격', '패스', \n",
    "#           '공', '드리블', '페널티킥', '헤딩', '심판', \n",
    "#           '경기장', '클럽', '월드컵', '챔피언스리그', '리그',\n",
    "#           '선수', '골키퍼', '공격수', '수비수', '중앙미드필더']\n",
    "# topic2 = ['통계', '확률', '데이터과학', '딥러닝', '데이터분석', \n",
    "#           '회귀분석', '분류', '클러스터링', '상관관계', '표본', \n",
    "#           '모집단', '통계적 가설검정', '신뢰구간', '표준편차', '평균',\n",
    "#           '분산', '로지스틱 회귀', '신경망', '인공지능', '머신러닝']"
   ]
  },
  {
   "cell_type": "code",
   "execution_count": 4,
   "id": "68f2e0f1-9aa0-4873-9373-b818c11cca04",
   "metadata": {},
   "outputs": [],
   "source": [
    "# D1 = {'doc'+str(i+1):np.random.choice(topic1,size=15,replace=True).tolist() for i in range(5)}\n",
    "# D2 = {'doc'+str(i+6):np.random.choice(topic1,size=4,replace=True).tolist()+np.random.choice(topic2,size=7,replace=True).tolist()+np.random.choice(topic1,size=4,replace=True).tolist() for i in range(5)}\n",
    "# D3 = {'doc'+str(i+11):np.random.choice(topic2,size=15,replace=True).tolist() for i in range(5)}"
   ]
  },
  {
   "cell_type": "code",
   "execution_count": 5,
   "id": "aee82f53-02eb-48c2-be5e-e17b8e7f53a4",
   "metadata": {},
   "outputs": [],
   "source": [
    "# D1.update(D2)\n",
    "# D1.update(D3)"
   ]
  },
  {
   "cell_type": "code",
   "execution_count": 6,
   "id": "b5e12fe3-4c74-4213-8307-1e711e964ca4",
   "metadata": {},
   "outputs": [],
   "source": [
    "# str(D1)"
   ]
  },
  {
   "cell_type": "code",
   "execution_count": 7,
   "id": "f8ae1313-cf78-4011-bdff-e512cfd16983",
   "metadata": {},
   "outputs": [
    {
     "data": {
      "text/html": [
       "<div>\n",
       "<style scoped>\n",
       "    .dataframe tbody tr th:only-of-type {\n",
       "        vertical-align: middle;\n",
       "    }\n",
       "\n",
       "    .dataframe tbody tr th {\n",
       "        vertical-align: top;\n",
       "    }\n",
       "\n",
       "    .dataframe thead th {\n",
       "        text-align: right;\n",
       "    }\n",
       "</style>\n",
       "<table border=\"1\" class=\"dataframe\">\n",
       "  <thead>\n",
       "    <tr style=\"text-align: right;\">\n",
       "      <th></th>\n",
       "      <th>doc1</th>\n",
       "      <th>doc2</th>\n",
       "      <th>doc3</th>\n",
       "      <th>doc4</th>\n",
       "      <th>doc5</th>\n",
       "      <th>doc6</th>\n",
       "      <th>doc7</th>\n",
       "      <th>doc8</th>\n",
       "      <th>doc9</th>\n",
       "      <th>doc10</th>\n",
       "      <th>doc11</th>\n",
       "      <th>doc12</th>\n",
       "      <th>doc13</th>\n",
       "      <th>doc14</th>\n",
       "      <th>doc15</th>\n",
       "    </tr>\n",
       "  </thead>\n",
       "  <tbody>\n",
       "    <tr>\n",
       "      <th>0</th>\n",
       "      <td>심판</td>\n",
       "      <td>수비</td>\n",
       "      <td>헤딩</td>\n",
       "      <td>클럽</td>\n",
       "      <td>선수</td>\n",
       "      <td>수비수</td>\n",
       "      <td>페널티킥</td>\n",
       "      <td>공격</td>\n",
       "      <td>페널티킥</td>\n",
       "      <td>리그</td>\n",
       "      <td>평균</td>\n",
       "      <td>신뢰구간</td>\n",
       "      <td>확률</td>\n",
       "      <td>데이터분석</td>\n",
       "      <td>딥러닝</td>\n",
       "    </tr>\n",
       "    <tr>\n",
       "      <th>1</th>\n",
       "      <td>헤딩</td>\n",
       "      <td>골</td>\n",
       "      <td>리그</td>\n",
       "      <td>선수</td>\n",
       "      <td>경기장</td>\n",
       "      <td>심판</td>\n",
       "      <td>중앙미드필더</td>\n",
       "      <td>경기장</td>\n",
       "      <td>패스</td>\n",
       "      <td>슈팅</td>\n",
       "      <td>데이터분석</td>\n",
       "      <td>딥러닝</td>\n",
       "      <td>로지스틱 회귀</td>\n",
       "      <td>데이터과학</td>\n",
       "      <td>인공지능</td>\n",
       "    </tr>\n",
       "    <tr>\n",
       "      <th>2</th>\n",
       "      <td>선수</td>\n",
       "      <td>챔피언스리그</td>\n",
       "      <td>드리블</td>\n",
       "      <td>챔피언스리그</td>\n",
       "      <td>수비</td>\n",
       "      <td>공</td>\n",
       "      <td>챔피언스리그</td>\n",
       "      <td>패스</td>\n",
       "      <td>골키퍼</td>\n",
       "      <td>드리블</td>\n",
       "      <td>클러스터링</td>\n",
       "      <td>확률</td>\n",
       "      <td>통계</td>\n",
       "      <td>분류</td>\n",
       "      <td>표본</td>\n",
       "    </tr>\n",
       "    <tr>\n",
       "      <th>3</th>\n",
       "      <td>골</td>\n",
       "      <td>헤딩</td>\n",
       "      <td>골키퍼</td>\n",
       "      <td>슈팅</td>\n",
       "      <td>골키퍼</td>\n",
       "      <td>공격</td>\n",
       "      <td>선수</td>\n",
       "      <td>수비수</td>\n",
       "      <td>공</td>\n",
       "      <td>선수</td>\n",
       "      <td>데이터과학</td>\n",
       "      <td>평균</td>\n",
       "      <td>딥러닝</td>\n",
       "      <td>통계적 가설검정</td>\n",
       "      <td>표준편차</td>\n",
       "    </tr>\n",
       "    <tr>\n",
       "      <th>4</th>\n",
       "      <td>리그</td>\n",
       "      <td>경기장</td>\n",
       "      <td>공격수</td>\n",
       "      <td>리그</td>\n",
       "      <td>월드컵</td>\n",
       "      <td>표준편차</td>\n",
       "      <td>표본</td>\n",
       "      <td>신뢰구간</td>\n",
       "      <td>신뢰구간</td>\n",
       "      <td>평균</td>\n",
       "      <td>신경망</td>\n",
       "      <td>데이터분석</td>\n",
       "      <td>모집단</td>\n",
       "      <td>머신러닝</td>\n",
       "      <td>신경망</td>\n",
       "    </tr>\n",
       "    <tr>\n",
       "      <th>5</th>\n",
       "      <td>골</td>\n",
       "      <td>골키퍼</td>\n",
       "      <td>공격수</td>\n",
       "      <td>수비</td>\n",
       "      <td>리그</td>\n",
       "      <td>표본</td>\n",
       "      <td>평균</td>\n",
       "      <td>데이터과학</td>\n",
       "      <td>딥러닝</td>\n",
       "      <td>데이터분석</td>\n",
       "      <td>데이터분석</td>\n",
       "      <td>상관관계</td>\n",
       "      <td>머신러닝</td>\n",
       "      <td>로지스틱 회귀</td>\n",
       "      <td>분류</td>\n",
       "    </tr>\n",
       "    <tr>\n",
       "      <th>6</th>\n",
       "      <td>선수</td>\n",
       "      <td>챔피언스리그</td>\n",
       "      <td>월드컵</td>\n",
       "      <td>리그</td>\n",
       "      <td>드리블</td>\n",
       "      <td>상관관계</td>\n",
       "      <td>분류</td>\n",
       "      <td>확률</td>\n",
       "      <td>평균</td>\n",
       "      <td>데이터과학</td>\n",
       "      <td>상관관계</td>\n",
       "      <td>회귀분석</td>\n",
       "      <td>인공지능</td>\n",
       "      <td>회귀분석</td>\n",
       "      <td>모집단</td>\n",
       "    </tr>\n",
       "    <tr>\n",
       "      <th>7</th>\n",
       "      <td>공격</td>\n",
       "      <td>헤딩</td>\n",
       "      <td>선수</td>\n",
       "      <td>중앙미드필더</td>\n",
       "      <td>공격수</td>\n",
       "      <td>모집단</td>\n",
       "      <td>로지스틱 회귀</td>\n",
       "      <td>통계</td>\n",
       "      <td>인공지능</td>\n",
       "      <td>신뢰구간</td>\n",
       "      <td>인공지능</td>\n",
       "      <td>통계</td>\n",
       "      <td>표준편차</td>\n",
       "      <td>분류</td>\n",
       "      <td>데이터분석</td>\n",
       "    </tr>\n",
       "    <tr>\n",
       "      <th>8</th>\n",
       "      <td>헤딩</td>\n",
       "      <td>경기장</td>\n",
       "      <td>공</td>\n",
       "      <td>공격</td>\n",
       "      <td>슈팅</td>\n",
       "      <td>딥러닝</td>\n",
       "      <td>머신러닝</td>\n",
       "      <td>분류</td>\n",
       "      <td>딥러닝</td>\n",
       "      <td>평균</td>\n",
       "      <td>상관관계</td>\n",
       "      <td>신경망</td>\n",
       "      <td>상관관계</td>\n",
       "      <td>표본</td>\n",
       "      <td>통계</td>\n",
       "    </tr>\n",
       "    <tr>\n",
       "      <th>9</th>\n",
       "      <td>슈팅</td>\n",
       "      <td>수비수</td>\n",
       "      <td>헤딩</td>\n",
       "      <td>공</td>\n",
       "      <td>선수</td>\n",
       "      <td>클러스터링</td>\n",
       "      <td>클러스터링</td>\n",
       "      <td>인공지능</td>\n",
       "      <td>분산</td>\n",
       "      <td>분류</td>\n",
       "      <td>확률</td>\n",
       "      <td>상관관계</td>\n",
       "      <td>확률</td>\n",
       "      <td>모집단</td>\n",
       "      <td>통계적 가설검정</td>\n",
       "    </tr>\n",
       "    <tr>\n",
       "      <th>10</th>\n",
       "      <td>공</td>\n",
       "      <td>수비수</td>\n",
       "      <td>중앙미드필더</td>\n",
       "      <td>중앙미드필더</td>\n",
       "      <td>선수</td>\n",
       "      <td>인공지능</td>\n",
       "      <td>평균</td>\n",
       "      <td>머신러닝</td>\n",
       "      <td>딥러닝</td>\n",
       "      <td>딥러닝</td>\n",
       "      <td>회귀분석</td>\n",
       "      <td>회귀분석</td>\n",
       "      <td>확률</td>\n",
       "      <td>통계적 가설검정</td>\n",
       "      <td>통계적 가설검정</td>\n",
       "    </tr>\n",
       "    <tr>\n",
       "      <th>11</th>\n",
       "      <td>패스</td>\n",
       "      <td>패스</td>\n",
       "      <td>공격</td>\n",
       "      <td>골</td>\n",
       "      <td>월드컵</td>\n",
       "      <td>챔피언스리그</td>\n",
       "      <td>수비수</td>\n",
       "      <td>수비수</td>\n",
       "      <td>월드컵</td>\n",
       "      <td>심판</td>\n",
       "      <td>로지스틱 회귀</td>\n",
       "      <td>확률</td>\n",
       "      <td>클러스터링</td>\n",
       "      <td>상관관계</td>\n",
       "      <td>머신러닝</td>\n",
       "    </tr>\n",
       "    <tr>\n",
       "      <th>12</th>\n",
       "      <td>공격수</td>\n",
       "      <td>드리블</td>\n",
       "      <td>선수</td>\n",
       "      <td>패스</td>\n",
       "      <td>드리블</td>\n",
       "      <td>공</td>\n",
       "      <td>중앙미드필더</td>\n",
       "      <td>수비수</td>\n",
       "      <td>월드컵</td>\n",
       "      <td>슈팅</td>\n",
       "      <td>평균</td>\n",
       "      <td>로지스틱 회귀</td>\n",
       "      <td>신경망</td>\n",
       "      <td>표본</td>\n",
       "      <td>머신러닝</td>\n",
       "    </tr>\n",
       "    <tr>\n",
       "      <th>13</th>\n",
       "      <td>페널티킥</td>\n",
       "      <td>선수</td>\n",
       "      <td>수비수</td>\n",
       "      <td>중앙미드필더</td>\n",
       "      <td>월드컵</td>\n",
       "      <td>심판</td>\n",
       "      <td>페널티킥</td>\n",
       "      <td>페널티킥</td>\n",
       "      <td>슈팅</td>\n",
       "      <td>패스</td>\n",
       "      <td>표준편차</td>\n",
       "      <td>상관관계</td>\n",
       "      <td>분류</td>\n",
       "      <td>클러스터링</td>\n",
       "      <td>상관관계</td>\n",
       "    </tr>\n",
       "    <tr>\n",
       "      <th>14</th>\n",
       "      <td>공</td>\n",
       "      <td>월드컵</td>\n",
       "      <td>드리블</td>\n",
       "      <td>클럽</td>\n",
       "      <td>골키퍼</td>\n",
       "      <td>챔피언스리그</td>\n",
       "      <td>심판</td>\n",
       "      <td>수비수</td>\n",
       "      <td>골키퍼</td>\n",
       "      <td>선수</td>\n",
       "      <td>딥러닝</td>\n",
       "      <td>데이터과학</td>\n",
       "      <td>데이터분석</td>\n",
       "      <td>표본</td>\n",
       "      <td>딥러닝</td>\n",
       "    </tr>\n",
       "  </tbody>\n",
       "</table>\n",
       "</div>"
      ],
      "text/plain": [
       "    doc1    doc2    doc3    doc4 doc5    doc6     doc7   doc8  doc9  doc10   \n",
       "0     심판      수비      헤딩      클럽   선수     수비수     페널티킥     공격  페널티킥     리그  \\\n",
       "1     헤딩       골      리그      선수  경기장      심판   중앙미드필더    경기장    패스     슈팅   \n",
       "2     선수  챔피언스리그     드리블  챔피언스리그   수비       공   챔피언스리그     패스   골키퍼    드리블   \n",
       "3      골      헤딩     골키퍼      슈팅  골키퍼      공격       선수    수비수     공     선수   \n",
       "4     리그     경기장     공격수      리그  월드컵    표준편차       표본   신뢰구간  신뢰구간     평균   \n",
       "5      골     골키퍼     공격수      수비   리그      표본       평균  데이터과학   딥러닝  데이터분석   \n",
       "6     선수  챔피언스리그     월드컵      리그  드리블    상관관계       분류     확률    평균  데이터과학   \n",
       "7     공격      헤딩      선수  중앙미드필더  공격수     모집단  로지스틱 회귀     통계  인공지능   신뢰구간   \n",
       "8     헤딩     경기장       공      공격   슈팅     딥러닝     머신러닝     분류   딥러닝     평균   \n",
       "9     슈팅     수비수      헤딩       공   선수   클러스터링    클러스터링   인공지능    분산     분류   \n",
       "10     공     수비수  중앙미드필더  중앙미드필더   선수    인공지능       평균   머신러닝   딥러닝    딥러닝   \n",
       "11    패스      패스      공격       골  월드컵  챔피언스리그      수비수    수비수   월드컵     심판   \n",
       "12   공격수     드리블      선수      패스  드리블       공   중앙미드필더    수비수   월드컵     슈팅   \n",
       "13  페널티킥      선수     수비수  중앙미드필더  월드컵      심판     페널티킥   페널티킥    슈팅     패스   \n",
       "14     공     월드컵     드리블      클럽  골키퍼  챔피언스리그       심판    수비수   골키퍼     선수   \n",
       "\n",
       "      doc11    doc12    doc13     doc14     doc15  \n",
       "0        평균     신뢰구간       확률     데이터분석       딥러닝  \n",
       "1     데이터분석      딥러닝  로지스틱 회귀     데이터과학      인공지능  \n",
       "2     클러스터링       확률       통계        분류        표본  \n",
       "3     데이터과학       평균      딥러닝  통계적 가설검정      표준편차  \n",
       "4       신경망    데이터분석      모집단      머신러닝       신경망  \n",
       "5     데이터분석     상관관계     머신러닝   로지스틱 회귀        분류  \n",
       "6      상관관계     회귀분석     인공지능      회귀분석       모집단  \n",
       "7      인공지능       통계     표준편차        분류     데이터분석  \n",
       "8      상관관계      신경망     상관관계        표본        통계  \n",
       "9        확률     상관관계       확률       모집단  통계적 가설검정  \n",
       "10     회귀분석     회귀분석       확률  통계적 가설검정  통계적 가설검정  \n",
       "11  로지스틱 회귀       확률    클러스터링      상관관계      머신러닝  \n",
       "12       평균  로지스틱 회귀      신경망        표본      머신러닝  \n",
       "13     표준편차     상관관계       분류     클러스터링      상관관계  \n",
       "14      딥러닝    데이터과학    데이터분석        표본       딥러닝  "
      ]
     },
     "execution_count": 7,
     "metadata": {},
     "output_type": "execute_result"
    }
   ],
   "source": [
    "D = {'doc1': ['심판', '헤딩', '선수', '골', '리그', '골', '선수', '공격', '헤딩', '슈팅', '공', '패스', '공격수', '페널티킥', '공'], 'doc2': ['수비', '골', '챔피언스리그', '헤딩', '경기장', '골키퍼', '챔피언스리그', '헤딩', '경기장', '수비수', '수비수', '패스', '드리블', '선수', '월드컵'], 'doc3': ['헤딩', '리그', '드리블', '골키퍼', '공격수', '공격수', '월드컵', '선수', '공', '헤딩', '중앙미드필더', '공격', '선수', '수비수', '드리블'], 'doc4': ['클럽', '선수', '챔피언스리그', '슈팅', '리그', '수비', '리그', '중앙미드필더', '공격', '공', '중앙미드필더', '골', '패스', '중앙미드필더', '클럽'], 'doc5': ['선수', '경기장', '수비', '골키퍼', '월드컵', '리그', '드리블', '공격수', '슈팅', '선수', '선수', '월드컵', '드리블', '월드컵', '골키퍼'], 'doc6': ['수비수', '심판', '공', '공격', '표준편차', '표본', '상관관계', '모집단', '딥러닝', '클러스터링', '인공지능', '챔피언스리그', '공', '심판', '챔피언스리그'], 'doc7': ['페널티킥', '중앙미드필더', '챔피언스리그', '선수', '표본', '평균', '분류', '로지스틱 회귀', '머신러닝', '클러스터링', '평균', '수비수', '중앙미드필더', '페널티킥', '심판'], 'doc8': ['공격', '경기장', '패스', '수비수', '신뢰구간', '데이터과학', '확률', '통계', '분류', '인공지능', '머신러닝', '수비수', '수비수', '페널티킥', '수비수'], 'doc9': ['페널티킥', '패스', '골키퍼', '공', '신뢰구간', '딥러닝', '평균', '인공지능', '딥러닝', '분산', '딥러닝', '월드컵', '월드컵', '슈팅', '골키퍼'], 'doc10': ['리그', '슈팅', '드리블', '선수', '평균', '데이터분석', '데이터과학', '신뢰구간', '평균', '분류', '딥러닝', '심판', '슈팅', '패스', '선수'], 'doc11': ['평균', '데이터분석', '클러스터링', '데이터과학', '신경망', '데이터분석', '상관관계', '인공지능', '상관관계', '확률', '회귀분석', '로지스틱 회귀', '평균', '표준편차', '딥러닝'], 'doc12': ['신뢰구간', '딥러닝', '확률', '평균', '데이터분석', '상관관계', '회귀분석', '통계', '신경망', '상관관계', '회귀분석', '확률', '로지스틱 회귀', '상관관계', '데이터과학'], 'doc13': ['확률', '로지스틱 회귀', '통계', '딥러닝', '모집단', '머신러닝', '인공지능', '표준편차', '상관관계', '확률', '확률', '클러스터링', '신경망', '분류', '데이터분석'], 'doc14': ['데이터분석', '데이터과학', '분류', '통계적 가설검정', '머신러닝', '로지스틱 회귀', '회귀분석', '분류', '표본', '모집단', '통계적 가설검정', '상관관계', '표본', '클러스터링', '표본'], 'doc15': ['딥러닝', '인공지능', '표본', '표준편차', '신경망', '분류', '모집단', '데이터분석', '통계', '통계적 가설검정', '통계적 가설검정', '머신러닝', '머신러닝', '상관관계', '딥러닝']}\n",
    "pd.DataFrame(D)"
   ]
  },
  {
   "cell_type": "markdown",
   "id": "42b912b5-dd9c-4984-a514-b159a3c94995",
   "metadata": {},
   "source": [
    "## 함수"
   ]
  },
  {
   "cell_type": "code",
   "execution_count": 22,
   "id": "a227f1b9-5441-428a-b16e-a467a0a671df",
   "metadata": {},
   "outputs": [],
   "source": [
    "def p1(topic,doc,data):\n",
    "    θ = data['θ']\n",
    "    a = θ[doc].count(topic) +0.1\n",
    "    b = len(θ[doc]) + 0.1 #*K  \n",
    "    return a/b"
   ]
  },
  {
   "cell_type": "code",
   "execution_count": 29,
   "id": "15eb85eb-66e1-404b-a03e-070ef7f1d6dd",
   "metadata": {},
   "outputs": [],
   "source": [
    "def p2(word,topic,data):\n",
    "    D=data['D']\n",
    "    θ=data['θ']\n",
    "    tpclst = [tpc for doc in θ for tpc in θ[doc]]\n",
    "    wrdlst = [wrd for doc in D for wrd in D[doc]]\n",
    "    a = [wrd for i,wrd in enumerate(wrdlst) if tpclst[i]==topic].count(word) + 0.1 \n",
    "    b = tpclst.count(topic) + 0.1# * len(set(_words))\n",
    "    return a/b"
   ]
  },
  {
   "cell_type": "markdown",
   "id": "3c221999-029d-4846-9556-6757c40dc654",
   "metadata": {},
   "source": [
    "## 하이퍼파라메터"
   ]
  },
  {
   "cell_type": "code",
   "execution_count": 30,
   "id": "24ea3346-b98f-4eb0-946c-84a19eefd4e1",
   "metadata": {},
   "outputs": [],
   "source": [
    "K = 2"
   ]
  },
  {
   "cell_type": "markdown",
   "id": "0823f571-b6b3-4cac-8a23-9d35d151beb7",
   "metadata": {},
   "source": [
    "## 초기값"
   ]
  },
  {
   "cell_type": "code",
   "execution_count": 31,
   "id": "39718500-f6da-423a-bf24-7dcca484a8c7",
   "metadata": {},
   "outputs": [],
   "source": [
    "θ = {doc:np.random.choice([0,1],size=15).tolist() for doc in D}"
   ]
  },
  {
   "cell_type": "markdown",
   "id": "f81d43ca-839e-481d-9da2-a822c938d014",
   "metadata": {},
   "source": [
    "## 반복 "
   ]
  },
  {
   "cell_type": "code",
   "execution_count": 32,
   "id": "5be701e1-4061-47a1-ac25-f5781b6071ac",
   "metadata": {},
   "outputs": [
    {
     "data": {
      "text/plain": [
       "<matplotlib.image.AxesImage at 0x7f9ec0245fa0>"
      ]
     },
     "execution_count": 32,
     "metadata": {},
     "output_type": "execute_result"
    },
    {
     "data": {
      "image/png": "[encoded data removed]",
      "text/plain": [
       "<Figure size 288x288 with 1 Axes>"
      ]
     },
     "metadata": {
      "needs_background": "light"
     },
     "output_type": "display_data"
    }
   ],
   "source": [
    "plt.matshow(list(θ.values()))"
   ]
  },
  {
   "cell_type": "code",
   "execution_count": 40,
   "id": "ca1b0df3-6204-49b2-84ac-79a6e192c027",
   "metadata": {},
   "outputs": [],
   "source": [
    "for t in range(5):\n",
    "    for doc in D:\n",
    "        for i, (word, topic) in enumerate(zip(D[doc],θ[doc])):\n",
    "            data = {'D':copy.deepcopy(D), 'θ': copy.deepcopy(θ)} \n",
    "            del data['D'][doc][i]\n",
    "            del data['θ'][doc][i]\n",
    "            msr = [] \n",
    "            for topic in range(K): \n",
    "                msr.append(p1(topic, doc, data) * p2(word, topic, data))\n",
    "            prob = np.array(msr)/sum(msr)\n",
    "            θ[doc][i] = np.random.choice([0,1], p=prob)"
   ]
  },
  {
   "cell_type": "markdown",
   "id": "50427cee-6f4e-48fc-9b8c-6f74cf594e2d",
   "metadata": {},
   "source": [
    "## 평가"
   ]
  },
  {
   "cell_type": "code",
   "execution_count": 41,
   "id": "0470886a-715c-45b4-81b5-ac2b833e5cd0",
   "metadata": {},
   "outputs": [
    {
     "data": {
      "text/plain": [
       "<matplotlib.image.AxesImage at 0x7f9ebfef4ee0>"
      ]
     },
     "execution_count": 41,
     "metadata": {},
     "output_type": "execute_result"
    },
    {
     "data": {
      "image/png": "[encoded data removed]",
      "text/plain": [
       "<Figure size 288x288 with 1 Axes>"
      ]
     },
     "metadata": {
      "needs_background": "light"
     },
     "output_type": "display_data"
    }
   ],
   "source": [
    "plt.matshow(list(θ.values()))"
   ]
  },
  {
   "cell_type": "code",
   "execution_count": null,
   "id": "51098d77-abd5-4561-b609-5090fd5633f2",
   "metadata": {},
   "outputs": [],
   "source": []
  }
 ],
 "metadata": {
  "kernelspec": {
   "display_name": "Python 3",
   "language": "python",
   "name": "python3"
  },
  "language_info": {
   "codemirror_mode": {
    "name": "ipython",
    "version": 3
   },
   "file_extension": ".py",
   "mimetype": "text/x-python",
   "name": "python",
   "nbconvert_exporter": "python",
   "pygments_lexer": "ipython3",
   "version": "3.8.16"
  }
 },
 "nbformat": 4,
 "nbformat_minor": 5
}
