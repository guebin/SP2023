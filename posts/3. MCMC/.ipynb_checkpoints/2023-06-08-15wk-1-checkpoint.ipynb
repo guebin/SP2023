{
 "cells": [
  {
   "cell_type": "raw",
   "id": "8bcc0278-32f3-4dc9-90a7-7399bbb9e2b8",
   "metadata": {},
   "source": [
    "---\n",
    "title: \"15wk-1: MCMC (3)\"\n",
    "author: \"최규빈\"\n",
    "date: \"06/01/2023\"\n",
    "bibliography: ref.bib\n",
    "title-block-style: none\n",
    "title-block-banner: false\n",
    "---"
   ]
  },
  {
   "cell_type": "code",
   "execution_count": 7,
   "id": "b591b151-322d-4bef-8c59-b70c311720c2",
   "metadata": {},
   "outputs": [],
   "source": [
    "import pandas as pd\n",
    "import numpy as np\n",
    "import matplotlib.pylab as plt\n",
    "import copy"
   ]
  },
  {
   "cell_type": "markdown",
   "id": "bb8249bf-bc14-40ec-a21c-f2eafcd1819b",
   "metadata": {},
   "source": [
    "# 강의영상 "
   ]
  },
  {
   "cell_type": "markdown",
   "id": "4e23738c-38e8-4b6e-b206-d7afabe9c05d",
   "metadata": {},
   "source": [
    "> youtube: <https://youtube.com/playlist?list=PLQqh36zP38-z-M7HO1xUnq2z5lK8aq1_a>"
   ]
  },
  {
   "cell_type": "markdown",
   "id": "67a666c0-cd8c-4cf6-b5a9-9aaf56116c78",
   "metadata": {},
   "source": [
    "# imports"
   ]
  },
  {
   "cell_type": "markdown",
   "id": "49d82d39-0b75-43a0-9679-d217ce1c61dd",
   "metadata": {},
   "source": [
    "# 모티브"
   ]
  },
  {
   "cell_type": "markdown",
   "id": "ff16699a-9cdd-40e8-a3c8-47a08156dd68",
   "metadata": {},
   "source": [
    "`-` 축구기사 \n",
    "\n",
    "- 손흥민: <https://www.hani.co.kr/arti/sports/soccer/1093315.html>"
   ]
  },
  {
   "cell_type": "markdown",
   "id": "a408f2c0-91a3-4a53-8b69-77f7c5f98f6e",
   "metadata": {},
   "source": [
    "`-` 16강진출 경우의 수 \n",
    "\n",
    "- 16강 가능할까? : <https://www.fifa.com/fifaplus/ko/articles/number-of-cases-korea-goes-to-round-of-16>"
   ]
  },
  {
   "cell_type": "markdown",
   "id": "98e24ac5-2306-42e6-a4f2-508bf5601525",
   "metadata": {},
   "source": [
    "`-` 통계, 데이터과학 \n",
    "\n",
    "- 생략 "
   ]
  },
  {
   "cell_type": "markdown",
   "id": "c85e6b87-7eed-42ea-bc32-fc81f49ba015",
   "metadata": {},
   "source": [
    "# 문제소개"
   ]
  },
  {
   "cell_type": "markdown",
   "id": "3adce273-de42-475b-809b-75a7e3d4f108",
   "metadata": {},
   "source": [
    "`-` 3개의 문서가 있으며 각 문서에는 아래와 같이 2개의 단어가 있는 데이터를 고려하자. "
   ]
  },
  {
   "cell_type": "code",
   "execution_count": 8,
   "id": "f3ff1e89-fad5-4424-8378-93cca3109512",
   "metadata": {},
   "outputs": [
    {
     "data": {
      "text/plain": [
       "{'doc1': ['손흥민', '골'], 'doc2': ['골', '확률'], 'doc3': ['확률', '데이터과학']}"
      ]
     },
     "execution_count": 8,
     "metadata": {},
     "output_type": "execute_result"
    }
   ],
   "source": [
    "D = {\n",
    "    'doc1':['손흥민','골'],\n",
    "    'doc2':['골','확률'],\n",
    "    'doc3':['확률','데이터과학']\n",
    "}\n",
    "D"
   ]
  },
  {
   "cell_type": "markdown",
   "id": "ed4fedb5-4042-4a57-8cb1-2b7970d88de8",
   "metadata": {},
   "source": [
    "- 여기에서 $D$는 문서들의 집합, 즉 코퍼스를 의미한다. "
   ]
  },
  {
   "cell_type": "markdown",
   "id": "f73c9b05-129a-4b32-bf3d-b81b9a2aa383",
   "metadata": {},
   "source": [
    "`-` 데이터설명 "
   ]
  },
  {
   "cell_type": "markdown",
   "id": "7c17a07e-569e-485f-bed2-1b558f4ef32e",
   "metadata": {},
   "source": [
    "***토픽***\n",
    "\n",
    "- 토픽0 = 축구 : '골', '손흥민' 와 같은 단어가 쓰임. \n",
    "- 토픽1 = 통계 : '데이터과학', '확률' 와 같은 단어가 쓰임. "
   ]
  },
  {
   "cell_type": "markdown",
   "id": "2547ff1c-cc40-42ef-94a0-36ad871a13a3",
   "metadata": {},
   "source": [
    "***문서***\n",
    "    \n",
    "- doc0은 축구를 주제로 쓰여진 글인듯 하다.\n",
    "- doc2은 데이터과학을 주제로 쓰여진 글인듯 하다. \n",
    "- doc1는 축구와 데이터과학이 혼합된 주제인듯 하다. "
   ]
  },
  {
   "cell_type": "markdown",
   "id": "5ab27d0e-0e3f-4877-99fd-e123a6a21898",
   "metadata": {},
   "source": [
    "`-` 원하는 것1: 문서별로 토픽이 얼마나 들어있는지 알고싶다. \n",
    "\n",
    "- 즉 $D$를 입력으로 넣으면 아래와 같은 $\\theta$ 가 나오면 좋겠음 "
   ]
  },
  {
   "cell_type": "code",
   "execution_count": 9,
   "id": "aff70504-a752-4713-9963-21512348b873",
   "metadata": {},
   "outputs": [
    {
     "data": {
      "text/plain": [
       "{'doc1': [1, 1], 'doc2': [1, 2], 'doc3': [2, 2]}"
      ]
     },
     "execution_count": 9,
     "metadata": {},
     "output_type": "execute_result"
    }
   ],
   "source": [
    "θ = {\n",
    "    'doc1':[1,1],\n",
    "    'doc2':[1,2],\n",
    "    'doc3':[2,2]\n",
    "}\n",
    "θ"
   ]
  },
  {
   "cell_type": "markdown",
   "id": "3424c9bf-9b48-45c6-8842-3ec3548053ec",
   "metadata": {},
   "source": [
    "::: {#tbl-panel layout-ncol=2}\n",
    "\n",
    "| doc1 | doc2 | doc3 |\n",
    "|------|------|------|\n",
    "| 손흥민 | 골    | 확률    |\n",
    "| 골    | 확률    | 데이터과학    |\n",
    "\n",
    ": $D$: 코퍼스(=관찰한자료) {#tbl-first}\n",
    "\n",
    "| doc1 | doc2 | doc3 |\n",
    "|------|------|------|\n",
    "| 1 | 1 | 2 |\n",
    "| 1 | 2 | 2 |\n",
    "\n",
    ": ${\\boldsymbol \\theta}$: 추정된 토픽 {#tbl-second}\n",
    "\n",
    "우리가 원하는것 (1)\n",
    ":::"
   ]
  },
  {
   "cell_type": "markdown",
   "id": "8c32a2b7-2e65-463b-962e-a537f7a11d44",
   "metadata": {},
   "source": [
    "`-` 원하는것1에 대한 아쉬움\n",
    "\n",
    "- 그런데 생각해보니까 \"손흥민\"이라는 단어는 완전 축구단어\n",
    "- \"골\"이라는 단어는 가끔 데이터과학과 섞일 수 있는 단어 \n",
    "- \"손흥민\"이라는 단어는 축구토픽에서 나올 확률이 90퍼 이상, \"골\"은 축구토픽에서 나올 확률이 80퍼정도일수도 있잖음? "
   ]
  },
  {
   "cell_type": "markdown",
   "id": "2bbd0ad0-536e-4424-a46e-a0c3bb77e58e",
   "metadata": {},
   "source": [
    "`-` 원하는 것2: 특정한 하나의 ${\\boldsymbol \\theta}$ 값이 아니라 아래와 같이\n",
    "\n",
    "$${\\boldsymbol \\theta} \\sim {\\boldsymbol \\pi}$$\n",
    "\n",
    "${\\boldsymbol \\theta}$를 뽑아낼 수 있는 분포 ${\\boldsymbol \\pi}$를 알아내는게 더 좋지 않을까? "
   ]
  },
  {
   "cell_type": "markdown",
   "id": "e2893d4b-ba0c-4208-97ee-274951d0d1b8",
   "metadata": {},
   "source": [
    "::: {#tbl-panel layout-ncol=3}\n",
    "\n",
    "| doc1 | doc2 | doc3 |\n",
    "|------|------|------|\n",
    "| 손흥민 | 골    | 확률    |\n",
    "| 골    | 확률    | 데이터과학    |\n",
    "\n",
    ": $D$: 코퍼스(=관찰한자료) {#tbl-first}\n",
    "\n",
    "| doc1 | doc2 | doc3 |\n",
    "|------|------|------|\n",
    "| 1 | 1 | 2 |\n",
    "| 1 | 2 | 2 |\n",
    "\n",
    ": ${\\boldsymbol \\theta}$: 토픽 {#tbl-second}\n",
    "\n",
    "| doc1 | doc2 | doc3 |\n",
    "|------|------|------|\n",
    "| $\\begin{bmatrix}0.9\\\\0.1\\end{bmatrix}$ | $\\begin{bmatrix}0.8\\\\0.2\\end{bmatrix}$ | $\\begin{bmatrix}0.3\\\\0.7\\end{bmatrix}$  |\n",
    "| $\\begin{bmatrix}0.8\\\\0.2\\end{bmatrix}$ | $\\begin{bmatrix}0.3\\\\0.7\\end{bmatrix}$ | $\\begin{bmatrix}0.05\\\\0.95\\end{bmatrix}$  |\n",
    "\n",
    ": ${\\boldsymbol \\pi}$: 정상분포 {#tbl-second}\n",
    "\n",
    "\n",
    "우리가 원하는것 (2)\n",
    ":::"
   ]
  },
  {
   "cell_type": "markdown",
   "id": "844bca7d-640a-4554-b383-8fec900b82d7",
   "metadata": {},
   "source": [
    "`-` 어려운점: 현재 ${\\boldsymbol \\pi}$ (=${\\boldsymbol \\theta}$의 pmf) 의 수식을 알 수 없어서 직접 뽑기 어렵다. "
   ]
  },
  {
   "cell_type": "markdown",
   "id": "84458a8b-c1d4-4ab8-acde-6ca33f25a95c",
   "metadata": {},
   "source": [
    "# 가능한 해결책: 아이디어 단계"
   ]
  },
  {
   "cell_type": "markdown",
   "id": "537a17df-27d3-4110-8fc0-5db77d2a9444",
   "metadata": {},
   "source": [
    "`-` 이론적인 근거는 아직 설명하기 어렵지만 되게 그럴듯한 해결책이 있습니다. "
   ]
  },
  {
   "cell_type": "markdown",
   "id": "0429fe97-36c6-4b04-8ea6-83549ece122a",
   "metadata": {},
   "source": [
    "`-` 문제의 단순화:\n",
    "    \n",
    "- 결국 길이가 6인 랜덤벡터 ${\\boldsymbol \\theta}=(\\theta[0],\\dots,\\theta[5])$ 를 뽑는 일이다. "
   ]
  },
  {
   "cell_type": "markdown",
   "id": "811b0ac5-a48b-4580-8c71-2679f1174c43",
   "metadata": {},
   "source": [
    "## ***단계1: 아무값이나 넣어서 ${\\boldsymbol \\theta}_0$를 초기화한다.***"
   ]
  },
  {
   "cell_type": "markdown",
   "id": "5874ae93-d670-4161-8af3-51f89cb9323c",
   "metadata": {},
   "source": [
    "`-` ${\\boldsymbol \\theta}_0=(\\theta_0[0],\\dots,\\theta_0[5])$를 아무값이나 셋팅 "
   ]
  },
  {
   "cell_type": "code",
   "execution_count": 10,
   "id": "f054c929-780a-4161-9d4b-6fa347ae6fef",
   "metadata": {},
   "outputs": [],
   "source": [
    "θ = {\n",
    "    'doc1':[2,1],\n",
    "    'doc2':[1,2],\n",
    "    'doc3':[2,1]\n",
    "}"
   ]
  },
  {
   "cell_type": "markdown",
   "id": "8798793b-34d0-417b-b9ad-c349ab47c7ad",
   "metadata": {},
   "source": [
    "- ${\\boldsymbol \\theta}_0 = [2,1,1,2,2,1]$ 이라고 생각하자. "
   ]
  },
  {
   "cell_type": "markdown",
   "id": "f9e4cedb-0cdf-496a-b6ea-950b8bcdd801",
   "metadata": {},
   "source": [
    "`-` 임의의 초기값이 셋팅된 상황은 아래와 같다. "
   ]
  },
  {
   "cell_type": "markdown",
   "id": "7fa1b779-f818-4431-9c9a-3f784f852e40",
   "metadata": {},
   "source": [
    "::: {#tbl-panel layout=[[1,1],[1,1]]}\n",
    "| doc1 | doc2 | doc3 |\n",
    "|------|------|------|\n",
    "| 손흥민 | 골    | 확률    |\n",
    "| 골    | 확률    | 데이터과학    |\n",
    "\n",
    ": $D$: 코퍼스(=관찰한자료) {#tbl-first}\n",
    "\n",
    "| doc1 | doc2 | doc3 |\n",
    "|------|------|------|\n",
    "| 2 (=$\\theta_0[0]$) | 1 (=$\\theta_0[2]$) | 2 (=$\\theta_0[4]$) |\n",
    "| 1 (=$\\theta_0[1]$) | 2 (=$\\theta_0[3]$) | 1 (=$\\theta_0[5]$) |\n",
    "\n",
    ": ${\\boldsymbol \\theta}_t$: 임의의 초기값으로 설정된 토픽 {#tbl-second}\n",
    "\n",
    "| topic| words|\n",
    "|------|------|\n",
    "| 1 | 골, 골, 데이터과학 |\n",
    "| 2 | 손흥민, 확률, 확률 |\n",
    "\n",
    ": 토픽별로 등장하는 단어 {tbl-colwidths=\"[25,75]\"}\n",
    "\n",
    "초기상태요약\n",
    ":::\n",
    "\n"
   ]
  },
  {
   "cell_type": "markdown",
   "id": "403df872-464b-4729-949e-541f49025f57",
   "metadata": {},
   "source": [
    "## ***단계2: ${\\boldsymbol \\theta}_0[0], {\\boldsymbol \\theta}_0[1] \\cdots, {\\boldsymbol \\theta}_0[5]$ 을 순서대로 샘플링***"
   ]
  },
  {
   "cell_type": "markdown",
   "id": "2be4e739-0e66-4471-beca-8e0949b61475",
   "metadata": {},
   "source": [
    "***`-` 예비개념: MCMC에서 베타분포를 뽑았던 예제로 돌아가보자*** \n",
    "\n",
    "1. 임의의 초기값 $x$ 생성 \n",
    "2. 새로운 값으로 $y$를 고려 (추천받을 수도 있고 그냥 고려할수도 있음)\n",
    "3. $x$가 그럴듯한지, $y$가 그럴듯한지 판단하고 $x'$의 값은 어떠한확률로 $x,y$ 중에서 선택"
   ]
  },
  {
   "cell_type": "markdown",
   "id": "828e63b6-f035-44df-b03c-611b42b0df73",
   "metadata": {},
   "source": [
    "`-` 전략: 그동안 pmf 혹은 pdf의 정보가 필요했던 것은 \"그럴듯한 정도\" 를 판단할 기준을 얻기 위해서였다. 그런데 만약, \"그럴듯한 정도\"를 판단하는 기준을 pmf, pdf 로 정하지 않는다면? pmf 혹은 pdf 가 필요하지 않다. "
   ]
  },
  {
   "cell_type": "markdown",
   "id": "f96c45b6-80f4-4614-9008-75214aaf258c",
   "metadata": {},
   "source": [
    "### stage0: ***${\\boldsymbol \\theta}_0[0]$을 sampling***"
   ]
  },
  {
   "cell_type": "markdown",
   "id": "507932fc-5205-4064-bee4-678b5eb60e47",
   "metadata": {},
   "source": [
    "`-` 현재상태\n",
    "\n",
    "- 빨간색/볼드: 지금 focus하는 것"
   ]
  },
  {
   "cell_type": "markdown",
   "id": "907fb466-7f64-435f-9a61-698488535018",
   "metadata": {},
   "source": [
    "::: {#tbl-panel layout=[[1,1],[1,1]]}\n",
    "| doc1 | doc2 | doc3 |\n",
    "|------|------|------|\n",
    "| <span style=\"color: red; font-weight: bold;\">손흥민</span> | 골    | 확률    |\n",
    "| 골    | 확률    | 데이터과학    |\n",
    "\n",
    ": $D$: 코퍼스(=관찰한자료) {#tbl-first}\n",
    "\n",
    "| doc1 | doc2 | doc3 |\n",
    "|------|------|------|\n",
    "| <span style=\"color: red; font-weight: bold;\"> 2 (=$\\theta_0[0]$)</span> | 1 (=$\\theta_0[2]$) | 2 (=$\\theta_0[4]$) |\n",
    "| 1 (=$\\theta_0[1]$) | 2 (=$\\theta_0[3]$) | 1 (=$\\theta_0[5]$) |\n",
    "\n",
    ": ${\\boldsymbol \\theta}_t$: 추정된 토픽 {#tbl-second}\n",
    "\n",
    "| topic| words|\n",
    "|------|------|\n",
    "| 1 | 골, 골, 데이터과학 |\n",
    "| 2 | <span style=\"color: red; font-weight: bold;\">손흥민</span>, 확률, 확률 |\n",
    "\n",
    ": 토픽별로 등장하는 단어 {tbl-colwidths=\"[25,75]\"}\n",
    "\n",
    "||관찰|결론|\n",
    "|---|---|---|\n",
    "|문서눈치|문서안에서 나말고 다른 단어는 토픽1으로 분류되어있음|나도 토픽1인듯|\n",
    "|토픽눈치|토픽1에도, 토픽2에도 나랑 같은 단어는 없음|난 토픽1도 2도 아닌듯|\n",
    ": $\\theta_0[0]$의 고민 = 나는 토픽1인가 토픽2인가?\n",
    "\n",
    "$t=0$, $d={\\tt doc1}$, $w={\\tt 손흥민}$\n",
    ":::\n",
    "\n"
   ]
  },
  {
   "cell_type": "markdown",
   "id": "e4535293-c392-48dc-b195-ea873f78a4cd",
   "metadata": {},
   "source": [
    "`-` $\\theta_0[0]$이 토픽1에서 뽑혓다고 보는게 타당한지 토픽1에서 뽑혔다고 보는게 타당하지 아래와 같이 따져보자.\n",
    "\n",
    "- 토픽1의 타당성: (`doc1`에 토픽1이 포함된 비율) $\\times$ (토픽1에서 `손흥민`이라는 단어가 포함된 비율) = 1 $\\times$ 0\n",
    "- 토픽2의 타당성: (`doc1`에 토픽2가 포함된 비율) $\\times$ (토픽2에서 `손흥민`이라는 단어가 포함된 비율) = 0 $\\times$ 0"
   ]
  },
  {
   "cell_type": "markdown",
   "id": "754ae01e-81a3-493c-a174-b73dacdc7b62",
   "metadata": {},
   "source": [
    "> 둘 다 $0$ 이라서 비긴거야?? 그런데 그래도 토픽1가 그나마 타당한거아냐? "
   ]
  },
  {
   "cell_type": "markdown",
   "id": "b9967290-2111-4da4-be84-f4fd1cca1fc1",
   "metadata": {},
   "source": [
    "`-` 수정된 타당성 \n",
    "\n",
    "- 토픽1의 타당성: (`doc1`에 토픽1이 포함된 비율) $\\times$ (토픽1에서 `손흥민`이라는 단어가 포함된 비율) = 1 $\\times$ 0.001\n",
    "- 토픽2의 타당성: (`doc1`에 토픽2가 포함된 비율) $\\times$ (토픽2에서 `손흥민`이라는 단어가 포함된 비율) = 0.001 $\\times$ 0.001"
   ]
  },
  {
   "cell_type": "markdown",
   "id": "ad33e9f2-20b0-42b6-89bd-06d43214a8ea",
   "metadata": {},
   "source": [
    "> $\\theta_0[0]$의 생각: 나는 토픽1인듯해"
   ]
  },
  {
   "cell_type": "markdown",
   "id": "cf797141-6f69-40e6-bbaf-3cb3c5e03cdd",
   "metadata": {},
   "source": [
    "`-` 업데이트 "
   ]
  },
  {
   "cell_type": "code",
   "execution_count": 11,
   "id": "0e8a1d00-0d0e-4df9-ab02-63667ff5905b",
   "metadata": {},
   "outputs": [
    {
     "data": {
      "text/plain": [
       "2"
      ]
     },
     "execution_count": 11,
     "metadata": {},
     "output_type": "execute_result"
    }
   ],
   "source": [
    "θ['doc1'][0]"
   ]
  },
  {
   "cell_type": "code",
   "execution_count": 12,
   "id": "44abb322-a98c-4cc0-b073-1151fe719c8d",
   "metadata": {},
   "outputs": [],
   "source": [
    "θ['doc1'][0] = 1"
   ]
  },
  {
   "cell_type": "markdown",
   "id": "67cbca3e-a0fd-4540-8986-91ac793e312d",
   "metadata": {
    "tags": []
   },
   "source": [
    "### stage1: ***${\\boldsymbol \\theta}_0[1]$을 sampling***"
   ]
  },
  {
   "cell_type": "markdown",
   "id": "89a0cc26-f1e1-4492-963d-4f72143832c4",
   "metadata": {},
   "source": [
    "`-` 현재상태\n",
    "\n",
    "- 빨간색/볼드: 지금 focus하는 것\n",
    "- 파란색/볼드: 과거 / 업데이트O"
   ]
  },
  {
   "cell_type": "markdown",
   "id": "1e91ac08-9691-4275-a605-564a6b2d3048",
   "metadata": {},
   "source": [
    "::: {#tbl-panel layout=[[1,1],[1,1]]}\n",
    "| doc1 | doc2 | doc3 |\n",
    "|------|------|------|\n",
    "| <span style=\"color: blue; font-weight: bold;\">손흥민</span> | 골    | 확률    |\n",
    "| <span style=\"color: red; font-weight: bold;\">골</span>    | 확률    | 데이터과학    |\n",
    "\n",
    ": $D$: 코퍼스(=관찰한자료) {#tbl-first}\n",
    "\n",
    "| doc1 | doc2 | doc3 |\n",
    "|------|------|------|\n",
    "| <span style=\"color: blue; font-weight: bold;\"> 1 (=$\\theta_1[0]$)</span>^[원래 2였는데 업데이트되었음] | 1 (=$\\theta_0[2]$) | 2 (=$\\theta_0[4]$) |\n",
    "| <span style=\"color: red; font-weight: bold;\"> 1 (=$\\theta_0[1]$)</span> | 2 (=$\\theta_0[3]$) | 1 (=$\\theta_0[5]$) |\n",
    "\n",
    ": ${\\boldsymbol \\theta}_t$: 추정된 토픽 {#tbl-second}\n",
    "\n",
    "| topic| words|\n",
    "|------|------|\n",
    "| 1 | <span style=\"color: red; font-weight: bold;\">골</span>, 골, 데이터과학, <span style=\"color: blue; font-weight: bold;\">손흥민</span>^[원래 2에 있었은데 1로 옮겼음] |\n",
    "| 2 | 확률, 확률 |\n",
    "\n",
    ": 토픽별로 등장하는 단어 {tbl-colwidths=\"[25,75]\"}\n",
    "\n",
    "||관찰|결론|\n",
    "|---|---|---|\n",
    "|문서눈치|문서안에서 나말고 다른 단어는 토픽1으로 분류되어있음 |나도 토픽1인듯|\n",
    "|토픽눈치|토픽1에는 나랑 같은 단어가 있는데 토픽2에는 없음 |나도 토픽1인듯|\n",
    ": $\\theta_0[1]$의 고민 = 나는 토픽1인가 토픽2인가?\n",
    "\n",
    "$t=0$, $d={\\tt doc1}$, $w={\\tt 골}$\n",
    ":::\n",
    "\n"
   ]
  },
  {
   "cell_type": "markdown",
   "id": "9f39bd50-ffcd-410b-964e-6eaf1f12f54c",
   "metadata": {},
   "source": [
    "`-` 수정된 타당성 \n",
    "\n",
    "- 토픽1의 타당성: (`doc1`에 토픽1이 포함된 비율) $\\times$ (토픽1에서 `골`이라는 단어가 포함된 비율) = 1 $\\times$ 1/3\n",
    "- 토픽2의 타당성: (`doc1`에 토픽2가 포함된 비율) $\\times$ (토픽2에서 `골`이라는 단어가 포함된 비율) = 0.001 $\\times$ 0.001"
   ]
  },
  {
   "cell_type": "markdown",
   "id": "e29bb32b-3db0-4248-98c3-89fc4f9dde97",
   "metadata": {},
   "source": [
    "> $\\theta_0[1]$의 생각: 나는 토픽1인듯해"
   ]
  },
  {
   "cell_type": "markdown",
   "id": "3d1e8940-758c-4a92-ae03-a6bee27f7ded",
   "metadata": {},
   "source": [
    "`-` 업데이트: 안함.. 난 토픽1이 맞는것 같음"
   ]
  },
  {
   "cell_type": "markdown",
   "id": "1f7ac819-dbcf-48c7-acac-58513611acbe",
   "metadata": {
    "tags": []
   },
   "source": [
    "### stage2: ***${\\boldsymbol \\theta}_0[2]$을 sampling***"
   ]
  },
  {
   "cell_type": "markdown",
   "id": "cfedfbe6-f6f1-491e-8ca8-08053dc72235",
   "metadata": {},
   "source": [
    "`-` 현재상태\n",
    "\n",
    "- 빨간색/볼드: 지금 focus하는 것\n",
    "- 파란색/볼드: 과거 / 업데이트O\n",
    "- 파란색/볼드X: 과거 / 업데이트X"
   ]
  },
  {
   "cell_type": "markdown",
   "id": "db5ff9d5-3108-41af-a1ba-7324dd235ec7",
   "metadata": {},
   "source": [
    "::: {#tbl-panel layout=[[1,1],[1,1]]}\n",
    "| doc1 | doc2 | doc3 |\n",
    "|------|------|------|\n",
    "| <span style=\"color: blue; font-weight: bold;\">손흥민</span> | <span style=\"color: red; font-weight: bold;\">골</span> | 확률    |\n",
    "| <span style=\"color: blue; \">골</span>    | 확률    | 데이터과학    |\n",
    "\n",
    ": $D$: 코퍼스(=관찰한자료) {#tbl-first}\n",
    "\n",
    "| doc1 | doc2 | doc3 |\n",
    "|------|------|------|\n",
    "| <span style=\"color: blue; font-weight: bold;\"> 1 (=$\\theta_1[0]$)</span>^[원래 2였는데 업데이트되었음] | <span style=\"color: red; font-weight: bold;\"> 1 (=$\\theta_0[2]$) </span> | 2 (=$\\theta_0[4]$) |\n",
    "| <span style=\"color: blue;\"> 1 (=$\\theta_1[1]$)</span> | 2 (=$\\theta_0[3]$) | 1 (=$\\theta_0[5]$) |\n",
    "\n",
    ": ${\\boldsymbol \\theta}_t$: 추정된 토픽 {#tbl-second}\n",
    "\n",
    "| topic| words|\n",
    "|------|------|\n",
    "| 1 | <span style=\"color: blue\">골</span>, <span style=\"color: red; font-weight: bold;\">골</span>, 데이터과학, <span style=\"color: blue; font-weight: bold;\">손흥민</span>^[원래 2에 있었은데 1로 옮겼음] |\n",
    "| 2 | 확률, 확률 |\n",
    "\n",
    ": 토픽별로 등장하는 단어 {tbl-colwidths=\"[25,75]\"}\n",
    "\n",
    "||관찰|결론|\n",
    "|---|---|---|\n",
    "|문서눈치|문서안에서 나말고 다른 단어는 토픽2로 분류되어있음 |나도 토픽2인듯|\n",
    "|토픽눈치|토픽1에는 나랑 같은 단어가 있는데 토픽2에는 없음 |나도 토픽1인듯|\n",
    ": $\\theta_0[2]$의 고민 = 나는 토픽1인가 토픽2인가?\n",
    "\n",
    "$t=0$, $d={\\tt doc2}$, $w={\\tt 골}$\n",
    ":::\n",
    "\n"
   ]
  },
  {
   "cell_type": "markdown",
   "id": "f4941a5e-4537-4789-ab0e-b20af6d7c3fd",
   "metadata": {},
   "source": [
    "`-` 수정된 타당성 \n",
    "\n",
    "- 토픽1의 타당성: (`doc2`에 토픽1이 포함된 비율) $\\times$ (토픽1에서 `골`이라는 단어가 포함된 비율) = 0.001 $\\times$ 1/3\n",
    "- 토픽2의 타당성: (`doc2`에 토픽2가 포함된 비율) $\\times$ (토픽2에서 `골`이라는 단어가 포함된 비율) = 1 $\\times$ 0.001"
   ]
  },
  {
   "cell_type": "markdown",
   "id": "c7aa612e-fa13-4504-a5e6-d2cc06df2b0d",
   "metadata": {},
   "source": [
    "> $\\theta_0[2]$의 생각: 나는 토픽2인듯함 (그런데 아닐 수도 있음)"
   ]
  },
  {
   "cell_type": "markdown",
   "id": "4a7dd907-ad21-4e85-937a-29f2511c7080",
   "metadata": {},
   "source": [
    "`-` 업데이트"
   ]
  },
  {
   "cell_type": "code",
   "execution_count": 13,
   "id": "54dbf90d-cd38-43de-af50-8438aec80cfb",
   "metadata": {},
   "outputs": [
    {
     "data": {
      "text/plain": [
       "1"
      ]
     },
     "execution_count": 13,
     "metadata": {},
     "output_type": "execute_result"
    }
   ],
   "source": [
    "θ['doc2'][0]"
   ]
  },
  {
   "cell_type": "code",
   "execution_count": 14,
   "id": "eb2bd827-9c23-4a1d-aea4-800cbde02b76",
   "metadata": {},
   "outputs": [],
   "source": [
    "θ['doc2'][0] = 2"
   ]
  },
  {
   "cell_type": "markdown",
   "id": "0f356e57-f046-4087-bfd7-0dd0ee8e6e5b",
   "metadata": {
    "tags": []
   },
   "source": [
    "### stage3: ***${\\boldsymbol \\theta}_0[3]$을 sampling***"
   ]
  },
  {
   "cell_type": "markdown",
   "id": "f806471c-b047-47d4-b2fa-0cd3ffd5f61d",
   "metadata": {},
   "source": [
    "`-` 현재상태\n",
    "\n",
    "- 빨간색/볼드: 지금 focus하는 것\n",
    "- 파란색/볼드: 과거 / 업데이트O\n",
    "- 파란색/볼드X: 과거 / 업데이트X"
   ]
  },
  {
   "cell_type": "markdown",
   "id": "240ed62a-3c84-422c-81d6-93d9d36a48bc",
   "metadata": {},
   "source": [
    "::: {#tbl-panel layout=[[1,1],[1,1]]}\n",
    "| doc1 | doc2 | doc3 |\n",
    "|------|------|------|\n",
    "| <span style=\"color: blue; font-weight: bold;\">손흥민</span> | <span style=\"color: blue; font-weight: bold;\">골</span> | 확률    |\n",
    "| <span style=\"color: blue; \">골</span>    | <span style=\"color: red; font-weight: bold;\">확률</span>    | 데이터과학    |\n",
    "\n",
    ": $D$: 코퍼스(=관찰한자료) {#tbl-first}\n",
    "\n",
    "| doc1 | doc2 | doc3 |\n",
    "|------|------|------|\n",
    "| <span style=\"color: blue; font-weight: bold;\"> 1 (=$\\theta_1[0]$)</span>^[원래 2였는데 업데이트되었음] | <span style=\"color: blue; font-weight: bold;\"> 2 (=$\\theta_1[2]$) </span>^[원래 1이었는데 업데이트되었음, 업데이트 안될수도 있었음.] | 2 (=$\\theta_0[4]$) |\n",
    "| <span style=\"color: blue;\"> 1 (=$\\theta_1[1]$)</span> | <span style=\"color: red; font-weight: bold;\"> 2 (=$\\theta_0[3]$)</span> | 1 (=$\\theta_0[5]$) |\n",
    "\n",
    ": ${\\boldsymbol \\theta}_t$: 추정된 토픽 {#tbl-second}\n",
    "\n",
    "| topic| words|\n",
    "|------|------|\n",
    "| 1 | <span style=\"color: blue\">골</span>, 데이터과학, <span style=\"color: blue; font-weight: bold;\">손흥민</span>^[원래 2에 있었은데 1로 옮겼음] |\n",
    "| 2 | <span style=\"color: red; font-weight: bold;\">확률</span>, 확률, <span style=\"color: blue; font-weight: bold;\">골</span>^[원래 1에 있었은데 2로 옮겼음, 안바뀔수도 있었음.] |\n",
    "\n",
    ": 토픽별로 등장하는 단어 {tbl-colwidths=\"[25,75]\"}\n",
    "\n",
    "||관찰|결론|\n",
    "|---|---|---|\n",
    "|문서눈치|문서안에서 나말고 다른 단어는 토픽2로 분류되어있음 |나도 토픽2인듯|\n",
    "|토픽눈치|토픽1에는 나랑 같은 단어가 없는데 토픽2에는 있음 |나도 토픽2인듯|\n",
    ": $\\theta_0[3]$의 고민 = 나는 토픽1인가 토픽2인가?\n",
    "\n",
    "$t=0$, $d={\\tt doc2}$, $w={\\tt 확률}$\n",
    ":::\n",
    "\n"
   ]
  },
  {
   "cell_type": "markdown",
   "id": "75998df8-e520-469b-a352-14bdbd49f706",
   "metadata": {},
   "source": [
    "`-` 수정된 타당성 \n",
    "\n",
    "- 토픽1의 타당성: (`doc2`에 토픽1이 포함된 비율) $\\times$ (토픽1에서 `확률`이라는 단어가 포함된 비율) = 0.001 $\\times$ 0.001\n",
    "- 토픽2의 타당성: (`doc2`에 토픽2가 포함된 비율) $\\times$ (토픽2에서 `확률`이라는 단어가 포함된 비율) = 1 $\\times$ 1/2"
   ]
  },
  {
   "cell_type": "markdown",
   "id": "9007a501-7755-4dc6-8466-096d2343178f",
   "metadata": {},
   "source": [
    "> $\\theta_0[3]$의 생각: 나는 토픽2인듯함"
   ]
  },
  {
   "cell_type": "markdown",
   "id": "82209d0f-86ac-41e4-aa0d-4fc881f1e50b",
   "metadata": {},
   "source": [
    "`-` 업데이트: 안함. 난 토픽2가 확실한듯 "
   ]
  },
  {
   "cell_type": "markdown",
   "id": "23b1b40f-e94c-452d-8d44-eab899300d06",
   "metadata": {
    "tags": []
   },
   "source": [
    "### stage4: ***${\\boldsymbol \\theta}_0[4]$을 sampling***"
   ]
  },
  {
   "cell_type": "markdown",
   "id": "0904acf7-0a40-432d-9dac-531383e50c00",
   "metadata": {},
   "source": [
    "`-` 현재상태\n",
    "\n",
    "- 빨간색/볼드: 지금 focus하는 것\n",
    "- 파란색/볼드: 과거 / 업데이트O\n",
    "- 파란색/볼드X: 과거 / 업데이트X"
   ]
  },
  {
   "cell_type": "markdown",
   "id": "13ea6919-deb4-4b0b-89d9-6ebab56e06dd",
   "metadata": {},
   "source": [
    "::: {#tbl-panel layout=[[1,1],[1,1]]}\n",
    "| doc1 | doc2 | doc3 |\n",
    "|------|------|------|\n",
    "| <span style=\"color: blue; font-weight: bold;\">손흥민</span> | <span style=\"color: blue; font-weight: bold;\">골</span> | <span style=\"color: red; font-weight: bold;\">확률</span>    |\n",
    "| <span style=\"color: blue; \">골</span>    | <span style=\"color: blue\">확률</span>    | 데이터과학    |\n",
    "\n",
    ": $D$: 코퍼스(=관찰한자료) {#tbl-first}\n",
    "\n",
    "| doc1 | doc2 | doc3 |\n",
    "|------|------|------|\n",
    "| <span style=\"color: blue; font-weight: bold;\"> 1 (=$\\theta_1[0]$)</span>^[원래 2였는데 업데이트되었음] | <span style=\"color: blue; font-weight: bold;\"> 2 (=$\\theta_1[2]$) </span>^[원래 1이었는데 업데이트되었음, 업데이트 안될수도 있었음.] | <span style=\"color: red; font-weight: bold;\">2 (=$\\theta_0[4]$)</span> |\n",
    "| <span style=\"color: blue;\"> 1 (=$\\theta_1[1]$)</span> | <span style=\"color: blue\"> 2 (=$\\theta_1[3]$)</span> | 1 (=$\\theta_0[5]$) |\n",
    "\n",
    ": ${\\boldsymbol \\theta}_t$: 추정된 토픽 {#tbl-second}\n",
    "\n",
    "| topic| words|\n",
    "|------|------|\n",
    "| 1 | <span style=\"color: blue\">골</span>, 데이터과학, <span style=\"color: blue; font-weight: bold;\">손흥민</span>^[원래 2에 있었은데 1로 옮겼음] |\n",
    "| 2 | <span style=\"color: blue\">확률</span>, <span style=\"color: red; font-weight: bold;\">확률</span>, <span style=\"color: blue; font-weight: bold;\">골</span>^[원래 1에 있었은데 2로 옮겼음, 안바뀔수도 있었음.] |\n",
    "\n",
    ": 토픽별로 등장하는 단어 {tbl-colwidths=\"[25,75]\"}\n",
    "\n",
    "||관찰|결론|\n",
    "|---|---|---|\n",
    "|문서눈치|문서안에서 나말고 다른 단어는 토픽1로 분류되어있음 |나도 토픽1인듯|\n",
    "|토픽눈치|토픽1에는 나랑 같은 단어가 없는데 토픽2에는 있음 |나도 토픽2인듯|\n",
    ": $\\theta_0[4]$의 고민 = 나는 토픽1인가 토픽2인가?\n",
    "\n",
    "$t=0$, $d={\\tt doc3}$, $w={\\tt 확률}$\n",
    ":::\n",
    "\n"
   ]
  },
  {
   "cell_type": "markdown",
   "id": "b23bcbfb-5dfc-4b4f-8e8d-32369bb4eca3",
   "metadata": {},
   "source": [
    "`-` 수정된 타당성 \n",
    "\n",
    "- 토픽1의 타당성: (`doc3`에 토픽1이 포함된 비율) $\\times$ (토픽1에서 `확률`이라는 단어가 포함된 비율) = 1 $\\times$ 0.001\n",
    "- 토픽2의 타당성: (`doc3`에 토픽2가 포함된 비율) $\\times$ (토픽2에서 `확률`이라는 단어가 포함된 비율) = 0.001 $\\times$ 1/2"
   ]
  },
  {
   "cell_type": "markdown",
   "id": "93181919-e5fc-49fa-96d9-c59ae5046da4",
   "metadata": {},
   "source": [
    "> $\\theta_0[4]$의 생각: 나는 토픽1인듯함 (그런데 아닐수도 있음)"
   ]
  },
  {
   "cell_type": "markdown",
   "id": "ab184795-828b-4f74-b3c7-20918b382ea4",
   "metadata": {},
   "source": [
    "`-` 업데이트: 안함. 난 토픽1인것 같긴한데, 확실하지 않아서 그냥 토픽2에 머무르겠음. "
   ]
  },
  {
   "cell_type": "markdown",
   "id": "4c243b67-a3d4-4c80-85f7-e82959b2eae9",
   "metadata": {
    "tags": []
   },
   "source": [
    "### stage5: ***${\\boldsymbol \\theta}_0[5]$을 sampling***"
   ]
  },
  {
   "cell_type": "markdown",
   "id": "ba8b9a8a-9454-42ec-8117-4b721109498d",
   "metadata": {},
   "source": [
    "`-` 현재상태\n",
    "\n",
    "- 빨간색/볼드: 지금 focus하는 것\n",
    "- 파란색/볼드: 과거 / 업데이트O\n",
    "- 파란색/볼드X: 과거 / 업데이트X"
   ]
  },
  {
   "cell_type": "markdown",
   "id": "db6e1809-ab23-4054-ab5b-a2257a60b84e",
   "metadata": {},
   "source": [
    "::: {#tbl-panel layout=[[1,1],[1,1]]}\n",
    "| doc1 | doc2 | doc3 |\n",
    "|------|------|------|\n",
    "| <span style=\"color: blue; font-weight: bold;\">손흥민</span> | <span style=\"color: blue; font-weight: bold;\">골</span> | <span style=\"color: blue\">확률</span>    |\n",
    "| <span style=\"color: blue; \">골</span>    | <span style=\"color: blue\">확률</span>    | <span style=\"color: red; font-weight: bold;\">데이터과학</span>  |\n",
    "\n",
    ": $D$: 코퍼스(=관찰한자료) {#tbl-first}\n",
    "\n",
    "| doc1 | doc2 | doc3 |\n",
    "|------|------|------|\n",
    "| <span style=\"color: blue; font-weight: bold;\"> 1 (=$\\theta_1[0]$)</span>^[원래 2였는데 업데이트되었음] | <span style=\"color: blue; font-weight: bold;\"> 2 (=$\\theta_1[2]$) </span>^[원래 1이었는데 업데이트되었음, 업데이트 안될수도 있었음.] | <span style=\"color: blue\">2 (=$\\theta_1[4]$)</span>^[업데이트 할수도 있었는데 안했음] |\n",
    "| <span style=\"color: blue;\"> 1 (=$\\theta_1[1]$)</span> | <span style=\"color: blue\"> 2 (=$\\theta_1[3]$)</span> | <span style=\"color: red; font-weight: bold;\">1 (=$\\theta_0[5]$)</span>  |\n",
    "\n",
    ": ${\\boldsymbol \\theta}_t$: 추정된 토픽 {#tbl-second}\n",
    "\n",
    "| topic| words|\n",
    "|------|------|\n",
    "| 1 | <span style=\"color: blue\">골</span>, <span style=\"color: red; font-weight: bold;\">데이터과학<span>, <span style=\"color: blue; font-weight: bold;\">손흥민</span>^[원래 2에 있었은데 1로 옮겼음] |\n",
    "| 2 | <span style=\"color: blue\">확률</span>, <span style=\"color: blue\">확률</span>^[1로 바뀔수도 있었는데 안바꾸었음], <span style=\"color: blue; font-weight: bold;\">골</span>^[원래 1에 있었은데 2로 옮겼음, 안바뀔수도 있었음.] |\n",
    "\n",
    ": 토픽별로 등장하는 단어 {tbl-colwidths=\"[25,75]\"}\n",
    "\n",
    "||관찰|결론|\n",
    "|---|---|---|\n",
    "|문서눈치|문서안에서 나말고 다른 단어는 토픽2로 분류되어있음 |나도 토픽2인듯|\n",
    "|토픽눈치|토픽1에도, 토픽2에도 나랑 같은 단어는 없음 |나는 토픽1도 토픽2도 아닌듯|\n",
    ": $\\theta_0[5]$의 고민 = 나는 토픽1인가 토픽2인가?\n",
    "\n",
    "$t=0$, $d={\\tt doc3}$, $w={\\tt 데이터과학}$\n",
    ":::\n",
    "\n"
   ]
  },
  {
   "cell_type": "markdown",
   "id": "47d4aa22-6fdb-4839-a967-c945b9d178f4",
   "metadata": {},
   "source": [
    "`-` 수정된 타당성 \n",
    "\n",
    "- 토픽1의 타당성: (`doc3`에 토픽1이 포함된 비율) $\\times$ (토픽1에서 `데이터과학`이라는 단어가 포함된 비율) = 0.001 $\\times$ 0.001\n",
    "- 토픽2의 타당성: (`doc3`에 토픽2가 포함된 비율) $\\times$ (토픽2에서 `데이터과학`이라는 단어가 포함된 비율) = 1 $\\times$ 0.001"
   ]
  },
  {
   "cell_type": "markdown",
   "id": "7e88e37e-56c7-465f-a21c-2bbf692fdec9",
   "metadata": {},
   "source": [
    "> $\\theta_0[5]$의 생각: 나는 토픽1인듯함 (그런데 아닐수도 있음)"
   ]
  },
  {
   "cell_type": "markdown",
   "id": "0dfac492-9a4d-4d41-8eaa-e9a286a078de",
   "metadata": {},
   "source": [
    "`-` 업데이트: 난 토픽2가 확실한듯 "
   ]
  },
  {
   "cell_type": "code",
   "execution_count": 15,
   "id": "8c0f4251-c139-48a2-a59b-735f3a2067ff",
   "metadata": {},
   "outputs": [
    {
     "data": {
      "text/plain": [
       "1"
      ]
     },
     "execution_count": 15,
     "metadata": {},
     "output_type": "execute_result"
    }
   ],
   "source": [
    "θ['doc3'][1]"
   ]
  },
  {
   "cell_type": "code",
   "execution_count": 16,
   "id": "e96e52b8-82c5-4db4-b4b3-481525f0ebdd",
   "metadata": {},
   "outputs": [],
   "source": [
    "θ['doc3'][1] = 2"
   ]
  },
  {
   "cell_type": "markdown",
   "id": "b838ea10-72ba-4005-8673-1aff95dc1ffe",
   "metadata": {},
   "source": [
    "## 단계3: $t=1,2,3,4,\\dots$ 에 대하여 단계2를 반복"
   ]
  },
  {
   "cell_type": "code",
   "execution_count": 17,
   "id": "e29e4dfe-7a4b-473b-8711-cd148f6bdd26",
   "metadata": {},
   "outputs": [
    {
     "data": {
      "text/plain": [
       "{'doc1': [1, 1], 'doc2': [2, 2], 'doc3': [2, 2]}"
      ]
     },
     "execution_count": 17,
     "metadata": {},
     "output_type": "execute_result"
    }
   ],
   "source": [
    "θ"
   ]
  },
  {
   "cell_type": "markdown",
   "id": "51dbd4f1-bd15-465a-913b-6ec878a9f3c3",
   "metadata": {},
   "source": [
    "`-` 초기상태와 지금을 비교하면 아래와 같다. "
   ]
  },
  {
   "cell_type": "markdown",
   "id": "28410549-ed93-47c3-95ff-35c3c7474a77",
   "metadata": {},
   "source": [
    "::: {#tbl-panel layout-ncol=3}\n",
    "\n",
    "\n",
    "| doc1 | doc2 | doc3 |\n",
    "|------|------|------|\n",
    "| $\\begin{bmatrix}0.9\\\\0.1\\end{bmatrix}$ | $\\begin{bmatrix}0.8\\\\0.2\\end{bmatrix}$ | $\\begin{bmatrix}0.3\\\\0.7\\end{bmatrix}$  |\n",
    "| $\\begin{bmatrix}0.8\\\\0.2\\end{bmatrix}$ | $\\begin{bmatrix}0.3\\\\0.7\\end{bmatrix}$ | $\\begin{bmatrix}0.05\\\\0.95\\end{bmatrix}$  |\n",
    "\n",
    "\n",
    ": ${\\boldsymbol \\pi}$\n",
    "\n",
    "| doc1 | doc2 | doc3 |\n",
    "|------|------|------|\n",
    "| 2 | 1 | 2 |\n",
    "| 1 | 2 | 1 |\n",
    "\n",
    ": ${\\boldsymbol \\theta}_0$\n",
    "\n",
    "\n",
    "| doc1 | doc2 | doc3 |\n",
    "|------|------|------|\n",
    "| 1 | 2^[1일수도 있었음] | 2^[1일 수도 있었음] |\n",
    "| 1 | 2 | 2 |\n",
    "\n",
    ": ${\\boldsymbol \\theta}_1$\n",
    "\n",
    "수정된 상태\n",
    ":::\n",
    "\n"
   ]
  },
  {
   "cell_type": "markdown",
   "id": "595704a4-f355-4173-81ab-2b97a225fddf",
   "metadata": {},
   "source": [
    "`-` $t=1,2,3,4\\dots$로 진행하다보면 서로 눈치를 보면서 아래와 같은 원리로 이동한다. \n",
    "\n",
    "1. 문서눈치: 내가 토픽k 라면, 내가 속한 문서에는 토픽k로 분류된 단어가 많을거야. \n",
    "2. 토픽눈치: 내가 토픽k 라면, 토픽k에는 나랑 같은 단어가 많을거야. "
   ]
  },
  {
   "cell_type": "markdown",
   "id": "6a702fd5-1133-423d-88fe-6fa2705d7df3",
   "metadata": {},
   "source": [
    "# 구현 "
   ]
  },
  {
   "cell_type": "markdown",
   "id": "cc7f10e0-5723-4ce3-95ad-6e47b48c82c7",
   "metadata": {},
   "source": [
    "## 구현에 필요한 예비학습"
   ]
  },
  {
   "cell_type": "markdown",
   "id": "755f1356-915d-45d9-b262-61378b1711f7",
   "metadata": {
    "tags": []
   },
   "source": [
    "### ***enumerate***"
   ]
  },
  {
   "cell_type": "code",
   "execution_count": 1,
   "id": "51712fc9-4813-491b-86b4-c5e9ba0e3ef1",
   "metadata": {},
   "outputs": [
    {
     "name": "stdout",
     "output_type": "stream",
     "text": [
      "a\n",
      "b\n",
      "c\n"
     ]
    }
   ],
   "source": [
    "for i in 'abc':\n",
    "    print(i)"
   ]
  },
  {
   "cell_type": "code",
   "execution_count": 3,
   "id": "4a219e7f-f8e8-48e5-8471-9ca991a515a5",
   "metadata": {},
   "outputs": [
    {
     "name": "stdout",
     "output_type": "stream",
     "text": [
      "(0, 'a')\n",
      "(1, 'b')\n",
      "(2, 'c')\n"
     ]
    }
   ],
   "source": [
    "for i in enumerate('abc'):\n",
    "    print(i)"
   ]
  },
  {
   "cell_type": "code",
   "execution_count": 7,
   "id": "f4bf42c0-23b5-4188-a1c1-1c1415dc2da7",
   "metadata": {},
   "outputs": [
    {
     "name": "stdout",
     "output_type": "stream",
     "text": [
      "0 a\n",
      "1 b\n",
      "2 c\n"
     ]
    }
   ],
   "source": [
    "for i,s in enumerate('abc'):\n",
    "    print(i,s)"
   ]
  },
  {
   "cell_type": "code",
   "execution_count": 10,
   "id": "7ea6fb08-0a6b-4750-ae54-9b8e45a2999b",
   "metadata": {},
   "outputs": [
    {
     "name": "stdout",
     "output_type": "stream",
     "text": [
      "a\n",
      "bb\n",
      "ccc\n"
     ]
    }
   ],
   "source": [
    "for i,s in enumerate('abc'):\n",
    "    print(s*(i+1))"
   ]
  },
  {
   "cell_type": "markdown",
   "id": "080a0535-1f16-4b70-8e8d-3130cef070e3",
   "metadata": {},
   "source": [
    "### ***np.random.choice***"
   ]
  },
  {
   "cell_type": "code",
   "execution_count": 28,
   "id": "3e645138-5fcd-4e7d-b431-761e2210e472",
   "metadata": {},
   "outputs": [
    {
     "data": {
      "text/plain": [
       "array([1000, 1000,   10,  100,  100, 1000,  100,  100,   10, 1000,   10,\n",
       "       1000,  100,   10, 1000,  100,   10,  100,  100, 1000, 1000,   10,\n",
       "       1000, 1000,   10, 1000, 1000,  100, 1000, 1000, 1000, 1000, 1000,\n",
       "        100,   10, 1000,   10, 1000,   10,   10, 1000,  100,   10, 1000,\n",
       "        100,  100, 1000,   10,  100,  100])"
      ]
     },
     "execution_count": 28,
     "metadata": {},
     "output_type": "execute_result"
    }
   ],
   "source": [
    "np.random.choice([10,100,1000],size=50)"
   ]
  },
  {
   "cell_type": "code",
   "execution_count": 29,
   "id": "36ff8598-8d7f-41de-bd49-719f310ee1ee",
   "metadata": {},
   "outputs": [
    {
     "data": {
      "text/plain": [
       "array([  10,   10,   10,   10,   10,   10,   10,   10,  100,   10, 1000,\n",
       "         10,   10,  100,   10,   10,   10,   10,   10,   10,   10,   10,\n",
       "         10,   10,   10,   10,   10,   10,   10,   10,   10,   10,   10,\n",
       "         10,   10,   10,   10,   10,   10, 1000,   10,   10,   10,   10,\n",
       "         10,   10,   10,   10,   10,   10])"
      ]
     },
     "execution_count": 29,
     "metadata": {},
     "output_type": "execute_result"
    }
   ],
   "source": [
    "np.random.choice([10,100,1000],size=50,p=[0.8,0.1,0.1])"
   ]
  },
  {
   "cell_type": "markdown",
   "id": "2abbb552-b36a-4f16-9acd-b762fb61123e",
   "metadata": {},
   "source": [
    "### ***딕셔너리의 해체***"
   ]
  },
  {
   "cell_type": "markdown",
   "id": "a178c022-38dc-4a8b-ae18-c187fb349b59",
   "metadata": {},
   "source": [
    "`-` 아래와 같은 딕셔너리를 고려하자. "
   ]
  },
  {
   "cell_type": "code",
   "execution_count": 30,
   "id": "63f11cd0-b631-4436-8a70-b73a1879d2a2",
   "metadata": {},
   "outputs": [],
   "source": [
    "D = {'doc1':['손흥민','골'],\n",
    "     'doc2':['골','확률'],\n",
    "     'doc3':['확률','데이터과학']}\n",
    "θ = {'doc1':[2,1],\n",
    "     'doc2':[1,2],\n",
    "     'doc3':[2,1]}"
   ]
  },
  {
   "cell_type": "markdown",
   "id": "78fd5d31-d409-4820-819e-c55947e8dc46",
   "metadata": {},
   "source": [
    "`-` 이러한 딕셔너리에를 해체하고 싶다면? "
   ]
  },
  {
   "cell_type": "code",
   "execution_count": 41,
   "id": "63a58133-ea79-4dbe-a7f2-584a380152af",
   "metadata": {},
   "outputs": [
    {
     "data": {
      "text/plain": [
       "['손흥민', '골', '골', '확률', '확률', '데이터과학']"
      ]
     },
     "execution_count": 41,
     "metadata": {},
     "output_type": "execute_result"
    }
   ],
   "source": [
    "[wrd for doc in D for wrd in D[doc]]"
   ]
  },
  {
   "cell_type": "code",
   "execution_count": 43,
   "id": "762fbc20-05c8-498c-8e39-db1dae9667c0",
   "metadata": {},
   "outputs": [
    {
     "data": {
      "text/plain": [
       "[2, 1, 1, 2, 2, 1]"
      ]
     },
     "execution_count": 43,
     "metadata": {},
     "output_type": "execute_result"
    }
   ],
   "source": [
    "[tpc for doc in θ for tpc in θ[doc]]"
   ]
  },
  {
   "cell_type": "markdown",
   "id": "c3014cc9-a564-4ab8-ad46-e005fae786bf",
   "metadata": {},
   "source": [
    "### ***리스트의 count 메소드***"
   ]
  },
  {
   "cell_type": "code",
   "execution_count": 46,
   "id": "b94ec29a-bd8e-49ba-b4c8-60971f0d269d",
   "metadata": {},
   "outputs": [
    {
     "data": {
      "text/plain": [
       "6"
      ]
     },
     "execution_count": 46,
     "metadata": {},
     "output_type": "execute_result"
    }
   ],
   "source": [
    "lst = list('asdfsdasdfasdfasdfasdfas')\n",
    "lst.count('a')"
   ]
  },
  {
   "cell_type": "code",
   "execution_count": 49,
   "id": "03aad2ad-8589-4fbe-ba1d-c215ef6636e8",
   "metadata": {},
   "outputs": [
    {
     "data": {
      "text/plain": [
       "['손흥민', '골', '골', '확률', '확률', '데이터과학']"
      ]
     },
     "execution_count": 49,
     "metadata": {},
     "output_type": "execute_result"
    }
   ],
   "source": [
    "[wrd for doc in D for wrd in D[doc]]"
   ]
  },
  {
   "cell_type": "code",
   "execution_count": 50,
   "id": "a5265ebe-5c72-4471-9727-271a619f4c0c",
   "metadata": {},
   "outputs": [
    {
     "data": {
      "text/plain": [
       "2"
      ]
     },
     "execution_count": 50,
     "metadata": {},
     "output_type": "execute_result"
    }
   ],
   "source": [
    "[wrd for doc in D for wrd in D[doc]].count('골')"
   ]
  },
  {
   "cell_type": "markdown",
   "id": "1e1e8583-1aaa-4035-9467-db37d692c0ca",
   "metadata": {},
   "source": [
    "### ***조건부 컴프리헨션***"
   ]
  },
  {
   "cell_type": "code",
   "execution_count": 54,
   "id": "47f77fac-7711-4f58-b09a-31a95073201a",
   "metadata": {},
   "outputs": [
    {
     "data": {
      "text/plain": [
       "[-1, 0]"
      ]
     },
     "execution_count": 54,
     "metadata": {},
     "output_type": "execute_result"
    }
   ],
   "source": [
    "lst = [-1,0,1,2]\n",
    "[l for l in lst if l<=0]"
   ]
  },
  {
   "cell_type": "markdown",
   "id": "8064c836-ad04-4110-a28a-f9b62442512f",
   "metadata": {},
   "source": [
    "### ***딕셔너리의 원소삭제***"
   ]
  },
  {
   "cell_type": "code",
   "execution_count": 55,
   "id": "20e62652-15e7-4cf0-bf89-0c90d0c2ee90",
   "metadata": {},
   "outputs": [
    {
     "data": {
      "text/plain": [
       "{'doc1': ['손흥민', '손흥민', '손흥민', '손흥민', '손흥민'],\n",
       " 'doc2': ['골', '골', '골', '골', '골']}"
      ]
     },
     "execution_count": 55,
     "metadata": {},
     "output_type": "execute_result"
    }
   ],
   "source": [
    "dct = {'doc1':['손흥민']*5, 'doc2':['골']*5}\n",
    "dct"
   ]
  },
  {
   "cell_type": "code",
   "execution_count": 59,
   "id": "694ddcd1-10fd-4e50-9ba2-58b68fe8e9cf",
   "metadata": {},
   "outputs": [],
   "source": [
    "del dct['doc1'][0]"
   ]
  },
  {
   "cell_type": "code",
   "execution_count": 60,
   "id": "c4806c25-1d22-4e36-b195-a27e5213ff5d",
   "metadata": {},
   "outputs": [
    {
     "data": {
      "text/plain": [
       "{'doc1': ['손흥민', '손흥민', '손흥민', '손흥민'], 'doc2': ['골', '골', '골', '골', '골']}"
      ]
     },
     "execution_count": 60,
     "metadata": {},
     "output_type": "execute_result"
    }
   ],
   "source": [
    "dct"
   ]
  },
  {
   "cell_type": "markdown",
   "id": "6d248004-769f-4941-9017-725f5e21fee0",
   "metadata": {},
   "source": [
    "### ***깊은복사***"
   ]
  },
  {
   "cell_type": "markdown",
   "id": "1eb178f2-f2e6-4be9-bfaf-ab1d6461b184",
   "metadata": {},
   "source": [
    "`-` 특정원소가 삭제된 dct와 삭제되지 않은 dct를 동시에 가지고 있으려면?"
   ]
  },
  {
   "cell_type": "code",
   "execution_count": 61,
   "id": "68cc939a-06cc-4f5a-9fd0-50fa45bbb0f9",
   "metadata": {},
   "outputs": [],
   "source": [
    "dct = {'doc1':['손흥민']*5, 'doc2':['골']*5}\n",
    "dct2 = dct "
   ]
  },
  {
   "cell_type": "code",
   "execution_count": 62,
   "id": "fff75412-9e42-471f-8766-688a0e1e8ffe",
   "metadata": {},
   "outputs": [],
   "source": [
    "del dct['doc1'][0]"
   ]
  },
  {
   "cell_type": "code",
   "execution_count": 63,
   "id": "3ba38e52-1698-47d8-bd05-986097323ab7",
   "metadata": {},
   "outputs": [
    {
     "data": {
      "text/plain": [
       "{'doc1': ['손흥민', '손흥민', '손흥민', '손흥민'], 'doc2': ['골', '골', '골', '골', '골']}"
      ]
     },
     "execution_count": 63,
     "metadata": {},
     "output_type": "execute_result"
    }
   ],
   "source": [
    "dct"
   ]
  },
  {
   "cell_type": "code",
   "execution_count": 65,
   "id": "35f272b3-da23-4ab3-b34d-f84d42fc10a8",
   "metadata": {},
   "outputs": [
    {
     "data": {
      "text/plain": [
       "{'doc1': ['손흥민', '손흥민', '손흥민', '손흥민'], 'doc2': ['골', '골', '골', '골', '골']}"
      ]
     },
     "execution_count": 65,
     "metadata": {},
     "output_type": "execute_result"
    }
   ],
   "source": [
    "dct2 # 잉 왜 같이 삭제되는거야?"
   ]
  },
  {
   "cell_type": "markdown",
   "id": "854084cc-9110-4e1a-afc8-3f39f5147b6e",
   "metadata": {},
   "source": [
    "`-` 해결책 "
   ]
  },
  {
   "cell_type": "code",
   "execution_count": 66,
   "id": "5cc19fec-d663-4bc3-b5d5-7dddc8e35953",
   "metadata": {},
   "outputs": [],
   "source": [
    "import copy"
   ]
  },
  {
   "cell_type": "code",
   "execution_count": 67,
   "id": "589b67f9-82c3-4b7b-bc1d-c7ebe5c269b6",
   "metadata": {},
   "outputs": [],
   "source": [
    "dct = {'doc1':['손흥민']*5, 'doc2':['골']*5}\n",
    "dct2 = copy.deepcopy(dct)"
   ]
  },
  {
   "cell_type": "code",
   "execution_count": 68,
   "id": "78f47683-f32d-4ad2-aa6d-b83790c0a133",
   "metadata": {},
   "outputs": [],
   "source": [
    "del dct['doc1'][0]"
   ]
  },
  {
   "cell_type": "code",
   "execution_count": 69,
   "id": "8e3aecd3-6626-4784-a881-71630388665e",
   "metadata": {},
   "outputs": [
    {
     "data": {
      "text/plain": [
       "{'doc1': ['손흥민', '손흥민', '손흥민', '손흥민'], 'doc2': ['골', '골', '골', '골', '골']}"
      ]
     },
     "execution_count": 69,
     "metadata": {},
     "output_type": "execute_result"
    }
   ],
   "source": [
    "dct"
   ]
  },
  {
   "cell_type": "code",
   "execution_count": 71,
   "id": "a3a231ed-3343-4ee0-9801-c651657a021a",
   "metadata": {},
   "outputs": [
    {
     "data": {
      "text/plain": [
       "{'doc1': ['손흥민', '손흥민', '손흥민', '손흥민', '손흥민'],\n",
       " 'doc2': ['골', '골', '골', '골', '골']}"
      ]
     },
     "execution_count": 71,
     "metadata": {},
     "output_type": "execute_result"
    }
   ],
   "source": [
    "dct2 # 이제야 제대로 돌아가네"
   ]
  },
  {
   "cell_type": "markdown",
   "id": "cfc282f2-1631-4229-9513-6d9d5b29023c",
   "metadata": {},
   "source": [
    "### ***연습문제***"
   ]
  },
  {
   "cell_type": "markdown",
   "id": "6599799b-8415-483f-96b7-137ed25b03f2",
   "metadata": {},
   "source": [
    "아래와 같은 자료가 있다고 하자. "
   ]
  },
  {
   "cell_type": "code",
   "execution_count": 72,
   "id": "2bbd7b95-97ff-4727-82f4-117e3fd5dc7a",
   "metadata": {},
   "outputs": [],
   "source": [
    "D = {'doc1':['손흥민','골'],\n",
    "     'doc2':['골','확률'],\n",
    "     'doc3':['확률','데이터과학']}\n",
    "θ = {'doc1':[2,1],\n",
    "     'doc2':[1,2],\n",
    "     'doc3':[2,1]}"
   ]
  },
  {
   "cell_type": "markdown",
   "id": "8f8e5058-fc31-4d8b-bc20-9431345dc219",
   "metadata": {},
   "source": [
    "`(1)` $D$에는 총 몇개의 단어가 있는가? "
   ]
  },
  {
   "cell_type": "code",
   "execution_count": 77,
   "id": "c3a15213-0a7a-4984-b23b-dee67e9f79d7",
   "metadata": {},
   "outputs": [
    {
     "data": {
      "text/plain": [
       "4"
      ]
     },
     "execution_count": 77,
     "metadata": {},
     "output_type": "execute_result"
    }
   ],
   "source": [
    "len(set([wrd for doc in D for wrd in D[doc]]))"
   ]
  },
  {
   "cell_type": "markdown",
   "id": "a2cd1f6c-275f-4e69-aa9a-c25199f137e2",
   "metadata": {},
   "source": [
    "`(2)` 문서2에 토픽1은 몇개나 있는가? "
   ]
  },
  {
   "cell_type": "code",
   "execution_count": 81,
   "id": "1c328892-6122-414e-80dd-9044546f127f",
   "metadata": {},
   "outputs": [
    {
     "data": {
      "text/plain": [
       "[1, 2]"
      ]
     },
     "execution_count": 81,
     "metadata": {},
     "output_type": "execute_result"
    }
   ],
   "source": [
    "θ['doc2']"
   ]
  },
  {
   "cell_type": "code",
   "execution_count": 82,
   "id": "106a3b85-2f04-4d73-9e2d-f037c0290bb8",
   "metadata": {},
   "outputs": [
    {
     "data": {
      "text/plain": [
       "1"
      ]
     },
     "execution_count": 82,
     "metadata": {},
     "output_type": "execute_result"
    }
   ],
   "source": [
    "θ['doc2'].count(1)"
   ]
  },
  {
   "cell_type": "markdown",
   "id": "edca8072-c413-49f1-939e-729069bb4ac8",
   "metadata": {},
   "source": [
    "`(3)` 토픽1에 들어있는 단어들의 목록을 구하라. "
   ]
  },
  {
   "cell_type": "code",
   "execution_count": 85,
   "id": "a0f542a3-a0bc-43c5-bdd2-3e1cba2bb4ef",
   "metadata": {},
   "outputs": [
    {
     "data": {
      "text/plain": [
       "['손흥민', '골', '골', '확률', '확률', '데이터과학']"
      ]
     },
     "execution_count": 85,
     "metadata": {},
     "output_type": "execute_result"
    }
   ],
   "source": [
    "wrdlst = [wrd for doc in D for wrd in D[doc]]\n",
    "wrdlst"
   ]
  },
  {
   "cell_type": "code",
   "execution_count": 87,
   "id": "a4ebbbc9-f48a-4352-b2da-b5b0ac109dc7",
   "metadata": {},
   "outputs": [
    {
     "data": {
      "text/plain": [
       "[2, 1, 1, 2, 2, 1]"
      ]
     },
     "execution_count": 87,
     "metadata": {},
     "output_type": "execute_result"
    }
   ],
   "source": [
    "tpclst = [tpc for doc in θ for tpc in θ[doc]]\n",
    "tpclst "
   ]
  },
  {
   "cell_type": "code",
   "execution_count": 91,
   "id": "38a9a729-d6bc-4434-aab1-302b8f63020b",
   "metadata": {},
   "outputs": [
    {
     "data": {
      "text/plain": [
       "['골', '골', '데이터과학']"
      ]
     },
     "execution_count": 91,
     "metadata": {},
     "output_type": "execute_result"
    }
   ],
   "source": [
    "[wrd for i,wrd in enumerate(wrdlst) if tpclst[i]==1 ]"
   ]
  },
  {
   "cell_type": "markdown",
   "id": "927dd228-9890-480a-87ea-32bc83aa7add",
   "metadata": {},
   "source": [
    "`(4)` 토픽1에서 '골'이라는 단어는 몇번 등장하는가? "
   ]
  },
  {
   "cell_type": "code",
   "execution_count": 92,
   "id": "0e00bb36-a3d3-4f70-88b3-f4a850f24a86",
   "metadata": {},
   "outputs": [
    {
     "data": {
      "text/plain": [
       "2"
      ]
     },
     "execution_count": 92,
     "metadata": {},
     "output_type": "execute_result"
    }
   ],
   "source": [
    "[wrd for i,wrd in enumerate(wrdlst) if tpclst[i]==1 ].count('골')"
   ]
  },
  {
   "cell_type": "markdown",
   "id": "1970d20c-035b-4e8c-a68e-565f19cbb86c",
   "metadata": {},
   "source": [
    "## 데이터: $D$와 $\\theta$의 설정 "
   ]
  },
  {
   "cell_type": "code",
   "execution_count": 303,
   "id": "34a86bfb-546b-43c7-a6d1-f6ae42421a76",
   "metadata": {},
   "outputs": [
    {
     "data": {
      "text/html": [
       "<div>\n",
       "<style scoped>\n",
       "    .dataframe tbody tr th:only-of-type {\n",
       "        vertical-align: middle;\n",
       "    }\n",
       "\n",
       "    .dataframe tbody tr th {\n",
       "        vertical-align: top;\n",
       "    }\n",
       "\n",
       "    .dataframe thead th {\n",
       "        text-align: right;\n",
       "    }\n",
       "</style>\n",
       "<table border=\"1\" class=\"dataframe\">\n",
       "  <thead>\n",
       "    <tr style=\"text-align: right;\">\n",
       "      <th></th>\n",
       "      <th>doc1</th>\n",
       "      <th>doc2</th>\n",
       "      <th>doc3</th>\n",
       "      <th>doc4</th>\n",
       "      <th>doc5</th>\n",
       "      <th>doc6</th>\n",
       "      <th>doc7</th>\n",
       "      <th>doc8</th>\n",
       "      <th>doc9</th>\n",
       "      <th>doc10</th>\n",
       "      <th>doc11</th>\n",
       "      <th>doc12</th>\n",
       "      <th>doc13</th>\n",
       "      <th>doc14</th>\n",
       "      <th>doc15</th>\n",
       "    </tr>\n",
       "  </thead>\n",
       "  <tbody>\n",
       "    <tr>\n",
       "      <th>0</th>\n",
       "      <td>심판</td>\n",
       "      <td>수비</td>\n",
       "      <td>헤딩</td>\n",
       "      <td>클럽</td>\n",
       "      <td>선수</td>\n",
       "      <td>수비수</td>\n",
       "      <td>페널티킥</td>\n",
       "      <td>공격</td>\n",
       "      <td>페널티킥</td>\n",
       "      <td>리그</td>\n",
       "      <td>평균</td>\n",
       "      <td>신뢰구간</td>\n",
       "      <td>확률</td>\n",
       "      <td>데이터분석</td>\n",
       "      <td>딥러닝</td>\n",
       "    </tr>\n",
       "    <tr>\n",
       "      <th>1</th>\n",
       "      <td>헤딩</td>\n",
       "      <td>골</td>\n",
       "      <td>리그</td>\n",
       "      <td>선수</td>\n",
       "      <td>경기장</td>\n",
       "      <td>심판</td>\n",
       "      <td>중앙미드필더</td>\n",
       "      <td>경기장</td>\n",
       "      <td>패스</td>\n",
       "      <td>슈팅</td>\n",
       "      <td>데이터분석</td>\n",
       "      <td>딥러닝</td>\n",
       "      <td>로지스틱 회귀</td>\n",
       "      <td>데이터과학</td>\n",
       "      <td>인공지능</td>\n",
       "    </tr>\n",
       "    <tr>\n",
       "      <th>2</th>\n",
       "      <td>선수</td>\n",
       "      <td>챔피언스리그</td>\n",
       "      <td>드리블</td>\n",
       "      <td>챔피언스리그</td>\n",
       "      <td>수비</td>\n",
       "      <td>공</td>\n",
       "      <td>챔피언스리그</td>\n",
       "      <td>패스</td>\n",
       "      <td>골키퍼</td>\n",
       "      <td>드리블</td>\n",
       "      <td>클러스터링</td>\n",
       "      <td>확률</td>\n",
       "      <td>통계</td>\n",
       "      <td>분류</td>\n",
       "      <td>표본</td>\n",
       "    </tr>\n",
       "    <tr>\n",
       "      <th>3</th>\n",
       "      <td>골</td>\n",
       "      <td>헤딩</td>\n",
       "      <td>골키퍼</td>\n",
       "      <td>슈팅</td>\n",
       "      <td>골키퍼</td>\n",
       "      <td>공격</td>\n",
       "      <td>선수</td>\n",
       "      <td>수비수</td>\n",
       "      <td>공</td>\n",
       "      <td>선수</td>\n",
       "      <td>데이터과학</td>\n",
       "      <td>평균</td>\n",
       "      <td>딥러닝</td>\n",
       "      <td>통계적 가설검정</td>\n",
       "      <td>표준편차</td>\n",
       "    </tr>\n",
       "    <tr>\n",
       "      <th>4</th>\n",
       "      <td>리그</td>\n",
       "      <td>경기장</td>\n",
       "      <td>공격수</td>\n",
       "      <td>리그</td>\n",
       "      <td>월드컵</td>\n",
       "      <td>표준편차</td>\n",
       "      <td>표본</td>\n",
       "      <td>신뢰구간</td>\n",
       "      <td>신뢰구간</td>\n",
       "      <td>평균</td>\n",
       "      <td>신경망</td>\n",
       "      <td>데이터분석</td>\n",
       "      <td>모집단</td>\n",
       "      <td>머신러닝</td>\n",
       "      <td>신경망</td>\n",
       "    </tr>\n",
       "    <tr>\n",
       "      <th>5</th>\n",
       "      <td>골</td>\n",
       "      <td>골키퍼</td>\n",
       "      <td>공격수</td>\n",
       "      <td>수비</td>\n",
       "      <td>리그</td>\n",
       "      <td>표본</td>\n",
       "      <td>평균</td>\n",
       "      <td>데이터과학</td>\n",
       "      <td>딥러닝</td>\n",
       "      <td>데이터분석</td>\n",
       "      <td>데이터분석</td>\n",
       "      <td>상관관계</td>\n",
       "      <td>머신러닝</td>\n",
       "      <td>로지스틱 회귀</td>\n",
       "      <td>분류</td>\n",
       "    </tr>\n",
       "    <tr>\n",
       "      <th>6</th>\n",
       "      <td>선수</td>\n",
       "      <td>챔피언스리그</td>\n",
       "      <td>월드컵</td>\n",
       "      <td>리그</td>\n",
       "      <td>드리블</td>\n",
       "      <td>상관관계</td>\n",
       "      <td>분류</td>\n",
       "      <td>확률</td>\n",
       "      <td>평균</td>\n",
       "      <td>데이터과학</td>\n",
       "      <td>상관관계</td>\n",
       "      <td>회귀분석</td>\n",
       "      <td>인공지능</td>\n",
       "      <td>회귀분석</td>\n",
       "      <td>모집단</td>\n",
       "    </tr>\n",
       "    <tr>\n",
       "      <th>7</th>\n",
       "      <td>공격</td>\n",
       "      <td>헤딩</td>\n",
       "      <td>선수</td>\n",
       "      <td>중앙미드필더</td>\n",
       "      <td>공격수</td>\n",
       "      <td>모집단</td>\n",
       "      <td>로지스틱 회귀</td>\n",
       "      <td>통계</td>\n",
       "      <td>인공지능</td>\n",
       "      <td>신뢰구간</td>\n",
       "      <td>인공지능</td>\n",
       "      <td>통계</td>\n",
       "      <td>표준편차</td>\n",
       "      <td>분류</td>\n",
       "      <td>데이터분석</td>\n",
       "    </tr>\n",
       "    <tr>\n",
       "      <th>8</th>\n",
       "      <td>헤딩</td>\n",
       "      <td>경기장</td>\n",
       "      <td>공</td>\n",
       "      <td>공격</td>\n",
       "      <td>슈팅</td>\n",
       "      <td>딥러닝</td>\n",
       "      <td>머신러닝</td>\n",
       "      <td>분류</td>\n",
       "      <td>딥러닝</td>\n",
       "      <td>평균</td>\n",
       "      <td>상관관계</td>\n",
       "      <td>신경망</td>\n",
       "      <td>상관관계</td>\n",
       "      <td>표본</td>\n",
       "      <td>통계</td>\n",
       "    </tr>\n",
       "    <tr>\n",
       "      <th>9</th>\n",
       "      <td>슈팅</td>\n",
       "      <td>수비수</td>\n",
       "      <td>헤딩</td>\n",
       "      <td>공</td>\n",
       "      <td>선수</td>\n",
       "      <td>클러스터링</td>\n",
       "      <td>클러스터링</td>\n",
       "      <td>인공지능</td>\n",
       "      <td>분산</td>\n",
       "      <td>분류</td>\n",
       "      <td>확률</td>\n",
       "      <td>상관관계</td>\n",
       "      <td>확률</td>\n",
       "      <td>모집단</td>\n",
       "      <td>통계적 가설검정</td>\n",
       "    </tr>\n",
       "    <tr>\n",
       "      <th>10</th>\n",
       "      <td>공</td>\n",
       "      <td>수비수</td>\n",
       "      <td>중앙미드필더</td>\n",
       "      <td>중앙미드필더</td>\n",
       "      <td>선수</td>\n",
       "      <td>인공지능</td>\n",
       "      <td>평균</td>\n",
       "      <td>머신러닝</td>\n",
       "      <td>딥러닝</td>\n",
       "      <td>딥러닝</td>\n",
       "      <td>회귀분석</td>\n",
       "      <td>회귀분석</td>\n",
       "      <td>확률</td>\n",
       "      <td>통계적 가설검정</td>\n",
       "      <td>통계적 가설검정</td>\n",
       "    </tr>\n",
       "    <tr>\n",
       "      <th>11</th>\n",
       "      <td>패스</td>\n",
       "      <td>패스</td>\n",
       "      <td>공격</td>\n",
       "      <td>골</td>\n",
       "      <td>월드컵</td>\n",
       "      <td>챔피언스리그</td>\n",
       "      <td>수비수</td>\n",
       "      <td>수비수</td>\n",
       "      <td>월드컵</td>\n",
       "      <td>심판</td>\n",
       "      <td>로지스틱 회귀</td>\n",
       "      <td>확률</td>\n",
       "      <td>클러스터링</td>\n",
       "      <td>상관관계</td>\n",
       "      <td>머신러닝</td>\n",
       "    </tr>\n",
       "    <tr>\n",
       "      <th>12</th>\n",
       "      <td>공격수</td>\n",
       "      <td>드리블</td>\n",
       "      <td>선수</td>\n",
       "      <td>패스</td>\n",
       "      <td>드리블</td>\n",
       "      <td>공</td>\n",
       "      <td>중앙미드필더</td>\n",
       "      <td>수비수</td>\n",
       "      <td>월드컵</td>\n",
       "      <td>슈팅</td>\n",
       "      <td>평균</td>\n",
       "      <td>로지스틱 회귀</td>\n",
       "      <td>신경망</td>\n",
       "      <td>표본</td>\n",
       "      <td>머신러닝</td>\n",
       "    </tr>\n",
       "    <tr>\n",
       "      <th>13</th>\n",
       "      <td>페널티킥</td>\n",
       "      <td>선수</td>\n",
       "      <td>수비수</td>\n",
       "      <td>중앙미드필더</td>\n",
       "      <td>월드컵</td>\n",
       "      <td>심판</td>\n",
       "      <td>페널티킥</td>\n",
       "      <td>페널티킥</td>\n",
       "      <td>슈팅</td>\n",
       "      <td>패스</td>\n",
       "      <td>표준편차</td>\n",
       "      <td>상관관계</td>\n",
       "      <td>분류</td>\n",
       "      <td>클러스터링</td>\n",
       "      <td>상관관계</td>\n",
       "    </tr>\n",
       "    <tr>\n",
       "      <th>14</th>\n",
       "      <td>공</td>\n",
       "      <td>월드컵</td>\n",
       "      <td>드리블</td>\n",
       "      <td>클럽</td>\n",
       "      <td>골키퍼</td>\n",
       "      <td>챔피언스리그</td>\n",
       "      <td>심판</td>\n",
       "      <td>수비수</td>\n",
       "      <td>골키퍼</td>\n",
       "      <td>선수</td>\n",
       "      <td>딥러닝</td>\n",
       "      <td>데이터과학</td>\n",
       "      <td>데이터분석</td>\n",
       "      <td>표본</td>\n",
       "      <td>딥러닝</td>\n",
       "    </tr>\n",
       "  </tbody>\n",
       "</table>\n",
       "</div>"
      ],
      "text/plain": [
       "    doc1    doc2    doc3    doc4 doc5    doc6     doc7   doc8  doc9  doc10   \n",
       "0     심판      수비      헤딩      클럽   선수     수비수     페널티킥     공격  페널티킥     리그  \\\n",
       "1     헤딩       골      리그      선수  경기장      심판   중앙미드필더    경기장    패스     슈팅   \n",
       "2     선수  챔피언스리그     드리블  챔피언스리그   수비       공   챔피언스리그     패스   골키퍼    드리블   \n",
       "3      골      헤딩     골키퍼      슈팅  골키퍼      공격       선수    수비수     공     선수   \n",
       "4     리그     경기장     공격수      리그  월드컵    표준편차       표본   신뢰구간  신뢰구간     평균   \n",
       "5      골     골키퍼     공격수      수비   리그      표본       평균  데이터과학   딥러닝  데이터분석   \n",
       "6     선수  챔피언스리그     월드컵      리그  드리블    상관관계       분류     확률    평균  데이터과학   \n",
       "7     공격      헤딩      선수  중앙미드필더  공격수     모집단  로지스틱 회귀     통계  인공지능   신뢰구간   \n",
       "8     헤딩     경기장       공      공격   슈팅     딥러닝     머신러닝     분류   딥러닝     평균   \n",
       "9     슈팅     수비수      헤딩       공   선수   클러스터링    클러스터링   인공지능    분산     분류   \n",
       "10     공     수비수  중앙미드필더  중앙미드필더   선수    인공지능       평균   머신러닝   딥러닝    딥러닝   \n",
       "11    패스      패스      공격       골  월드컵  챔피언스리그      수비수    수비수   월드컵     심판   \n",
       "12   공격수     드리블      선수      패스  드리블       공   중앙미드필더    수비수   월드컵     슈팅   \n",
       "13  페널티킥      선수     수비수  중앙미드필더  월드컵      심판     페널티킥   페널티킥    슈팅     패스   \n",
       "14     공     월드컵     드리블      클럽  골키퍼  챔피언스리그       심판    수비수   골키퍼     선수   \n",
       "\n",
       "      doc11    doc12    doc13     doc14     doc15  \n",
       "0        평균     신뢰구간       확률     데이터분석       딥러닝  \n",
       "1     데이터분석      딥러닝  로지스틱 회귀     데이터과학      인공지능  \n",
       "2     클러스터링       확률       통계        분류        표본  \n",
       "3     데이터과학       평균      딥러닝  통계적 가설검정      표준편차  \n",
       "4       신경망    데이터분석      모집단      머신러닝       신경망  \n",
       "5     데이터분석     상관관계     머신러닝   로지스틱 회귀        분류  \n",
       "6      상관관계     회귀분석     인공지능      회귀분석       모집단  \n",
       "7      인공지능       통계     표준편차        분류     데이터분석  \n",
       "8      상관관계      신경망     상관관계        표본        통계  \n",
       "9        확률     상관관계       확률       모집단  통계적 가설검정  \n",
       "10     회귀분석     회귀분석       확률  통계적 가설검정  통계적 가설검정  \n",
       "11  로지스틱 회귀       확률    클러스터링      상관관계      머신러닝  \n",
       "12       평균  로지스틱 회귀      신경망        표본      머신러닝  \n",
       "13     표준편차     상관관계       분류     클러스터링      상관관계  \n",
       "14      딥러닝    데이터과학    데이터분석        표본       딥러닝  "
      ]
     },
     "execution_count": 303,
     "metadata": {},
     "output_type": "execute_result"
    }
   ],
   "source": [
    "D = {'doc1': ['심판', '헤딩', '선수', '골', '리그', '골', '선수', '공격', '헤딩', '슈팅', '공', '패스', '공격수', '페널티킥', '공'], 'doc2': ['수비', '골', '챔피언스리그', '헤딩', '경기장', '골키퍼', '챔피언스리그', '헤딩', '경기장', '수비수', '수비수', '패스', '드리블', '선수', '월드컵'], 'doc3': ['헤딩', '리그', '드리블', '골키퍼', '공격수', '공격수', '월드컵', '선수', '공', '헤딩', '중앙미드필더', '공격', '선수', '수비수', '드리블'], 'doc4': ['클럽', '선수', '챔피언스리그', '슈팅', '리그', '수비', '리그', '중앙미드필더', '공격', '공', '중앙미드필더', '골', '패스', '중앙미드필더', '클럽'], 'doc5': ['선수', '경기장', '수비', '골키퍼', '월드컵', '리그', '드리블', '공격수', '슈팅', '선수', '선수', '월드컵', '드리블', '월드컵', '골키퍼'], 'doc6': ['수비수', '심판', '공', '공격', '표준편차', '표본', '상관관계', '모집단', '딥러닝', '클러스터링', '인공지능', '챔피언스리그', '공', '심판', '챔피언스리그'], 'doc7': ['페널티킥', '중앙미드필더', '챔피언스리그', '선수', '표본', '평균', '분류', '로지스틱 회귀', '머신러닝', '클러스터링', '평균', '수비수', '중앙미드필더', '페널티킥', '심판'], 'doc8': ['공격', '경기장', '패스', '수비수', '신뢰구간', '데이터과학', '확률', '통계', '분류', '인공지능', '머신러닝', '수비수', '수비수', '페널티킥', '수비수'], 'doc9': ['페널티킥', '패스', '골키퍼', '공', '신뢰구간', '딥러닝', '평균', '인공지능', '딥러닝', '분산', '딥러닝', '월드컵', '월드컵', '슈팅', '골키퍼'], 'doc10': ['리그', '슈팅', '드리블', '선수', '평균', '데이터분석', '데이터과학', '신뢰구간', '평균', '분류', '딥러닝', '심판', '슈팅', '패스', '선수'], 'doc11': ['평균', '데이터분석', '클러스터링', '데이터과학', '신경망', '데이터분석', '상관관계', '인공지능', '상관관계', '확률', '회귀분석', '로지스틱 회귀', '평균', '표준편차', '딥러닝'], 'doc12': ['신뢰구간', '딥러닝', '확률', '평균', '데이터분석', '상관관계', '회귀분석', '통계', '신경망', '상관관계', '회귀분석', '확률', '로지스틱 회귀', '상관관계', '데이터과학'], 'doc13': ['확률', '로지스틱 회귀', '통계', '딥러닝', '모집단', '머신러닝', '인공지능', '표준편차', '상관관계', '확률', '확률', '클러스터링', '신경망', '분류', '데이터분석'], 'doc14': ['데이터분석', '데이터과학', '분류', '통계적 가설검정', '머신러닝', '로지스틱 회귀', '회귀분석', '분류', '표본', '모집단', '통계적 가설검정', '상관관계', '표본', '클러스터링', '표본'], 'doc15': ['딥러닝', '인공지능', '표본', '표준편차', '신경망', '분류', '모집단', '데이터분석', '통계', '통계적 가설검정', '통계적 가설검정', '머신러닝', '머신러닝', '상관관계', '딥러닝']}\n",
    "pd.DataFrame(D)"
   ]
  },
  {
   "cell_type": "markdown",
   "id": "1c6356f7-69dd-4d33-b83b-8ea29eaca5ed",
   "metadata": {},
   "source": [
    "`-` 간단한 데이터 조사\n",
    "\n",
    "- 데이터는 총 15개의 문서로 이루어져 있으며 처음5개의 문서는 축구관련, 이후 5개는 축구와 통계 관련, 이후 5개는 통계관련이다. \n",
    "- 축구와 통계가 섞인 `doc6~doc11`은 축구관련4단어, 통계관련7단어, 축구관련4단어의 조합으로 이루어져 있다. "
   ]
  },
  {
   "cell_type": "markdown",
   "id": "75275f59-5ae5-40de-969e-a055c174c12c",
   "metadata": {},
   "source": [
    "`-` 초기값 "
   ]
  },
  {
   "cell_type": "code",
   "execution_count": 304,
   "id": "3e9bebfe-8b69-4006-bcfa-e91360358ea7",
   "metadata": {},
   "outputs": [
    {
     "data": {
      "text/plain": [
       "{'doc1': [0, 1, 0, 0, 1, 1, 0, 1, 0, 0, 0, 0, 0, 0, 0],\n",
       " 'doc2': [1, 1, 0, 1, 1, 0, 1, 0, 1, 1, 0, 0, 0, 1, 0],\n",
       " 'doc3': [0, 1, 1, 0, 0, 0, 1, 0, 1, 1, 0, 1, 1, 1, 0],\n",
       " 'doc4': [1, 0, 1, 0, 1, 0, 0, 1, 1, 0, 0, 1, 1, 1, 1],\n",
       " 'doc5': [1, 0, 1, 0, 1, 1, 1, 0, 1, 1, 0, 1, 0, 1, 0],\n",
       " 'doc6': [1, 0, 0, 1, 0, 0, 0, 1, 1, 0, 0, 0, 1, 1, 1],\n",
       " 'doc7': [0, 1, 1, 0, 0, 0, 0, 0, 0, 1, 0, 1, 1, 0, 0],\n",
       " 'doc8': [0, 0, 0, 1, 1, 1, 1, 0, 0, 1, 1, 0, 1, 1, 1],\n",
       " 'doc9': [1, 0, 1, 1, 0, 1, 1, 0, 1, 1, 1, 1, 1, 0, 1],\n",
       " 'doc10': [1, 1, 0, 0, 1, 0, 0, 1, 0, 0, 1, 1, 1, 1, 0],\n",
       " 'doc11': [1, 1, 1, 1, 0, 1, 0, 0, 1, 1, 0, 0, 0, 0, 0],\n",
       " 'doc12': [0, 0, 0, 0, 0, 0, 0, 0, 0, 0, 1, 1, 1, 0, 1],\n",
       " 'doc13': [0, 0, 1, 0, 1, 1, 0, 0, 0, 1, 0, 0, 0, 0, 0],\n",
       " 'doc14': [1, 1, 1, 1, 0, 0, 1, 1, 1, 0, 1, 1, 0, 0, 1],\n",
       " 'doc15': [1, 0, 1, 0, 0, 0, 1, 0, 1, 0, 1, 1, 1, 0, 1]}"
      ]
     },
     "execution_count": 304,
     "metadata": {},
     "output_type": "execute_result"
    }
   ],
   "source": [
    "θ = {doc:np.random.choice([0,1],size=15).tolist() for doc in D}\n",
    "θ"
   ]
  },
  {
   "cell_type": "markdown",
   "id": "d7554544-c4d2-4380-b9d0-8df16b37fdbf",
   "metadata": {},
   "source": [
    "`-` D와 $\\theta$를 묶어서 하나의 dict를 만들자."
   ]
  },
  {
   "cell_type": "code",
   "execution_count": 305,
   "id": "37ca855e-87f3-4480-babc-b11550e2f675",
   "metadata": {},
   "outputs": [],
   "source": [
    "data = {'D':D, 'θ':θ} "
   ]
  },
  {
   "cell_type": "markdown",
   "id": "a44dc824-d950-4b28-98fa-fd81e6e7293f",
   "metadata": {},
   "source": [
    "## 하이퍼파라메터"
   ]
  },
  {
   "cell_type": "code",
   "execution_count": 306,
   "id": "8c4f6d80-da4f-4d78-b884-1bc362a5c004",
   "metadata": {},
   "outputs": [],
   "source": [
    "K = 2 # 토픽의수 <-- 유저가 설정함"
   ]
  },
  {
   "cell_type": "markdown",
   "id": "3192d894-8e95-4947-944e-6282554c51b2",
   "metadata": {},
   "source": [
    "## 필요한 함수 "
   ]
  },
  {
   "cell_type": "markdown",
   "id": "d789e195-3f23-4bc3-9efe-4a0cdf8810de",
   "metadata": {},
   "source": [
    "`-` $p_1$: $d$-th document에 포함된 토픽 $k$의 비율을 리턴하는 함수, 즉 아래를 계산한다. \n",
    "\n",
    "$$p_1=:\\frac{\\#({\\tt topic == k, document == d})+0.1}{\\#({\\tt document == d})+0.1\\times K}$$\n",
    "\n",
    "여기에서 $K$는 토픽의 수."
   ]
  },
  {
   "cell_type": "code",
   "execution_count": 307,
   "id": "57ef5641-0d43-4fff-8881-341ac69d0844",
   "metadata": {},
   "outputs": [],
   "source": [
    "def p1(topic,doc,data):\n",
    "    θ = data['θ']\n",
    "    a = θ[doc].count(topic) +0.1\n",
    "    b = len(θ[doc]) + 0.1 *K  \n",
    "    return a/b"
   ]
  },
  {
   "cell_type": "markdown",
   "id": "adc20cf9-ac19-4ea2-bce1-b14666660bd0",
   "metadata": {},
   "source": [
    "`-` $p_2$: $k$-th topic에 포함된 단어 $w$의 비율을 리턴하는 함수, 즉 아래를 계산한다. \n",
    "\n",
    "$$p_2=:\\frac{\\#({\\tt word ==w, topic == k})+0.1}{\\#({\\tt topic == k})+0.1\\times W}$$\n",
    "\n",
    "여기에서 $W$는 전체단어의 수. (이 예제의 경우 40개의 단어로 이루어짐)"
   ]
  },
  {
   "cell_type": "code",
   "execution_count": 312,
   "id": "d08cffd6-a9a9-45ef-b1b0-8647cdf67311",
   "metadata": {},
   "outputs": [],
   "source": [
    "def p2(word,topic,data):\n",
    "    D=data['D']\n",
    "    θ=data['θ']\n",
    "    tpclst = [tpc for doc in θ for tpc in θ[doc]]\n",
    "    wrdlst = [wrd for doc in D for wrd in D[doc]]\n",
    "    a = [wrd for i,wrd in enumerate(wrdlst) if tpclst[i]==topic].count(word) + 0.1 \n",
    "    b = tpclst.count(topic) + 0.1 * len(set(wrdlst))\n",
    "    return a/b"
   ]
  },
  {
   "cell_type": "markdown",
   "id": "6e990dd8-17c3-405f-be43-a8e63f771cd4",
   "metadata": {},
   "source": [
    "## 알고리즘 "
   ]
  },
  {
   "cell_type": "markdown",
   "id": "7ea6ab6f-3c99-421f-a931-b6b9bd8a07ba",
   "metadata": {},
   "source": [
    "### ***1. 초기값: ${\\boldsymbol \\theta}_0$***"
   ]
  },
  {
   "cell_type": "code",
   "execution_count": 313,
   "id": "f7c43377-4143-4df7-80c6-27b6779149dd",
   "metadata": {},
   "outputs": [
    {
     "data": {
      "text/plain": [
       "<matplotlib.image.AxesImage at 0x7fbe31030610>"
      ]
     },
     "execution_count": 313,
     "metadata": {},
     "output_type": "execute_result"
    },
    {
     "data": {
      "image/png": "[encoded data removed]",
      "text/plain": [
       "<Figure size 288x288 with 1 Axes>"
      ]
     },
     "metadata": {
      "needs_background": "light"
     },
     "output_type": "display_data"
    }
   ],
   "source": [
    "θ = {doc:np.random.choice([0,1],size=15).tolist() for doc in D}\n",
    "plt.matshow(list(θ.values()))"
   ]
  },
  {
   "cell_type": "markdown",
   "id": "4bc99f25-a11b-4c1e-a716-535c5885667f",
   "metadata": {},
   "source": [
    "### ***2. 반복: ${\\boldsymbol \\theta}_0 \\to {\\boldsymbol \\theta}_1 \\to {\\boldsymbol \\theta}_2 \\to \\dots$***"
   ]
  },
  {
   "cell_type": "code",
   "execution_count": 314,
   "id": "2013c36c-f98d-42fb-a637-8e292098a9f6",
   "metadata": {},
   "outputs": [],
   "source": [
    "for t in range(5):\n",
    "    for doc in D:\n",
    "        for i, wrd in enumerate(D[doc]):\n",
    "            # 임시의 data를 만들고 현재 포커싱되어있는 자료를 삭제함 \n",
    "            data = {'D':copy.deepcopy(D), 'θ': copy.deepcopy(θ)} \n",
    "            del data['D'][doc][i]\n",
    "            del data['θ'][doc][i]\n",
    "            \n",
    "            # 토픽의 타당성조사, msr는 타당성을 나타내는 측도, prob는 msr의 총합을 1로 맞춤\n",
    "            msr0 = p1(topic=0, doc=doc, data=data) * p2(word=wrd, topic=0, data=data) # 토픽0의 타당성\n",
    "            msr1 = p1(topic=1, doc=doc, data=data) * p2(word=wrd, topic=1, data=data) # 토픽1의 타당성\n",
    "            prob = [msr0/(msr0 + msr1), msr1/(msr0 + msr1)] \n",
    "            \n",
    "            # update θ|\n",
    "            θ[doc][i] = np.random.choice([0,1], p=prob)            "
   ]
  },
  {
   "cell_type": "markdown",
   "id": "bfb181c7-1583-47b4-af1a-66ad99879375",
   "metadata": {},
   "source": [
    "## 시각화 "
   ]
  },
  {
   "cell_type": "code",
   "execution_count": 315,
   "id": "1528c976-a7c5-4844-b24a-d2a703361ec4",
   "metadata": {},
   "outputs": [
    {
     "data": {
      "text/plain": [
       "<matplotlib.image.AxesImage at 0x7fbe30f627f0>"
      ]
     },
     "execution_count": 315,
     "metadata": {},
     "output_type": "execute_result"
    },
    {
     "data": {
      "image/png": "[encoded data removed]",
      "text/plain": [
       "<Figure size 288x288 with 1 Axes>"
      ]
     },
     "metadata": {
      "needs_background": "light"
     },
     "output_type": "display_data"
    }
   ],
   "source": [
    "plt.matshow(list(θ.values()))"
   ]
  },
  {
   "cell_type": "code",
   "execution_count": 320,
   "id": "1752502d-915e-4277-9387-f21b53abe488",
   "metadata": {},
   "outputs": [
    {
     "data": {
      "text/plain": [
       "(15, 15)"
      ]
     },
     "execution_count": 320,
     "metadata": {},
     "output_type": "execute_result"
    }
   ],
   "source": [
    "np.array(list(θ.values())).shape"
   ]
  }
 ],
 "metadata": {
  "kernelspec": {
   "display_name": "Python 3",
   "language": "python",
   "name": "python3"
  },
  "language_info": {
   "codemirror_mode": {
    "name": "ipython",
    "version": 3
   },
   "file_extension": ".py",
   "mimetype": "text/x-python",
   "name": "python",
   "nbconvert_exporter": "python",
   "pygments_lexer": "ipython3",
   "version": "3.8.16"
  }
 },
 "nbformat": 4,
 "nbformat_minor": 5
}
