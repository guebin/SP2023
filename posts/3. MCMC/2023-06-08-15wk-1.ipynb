{
 "cells": [
  {
   "cell_type": "raw",
   "id": "8bcc0278-32f3-4dc9-90a7-7399bbb9e2b8",
   "metadata": {},
   "source": [
    "---\n",
    "title: \"15wk-1: MCMC (3)\"\n",
    "author: \"최규빈\"\n",
    "date: \"06/01/2023\"\n",
    "bibliography: ref.bib\n",
    "title-block-style: none\n",
    "title-block-banner: false\n",
    "---"
   ]
  },
  {
   "cell_type": "markdown",
   "id": "bb8249bf-bc14-40ec-a21c-f2eafcd1819b",
   "metadata": {},
   "source": [
    "# 강의영상 "
   ]
  },
  {
   "cell_type": "markdown",
   "id": "49d82d39-0b75-43a0-9679-d217ce1c61dd",
   "metadata": {},
   "source": [
    "# 모티브"
   ]
  },
  {
   "cell_type": "markdown",
   "id": "ff16699a-9cdd-40e8-a3c8-47a08156dd68",
   "metadata": {},
   "source": [
    "`-` 축구기사 \n",
    "\n",
    "- 손흥민: <https://www.hani.co.kr/arti/sports/soccer/1093315.html>"
   ]
  },
  {
   "cell_type": "markdown",
   "id": "a408f2c0-91a3-4a53-8b69-77f7c5f98f6e",
   "metadata": {},
   "source": [
    "`-` 16강진출 경우의 수 \n",
    "\n",
    "- 16강 가능할까? : <https://www.fifa.com/fifaplus/ko/articles/number-of-cases-korea-goes-to-round-of-16>"
   ]
  },
  {
   "cell_type": "markdown",
   "id": "98e24ac5-2306-42e6-a4f2-508bf5601525",
   "metadata": {},
   "source": [
    "`-` 통계, 데이터과학 \n",
    "\n",
    "- 생략 "
   ]
  }
 ],
 "metadata": {
  "kernelspec": {
   "display_name": "Python 3",
   "language": "python",
   "name": "python3"
  },
  "language_info": {
   "codemirror_mode": {
    "name": "ipython",
    "version": 3
   },
   "file_extension": ".py",
   "mimetype": "text/x-python",
   "name": "python",
   "nbconvert_exporter": "python",
   "pygments_lexer": "ipython3",
   "version": "3.8.16"
  }
 },
 "nbformat": 4,
 "nbformat_minor": 5
}
