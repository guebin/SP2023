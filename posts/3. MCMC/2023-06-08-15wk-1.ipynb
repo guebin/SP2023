{
 "cells": [
  {
   "cell_type": "raw",
   "id": "8bcc0278-32f3-4dc9-90a7-7399bbb9e2b8",
   "metadata": {},
   "source": [
    "---\n",
    "title: \"15wk-1: MCMC (3)\"\n",
    "author: \"최규빈\"\n",
    "date: \"06/01/2023\"\n",
    "bibliography: ref.bib\n",
    "title-block-style: none\n",
    "title-block-banner: false\n",
    "---"
   ]
  },
  {
   "cell_type": "markdown",
   "id": "bb8249bf-bc14-40ec-a21c-f2eafcd1819b",
   "metadata": {},
   "source": [
    "# 강의영상 "
   ]
  },
  {
   "cell_type": "markdown",
   "id": "49d82d39-0b75-43a0-9679-d217ce1c61dd",
   "metadata": {},
   "source": [
    "# 모티브"
   ]
  },
  {
   "cell_type": "markdown",
   "id": "ff16699a-9cdd-40e8-a3c8-47a08156dd68",
   "metadata": {},
   "source": [
    "`-` 축구기사 \n",
    "\n",
    "- 손흥민: <https://www.hani.co.kr/arti/sports/soccer/1093315.html>"
   ]
  },
  {
   "cell_type": "markdown",
   "id": "a408f2c0-91a3-4a53-8b69-77f7c5f98f6e",
   "metadata": {},
   "source": [
    "`-` 16강진출 경우의 수 \n",
    "\n",
    "- 16강 가능할까? : <https://www.fifa.com/fifaplus/ko/articles/number-of-cases-korea-goes-to-round-of-16>"
   ]
  },
  {
   "cell_type": "markdown",
   "id": "98e24ac5-2306-42e6-a4f2-508bf5601525",
   "metadata": {},
   "source": [
    "`-` 통계, 데이터과학 \n",
    "\n",
    "- 생략 "
   ]
  },
  {
   "cell_type": "markdown",
   "id": "2e9d49c1-85ab-470a-af54-0079a2339cc6",
   "metadata": {},
   "source": [
    "# 간단한 예제"
   ]
  },
  {
   "cell_type": "code",
   "execution_count": 141,
   "id": "d66b8236-de42-465c-a888-0c6b34d9ef50",
   "metadata": {},
   "outputs": [
    {
     "data": {
      "text/plain": [
       "{'doc1': ['손흥민', '골'], 'doc2': ['골', '확률'], 'doc3': ['확률', '데이터과학']}"
      ]
     },
     "execution_count": 141,
     "metadata": {},
     "output_type": "execute_result"
    }
   ],
   "source": [
    "D= {\n",
    "    'doc1':['손흥민','골'],\n",
    "    'doc2':['골','확률'],\n",
    "    'doc3':['확률','데이터과학']\n",
    "}\n",
    "D"
   ]
  },
  {
   "cell_type": "markdown",
   "id": "9563a76a-2448-4690-831b-0f3669cacef4",
   "metadata": {},
   "source": [
    "- $D$는 문서들의 집합인데 이를 보통 코퍼스라고 표현한다. "
   ]
  },
  {
   "cell_type": "markdown",
   "id": "adf859f0-cf89-480c-b5f7-e352ee7f9961",
   "metadata": {},
   "source": [
    "`-` 토픽\n",
    "\n",
    "- 토픽1 = 축구: '골','손흥민'와 같은 단어들이 쓰임\n",
    "- 토픽2 = 통계: '확률', '데이터과학'와 같은 단어들이 쓰임 "
   ]
  },
  {
   "cell_type": "markdown",
   "id": "3a2622b0-a38c-4d33-a11e-5dc2d20add7a",
   "metadata": {},
   "source": [
    "`-` 문서 \n",
    "\n",
    "- `doc1`: 이 문서에는 \"토픽1=축구\"이 있구나\n",
    "- `doc2`: 이 문서에는 \"토픽1=축구\"와 \"토픽2=통계\"가 섞여있는 것 같다. \n",
    "- `doc3`: 이 문서에는 \"토픽2=통계\"가 있구나"
   ]
  },
  {
   "cell_type": "markdown",
   "id": "cb9a67d9-98b2-4f55-9d0c-561f2b9048b4",
   "metadata": {},
   "source": [
    "`-` 우리가 원하는 것: 문서별로 토픽이 얼마나 들어있는지 알고 싶다. 입력 $D$가 왔을때, 출력이 $\\theta$가 되는 어떠한 장치가 있으면 좋겠다."
   ]
  },
  {
   "cell_type": "code",
   "execution_count": 142,
   "id": "14556e58-b2b3-457c-8eac-1896edb8696d",
   "metadata": {},
   "outputs": [
    {
     "data": {
      "text/plain": [
       "{'doc1': ['손흥민', '골'], 'doc2': ['골', '확률'], 'doc3': ['확률', '데이터과학']}"
      ]
     },
     "execution_count": 142,
     "metadata": {},
     "output_type": "execute_result"
    }
   ],
   "source": [
    "D"
   ]
  },
  {
   "cell_type": "code",
   "execution_count": 143,
   "id": "7b28ac4f-4b43-40a4-91ca-e90744a26b75",
   "metadata": {},
   "outputs": [],
   "source": [
    "θ = {'doc1': [1, 1], 'doc2': [1, 2], 'doc3': [2, 2]}"
   ]
  },
  {
   "cell_type": "markdown",
   "id": "6c2c1912-cef2-4f29-8e8c-bae0c5e8520f",
   "metadata": {},
   "source": [
    "`-` 비판\n",
    "\n",
    "- 생각해보니까 '손흥민'이라는 단어는 누가보아도 축구단어\n",
    "- 그런데 '골'이라는 것은 축구토픽에 있을 수도 있는데, 통계관련 기사에서 등장할 수도 있음. \n",
    "- '손흥민'이라는 단어가 축구토픽에서 나올 확률이 99퍼라면 '골'이라는 단어는 95퍼정도의 느낌 \n",
    "- 그래서 '손흥민=1번토픽' 이라는 분류보다 '손흥민=1번일것 같은 확률' 와 같은 방식으로 추정이 되면 좋겠다. "
   ]
  },
  {
   "cell_type": "markdown",
   "id": "6755225e-8a76-4903-a2c2-f9781b0e0ca5",
   "metadata": {},
   "source": [
    "`-` ${\\boldsymbol \\theta}=(\\theta[0],\\theta[1],\\dots,\\theta[5])$ 를 결정하면 되는데 궁극적으로는 이 ${\\boldsymbol \\theta}$를 샘플링할 수 있는 분포 ${\\boldsymbol \\pi}_{\\boldsymbol \\theta}$에 관심이 있음. "
   ]
  },
  {
   "cell_type": "markdown",
   "id": "241b1af5-ab69-4b71-814c-5e55821689b6",
   "metadata": {},
   "source": [
    "`-` 낙관론자: 아래와 같이 하면 되지 않나?\n",
    "\n",
    "- ${\\boldsymbol \\theta} \\sim {\\boldsymbol \\pi}_{\\boldsymbol \\theta}$"
   ]
  },
  {
   "cell_type": "markdown",
   "id": "4ee11237-595b-4cd2-84a6-21b5a6cafff9",
   "metadata": {},
   "source": [
    "`-` 비관론자: ${\\boldsymbol \\pi}_{\\boldsymbol \\theta}$를 모르므로 불가능 \n",
    "    \n",
    "- 기존의 MCMC 방법류는 ${\\boldsymbol \\pi}_{\\boldsymbol \\theta}$를 알고 있었음 "
   ]
  },
  {
   "cell_type": "markdown",
   "id": "156199b2-855c-4773-9763-1f4c99a3a8f0",
   "metadata": {},
   "source": [
    "## 가능한 해결책"
   ]
  },
  {
   "cell_type": "markdown",
   "id": "b372bbe1-c7fb-414f-9055-b61d1a92a6c6",
   "metadata": {},
   "source": [
    "`-` 이론적인 근거는 지금 설명할 수 없으나 엄청 그럴듯한 해결책이 있음. "
   ]
  },
  {
   "cell_type": "markdown",
   "id": "70295202-838d-40c6-900a-c3d39cc0fa75",
   "metadata": {},
   "source": [
    "`-` 문제의 단순화 \n",
    "\n",
    "- 길이가 6인 랜덤벡터 ${\\boldsymbol \\theta} =(\\theta[0],\\dots,\\theta[5])$ 를 뽑는 것. "
   ]
  },
  {
   "cell_type": "markdown",
   "id": "5d7ad214-e72b-4f3f-a9d3-2b420a0e0040",
   "metadata": {},
   "source": [
    "### ***단계1: 아무값이나 넣자***"
   ]
  },
  {
   "cell_type": "code",
   "execution_count": 147,
   "id": "f944147d-236b-475c-bee5-18337481f8f9",
   "metadata": {},
   "outputs": [
    {
     "data": {
      "text/plain": [
       "{'doc1': [2, 1], 'doc2': [1, 2], 'doc3': [2, 1]}"
      ]
     },
     "execution_count": 147,
     "metadata": {},
     "output_type": "execute_result"
    }
   ],
   "source": [
    "θ = {'doc1': [2, 1], 'doc2': [1, 2], 'doc3': [2, 1]}\n",
    "θ"
   ]
  },
  {
   "cell_type": "markdown",
   "id": "1f45a09c-9f53-44e9-881a-2e6cda3b2163",
   "metadata": {},
   "source": [
    "- ${\\boldsymbol \\theta}_0=[2,1,1,2,2,1]$"
   ]
  },
  {
   "cell_type": "code",
   "execution_count": 146,
   "id": "5220978e-17a7-484f-b934-0f8784e73328",
   "metadata": {},
   "outputs": [
    {
     "data": {
      "text/plain": [
       "{'doc1': ['손흥민', '골'], 'doc2': ['골', '확률'], 'doc3': ['확률', '데이터과학']}"
      ]
     },
     "execution_count": 146,
     "metadata": {},
     "output_type": "execute_result"
    }
   ],
   "source": [
    "D"
   ]
  },
  {
   "cell_type": "markdown",
   "id": "596da243-9820-4df6-b4f8-913de67d78bf",
   "metadata": {},
   "source": [
    "***1. 문서당 토픽비율을 조사***"
   ]
  },
  {
   "cell_type": "markdown",
   "id": "e76e21ca-9e83-4617-a761-114bc177109d",
   "metadata": {},
   "source": [
    "- doc1 = ['손흥민', '골'] = [2, 1] \n",
    "- doc2 = ['골', '확률'] = [1, 2]\n",
    "- doc3 = ['확률', '데이터과학'] = [2, 1]"
   ]
  },
  {
   "cell_type": "markdown",
   "id": "554addf5-19a1-4025-9dce-ff5495c12f68",
   "metadata": {},
   "source": [
    "***2. 토픽별로 등장하는 단어***"
   ]
  },
  {
   "cell_type": "markdown",
   "id": "f96a044d-a602-4d3a-ad0a-d81a8c015528",
   "metadata": {},
   "source": [
    "- 토픽1 = ['골', '골', '데이터과학'] --> 축구인가?? (데이터과학이 살짝 애매하긴함)\n",
    "- 토픽2 = ['손흥민', '확률', '확률'] --> 통계인가?? (손흥민이 살짝 애매하긴함)"
   ]
  },
  {
   "cell_type": "markdown",
   "id": "f5370d64-09fc-45ba-b5c3-8528b850b666",
   "metadata": {},
   "source": [
    "${\\boldsymbol \\theta}_0[0]$의 고민: 나는 토픽1인가 토픽2인가? "
   ]
  },
  {
   "cell_type": "code",
   "execution_count": 149,
   "id": "93000e3a-7542-4e32-b961-7ccacfa2b535",
   "metadata": {},
   "outputs": [
    {
     "data": {
      "text/plain": [
       "{'doc1': [2, 1], 'doc2': [1, 2], 'doc3': [2, 1]}"
      ]
     },
     "execution_count": 149,
     "metadata": {},
     "output_type": "execute_result"
    }
   ],
   "source": [
    "θ"
   ]
  },
  {
   "cell_type": "code",
   "execution_count": 150,
   "id": "3c523121-aa24-4650-8b63-a95a60d48900",
   "metadata": {},
   "outputs": [
    {
     "data": {
      "text/plain": [
       "{'doc1': ['손흥민', '골'], 'doc2': ['골', '확률'], 'doc3': ['확률', '데이터과학']}"
      ]
     },
     "execution_count": 150,
     "metadata": {},
     "output_type": "execute_result"
    }
   ],
   "source": [
    "D"
   ]
  },
  {
   "cell_type": "code",
   "execution_count": 152,
   "id": "b4243c77-6871-4be0-9809-004efdb9c7e5",
   "metadata": {},
   "outputs": [
    {
     "data": {
      "text/plain": [
       "('손흥민', 2)"
      ]
     },
     "execution_count": 152,
     "metadata": {},
     "output_type": "execute_result"
    }
   ],
   "source": [
    "D['doc1'][0],θ['doc1'][0]"
   ]
  },
  {
   "cell_type": "markdown",
   "id": "f3e4cab8-b57f-41ae-a06b-b17d80b4d4ba",
   "metadata": {},
   "source": [
    "`문서눈치`: 나는 $(={\\boldsymbol \\theta}_0[0])$ doc1에 있음. 그런데 doc1에는 지금 아래의 단어들이 있음. "
   ]
  },
  {
   "cell_type": "code",
   "execution_count": 153,
   "id": "ef81bb6f-bdd7-4f46-97b5-c1dec250adc5",
   "metadata": {},
   "outputs": [
    {
     "data": {
      "text/plain": [
       "['손흥민', '골']"
      ]
     },
     "execution_count": 153,
     "metadata": {},
     "output_type": "execute_result"
    }
   ],
   "source": [
    "D['doc1']"
   ]
  },
  {
   "cell_type": "code",
   "execution_count": null,
   "id": "f5c79129-c7c6-4ea7-93a1-2cfd139e98e0",
   "metadata": {},
   "outputs": [],
   "source": []
  },
  {
   "cell_type": "code",
   "execution_count": null,
   "id": "ac1855df-10b3-45f0-8154-7f35c0169dac",
   "metadata": {},
   "outputs": [],
   "source": []
  },
  {
   "cell_type": "markdown",
   "id": "8bcdee16-8674-4b89-8a3c-6955804dfb5b",
   "metadata": {},
   "source": [
    "`단어눈치`: 나는 $(={\\boldsymbol \\theta}_0[0])$ 토픽1에 있음. 그리고 토픽1에는 지금 아래의 단어들이 있음"
   ]
  },
  {
   "cell_type": "code",
   "execution_count": null,
   "id": "48b1fa43-b11c-4de9-82e9-f1d3134083e0",
   "metadata": {},
   "outputs": [],
   "source": []
  }
 ],
 "metadata": {
  "kernelspec": {
   "display_name": "Python 3",
   "language": "python",
   "name": "python3"
  },
  "language_info": {
   "codemirror_mode": {
    "name": "ipython",
    "version": 3
   },
   "file_extension": ".py",
   "mimetype": "text/x-python",
   "name": "python",
   "nbconvert_exporter": "python",
   "pygments_lexer": "ipython3",
   "version": "3.8.16"
  }
 },
 "nbformat": 4,
 "nbformat_minor": 5
}
