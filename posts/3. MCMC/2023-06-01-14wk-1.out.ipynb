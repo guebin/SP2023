{
  "cells": [
    {
      "cell_type": "markdown",
      "metadata": {},
      "source": [
        "# 14wk-1,2: MCMC (2)\n",
        "\n",
        "최규빈  \n",
        "2023-06-01\n",
        "\n",
        "# 강의영상\n",
        "\n",
        "> youtube:\n",
        "> <https://youtube.com/playlist?list=PLQqh36zP38-zN7idmV8iVcOs4zV2Lg8WE>\n",
        "\n",
        "-   이 강의는 14wk-1, 14wk-2 의 강의가 합쳐져 있습니다.\n",
        "\n",
        "# imports"
      ],
      "id": "2dbccc0e-2e1f-4f48-aab7-128b7548e2c7"
    },
    {
      "cell_type": "code",
      "execution_count": 40,
      "metadata": {},
      "outputs": [],
      "source": [
        "import numpy as np\n",
        "import matplotlib.pyplot as plt\n",
        "import scipy"
      ],
      "id": "97a04a84-3fec-4181-a96d-00a359bbf6ec"
    },
    {
      "cell_type": "markdown",
      "metadata": {},
      "source": [
        "# 약간의 이론\n",
        "\n",
        "`-` **이론**: $\\{X_t\\}$가 IRR-HMC[1] 라고 하자.\n",
        "\n",
        "1.  만약에 $\\{X_t\\}$가 정상분포를 가진다면 그 정상분포는 유일한\n",
        "    정상분포이다.\n",
        "2.  1이 성립한다면 $\\{X_t\\}$는 positive recurrent HMC가 된다.[2]\n",
        "3.  $\\{X_t\\}$는 IRR-PR-HMC 이므로 주기를 논의할 수 있다.[3] 만약에\n",
        "    $\\{X_t\\}$가 aperiodic 이면[4] $\\{X_t\\}$는 에르고딕 마코프체인이\n",
        "    된다.\n",
        "4.  따라서 이 경우는\n",
        "    $\\bar{\\boldsymbol \\pi} \\to {\\boldsymbol \\pi} = {\\bf p}_{\\star}$ 가\n",
        "    성립한다. (***nice case***)\n",
        "\n",
        "`-` 무기: $\\{X_t\\}$가 IRR-HMC라고 할때 (1) 어떠한 방식으로든 정상분포가\n",
        "존재함을 보이고 (유일함을 보이지 않더라도 유일해짐) (2) AP 임을 보이면\n",
        "***nice case***가 된다.\n",
        "\n",
        "> 사실상 periodicity는 $\\frac{1}{2}({\\bf P} + {\\bf I})$ 와 같은 방식으로\n",
        "> 쉽게 kill 할 수 있으므로 “$\\exists {\\boldsymbol \\pi}$”를 보이면\n",
        "> ***nice case*** 를 만들수 있다고 봐야함.\n",
        "\n",
        "`-` **Thm**: $\\{X_t\\}$가 IRR-HMC라고 하고 ${\\bf P}$ 가 $\\{X_t\\}$의\n",
        "transition matrix (혹은 그 비슷한 것) 이라고 하자. 분포의 정의를\n",
        "만족하는 어떠한 벡터 ${\\boldsymbol \\mu}$가 아래의 조건을 만족한다면\n",
        "\n",
        "$$\\forall i,j \\in E:~\\mu_ip_{ij} = \\mu_jp_{ji} \\quad \\quad \\cdots (\\star)$$\n",
        "\n",
        "벡터 ${\\boldsymbol \\mu}$는 정상분포이다. 즉 아래가 성립한다.\n",
        "\n",
        "$${\\boldsymbol \\mu}^\\top {\\bf P} = {\\boldsymbol \\mu}^\\top \\quad \\cdots (\\star\\star)$$\n",
        "\n",
        "단 여기에서 편의상 아래와 같이 생각하자.\n",
        "\n",
        "-   ${\\boldsymbol \\mu}^\\top = [\\mu_0,\\mu_1,\\dots]$\n",
        "\n",
        "-   ${\\bf P} = \\begin{bmatrix} p_{00} & p_{01} & \\dots \\\\ p_{10} & p_{11} & \\dots \\\\ \\dots & \\dots & \\dots \\end{bmatrix}$\n",
        "\n",
        "`-` 조건 $(\\star)$를 detailed balance condition (DBC) 라고 부른다. 이\n",
        "조건은 정상분포가 존재할 조건 $(\\star\\star)$ 보다 강한조건이다. 즉\n",
        "$(\\star) \\Rightarrow (\\star\\star)$ 이다.\n",
        "\n",
        "`-` DBC가 ${\\boldsymbol \\mu}^\\top {\\bf P} = {\\boldsymbol \\mu}^\\top$ 를\n",
        "하는 이유를 체크하기 위해서 $(\\star)$의 양변에 $\\sum_i$를 취하면 된다.\n",
        "아래의 1,2,3을 관찰해볼 것.\n",
        "\n",
        "1.  $\\forall j\\in E:~ \\sum_{i}\\mu_i p_{ij} = \\sum_{i} \\mu_j p_{ji}$\n",
        "2.  $\\forall j\\in E:~ \\sum_{i}\\mu_i p_{ij} = \\mu_j$\n",
        "3.  ${\\boldsymbol \\mu}^\\top {\\bf P} = {\\boldsymbol \\mu}^\\top$\n",
        "\n",
        "`-` (용어) DBC를 만족하는 마코프체인을 ***reversible*** 하다고 표현하다.\n",
        "\n",
        "# Toy Example\n",
        "\n",
        "`-` 예시1: 아래와 같은 transitio matrix를 고려하자. (08wk-1에 소개된\n",
        "예제)\n",
        "\n",
        "[1] irreducible 한 homogeneous markov chain\n",
        "\n",
        "[2] IRR-HMC 에서는 PR 조건과 $\\exists! {\\boldsymbol \\pi}$ 조건이\n",
        "동치이므로.\n",
        "\n",
        "[3] 주기를 논의할 수 있는 이유는 모든 상태가 recurrent 하므로.\n",
        "\n",
        "[4] 즉 모든 상태에 대한 주기가 1이라면."
      ],
      "id": "2b929344-e1df-4295-a048-1204f2935a5a"
    },
    {
      "cell_type": "code",
      "execution_count": 44,
      "metadata": {},
      "outputs": [],
      "source": [
        "P = np.array([[0.4,0.6],\n",
        "              [0.9,0.1]])\n",
        "P"
      ],
      "id": "cd2e920d-7abc-499d-ad3c-befa17903e91"
    },
    {
      "cell_type": "markdown",
      "metadata": {},
      "source": [
        "아래와 같은 벡터를 고려하자."
      ],
      "id": "8fc28ee9-e8dd-43d2-83c7-9f9658f5cad8"
    },
    {
      "cell_type": "code",
      "execution_count": 46,
      "metadata": {},
      "outputs": [],
      "source": [
        "π = np.array([[0.6],[0.4]]) \n",
        "π.T"
      ],
      "id": "bd06f046-2dd7-488b-a3c3-3db596a9d69c"
    },
    {
      "cell_type": "markdown",
      "metadata": {},
      "source": [
        "${\\boldsymbol \\pi}$가 DBC조건을 만족하는지 체크하자.[1]\n",
        "\n",
        "[1] 아직은 ${\\boldsymbol \\pi}$가 정상분포인것은 모르지만 만약에 DBC를\n",
        "만족하면 ${\\boldsymbol \\pi}$를 정상분포라고 주장할 수 있음"
      ],
      "id": "ddfffaf8-5a88-4d81-b620-254030bdf0b1"
    },
    {
      "cell_type": "code",
      "execution_count": 54,
      "metadata": {},
      "outputs": [],
      "source": [
        "# i=0, j=0\n",
        "π[0]*P[0,0], π[0]*P[0,0]"
      ],
      "id": "5607d4d2-acd4-4492-bf80-80aec1200ed7"
    },
    {
      "cell_type": "code",
      "execution_count": 55,
      "metadata": {},
      "outputs": [],
      "source": [
        "# i=0, j=1\n",
        "π[0]*P[0,1], π[1]*P[1,0]"
      ],
      "id": "0e67bb22-17f5-4ede-9b55-ae56eefd0822"
    },
    {
      "cell_type": "code",
      "execution_count": 56,
      "metadata": {},
      "outputs": [],
      "source": [
        "# i=1, j=0\n",
        "π[1]*P[1,0], π[0]*P[0,1]"
      ],
      "id": "b14a4da8-4444-4876-88ad-370ded6de2b4"
    },
    {
      "cell_type": "code",
      "execution_count": 57,
      "metadata": {},
      "outputs": [],
      "source": [
        "# i=1, j=1\n",
        "π[1]*P[1,1], π[1]*P[1,1]"
      ],
      "id": "f9dc8dc0-9716-4a79-8732-b3e9c3cc0513"
    },
    {
      "cell_type": "markdown",
      "metadata": {},
      "source": [
        "DBC를 만족하므로 ${\\boldsymbol \\pi}$는 정상분포이다. 또한 이 예제에서는\n",
        "IRR조건이 만족하므로 이 정상분포는 유일해진다. 그리고 IRR이고\n",
        "“$\\exists! {\\boldsymbol \\pi}$” 이므로 이 마코프체인은 PR이다. 그리고 이\n",
        "마코프체인은 AP이므로 결국에는 에르고딕 마코프체인이 된다.\n",
        "\n",
        "`-` 샘플링: 아래와 같은 분포 ${\\boldsymbol \\pi}$를 따르는 확률변수 $X$를\n",
        "생성하고 싶다고 하자.\n",
        "\n",
        "|        $X$        |  $0$  |  $1$  |\n",
        "|:-----------------:|:-----:|:-----:|\n",
        "| $\\mathbb{P}(X=k)$ | $0.6$ | $0.4$ |\n",
        "\n",
        "그렇다면 아래와 같은 ${\\bf P}$에서 계속 샘플링을 하면 된다."
      ],
      "id": "add89a30-2d6f-47f4-8a42-e36a35564751"
    },
    {
      "cell_type": "code",
      "execution_count": 58,
      "metadata": {},
      "outputs": [],
      "source": [
        "P"
      ],
      "id": "87577556-2ca7-499c-bc17-e43a37a625a4"
    },
    {
      "cell_type": "code",
      "execution_count": 64,
      "metadata": {},
      "outputs": [],
      "source": [
        "def rain(before):\n",
        "    if before == 0: \n",
        "        after = np.random.rand() < 0.6\n",
        "    else:\n",
        "        after = np.random.rand() < 0.1\n",
        "    return after*1"
      ],
      "id": "4b38cd42-a924-43af-a3cc-66f8f29cf684"
    },
    {
      "cell_type": "code",
      "execution_count": 79,
      "metadata": {},
      "outputs": [],
      "source": [
        "def doctor_strange(x0):\n",
        "    lst = [x0]\n",
        "    for t in range(10500): \n",
        "        lst.append(rain(lst[t]))\n",
        "    return lst "
      ],
      "id": "ff406039-6cab-44b9-a8fe-3e3e6747524c"
    },
    {
      "cell_type": "code",
      "execution_count": 80,
      "metadata": {},
      "outputs": [],
      "source": [
        "xx = doctor_strange(0)"
      ],
      "id": "e9ee78f2-7253-4676-bd29-0ceab7a02da7"
    },
    {
      "cell_type": "code",
      "execution_count": 84,
      "metadata": {},
      "outputs": [
        {
          "output_type": "display_data",
          "metadata": {},
          "data": {
            "image/png": "[encoded data removed]"
          }
        }
      ],
      "source": [
        "plt.hist(xx[501:],bins=100);"
      ],
      "id": "97301245-2801-49bc-8ed9-86a046a7489d"
    },
    {
      "cell_type": "markdown",
      "metadata": {},
      "source": [
        "`-` 샘플링이 성공하는 이유? (당연한 것 같은데 그래도 써보면)\n",
        "\n",
        "아래와 같은 조건부확률에 따라 $X$에서 $X'$을 반복적으로 만들면\n",
        "\n",
        "-   $p_{00} = \\mathbb{P}(X'=0 | X=0)=0.4$\n",
        "-   $p_{01} = \\mathbb{P}(X'=1 | X=0)=0.6$\n",
        "-   $p_{10} = \\mathbb{P}(X'=0 | X=1)=0.9$\n",
        "-   $p_{11} = \\mathbb{P}(X'=1 | X=1)=0.1$\n",
        "\n",
        "결국 $X_{\\infty}$는 분포 ${\\boldsymbol \\pi}^\\top = [0.6, 0.4]$를 pmf로\n",
        "가진다. 이러한 분포의 히스토그램은 원래\n",
        "\n",
        "$$X_{\\infty}(\\omega_1),X_{\\infty}(\\omega_2),X_{\\infty}(\\omega_3),\\dots$$\n",
        "\n",
        "와 같은 샘플을 모아서 그려야 하지만\n",
        "\n",
        "$$X_{T_0}(\\omega_1),X_{T_0+1}(\\omega_1),X_{T_0+2}(\\omega_2),\\dots$$\n",
        "\n",
        "와 같은 샘플을 모아서 그릴 수 있다.[1] 여기에서 $T_0$는 적당히 큰\n",
        "숫자이고 우리의 예제의 경우 $T_0=500$을 설정하였다.\n",
        "\n",
        "`-` 주의: 물론 이 예제는 샘플링이 어렵지 않습니다. 아래와 같이 뽑아도\n",
        "됩니다.\n",
        "\n",
        "[1] $X_{T_0}(\\omega_1),X_{T_0+1}(\\omega_1),X_{T_0+2}(\\omega_2),\\dots$ 는\n",
        "동일한 분포를 가짐"
      ],
      "id": "93120e17-de72-4b71-9c9d-4aba21d85c68"
    },
    {
      "cell_type": "code",
      "execution_count": 90,
      "metadata": {},
      "outputs": [],
      "source": [
        "xx = (np.random.rand(10000) < 0.4)*1"
      ],
      "id": "887a0259-8f4c-4272-b66b-6fed7e890e39"
    },
    {
      "cell_type": "markdown",
      "metadata": {},
      "source": [
        "# MCMC\n",
        "\n",
        "## 샘플추천X & 이산형\n",
        "\n",
        "`-` 모티브: 위의 예제에서 전이행렬이 꼭 아래와 같을 필요는 없는것\n",
        "아닌가?"
      ],
      "id": "9f4c9c90-9013-4c45-bedb-10d5ce03c320"
    },
    {
      "cell_type": "code",
      "execution_count": 91,
      "metadata": {},
      "outputs": [],
      "source": [
        "P"
      ],
      "id": "b9fea8a7-3638-48e1-892a-92af76805b84"
    },
    {
      "cell_type": "markdown",
      "metadata": {},
      "source": [
        "`-` 우리의 목표: 아래와 같은 분포 ${\\boldsymbol \\pi}$를 따르는 확률변수\n",
        "$X$를 생성하기만 하면 되는 것 아닌가?\n",
        "\n",
        "|        $X$        |  $0$  |  $1$  |\n",
        "|:-----------------:|:-----:|:-----:|\n",
        "| $\\mathbb{P}(X=k)$ | $0.6$ | $0.4$ |\n",
        "\n",
        "이러한 정상분포를 가지는 에르고딕 마코프체인의 전이행렬 ${\\bf P}$를\n",
        "역으로 설계해보자."
      ],
      "id": "7aa71b88-a405-42de-84d4-938fac72112e"
    },
    {
      "cell_type": "code",
      "execution_count": 104,
      "metadata": {},
      "outputs": [],
      "source": [
        "P = np.array([[0.6,0.4],\n",
        "              [0.6,0.4]])"
      ],
      "id": "44b37c08-07c1-4f7d-89d9-ece7e2c4acff"
    },
    {
      "cell_type": "code",
      "execution_count": 105,
      "metadata": {},
      "outputs": [],
      "source": [
        "P"
      ],
      "id": "d0101b99-1757-4d97-9626-a61cba564561"
    },
    {
      "cell_type": "markdown",
      "metadata": {},
      "source": [
        "`-` DBC 체크: 아래의 detailed balance condition을 만족하기만 하면 target\n",
        "distribution ${\\boldsymbol \\pi}$는 새롭게 설계한 ${\\bf P}$를 가지는 HMC\n",
        "$\\{X_t\\}$의 정상분포라 주장할 수 있다.\n",
        "\n",
        "$$\\forall i,j \\in E:~ \\pi_ip_{ij}=\\pi_jp_{ji}$$\n",
        "\n",
        "이 예제의 경우\n",
        "\n",
        "$$\\forall i,j \\in E:~ \\pi_i\\pi_{j}=\\pi_j\\pi_{i}$$\n",
        "\n",
        "가 되므로 성립한다.\n",
        "\n",
        "`-` 따라서 전이행렬 ${\\bf P}$를 가지는 마코프체인은\n",
        "${\\boldsymbol \\pi}^\\top=[0.4,0.6]$를 정상분포로 가지는\n",
        "마코프체인이다.[1] 이 마코프체인은 IRR 이므로 정상분포\n",
        "${\\boldsymbol \\pi}$는 유일한 정상분포가 되고, 따라서 PR조건이 만족된다.\n",
        "또한 AP를 만족하므로 에르고딕 마코프체인이 된다.\n",
        "\n",
        "[1] DBC를 만족하기 때문에"
      ],
      "id": "db8988c8-2f51-4783-9bde-16c02a0740e2"
    },
    {
      "cell_type": "code",
      "execution_count": 112,
      "metadata": {},
      "outputs": [],
      "source": [
        "P"
      ],
      "id": "440cb42e-1725-4903-b467-2e43fe258b0c"
    },
    {
      "cell_type": "code",
      "execution_count": 113,
      "metadata": {},
      "outputs": [],
      "source": [
        "def doctor_strange(x0):\n",
        "    xx = [x0]\n",
        "    for t in range(10500): \n",
        "        _u = np.random.rand()\n",
        "        if _u < 0.4:\n",
        "            xx.append(1)\n",
        "        else:\n",
        "            xx.append(0)\n",
        "    return xx "
      ],
      "id": "77be67b3-e23c-452b-830f-8cf412e2b5cd"
    },
    {
      "cell_type": "code",
      "execution_count": 108,
      "metadata": {
        "tags": []
      },
      "outputs": [],
      "source": [
        "xx = doctor_strange(0)"
      ],
      "id": "79a2ac62"
    },
    {
      "cell_type": "code",
      "execution_count": 109,
      "metadata": {},
      "outputs": [
        {
          "output_type": "display_data",
          "metadata": {},
          "data": {
            "image/png": "[encoded data removed]"
          }
        }
      ],
      "source": [
        "plt.hist(xx[501:],bins=100);"
      ],
      "id": "59650516"
    },
    {
      "cell_type": "markdown",
      "metadata": {},
      "source": [
        "`-` 이러한 방식은 유한차원으로 확장가능하다. (그런데 귀찮다)\n",
        "\n",
        "|        $X$        |  $0$  |  $1$  |  $2$  |\n",
        "|:-----------------:|:-----:|:-----:|:-----:|\n",
        "| $\\mathbb{P}(X=k)$ | $0.6$ | $0.2$ | $0.2$ |"
      ],
      "id": "c6a9263d-e625-4e8a-b253-628149f06bcf"
    },
    {
      "cell_type": "code",
      "execution_count": 120,
      "metadata": {},
      "outputs": [],
      "source": [
        "P = np.array([[0.6,0.2,0.2],\n",
        "              [0.6,0.2,0.2],\n",
        "              [0.6,0.2,0.2]])"
      ],
      "id": "99faf68c-6253-4105-93f1-1a9e8deed501"
    },
    {
      "cell_type": "code",
      "execution_count": 121,
      "metadata": {},
      "outputs": [],
      "source": [
        "def doctor_strange(x0):\n",
        "    xx = [x0]\n",
        "    for t in range(10500): \n",
        "        _u = np.random.rand()\n",
        "        if _u < 0.6:\n",
        "            xx.append(0)\n",
        "        elif _u< 0.8:\n",
        "            xx.append(1)\n",
        "        else:\n",
        "            xx.append(2)        \n",
        "    return xx "
      ],
      "id": "f562b2f6-7988-4d2c-8b70-23f5cb0191d5"
    },
    {
      "cell_type": "code",
      "execution_count": 122,
      "metadata": {},
      "outputs": [],
      "source": [
        "xx = doctor_strange(0)"
      ],
      "id": "dde5ef5a-890b-4648-8550-0c581d70a2e0"
    },
    {
      "cell_type": "code",
      "execution_count": 124,
      "metadata": {},
      "outputs": [
        {
          "output_type": "display_data",
          "metadata": {},
          "data": {
            "image/png": "[encoded data removed]"
          }
        }
      ],
      "source": [
        "plt.hist(xx[501:],bins=100);"
      ],
      "id": "62e6108c-86e9-4ca0-8d6b-6989b19f01a2"
    },
    {
      "cell_type": "markdown",
      "metadata": {},
      "source": [
        "## 샘플추천 & 이산형\n",
        "\n",
        "`-` 아래의 분포를 고려하자."
      ],
      "id": "bd2c80b3-cb6c-491b-8a2f-93fa44a5d9e8"
    },
    {
      "cell_type": "code",
      "execution_count": 138,
      "metadata": {},
      "outputs": [],
      "source": [
        "np.random.seed(43052)\n",
        "u = np.random.rand(10)\n",
        "π = (u/u.sum()).reshape(-1,1)\n",
        "π.T"
      ],
      "id": "d77c6238-914e-409c-9095-96b58bbac8ab"
    },
    {
      "cell_type": "code",
      "execution_count": 139,
      "metadata": {},
      "outputs": [
        {
          "output_type": "display_data",
          "metadata": {},
          "data": {
            "image/png": "[encoded data removed]"
          }
        }
      ],
      "source": [
        "plt.stem(π)"
      ],
      "id": "3669fa86-1b92-4d09-9fe4-ce6a49e8d3e5"
    },
    {
      "cell_type": "markdown",
      "metadata": {},
      "source": [
        "`-` 이러한 분포에서 샘플을 뽑는 상황을 고려하자.\n",
        "\n",
        "-   위의 코드로는 못하겠다.\n",
        "-   다른 방법은 없을까?\n",
        "\n",
        "> 그냥 저번시간처럼 하자. $x$에서 $x'$으로 가는 확률을 다 정의하지 말고,\n",
        "> $x'$를 적당히 추천받고 옮겨탈지 말지 결정하자.\n",
        "\n",
        "`-` 저번시간 테크닉: $X(\\omega_1)=x$가 주어졌을때 $X'(\\omega_1)=x'$를\n",
        "뽑는 방법!\n",
        "\n",
        "1.  $x$가 주어졌다고 가정하자.\n",
        "2.  $x'$의 후보로 $Y(\\omega^\\ast)=y$를 뽑는다.\n",
        "    $Y \\sim {\\boldsymbol p}_Y:=[\\frac{1}{10},\\dots,\\frac{1}{10}]$\n",
        "3.  $x'$은 $x$가 적절한지, 아니면 추천받은 $y$가 적절한지 따져보고\n",
        "    결정한다. 즉 아래의 확률로 $x'=y$를 선택한다.\n",
        "\n",
        "$$\\frac{\\pi_y}{\\pi_x + \\pi_y}$$\n",
        "\n",
        "`-` 의문: 저렇게 막 만들어도 에르고딕한지 어떻게 알지?\n",
        "\n",
        "-   당연히 몰라요.\n",
        "-   조사를 좀 해봐야 합니다.\n",
        "\n",
        "`-` DBC condition 체크\n",
        "\n",
        "$$\\forall i,j \\in E:~ \\pi_ip_{ij}=\\pi_jp_{ji}$$\n",
        "\n",
        "노테이션을 살짝 변경하면 아래와 같다.\n",
        "\n",
        "$$\\forall x,x' \\in E:~ \\pi_xp_{xx'}=\\pi_{x'}p_{x'x}$$\n",
        "\n",
        "여기에서 $p_{xx'}$와 $p_{x'x}$를 각각 구하면 아래와 같다.\n",
        "\n",
        "$$p_{xx'} = \\frac{1}{10}\\frac{\\pi_{x'}}{\\pi_x + \\pi_{x'}}$$\n",
        "\n",
        "$$p_{x'x} = \\frac{1}{10}\\frac{\\pi_{x}}{\\pi_x + \\pi_{x'}}$$\n",
        "\n",
        "따라서 DBC가 성립한다.\n",
        "\n",
        "`-` 이론전개: DBC가 만족되었으므로 ${\\boldsymbol \\pi}$는 정상분포가\n",
        "된다. 그리고 이 마코프체인은 IRR 이므로 정상분포는 유일해진다. 또한\n",
        "IRR-HMC에서는 유일한 정상분포의 존재와 PR이 동치이므로 이 마코프체인은\n",
        "PR이 된다. 또한 이 마코프체인은 AP조건을 만족한다. 따라서 이\n",
        "마코프체인은 에르고딕이 된다."
      ],
      "id": "a5c4fd38-5894-4a9b-8771-8315387b9373"
    },
    {
      "cell_type": "code",
      "execution_count": 164,
      "metadata": {},
      "outputs": [],
      "source": [
        "def doctor_strange(x0):\n",
        "    xx = [x0]\n",
        "    for t in range(100500): \n",
        "        y = np.random.choice(range(10))\n",
        "        acceptance_prob = π[y]/(π[xx[t]]+π[y]) ## acceptance_prob 가 클수록 y가 선택\n",
        "        _u = np.random.rand()\n",
        "        if _u < acceptance_prob:\n",
        "            xx.append(y)\n",
        "        else:\n",
        "            xx.append(xx[t])\n",
        "    return xx "
      ],
      "id": "3f0fed78-344a-49c4-8c78-c5ee2198f1f0"
    },
    {
      "cell_type": "code",
      "execution_count": 165,
      "metadata": {},
      "outputs": [],
      "source": [
        "xx = doctor_strange(0)"
      ],
      "id": "bccb265d-ed3f-4bae-8271-a1046c96e6cb"
    },
    {
      "cell_type": "code",
      "execution_count": 166,
      "metadata": {},
      "outputs": [
        {
          "output_type": "display_data",
          "metadata": {},
          "data": {
            "image/png": "[encoded data removed]"
          }
        }
      ],
      "source": [
        "plt.stem(π*100000)\n",
        "plt.hist(xx[501:],bins=100,color='C1',alpha=0.8);"
      ],
      "id": "fb979e81-622d-4a47-be35-7e1f6ad86adb"
    },
    {
      "cell_type": "markdown",
      "metadata": {},
      "source": [
        "***참고***\n",
        "\n",
        "``` python\n",
        "### 비교를 위해 이전에 만들었던 코드를 확인해보자.\n",
        "T = 100000\n",
        "xx = [0.99]\n",
        "for t in range(T):\n",
        "    y = np.random.rand()\n",
        "    thresh_prob = f(y)/(f(xx[t])+f(y)) ## thresh_prob 가 클수록 y가 선택\n",
        "    _u = np.random.rand()\n",
        "    if _u < thresh_prob:\n",
        "        xx.append(y) \n",
        "    else:\n",
        "        xx.append(xx[t])\n",
        "```\n",
        "\n",
        "## 샘플추천 & 연속형\n",
        "\n",
        "`-` 아래와 같은 pdf $f_X(x)$를 가지는 확률변수를 만들고 싶다면?"
      ],
      "id": "e707b25a-523f-4b23-900c-e32113a11fe0"
    },
    {
      "cell_type": "code",
      "execution_count": 171,
      "metadata": {},
      "outputs": [],
      "source": [
        "g = scipy.special.gamma"
      ],
      "id": "1130cc34-0bfc-4a89-a3df-5a11ae95df02"
    },
    {
      "cell_type": "code",
      "execution_count": 172,
      "metadata": {},
      "outputs": [],
      "source": [
        "def f(x): \n",
        "    return g(2+6)/(g(2)*g(6)) * x**(2-1) * (1-x)**(6-1)"
      ],
      "id": "6b38791e-bfb7-41bb-9e64-ce4c32b4dfa2"
    },
    {
      "cell_type": "code",
      "execution_count": 173,
      "metadata": {},
      "outputs": [
        {
          "output_type": "display_data",
          "metadata": {},
          "data": {
            "image/png": "[encoded data removed]"
          }
        }
      ],
      "source": [
        "_x = np.linspace(0,1,1000)\n",
        "plt.plot(_x, f(_x))"
      ],
      "id": "ed812163-f228-4845-b304-c640041dd98c"
    },
    {
      "cell_type": "markdown",
      "metadata": {},
      "source": [
        "`-` 어? 잠깐만..\n",
        "\n",
        "-   이전예제: $E= \\{0,1,2,3,4,5,6,7,8,9\\}$\n",
        "-   지금예제: $E= [0,1]$\n",
        "\n",
        "상태공간 $E$ coutable 이 아니잖아? (그래도 일단 진행해보자)\n",
        "\n",
        "`-` 테크닉: $X(\\omega_1)=x$가 주어졌을때 $X'(\\omega_1)=x'$를 뽑는 방법!\n",
        "\n",
        "1.  $x$가 주어졌다고 가정하자.\n",
        "2.  $x'$의 후보로 $Y(\\omega^\\ast)=y$를 뽑는다. $Y \\sim {\\cal U}$\n",
        "3.  $x'$은 $x$가 적절한지, 아니면 추천받은 $y$가 적절한지 따져보고\n",
        "    결정한다. 즉 아래의 확률로 $x'=y$를 선택한다.\n",
        "\n",
        "$$\\frac{f_X(y)}{f_X(x) + f_X(y)}$$\n",
        "\n",
        "`-` DBC condition 체크\n",
        "\n",
        "***이전예제***\n",
        "\n",
        "$$\\forall x,x' \\in E:~ \\pi_xp_{xx'}=\\pi_{x'}p_{x'x}$$\n",
        "\n",
        "***지금예제***\n",
        "\n",
        "$$\\forall x,x' \\in E:~ f_X(x)p_{xx'}=f_X(x')p_{x'x}$$\n",
        "\n",
        "여기에서 $p_{xx'}$와 $p_{x'x}$는 대충 아래와 같이 쓸 수 있을것 같다.\n",
        "\n",
        "$$p_{xx'} = f_Y(x')\\frac{f_X(x')}{f_X(x) + f_X(x')}$$\n",
        "\n",
        "$$p_{x'x} = f_Y(x)\\frac{f_X(x)}{f_X(x) + f_X(x')}$$\n",
        "\n",
        "우선 $f_Y(x')=f_Y(x)=1$ 이므로 지금까지의 논의가 맞다면 DBC는 만족된다.\n",
        "\n",
        "`-` 의문1: 좀 이상한데? $f_X(x)$는 $\\pi_x$와 다르게 확률을 의미하는게\n",
        "아니잖아?\n",
        "\n",
        "`-` 의문2: 애초에 HMC $\\{X_t\\}$를 coutable한 state space를 가진다고\n",
        "정의하지 않았어?\n",
        "\n",
        "# Polish space\n",
        "\n",
        "`-` MCMC 샘플링이 성공하는 이유를 다시 생각해보자.\n",
        "\n",
        "아래와 같은 조건부확률에 따라 $X$에서 $X'$을 반복적으로 만들면\n",
        "\n",
        "-   $p_{00} = \\mathbb{P}(X'=0 | X=0)=0.4$\n",
        "-   $p_{01} = \\mathbb{P}(X'=1 | X=0)=0.6$\n",
        "-   $p_{10} = \\mathbb{P}(X'=0 | X=1)=0.9$\n",
        "-   $p_{11} = \\mathbb{P}(X'=1 | X=1)=0.1$\n",
        "\n",
        "…. 중략\n",
        "\n",
        "`-` 그런데 조건부 “확률”은 잘 정의할 수 있나?\n",
        "\n",
        "-   할 수 있음.\n",
        "-   상태공간이 $E$가 countable 일 경우에는 좀 쉬운편입니다. 그리고\n",
        "    조건부확률들을 모아서 매트릭스 (혹은 그 비슷한것) ${\\bf P}$를 만들수\n",
        "    있음.\n",
        "-   상태공간이 $E$가 uncoutable 일 경우에는 좀 까다로운데 polish\n",
        "    space라는 곳에서는 잘 정의됨. 그리고 조건부확률들을 모아서 매트릭스\n",
        "    (혹은 그 비슷한것) ${\\bf P}$를 만들 수는 없지만 대신에 transition\n",
        "    kernel 이라는 것은 정의할 수 있습니다.\n",
        "\n",
        "`-` 좀 더 이론적인건 엄밀하게 따져야하지만 (대학원외의 과정, 개인적으로\n",
        "공부하고 싶으면 공부하는 영역임) 하여튼 연속형일 경우에도 가능합니다.\n",
        "\n",
        "> 아무튼 연속형일 경우도 이산형처럼 가능하다.\n",
        "\n",
        "`-` 앞으로는 연속형일지라도 이산형처럼 생각해서 논리전개하세요.\n",
        "\n",
        "# 메트로폴리스-헤이스팅스\n",
        "\n",
        "`-` 이전의 테크닉: $X(\\omega_1)=x$가 주어졌을때 $X'(\\omega_1)=x'$를 뽑는\n",
        "방법!\n",
        "\n",
        "1.  $x$가 주어졌다고 가정하자.\n",
        "2.  $x'$의 후보로 $Y(\\omega^\\ast)=y$를 뽑는다.\n",
        "    $Y \\sim {\\boldsymbol p}_Y:=[\\frac{1}{10},\\dots,\\frac{1}{10}]$\n",
        "3.  $x'$은 $x$가 적절한지, 아니면 추천받은 $y$가 적절한지 따져보고\n",
        "    결정한다. 즉 아래의 확률로 $x'=y$를 선택한다.\n",
        "\n",
        "$${\\tt acceptance ~prob} =\\frac{\\pi_y}{\\pi_x + \\pi_y}$$\n",
        "\n",
        "`-` 새로운 테크닉: $X(\\omega_1)=x$가 주어졌을때 $X'(\\omega_1)=x'$를 뽑는\n",
        "방법!\n",
        "\n",
        "1.  $x$가 주어졌다고 가정하자.\n",
        "2.  $x'$의 후보로 $Y(\\omega^\\ast)=y$를 뽑는다.\n",
        "    $Y \\sim {\\boldsymbol p}_Y:=[\\frac{1}{10},\\dots,\\frac{1}{10}]$\n",
        "3.  $x'$은 $x$가 적절한지, 아니면 추천받은 $y$가 적절한지 따져보고\n",
        "    결정한다. 즉 아래의 확률로 $x'=y$를 선택한다.\n",
        "\n",
        "$${\\tt acceptance ~prob} =\\min\\left(1,\\frac{\\pi_y}{\\pi_x}\\right)$$\n",
        "\n",
        "`-` DBC를 만족하는지 체크\n",
        "\n",
        "$$\\forall x,x' \\in E:~ \\pi_xp_{xx'}=\\pi_{x'}p_{x'x}$$\n",
        "\n",
        "여기에서 $p_{xx'}$와 $p_{x'x}$를 각각 구하면 아래와 같다.\n",
        "\n",
        "$$p_{xx'} = \\frac{1}{10}\\min\\left(1,\\frac{\\pi_{x'}}{\\pi_x}\\right)$$\n",
        "\n",
        "$$p_{xx'} = \\frac{1}{10}\\min\\left(1,\\frac{\\pi_{x}}{\\pi_{x'}}\\right)$$\n",
        "\n",
        "경우를 (1) $\\pi_{x'} > \\pi_x$ (2) $\\pi_{x'} < \\pi_x$ 와 같이 나누어\n",
        "풀어보면 DBC를 만족함을 쉽게 체크할 수 있다. 이후에 위의 예제들과 동일한\n",
        "논리전개를 따르면 $\\{X_t\\}$ 가 에르고딕 마코프체인임을 보일 수 있다.\n",
        "따라서 새로운 테크닉으로 샘플을 뽑아도 무방하다."
      ],
      "id": "e1eb54f6-099b-4e7e-98ae-2ee7b6ddab43"
    }
  ],
  "nbformat": 4,
  "nbformat_minor": 5,
  "metadata": {
    "kernelspec": {
      "name": "python3",
      "display_name": "Python 3",
      "language": "python"
    },
    "language_info": {
      "name": "python",
      "codemirror_mode": {
        "name": "ipython",
        "version": "3"
      },
      "file_extension": ".py",
      "mimetype": "text/x-python",
      "nbconvert_exporter": "python",
      "pygments_lexer": "ipython3",
      "version": "3.8.16"
    }
  }
}