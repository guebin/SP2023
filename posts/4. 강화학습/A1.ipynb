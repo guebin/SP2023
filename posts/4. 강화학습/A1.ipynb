{
 "cells": [
  {
   "cell_type": "raw",
   "id": "840ee557-e082-42e8-aa09-c46ab46a5a79",
   "metadata": {},
   "source": [
    "---\n",
    "title: \"Appendix: 강화학습 (1) -- bandit\"\n",
    "author: \"최규빈\"\n",
    "date: \"08/30/2023\"\n",
    "---"
   ]
  },
  {
   "cell_type": "markdown",
   "id": "06c57372-c4d9-42b8-b62a-93fd7fb7add5",
   "metadata": {},
   "source": [
    "# 강의영상 "
   ]
  },
  {
   "cell_type": "markdown",
   "id": "004e8a3a-210a-4458-bd9b-ed0ab90a0af2",
   "metadata": {},
   "source": [
    "{{<video https://youtu.be/playlist?list=PLQqh36zP38-zoOHd7w3N5q9Jc5P34Ux8X&si=MdJTHM3a27MCAssp >}}"
   ]
  },
  {
   "cell_type": "markdown",
   "id": "aa91ddc4-c6c0-4bb4-ac17-f891f642c2ba",
   "metadata": {},
   "source": [
    "# 환경셋팅 "
   ]
  },
  {
   "cell_type": "markdown",
   "id": "226e1922-a03a-44a1-ad96-1ad7ea04c24a",
   "metadata": {},
   "source": [
    "`-` 설치 (코랩)\n",
    "\n",
    "```Python\n",
    "!pip install -q swig\n",
    "!pip install gymnasium\n",
    "!pip install gymnasium[box2d]\n",
    "```"
   ]
  },
  {
   "cell_type": "markdown",
   "id": "58bfd4ce-cf65-4fc1-8ab7-fd740531afa5",
   "metadata": {},
   "source": [
    "# imports "
   ]
  },
  {
   "cell_type": "code",
   "execution_count": 1,
   "id": "8a08935c-5215-44cb-8c5c-c0b0beb3afe0",
   "metadata": {},
   "outputs": [],
   "source": [
    "import gymnasium as gym\n",
    "import numpy as np\n",
    "import matplotlib.pyplot as plt"
   ]
  },
  {
   "cell_type": "markdown",
   "id": "a172c62f-75b9-473d-a262-abcb2c455921",
   "metadata": {},
   "source": [
    "- ref: <https://gymnasium.farama.org/index.html>"
   ]
  },
  {
   "cell_type": "markdown",
   "id": "2bbce674-bfe6-4c8b-b1cc-dd7fe3922ba8",
   "metadata": {},
   "source": [
    "# intro "
   ]
  },
  {
   "cell_type": "markdown",
   "id": "76bb96d3-279e-4376-9a3a-ff36ebc4217c",
   "metadata": {},
   "source": [
    "`-` 강화학습(대충설명): 어떠한 \"(게임)환경\"이 있을때 거기서 \"뭘 할지\"를 학습하는 과업"
   ]
  },
  {
   "attachments": {},
   "cell_type": "markdown",
   "id": "1674bcc1-196b-4e5e-a5d0-e7c448afdc11",
   "metadata": {},
   "source": [
    "`-` 딥마인드: breakout $\\to$ 알파고 \n",
    "\n",
    "- <https://www.youtube.com/watch?v=TmPfTpjtdgg>"
   ]
  },
  {
   "cell_type": "markdown",
   "id": "2c9d9fcd-c55b-4b94-92e5-61ccbbbfdd56",
   "metadata": {},
   "source": [
    "`-` 강화학습 미래? (이거 잘하면 먹고 살 수 있을까?) "
   ]
  },
  {
   "cell_type": "markdown",
   "id": "8d538b1a-455f-46dc-8d74-4bc8ffb053a2",
   "metadata": {},
   "source": [
    "`-` 선행 (강화학습)\n",
    "\n",
    "- 프로그래밍 지식: 파이썬, 클래스에 대한 이해가 있어야함. \n",
    "- 딥러닝 기본지식: 있으면 좋은데, 없어도 무방 \n",
    "- 수학적인 지식: 마코프과정, 벨만방정식 "
   ]
  },
  {
   "cell_type": "markdown",
   "id": "326f94cf-2508-4a3f-b33f-57e3fc7f4915",
   "metadata": {},
   "source": [
    "# Game1: bandit"
   ]
  },
  {
   "cell_type": "markdown",
   "id": "1a711cb5-9745-4958-8e06-270667b9fbcd",
   "metadata": {},
   "source": [
    "`-` 문제설명: 두 개의 버튼이 있다. 버튼0을 누르면 1의 보상을, 버튼1을 누르면 100의 보상을 준다고 가정 "
   ]
  },
  {
   "cell_type": "markdown",
   "id": "82e24bd7-af89-43a0-b4fe-9ac31984c47f",
   "metadata": {},
   "source": [
    "`-` 처음에 어떤 행동을 해야 하는가? ---> ??? 처음에는 아는게 없음 ---> 일단 \"아무거나\" 눌러보자. "
   ]
  },
  {
   "cell_type": "markdown",
   "id": "4d7e0db5-e18d-4458-93ed-356054d83df7",
   "metadata": {},
   "source": [
    "`-` 버튼을 아무거나 누르는 함수를 구현해보자. "
   ]
  },
  {
   "cell_type": "code",
   "execution_count": 2,
   "id": "a70d3d83-5d1f-4e95-aa37-b8c62ab0c123",
   "metadata": {},
   "outputs": [
    {
     "data": {
      "text/plain": [
       "'button0'"
      ]
     },
     "execution_count": 2,
     "metadata": {},
     "output_type": "execute_result"
    }
   ],
   "source": [
    "action_space = ['button0', 'button1'] \n",
    "action = np.random.choice(action_space)\n",
    "action"
   ]
  },
  {
   "cell_type": "markdown",
   "id": "6fae029c-49dc-4be6-85d0-158c1931850e",
   "metadata": {},
   "source": [
    "`-` 보상을 주는 함수를 구현해보자. "
   ]
  },
  {
   "cell_type": "code",
   "execution_count": 3,
   "id": "9904638b-4f7d-4297-afca-099343661519",
   "metadata": {},
   "outputs": [],
   "source": [
    "if action == 'button0': # button0을 눌렀다면 \n",
    "    reward = 1 \n",
    "else: # button1을 눌렀다면 \n",
    "    reward = 100 "
   ]
  },
  {
   "cell_type": "code",
   "execution_count": 4,
   "id": "ff0fbba1-3a4b-4463-ad8a-8d7ab5923208",
   "metadata": {},
   "outputs": [
    {
     "data": {
      "text/plain": [
       "1"
      ]
     },
     "execution_count": 4,
     "metadata": {},
     "output_type": "execute_result"
    }
   ],
   "source": [
    "reward"
   ]
  },
  {
   "cell_type": "markdown",
   "id": "9fd147ea-86bb-433d-9e7e-397ef36542ff",
   "metadata": {},
   "source": [
    "`-` 아무버튼이나 10번정도 눌러보면서 데이터를 쌓아보자. "
   ]
  },
  {
   "cell_type": "code",
   "execution_count": 5,
   "id": "190e8df9-2421-45cf-a557-b81f096a7ed3",
   "metadata": {},
   "outputs": [
    {
     "name": "stdout",
     "output_type": "stream",
     "text": [
      "button1 100\n",
      "button1 100\n",
      "button1 100\n",
      "button1 100\n",
      "button1 100\n",
      "button1 100\n",
      "button0 1\n",
      "button1 100\n",
      "button1 100\n",
      "button0 1\n"
     ]
    }
   ],
   "source": [
    "for _ in range(10):\n",
    "    action = np.random.choice(action_space)\n",
    "    if action == 'button0': \n",
    "        reward = 1 \n",
    "    else: \n",
    "        reward = 100     \n",
    "    print(action,reward) "
   ]
  },
  {
   "cell_type": "markdown",
   "id": "d3919b7f-3d35-4e65-8ad7-9fbd83c846a4",
   "metadata": {},
   "source": [
    "`-` 깨달았음: `button0`을 누르면 1점을 받고, `button1`을 누르면 100점을 받는 \"환경\"이구나? $\\to$ `button1`을 누르는 \"동작\"을 해야하는 상황이구나? \n",
    "\n",
    "- 여기에서 $\\to$의 과정을 체계화 시킨 학문이 강화학습 "
   ]
  },
  {
   "cell_type": "code",
   "execution_count": 6,
   "id": "3095c3b3-ea5b-4fb9-b262-b370f61a83dd",
   "metadata": {},
   "outputs": [
    {
     "name": "stdout",
     "output_type": "stream",
     "text": [
      "button1 100\n",
      "button1 100\n",
      "button1 100\n",
      "button1 100\n",
      "button1 100\n",
      "button1 100\n",
      "button1 100\n",
      "button1 100\n",
      "button1 100\n",
      "button1 100\n"
     ]
    }
   ],
   "source": [
    "for _ in range(10):\n",
    "    action = action_space[1]\n",
    "    if action == 'button0': \n",
    "        reward = 1 \n",
    "    else: \n",
    "        reward = 100     \n",
    "    print(action,reward) "
   ]
  },
  {
   "cell_type": "markdown",
   "id": "d15998b1-00f4-4cf8-ba44-587cc3b71618",
   "metadata": {},
   "source": [
    "- 게임 클리어"
   ]
  },
  {
   "cell_type": "markdown",
   "id": "04c08a63-89c4-4253-8693-24b2b5b58d11",
   "metadata": {},
   "source": [
    "`-` 강화학습: 환경을 이해 $\\to$ 행동을 결정 "
   ]
  },
  {
   "cell_type": "markdown",
   "id": "f16a9f47-50eb-4460-8992-c80ffd9eff0b",
   "metadata": {},
   "source": [
    "***위의 과정이 잘 되었다는 의미로 사용하는 문장들*** \n",
    "\n",
    "- 강화학습이 성공적으로 잘 되었다. \n",
    "- 에이전트가 환경의 과제를 완료했다. \n",
    "- 에이전트가 환경에서 성공적으로 학습했다. \n",
    "- 에이전트가 올바른 행동을 학습했다. \n",
    "- 게임 클리어 (비공식) "
   ]
  },
  {
   "cell_type": "markdown",
   "id": "69cdc260-b001-41ea-9098-735a379b9177",
   "metadata": {},
   "source": [
    "`-` 게임이 클리어 되었다는 것을 의미하는 지표를 정하고 싶다. \n",
    "\n",
    "- 첫 생각: `button1`을 누르는 순간 게임클리어로 보면 되지 않나?\n",
    "- 두번째 생각: 아니지? 우연히 누를수도 있잖아?\n",
    "- 게임클리어조건: 최근 20번의 보상이 1900점 이상이면 게임이 클리어 되었다고 생각하자.^[`button1`을 눌러야 하는건 맞지만 20번에 한번정도의 실수는 눈감아 주는 조건]"
   ]
  },
  {
   "cell_type": "markdown",
   "id": "577d62dd-c813-45ea-82ea-35df1f963743",
   "metadata": {},
   "source": [
    "`-` 무지한자 -- 게임을 클리어할 수 없다. "
   ]
  },
  {
   "cell_type": "code",
   "execution_count": 7,
   "id": "fdd0f72b-5433-42e4-b504-e19b1b4ad1cf",
   "metadata": {},
   "outputs": [
    {
     "name": "stdout",
     "output_type": "stream",
     "text": [
      "n_try = 1\taction= 1\treward= 100\treward20= 100\t\n",
      "n_try = 2\taction= 0\treward= 1\treward20= 101\t\n",
      "n_try = 3\taction= 0\treward= 1\treward20= 102\t\n",
      "n_try = 4\taction= 0\treward= 1\treward20= 103\t\n",
      "n_try = 5\taction= 1\treward= 100\treward20= 203\t\n",
      "n_try = 6\taction= 1\treward= 100\treward20= 303\t\n",
      "n_try = 7\taction= 1\treward= 100\treward20= 403\t\n",
      "n_try = 8\taction= 0\treward= 1\treward20= 404\t\n",
      "n_try = 9\taction= 1\treward= 100\treward20= 504\t\n",
      "n_try = 10\taction= 1\treward= 100\treward20= 604\t\n",
      "n_try = 11\taction= 0\treward= 1\treward20= 605\t\n",
      "n_try = 12\taction= 0\treward= 1\treward20= 606\t\n",
      "n_try = 13\taction= 1\treward= 100\treward20= 706\t\n",
      "n_try = 14\taction= 0\treward= 1\treward20= 707\t\n",
      "n_try = 15\taction= 0\treward= 1\treward20= 708\t\n",
      "n_try = 16\taction= 0\treward= 1\treward20= 709\t\n",
      "n_try = 17\taction= 1\treward= 100\treward20= 809\t\n",
      "n_try = 18\taction= 1\treward= 100\treward20= 909\t\n",
      "n_try = 19\taction= 0\treward= 1\treward20= 910\t\n",
      "n_try = 20\taction= 1\treward= 100\treward20= 1010\t\n",
      "n_try = 21\taction= 1\treward= 100\treward20= 1010\t\n",
      "n_try = 22\taction= 0\treward= 1\treward20= 1010\t\n",
      "n_try = 23\taction= 0\treward= 1\treward20= 1010\t\n",
      "n_try = 24\taction= 1\treward= 100\treward20= 1109\t\n",
      "n_try = 25\taction= 1\treward= 100\treward20= 1109\t\n",
      "n_try = 26\taction= 0\treward= 1\treward20= 1010\t\n",
      "n_try = 27\taction= 1\treward= 100\treward20= 1010\t\n",
      "n_try = 28\taction= 1\treward= 100\treward20= 1109\t\n",
      "n_try = 29\taction= 1\treward= 100\treward20= 1109\t\n",
      "n_try = 30\taction= 1\treward= 100\treward20= 1109\t\n",
      "n_try = 31\taction= 0\treward= 1\treward20= 1109\t\n",
      "n_try = 32\taction= 0\treward= 1\treward20= 1109\t\n",
      "n_try = 33\taction= 0\treward= 1\treward20= 1010\t\n",
      "n_try = 34\taction= 0\treward= 1\treward20= 1010\t\n",
      "n_try = 35\taction= 1\treward= 100\treward20= 1109\t\n",
      "n_try = 36\taction= 0\treward= 1\treward20= 1109\t\n",
      "n_try = 37\taction= 1\treward= 100\treward20= 1109\t\n",
      "n_try = 38\taction= 1\treward= 100\treward20= 1109\t\n",
      "n_try = 39\taction= 0\treward= 1\treward20= 1109\t\n",
      "n_try = 40\taction= 1\treward= 100\treward20= 1109\t\n",
      "n_try = 41\taction= 1\treward= 100\treward20= 1109\t\n",
      "n_try = 42\taction= 1\treward= 100\treward20= 1208\t\n",
      "n_try = 43\taction= 1\treward= 100\treward20= 1307\t\n",
      "n_try = 44\taction= 1\treward= 100\treward20= 1307\t\n",
      "n_try = 45\taction= 1\treward= 100\treward20= 1307\t\n",
      "n_try = 46\taction= 1\treward= 100\treward20= 1406\t\n",
      "n_try = 47\taction= 1\treward= 100\treward20= 1406\t\n",
      "n_try = 48\taction= 1\treward= 100\treward20= 1406\t\n",
      "n_try = 49\taction= 1\treward= 100\treward20= 1406\t\n",
      "n_try = 50\taction= 1\treward= 100\treward20= 1406\t\n"
     ]
    }
   ],
   "source": [
    "action_space = [0,1]\n",
    "rewards = [] \n",
    "for t in range(50): # 10000번을 해도 못깸 \n",
    "    action = np.random.choice(action_space) # 무지한자의 행동 (찍어) \n",
    "    if action == 0: \n",
    "        reward = 1 \n",
    "        rewards.append(reward)\n",
    "    else: \n",
    "        reward = 100\n",
    "        rewards.append(reward)\n",
    "    print(\n",
    "        f\"n_try = {t+1}\\t\"\n",
    "        f\"action= {action}\\t\"\n",
    "        f\"reward= {reward}\\t\"\n",
    "        f\"reward20= {sum(rewards[-20:])}\\t\"\n",
    "    )\n",
    "    if np.sum(rewards[-20:])>=1900:\n",
    "        break "
   ]
  },
  {
   "cell_type": "markdown",
   "id": "d962a383-d594-4390-8df4-5982b1df9c6f",
   "metadata": {},
   "source": [
    "`-` 깨달은자 -- 게임클리어 "
   ]
  },
  {
   "cell_type": "code",
   "execution_count": 8,
   "id": "eed38ded-287b-455a-ac78-00648ccda990",
   "metadata": {},
   "outputs": [
    {
     "name": "stdout",
     "output_type": "stream",
     "text": [
      "n_try = 1\taction= 1\treward= 100\treward20= 100\t\n",
      "n_try = 2\taction= 1\treward= 100\treward20= 200\t\n",
      "n_try = 3\taction= 1\treward= 100\treward20= 300\t\n",
      "n_try = 4\taction= 1\treward= 100\treward20= 400\t\n",
      "n_try = 5\taction= 1\treward= 100\treward20= 500\t\n",
      "n_try = 6\taction= 1\treward= 100\treward20= 600\t\n",
      "n_try = 7\taction= 1\treward= 100\treward20= 700\t\n",
      "n_try = 8\taction= 1\treward= 100\treward20= 800\t\n",
      "n_try = 9\taction= 1\treward= 100\treward20= 900\t\n",
      "n_try = 10\taction= 1\treward= 100\treward20= 1000\t\n",
      "n_try = 11\taction= 1\treward= 100\treward20= 1100\t\n",
      "n_try = 12\taction= 1\treward= 100\treward20= 1200\t\n",
      "n_try = 13\taction= 1\treward= 100\treward20= 1300\t\n",
      "n_try = 14\taction= 1\treward= 100\treward20= 1400\t\n",
      "n_try = 15\taction= 1\treward= 100\treward20= 1500\t\n",
      "n_try = 16\taction= 1\treward= 100\treward20= 1600\t\n",
      "n_try = 17\taction= 1\treward= 100\treward20= 1700\t\n",
      "n_try = 18\taction= 1\treward= 100\treward20= 1800\t\n",
      "n_try = 19\taction= 1\treward= 100\treward20= 1900\t\n"
     ]
    }
   ],
   "source": [
    "action_space = [0,1]\n",
    "rewards = [] \n",
    "for t in range(50): # 10000번을 해도 못깸 \n",
    "    #action = np.random.choice(action_space) # 무지한자의 행동 (찍어) \n",
    "    action = 1\n",
    "    if action == 0: \n",
    "        reward = 1 \n",
    "        rewards.append(reward)\n",
    "    else: \n",
    "        reward = 100\n",
    "        rewards.append(reward)\n",
    "    print(\n",
    "        f\"n_try = {t+1}\\t\"\n",
    "        f\"action= {action}\\t\"\n",
    "        f\"reward= {reward}\\t\"\n",
    "        f\"reward20= {sum(rewards[-20:])}\\t\"\n",
    "    )\n",
    "    if np.sum(rewards[-20:])>=1900:\n",
    "        break "
   ]
  },
  {
   "cell_type": "markdown",
   "id": "22e30ac3-bd20-4f50-bd3f-3878f47080f5",
   "metadata": {},
   "source": [
    "# 수정1: `action_space`의 수정 "
   ]
  },
  {
   "cell_type": "code",
   "execution_count": 9,
   "id": "2c397a13-6784-42fc-91e8-75ebbc051b86",
   "metadata": {},
   "outputs": [
    {
     "data": {
      "text/plain": [
       "Discrete(2)"
      ]
     },
     "execution_count": 9,
     "metadata": {},
     "output_type": "execute_result"
    }
   ],
   "source": [
    "action_space = gym.spaces.Discrete(2)\n",
    "action_space"
   ]
  },
  {
   "cell_type": "markdown",
   "id": "92bc47d1-2110-4c91-a5be-6828b864a8ac",
   "metadata": {},
   "source": [
    "`-` 좋은점1: sample "
   ]
  },
  {
   "cell_type": "code",
   "execution_count": 10,
   "id": "f522c24a-7947-4f4f-b19d-b51f1224cfa9",
   "metadata": {},
   "outputs": [
    {
     "name": "stdout",
     "output_type": "stream",
     "text": [
      "1\n",
      "1\n",
      "0\n",
      "0\n",
      "0\n",
      "0\n",
      "0\n",
      "1\n",
      "1\n",
      "1\n"
     ]
    }
   ],
   "source": [
    "for _ in range(10):\n",
    "    print(action_space.sample())"
   ]
  },
  {
   "cell_type": "markdown",
   "id": "30934a15-de62-43bf-9357-aa965ccef411",
   "metadata": {},
   "source": [
    "`-` 좋은점2: in "
   ]
  },
  {
   "cell_type": "code",
   "execution_count": 11,
   "id": "13c5c948-755a-409b-aa4a-cc9b76c05a07",
   "metadata": {},
   "outputs": [
    {
     "data": {
      "text/plain": [
       "True"
      ]
     },
     "execution_count": 11,
     "metadata": {},
     "output_type": "execute_result"
    }
   ],
   "source": [
    "0 in action_space # 유효한 액션을 검사 -- 0은 유효한 액션"
   ]
  },
  {
   "cell_type": "code",
   "execution_count": 12,
   "id": "c8c12ef4-d45c-4015-948e-e2aa63b42d8c",
   "metadata": {},
   "outputs": [
    {
     "data": {
      "text/plain": [
       "True"
      ]
     },
     "execution_count": 12,
     "metadata": {},
     "output_type": "execute_result"
    }
   ],
   "source": [
    "1 in action_space # 유효한 액션을 검사 -- 1은 유효한 액션 "
   ]
  },
  {
   "cell_type": "code",
   "execution_count": 13,
   "id": "2ed458e5-ddb4-4bf6-989b-2ed34cb039d7",
   "metadata": {},
   "outputs": [
    {
     "data": {
      "text/plain": [
       "False"
      ]
     },
     "execution_count": 13,
     "metadata": {},
     "output_type": "execute_result"
    }
   ],
   "source": [
    "2 in action_space # 유효한 액션을 검사 -- 2는 유효하지 않은 액션 "
   ]
  },
  {
   "cell_type": "markdown",
   "id": "40e2ea61-676b-4176-ab66-43c8dde5b751",
   "metadata": {},
   "source": [
    "`-` 코드 1차수정"
   ]
  },
  {
   "cell_type": "code",
   "execution_count": 14,
   "id": "e50169bd-4db0-4e18-aa76-d2ee35790e56",
   "metadata": {},
   "outputs": [
    {
     "name": "stdout",
     "output_type": "stream",
     "text": [
      "n_try = 1\taction= 0\treward= 1\treward20= 1\t\n",
      "n_try = 2\taction= 0\treward= 1\treward20= 2\t\n",
      "n_try = 3\taction= 1\treward= 100\treward20= 102\t\n",
      "n_try = 4\taction= 1\treward= 100\treward20= 202\t\n",
      "n_try = 5\taction= 1\treward= 100\treward20= 302\t\n",
      "n_try = 6\taction= 0\treward= 1\treward20= 303\t\n",
      "n_try = 7\taction= 0\treward= 1\treward20= 304\t\n",
      "n_try = 8\taction= 0\treward= 1\treward20= 305\t\n",
      "n_try = 9\taction= 0\treward= 1\treward20= 306\t\n",
      "n_try = 10\taction= 1\treward= 100\treward20= 406\t\n",
      "n_try = 11\taction= 0\treward= 1\treward20= 407\t\n",
      "n_try = 12\taction= 0\treward= 1\treward20= 408\t\n",
      "n_try = 13\taction= 0\treward= 1\treward20= 409\t\n",
      "n_try = 14\taction= 1\treward= 100\treward20= 509\t\n",
      "n_try = 15\taction= 1\treward= 100\treward20= 609\t\n",
      "n_try = 16\taction= 0\treward= 1\treward20= 610\t\n",
      "n_try = 17\taction= 1\treward= 100\treward20= 710\t\n",
      "n_try = 18\taction= 0\treward= 1\treward20= 711\t\n",
      "n_try = 19\taction= 0\treward= 1\treward20= 712\t\n",
      "n_try = 20\taction= 1\treward= 100\treward20= 812\t\n",
      "n_try = 21\taction= 1\treward= 100\treward20= 911\t\n",
      "n_try = 22\taction= 0\treward= 1\treward20= 911\t\n",
      "n_try = 23\taction= 0\treward= 1\treward20= 812\t\n",
      "n_try = 24\taction= 0\treward= 1\treward20= 713\t\n",
      "n_try = 25\taction= 0\treward= 1\treward20= 614\t\n",
      "n_try = 26\taction= 0\treward= 1\treward20= 614\t\n",
      "n_try = 27\taction= 0\treward= 1\treward20= 614\t\n",
      "n_try = 28\taction= 0\treward= 1\treward20= 614\t\n",
      "n_try = 29\taction= 0\treward= 1\treward20= 614\t\n",
      "n_try = 30\taction= 0\treward= 1\treward20= 515\t\n",
      "n_try = 31\taction= 1\treward= 100\treward20= 614\t\n",
      "n_try = 32\taction= 1\treward= 100\treward20= 713\t\n",
      "n_try = 33\taction= 0\treward= 1\treward20= 713\t\n",
      "n_try = 34\taction= 1\treward= 100\treward20= 713\t\n",
      "n_try = 35\taction= 1\treward= 100\treward20= 713\t\n",
      "n_try = 36\taction= 0\treward= 1\treward20= 713\t\n",
      "n_try = 37\taction= 1\treward= 100\treward20= 713\t\n",
      "n_try = 38\taction= 0\treward= 1\treward20= 713\t\n",
      "n_try = 39\taction= 1\treward= 100\treward20= 812\t\n",
      "n_try = 40\taction= 0\treward= 1\treward20= 713\t\n",
      "n_try = 41\taction= 1\treward= 100\treward20= 713\t\n",
      "n_try = 42\taction= 0\treward= 1\treward20= 713\t\n",
      "n_try = 43\taction= 1\treward= 100\treward20= 812\t\n",
      "n_try = 44\taction= 1\treward= 100\treward20= 911\t\n",
      "n_try = 45\taction= 1\treward= 100\treward20= 1010\t\n",
      "n_try = 46\taction= 1\treward= 100\treward20= 1109\t\n",
      "n_try = 47\taction= 1\treward= 100\treward20= 1208\t\n",
      "n_try = 48\taction= 0\treward= 1\treward20= 1208\t\n",
      "n_try = 49\taction= 0\treward= 1\treward20= 1208\t\n",
      "n_try = 50\taction= 0\treward= 1\treward20= 1208\t\n"
     ]
    }
   ],
   "source": [
    "action_space = gym.spaces.Discrete(2) \n",
    "rewards = [] \n",
    "for t in range(50): \n",
    "    action = action_space.sample()\n",
    "    #action = 1\n",
    "    if action == 0: \n",
    "        reward = 1 \n",
    "        rewards.append(reward)\n",
    "    else: \n",
    "        reward = 100\n",
    "        rewards.append(reward)\n",
    "    print(\n",
    "        f\"n_try = {t+1}\\t\"\n",
    "        f\"action= {action}\\t\"\n",
    "        f\"reward= {reward}\\t\"\n",
    "        f\"reward20= {sum(rewards[-20:])}\\t\"\n",
    "    )\n",
    "    if np.sum(rewards[-20:])>=1900:\n",
    "        break "
   ]
  },
  {
   "cell_type": "markdown",
   "id": "26562f76-3962-46b6-a687-b53e7ba79a95",
   "metadata": {},
   "source": [
    "# 수정2: Env 클래스 "
   ]
  },
  {
   "cell_type": "markdown",
   "id": "ddb3174f-6a49-4179-b324-1737fc93ae81",
   "metadata": {},
   "source": [
    "`-` env 클래스 선언 "
   ]
  },
  {
   "cell_type": "code",
   "execution_count": 15,
   "id": "4c0c0620-e9f5-4b2d-a464-21d462974a4c",
   "metadata": {},
   "outputs": [],
   "source": [
    "class Bandit: \n",
    "    def step(self, action):\n",
    "        if action == 0:\n",
    "            return 1 \n",
    "        else: \n",
    "            return 100 "
   ]
  },
  {
   "cell_type": "code",
   "execution_count": 16,
   "id": "188ec458-5a17-48c4-ba7b-eb6362cf2fea",
   "metadata": {},
   "outputs": [
    {
     "name": "stdout",
     "output_type": "stream",
     "text": [
      "n_try = 1\taction= 1\treward= 100\treward20= 100\t\n",
      "n_try = 2\taction= 1\treward= 100\treward20= 200\t\n",
      "n_try = 3\taction= 1\treward= 100\treward20= 300\t\n",
      "n_try = 4\taction= 1\treward= 100\treward20= 400\t\n",
      "n_try = 5\taction= 1\treward= 100\treward20= 500\t\n",
      "n_try = 6\taction= 1\treward= 100\treward20= 600\t\n",
      "n_try = 7\taction= 1\treward= 100\treward20= 700\t\n",
      "n_try = 8\taction= 1\treward= 100\treward20= 800\t\n",
      "n_try = 9\taction= 1\treward= 100\treward20= 900\t\n",
      "n_try = 10\taction= 1\treward= 100\treward20= 1000\t\n",
      "n_try = 11\taction= 1\treward= 100\treward20= 1100\t\n",
      "n_try = 12\taction= 1\treward= 100\treward20= 1200\t\n",
      "n_try = 13\taction= 1\treward= 100\treward20= 1300\t\n",
      "n_try = 14\taction= 1\treward= 100\treward20= 1400\t\n",
      "n_try = 15\taction= 1\treward= 100\treward20= 1500\t\n",
      "n_try = 16\taction= 1\treward= 100\treward20= 1600\t\n",
      "n_try = 17\taction= 1\treward= 100\treward20= 1700\t\n",
      "n_try = 18\taction= 1\treward= 100\treward20= 1800\t\n",
      "n_try = 19\taction= 1\treward= 100\treward20= 1900\t\n"
     ]
    }
   ],
   "source": [
    "action_space = gym.spaces.Discrete(2) \n",
    "env = Bandit()\n",
    "rewards = []\n",
    "for t in range(50): \n",
    "    #action = action_space.sample()\n",
    "    action = 1\n",
    "    reward = env.step(action)\n",
    "    rewards.append(reward)\n",
    "    print(\n",
    "        f\"n_try = {t+1}\\t\"\n",
    "        f\"action= {action}\\t\"\n",
    "        f\"reward= {reward}\\t\"\n",
    "        f\"reward20= {sum(rewards[-20:])}\\t\"\n",
    "    )\n",
    "    if np.sum(rewards[-20:])>=1900:\n",
    "        break "
   ]
  },
  {
   "cell_type": "markdown",
   "id": "511108d8-dcb2-45df-9a66-6e70aeab2401",
   "metadata": {},
   "source": [
    "# 수정3: Agnet 클래스 "
   ]
  },
  {
   "cell_type": "markdown",
   "id": "8fd3815b-20b9-4508-a384-a2a38bd279b5",
   "metadata": {},
   "source": [
    "`-` Agent 클래스를 만들자. (액션을 하고, 환경에서 받은 reward를 간직) "
   ]
  },
  {
   "cell_type": "code",
   "execution_count": 17,
   "id": "3dec4bbb-05aa-441e-88b1-5ee2a28f2a0a",
   "metadata": {},
   "outputs": [],
   "source": [
    "class Agent1:\n",
    "    def __init__(self):\n",
    "        self.action_space = gym.spaces.Discrete(2) \n",
    "        self.action = None \n",
    "        self.reward = None \n",
    "        self.actions = [] \n",
    "        self.rewards = []\n",
    "    def act(self):\n",
    "        self.action = self.action_space.sample() # 무지한자 \n",
    "        #self.action = 1 # 깨달은 자\n",
    "    def save_experience(self):\n",
    "        self.actions.append(self.action)\n",
    "        self.rewards.append(self.reward)"
   ]
  },
  {
   "cell_type": "markdown",
   "id": "48a696d2-7257-4b79-935d-51db24385395",
   "metadata": {},
   "source": [
    "--- 대충 아래와 같은 느낌으로 코드가 돌아가요 ---"
   ]
  },
  {
   "cell_type": "markdown",
   "id": "072687c7-6e9c-4c38-bd5a-91dfa5925b17",
   "metadata": {},
   "source": [
    "**시점0**: init "
   ]
  },
  {
   "cell_type": "code",
   "execution_count": 18,
   "id": "bc6800c5-1150-45bb-a92d-7353102a6bb7",
   "metadata": {},
   "outputs": [],
   "source": [
    "env = Bandit()\n",
    "agent = Agent1() "
   ]
  },
  {
   "cell_type": "code",
   "execution_count": 19,
   "id": "7a4ed1ca-2d30-424c-bb61-0e88f9568023",
   "metadata": {},
   "outputs": [
    {
     "data": {
      "text/plain": [
       "(None, None)"
      ]
     },
     "execution_count": 19,
     "metadata": {},
     "output_type": "execute_result"
    }
   ],
   "source": [
    "agent.action, agent.reward"
   ]
  },
  {
   "cell_type": "markdown",
   "id": "40c9ac76-78bd-4a31-93bd-f3398539df97",
   "metadata": {},
   "source": [
    "**시점1**: agent >> env "
   ]
  },
  {
   "cell_type": "code",
   "execution_count": 20,
   "id": "1b3031b7-dd5f-4794-a5f4-ca3efa4530c5",
   "metadata": {},
   "outputs": [],
   "source": [
    "agent.act()"
   ]
  },
  {
   "cell_type": "code",
   "execution_count": 21,
   "id": "82edf659-c379-45f2-86b5-777740919145",
   "metadata": {},
   "outputs": [
    {
     "data": {
      "text/plain": [
       "(0, None)"
      ]
     },
     "execution_count": 21,
     "metadata": {},
     "output_type": "execute_result"
    }
   ],
   "source": [
    "agent.action, agent.reward"
   ]
  },
  {
   "cell_type": "code",
   "execution_count": 22,
   "id": "44281576-2b8e-45fb-9864-c0b2ebcc8110",
   "metadata": {},
   "outputs": [],
   "source": [
    "env.agent_action = agent.action"
   ]
  },
  {
   "cell_type": "markdown",
   "id": "2b2534ad-7c89-44ed-8402-9b7852b0588a",
   "metadata": {},
   "source": [
    "**시점2**: agent << env "
   ]
  },
  {
   "cell_type": "code",
   "execution_count": 23,
   "id": "eada8cbf-4634-485d-a1b8-a2b6a1b45871",
   "metadata": {},
   "outputs": [],
   "source": [
    "agent.reward = env.step(env.agent_action)"
   ]
  },
  {
   "cell_type": "code",
   "execution_count": 24,
   "id": "563f8f89-0306-473d-9160-7bcf1588adb0",
   "metadata": {},
   "outputs": [
    {
     "data": {
      "text/plain": [
       "(0, 1, 0)"
      ]
     },
     "execution_count": 24,
     "metadata": {},
     "output_type": "execute_result"
    }
   ],
   "source": [
    "agent.action, agent.reward, env.agent_action"
   ]
  },
  {
   "cell_type": "code",
   "execution_count": 25,
   "id": "69a4d505-421c-404b-80aa-592f44c8b713",
   "metadata": {},
   "outputs": [
    {
     "data": {
      "text/plain": [
       "([], [])"
      ]
     },
     "execution_count": 25,
     "metadata": {},
     "output_type": "execute_result"
    }
   ],
   "source": [
    "agent.actions,agent.rewards"
   ]
  },
  {
   "cell_type": "code",
   "execution_count": 26,
   "id": "1b60a437-83eb-4acc-9c23-aeb0c140f787",
   "metadata": {},
   "outputs": [],
   "source": [
    "agent.save_experience()"
   ]
  },
  {
   "cell_type": "code",
   "execution_count": 27,
   "id": "7cac5485-34be-4d46-b630-37d8bfd5a161",
   "metadata": {},
   "outputs": [
    {
     "data": {
      "text/plain": [
       "([0], [1])"
      ]
     },
     "execution_count": 27,
     "metadata": {},
     "output_type": "execute_result"
    }
   ],
   "source": [
    "agent.actions,agent.rewards"
   ]
  },
  {
   "cell_type": "markdown",
   "id": "cb107207-533f-45de-b7c0-7ef4ffb5e8a0",
   "metadata": {},
   "source": [
    "-- 전체코드 -- "
   ]
  },
  {
   "cell_type": "code",
   "execution_count": 28,
   "id": "6f788df4-f84e-4e6e-8a21-ec3490e27674",
   "metadata": {},
   "outputs": [
    {
     "name": "stdout",
     "output_type": "stream",
     "text": [
      "n_try = 1\taction= 0\treward= 1\treward20= 1\t\n",
      "n_try = 2\taction= 1\treward= 100\treward20= 101\t\n",
      "n_try = 3\taction= 1\treward= 100\treward20= 201\t\n",
      "n_try = 4\taction= 0\treward= 1\treward20= 202\t\n",
      "n_try = 5\taction= 1\treward= 100\treward20= 302\t\n",
      "n_try = 6\taction= 0\treward= 1\treward20= 303\t\n",
      "n_try = 7\taction= 0\treward= 1\treward20= 304\t\n",
      "n_try = 8\taction= 1\treward= 100\treward20= 404\t\n",
      "n_try = 9\taction= 0\treward= 1\treward20= 405\t\n",
      "n_try = 10\taction= 0\treward= 1\treward20= 406\t\n",
      "n_try = 11\taction= 1\treward= 100\treward20= 506\t\n",
      "n_try = 12\taction= 0\treward= 1\treward20= 507\t\n",
      "n_try = 13\taction= 1\treward= 100\treward20= 607\t\n",
      "n_try = 14\taction= 1\treward= 100\treward20= 707\t\n",
      "n_try = 15\taction= 1\treward= 100\treward20= 807\t\n",
      "n_try = 16\taction= 1\treward= 100\treward20= 907\t\n",
      "n_try = 17\taction= 1\treward= 100\treward20= 1007\t\n",
      "n_try = 18\taction= 1\treward= 100\treward20= 1107\t\n",
      "n_try = 19\taction= 0\treward= 1\treward20= 1108\t\n",
      "n_try = 20\taction= 1\treward= 100\treward20= 1208\t\n",
      "n_try = 21\taction= 0\treward= 1\treward20= 1208\t\n",
      "n_try = 22\taction= 0\treward= 1\treward20= 1109\t\n",
      "n_try = 23\taction= 0\treward= 1\treward20= 1010\t\n",
      "n_try = 24\taction= 1\treward= 100\treward20= 1109\t\n",
      "n_try = 25\taction= 0\treward= 1\treward20= 1010\t\n",
      "n_try = 26\taction= 0\treward= 1\treward20= 1010\t\n",
      "n_try = 27\taction= 1\treward= 100\treward20= 1109\t\n",
      "n_try = 28\taction= 0\treward= 1\treward20= 1010\t\n",
      "n_try = 29\taction= 0\treward= 1\treward20= 1010\t\n",
      "n_try = 30\taction= 1\treward= 100\treward20= 1109\t\n",
      "n_try = 31\taction= 1\treward= 100\treward20= 1109\t\n",
      "n_try = 32\taction= 1\treward= 100\treward20= 1208\t\n",
      "n_try = 33\taction= 1\treward= 100\treward20= 1208\t\n",
      "n_try = 34\taction= 1\treward= 100\treward20= 1208\t\n",
      "n_try = 35\taction= 0\treward= 1\treward20= 1109\t\n",
      "n_try = 36\taction= 0\treward= 1\treward20= 1010\t\n",
      "n_try = 37\taction= 1\treward= 100\treward20= 1010\t\n",
      "n_try = 38\taction= 1\treward= 100\treward20= 1010\t\n",
      "n_try = 39\taction= 0\treward= 1\treward20= 1010\t\n",
      "n_try = 40\taction= 1\treward= 100\treward20= 1010\t\n",
      "n_try = 41\taction= 0\treward= 1\treward20= 1010\t\n",
      "n_try = 42\taction= 0\treward= 1\treward20= 1010\t\n",
      "n_try = 43\taction= 1\treward= 100\treward20= 1109\t\n",
      "n_try = 44\taction= 1\treward= 100\treward20= 1109\t\n",
      "n_try = 45\taction= 0\treward= 1\treward20= 1109\t\n",
      "n_try = 46\taction= 0\treward= 1\treward20= 1109\t\n",
      "n_try = 47\taction= 1\treward= 100\treward20= 1109\t\n",
      "n_try = 48\taction= 0\treward= 1\treward20= 1109\t\n",
      "n_try = 49\taction= 0\treward= 1\treward20= 1109\t\n",
      "n_try = 50\taction= 1\treward= 100\treward20= 1109\t\n"
     ]
    }
   ],
   "source": [
    "env = Bandit() \n",
    "agent = Agent1()\n",
    "for t in range(50): \n",
    "    ## 1. main 코드 \n",
    "    # step1: agent >> env \n",
    "    agent.act() \n",
    "    env.agent_action = agent.action\n",
    "    # step2: agent << env \n",
    "    agent.reward = env.step(env.agent_action)\n",
    "    agent.save_experience() \n",
    "\n",
    "    ## 2. 비본질적 코드 \n",
    "    print(\n",
    "        f\"n_try = {t+1}\\t\"\n",
    "        f\"action= {agent.action}\\t\"\n",
    "        f\"reward= {agent.reward}\\t\"\n",
    "        f\"reward20= {sum(agent.rewards[-20:])}\\t\"\n",
    "    )\n",
    "    if np.sum(agent.rewards[-20:])>=1900:\n",
    "        break "
   ]
  },
  {
   "cell_type": "markdown",
   "id": "d1f17adc-6585-4a4e-baf2-c57a11d59b7f",
   "metadata": {},
   "source": [
    "# 수정4: 학습과정을 포함 "
   ]
  },
  {
   "cell_type": "markdown",
   "id": "04517996-92c8-4613-877a-fd9b23841dcf",
   "metadata": {},
   "source": [
    "`-` Game1에 대한 생각: \n",
    "\n",
    "- 사실 강화학습은 \"환경을 이해 $\\to$ 행동을 결정\" 의 과정에서 $\\to$의 과정을 수식화 한 것이다.\n",
    "- 그런데 지금까지 했던 코드는 환경(env)를 이해하는 순간 에이전트가 최적의 행동(action)^[`button1`을 누른다]을 직관적으로 결정하였으므로 기계가 스스로 학습을 했다고 볼 수 없다. "
   ]
  },
  {
   "cell_type": "markdown",
   "id": "4801e48f-f592-4497-97f9-bb4960e7b569",
   "metadata": {},
   "source": [
    "`-` 지금까지의 코드 복습 \n",
    "\n",
    "1. 클래스를 선언하는 부분\n",
    "    - Env 클래스의 선언\n",
    "    - Agent 클래스의 선언\n",
    "2. 환경과 에이전트를 인스턴스화 (초기화)\n",
    "3. for loop를 반복하여 게임을 진행\n",
    "   - 메인코드: (1) agent $\\to$ env (2) agent $\\leftarrow$ env \n",
    "   - 비본질적코드: 학습과정을 display, 학습의 종료조건체크 "
   ]
  },
  {
   "cell_type": "markdown",
   "id": "a49b8b1a-bc50-4107-9b50-7611816355ec",
   "metadata": {},
   "source": [
    "`-` 앞으로 구성할 코드의 형태: 에이전트가 데이터를 보고 스스로 `button1`을 눌러야 한다는 생각을 했으면 좋겠음. \n",
    "\n",
    "1. 클래스를 선언하는 부분\n",
    "    - Env 클래스의 선언\n",
    "    - **Agent 클래스의 선언** // <---- `학습의 과정이 포함되어야 한다`, `act함수의 수정`, `learn함수의 추가` \n",
    "2. 환경과 에이전트를 인스턴스화 (초기화)\n",
    "3. for loop를 반복하여 게임을 진행\n",
    "   - **메인코드** (1) agent $\\to$ env (2) agent $\\leftarrow$ env // <---- `agent가 데이터를 분석하고 학습하는 과정이 추가`\n",
    "   - 비본질적코드: 학습과정을 display, 학습의 종료조건체크 "
   ]
  },
  {
   "cell_type": "markdown",
   "id": "bb01c23c-1e0f-48fd-9361-b312cf78f6a8",
   "metadata": {},
   "source": [
    "`-` 에이전트가 학습을 어떻게 하는가? 아래와 같이 버튼을 누르도록 한다면 \n",
    "\n",
    "- 버튼0을 누를 확률: $\\frac{q_0}{q_0+q_1}$\n",
    "- 버튼1을 누를 확률: $\\frac{q_1}{q_0+q_1}$\n",
    "\n",
    "시간이 지날수록 버튼1을 주로 누를 것이다. "
   ]
  },
  {
   "cell_type": "markdown",
   "id": "0482ae2c-de10-4176-a76f-baf2385a7b01",
   "metadata": {},
   "source": [
    "`-` 걱정: $t=0$ 이면 어쩌지? $t=1$이면 어쩌지?... $\\to$ 해결책: 일정시간동안 랜덤액션을 하면서 데이터를 쌓고 그 뒤에 $q_0,q_1$을 계산 "
   ]
  },
  {
   "cell_type": "markdown",
   "id": "416f38ab-4c6d-49af-a6bc-6785edcca2df",
   "metadata": {},
   "source": [
    "`-` 쌓은 데이터를 바탕으로 환경을 이해하고 action을 뽑는 코드 "
   ]
  },
  {
   "cell_type": "code",
   "execution_count": 43,
   "id": "17846ed9-1a22-4fab-978f-dbce2a7f8938",
   "metadata": {},
   "outputs": [],
   "source": [
    "agent.actions = [0,1,1,0,1,0,0] \n",
    "agent.rewards = [1,101,102,1,99,1,1.2] \n",
    "actions = np.array(agent.actions)\n",
    "rewards = np.array(agent.rewards)"
   ]
  },
  {
   "cell_type": "code",
   "execution_count": 48,
   "id": "9e1a9c75-12d6-4f06-a9ad-f40b2b01b197",
   "metadata": {},
   "outputs": [],
   "source": [
    "q0 = rewards[actions == 0].mean()\n",
    "q1 = rewards[actions == 1].mean()"
   ]
  },
  {
   "cell_type": "code",
   "execution_count": 50,
   "id": "450b3144-2b92-4b4b-b77e-0d44ad3a3e9b",
   "metadata": {},
   "outputs": [
    {
     "data": {
      "text/plain": [
       "array([  1.05      , 100.66666667])"
      ]
     },
     "execution_count": 50,
     "metadata": {},
     "output_type": "execute_result"
    }
   ],
   "source": [
    "agent.q = np.array([q0,q1]) \n",
    "agent.q"
   ]
  },
  {
   "cell_type": "code",
   "execution_count": 57,
   "id": "549734b0-8ccf-44d3-bafd-2f669ef6a5e4",
   "metadata": {},
   "outputs": [
    {
     "data": {
      "text/plain": [
       "array([0.01032279, 0.98967721])"
      ]
     },
     "execution_count": 57,
     "metadata": {},
     "output_type": "execute_result"
    }
   ],
   "source": [
    "prob = agent.q / agent.q.sum()\n",
    "prob "
   ]
  },
  {
   "cell_type": "code",
   "execution_count": 59,
   "id": "3a899fc5-975e-4e60-898d-2545f4bfd283",
   "metadata": {},
   "outputs": [
    {
     "data": {
      "text/plain": [
       "1"
      ]
     },
     "execution_count": 59,
     "metadata": {},
     "output_type": "execute_result"
    }
   ],
   "source": [
    "action = np.random.choice([0,1], p= agent.q / agent.q.sum())\n",
    "action"
   ]
  },
  {
   "cell_type": "markdown",
   "id": "0f3e33b3-64c1-41a7-82cb-5ad46c934f09",
   "metadata": {},
   "source": [
    "`-` 최종코드정리 "
   ]
  },
  {
   "cell_type": "code",
   "execution_count": 68,
   "id": "c02f44fe-91c9-4ac7-a715-6d965889a9fc",
   "metadata": {},
   "outputs": [],
   "source": [
    "class Bandit: \n",
    "    def step(self, action):\n",
    "        if action == 0:\n",
    "            return 1 \n",
    "        else: \n",
    "            return 100 \n",
    "class Agent:\n",
    "    def __init__(self):\n",
    "        self.action_space = gym.spaces.Discrete(2) \n",
    "        self.action = None \n",
    "        self.reward = None \n",
    "        self.actions = [] \n",
    "        self.rewards = []\n",
    "        self.q = np.array([0,0]) \n",
    "        self.n_experience = 0 \n",
    "    def act(self):\n",
    "        if self.n_experience<30: \n",
    "            self.action = self.action_space.sample() \n",
    "        else: \n",
    "            self.action = np.random.choice([0,1], p= self.q / self.q.sum())\n",
    "    def save_experience(self):\n",
    "        self.actions.append(self.action)\n",
    "        self.rewards.append(self.reward)\n",
    "        self.n_experience += 1 \n",
    "    def learn(self):\n",
    "        if self.n_experience<30: \n",
    "            pass \n",
    "        else: \n",
    "            actions = np.array(self.actions)\n",
    "            rewards = np.array(self.rewards)\n",
    "            q0 = rewards[actions == 0].mean()\n",
    "            q1 = rewards[actions == 1].mean()\n",
    "            self.q = np.array([q0,q1]) "
   ]
  },
  {
   "cell_type": "code",
   "execution_count": 69,
   "id": "16591779-af01-412a-ab5a-798c9141b63b",
   "metadata": {},
   "outputs": [
    {
     "name": "stdout",
     "output_type": "stream",
     "text": [
      "n_try = 1\taction= 0\treward= 1\treward20= 1\tq = [0 0]\n",
      "n_try = 2\taction= 0\treward= 1\treward20= 2\tq = [0 0]\n",
      "n_try = 3\taction= 1\treward= 100\treward20= 102\tq = [0 0]\n",
      "n_try = 4\taction= 0\treward= 1\treward20= 103\tq = [0 0]\n",
      "n_try = 5\taction= 0\treward= 1\treward20= 104\tq = [0 0]\n",
      "n_try = 6\taction= 0\treward= 1\treward20= 105\tq = [0 0]\n",
      "n_try = 7\taction= 0\treward= 1\treward20= 106\tq = [0 0]\n",
      "n_try = 8\taction= 0\treward= 1\treward20= 107\tq = [0 0]\n",
      "n_try = 9\taction= 1\treward= 100\treward20= 207\tq = [0 0]\n",
      "n_try = 10\taction= 0\treward= 1\treward20= 208\tq = [0 0]\n",
      "n_try = 11\taction= 1\treward= 100\treward20= 308\tq = [0 0]\n",
      "n_try = 12\taction= 1\treward= 100\treward20= 408\tq = [0 0]\n",
      "n_try = 13\taction= 1\treward= 100\treward20= 508\tq = [0 0]\n",
      "n_try = 14\taction= 0\treward= 1\treward20= 509\tq = [0 0]\n",
      "n_try = 15\taction= 1\treward= 100\treward20= 609\tq = [0 0]\n",
      "n_try = 16\taction= 0\treward= 1\treward20= 610\tq = [0 0]\n",
      "n_try = 17\taction= 0\treward= 1\treward20= 611\tq = [0 0]\n",
      "n_try = 18\taction= 0\treward= 1\treward20= 612\tq = [0 0]\n",
      "n_try = 19\taction= 1\treward= 100\treward20= 712\tq = [0 0]\n",
      "n_try = 20\taction= 1\treward= 100\treward20= 812\tq = [0 0]\n",
      "n_try = 21\taction= 0\treward= 1\treward20= 812\tq = [0 0]\n",
      "n_try = 22\taction= 1\treward= 100\treward20= 911\tq = [0 0]\n",
      "n_try = 23\taction= 0\treward= 1\treward20= 812\tq = [0 0]\n",
      "n_try = 24\taction= 1\treward= 100\treward20= 911\tq = [0 0]\n",
      "n_try = 25\taction= 1\treward= 100\treward20= 1010\tq = [0 0]\n",
      "n_try = 26\taction= 1\treward= 100\treward20= 1109\tq = [0 0]\n",
      "n_try = 27\taction= 1\treward= 100\treward20= 1208\tq = [0 0]\n",
      "n_try = 28\taction= 1\treward= 100\treward20= 1307\tq = [0 0]\n",
      "n_try = 29\taction= 1\treward= 100\treward20= 1307\tq = [0 0]\n",
      "n_try = 30\taction= 1\treward= 100\treward20= 1406\tq = [  1. 100.]\n",
      "n_try = 31\taction= 1\treward= 100\treward20= 1406\tq = [  1. 100.]\n",
      "n_try = 32\taction= 1\treward= 100\treward20= 1406\tq = [  1. 100.]\n",
      "n_try = 33\taction= 1\treward= 100\treward20= 1406\tq = [  1. 100.]\n",
      "n_try = 34\taction= 1\treward= 100\treward20= 1505\tq = [  1. 100.]\n",
      "n_try = 35\taction= 1\treward= 100\treward20= 1505\tq = [  1. 100.]\n",
      "n_try = 36\taction= 1\treward= 100\treward20= 1604\tq = [  1. 100.]\n",
      "n_try = 37\taction= 1\treward= 100\treward20= 1703\tq = [  1. 100.]\n",
      "n_try = 38\taction= 1\treward= 100\treward20= 1802\tq = [  1. 100.]\n",
      "n_try = 39\taction= 1\treward= 100\treward20= 1802\tq = [  1. 100.]\n",
      "n_try = 40\taction= 1\treward= 100\treward20= 1802\tq = [  1. 100.]\n",
      "n_try = 41\taction= 1\treward= 100\treward20= 1901\tq = [  1. 100.]\n"
     ]
    }
   ],
   "source": [
    "env = Bandit() \n",
    "agent = Agent()\n",
    "for t in range(50): \n",
    "    ## 1. main 코드 \n",
    "    # step1: agent >> env \n",
    "    agent.act() \n",
    "    env.agent_action = agent.action\n",
    "    # step2: agent << env \n",
    "    agent.reward = env.step(env.agent_action)\n",
    "    agent.save_experience() \n",
    "    # step3: learn \n",
    "    agent.learn()\n",
    "    ## 2. 비본질적 코드 \n",
    "    print(\n",
    "        f\"n_try = {t+1}\\t\"\n",
    "        f\"action= {agent.action}\\t\"\n",
    "        f\"reward= {agent.reward}\\t\"\n",
    "        f\"reward20= {sum(agent.rewards[-20:])}\\t\"\n",
    "        f\"q = {agent.q}\"\n",
    "    )\n",
    "    if np.sum(agent.rewards[-20:])>=1900:\n",
    "        break "
   ]
  }
 ],
 "metadata": {
  "kernelspec": {
   "display_name": "Python 3 (ipykernel)",
   "language": "python",
   "name": "python3"
  },
  "language_info": {
   "codemirror_mode": {
    "name": "ipython",
    "version": 3
   },
   "file_extension": ".py",
   "mimetype": "text/x-python",
   "name": "python",
   "nbconvert_exporter": "python",
   "pygments_lexer": "ipython3",
   "version": "3.11.4"
  }
 },
 "nbformat": 4,
 "nbformat_minor": 5
}
