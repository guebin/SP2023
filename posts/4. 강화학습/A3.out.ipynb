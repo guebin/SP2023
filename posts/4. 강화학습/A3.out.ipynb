{
  "cells": [
    {
      "cell_type": "markdown",
      "metadata": {},
      "source": [
        "# A3: 강화학습 (3) – LunarLander\n",
        "\n",
        "최규빈  \n",
        "2023-09-01\n",
        "\n",
        "# 강의영상\n",
        "\n",
        "<https://youtu.be/playlist?list=PLQqh36zP38-zBEizLbjgRE8qMfsJML6Ua&si=HALKE6fjiWB12AGW>\n",
        "\n",
        "# imports"
      ],
      "id": "bcdf9e8d-8cec-46c2-8041-9cda5bd0c9f7"
    },
    {
      "cell_type": "code",
      "execution_count": 1,
      "metadata": {},
      "outputs": [],
      "source": [
        "import gymnasium as gym\n",
        "import numpy as np\n",
        "import matplotlib.pyplot as plt\n",
        "from matplotlib.animation import FuncAnimation\n",
        "import torch\n",
        "import collections\n",
        "import IPython"
      ],
      "id": "55dc4e55-4d07-4c2f-a0f6-4cc338132568"
    },
    {
      "cell_type": "markdown",
      "metadata": {},
      "source": [
        "# 예비학습\n",
        "\n",
        "`-` `collections.deque` 의 기능"
      ],
      "id": "2b815657-8d47-4ac9-8609-252fbeb5e837"
    },
    {
      "cell_type": "code",
      "execution_count": 2,
      "metadata": {},
      "outputs": [],
      "source": [
        "a = collections.deque([1,2,3], maxlen = 5 )\n",
        "a"
      ],
      "id": "b817509f-fa54-4f2f-9eac-8ce3a07b986a"
    },
    {
      "cell_type": "code",
      "execution_count": 3,
      "metadata": {},
      "outputs": [],
      "source": [
        "a.append(4)\n",
        "a"
      ],
      "id": "eafca7dd-61d8-4cea-9a18-8b0e8922ae12"
    },
    {
      "cell_type": "code",
      "execution_count": 4,
      "metadata": {},
      "outputs": [],
      "source": [
        "a.append(5)\n",
        "a"
      ],
      "id": "c5629ebe-98b5-4238-a1b1-4ac124fb6cc8"
    },
    {
      "cell_type": "code",
      "execution_count": 5,
      "metadata": {},
      "outputs": [],
      "source": [
        "a.append(6)\n",
        "a"
      ],
      "id": "fb58a6c8-fa5f-473b-84d2-bd41ccc1ad7f"
    },
    {
      "cell_type": "markdown",
      "metadata": {},
      "source": [
        "`-` 단점? numpy array 보다는 list 느낌임 (연산에 특화된건 아님)"
      ],
      "id": "c1d0bd5d-80d5-4303-ae9b-42dacd7f0ce6"
    },
    {
      "cell_type": "code",
      "execution_count": 6,
      "metadata": {},
      "outputs": [],
      "source": [
        "a + 1"
      ],
      "id": "6a05d02b-296f-4819-aa94-1e3c9414e874"
    },
    {
      "cell_type": "markdown",
      "metadata": {},
      "source": [
        "`-` 그렇지만 필요하다면 np.array 화 시킬 수 있음."
      ],
      "id": "d7b6c9c2-db15-43bf-97e5-850ec0d28bd3"
    },
    {
      "cell_type": "code",
      "execution_count": 9,
      "metadata": {},
      "outputs": [],
      "source": [
        "np.array(a) + 1"
      ],
      "id": "79e7311b-fd49-4693-bc7b-0c903120dda8"
    },
    {
      "cell_type": "markdown",
      "metadata": {},
      "source": [
        "`-` collection.deque 는 리플레이 버퍼를 구현할때 유용한 자료구조이다.\n",
        "\n",
        "-   (우리가 했던) 기존방식: 모든 데이터를 저장하며 하나의 경험씩 학습함\n",
        "-   리플레이버퍼: 최근 $N$개의 데이터를 저장하여 여러경험을 샘플링하여\n",
        "    학습하는 방식\n",
        "-   리플레이버퍼의 장점: 메모리를 아낄 수 있다, 다양한 종류의 경험을\n",
        "    저장하고 무작위로 재사용하여 학습이 안정적으로 된다, “저장 -\\> 학습\n",
        "    -\\> 저장” 순으로 반드시 실시간으로 학습할 필요가 없어서 병렬처리에\n",
        "    용이하다, 강화학습에서 연속된 경험은 상관관계가 있을 수 있는데\n",
        "    무작위 샘플로 이러한 상관관계를 제거할 수 있음\n",
        "\n",
        "# Game3: LunarLander\n",
        "\n",
        "`-` 환경생성"
      ],
      "id": "fb958a16-2792-4d90-85cb-5b7c867d06ac"
    },
    {
      "cell_type": "code",
      "execution_count": 10,
      "metadata": {},
      "outputs": [],
      "source": [
        "env = gym.make('LunarLander-v2', render_mode = 'rgb_array') \n",
        "env "
      ],
      "id": "a8852355-cd61-4a72-a5ee-c580e9a19b1d"
    },
    {
      "cell_type": "markdown",
      "metadata": {},
      "source": [
        "`-` state_space"
      ],
      "id": "bf997dfd-2eee-4b21-b4ac-ce5827374541"
    },
    {
      "cell_type": "code",
      "execution_count": 11,
      "metadata": {},
      "outputs": [],
      "source": [
        "env.observation_space"
      ],
      "id": "171be784-03be-43d5-be68-75cc290bbc0a"
    },
    {
      "cell_type": "markdown",
      "metadata": {},
      "source": [
        "`-` action_space"
      ],
      "id": "8471ed06-6704-442b-a174-6c9914d0a352"
    },
    {
      "cell_type": "code",
      "execution_count": 12,
      "metadata": {},
      "outputs": [],
      "source": [
        "env.action_space"
      ],
      "id": "bd779444-a5ea-43f2-a4fd-bfe9cecc276a"
    },
    {
      "cell_type": "markdown",
      "metadata": {},
      "source": [
        "`-` env.reset()"
      ],
      "id": "28ecae13-cdfc-43d3-a806-634cdcc31586"
    },
    {
      "cell_type": "code",
      "execution_count": 13,
      "metadata": {},
      "outputs": [],
      "source": [
        "state, _ = env.reset()\n",
        "state "
      ],
      "id": "8af1fd90-6677-4a6c-96cd-2f01297a2fb4"
    },
    {
      "cell_type": "markdown",
      "metadata": {},
      "source": [
        "`-` env.render()"
      ],
      "id": "df0acdfe-439f-459a-9f52-6bde1379f954"
    },
    {
      "cell_type": "code",
      "execution_count": 14,
      "metadata": {},
      "outputs": [
        {
          "output_type": "display_data",
          "metadata": {},
          "data": {
            "image/png": "[encoded data removed]"
          }
        }
      ],
      "source": [
        "plt.imshow(env.render())"
      ],
      "id": "24c9b860-ba38-40d8-bfac-4cd67c3e4b4b"
    },
    {
      "cell_type": "markdown",
      "metadata": {},
      "source": [
        "`-` env.step"
      ],
      "id": "78c54639-c290-4c3c-b88b-381c2af94827"
    },
    {
      "cell_type": "code",
      "execution_count": 15,
      "metadata": {},
      "outputs": [],
      "source": [
        "next_state, reward, terminated, _, _ = env.step(0)\n",
        "next_state, reward, terminated"
      ],
      "id": "e9a028ff-26fd-43e1-b5de-861e4b73cd7b"
    },
    {
      "cell_type": "markdown",
      "metadata": {},
      "source": [
        "`-` play"
      ],
      "id": "a407483d-9345-47dd-9e72-c3d552a2816f"
    },
    {
      "cell_type": "code",
      "execution_count": 16,
      "metadata": {},
      "outputs": [
        {
          "output_type": "display_data",
          "metadata": {},
          "data": {
            "image/png": "[encoded data removed]"
          }
        }
      ],
      "source": [
        "env.reset()\n",
        "plt.imshow(env.render())"
      ],
      "id": "9d4b150c-714e-4cd9-98f6-93ffc6650c51"
    },
    {
      "cell_type": "code",
      "execution_count": 17,
      "metadata": {},
      "outputs": [
        {
          "output_type": "display_data",
          "metadata": {},
          "data": {
            "image/png": "[encoded data removed]"
          }
        }
      ],
      "source": [
        "for _ in range(7):\n",
        "    env.step(3)\n",
        "    env.step(2)\n",
        "plt.imshow(env.render())"
      ],
      "id": "752bb619-6f28-4a73-9eca-ab52210f062c"
    },
    {
      "cell_type": "markdown",
      "metadata": {},
      "source": [
        "-   0 : 아무행동도 하지 않음\n",
        "-   1 : 왼쪽\n",
        "-   2 : 위\n",
        "-   3 : 오른쪽\n",
        "\n",
        "# 시각화"
      ],
      "id": "3e59703d-6eb4-4570-bf6c-400fa7762623"
    },
    {
      "cell_type": "code",
      "execution_count": 18,
      "metadata": {},
      "outputs": [],
      "source": [
        "def show(ims,jump=10):\n",
        "    ims = ims[::jump]\n",
        "    fig = plt.Figure()\n",
        "    ax = fig.subplots()\n",
        "    def update(i):\n",
        "       ax.imshow(ims[i])\n",
        "    ani = FuncAnimation(fig,update,frames=len(ims))\n",
        "    display(IPython.display.HTML(ani.to_jshtml()))"
      ],
      "id": "33e1586c-3738-43da-a3e2-2ceba519be2c"
    },
    {
      "cell_type": "code",
      "execution_count": 19,
      "metadata": {},
      "outputs": [],
      "source": [
        "current_state, _ = env.reset()\n",
        "ims = [] \n",
        "for t in range(500): \n",
        "    action = env.action_space.sample()\n",
        "    next_state, reward, terminated, _, _ = env.step(action)\n",
        "    im = env.render()\n",
        "    ims.append(im) \n",
        "    current_state = next_state \n",
        "    if terminated: break "
      ],
      "id": "964665a7-8cae-4a96-96bc-6667576c8f85"
    },
    {
      "cell_type": "code",
      "execution_count": 20,
      "metadata": {},
      "outputs": [],
      "source": [
        "show(ims) "
      ],
      "id": "245e132a-a1eb-4a88-85e5-392574fb69cc"
    },
    {
      "cell_type": "markdown",
      "metadata": {},
      "source": [
        "# `q_net`\n",
        "\n",
        "`-` 원래는 `agent.q` 에 해당하는 것인데, 이전에서는 `agent.q`를 (4,4,4)\n",
        "shape의 numpy array 를 사용했는데 여기서는 불가능\n",
        "\n",
        "-   4x4 grid: 상태공간의 차원은 2차원이며 가질수 있는 값은 16개, 각\n",
        "    상태공간에서 할수 있는 행동이 4개 -\\> 총 16\\*4의 경우의 수에 대한\n",
        "    reward만 조사하면 되었음\n",
        "-   LunarLander: 상태공간의 차원은 8차원이지만 가질수 있는 값의 범위는\n",
        "    무한대 -\\> 무수히 많은 경우에 대한 reward 값을 조사하는건 현실적으로\n",
        "    불가능\n",
        "\n",
        "`-` 데이터를 모아보자."
      ],
      "id": "01f59a53-5450-4416-a3b8-441c831b41ac"
    },
    {
      "cell_type": "code",
      "execution_count": 21,
      "metadata": {},
      "outputs": [],
      "source": [
        "current_states = collections.deque(maxlen=50) \n",
        "actions = collections.deque(maxlen=50) \n",
        "next_states = collections.deque(maxlen=50) \n",
        "rewards = collections.deque(maxlen=50) \n",
        "terminations = collections.deque(maxlen=50) \n",
        "\n",
        "current_state, _ = env.reset()\n",
        "for t in range(500): \n",
        "    ## step1: agent >> env \n",
        "    action = env.action_space.sample()\n",
        "    ## step2:agent << env \n",
        "    next_state, reward, terminated, _, _ = env.step(action)\n",
        "    current_states.append(current_state)\n",
        "    actions.append(action)\n",
        "    next_states.append(next_state)\n",
        "    rewards.append(reward)\n",
        "    terminations.append(terminated) \n",
        "    ## step3: learn \n",
        "    ## step4: update state     \n",
        "    current_state = next_state \n",
        "    ## step5: 종료조건체크 \n",
        "    if terminated: break "
      ],
      "id": "b22fb206-6853-469b-9a0b-24dfa409c7de"
    },
    {
      "cell_type": "markdown",
      "metadata": {},
      "source": [
        "`-` 이전코드에서 아래에 대응하는 부분을 구현하면 된다.\n",
        "\n",
        "``` python\n",
        "## 1. q[x,y,a]를 초기화: q(s)를 넣으면 action에 대한 q값을 알려주는 기능 \n",
        "agent.q = np.zeros([4,4,4]) \n",
        "\n",
        "## 2. q_estimated 를 계산 \n",
        "x,y = agent.current_state\n",
        "xx,yy = agent.next_state\n",
        "a = agent.action \n",
        "q_estimated = agent.q[x,y,a] \n",
        "\n",
        "## 3. q_realistic = agent.reward + 0.99 * q_future 를 수행하는 과정 \n",
        "if agent.terminated:\n",
        "    q_realistic = agent.reward\n",
        "else:\n",
        "    q_future = q[xx,yy,:].max()\n",
        "    q_realistic = agent.reward + 0.99 * q_future\n",
        "\n",
        "## 4. q_estimated 를 점점 q_realistic 와 비슷하게 만드는 과정 \n",
        "diff = q_realistic - q_estimated \n",
        "agent.q[x,y,a] = q_estimated + 0.05 * diff \n",
        "```\n",
        "\n",
        "`1`. agent.q 에 대응하는 과정"
      ],
      "id": "e87bfd77-81fb-441c-ad18-314f6c53e047"
    },
    {
      "cell_type": "code",
      "execution_count": 22,
      "metadata": {},
      "outputs": [],
      "source": [
        "q_net = torch.nn.Sequential(\n",
        "    torch.nn.Linear(8,128),\n",
        "    torch.nn.ReLU(),\n",
        "    torch.nn.Linear(128,64),\n",
        "    torch.nn.ReLU(),\n",
        "    torch.nn.Linear(64,32),\n",
        "    torch.nn.ReLU(),\n",
        "    torch.nn.Linear(32,4)\n",
        ")"
      ],
      "id": "9d21f88b-bf06-4f1c-9f94-723163310d8c"
    },
    {
      "cell_type": "code",
      "execution_count": 23,
      "metadata": {},
      "outputs": [],
      "source": [
        "q_net # <- 8개의 숫자가 입력으로 오면 4개의 숫자를 리턴하는 함수 "
      ],
      "id": "b85c25c3-03f6-4fca-8592-663b07acc658"
    },
    {
      "cell_type": "code",
      "execution_count": 24,
      "metadata": {},
      "outputs": [],
      "source": [
        "q_net(torch.tensor(current_state))"
      ],
      "id": "6fef26bf-9bbd-408d-b90c-d36853670e24"
    },
    {
      "cell_type": "markdown",
      "metadata": {},
      "source": [
        "-   q_net은 8개의 숫자가 입력으로 오면 4개의 숫자가 리턴되는 함수이다.\n",
        "-   해석을 하면 8개의 숫자는 state를 나타내는 숫자로 이해할 수 있고\n",
        "    4개의 숫자는 각 action에 대한 q값으로 해석할 수 있다.\n",
        "-   하지만 이 숫자가 합리적인건 아님 (아무숫자임)\n",
        "-   q_net의 특징: 고정된 함수가 아니고 데이터를 이용하여 점점 더\n",
        "    그럴듯한 숫자를 뱉어내도록 학습할 수 있는 함수이다. (뉴럴네트워크)\n",
        "\n",
        "`1`. agent.q 에 대응하는 과정 (배치버전)\n",
        "\n",
        "– get batch –"
      ],
      "id": "0e3462eb-85a4-4d2b-8bef-7ba92b2dd770"
    },
    {
      "cell_type": "code",
      "execution_count": 25,
      "metadata": {},
      "outputs": [],
      "source": [
        "batch_size = 4 \n",
        "idx = np.random.randint(0,50,size=batch_size)\n",
        "\n",
        "current_states_batch = torch.tensor(np.array(current_states))[idx].float()\n",
        "actions_batch = torch.tensor(np.array(actions))[idx].reshape(batch_size,-1) \n",
        "rewards_batch = torch.tensor(np.array(rewards))[idx].reshape(batch_size,-1).float()\n",
        "next_states_batch = torch.tensor(np.array(next_states))[idx].float()\n",
        "terminations_batch = torch.tensor(np.array(terminations))[idx].reshape(batch_size,-1)"
      ],
      "id": "3256e133-0895-4f99-af18-8ee2895f8061"
    },
    {
      "cell_type": "markdown",
      "metadata": {},
      "source": [
        "– q_net –"
      ],
      "id": "688e600e-d8f6-43ff-a445-fac24650c2e6"
    },
    {
      "cell_type": "code",
      "execution_count": 26,
      "metadata": {},
      "outputs": [],
      "source": [
        "current_states_batch"
      ],
      "id": "f2b18597-8b96-4e0b-8100-d71cbd450683"
    },
    {
      "cell_type": "code",
      "execution_count": 27,
      "metadata": {},
      "outputs": [],
      "source": [
        "q_net(current_states_batch)"
      ],
      "id": "21c4efe5-5c4c-4a91-bdf2-221f09bcab96"
    },
    {
      "cell_type": "markdown",
      "metadata": {},
      "source": [
        "`2`. q_estimated"
      ],
      "id": "fcaf6717-7443-4abd-b6d3-056bd5b68f68"
    },
    {
      "cell_type": "code",
      "execution_count": 28,
      "metadata": {},
      "outputs": [],
      "source": [
        "q_net(current_states_batch), actions_batch"
      ],
      "id": "546fa364-c191-4c62-b9de-2658b0e43c37"
    },
    {
      "cell_type": "code",
      "execution_count": 29,
      "metadata": {},
      "outputs": [],
      "source": [
        "q_net(current_states_batch).gather(1,actions_batch)"
      ],
      "id": "8c1c4b17-4223-4263-b4d5-00b56a2bcabb"
    },
    {
      "cell_type": "markdown",
      "metadata": {},
      "source": [
        "`3`. q_realistic = agent.reward + 0.99 \\* q_future\n",
        "\n",
        "– q_future –"
      ],
      "id": "d3fa1b84-dbd0-4f4d-966a-d0736cebfff7"
    },
    {
      "cell_type": "code",
      "execution_count": 32,
      "metadata": {},
      "outputs": [],
      "source": [
        "q_future = q_net(next_states_batch).max(axis=1)[0].reshape(batch_size,1)\n",
        "q_future"
      ],
      "id": "9dfb27a0-a220-407a-a435-e9fc0300acf2"
    },
    {
      "cell_type": "code",
      "execution_count": 33,
      "metadata": {},
      "outputs": [],
      "source": [
        "q_realistic = rewards_batch + 0.99 * q_future * (~terminations_batch)"
      ],
      "id": "3e9dc45f-b7e0-4193-a863-0fdea329a9f7"
    },
    {
      "cell_type": "markdown",
      "metadata": {},
      "source": [
        "`4`. q_estimated 를 점점 q_realistic 와 비슷하게 만드는 과정\n",
        "\n",
        "``` python\n",
        "## 여기는.. 딥러닝과 파이토치를 좀 알아야.. 모른다면 일단 패스해야합니다.. \n",
        "optimizer = torch.optim.Adam(q_net.parameters(),lr=0.0001) \n",
        "for _ in range(2000):\n",
        "    ~~~\n",
        "    ~~~\n",
        "    q_estimated = ~~~ \n",
        "    q_realistic = ~~~ \n",
        "    loss = torch.nn.functional.mse_loss(q_estimated,q_realistic)\n",
        "    loss.backward()\n",
        "    optimizer.step()\n",
        "    optimizer.zero_grad()\n",
        "```\n",
        "\n",
        "# policy"
      ],
      "id": "ed64eadd-429f-4bc6-9680-cc6ad0631b4e"
    },
    {
      "cell_type": "code",
      "execution_count": 34,
      "metadata": {},
      "outputs": [],
      "source": [
        "eps = 0.5 \n",
        "if np.random.rand() < eps:\n",
        "    action = env.action_space.sample() \n",
        "else:\n",
        "    action = q_net(torch.tensor(current_state)).argmax().item()"
      ],
      "id": "f5af2ff0-e5da-4f24-ae7c-f5ad73097cb2"
    },
    {
      "cell_type": "code",
      "execution_count": 35,
      "metadata": {},
      "outputs": [],
      "source": [
        "action"
      ],
      "id": "ac1140cb-bcf7-4ce9-9576-7f907dd34bdb"
    },
    {
      "cell_type": "markdown",
      "metadata": {},
      "source": [
        "# Agent 클래스 + run"
      ],
      "id": "cff76f83-d5ad-4d1b-968e-7844abecb998"
    },
    {
      "cell_type": "code",
      "execution_count": 39,
      "metadata": {},
      "outputs": [],
      "source": [
        "class Agent():\n",
        "    def __init__(self,env):\n",
        "        self.eps = 0\n",
        "        self.n_experiences = 0\n",
        "        self.n_episode = 0\n",
        "        self.score = 0\n",
        "        self.scores = []\n",
        "        self.playtimes = []\n",
        "        self.batch_size = 64\n",
        "        self.buffer_size = 5000 \n",
        "        self.action_space = env.action_space\n",
        "        #self.state_space = env.observation_space\n",
        "\n",
        "        # Q-Network\n",
        "        self.q_net = torch.nn.Sequential(\n",
        "            torch.nn.Linear(8,128), \n",
        "            torch.nn.ReLU(),\n",
        "            torch.nn.Linear(128,64),\n",
        "            torch.nn.ReLU(),\n",
        "            torch.nn.Linear(64,32),\n",
        "            torch.nn.ReLU(),\n",
        "            torch.nn.Linear(32,4)\n",
        "        ) \n",
        "        self.optimizer = torch.optim.Adam(self.q_net.parameters(), lr=0.0001)\n",
        "\n",
        "        # ReplayBuffer\n",
        "        self.current_states = collections.deque(maxlen=self.buffer_size)\n",
        "        self.actions = collections.deque(maxlen=self.buffer_size)\n",
        "        self.rewards = collections.deque(maxlen=self.buffer_size)\n",
        "        self.next_states = collections.deque(maxlen=self.buffer_size)\n",
        "        self.terminations = collections.deque(maxlen=self.buffer_size)\n",
        "       \n",
        "    def save_experience(self):\n",
        "        \"\"\"Add a new experience to memory.\"\"\"\n",
        "        self.current_states.append(self.current_state)\n",
        "        self.actions.append(self.action)\n",
        "        self.rewards.append(self.reward)\n",
        "        self.next_states.append(self.next_state)\n",
        "        self.terminations.append(self.terminated) \n",
        "        self.n_experiences = self.n_experiences+1\n",
        "        self.score += self.reward\n",
        "    \n",
        "    def act(self):\n",
        "        if np.random.rand() < self.eps:\n",
        "            self.action = self.action_space.sample()\n",
        "        else:\n",
        "            self.action = self.q_net(torch.tensor(self.current_state)).argmax().item()\n",
        "            \n",
        "    def get_batch(self):\n",
        "        idx = np.random.randint(0,self.buffer_size,size=self.batch_size) \n",
        "        self.current_states_batch = torch.tensor(np.array(self.current_states))[idx].float()\n",
        "        self.actions_batch = torch.tensor(np.array(self.actions))[idx].reshape(self.batch_size,1)\n",
        "        self.rewards_batch = torch.tensor(np.array(self.rewards))[idx].reshape(self.batch_size,-1).float()\n",
        "        self.next_states_batch = torch.tensor(np.array(self.next_states))[idx].float()\n",
        "        self.terminations_batch = torch.tensor(np.array(self.terminations))[idx].reshape(self.batch_size,-1) \n",
        "    \n",
        "    def learn(self):\n",
        "        if self.n_experiences < self.buffer_size:\n",
        "            pass\n",
        "        else: \n",
        "            self.get_batch()\n",
        "            q_estimated = self.q_net(self.current_states_batch).gather(1, self.actions_batch)\n",
        "            q_future = self.q_net(self.next_states_batch).detach().max(1)[0].reshape(self.batch_size,1)\n",
        "            q_realistic = self.rewards_batch + 0.99 * q_future * (~self.terminations_batch)\n",
        "\n",
        "            loss = torch.nn.functional.mse_loss(q_estimated, q_realistic)\n",
        "            loss.backward()\n",
        "            self.optimizer.step()\n",
        "            self.optimizer.zero_grad()"
      ],
      "id": "b1ab0b02-ff97-4bd0-8597-ccab8e93d482"
    },
    {
      "cell_type": "code",
      "execution_count": 37,
      "metadata": {},
      "outputs": [
        {
          "output_type": "stream",
          "name": "stdout",
          "text": [
            "Episode 10  Score: -213.18  Playtime:  92.70    n_eps: 0.9511101304657719   n_experiences: 927  \n",
            "Episode 20  Score: -204.70  Playtime:  99.50    n_eps: 0.9046104802746175   n_experiences: 1990 \n",
            "Episode 30  Score: -211.72  Playtime:  104.50   n_eps: 0.8603841919146962   n_experiences: 3135 \n",
            "Episode 40  Score: -226.75  Playtime:  105.53   n_eps: 0.8183201210226743   n_experiences: 4221 \n",
            "Episode 50  Score: -208.68  Playtime:  106.34   n_eps: 0.778312557068642    n_experiences: 5317 \n",
            "Episode 60  Score: -197.43  Playtime:  108.47   n_eps: 0.7402609576967045   n_experiences: 6508 \n",
            "Episode 70  Score: -208.33  Playtime:  115.60   n_eps: 0.7040696960536299   n_experiences: 8092 \n",
            "Episode 80  Score: -212.00  Playtime:  117.41   n_eps: 0.6696478204705644   n_experiences: 9393 \n",
            "Episode 90  Score: -208.73  Playtime:  118.74   n_eps: 0.6369088258938781   n_experiences: 10687    \n",
            "Episode 100 Score: -206.49  Playtime:  119.74   n_eps: 0.6057704364907278   n_experiences: 11974    \n",
            "Episode 110 Score: -196.32  Playtime:  123.45   n_eps: 0.5761543988830038   n_experiences: 13272    \n",
            "Episode 120 Score: -184.32  Playtime:  129.69   n_eps: 0.547986285490042    n_experiences: 14959    \n",
            "Episode 130 Score: -172.21  Playtime:  130.03   n_eps: 0.5211953074858876   n_experiences: 16138    \n",
            "Episode 140 Score: -152.05  Playtime:  142.30   n_eps: 0.49571413690105054  n_experiences: 18451    \n",
            "Episode 150 Score: -143.29  Playtime:  146.41   n_eps: 0.47147873742168567  n_experiences: 19958    \n",
            "Episode 160 Score: -132.48  Playtime:  154.47   n_eps: 0.4484282034609769   n_experiences: 21955    \n",
            "Episode 170 Score: -106.66  Playtime:  163.24   n_eps: 0.42650460709830135  n_experiences: 24416    \n",
            "Episode 180 Score: -85.85   Playtime:  180.09   n_eps: 0.40565285250151817  n_experiences: 27402    \n",
            "Episode 190 Score: -73.39   Playtime:  201.63   n_eps: 0.3858205374665315   n_experiences: 30850    \n",
            "Episode 200 Score: -49.93   Playtime:  230.35   n_eps: 0.3669578217261671   n_experiences: 35009    \n",
            "Episode 210 Score: -40.46   Playtime:  263.12   n_eps: 0.34901730169741024  n_experiences: 39584    \n",
            "Episode 220 Score: -31.11   Playtime:  280.75   n_eps: 0.33195389135223546  n_experiences: 43034    \n",
            "Episode 230 Score: -15.80   Playtime:  314.08   n_eps: 0.3157247089126454   n_experiences: 47546    \n",
            "Episode 240 Score: -5.43    Playtime:  333.12   n_eps: 0.30028896908517405  n_experiences: 51763    \n",
            "Episode 250 Score:  4.33    Playtime:  363.03   n_eps: 0.285607880564032    n_experiences: 56261    \n",
            "Episode 260 Score:  10.80   Playtime:  391.83   n_eps: 0.27164454854530906  n_experiences: 61138    \n",
            "Episode 270 Score:  14.88   Playtime:  413.84   n_eps: 0.2583638820072446   n_experiences: 65800    \n",
            "Episode 280 Score:  21.58   Playtime:  432.86   n_eps: 0.2457325055235537   n_experiences: 70688    \n",
            "Episode 290 Score:  31.61   Playtime:  443.43   n_eps: 0.23371867538818816  n_experiences: 75193    \n",
            "Episode 300 Score:  29.04   Playtime:  439.61   n_eps: 0.22229219984074702  n_experiences: 78970    \n",
            "Episode 310 Score:  37.79   Playtime:  443.86   n_eps: 0.21142436319205632  n_experiences: 83970    \n",
            "Episode 320 Score:  43.76   Playtime:  456.21   n_eps: 0.2010878536592394   n_experiences: 88655    \n",
            "Episode 330 Score:  43.98   Playtime:  461.09   n_eps: 0.1912566947289212   n_experiences: 93655    \n",
            "Episode 340 Score:  45.86   Playtime:  468.92   n_eps: 0.18190617987607657  n_experiences: 98655    \n",
            "Episode 350 Score:  50.36   Playtime:  473.94   n_eps: 0.1730128104744653   n_experiences: 103655   \n",
            "Episode 360 Score:  51.94   Playtime:  467.59   n_eps: 0.16455423674261854  n_experiences: 107897   \n",
            "Episode 370 Score:  51.95   Playtime:  467.90   n_eps: 0.15650920157696743  n_experiences: 112590   \n",
            "Episode 380 Score:  55.56   Playtime:  469.02   n_eps: 0.14885748713096328  n_experiences: 117590   \n",
            "Episode 390 Score:  62.16   Playtime:  473.97   n_eps: 0.14157986400593744  n_experiences: 122590   \n",
            "Episode 400 Score:  71.21   Playtime:  485.75   n_eps: 0.1346580429260134   n_experiences: 127545   \n",
            "Episode 410 Score:  82.20   Playtime:  479.03   n_eps: 0.12807462877562611  n_experiences: 131873   \n",
            "Episode 420 Score:  96.33   Playtime:  473.30   n_eps: 0.12181307688414106  n_experiences: 135985   \n",
            "Episode 430 Score:  115.43  Playtime:  466.74   n_eps: 0.11585765144771248  n_experiences: 140329   \n",
            "Episode 440 Score:  118.52  Playtime:  463.05   n_eps: 0.11019338598389174  n_experiences: 144960   \n",
            "Episode 450 Score:  117.20  Playtime:  463.05   n_eps: 0.10480604571960442  n_experiences: 149960   \n",
            "Episode 460 Score:  135.12  Playtime:  460.61   n_eps: 0.0996820918179746   n_experiences: 153958   \n",
            "Episode 470 Score:  156.37  Playtime:  447.12   n_eps: 0.09480864735409487  n_experiences: 157302   \n",
            "Episode 480 Score:  175.40  Playtime:  433.66   n_eps: 0.09017346495423652  n_experiences: 160956   \n",
            "Episode 490 Score:  191.98  Playtime:  417.28   n_eps: 0.08576489601717459  n_experiences: 164318   "
          ]
        }
      ],
      "source": [
        "env = gym.make('LunarLander-v2',render_mode='rgb_array')\n",
        "agent = Agent(env)\n",
        "agent.eps = 1.0 \n",
        "for _ in range(2000):\n",
        "    ### 1. 본질적인 코드\n",
        "    agent.current_state, _  = env.reset() \n",
        "    agent.terminated = False\n",
        "    agent.score = 0 \n",
        "    for t in range(500):\n",
        "        # step1: agent >> env \n",
        "        agent.act() \n",
        "        env.agent_action = agent.action  \n",
        "        # step2: agent << env \n",
        "        agent.next_state, agent.reward, agent.terminated, _,_ = env.step(env.agent_action)\n",
        "        agent.save_experience() \n",
        "        # step3: learn \n",
        "        agent.learn()\n",
        "        # step4: state update \n",
        "        agent.current_state = agent.next_state \n",
        "        # step5: \n",
        "        if agent.terminated: break \n",
        "    agent.scores.append(agent.score) \n",
        "    agent.playtimes.append(t+1)\n",
        "    agent.n_episode = agent.n_episode + 1 \n",
        "    agent.eps = agent.eps*0.995\n",
        "    ## 2. 비본질적 코드\n",
        "    if (agent.n_episode % 10) == 0:\n",
        "        print(\n",
        "            f'Episode {agent.n_episode}\\t'\n",
        "            f'Score: {np.mean(agent.scores[-100:]) : .2f}\\t'\n",
        "            f'Playtime: {np.mean(agent.playtimes[-100:]) : .2f}\\t'\n",
        "            f'n_eps: {agent.eps}\\t'\n",
        "            f'n_experiences: {agent.n_experiences}\\t'\n",
        "        )\n",
        "    if np.mean(agent.scores[-100:])>=200.0:\n",
        "        break"
      ],
      "id": "905a8edd-83a1-42a1-82f5-57c0eccd65ac"
    },
    {
      "cell_type": "markdown",
      "metadata": {},
      "source": [
        "`-` 시각화를 위한코드"
      ],
      "id": "3e5fbbe4-5b6a-4a38-8819-d60ff8e97fe9"
    },
    {
      "cell_type": "code",
      "execution_count": 46,
      "metadata": {},
      "outputs": [],
      "source": [
        "agent2 = Agent(env) \n",
        "agent2.q_net = agent.q_net\n",
        "\n",
        "agent2.current_state, _ = env.reset()\n",
        "agent2.terminated = False \n",
        "ims = [] \n",
        "ims.append(env.render())\n",
        "for t in range(500):\n",
        "    agent2.act() \n",
        "    agent2.next_state, agent2.reward, agent2.terminated, _, _  = env.step(agent2.action)\n",
        "    im = env.render()\n",
        "    ims.append(im)\n",
        "    agent2.current_state = agent2.next_state\n",
        "    if agent2.terminated: break "
      ],
      "id": "677d6f52-8974-4944-ba70-83bc2ac61c8b"
    },
    {
      "cell_type": "code",
      "execution_count": 51,
      "metadata": {},
      "outputs": [],
      "source": [
        "show(ims)"
      ],
      "id": "abc7a614-ac41-4970-9587-9829cb4bc5ca"
    }
  ],
  "nbformat": 4,
  "nbformat_minor": 5,
  "metadata": {
    "kernelspec": {
      "name": "python3",
      "display_name": "Python 3 (ipykernel)",
      "language": "python"
    },
    "language_info": {
      "name": "python",
      "codemirror_mode": {
        "name": "ipython",
        "version": "3"
      },
      "file_extension": ".py",
      "mimetype": "text/x-python",
      "nbconvert_exporter": "python",
      "pygments_lexer": "ipython3",
      "version": "3.11.4"
    }
  }
}