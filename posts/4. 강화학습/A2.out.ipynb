{
  "cells": [
    {
      "cell_type": "markdown",
      "metadata": {},
      "source": [
        "# Appendix: 강화학습 (2) – 4x4 grid\n",
        "\n",
        "최규빈  \n",
        "2023-08-30\n",
        "\n",
        "# 강의영상\n",
        "\n",
        "# Game2: 4x4 grid\n",
        "\n",
        "`-` 문제설명: 4x4 그리드월드에서 상하좌우로 움직이는 에이전트가 목표점에\n",
        "도달하도록 학습하는 방법\n",
        "\n",
        "# imports"
      ],
      "id": "d78d055d-522c-4640-b75a-4701bbafd757"
    },
    {
      "cell_type": "code",
      "execution_count": 4,
      "metadata": {},
      "outputs": [],
      "source": [
        "import gymnasium as gym\n",
        "import numpy as np\n",
        "import matplotlib.pyplot as plt\n",
        "from matplotlib.animation import FuncAnimation\n",
        "import IPython"
      ],
      "id": "5b1cfd48-d338-4ddd-8b59-f8ab593ebda9"
    },
    {
      "cell_type": "markdown",
      "metadata": {},
      "source": [
        "# 예비학습: 시각화"
      ],
      "id": "9f8d080c-e0fd-4dae-aa68-d2605cbac306"
    },
    {
      "cell_type": "code",
      "execution_count": 3,
      "metadata": {},
      "outputs": [],
      "source": [
        "def show(states):\n",
        "    fig = plt.Figure()\n",
        "    ax = fig.subplots()\n",
        "    ax.matshow(np.zeros([4,4]), cmap='bwr',alpha=0.0)\n",
        "    sc = ax.scatter(0, 0, color='red', s=500)  \n",
        "    ax.text(0, 0, 'start', ha='center', va='center')\n",
        "    ax.text(3, 3, 'end', ha='center', va='center')\n",
        "    # Adding grid lines to the plot\n",
        "    ax.set_xticks(np.arange(-.5, 4, 1), minor=True)\n",
        "    ax.set_yticks(np.arange(-.5, 4, 1), minor=True)\n",
        "    ax.grid(which='minor', color='black', linestyle='-', linewidth=2)\n",
        "    def update(t):\n",
        "        sc.set_offsets(states[t])\n",
        "    ani = FuncAnimation(fig,update,frames=len(states))\n",
        "    display(IPython.display.HTML(ani.to_jshtml()))"
      ],
      "id": "0b3ec243-70a1-46e7-bd95-2bb4a5338898"
    },
    {
      "cell_type": "code",
      "execution_count": 10,
      "metadata": {},
      "outputs": [],
      "source": [
        "show([[0,0],[0,1],[1,1],[1,2],[1,3],[1,2],[1,3],[1,2],[1,3],[1,2],[1,3]])"
      ],
      "id": "5379f2af-62d5-43ff-b16f-4689e7a53fe5"
    },
    {
      "cell_type": "markdown",
      "metadata": {},
      "source": [
        "# Env 클래스 구현\n",
        "\n",
        "`-` GridWorld: 강화학습에서 많이 예시로 사용되는 기본적인 시뮬레이션\n",
        "환경\n",
        "\n",
        "1.  **State**: 각 격자 셀이 하나의 상태이며, 에이전트는 이러한 상태 중\n",
        "    하나에 있을 수 있음.\n",
        "2.  **Action**: 에이전트는 현재상태에서 다음상태로 이동하기 위해\n",
        "    상,하,좌,우 중 하나의 행동을 취할 수 있음.\n",
        "3.  **Reward**: 에이전트가 현재상태에서 특정 action을 하면 얻어지는 보상\n",
        "4.  **Terminated**: 하나의 에피소드가 종료되었음을 나타내는 상태"
      ],
      "id": "1d3c80f9-15c0-47de-b070-d4ef29bd93ba"
    },
    {
      "cell_type": "code",
      "execution_count": 53,
      "metadata": {},
      "outputs": [],
      "source": [
        "action = 3\n",
        "current_state = np.array([1,1])"
      ],
      "id": "aedc105c-7a89-46c1-8f5b-100d938085a5"
    },
    {
      "cell_type": "code",
      "execution_count": 55,
      "metadata": {},
      "outputs": [],
      "source": [
        "next_state = current_state + action_to_direction[action]\n",
        "next_state"
      ],
      "id": "e50e1ecd-765b-4764-9ac4-30c4234352e5"
    },
    {
      "cell_type": "code",
      "execution_count": 146,
      "metadata": {},
      "outputs": [],
      "source": [
        "class GridWorld:\n",
        "    def __init__(self):\n",
        "        self.reset()\n",
        "        self.state_space = gym.spaces.MultiDiscrete([4,4])\n",
        "        self.action_space = gym.spaces.Discrete(4) \n",
        "        self._action_to_direction = { \n",
        "            0 : np.array([1, 0]), # x+ \n",
        "            1 : np.array([0, 1]), # y+ \n",
        "            2 : np.array([-1 ,0]), # x- \n",
        "            3 : np.array([0, -1]) # y- \n",
        "        }\n",
        "    def reset(self): \n",
        "        self.agent_action = None \n",
        "        self.agent_state = np.array([0,0])         \n",
        "    def step(self,action):\n",
        "        direction = self._action_to_direction[action]\n",
        "        self.agent_state = self.agent_state + direction\n",
        "        \n",
        "        if self.agent_state not in self.state_space:\n",
        "            terminated = True\n",
        "            self.agent_state = self.agent_state - 1/2* direction\n",
        "        else: \n",
        "            terminated = False \n",
        "        return self.agent_state, terminated\n"
      ],
      "id": "414b9e1a-c494-4c0f-abc3-16fe43d7ede5"
    },
    {
      "cell_type": "code",
      "execution_count": 147,
      "metadata": {},
      "outputs": [],
      "source": [
        "env = GridWorld()"
      ],
      "id": "d90d8d11-e438-4528-ac96-107fe32c39be"
    },
    {
      "cell_type": "code",
      "execution_count": 152,
      "metadata": {},
      "outputs": [],
      "source": [
        "states = [np.array([0,0])]\n",
        "for t in range(50):\n",
        "    env.reset()\n",
        "    action = action_space.sample()\n",
        "    next_state, terminated = env.step(action) \n",
        "    states.append(next_state) \n",
        "    if terminated: \n",
        "        break \n",
        "show(states)"
      ],
      "id": "f8bcc04d-d188-4c44-86bb-bf2394cd66d8"
    }
  ],
  "nbformat": 4,
  "nbformat_minor": 5,
  "metadata": {
    "kernelspec": {
      "name": "python3",
      "display_name": "Python 3 (ipykernel)",
      "language": "python"
    },
    "language_info": {
      "name": "python",
      "codemirror_mode": {
        "name": "ipython",
        "version": "3"
      },
      "file_extension": ".py",
      "mimetype": "text/x-python",
      "nbconvert_exporter": "python",
      "pygments_lexer": "ipython3",
      "version": "3.11.4"
    }
  }
}