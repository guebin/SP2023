{
  "cells": [
    {
      "cell_type": "markdown",
      "metadata": {},
      "source": [
        "# Appendix: 강화학습 (2) – 4x4 grid\n",
        "\n",
        "최규빈  \n",
        "2023-08-30\n",
        "\n",
        "# 강의영상\n",
        "\n",
        "# Game2: 4x4 grid\n",
        "\n",
        "`-` 문제설명: 4x4 그리드월드에서 상하좌우로 움직이는 에이전트가 목표점에\n",
        "도달하도록 학습하는 방법\n",
        "\n",
        "# imports"
      ],
      "id": "8e723204-7d95-45c4-b861-566ccd279bf6"
    },
    {
      "cell_type": "code",
      "execution_count": 4,
      "metadata": {},
      "outputs": [],
      "source": [
        "import gymnasium as gym\n",
        "import numpy as np\n",
        "import matplotlib.pyplot as plt\n",
        "from matplotlib.animation import FuncAnimation\n",
        "import IPython"
      ],
      "id": "5b1cfd48-d338-4ddd-8b59-f8ab593ebda9"
    },
    {
      "cell_type": "markdown",
      "metadata": {},
      "source": [
        "# 예비학습: 시각화"
      ],
      "id": "ea38cbed-d4f6-4633-9c25-08a46b389a60"
    },
    {
      "cell_type": "code",
      "execution_count": 3,
      "metadata": {},
      "outputs": [],
      "source": [
        "def show(states):\n",
        "    fig = plt.Figure()\n",
        "    ax = fig.subplots()\n",
        "    ax.matshow(np.zeros([4,4]), cmap='bwr',alpha=0.0)\n",
        "    sc = ax.scatter(0, 0, color='red', s=500)  \n",
        "    ax.text(0, 0, 'start', ha='center', va='center')\n",
        "    ax.text(3, 3, 'end', ha='center', va='center')\n",
        "    # Adding grid lines to the plot\n",
        "    ax.set_xticks(np.arange(-.5, 4, 1), minor=True)\n",
        "    ax.set_yticks(np.arange(-.5, 4, 1), minor=True)\n",
        "    ax.grid(which='minor', color='black', linestyle='-', linewidth=2)\n",
        "    def update(t):\n",
        "        sc.set_offsets(states[t])\n",
        "    ani = FuncAnimation(fig,update,frames=len(states))\n",
        "    display(IPython.display.HTML(ani.to_jshtml()))"
      ],
      "id": "0b3ec243-70a1-46e7-bd95-2bb4a5338898"
    },
    {
      "cell_type": "code",
      "execution_count": 10,
      "metadata": {},
      "outputs": [],
      "source": [
        "show([[0,0],[0,1],[1,1],[1,2],[1,3],[1,2],[1,3],[1,2],[1,3],[1,2],[1,3]])"
      ],
      "id": "5379f2af-62d5-43ff-b16f-4689e7a53fe5"
    },
    {
      "cell_type": "markdown",
      "metadata": {},
      "source": [
        "# Env 클래스 구현\n",
        "\n",
        "`-` GridWorld: 강화학습에서 많이 예시로 사용되는 기본적인 시뮬레이션\n",
        "환경\n",
        "\n",
        "1.  **State**: 각 격자 셀이 하나의 상태이며, 에이전트는 이러한 상태 중\n",
        "    하나에 있을 수 있음.\n",
        "2.  **Action**: 에이전트는 현재상태에서 다음상태로 이동하기 위해\n",
        "    상,하,좌,우 중 하나의 행동을 취할 수 있음.\n",
        "3.  **Reward**: 에이전트가 현재상태에서 특정 action을 하면 얻어지는 보상\n",
        "4.  **Terminated**: 하나의 에피소드가 종료되었음을 나타내는 상태"
      ],
      "id": "a7d01740-1cec-4a86-8370-736808631813"
    },
    {
      "cell_type": "code",
      "execution_count": 53,
      "metadata": {},
      "outputs": [],
      "source": [
        "action = 3\n",
        "current_state = np.array([1,1])"
      ],
      "id": "aedc105c-7a89-46c1-8f5b-100d938085a5"
    },
    {
      "cell_type": "code",
      "execution_count": 55,
      "metadata": {},
      "outputs": [],
      "source": [
        "next_state = current_state + action_to_direction[action]\n",
        "next_state"
      ],
      "id": "e50e1ecd-765b-4764-9ac4-30c4234352e5"
    },
    {
      "cell_type": "code",
      "execution_count": 230,
      "metadata": {},
      "outputs": [],
      "source": [
        "class GridWorld:\n",
        "    def __init__(self):\n",
        "        self.reset()\n",
        "        self.state_space = gym.spaces.MultiDiscrete([4,4])\n",
        "        self.action_space = gym.spaces.Discrete(4) \n",
        "        self._action_to_direction = { \n",
        "            0 : np.array([1, 0]), # x+ \n",
        "            1 : np.array([0, 1]), # y+ \n",
        "            2 : np.array([-1 ,0]), # x- \n",
        "            3 : np.array([0, -1]) # y- \n",
        "        }\n",
        "    def reset(self):\n",
        "        self.agent_action = None \n",
        "        self.agent_state = np.array([0,0])        \n",
        "        return self.agent_state \n",
        "    def step(self,action):\n",
        "        direction = self._action_to_direction[action]\n",
        "        self.agent_state = self.agent_state + direction\n",
        "        if self.agent_state not in env.state_space: # 4x4 그리드 밖에 있는 경우\n",
        "            reward = -10 \n",
        "            terminated = True\n",
        "            self.agent_state = self.agent_state -1/2 * direction\n",
        "        elif np.array_equal(env.agent_state, np.array([3,3])): # 목표지점에 도달할 경우 \n",
        "            reward = 100 \n",
        "            terminated = True\n",
        "        else: \n",
        "            reward = -1 \n",
        "            terminated = False         \n",
        "        return self.agent_state, reward, terminated\n"
      ],
      "id": "414b9e1a-c494-4c0f-abc3-16fe43d7ede5"
    },
    {
      "cell_type": "code",
      "execution_count": 235,
      "metadata": {},
      "outputs": [],
      "source": [
        "env = GridWorld()"
      ],
      "id": "d90d8d11-e438-4528-ac96-107fe32c39be"
    },
    {
      "cell_type": "code",
      "execution_count": 240,
      "metadata": {},
      "outputs": [],
      "source": [
        "states = [] \n",
        "state = env.reset()\n",
        "states.append(state) \n",
        "for t in range(50):\n",
        "    action = env.action_space.sample() \n",
        "    state,reward,terminated = env.step(action)\n",
        "    states.append(state) \n",
        "    if terminated: break "
      ],
      "id": "f8bcc04d-d188-4c44-86bb-bf2394cd66d8"
    },
    {
      "cell_type": "code",
      "execution_count": 241,
      "metadata": {},
      "outputs": [],
      "source": [
        "show(states)"
      ],
      "id": "886e5543-619a-4488-a39f-77bc8a2fa254"
    }
  ],
  "nbformat": 4,
  "nbformat_minor": 5,
  "metadata": {
    "kernelspec": {
      "name": "python3",
      "display_name": "Python 3 (ipykernel)",
      "language": "python"
    },
    "language_info": {
      "name": "python",
      "codemirror_mode": {
        "name": "ipython",
        "version": "3"
      },
      "file_extension": ".py",
      "mimetype": "text/x-python",
      "nbconvert_exporter": "python",
      "pygments_lexer": "ipython3",
      "version": "3.11.4"
    }
  }
}