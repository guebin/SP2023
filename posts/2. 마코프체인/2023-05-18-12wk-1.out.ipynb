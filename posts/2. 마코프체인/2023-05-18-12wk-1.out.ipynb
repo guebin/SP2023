{
  "cells": [
    {
      "cell_type": "markdown",
      "metadata": {},
      "source": [
        "# 12wk-1: 마코프체인 (10)\n",
        "\n",
        "최규빈  \n",
        "2023-05-18\n",
        "\n",
        "# 강의영상\n",
        "\n",
        "> youtube:\n",
        "> <https://youtube.com/playlist?list=PLQqh36zP38-w6PeAXdc4YcGTb7M_67Wog>\n",
        "\n",
        "# imports"
      ],
      "id": "72620503-6aa7-436f-83f5-db4b49674d5e"
    },
    {
      "cell_type": "code",
      "execution_count": 1,
      "metadata": {},
      "outputs": [],
      "source": [
        "import numpy as np\n",
        "import matplotlib.pyplot as plt "
      ],
      "id": "ac963095-eba8-4086-9d14-9adf1c2cb116"
    },
    {
      "cell_type": "markdown",
      "metadata": {},
      "source": [
        "# 지난시간\n",
        "\n",
        "`-` 수학: 어떠한 집합 $E$에서 equivalence relation $\\sim$을 정의할 수\n",
        "있다면, 집합 $E$의 모든 원소는 $\\sim$를 기준으로 분해할 수 있다. 즉\n",
        "아래를 만족하는 $E_1,E_2,E_3,\\dots$ 이 존재한다.\n",
        "\n",
        "$$E = \\uplus_{k=1}^{\\infty} E_k$$\n",
        "\n",
        "단 여기에서 $E_1,E_2,E_3,\\dots$ 는 서로소이다.\n",
        "\n",
        "`-` 통계: 확률변수열 $\\{X_t\\}$가 HMC라고 하고, $E$를 $\\{X_t\\}$가\n",
        "정의되는 상태공간이라고 하자. 기호 $\\leftrightarrow$는 $E$에서 정의된\n",
        "euivalence relation이 된다. 따라서 집합 $E$의 원소는 $\\leftrightarrow$를\n",
        "기준으로 아래와 같이 나눌 수 있다.\n",
        "\n",
        "$$E = \\uplus_{k=1}^{\\infty} E_k$$\n",
        "\n",
        "단 여기에서 $E_1,E_2,E_3,\\dots$ 는 서로소이다.\n",
        "\n",
        "`-` 의미($\\star\\star\\star$)\n",
        "\n",
        "1.  IRR 하지 않은 마코프체인은 IRR 한 마코프체인으로 분해하여 생각할 수\n",
        "    있다.\n",
        "2.  앞으로 마코프체인에 대한 성질을 연구할때 IRR 은 그냥 가정해도\n",
        "    무방하다.\n",
        "\n",
        "`-` 예시1: 아래와 같은 전이행렬을 고려하자."
      ],
      "id": "e7a3ba6f-06cb-4f14-bc1a-e8fa4f9351cc"
    },
    {
      "cell_type": "code",
      "execution_count": 2,
      "metadata": {},
      "outputs": [],
      "source": [
        "P = np.array([[1,0],\n",
        "              [0,1]])\n",
        "P"
      ],
      "id": "63a5822a-f403-4437-a56d-76d7e1620d88"
    },
    {
      "cell_type": "markdown",
      "metadata": {},
      "source": [
        "**해석1**: 모든 분포가 정상분포라고 해석\n",
        "\n",
        "**해석2:** 전체마코프체인을 쪼개서 (1) 상태0에만 머무는 마코프체인, (2)\n",
        "상태1에만 머무는 마코프체인으로 나누어 생각하고 각각에 대한 정상분포가\n",
        "1이라고 해석.\n",
        "\n",
        "`-` 예시2: 아래와 같은 전이행렬을 고려하자."
      ],
      "id": "2ec73fa1-94bb-49a2-9c17-6aced2851a46"
    },
    {
      "cell_type": "code",
      "execution_count": 3,
      "metadata": {},
      "outputs": [],
      "source": [
        "P = np.array([[1,0,0,0],\n",
        "              [0,1,0,0],\n",
        "              [0,0,0,1],\n",
        "              [0,0,1,0]])\n",
        "P"
      ],
      "id": "7838e768-e674-4e21-b3fa-6d7b95bcf267"
    },
    {
      "cell_type": "markdown",
      "metadata": {},
      "source": [
        "**해석:** 전체마코프체인을 쪼개서 (1) 상태0에만 머무는 마코프체인, (2)\n",
        "상태1에만 머무는 마코프체인 (3) 상태 2,3을 셔플하는 마코프체인으로\n",
        "생각하자. 즉 상태공간을 아래와 같이 분리하자.\n",
        "\n",
        "$$E = E_1 \\uplus E_2 \\uplus E_3 = \\{0\\} \\uplus \\{1\\} \\uplus \\{2,3\\}$$\n",
        "\n",
        "각 상태공간에 대응하는 마코프체인의 정상분포를\n",
        "${\\boldsymbol \\pi}_1^\\top,{\\boldsymbol \\pi}_2^\\top,{\\boldsymbol \\pi}_3^\\top$\n",
        "이라고 하자. 전체 정상분포 ${\\boldsymbol \\pi}$는 아래를 만족하는 어떠한\n",
        "분포라도 무관하다.\n",
        "\n",
        "$${\\boldsymbol \\pi} = a{\\boldsymbol \\pi}_1+b{\\boldsymbol \\pi}_2+c{\\boldsymbol \\pi}_3.$$\n",
        "\n",
        "단, 여기에서 $a+b+c=1$ 이고 $a,b,c$는 모두 양수이다."
      ],
      "id": "f3efad43-b226-44d7-99c7-36adc652c8ee"
    },
    {
      "cell_type": "code",
      "execution_count": 4,
      "metadata": {},
      "outputs": [],
      "source": [
        "a= 0.1 \n",
        "b= 0.5\n",
        "c= 1-a-b \n",
        "π = np.array([a,b,0.5*c, 0.5*c]).reshape(4,1) \n",
        "π.T @ P, π.T "
      ],
      "id": "92b06c6e-ed2f-4b4e-b6c1-47e8fdc87341"
    },
    {
      "cell_type": "markdown",
      "metadata": {},
      "source": [
        "# 예비학습\n",
        "\n",
        "## 나그네\n",
        "\n",
        "`-` 나그네 (박목월)\n",
        "\n",
        "    강나루 건너서\n",
        "    밀밭 길을\n",
        "\n",
        "    구름에 달 가듯이\n",
        "    가는 나그네\n",
        "\n",
        "    길은 외줄기\n",
        "    南道 삼백리\n",
        "\n",
        "    술 익는 마을마다\n",
        "    타는 저녁놀\n",
        "\n",
        "    구름에 달 가듯이\n",
        "    가는 나그네\n",
        "\n",
        "`-` 나그네\n",
        "\n",
        "-   정착 X\n",
        "-   모든 장소에 일시적(transient)으로만 머뭄\n",
        "-   다시 돌아올 수는 있는데 금방 다시 감.\n",
        "\n",
        "`-` 편의상 아래와 같이 생각하자.\n",
        "\n",
        "-   $E$: 마을의 집합\n",
        "-   $X_t=i$: $t$시점에 나그네가 마을 $i$에 머무는 event\n",
        "\n",
        "## 급수의 수렴\n",
        "\n",
        "`-` $a_n \\to 0$ 이라고 해서 $\\lim_{n\\to\\infty} S_n <\\infty$ 인건 아니다.\n",
        "\n",
        "`-` 예시1: $a_n=\\frac{1}{2^n}$, 수렴하는 경우"
      ],
      "id": "5abddbf7-2321-468d-a9e0-e75d289da020"
    },
    {
      "cell_type": "code",
      "execution_count": 5,
      "metadata": {},
      "outputs": [],
      "source": [
        "sum([1/2**i for i in range(1,10000)])"
      ],
      "id": "1d3c2d65-9382-4c82-b176-18646e2d0ee9"
    },
    {
      "cell_type": "markdown",
      "metadata": {},
      "source": [
        "`-` 예시2: $a_n = \\frac{1}{n}$, 수렴안하는 경우"
      ],
      "id": "07fb4be6-3bb1-44e2-ae2e-17ea8e9e868e"
    },
    {
      "cell_type": "code",
      "execution_count": 6,
      "metadata": {},
      "outputs": [],
      "source": [
        "sum([1/i for i in range(1,10000)])"
      ],
      "id": "3ffd97bc-9cb0-42c4-9ca0-e397200d1b89"
    },
    {
      "cell_type": "markdown",
      "metadata": {},
      "source": [
        "# nature\n",
        "\n",
        "## 예제1: 오른쪽으로만 갈래\n",
        "\n",
        "확률변수열 $\\{X_t\\}$가 HMC라고 하고, 그 transition matrix ${\\bf P}$\n",
        "(혹은 그 비슷한 것) 가 아래와 같다고 하자.\n",
        "\n",
        "$${\\bf P} = \\begin{bmatrix} \n",
        "0 & 1 & 0 & 0 & 0 & \\dots \\\\ \n",
        "0 & 0 & 1 & 0 & 0 & \\dots \\\\ \n",
        "0 & 0 & 0 & 1 & 0 & \\dots \\\\ \n",
        "0 & 0 & 0 & 0 & 1 & \\dots \\\\ \n",
        "\\dots & \\dots & \\dots & \\dots & \\dots & \\dots \n",
        "\\end{bmatrix}$$\n",
        "\n",
        "`-` 체크: 이 예제의 마코프체인은 IRR 하지 않다.\n",
        "\n",
        "`-` 나이스케이스:\n",
        "$\\bar{\\boldsymbol \\pi}^\\top \\overset{T \\to \\infty}{\\longrightarrow} {\\bf p}_{\\star}^\\top = {\\boldsymbol \\pi}^\\top$\n",
        "\n",
        "`-` 이 예제는 나이스하지 않음 왜? IRR이 아니라서?\n",
        "\n",
        "-   IRR이 아니라서 나이스하지 않다는 것은 핑계임.\n",
        "-   오른쪽으로 갈 확률을 0.99로 수정한다면 IRR 마코프체인이 된다.\n",
        "    그렇지만 이게 나이스하게 바뀔 것 같지는 않음.\n",
        "\n",
        "`-` 나이스하지 않은 본질적인 이유\n",
        "\n",
        "-   상태 $i$에 일시적(transient)으로 머무는 느낌. 거의 나그네 수준임.\n",
        "-   $\\bar{\\boldsymbol \\pi}^\\top \\overset{T \\to \\infty}{\\longrightarrow} {\\bf p}_{\\star}^\\top = {\\boldsymbol \\pi}^\\top$\n",
        "    이와 같은 논리전개를 쓰려면 일단 $\\{X_t\\}$가 특정상태를 무한번\n",
        "    방문해야 가능\n",
        "\n",
        "`-` FINITE case\n",
        "\n",
        "-   IRR은 가정할 수 있음.\n",
        "-   IRR을 가정한다면, 모든 마을에 대해서 나그네가 반복적으로 돌아오는\n",
        "    느낌이 있음.\n",
        "\n",
        "`-` 깨달음.\n",
        "\n",
        "-   FINITE 인 경우는 IRR 이기만 하면 “반복적으로 마을방문” 이\n",
        "    보장되었다.\n",
        "-   그런데 INFINITE 한 경우는 IRR 이어도 “반복적으로 마을방문” 이\n",
        "    보장되지 않는다.\n",
        "\n",
        "> IRR 조건이 엄청 대단한 조건인줄 알았는데, 사실 그런게 아니고 (수틀리면\n",
        "> 그냥 IRR 이라고 가정해도 무방한) 실제로 대단한 조건은 숨어있는\n",
        "> “반복적으로 마을방문” 이라는 조건임.\n",
        "\n",
        "`-` **가짜정의:** HMC $\\{X_t\\}$가 (1) IRR (2) PR (3) AP 조건을\n",
        "만족한다면 $\\{X_t\\}$를 에르고딕 마코프체인이라고 부른다. 여기에서 PR은\n",
        "positive recurrent의 약자이며 “반복적으로 마을을 방문한다”의 의미를\n",
        "가지고 있다.\n",
        "\n",
        "## Reccurent, Transient\n",
        "\n",
        "`-` **대안정의**: $\\{X_t\\}$가 상태공간 $E$에서 정의된 HMC 라고 하자.\n",
        "만약에 상태 $i \\in E$ 가 아래의 식을 만족한다면\n",
        "\n",
        "$$\\sum_{t=0}^{\\infty} p_{ii}^{(t)}= \\infty$$\n",
        "\n",
        "$i$는 recurrent 하다고 표현하고, 그렇지 않으면 $i$는 transient 하다고\n",
        "표현한다.\n",
        "\n",
        "## 예제2: reflecting random walk\n",
        "\n",
        "확률변수열 $\\{X_t\\}$가 HMC라고 하고, 그 transition matrix ${\\bf P}$\n",
        "(혹은 그 비슷한 것) 가 아래와 같다고 하자.\n",
        "\n",
        "$${\\bf P} = \\begin{bmatrix} \n",
        "1-p & p & 0 & 0 & 0 & \\dots \\\\ \n",
        "1-p & 0 & p & 0 & 0 & \\dots \\\\ \n",
        "0 & 1-p & 0 & p & 0 & \\dots \\\\ \n",
        "0 & 0 & 1-p & 0 & p & \\dots \\\\ \n",
        "\\dots & \\dots & \\dots & \\dots & \\dots & \\dots \n",
        "\\end{bmatrix}$$\n",
        "\n",
        "`-` 체크: 이 마코프체인은 IRR하다.\n",
        "\n",
        "`-` case1: $p=0.99$ 라고 하자."
      ],
      "id": "c5244a79-cbb3-4682-a664-229ff007a3d4"
    },
    {
      "cell_type": "code",
      "execution_count": 33,
      "metadata": {},
      "outputs": [],
      "source": [
        "p=0.99\n",
        "P1 = np.array([[i-j == 1 for i in range(1000)] for j in range(1000)])*p\n",
        "P2 = np.array([[j-i == 1 for i in range(1000)] for j in range(1000)])*(1-p)\n",
        "P = P1+P2\n",
        "P[0,0]= 1-p \n",
        "P"
      ],
      "id": "d07baf55-83b2-4ec2-99cc-95c6d8d6e484"
    },
    {
      "cell_type": "code",
      "execution_count": 37,
      "metadata": {},
      "outputs": [],
      "source": [
        "(np.matrix(P)**10).round(5)"
      ],
      "id": "0ee579bc-67a3-4ead-a4ed-0cc7618fe4fe"
    },
    {
      "cell_type": "code",
      "execution_count": 8,
      "metadata": {},
      "outputs": [],
      "source": [
        "(np.matrix(P)**100).round(5)"
      ],
      "id": "cf3e0725-fe5a-408f-979b-0411a3aa2754"
    },
    {
      "cell_type": "markdown",
      "metadata": {},
      "source": [
        "**관찰결과**\n",
        "\n",
        "1.  $p_{00}^{(t)} \\to 0$.\n",
        "2.  $p_{00}^{(t)} \\to 0$ 이라고 해서\n",
        "    $\\sum_{t=0}^{\\infty} p_{00}^{(t)} < \\infty$ 이라고 주장할 순 없음.\n",
        "    $\\sum_{t=0}^{\\infty} p_{00}^{(t)} = \\infty$ 역시 주장할 수 없음.\n",
        "3.  $p_{00}^{(t)}$이 0으로 수렴하는 속도가 매우 빠르다면\n",
        "    $\\sum_{t=0}^{\\infty} p_{00}^{(t)} < \\infty$ 일 것이고 그렇지 않다면\n",
        "    $\\sum_{t=0}^{\\infty} p_{00}^{(t)} = \\infty$ 일 것임.\n",
        "4.  이 경우는 $p_{00}^{(t)}$이 빠르게 0으로 수렴하는듯 보이므로 왠지\n",
        "    $\\sum_{t=0}^{\\infty} p_{00}^{(t)} < \\infty$ 일 것으로 예상가능\n",
        "5.  상태0은 transient 인 듯 하다. (확신 X)\n",
        "\n",
        "`-` case2: $p=0.1$ 이라고 하자."
      ],
      "id": "f119d8c4-a3ad-4fb8-8c1a-cf434990061f"
    },
    {
      "cell_type": "code",
      "execution_count": 25,
      "metadata": {},
      "outputs": [],
      "source": [
        "p=0.1\n",
        "P1 = np.array([[i-j == 1 for i in range(1000)] for j in range(1000)])*p\n",
        "P2 = np.array([[j-i == 1 for i in range(1000)] for j in range(1000)])*(1-p)\n",
        "P = P1+P2\n",
        "P[0,0]= 1-p \n",
        "P"
      ],
      "id": "c3bafeb0-ca4a-4293-904e-cca33e025082"
    },
    {
      "cell_type": "code",
      "execution_count": 26,
      "metadata": {},
      "outputs": [],
      "source": [
        "(np.matrix(P)**100).round(5)"
      ],
      "id": "5d492318-01ec-4873-9f52-51597a21d4e6"
    },
    {
      "cell_type": "code",
      "execution_count": 27,
      "metadata": {},
      "outputs": [],
      "source": [
        "(np.matrix(P)**1000).round(5)"
      ],
      "id": "3094159c-2f12-479c-9e74-2c3562466577"
    },
    {
      "cell_type": "markdown",
      "metadata": {},
      "source": [
        "**관찰결과**\n",
        "\n",
        "1.  $p_{00}^{(t)} \\to 0.88889$.\n",
        "2.  $\\sum_{t=0}^{\\infty} p_{00}^{(t)} = \\infty$\n",
        "3.  따라서 상태0은 recurrent!\n",
        "\n",
        "$p_{00}^{(t)} \\to 0.88889$ 이므로\n",
        "$\\sum_{t=0}^{\\infty} p_{00}^{(t)} = \\infty$ 이다. 따라서 상태 0은\n",
        "recurrent!\n",
        "\n",
        "`-` case3: $p=0.5$ 이라고 하자."
      ],
      "id": "f92d3eb6-9ee1-4dbd-9f25-9365e549a18b"
    },
    {
      "cell_type": "code",
      "execution_count": 39,
      "metadata": {},
      "outputs": [],
      "source": [
        "p=0.5\n",
        "P1 = np.array([[i-j == 1 for i in range(1000)] for j in range(1000)])*p\n",
        "P2 = np.array([[j-i == 1 for i in range(1000)] for j in range(1000)])*(1-p)\n",
        "P = P1+P2\n",
        "P[0,0]= 1-p \n",
        "P"
      ],
      "id": "6b139f7d-3583-4985-a722-b241c776a86c"
    },
    {
      "cell_type": "code",
      "execution_count": 40,
      "metadata": {},
      "outputs": [],
      "source": [
        "(np.matrix(P)**1000).round(3)"
      ],
      "id": "cb70eb6e-704d-4ac4-b7d2-692589a5afa0"
    },
    {
      "cell_type": "code",
      "execution_count": 41,
      "metadata": {},
      "outputs": [],
      "source": [
        "(np.matrix(P)**100000).round(3)"
      ],
      "id": "6af3b0d9-3a03-412b-beec-07fa9dd8d93a"
    },
    {
      "cell_type": "code",
      "execution_count": 42,
      "metadata": {},
      "outputs": [],
      "source": [
        "(np.matrix(P)**10000000).round(3)"
      ],
      "id": "4ef066a5-7c01-400a-aa36-fcdb016091d7"
    },
    {
      "cell_type": "markdown",
      "metadata": {},
      "source": [
        "**관찰결과**\n",
        "\n",
        "1.  $p_{00}^{(t)} \\to 0$.\n",
        "2.  그런데 엄청 천천히 0으로 수렴함.\n",
        "3.  $p_{00}^{(t)}$이 0으로 수렴하는 속도가 매우 빠르다면\n",
        "    $\\sum_{t=0}^{\\infty} p_{00}^{(t)} < \\infty$ 일 것이고 그렇지 않다면\n",
        "    $\\sum_{t=0}^{\\infty} p_{00}^{(t)} = \\infty$ 일 것임.\n",
        "4.  이 경우는 왠지 $\\sum_{t=0}^{\\infty} p_{00}^{(t)} = \\infty$ 일 것\n",
        "    같음.\n",
        "5.  그래서 상태 0은 recurrent 인 것 같음.\n",
        "6.  실제로 그런지 실험해볼까?\n",
        "\n",
        "***확인: $\\sum_{t=0}^{\\infty}p_{00}^{(t)}=\\infty$ 임을 프로그래밍을\n",
        "이용하여 근사적으로 체크해보자.***"
      ],
      "id": "75551df1-e722-4443-898d-4b9c4f073ee5"
    },
    {
      "cell_type": "code",
      "execution_count": 43,
      "metadata": {},
      "outputs": [],
      "source": [
        "Pstar = P.copy()\n",
        "pT = list()\n",
        "pT.append(Pstar[0,0])\n",
        "T = 10000\n",
        "for t in range(T):\n",
        "    Pstar = Pstar@P\n",
        "    pT.append(Pstar[0,0])    \n",
        "np.array(pT).cumsum()"
      ],
      "id": "7654ebe5-f27a-4ac8-802c-d335ef562283"
    },
    {
      "cell_type": "markdown",
      "metadata": {},
      "source": [
        "여기에서\n",
        "\n",
        "-   `pT` = $[p_{00}^{(0)},p_{00}^{(1)},\\dots,p_{00}^{(T)}]$\n",
        "-   `np.array(pT).cumsum()` =\n",
        "    $[\\sum_{t=0}^{0} p_{00}^{(t)},\\sum_{t=0}^{1} p_{00}^{(t)},\\dots,\\sum_{t=0}^{T} p_{00}^{(t)}]$\n",
        "\n",
        "이다. 마지막의 `np.array(pT).cumsum()`을 시각화하면 아래와 같다."
      ],
      "id": "ef881bad-11f5-4388-92c8-c4c819ae09ca"
    },
    {
      "cell_type": "code",
      "execution_count": 44,
      "metadata": {},
      "outputs": [
        {
          "output_type": "display_data",
          "metadata": {},
          "data": {
            "image/png": "[encoded data removed]"
          }
        }
      ],
      "source": [
        "plt.plot(np.array(pT).cumsum())"
      ],
      "id": "db93e188-c840-4a4f-a069-8fcf3fe22148"
    },
    {
      "cell_type": "markdown",
      "metadata": {},
      "source": [
        "그래프를 보니 발산할 것 같음\n",
        "\n",
        "`-` 결론: 계산해보면 (이론적으로든, 시뮬레이션을 이용하든) 이 예제의\n",
        "경우 아래와 같이 됨을 알 수 있다.\n",
        "\n",
        "-   경우1: $p>1/2$ $\\Rightarrow$\n",
        "    $\\sum_{t=0}^{\\infty} p_{00}^{(t)}<\\infty$. // state 0 is transient\n",
        "-   경우2: $p<1/2$ $\\Rightarrow$\n",
        "    $\\sum_{t=0}^{\\infty}p_{00}^{(t)}=\\infty$ with\n",
        "    $p_{00}^{(t)} \\rightarrow c$, $c>0$. // state 0 is positive\n",
        "    recurrent\n",
        "-   경우3: $p=1/2$ $\\Rightarrow$\n",
        "    $\\sum_{t=0}^{\\infty} p_{00}^{(t)}=\\infty$ with\n",
        "    $p_{00}^{(t)} \\rightarrow 0$. // state 0 is null recurrent\n",
        "\n",
        "`-` $p=0.45, p=0.5, p=0.55$ 일 경우 $\\sum_{t=0}^{\\infty}p_{00}^{(t)}$의\n",
        "값을 시각화"
      ],
      "id": "bc2ff29c-1f93-44f4-9ea6-c5848bca1b3e"
    },
    {
      "cell_type": "code",
      "execution_count": 45,
      "metadata": {},
      "outputs": [],
      "source": [
        "def calculate_pT(p): \n",
        "    P1 = np.array([[i-j == 1 for i in range(1000)] for j in range(1000)])*p\n",
        "    P2 = np.array([[j-i == 1 for i in range(1000)] for j in range(1000)])*(1-p)\n",
        "    P = P1+P2\n",
        "    P[0,0]= 1-p \n",
        "    \n",
        "    Pstar = P.copy()\n",
        "    pT = list()\n",
        "    pT.append(Pstar[0,0])\n",
        "    for t in range(1000):\n",
        "        Pstar = Pstar@P\n",
        "        pT.append(Pstar[0,0])    \n",
        "    return np.array(pT)"
      ],
      "id": "53451ee9-4887-4b35-84d7-78d773575193"
    },
    {
      "cell_type": "code",
      "execution_count": 46,
      "metadata": {},
      "outputs": [],
      "source": [
        "case1 = calculate_pT(0.55)\n",
        "case2 = calculate_pT(0.45)\n",
        "case3 = calculate_pT(0.50)"
      ],
      "id": "7ff2d9bc-100f-43cf-bb10-cb59a7295d75"
    },
    {
      "cell_type": "code",
      "execution_count": 58,
      "metadata": {},
      "outputs": [
        {
          "output_type": "display_data",
          "metadata": {},
          "data": {
            "image/png": "[encoded data removed]"
          }
        }
      ],
      "source": [
        "fig = plt.figure(figsize=(8,6))\n",
        "plt.plot(case1.cumsum(),label=r'$p=0.55$ $\\Rightarrow$ transient', color='C0')\n",
        "plt.plot(case2.cumsum(),label=r'$p=0.45$ $\\Rightarrow$ positive recurrent', color='C1')\n",
        "plt.plot(case3.cumsum(),label=r'$p=0.50$ $\\Rightarrow$ null recurrent', color='C2')\n",
        "plt.title('reflecting random walk with $p$',size=15)\n",
        "plt.legend()"
      ],
      "id": "5880308e-40b7-42f6-81a4-59e1c11d7a99"
    }
  ],
  "nbformat": 4,
  "nbformat_minor": 5,
  "metadata": {
    "kernelspec": {
      "name": "python3",
      "display_name": "Python 3",
      "language": "python"
    },
    "language_info": {
      "name": "python",
      "codemirror_mode": {
        "name": "ipython",
        "version": "3"
      },
      "file_extension": ".py",
      "mimetype": "text/x-python",
      "nbconvert_exporter": "python",
      "pygments_lexer": "ipython3",
      "version": "3.8.16"
    }
  }
}