{
  "cells": [
    {
      "cell_type": "markdown",
      "metadata": {},
      "source": [
        "# 08wk-1: 마코프체인 (4)\n",
        "\n",
        "최규빈  \n",
        "2023-04-20\n",
        "\n",
        "# 강의영상\n",
        "\n",
        "> youtube:\n",
        "> <https://youtube.com/playlist?list=PLQqh36zP38-yapWz131weSlgUlgS-0T98>\n",
        "\n",
        "-   영상2는 추후 재촬영예정임\n",
        "\n",
        "# imports"
      ],
      "id": "1da86525-67eb-4b7f-91fb-fc9b35f1d10f"
    },
    {
      "cell_type": "code",
      "execution_count": 2,
      "metadata": {},
      "outputs": [],
      "source": [
        "import numpy as np"
      ],
      "id": "bb0df1d3-4cca-4555-9fa7-b8c45c5a972a"
    },
    {
      "cell_type": "markdown",
      "metadata": {},
      "source": [
        "# Markovchain, Transition Matrix\n",
        "\n",
        "`-` **정의:** 카운터블한 상태공간 $E$을 가지는 이산시간 확률과정\n",
        "$\\{X_t\\}_{t\\geq 0}$을 고려하자. 아래가 성립한다면 확률과정 $\\{X_t\\}$을\n",
        "마코프체인(Markov chain, MC)라고 한다.\n",
        "\n",
        "-   $\\forall t\\geq 0, \\forall i_0,i_1,\\dots,i_{n-1},i,j \\in E$:\n",
        "\n",
        "$$\\mathbb{P}(X_{t+1}=j | X_t=i, X_{t-1}=i_{t-1}, \\dots, X_0=i_0) = \\mathbb{P}(X_{t+1}=j|X_t=i)$$\n",
        "\n",
        "만약에 $P(X_{t+1} =j | X_t=i)$가 모든 $t$에 대하여 일정하다면\n",
        "$\\{X_t\\}$를 균질마코프체인[1](homogeneous Markov chain, HMC) 라고 한다.\n",
        "\n",
        "`-` 정의: 아래의 수식을 마코프성질 (Markov property) 이라고 한다.\n",
        "\n",
        "-   $\\forall t\\geq 0, \\forall i_0,i_1,\\dots,i_{n-1},i,j \\in E$:\n",
        "\n",
        "$$\\mathbb{P}(X_{t+1}=j | X_t=i, X_{t-1}=i_{t-1}, \\dots, X_0=i_0) = \\mathbb{P}(X_{t+1}=j|X_t=i)$$\n",
        "\n",
        "`-` 정의: 카운터블한 상태공간 $E$를 가지는 HMC $\\{X_t\\}_{t\\geq 0}$를\n",
        "고려하자. 상태 $i$에서 상태 $j$로 바뀌는 조건부 확률\n",
        "\n",
        "$$p_{ij}=\\mathbb{P}(X_{t+1}=j | X_t=0)$$\n",
        "\n",
        "를 $\\{X_t\\}_{t\\geq 0}$의 전이확률(transition probability)라고 한다.\n",
        "\n",
        "`-` 전이확률의 특징: 이때 전이확률은 아래의 특징을 가진다.\n",
        "\n",
        "-   $p_{ij} \\geq 0$  \n",
        "-   $\\sum_{j\\in E}p_{ij}=1$\n",
        "\n",
        "첫번째 식은 확률이 양수이어야 한다는 내용이고[2] 두번째 식은 임의의\n",
        "시점에서 상태 $i$에 존재할 경우, 그 다음시점에서 상태집합 $V$ 중\n",
        "어딘가로는 이동해야한다는 의미이다.\n",
        "\n",
        "`-` 정의: 카운터블한 상태공간 $V$를 가지는 HMC $\\{X_t\\}_{t \\geq 0}$를\n",
        "고려하자. $p_{ij}$를 $\\{X_t\\}_{t\\geq 0}$의 전이확률이라고 하자.\n",
        "$(i,j)$-th 원소를 $p_{ij}$로 가지는 행렬 ${\\bf P}$를 전이확률행렬\n",
        "(transition probability matrix) 혹은 줄여서 전이행렬 (transition matrix)\n",
        "이라고 한다.\n",
        "\n",
        "`-` 참고($\\star$): 상태공간 $V$의 원소수가 무한일 수도 있으므로, 원래\n",
        "${\\bf P}$를 행렬이라고 하기에는 무리가 있다. 하지만 행렬의 덧셈, 행렬의\n",
        "곱셈과 같은 연산들은 일반적으로 잘 정의되므로 ${\\bf P}$를 행렬로 생각할\n",
        "수 있다. 이러한 ${\\bf P}$는 row와 col이 무한대로 있다고 생각하면 된다.\n",
        "\n",
        "-   $|E|=\\infty$ 인 경우 ${\\bf P}$의 예시:\n",
        "    ${\\bf P}=\\begin{bmatrix} p_{00} & p_{01} & \\cdots \\\\ p_{10} & p_{11} & \\cdots \\\\ \\cdots & \\cdots & \\cdots \\end{bmatrix}$\n",
        "\n",
        "`-` 전이행렬의 특징: 모든 row의 합이 1이다.\n",
        "\n",
        "-   $\\sum_{j \\in E}p_{ij} = 1$ 이어야 하므로\n",
        "\n",
        "# Distribution, Distribution Function\n",
        "\n",
        "`-` 예제1: 동전예제\n",
        "\n",
        "선언1: $(\\Omega, 2^{\\Omega}, \\mathbb{P})$ 를 확률공간이라고 하자.\n",
        "여기에서 확률 $\\mathbb{P}$은 아래와 같이 정의되는 set function 이다.\n",
        "\n",
        "-   $\\mathbb{P}(\\emptyset) = 0$\n",
        "-   $\\mathbb{P}(\\{H\\}) = 1/2$\n",
        "-   $\\mathbb{P}(\\{T\\}) = 1/2$\n",
        "-   $\\mathbb{P}(\\Omega) = 1$\n",
        "\n",
        "선언2: 확률변수 $X: (\\Omega, 2^\\Omega) \\to (V,2^V)$를 아래와 같이\n",
        "선언하자. (단, $V=\\{0,1\\}$)\n",
        "\n",
        "-   $X(H) = 0$\n",
        "-   $X(T) = 1$\n",
        "\n",
        "생각: 이제 $B \\in 2^V$ 에 대하여 아래와 같은 표현들을 고려하자.\n",
        "\n",
        "-   표현1: $\\mathbb{P}(X \\in B)$ // 고등학교 부터 쓰던 그 표현\n",
        "-   표현2: $\\mathbb{P}(\\{\\omega: X(\\omega) \\in B\\})$ // 이번에 배운\n",
        "    표현, 표현1의 정확한 버전\n",
        "-   표현3: $\\mathbb{P}(X^{-1}(B))$ // 표현2의 다른 버전, inverse image의\n",
        "    느낌이 확 살아 있음\n",
        "-   표현4: $(\\mathbb{P} \\circ X^{-1})(B)$ // 생각해보니까 이것도 가능함.\n",
        "    $\\mathbb{P}$, $X$ 모두 함수였잖아?\n",
        "\n",
        "새로운 함수 $\\mu:= \\mathbb{P}\\circ X^{-1}$는 이 경우 어떻게 정의할 수\n",
        "있을까?\n",
        "\n",
        "-   $\\mu(\\emptyset) = 0$\n",
        "-   $\\mu(\\{0\\}) = \\frac{1}{2}$\n",
        "-   $\\mu(\\{1\\}) = \\frac{1}{2}$\n",
        "-   $\\mu(\\{0,1\\}) = 1$\n",
        "\n",
        "표현1과 4만 모아서 살펴보면 아래와 같다.\n",
        "\n",
        "-   $\\mu(\\emptyset) = 0$ $\\Leftrightarrow$\n",
        "    $\\mathbb{P}(X \\notin \\{0,1\\})=0$\n",
        "-   $\\mu(\\{0\\}) = \\frac{1}{2}$ $\\Leftrightarrow$ $\\mathbb{P}(X=0)$  \n",
        "-   $\\mu(\\{1\\}) = \\frac{1}{2}$ $\\Leftrightarrow$ $\\mathbb{P}(X=1\\})$\n",
        "-   $\\mu(\\{0,1\\}) = \\frac{1}{2}$ $\\Leftrightarrow$\n",
        "    $\\mathbb{P}(X\\in \\{0,1\\})$ $\\Leftrightarrow$ $\\mathbb{P}(X\\leq 1)$\n",
        "\n",
        "`-` 예제2: 동전예제(2)\n",
        "\n",
        "$(V,2^V)$ 대신에 $(\\mathbb{R},{\\cal R})$ 으로 바꾸어도 위의 동전예제는\n",
        "잘 정의된다.\n",
        "\n",
        "선언1: $(\\Omega, 2^{\\Omega}, \\mathbb{P})$ 를 확률공간이라고 하자.\n",
        "여기에서 확률 $\\mathbb{P}$은 아래와 같이 정의되는 set function 이다.\n",
        "\n",
        "-   $\\mathbb{P}(\\emptyset) = 0$\n",
        "-   $\\mathbb{P}(\\{H\\}) = 1/2$\n",
        "-   $\\mathbb{P}(\\{T\\}) = 1/2$\n",
        "-   $\\mathbb{P}(\\Omega) = 1$\n",
        "\n",
        "선언2: 확률변수 $X: (\\Omega, 2^\\Omega) \\to (\\mathbb{R},{\\cal R})$를\n",
        "아래와 같이 선언하자.\n",
        "\n",
        "-   $X(H) = 0$\n",
        "-   $X(T) = 1$\n",
        "\n",
        "생각: 이제 $B \\in {\\cal R}$ 에 대한 표현들. 편의상 $B=\\{b: b\\leq 0.5\\}$\n",
        "라고 가정하자.\n",
        "\n",
        "-   표현1:\n",
        "    $\\mathbb{P}(X \\in B)=\\mathbb{P}(X\\leq 0.5)=\\mathbb{P}(X=0)=\\frac{1}{2}$\n",
        "-   표현2: 생략\n",
        "-   표현3: 생략\n",
        "-   표현4: $(\\mathbb{P} \\circ X^{-1})((-\\infty,0.5])$\n",
        "\n",
        "표현1과 4만 모아서 살펴보면 아래와 같다.\n",
        "\n",
        "-   $\\mu((-\\infty,x])$ $\\Leftrightarrow$ $\\mathbb{P}(X \\leq x)$\n",
        "-   $\\mu(A)$ $\\Leftrightarrow$ $\\mathbb{P}(X\\in A)$\n",
        "\n",
        "`-` 생각의 시간\n",
        "\n",
        "$(\\Omega,{\\cal F}, \\mathbb{P})$가 확률공간이고 $X \\to \\mathbb{R}$이\n",
        "확률변수라면, $\\mu$는 언제나 잘 정의된다.\n",
        "\n",
        "-   모든 $B \\in {\\cal R}$에 대하여 $X^{-1}(B)$가 시그마필드의 원소가\n",
        "    아닐 수 없다. (만약 그렇다면 $X$는 확률변수가 아닌걸?)\n",
        "-   모든 $B \\in {\\cal R}$에 대하여 $\\mathbb{P}(X^{-1}(B))$의 값을\n",
        "    모순되게 정의할 수 없다. (만약 그렇다면\n",
        "    $(\\Omega, {\\cal F}, \\mathbb{P})$는 확률공간이 아닌걸?)\n",
        "\n",
        "결론: $\\mu$는 안전해!\n",
        "\n",
        "`-` $\\mu$도 메져의 조건을 만족한다.\n",
        "\n",
        "-   정의역이 시그마필드임\n",
        "-   $\\forall B \\in {\\cal R}:~ \\mu(B)\\geq 0$.\n",
        "-   $\\forall B_1,B_2,\\dots \\in {\\cal R}$ such that $B_1,B_2 \\dots$ are\n",
        "    disjoint: $\\sum_{i=1}^{n}\\mu(B_i) = \\mu(\\uplus_{i=1}^{\\infty}B_i)$\n",
        "\n",
        "`-` $\\mu$를 부르는 용어 ($\\star\\star\\star$): $X$를 확률공간\n",
        "$(\\Omega, {\\cal F}, \\mathbb{P})$에서 정의된 확률변수라고 하자. 이때\n",
        "$X^{-1}\\circ \\mathbb{P}$로 정의가능한 함수 $\\mu: {\\cal R} \\to [0,1]$ 를\n",
        "$X$의 distribution 이라고 부른다.\n",
        "\n",
        "`-` $F(x)$의 정의: $X$를 확률공간 $(\\Omega, {\\cal F}, \\mathbb{P})$에서\n",
        "정의된 확률변수라고 하자. $F: \\mathbb{R} \\to [0,1]$ 인 함수를 아래와\n",
        "같이 정의하자.\n",
        "\n",
        "$$F(x) = \\mu((-\\infty, x])$$\n",
        "\n",
        "이러한 함수 $F$는 아래와 같이 표현할 수 있다.\n",
        "\n",
        "$$F(x) = \\mathbb{P}(X \\leq x)$$\n",
        "\n",
        "함수 $F$를 확률변수 $X$의 distribution function 이라고 한다.\n",
        "\n",
        "`-` 참고사항 (그냥 교양임, 시험에 안냄):\n",
        "\n",
        "-   $\\mu$가 언제나 잘 정의되므로 $F(x)$도 언제나 잘 정의된다.\n",
        "-   $F(x)$는 어떠한 성질들을 가진다. (비감소함수, 오른쪽연속 등..)\n",
        "-   $F(x)$는 $F(x)= F_c(x) + F_s(x) + F_d(x)$ 와 같이 분해가능하다.\n",
        "-   $F(x)=F_c(x)$라면 $F(x)$는 연속형확률변수의 cdf가 된다.\n",
        "    $F(x)=F_d(x)$라면, $F(x)$는 이산형확률변수의 cdf가 된다.\n",
        "-   $F(x)=F_c(x)+F_d(X)$라면 혼합형확률변수의 cdf가 된다.\n",
        "-   $F(x)=F_s(x)$인 경우는 pdf, pmf가 존재하지 않는다.\n",
        "\n",
        "`-` Borel sets (어떤 학생이 헷갈려해서.. 제가 헷갈리게 설명해서..)\n",
        "\n",
        "-   $\\Omega=\\mathbb{R}$ 일때 $2^{\\mathbb{R}}$ 역시 시그마필드임.\n",
        "-   따라서 적당한 메져가 존재하여 $2^\\mathbb{R}$의 모든 집합을 잴 수\n",
        "    있음. (모든 원소를 0으로 측정하는 메져라든가..)\n",
        "-   하지만 르벡메져는 $2^{\\mathbb{R}}$의 모든 원소를 잴 수 없음. 따라서\n",
        "    $2^{\\mathbb{R}}$의 모든 원소에서 확률을 정의하는 것이 불가능함.\n",
        "-   그러나 $\\Omega=\\mathbb{R}$일때 ${\\cal R}$이라는 시그마필드는 모든\n",
        "    원소에서 확률을 정의할 수 있음.\n",
        "-   ${\\cal R}$을 Borel sets 이라고 부름.\n",
        "\n",
        "`-` $\\mathbb{R}$을 포함하는 Borel sets 은 ${\\cal B}(\\mathbb{R})$로\n",
        "표현하기도 함. 즉 ${\\cal R} = {\\cal B}(\\mathbb{R})$ 이다.\n",
        "\n",
        "# The Stationary Distribution of an HMC\n",
        "\n",
        "`-` 정의: stationary distribution (정확한 버전)\n",
        "\n",
        "$(E,{\\cal B}(E))$를 잴 수 있는 공간이라고 하고 $\\mu$를\n",
        "$(E,{\\cal B}(E))$에서의 distribution 이라고 하자. 만약에 아래식을\n",
        "만족하면 $\\mu$ 를 stationary distribution 이라고 한다.\n",
        "\n",
        "$$\\mu p = \\mu$$\n",
        "\n",
        "여기에서 $\\mu p(\\{x\\}):= \\sum_{y \\in E} \\mu(\\{y\\})p_{yx}$ 를 의미한다.\n",
        "\n",
        "`-` 정의: stationary distribution (쉬운버전)\n",
        "\n",
        "아래식을 만족하는 distribution ${\\boldsymbol \\mu}$ 를 stationary\n",
        "distribution 이라고 한다.\n",
        "\n",
        "$${\\boldsymbol \\mu}^\\top{\\bf P} = {\\boldsymbol \\mu}^\\top$$\n",
        "\n",
        "`-` 예시1: 아래와 같은 transition matrix를 고려하자.\n",
        "\n",
        "[1] 진짜 억지로 변형한것, 마땅한 한글용어가 없음\n",
        "\n",
        "[2] 쓸모없는 내용"
      ],
      "id": "c3e2bd20-d887-42cf-846d-b0f2672bdf7e"
    },
    {
      "cell_type": "code",
      "execution_count": 4,
      "metadata": {},
      "outputs": [],
      "source": [
        "P = np.array([[0.2,0.8],\n",
        "              [0.3,0.7]])\n",
        "P"
      ],
      "id": "62639d53-0480-4719-9c5e-bca52e914308"
    },
    {
      "cell_type": "markdown",
      "metadata": {},
      "source": [
        "수렴할까?"
      ],
      "id": "561612ca-b8b1-4388-b400-4a58e2f3a5bf"
    },
    {
      "cell_type": "code",
      "execution_count": 16,
      "metadata": {},
      "outputs": [],
      "source": [
        "np.linalg.matrix_power(P,50)"
      ],
      "id": "d906e6b6-2037-44bc-bc15-a33d444094ba"
    },
    {
      "cell_type": "markdown",
      "metadata": {},
      "source": [
        "결과분석\n",
        "\n",
        "1.  특징1: ${\\bf P}^{\\star}$로 수렴한다.\n",
        "2.  특징2: 수렴한 매트릭스를 세로로 읽으면 값이 같다. $\\Rightarrow$ …\n",
        "    $\\Rightarrow$ ${\\bf P}^{\\star}$의 아무 row나 가져오면 정상분포가\n",
        "    된다.\n",
        "3.  특징3: ${\\boldsymbol \\pi}^\\top {\\bf P} = {\\boldsymbol \\pi}^\\top$\n",
        "    $\\Leftarrow$\n",
        "    $({\\boldsymbol \\mu}^\\top{\\bf P}^\\star) {\\bf P} ={\\boldsymbol \\pi}^\\top$\n",
        "4.  특징4: 초기분포에 ${\\boldsymbol \\pi}^\\top$을 대입하면 $\\{X_t\\}$는\n",
        "    동일한 분포를 가진다.\n",
        "\n",
        "`-` 예시2: 아래와 같은 transition matrix를 고려하자."
      ],
      "id": "f8db7e79-522d-4031-84f0-5a2042d8f1e6"
    },
    {
      "cell_type": "code",
      "execution_count": 17,
      "metadata": {},
      "outputs": [],
      "source": [
        "P = np.array([[0.4,0.6],\n",
        "              [0.9,0.1]])\n",
        "P"
      ],
      "id": "7f030188-013a-4a91-aa8d-85a497506e77"
    },
    {
      "cell_type": "markdown",
      "metadata": {},
      "source": [
        "수렴할까?"
      ],
      "id": "37952df5-a1d9-4905-9e9c-20aa4b2795df"
    },
    {
      "cell_type": "code",
      "execution_count": 18,
      "metadata": {},
      "outputs": [],
      "source": [
        "np.linalg.matrix_power(P,50)"
      ],
      "id": "968f83cd-8c90-4ecc-a6ff-678e9b8de1f0"
    },
    {
      "cell_type": "markdown",
      "metadata": {},
      "source": [
        "결과분석\n",
        "\n",
        "1.  특징1: ${\\bf P}^{\\star}$로 수렴한다.\n",
        "2.  특징2: 수렴한 매트릭스를 세로로 읽으면 값이 같다. $\\Rightarrow$ …\n",
        "    $\\Rightarrow$ ${\\bf P}^{\\star}$의 아무 row나 가져오면 정상분포가\n",
        "    된다.\n",
        "3.  특징3: ${\\boldsymbol \\pi}^\\top {\\bf P} = {\\boldsymbol \\pi}^\\top$\n",
        "    $\\Leftarrow$\n",
        "    $({\\boldsymbol \\mu}^\\top{\\bf P}^\\star) {\\bf P} ={\\boldsymbol \\pi}^\\top$\n",
        "4.  특징4: 초기분포에 ${\\boldsymbol \\pi}^\\top$을 대입하면 $\\{X_t\\}$는\n",
        "    동일한 분포를 가진다.\n",
        "\n",
        "`-` 예시3: 어지간하면 다 수렴할 것 같으니까 아래와 같이 특이한\n",
        "transition matrix를 고려하자."
      ],
      "id": "808ac4c2-2b5a-470e-863a-28799632113e"
    },
    {
      "cell_type": "code",
      "execution_count": 23,
      "metadata": {},
      "outputs": [],
      "source": [
        "P = np.array([[1.0, 0.0],\n",
        "              [0.05,0.95]])\n",
        "P"
      ],
      "id": "ccd2a019-692f-4b7a-87e4-ee7f6d1c4f8d"
    },
    {
      "cell_type": "code",
      "execution_count": 63,
      "metadata": {},
      "outputs": [],
      "source": [
        "np.linalg.matrix_power(P,50)"
      ],
      "id": "af5cc91b-61b4-4117-9ecf-568335350d13"
    },
    {
      "cell_type": "markdown",
      "metadata": {},
      "source": [
        "수렴안하나?"
      ],
      "id": "236e17a7-c10e-4b18-83c8-d9a930ecbb19"
    },
    {
      "cell_type": "code",
      "execution_count": 64,
      "metadata": {},
      "outputs": [],
      "source": [
        "np.linalg.matrix_power(P,100)"
      ],
      "id": "c13e358b-a25e-40ae-b6de-f7fd8ec09c02"
    },
    {
      "cell_type": "code",
      "execution_count": 65,
      "metadata": {},
      "outputs": [],
      "source": [
        "np.linalg.matrix_power(P,500)"
      ],
      "id": "85f028e8-78ed-4fe6-944a-4d544263bbee"
    },
    {
      "cell_type": "markdown",
      "metadata": {},
      "source": [
        "결국에는 한다.\n",
        "\n",
        "결과분석\n",
        "\n",
        "1.  특징1: ${\\bf P}^{\\star}$로 수렴한다.\n",
        "2.  특징2: 수렴한 매트릭스를 세로로 읽으면 값이 같다. $\\Rightarrow$ …\n",
        "    $\\Rightarrow$ ${\\bf P}^{\\star}$의 아무 row나 가져오면 정상분포가\n",
        "    된다.\n",
        "3.  특징3: ${\\boldsymbol \\pi}^\\top {\\bf P} = {\\boldsymbol \\pi}^\\top$\n",
        "    $\\Leftarrow$\n",
        "    $({\\boldsymbol \\mu}^\\top{\\bf P}^\\star) {\\bf P} ={\\boldsymbol \\pi}^\\top$\n",
        "4.  특징4: 초기분포에 ${\\boldsymbol \\pi}^\\top$을 대입하면 $\\{X_t\\}$는\n",
        "    동일한 분포를 가진다.\n",
        "\n",
        "`-` 공식 (쓸모없는): transition matrix 가 아래와 같은 (2,2)-matrix이라고\n",
        "하자.\n",
        "\n",
        "-   ${\\bf P} = \\begin{bmatrix} 1-a & a \\\\ b & 1-b \\end{bmatrix}$\n",
        "\n",
        "그러면 대응하는 정상확률분포는 아래와 같다.\n",
        "\n",
        "-   $\\pi_0= \\frac{b}{a+b}$\n",
        "-   $\\pi_1= \\frac{a}{a+b}$\n",
        "\n",
        "예시1의 경우를 이 공식에 넣으면"
      ],
      "id": "9234b932-78cf-4e9f-a11a-41535ecfbcb8"
    },
    {
      "cell_type": "code",
      "execution_count": 17,
      "metadata": {},
      "outputs": [],
      "source": [
        "0.3/(0.8+0.3),0.8/(0.8+0.3)"
      ],
      "id": "aa3e3b0c-40bd-4cca-b2e6-a8af14ba36f9"
    },
    {
      "cell_type": "markdown",
      "metadata": {},
      "source": [
        "예시2의 경우를 이 공식에 넣으면"
      ],
      "id": "0775c0fd-e7ce-401d-8101-4755eec0ccb4"
    },
    {
      "cell_type": "code",
      "execution_count": 31,
      "metadata": {},
      "outputs": [],
      "source": [
        "0.9/(0.6+0.9), 0.6/(0.6+0.9)"
      ],
      "id": "d1803a2c-d487-43ba-8dbb-a2e063950731"
    },
    {
      "cell_type": "markdown",
      "metadata": {},
      "source": [
        "예시3의 경우를 이 공식에 넣으면"
      ],
      "id": "c38d7ea9-1355-4894-a987-c9173af67d66"
    },
    {
      "cell_type": "code",
      "execution_count": 41,
      "metadata": {},
      "outputs": [],
      "source": [
        "0.05/(0+0.05) , 0/(0+0.05)"
      ],
      "id": "f16431b4-2fbc-43c4-b176-837284b44dab"
    },
    {
      "cell_type": "markdown",
      "metadata": {},
      "source": [
        "`-` 예시4: $a+b=0$ 이라면?"
      ],
      "id": "c6e22a5b-af16-4b3f-a173-a3dabc2c888c"
    },
    {
      "cell_type": "code",
      "execution_count": 33,
      "metadata": {},
      "outputs": [],
      "source": [
        "P = np.array([[1.0, 0.0],\n",
        "              [0.0, 1.0]])\n",
        "P"
      ],
      "id": "6cc52108-04c3-4058-b33e-824eed4fae20"
    },
    {
      "cell_type": "markdown",
      "metadata": {},
      "source": [
        "수렴은 할텐데..\n",
        "\n",
        "결과분석\n",
        "\n",
        "1.  특징1: ${\\bf P}^{\\star}$로 수렴한다.\n",
        "2.  특징2: 수렴한 매트릭스를 세로로 읽으면 값이 다르다?\n",
        "3.  특징3: 어?\n",
        "4.  특징4: 어????? (이건 그냥 되는데?)\n",
        "\n",
        "**특징3**: 정상분포\n",
        "\n",
        "일단 모든 ${\\boldsymbol \\mu}$에 대하여 아래가 성립하긴한다.\n",
        "\n",
        "$${\\boldsymbol \\mu}^\\top {\\bf P} =  {\\boldsymbol \\mu}^\\top$$\n",
        "\n",
        "따라서 이 경우 모든 확률측도 ${\\boldsymbol \\mu}$는 정상분포가 된다.\n",
        "**유일한 정상분포를 가지지 않는다!!**\n",
        "\n",
        "**특징4**: 정상확률과정\n",
        "\n",
        "${\\bf P}= {\\bf I}$ 이므로 당연히 $\\{X_t\\}$는 모든 $t\\geq 0$에 대하여\n",
        "동일한 분포를 가진다.\n",
        "\n",
        "`-` 예시5 ($\\star\\star\\star$)"
      ],
      "id": "bce248a7-a9b6-4187-9dbe-650ab50c0f7b"
    },
    {
      "cell_type": "code",
      "execution_count": 35,
      "metadata": {},
      "outputs": [],
      "source": [
        "P = np.array([[0.0, 1.0],\n",
        "              [1.0, 0.0]])\n",
        "P"
      ],
      "id": "a494d29c-1faf-48ab-afd8-b8f1da0a5aad"
    },
    {
      "cell_type": "code",
      "execution_count": 68,
      "metadata": {},
      "outputs": [],
      "source": [
        "P@P"
      ],
      "id": "f088ab16-1ad1-4fa9-8dc1-624f41821e9c"
    },
    {
      "cell_type": "code",
      "execution_count": 69,
      "metadata": {},
      "outputs": [],
      "source": [
        "P@P@P"
      ],
      "id": "abfdf080-af72-4fca-8830-26b76ec8d32b"
    },
    {
      "cell_type": "markdown",
      "metadata": {},
      "source": [
        "결과분석\n",
        "\n",
        "1.  특징1: 수렴을 안하는데?\n",
        "2.  특징2:\n",
        "3.  특징3:\n",
        "4.  특징4:\n",
        "\n",
        "**특징3**: 정상분포\n",
        "\n",
        "만약에 ${\\boldsymbol \\pi}=\\begin{bmatrix} 1/2 \\\\ 1/2 \\end{bmatrix}$ 로\n",
        "설정한다면 아래가 성립한다.\n",
        "\n",
        "$${\\boldsymbol \\pi}^\\top {\\bf P} =  {\\boldsymbol \\pi}^\\top$$\n",
        "\n",
        "따라서 ${\\boldsymbol \\pi}$는 정상분포가 된다.\n",
        "\n",
        "**특징4**: 정상확률과정\n",
        "\n",
        "만약에 ${\\boldsymbol \\pi}=\\begin{bmatrix} 1/2 \\\\ 1/2 \\end{bmatrix}$ 로\n",
        "설정한다면 $\\{X_t\\}$는 모든 $t\\geq 0$에 대하여 동일한 분포를 가진다.\n",
        "\n",
        "`-` 생각의 시간\n",
        "\n",
        "|                 | 특징1(수렴) | 특징2(동일row) | 특징3(정상분포) | 특징4(정상과정) |\n",
        "|:---------------:|:-----------:|:--------------:|:---------------:|:---------------:|\n",
        "|  예시1(나이스)  |      O      |       O        |  존재O, 유일O   |        O        |\n",
        "|  예시2(나이스)  |      O      |       O        |  존재O, 유일O   |        O        |\n",
        "|   예시3(흡수)   |      O      |       O        |  존재O, 유일O   |        O        |\n",
        "| 예시4(단위행렬) |      O      |       X        |  존재O, 유일X   |        O        |\n",
        "|   예시5(주기)   |      X      |       NA       |  존재O, 유일O   |        O        |\n",
        "\n",
        "특징3에서 정상분포가 존재하면 특징4는 그냥 성립한다. 지금까지 살펴본\n",
        "예제에서는 모두 정상분포가 존재했다. 혹시 정상분포가 존재하지 않을 수도\n",
        "있을까?\n",
        "\n",
        "`-` **Thm**: finite state를 가지는 HMC는 정상분포가 최소한 1개는\n",
        "존재한다."
      ],
      "id": "31be34f7-8b01-4ffd-8e43-91c5384e5613"
    }
  ],
  "nbformat": 4,
  "nbformat_minor": 5,
  "metadata": {
    "celltoolbar": "Slideshow",
    "kernelspec": {
      "name": "python3",
      "display_name": "Python 3",
      "language": "python"
    },
    "language_info": {
      "name": "python",
      "codemirror_mode": {
        "name": "ipython",
        "version": "3"
      },
      "file_extension": ".py",
      "mimetype": "text/x-python",
      "nbconvert_exporter": "python",
      "pygments_lexer": "ipython3",
      "version": "3.8.16"
    }
  }
}