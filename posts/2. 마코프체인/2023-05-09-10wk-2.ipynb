{
 "cells": [
  {
   "cell_type": "raw",
   "id": "3e86231c-c3f0-4211-a272-c7195010ab21",
   "metadata": {},
   "source": [
    "---\n",
    "title: \"10wk-2: 마코프체인 (7)\"\n",
    "author: \"최규빈\"\n",
    "date: \"05/09/2023\"\n",
    "bibliography: ref.bib\n",
    "---"
   ]
  },
  {
   "cell_type": "markdown",
   "id": "dfc048f0-7419-4c1e-91b7-219395c784e9",
   "metadata": {},
   "source": [
    "# 강의영상 "
   ]
  },
  {
   "cell_type": "markdown",
   "id": "555b6a5b-c1f6-4857-a195-31d60767594d",
   "metadata": {},
   "source": [
    "> youtube: <https://youtube.com/playlist?list=PLQqh36zP38-yMXZ2TSGxoh-rIjn8vp6cV>"
   ]
  },
  {
   "cell_type": "markdown",
   "id": "08149c63-7aef-43f1-8fed-65ce6a718318",
   "metadata": {},
   "source": [
    "# imports"
   ]
  },
  {
   "cell_type": "code",
   "execution_count": 6,
   "id": "bdc50f7b-20a8-46f1-9b97-dac111778e75",
   "metadata": {},
   "outputs": [],
   "source": [
    "import numpy as np"
   ]
  },
  {
   "cell_type": "markdown",
   "id": "60164274-e9d8-4252-9a9e-82fd0d64556a",
   "metadata": {},
   "source": [
    "# LLN의 확장 -- 정상분포 관련내용"
   ]
  },
  {
   "cell_type": "markdown",
   "id": "a88246f1-74c0-455f-b6cc-1dbd5099ef2e",
   "metadata": {},
   "source": [
    "`-` 유일한 정상분포를 가진다는 것을 알고 있다고 하자. 이를 쉽고 편하게 구하는 방법? \n",
    "\n",
    "- 배운것1: 문제를 잘 이해하고 ${\\boldsymbol \\pi}^\\top = {\\boldsymbol \\pi}^\\top {\\bf P}$ 에 맞는 분포를 때려맞춤. \n",
    "- 배운것2: 고유값, 고유벡터의 개념을 이용하여 찾아냄 "
   ]
  },
  {
   "cell_type": "markdown",
   "id": "aaceb583-2a93-4226-bdfb-f39cb564fa35",
   "metadata": {},
   "source": [
    "`-` **정리(큰 수의 법칙)**: 확률변수열 $\\{X_t\\}_{t \\in \\mathbb{N}_0}$ 이 서로 독립이고 동일한 분포를 가진다고 하자. 또한 $\\mathbb{E}[|X_0|]<\\infty$ 이라고 가정하자. 그러면 아래가 성립한다. \n",
    "\n",
    "$$\\lim_{T\\to\\infty} \\frac{1}{T}\\sum_{t=0}^{T-1}X_t = \\mathbb{E}_{\\pi}[X_0]$$\n",
    "\n",
    "단, 여기에서 $\\pi$는 $X_0$의 분포이다. "
   ]
  },
  {
   "cell_type": "markdown",
   "id": "da4e13a1-66f4-4dc7-97d9-e77dd1d42aed",
   "metadata": {},
   "source": [
    "`-` **Thm** (에르고딕정리): 확률변수열 $\\{X_t\\}_{t \\in \\mathbb{N}_0}$이 finite and irreducible HMC 라고 하자. 그러면 임의의 함수 $f:S \\to \\mathbb{R}$에 대하여 아래가 성립한다. \n",
    "\n",
    "$$\\lim_{T\\to\\infty} \\frac{1}{T}\\sum_{t=0}^{T-1}f(X_t) = \\mathbb{E}_{\\boldsymbol \\pi}[f(X_0)]$$\n",
    "\n",
    "여기에서 $\\boldsymbol \\pi$는 ${\\boldsymbol \\pi}^\\top = {\\boldsymbol \\pi}^\\top{\\bf P}$를 만족하는 **유일한** 정상분포이고 ${\\bf P}$는 $\\{X_t\\}$의 transition matrix 이다."
   ]
  },
  {
   "cell_type": "markdown",
   "id": "0d2bb386-83f2-46f1-b35d-b51c4ac27c86",
   "metadata": {},
   "source": [
    "`-` ($f$의 해석) 만약에 $$f(i)= I(i=0)=\\begin{cases} 1 & i = 0 \\\\ 0 & o.w\\end{cases}$$ 이라고 하자. 그러면 위의 이론은 아래와 같이 변경된다. \n",
    "\n",
    "$$\\lim_{T\\to\\infty} \\frac{1}{T}\\sum_{t=0}^{T-1}I(X_t=0) =\\mathbb{E}_{\\pi}[I(X_0=0)] = \\mathbb{P}_{\\pi}[X_0=0]=\\pi_0$$"
   ]
  },
  {
   "cell_type": "markdown",
   "id": "e5af03dd-ac22-4168-b305-ae540c620bec",
   "metadata": {},
   "source": [
    "> 이 이론의 의미: 우리가 만약에 어떠한 마코프체인이 유일한 정상분포를 가진다는 사실을 알고 있다고 가정하자. 그럴때 에르고딕 정리를 이용하면 정상분포의 값을 시간평균으로 근사할 수 있다는 의미이다. "
   ]
  },
  {
   "cell_type": "markdown",
   "id": "ad5f2e08-d0d2-4645-bc37-a22412ada1ac",
   "metadata": {},
   "source": [
    "## 예제1: 단위행렬 "
   ]
  },
  {
   "cell_type": "markdown",
   "id": "42fc522f-c80b-463c-84cb-4cb538c6f11a",
   "metadata": {},
   "source": [
    "HMC $\\{X_t\\}$의 전이행렬이 아래와 같다고 하자. "
   ]
  },
  {
   "cell_type": "code",
   "execution_count": 7,
   "id": "0b17772d-cbb1-4f40-b668-8e4fbb2b7e43",
   "metadata": {},
   "outputs": [
    {
     "data": {
      "text/plain": [
       "array([[1, 0],\n",
       "       [0, 1]])"
      ]
     },
     "execution_count": 7,
     "metadata": {},
     "output_type": "execute_result"
    }
   ],
   "source": [
    "P = np.array([[1,0],\n",
    "              [0,1]])\n",
    "P"
   ]
  },
  {
   "cell_type": "markdown",
   "id": "4ef8d384-0992-42de-94c3-49a40ffdfe5a",
   "metadata": {},
   "source": [
    "$\\{X_t\\}$는 유일한 정상분포를 가지는가? 가진다면 시간평균을 이용하여 정상분포를 근사하라."
   ]
  },
  {
   "cell_type": "markdown",
   "id": "78742f35-e860-4e87-b07a-c38f0f75ab82",
   "metadata": {},
   "source": [
    "(풀이)"
   ]
  },
  {
   "cell_type": "markdown",
   "id": "064fcda9-f818-40a4-97a0-e63ef87331f1",
   "metadata": {},
   "source": [
    "이 경우는 IRR 조건이 만족되지 않으므로 유일한 정상분포가 존재하지 않음. 그래서 에르고딕정리를 이용할 수 없다. "
   ]
  },
  {
   "cell_type": "markdown",
   "id": "e6b691ab-654c-4545-9a09-02299f189d56",
   "metadata": {},
   "source": [
    "## 예제2: 순환이동 "
   ]
  },
  {
   "cell_type": "markdown",
   "id": "f8e32239-2ee8-4db6-a372-49641fb623a3",
   "metadata": {},
   "source": [
    "HMC $\\{X_t\\}$의 전이행렬이 아래와 같다고 하자. "
   ]
  },
  {
   "cell_type": "code",
   "execution_count": 8,
   "id": "2d933f82-692c-4c42-ad99-c4b4955515a8",
   "metadata": {},
   "outputs": [
    {
     "data": {
      "text/plain": [
       "array([[0, 1],\n",
       "       [1, 0]])"
      ]
     },
     "execution_count": 8,
     "metadata": {},
     "output_type": "execute_result"
    }
   ],
   "source": [
    "P = np.array([[0,1],\n",
    "              [1,0]])\n",
    "P"
   ]
  },
  {
   "cell_type": "markdown",
   "id": "0327f80f-5472-442d-b8b3-b2b291c4fdb3",
   "metadata": {},
   "source": [
    "$\\{X_t\\}$는 유일한 정상분포를 가지는가? 가진다면 시간평균을 이용하여 정상분포를 구하여라. "
   ]
  },
  {
   "cell_type": "markdown",
   "id": "514d009b-f1d4-41ce-b715-9e5093ce10b2",
   "metadata": {},
   "source": [
    "(풀이)"
   ]
  },
  {
   "cell_type": "markdown",
   "id": "cbe5b518-e6ed-44ea-aaeb-747a5afe4760",
   "metadata": {},
   "source": [
    "$\\{X_t\\}$는 finite and irreducible HMC 이므로 유일한 정상분포를 가진다. 시뮬레이션을 한다면 \n",
    "\n",
    "- $0,1,0,1,0,1,0, \\dots$\n",
    "- $1,0,1,0,1,0,1, \\dots$\n",
    "\n",
    "중 하나의 열(array)이 관찰 될 것이고 두 경우 모두 \n",
    "\n",
    "- $\\big(\\frac{1}{T}\\sum_{t=0}^{T-1}I(X_t=0),\\frac{1}{T}\\sum_{t=0}^{T-1}I(X_t=1)\\big)=(\\hat{\\pi}_0,\\hat{\\pi}_1)\\approx (1/2,1/2)$\n",
    "\n",
    "와 같이 구할 수 있음 "
   ]
  },
  {
   "cell_type": "markdown",
   "id": "773bd566-634f-47db-b4c2-ed56b5bde7ad",
   "metadata": {},
   "source": [
    "## 예제3: 비가 온다, 안온다 "
   ]
  },
  {
   "cell_type": "markdown",
   "id": "3ab0aa0c-488e-4f1e-a067-6475b86f4005",
   "metadata": {},
   "source": [
    "HMC $\\{X_t\\}$의 전이행렬이 아래와 같다고 하자. "
   ]
  },
  {
   "cell_type": "code",
   "execution_count": 9,
   "id": "f7b7328e-ea1a-4903-8d0a-84c60841e79c",
   "metadata": {},
   "outputs": [
    {
     "data": {
      "text/plain": [
       "array([[0.4, 0.6],\n",
       "       [0.7, 0.3]])"
      ]
     },
     "execution_count": 9,
     "metadata": {},
     "output_type": "execute_result"
    }
   ],
   "source": [
    "P = np.array([[0.4,0.6],\n",
    "              [0.7,0.3]])\n",
    "P"
   ]
  },
  {
   "cell_type": "markdown",
   "id": "5841c9be-2b0b-4cdf-af9b-c0549fdbfe58",
   "metadata": {},
   "source": [
    "$\\{X_t\\}$는 유일한 정상분포를 가지는가? 가진다면 시간평균을 이용하여 정상분포를 구하여라. "
   ]
  },
  {
   "cell_type": "markdown",
   "id": "f16fea96-68ee-418d-9b89-4c88c01519c6",
   "metadata": {},
   "source": [
    "(풀이) 이 강의노트의 [풀이4](https://guebin.github.io/SP2023/posts/2.%20마코프체인/2023-04-13-7wk-1.html)"
   ]
  },
  {
   "cell_type": "code",
   "execution_count": 10,
   "id": "b9364476-8536-46cc-84a5-0387eb12d085",
   "metadata": {},
   "outputs": [],
   "source": [
    "def rain(before):\n",
    "    if before == True: # 비가 왔음 \n",
    "        after = np.random.rand() < 0.3\n",
    "    else: # 비가 안왔음 \n",
    "        after = np.random.rand() < 0.6 \n",
    "    return after "
   ]
  },
  {
   "cell_type": "code",
   "execution_count": 11,
   "id": "7b6f237d-5179-4d01-9fcb-bf30e8128673",
   "metadata": {},
   "outputs": [],
   "source": [
    "def doctor_strange(today):\n",
    "    lst = [today]\n",
    "    for i in range(10000): \n",
    "        lst.append(rain(lst[i]))\n",
    "    return lst "
   ]
  },
  {
   "cell_type": "code",
   "execution_count": 12,
   "id": "8dd6b7b2-20a2-4836-ae21-943858aa0c2c",
   "metadata": {},
   "outputs": [
    {
     "data": {
      "text/plain": [
       "0.4616"
      ]
     },
     "execution_count": 12,
     "metadata": {},
     "output_type": "execute_result"
    }
   ],
   "source": [
    "np.mean(doctor_strange(True)[1:])"
   ]
  },
  {
   "cell_type": "markdown",
   "id": "c9b0f284-831d-4179-a558-7ccfe13fbfd7",
   "metadata": {},
   "source": [
    "# 정리"
   ]
  },
  {
   "cell_type": "markdown",
   "id": "36e86282-1544-4630-8b67-2d91b83e2153",
   "metadata": {},
   "source": [
    "$\\{X_t\\}$는 HMC 라고 하자. "
   ]
  },
  {
   "cell_type": "markdown",
   "id": "4ef3d80e-9a92-41c8-94b9-98d698120f67",
   "metadata": {},
   "source": [
    "|CaseNO|대표예제|FINITE|IRR(연결)|AP(비주기)|${\\bf P}$의 수렴|동일한 row|정상분포존재|정상분포유일|에르고딕정리를 만족|에르고딕|\n",
    "|:-:|:-:|:-:|:-:|:-:|:-:|:-:|:-:|:-:|:-:|:-:|\n",
    "|1||O|X|X| X|X|O|X|X|X\n",
    "|2|단위행렬|O|X|O| O|X|O|X|X|X|\n",
    "|3|순환이동|O|O|X| X|X|O|O|O|X|\n",
    "|4|나이스|O|O|O| O|O|O|O|O|O|"
   ]
  }
 ],
 "metadata": {
  "kernelspec": {
   "display_name": "Python 3",
   "language": "python",
   "name": "python3"
  },
  "language_info": {
   "codemirror_mode": {
    "name": "ipython",
    "version": 3
   },
   "file_extension": ".py",
   "mimetype": "text/x-python",
   "name": "python",
   "nbconvert_exporter": "python",
   "pygments_lexer": "ipython3",
   "version": "3.8.16"
  }
 },
 "nbformat": 4,
 "nbformat_minor": 5
}
