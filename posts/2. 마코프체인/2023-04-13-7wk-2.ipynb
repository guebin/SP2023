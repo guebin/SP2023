{
 "cells": [
  {
   "cell_type": "raw",
   "id": "26b1c5ed-177b-4362-b06b-ef23b9c83b2c",
   "metadata": {},
   "source": [
    "---\n",
    "title: \"7wk-2: 마코프체인 (3)\"\n",
    "author: \"최규빈\"\n",
    "date: \"04/13/2023\"\n",
    "---"
   ]
  },
  {
   "cell_type": "markdown",
   "id": "8bfaaf88-b98d-46ea-80f5-4a6a1703ff23",
   "metadata": {},
   "source": [
    "# import "
   ]
  },
  {
   "cell_type": "code",
   "execution_count": 104,
   "id": "e2cc083a-f412-4a78-854e-5bd57b3d0b1b",
   "metadata": {},
   "outputs": [],
   "source": [
    "import numpy as np\n",
    "import matplotlib.pyplot as plt"
   ]
  },
  {
   "cell_type": "code",
   "execution_count": 123,
   "id": "615acab5-b92f-4972-b985-7c0fc161fb51",
   "metadata": {},
   "outputs": [],
   "source": [
    "def rain(before):\n",
    "    if before == True: # 비가 왔음 \n",
    "        after = np.random.rand() < 0.9\n",
    "    else: # 비가 안왔음 \n",
    "        after = np.random.rand() < 0.2 \n",
    "    return after "
   ]
  },
  {
   "cell_type": "code",
   "execution_count": 124,
   "id": "4a19f642-1743-42e5-a772-3215a5981b8f",
   "metadata": {},
   "outputs": [],
   "source": [
    "def doctor_strange(X0): # X0=today \n",
    "    lst = [X0]\n",
    "    for i in range(10000): \n",
    "        lst.append(rain(lst[i]))\n",
    "    return lst "
   ]
  },
  {
   "cell_type": "markdown",
   "id": "bac8d824-e7a2-4e4c-9518-21fdbee214d2",
   "metadata": {},
   "source": [
    "# 날씨모형 리뷰 "
   ]
  },
  {
   "cell_type": "markdown",
   "id": "e68a60be-baf9-48ce-8a10-04630c89d6f6",
   "metadata": {},
   "source": [
    "## formular "
   ]
  },
  {
   "cell_type": "markdown",
   "id": "fcd60ec8-b511-4b11-8626-ec52d1d9844c",
   "metadata": {},
   "source": [
    "`-` 저번시간에 살펴본 날씨모형은 결국 아래와 같은 모형이었다. "
   ]
  },
  {
   "cell_type": "markdown",
   "id": "752e5173-7b94-4c04-990f-0bf155370385",
   "metadata": {},
   "source": [
    "$$\\begin{bmatrix}\n",
    "P(X_{t+1}=0) \\\\\n",
    "P(X_{t+1}=1)\n",
    "\\end{bmatrix}= \\begin{bmatrix} 0.8 & 0.1 \\\\ 0.2 & 0.9 \\end{bmatrix} \\begin{bmatrix}\n",
    "P(X_{t}=0) \\\\\n",
    "P(X_{t}=1)\n",
    "\\end{bmatrix}$$\n",
    "\n",
    "양변에 트랜스포즈를 취하게 되면 \n",
    "\n",
    "$$\\begin{bmatrix}\n",
    "P(X_{t+1}=0) &\n",
    "P(X_{t+1}=1)\n",
    "\\end{bmatrix}= \\begin{bmatrix}\n",
    "P(X_{t}=0) &\n",
    "P(X_{t}=1)\n",
    "\\end{bmatrix}\\begin{bmatrix} 0.8 & 0.2 \\\\ 0.1 & 0.9 \\end{bmatrix} $$\n"
   ]
  },
  {
   "cell_type": "markdown",
   "id": "8605e0b0-dfce-4fd6-ab49-1dd6ae07c49a",
   "metadata": {},
   "source": [
    "수식화하면 아래와 같이 된다. (보통 이러한 형태로 책에 많이 쓰니까 이 형태로 외울것!)"
   ]
  },
  {
   "cell_type": "markdown",
   "id": "adbaa741-53f3-406b-8632-464080c488e8",
   "metadata": {},
   "source": [
    "$${\\boldsymbol \\mu}_{t+1}^\\top ={\\boldsymbol \\mu}_{t}^\\top {\\bf P}$$"
   ]
  },
  {
   "cell_type": "markdown",
   "id": "cd0976fc-876b-4e40-bd2f-939dfcbfa079",
   "metadata": {},
   "source": [
    "> 참고: $X_t$는 0 혹은 1의 값을 가질수 있는데, 이렇게 $X_t$가 가질 수 있는 값들을 모은 공간을 상태공간이라고 하고 기호로는 $E=\\{0,1\\}$와 같이 표현한다. "
   ]
  },
  {
   "cell_type": "markdown",
   "id": "4c3be6cf-c331-4b68-a0cf-eb1bd1f7fce2",
   "metadata": {},
   "source": [
    "> 참고: 여기에서 확률과정 $\\{X_t\\}$는 이전시점의 값 $X_{t-1}$에 의하여서만 결정된다. 이러한 확률과정을 마코프체인이라고 한다. "
   ]
  },
  {
   "cell_type": "markdown",
   "id": "aa0cbdb2-ec70-4f60-ba7e-43f8f7793c26",
   "metadata": {},
   "source": [
    "> 참고: 이때 매트릭스 ${\\bf P}$를 transition matrix 라고 한다. "
   ]
  },
  {
   "cell_type": "markdown",
   "id": "331a24e3-6562-4cf9-b775-af2ef9e48bde",
   "metadata": {},
   "source": [
    "`-` ${\\bf P}$의 의미 ($\\star$)"
   ]
  },
  {
   "cell_type": "markdown",
   "id": "43ff79a0-f20d-4c78-b49b-2c5e03e0206e",
   "metadata": {},
   "source": [
    "${\\bf P}$의 각 원소를 아래와 같이 두자. \n",
    "\n",
    "- ${\\bf P} = \\begin{bmatrix} p_{00} & p_{01} \\\\ p_{10} & p_{11} \\end{bmatrix}$\n",
    "\n",
    "${\\bf P}$의 $(i,j)$의 원소는 $i \\to j$로 이동할 확률을 의미한다. 즉 $p_{00}$, $p_{01}$, $p_{10}$, $p_{11}$ 은 각각 아래를 의미한다. \n",
    "\n",
    "- $p_{00}$: $0 \\to 0$일 확률. 즉 $P(X_t = 0 | X_{t-1} = 0)$ \n",
    "- $p_{01}$: $0 \\to 1$일 확률. 즉 $P(X_t = 1 | X_{t-1} = 0)$ \n",
    "- $p_{10}$: $1 \\to 0$일 확률. 즉 $P(X_t = 0 | X_{t-1} = 1)$ \n",
    "- $p_{11}$: $1 \\to 1$일 확률. 즉 $P(X_t = 1 | X_{t-1} = 1)$ "
   ]
  },
  {
   "cell_type": "markdown",
   "id": "221de2f4-d8c3-48de-a290-327f239848b4",
   "metadata": {},
   "source": [
    "`-` ${\\boldsymbol \\mu}$의 의미 ($\\star$)\n",
    "\n",
    "- ${\\boldsymbol \\mu}_t$는 $X_t$의 pmf를 의미한다. \n",
    "- ${\\boldsymbol \\mu}_0$는 $X_0$의 pmf를 의미한다. 즉 초기분포를 의미한다. \n",
    "- ${\\boldsymbol \\mu}$자체가 어떠한 분포를 의미한다. "
   ]
  },
  {
   "cell_type": "markdown",
   "id": "dedffcd1-76ee-4965-9d44-3f02b8e00c96",
   "metadata": {},
   "source": [
    "## 특징들"
   ]
  },
  {
   "cell_type": "markdown",
   "id": "8ce733b9-0f5b-47cf-854b-4bdfac6f898e",
   "metadata": {},
   "source": [
    "`-` 특징1: ${\\bf P}$는 수렴한다. 즉 ${\\bf P}^{\\infty}$가 존재한다. "
   ]
  },
  {
   "cell_type": "code",
   "execution_count": 184,
   "id": "34c0c7f0-1f0c-4276-b766-cb514c631b2f",
   "metadata": {},
   "outputs": [
    {
     "data": {
      "text/plain": [
       "array([[0.8, 0.2],\n",
       "       [0.1, 0.9]])"
      ]
     },
     "execution_count": 184,
     "metadata": {},
     "output_type": "execute_result"
    }
   ],
   "source": [
    "P = np.array([[0.8, 0.2],[0.1, 0.9]])\n",
    "P"
   ]
  },
  {
   "cell_type": "code",
   "execution_count": 185,
   "id": "de7d8cfe-f61b-4de3-9e75-a6724eed0cf9",
   "metadata": {},
   "outputs": [
    {
     "data": {
      "text/plain": [
       "(array([[0.8, 0.2],\n",
       "        [0.1, 0.9]]),\n",
       " array([[0.35216502, 0.64783498],\n",
       "        [0.32391749, 0.67608251]]),\n",
       " array([[0.33334836, 0.66665164],\n",
       "        [0.33332582, 0.66667418]]),\n",
       " array([[0.33333335, 0.66666665],\n",
       "        [0.33333333, 0.66666667]]))"
      ]
     },
     "execution_count": 185,
     "metadata": {},
     "output_type": "execute_result"
    }
   ],
   "source": [
    "np.linalg.matrix_power(P,1),np.linalg.matrix_power(P,10),np.linalg.matrix_power(P,30),np.linalg.matrix_power(P,50)"
   ]
  },
  {
   "cell_type": "code",
   "execution_count": 186,
   "id": "b66522f8-9750-4abd-a9d3-048b3c905ebb",
   "metadata": {},
   "outputs": [],
   "source": [
    "Plim = np.linalg.matrix_power(P,100)"
   ]
  },
  {
   "cell_type": "markdown",
   "id": "5b5898a7-bb71-46f7-b3b5-ac1cc4db1679",
   "metadata": {},
   "source": [
    "`-` 특징2: ${\\bf P}^{\\infty}$의 each column은 모두 동일한 값을 가진다. $\\Rightarrow$ $\\mu$에 어떠한 값을 넣어도 ${\\boldsymbol \\mu}^\\top{\\bf P}^{\\infty}={\\boldsymbol \\pi}^\\top = [1/3, 2/3]$ $\\Rightarrow$ ${\\bf P}$의 아무 row 나 선택하여 그것을 ${\\boldsymbol \\pi}^\\top$라고 두자. ${\\boldsymbol \\pi}$는 $X_{\\infty}$의 pmf가 된다. "
   ]
  },
  {
   "cell_type": "code",
   "execution_count": 187,
   "id": "8ddff591-c4a6-471b-93f1-9de937ffb5a5",
   "metadata": {},
   "outputs": [
    {
     "data": {
      "text/plain": [
       "array([[0.33333333, 0.66666667]])"
      ]
     },
     "execution_count": 187,
     "metadata": {},
     "output_type": "execute_result"
    }
   ],
   "source": [
    "μ = np.array([[0.5],[0.5]]) \n",
    "μ.T @ Plim"
   ]
  },
  {
   "cell_type": "code",
   "execution_count": 216,
   "id": "228c5ad7-a1b1-41d9-a5e0-1c09eaaa289a",
   "metadata": {},
   "outputs": [
    {
     "data": {
      "text/plain": [
       "array([[0.33333333],\n",
       "       [0.66666667]])"
      ]
     },
     "execution_count": 216,
     "metadata": {},
     "output_type": "execute_result"
    }
   ],
   "source": [
    "π = np.array([1/3,2/3]).reshape(2,1)\n",
    "π"
   ]
  },
  {
   "cell_type": "markdown",
   "id": "f7ee8aaf-bbf0-4714-9e5f-432454da6f66",
   "metadata": {},
   "source": [
    "- $X_{\\infty}=\\begin{cases} 0 & w.p.~ 1/3 \\\\ 1 & w.p.~ 2/3 \\end{cases}$"
   ]
  },
  {
   "cell_type": "markdown",
   "id": "2b03df80-60a5-4710-b86b-50c3df312bb7",
   "metadata": {},
   "source": [
    "> 참고: 여기에서 ${\\boldsymbol \\pi}$를 확률과정 $\\{X_t\\}$의 정상분포 (stationary distribution) 라고 한다. "
   ]
  },
  {
   "cell_type": "markdown",
   "id": "b6bc7ee1-b665-4493-b195-93088dd7e643",
   "metadata": {},
   "source": [
    "`-` 특징3: ${\\boldsymbol \\pi}^\\top {\\bf P} = {\\boldsymbol \\pi}^\\top$ 가 성립한다. \n",
    "\n",
    "- 근데 이건 왜 이러지? "
   ]
  },
  {
   "cell_type": "code",
   "execution_count": 217,
   "id": "551b8c69-acdc-49d6-bb86-5d3cf043a8f3",
   "metadata": {},
   "outputs": [
    {
     "data": {
      "text/plain": [
       "array([[0.33333333, 0.66666667]])"
      ]
     },
     "execution_count": 217,
     "metadata": {},
     "output_type": "execute_result"
    }
   ],
   "source": [
    "π.T @ P"
   ]
  },
  {
   "cell_type": "markdown",
   "id": "5d3522d4-997b-4530-902c-2bf2dc614024",
   "metadata": {},
   "source": [
    "당연히 다른 분포 ${\\boldsymbol \\mu}$에 대하여서는 성립하지 않음 "
   ]
  },
  {
   "cell_type": "code",
   "execution_count": 218,
   "id": "85d2c6e7-90c7-4908-97ad-0755b2870ed5",
   "metadata": {},
   "outputs": [
    {
     "data": {
      "text/plain": [
       "array([[0.45, 0.55]])"
      ]
     },
     "execution_count": 218,
     "metadata": {},
     "output_type": "execute_result"
    }
   ],
   "source": [
    "μ = np.array([[0.5],[0.5]]) \n",
    "μ.T @ P"
   ]
  },
  {
   "cell_type": "markdown",
   "id": "581f29ae-817e-4cc9-be08-3f0ec52192ce",
   "metadata": {},
   "source": [
    "> 참고: 여기에서 수식 ${\\boldsymbol \\pi}^\\top {\\bf P} = {\\boldsymbol \\pi}^\\top$ 자체가 정상분포의 정의가 된다. 즉 마코프체인 $\\{X_t\\}$의 트랜지션 매트릭스가 ${\\bf P}$일때, ${\\boldsymbol \\pi}^\\top {\\bf P} = {\\boldsymbol \\pi}^\\top$를 만족하는 ${\\boldsymbol \\pi}$가 존재한다면 ${\\boldsymbol \\pi}$를 확률과정 $\\{X_t\\}$의 정상분포라고 한다. "
   ]
  },
  {
   "cell_type": "markdown",
   "id": "f9cb771f-5edb-4376-8b42-b681394d176a",
   "metadata": {},
   "source": [
    "`-` 특징4: 초기분포 ${\\boldsymbol \\mu}_0$를 ${\\boldsymbol \\pi}$로 설정하면 $\\{X_t\\}$는 모든 $t$에 대하여 동일한 분포를 가진다. (독립은 아니다) "
   ]
  },
  {
   "cell_type": "code",
   "execution_count": 219,
   "id": "5b4d4870-d7a8-4819-bd66-e819a56fca1c",
   "metadata": {},
   "outputs": [
    {
     "data": {
      "text/plain": [
       "array([[0.33333333],\n",
       "       [0.66666667]])"
      ]
     },
     "execution_count": 219,
     "metadata": {},
     "output_type": "execute_result"
    }
   ],
   "source": [
    "π # 초기분포: X0의 pmf "
   ]
  },
  {
   "cell_type": "code",
   "execution_count": 220,
   "id": "57825fd0-50d3-4f8c-a4e6-027f57f8a6df",
   "metadata": {},
   "outputs": [],
   "source": [
    "X0 = np.random.rand() < 2/3\n",
    "# X0 = np.random.rand() > 0.52941176"
   ]
  },
  {
   "cell_type": "code",
   "execution_count": null,
   "id": "351a74c0-01de-4d44-814e-bdec8f852328",
   "metadata": {},
   "outputs": [],
   "source": [
    "arr = np.array([doctor_strange(np.random.rand() < 2/3) for i in range(4305)])\n",
    "arr"
   ]
  },
  {
   "cell_type": "code",
   "execution_count": null,
   "id": "08ffeed6-b5da-45d2-8278-e8d9961b66a1",
   "metadata": {},
   "outputs": [],
   "source": [
    "plt.plot(arr[0][-100:])"
   ]
  },
  {
   "cell_type": "code",
   "execution_count": null,
   "id": "173d016b-f75f-403b-b0ca-4d03a2003ee5",
   "metadata": {},
   "outputs": [],
   "source": [
    "arr[:,0]*1"
   ]
  },
  {
   "cell_type": "code",
   "execution_count": null,
   "id": "2ca923a0-f7bd-4d52-859a-b0291fd401ce",
   "metadata": {},
   "outputs": [],
   "source": [
    "arr[:,-1].sum()"
   ]
  },
  {
   "cell_type": "code",
   "execution_count": null,
   "id": "3bd4b808-9be8-4da6-abb3-77b3758fa248",
   "metadata": {},
   "outputs": [],
   "source": [
    "arr[:,0].sum()"
   ]
  },
  {
   "cell_type": "code",
   "execution_count": null,
   "id": "0e712a4a-4b20-4c91-9acb-2a8402694204",
   "metadata": {},
   "outputs": [],
   "source": [
    "fig, ax = plt.subplots(3,3)\n",
    "ax[0][0].hist(arr[:,0]*1,alpha=0.5);\n",
    "ax[0][1].hist(arr[:,500]*1,alpha=0.5);\n",
    "ax[0][2].hist(arr[:,1000]*1,alpha=0.5);\n",
    "ax[1][0].hist(arr[:,1500]*1,alpha=0.5);\n",
    "ax[1][1].hist(arr[:,2000]*1,alpha=0.5);\n",
    "ax[1][2].hist(arr[:,2500]*1,alpha=0.5);\n",
    "ax[2][0].hist(arr[:,3000]*1,alpha=0.5);\n",
    "ax[2][1].hist(arr[:,3500]*1,alpha=0.5);\n",
    "ax[2][2].hist(arr[:,4000]*1,alpha=0.5);\n",
    "fig.tight_layout()"
   ]
  },
  {
   "cell_type": "code",
   "execution_count": null,
   "id": "87f5b274-12af-42a9-bbc9-46cba2f58a4a",
   "metadata": {},
   "outputs": [],
   "source": [
    "plt.hist(arr[0]*1)"
   ]
  },
  {
   "cell_type": "markdown",
   "id": "83f55858-1e5e-4b50-bd05-828755e2068a",
   "metadata": {},
   "source": [
    "**특징4의 변형**: 초기분포가 ${\\boldsymbol \\pi}$가 아니더라도 적당한 시점 $T_0$ 이후에는 $\\{X_t\\}_{t\\geq T_0}$는 동일한분포를 가진다고 볼 수 있다. "
   ]
  },
  {
   "cell_type": "markdown",
   "id": "5c4f67fd-af3d-497d-9603-1e301dd6c0c6",
   "metadata": {},
   "source": [
    "> 참고: 특징4는 후에 MCMC를 이해하는 중요한 예제가 된다. "
   ]
  },
  {
   "cell_type": "markdown",
   "id": "11edc2db-fa63-4069-ada0-f954ad24c8c5",
   "metadata": {},
   "source": [
    "## 특징3을 위한 약간의 해설 "
   ]
  },
  {
   "cell_type": "markdown",
   "id": "45e8eb1a-a2c9-4862-a475-b2577fae7645",
   "metadata": {},
   "source": [
    "편의상 ${\\bf P}^{\\star}={\\bf P}^{\\infty}$ 라고 하자. 이미 살펴본 것 처럼 \n",
    "\n",
    "- ${\\bf P}^\\star {\\bf P} = {\\bf P}^\\star$ \n",
    "\n",
    "가 성립한다. 특징2에서 살펴본것 처럼 임의의 ${\\boldsymbol \\mu}$에 대하여 ${\\boldsymbol \\mu}^\\top {\\bf P}^{\\star} = {\\boldsymbol \\pi}^\\top$ 가 항상 성립함을 확인할 수 있다. 이 수식을 살짝 변형하면 \n",
    "\n",
    "- ${\\boldsymbol \\mu}^\\top {\\bf P}^{\\star} = {\\boldsymbol \\pi}^\\top$\n",
    "- $\\Leftrightarrow ({\\boldsymbol \\mu}^\\top{\\bf P}^{\\star}){\\bf P} = {\\boldsymbol \\pi}^\\top$\n",
    "- $\\Leftrightarrow {\\boldsymbol \\pi}^\\top{\\bf P} = {\\boldsymbol \\pi}^\\top$\n",
    "\n",
    "이다. 따라서 특징3이 유도된다. "
   ]
  },
  {
   "cell_type": "markdown",
   "id": "77cc3267-af57-45c2-bf85-125e99f972a2",
   "metadata": {},
   "source": [
    "# 마코프체인 "
   ]
  },
  {
   "cell_type": "markdown",
   "id": "c527644d-b349-49c2-be66-0cc493411b78",
   "metadata": {},
   "source": [
    "## 정의 "
   ]
  },
  {
   "cell_type": "markdown",
   "id": "caa90a34-39db-4e62-ba6a-0f887706a0f7",
   "metadata": {},
   "source": [
    "`-` **정의:** 카운터블한 상태공간 $E$을 가지는 이산시간 확률과정 $\\{X_t\\}_{t\\geq 0}$을 고려하자. 아래가 성립한다면 확률과정 $\\{X_t\\}$을 마코프체인(Markov chain, MC)라고 한다. \n",
    "\n",
    "- $\\forall t\\geq 0, \\forall i_0,i_1,\\dots,i_{n-1},i,j \\in S:~ P(X_{t+1}=j | X_t=i, X_{t-1}=i_{t-1}, \\dots, X_0=i_0) = P(X_{t+1}=j|X_t=i)$\n",
    "\n",
    "만약에 $P(X_{t+1} =j | X_t=i)$가 모든 $t$에 대하여 일정하다면 $\\{X_t\\}$를 균질마코프체인^[진짜 억지로 변형한것, 마땅한 한글용어가 없음](homogeneous Markov chain, HMC) 라고 한다. "
   ]
  },
  {
   "cell_type": "markdown",
   "id": "5c09a772-e44a-4d83-9bf4-b2c1e5417c17",
   "metadata": {},
   "source": [
    "`-` 정의: 아래의 수식을 마코프성질 (Markov property) 이라고 한다. "
   ]
  },
  {
   "cell_type": "markdown",
   "id": "963baeac-eb1d-41de-a89d-e9f2c76281ef",
   "metadata": {},
   "source": [
    "- $\\forall t\\geq 0, \\forall i_0,i_1,\\dots,i_{n-1},i,j \\in S:~ P(X_{t+1}=j | X_t=i, X_{t-1}=i_{t-1}, \\dots, X_0=i_0) = P(X_{t+1}=j|X_t=i)$"
   ]
  },
  {
   "cell_type": "markdown",
   "id": "dc093cf7-5a87-4972-bb5f-ffa503b6804a",
   "metadata": {},
   "source": [
    "`-` 정의: 카운터블한 상태공간 $E$를 가지는 HMC $\\{X_t\\}_{t\\geq 0}$를 고려하자. 상태 $i$에서 상태 $j$로 바뀌는 조건부 확률 \n",
    "\n",
    "- $p_{ij}=P(X_{t+1}=j | X_t=0)$\n",
    "\n",
    "를 $\\{X_t\\}_{t\\geq 0}$의 전이확률(transition probability)라고 한다. "
   ]
  },
  {
   "cell_type": "markdown",
   "id": "e98909b6-dca9-40dd-aef6-2fdda4f20ada",
   "metadata": {},
   "source": [
    "`-` 전이확률의 특징: 이때 전이확률은 아래의 특징을 가진다. \n",
    "    \n",
    "- $p_{ij} \\geq 0$  \n",
    "- $\\sum_{j\\in E}p_{ij}=1$ \n",
    "\n",
    "첫번째 식은 확률이 양수이어야 한다는 내용이고^[쓸모없는 내용] 두번째 식은 상태 $i$에 존재할 경우 상태집합 $E$ 중 어딘가로는 이동해야한다는 의미이다. "
   ]
  },
  {
   "cell_type": "markdown",
   "id": "a1398bad-e030-4612-b090-b0d1c544e7df",
   "metadata": {},
   "source": [
    "`-` 정의: 카운터블한 상태공간 $E$를 가지는 HMC $\\{X_t\\}_{t \\geq 0}$를 고려하자. $p_{ij}$를 $\\{X_t\\}_{t\\geq 0}$의 전이확률이라고 할때 행렬 $P=\\{p_{ij}\\}_{i,j \\in E}$를 전이확률행렬 (transition probability matrix) 혹은 줄여서 전이행렬 (transition matrix) 이라고 한다. "
   ]
  },
  {
   "cell_type": "markdown",
   "id": "a9378470-58b2-4357-81fd-e213733ef3cc",
   "metadata": {},
   "source": [
    "`-` 참고($\\star$): 상태공간 $E$의 원소수가 무한일 수도 있으므로, 원래 $P$를 행렬이라고 하기에는 무리가 있다. 하지만 행렬의 덧셈, 행렬의 곱셈과 같은 연산들은 일반적으로 잘 정의되므로 $P$를 행렬로 생각할 수 있다. 이러한 행렬 $P$는 row와 col이 무한대로 있다고 생각하면 된다. 이러한 행렬 $P$는 행렬 ${\\bf P}$와 구분하기 위해서 볼드체로 표현하지 않겠다. "
   ]
  },
  {
   "cell_type": "markdown",
   "id": "6bee59c0-b94b-487c-a6aa-ef477e07c1f9",
   "metadata": {},
   "source": [
    "`-` 전이행렬의 특징: 모든 row의 합이 1이다. "
   ]
  }
 ],
 "metadata": {
  "kernelspec": {
   "display_name": "Python 3",
   "language": "python",
   "name": "python3"
  },
  "language_info": {
   "codemirror_mode": {
    "name": "ipython",
    "version": 3
   },
   "file_extension": ".py",
   "mimetype": "text/x-python",
   "name": "python",
   "nbconvert_exporter": "python",
   "pygments_lexer": "ipython3",
   "version": "3.8.16"
  }
 },
 "nbformat": 4,
 "nbformat_minor": 5
}
