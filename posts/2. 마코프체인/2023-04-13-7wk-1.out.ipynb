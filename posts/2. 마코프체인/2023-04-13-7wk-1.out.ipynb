{
  "cells": [
    {
      "cell_type": "markdown",
      "metadata": {},
      "source": [
        "# 07wk-1: 마코프체인 (2)\n",
        "\n",
        "최규빈  \n",
        "2023-04-13\n",
        "\n",
        "# 강의영상\n",
        "\n",
        "> youtube:\n",
        "> <https://youtube.com/playlist?list=PLQqh36zP38-wi47mCKi03xoqvwIzkxG0H>\n",
        "\n",
        "# import"
      ],
      "id": "8067013d-db85-4a99-a9bf-e121cad03a72"
    },
    {
      "cell_type": "code",
      "execution_count": 32,
      "metadata": {},
      "outputs": [],
      "source": [
        "import numpy as np"
      ],
      "id": "299e404e-c546-45d6-8265-069cad7cbc53"
    },
    {
      "cell_type": "markdown",
      "metadata": {},
      "source": [
        "# 확률과정\n",
        "\n",
        "`-` 동전을 무한히 던지는 시행을 생각하자. 동전을 10번 던져서 결과를\n",
        "관찰했다고 하자. 동전을 30번째 던져서 앞면이 나올지 뒷면이 나올지 알고\n",
        "싶다면?\n",
        "\n",
        "`-` 현재 삼성전자 주가는 66000이다. 20일뒤의 삼성전자 주가가 얼마일지\n",
        "알고 싶다면?\n",
        "\n",
        "`-` 원래 미래를 예측하기 위해서 해야하는 과정\n",
        "\n",
        "![그림1: 1400만개의 미래를 탐색중인 Doctor\n",
        "Strange](https://i.redd.it/dkfg72px80y21.jpg)\n",
        "\n",
        "`-` 하지만 현실적으로는 이게 너무 힘들지 않을까?\n",
        "\n",
        "# 날씨예측\n",
        "\n",
        "`-` 아래와 같이 세상의 법칙이 있다고 하자.\n",
        "\n",
        "-   어제 맑음 $\\to$ 오늘도 맑음: 40% // 오늘은 비: 60%\n",
        "-   어제 비 $\\to$ 오늘은 맑음: 70% // 오늘도 비 30%\n",
        "\n",
        "`-` 모든 $t$에 대하여 확률변수 $X_t$를 아래와 같이 정의하자.\n",
        "\n",
        "-   $X_t=\\begin{cases} 0 & \\text{맑음} \\\\ 1 & \\text{비} \\end{cases}$\n",
        "\n",
        "`-` 오늘 (2023년4월13일) 비가 왔다고 치자. 10000일 뒤에도 비가 올 확률은\n",
        "얼마일까?\n",
        "\n",
        "# 풀이1\n",
        "\n",
        "`-` $X_t=0$ 이라면? ($t$시점에 비가 오지 않았다면?)"
      ],
      "id": "d455cef6-793b-434d-9a72-422639473ca8"
    },
    {
      "cell_type": "code",
      "execution_count": 289,
      "metadata": {},
      "outputs": [],
      "source": [
        "np.random.rand() < 0.6 "
      ],
      "id": "d3875b85-1fda-41b1-a16a-23f6b61027c6"
    },
    {
      "cell_type": "markdown",
      "metadata": {},
      "source": [
        "`-` $X_t=1$ 이라면? ($t$시점에 비가 왔다면?)"
      ],
      "id": "8b8da1db-c667-45d1-a902-a61d120779b5"
    },
    {
      "cell_type": "code",
      "execution_count": 290,
      "metadata": {},
      "outputs": [],
      "source": [
        "np.random.rand(0) < 0.3"
      ],
      "id": "6f1a2883-1008-49b1-8b86-a7840e4b3f46"
    },
    {
      "cell_type": "markdown",
      "metadata": {},
      "source": [
        "`-` 두 코드를 합쳐보자."
      ],
      "id": "bfa1cd21-fe44-4f7e-8569-c7d07fbac024"
    },
    {
      "cell_type": "code",
      "execution_count": 291,
      "metadata": {},
      "outputs": [],
      "source": [
        "def rain(before):\n",
        "    if before == True: # 비가 왔음 \n",
        "        after = np.random.rand() < 0.3\n",
        "    else: # 비가 안왔음 \n",
        "        after = np.random.rand() < 0.6 \n",
        "    return after "
      ],
      "id": "0dface6c-f1af-43a9-8d7c-1a7787febfa2"
    },
    {
      "cell_type": "markdown",
      "metadata": {},
      "source": [
        "`-` 테스트"
      ],
      "id": "72e0556f-50fd-45f8-92cf-f96c5a552c34"
    },
    {
      "cell_type": "code",
      "execution_count": 292,
      "metadata": {},
      "outputs": [],
      "source": [
        "# 비가 왔음, Xt = 1 \n",
        "sum([rain(1) for i in range(100)])"
      ],
      "id": "b2b30100-1be7-4919-8348-82d2e9a8eee8"
    },
    {
      "cell_type": "code",
      "execution_count": 293,
      "metadata": {},
      "outputs": [],
      "source": [
        "# 비가 안왔음, Xt = 0 \n",
        "sum([rain(0) for i in range(100)])"
      ],
      "id": "689e642d-7cb9-4233-80c1-2e344d886a4c"
    },
    {
      "cell_type": "markdown",
      "metadata": {},
      "source": [
        "`-` 하나의 $\\omega$에 대응하는 길이가 10000인 확률과정을 관찰"
      ],
      "id": "2fe5c87e-969c-4f82-b4c2-15462f01a75d"
    },
    {
      "cell_type": "code",
      "execution_count": 294,
      "metadata": {},
      "outputs": [],
      "source": [
        "def doctor_strange(today):\n",
        "    lst = [today]\n",
        "    for i in range(10000): \n",
        "        lst.append(rain(lst[i]))\n",
        "    return lst "
      ],
      "id": "155b3fa7-c94e-47e1-b2a9-32508b58fbf7"
    },
    {
      "cell_type": "code",
      "execution_count": 295,
      "metadata": {},
      "outputs": [],
      "source": [
        "today = True # 오늘 비가 왔다는 뜻 \n",
        "arr = doctor_strange(today)"
      ],
      "id": "4897ad5e-18ec-4a98-841f-ad065370315e"
    },
    {
      "cell_type": "code",
      "execution_count": 296,
      "metadata": {},
      "outputs": [],
      "source": [
        "len(arr)"
      ],
      "id": "758e0927-9b24-475c-93ce-a99302019417"
    },
    {
      "cell_type": "markdown",
      "metadata": {},
      "source": [
        "`-` 4305개의 $\\omega$에 대응하는 길이가 10000인 확률과정을 관찰"
      ],
      "id": "18c7f245-a760-481f-a896-999be57fc240"
    },
    {
      "cell_type": "code",
      "execution_count": 297,
      "metadata": {},
      "outputs": [],
      "source": [
        "today = True # 오늘 비가 왔다는 뜻 \n",
        "arr = np.array([doctor_strange(today) for ω in range(4305)])"
      ],
      "id": "02c6406b-43c7-452e-9aa8-55be9c096f45"
    },
    {
      "cell_type": "code",
      "execution_count": 310,
      "metadata": {},
      "outputs": [],
      "source": [
        "arr[:,-1].mean()"
      ],
      "id": "253e2b9f-4cac-426d-8eb0-ff2634452bdc"
    },
    {
      "cell_type": "markdown",
      "metadata": {},
      "source": [
        "`-` 10000일 뒤에도 비가 올 확률은 약 46% 정도 인듯\n",
        "\n",
        "# 풀이2\n",
        "\n",
        "`-` 세상의 법칙을 다시 정리해보자.\n",
        "\n",
        "-   $X_{t-1}=0 \\Rightarrow X_t \\sim Ber(0.6)$\n",
        "-   $X_{t-1}=1 \\Rightarrow X_t \\sim Ber(0.3)$\n",
        "\n",
        "`-` 정리하면\n",
        "\n",
        "-   $P(X_t=0)= P(X_{t-1}=0) \\times 0.4 + P(X_{t-1}=1) \\times 0.7$\n",
        "-   $P(X_t=1)= P(X_{t-1}=0) \\times 0.6 + P(X_{t-1}=1) \\times 0.3$\n",
        "\n",
        "`-` 매트릭스형태로 표현하면\n",
        "\n",
        "-   $\\begin{bmatrix} P(X_t=0) \\\\ P(X_t=1) \\end{bmatrix}= \\begin{bmatrix} 0.4 & 0.7 \\\\ 0.6 & 0.3 \\end{bmatrix} \\begin{bmatrix} P(X_{t-1}=0) \\\\ P(X_{t-1}=1) \\end{bmatrix}$\n",
        "-   ${\\boldsymbol \\mu}_t = {\\bf P} {\\boldsymbol \\mu}_{t-1}$\n",
        "\n",
        "`-` 이렇게 놓고 보니까\n",
        "\n",
        "-   ${\\boldsymbol \\mu}_1 ={\\bf P}{\\boldsymbol \\mu}_0$\n",
        "-   ${\\boldsymbol \\mu}_2 ={\\bf P}{\\boldsymbol \\mu}_1={\\bf P}^2{\\boldsymbol \\mu}_0$\n",
        "-   $\\dots$\n",
        "-   ${\\boldsymbol \\mu}_{10000} ={\\bf P}^{10000}{\\boldsymbol \\mu}_0$\n",
        "\n",
        "`-` 이제 계산을 해보자."
      ],
      "id": "4e7a0cf7-458b-4d8a-b0de-7cda1ab29ae0"
    },
    {
      "cell_type": "code",
      "execution_count": 312,
      "metadata": {},
      "outputs": [],
      "source": [
        "μ0 = np.array([[0],[1]])\n",
        "μ0"
      ],
      "id": "7336cc7f-f52d-4f6c-8e60-1b46d7304dc0"
    },
    {
      "cell_type": "code",
      "execution_count": 314,
      "metadata": {},
      "outputs": [],
      "source": [
        "P = np.array([[0.4,0.7],[0.6,0.3]])\n",
        "P"
      ],
      "id": "61aaeecd-6bca-4f57-bbe7-2b9cdba95d92"
    },
    {
      "cell_type": "code",
      "execution_count": 316,
      "metadata": {},
      "outputs": [],
      "source": [
        "P@P # P의 제곱"
      ],
      "id": "7057ec1c-870b-4a41-b5d2-a853fa89a459"
    },
    {
      "cell_type": "code",
      "execution_count": 317,
      "metadata": {},
      "outputs": [],
      "source": [
        "P@P@P@P # P의 4제곱"
      ],
      "id": "30bc0039-9dc7-49bc-8952-91fe65f8cfd0"
    },
    {
      "cell_type": "code",
      "execution_count": 318,
      "metadata": {},
      "outputs": [],
      "source": [
        "P@P@P@P @ P@P@P@P # P의 8제곱 "
      ],
      "id": "18bdedd8-6d10-4654-919b-c88a62bee3a2"
    },
    {
      "cell_type": "code",
      "execution_count": 319,
      "metadata": {},
      "outputs": [],
      "source": [
        "P@P@P@P@P@P@P@P @ P@P@P@P@P@P@P@P # P의 16제곱 "
      ],
      "id": "8a64c8ae-85ef-44a6-89ad-e422eb614952"
    },
    {
      "cell_type": "markdown",
      "metadata": {},
      "source": [
        "${\\bf P}$가 수렴하는거 같지 않어?"
      ],
      "id": "bc4105a6-0bea-478b-b89c-0406541233e7"
    },
    {
      "cell_type": "code",
      "execution_count": 320,
      "metadata": {},
      "outputs": [],
      "source": [
        "P@P@P@P@P@P@P@P@P@P@P@P@P@P@P@P @ P@P@P@P@P@P@P@P@P@P@P@P@P@P@P@P "
      ],
      "id": "8a1b4e55-bc02-4a3b-84e2-c833e43c81c5"
    },
    {
      "cell_type": "markdown",
      "metadata": {},
      "source": [
        "대충 ${\\bf P}^{10000} \\approx {\\bf P}^{32}$"
      ],
      "id": "5b216b36-d105-40ac-8afa-3eb714f751a5"
    },
    {
      "cell_type": "code",
      "execution_count": 324,
      "metadata": {},
      "outputs": [],
      "source": [
        "Plim = P@P@P@P@P@P@P@P@P@P@P@P@P@P@P@P @ P@P@P@P@P@P@P@P@P@P@P@P@P@P@P@P \n",
        "Plim "
      ],
      "id": "b19b9c8a-f45b-4059-8730-23e604cd80ed"
    },
    {
      "cell_type": "code",
      "execution_count": 325,
      "metadata": {},
      "outputs": [],
      "source": [
        "Plim @ μ0"
      ],
      "id": "3d837896-61ba-4181-8e4a-7ab349d0c5c6"
    },
    {
      "cell_type": "markdown",
      "metadata": {},
      "source": [
        "`-` 이 풀이에 따르면 10000일 뒤에 비가 올 확률은 46% 정도이다.\n",
        "\n",
        "# 풀이3\n",
        "\n",
        "`-` 세상의 법칙을 다시 정리해보자.\n",
        "\n",
        "-   $X_{t-1}=0 \\Rightarrow X_t \\sim Ber(0.6)$\n",
        "-   $X_{t-1}=1 \\Rightarrow X_t \\sim Ber(0.3)$\n",
        "\n",
        "`-` 추측: 10000일 뒤에 비가 올 확률이 $p$라고 치자. 그렇다면 9999일 뒤에\n",
        "비가 올 확률도 $p$ 아닐까?\n",
        "\n",
        "***이걸 가정하고 계산해보자***\n",
        "\n",
        "`1`. 9999일 뒤에 비가 안 올 확률 $1-p$\n",
        "\n",
        "-   9999일 뒤에 비가 안오고, 10000일 뒤에는 비가 올 확률: $0.6(1-p)$\n",
        "-   9999일 뒤에 비가 안오고, 10000일 뒤에는 비가 안 올 확률: $0.4(1-p)$\n",
        "\n",
        "`2`. 9999일 뒤에 비가 올 확률 $p$\n",
        "\n",
        "-   9999일 뒤에 비가 오고, 10000일 뒤에도 비가 올 확률: $0.3p$\n",
        "-   9999일 뒤에 비가 오고, 10000일 뒤에는 비가 안 올 확률: $0.7p$\n",
        "\n",
        "따라서 $0.6(1-p) + 0.3p = p$\n",
        "\n",
        "풀어보면 $0.6/1.3 =p$"
      ],
      "id": "fe2b929e-f3e5-4efe-a724-e4c9872c66d3"
    },
    {
      "cell_type": "code",
      "execution_count": 336,
      "metadata": {},
      "outputs": [],
      "source": [
        "0.6/1.3"
      ],
      "id": "a32a59bb-c649-4c21-8d23-3d954f211493"
    },
    {
      "cell_type": "markdown",
      "metadata": {},
      "source": [
        "# 풀이4"
      ],
      "id": "294ca5c7-cdc3-4198-a540-82916e210d42"
    },
    {
      "cell_type": "code",
      "execution_count": 335,
      "metadata": {},
      "outputs": [],
      "source": [
        "np.mean(doctor_strange(True)[1:])"
      ],
      "id": "f29592d8-1b52-4acd-af10-bdac7c7d418e"
    }
  ],
  "nbformat": 4,
  "nbformat_minor": 5,
  "metadata": {
    "kernelspec": {
      "name": "python3",
      "display_name": "Python 3",
      "language": "python"
    },
    "language_info": {
      "name": "python",
      "codemirror_mode": {
        "name": "ipython",
        "version": "3"
      },
      "file_extension": ".py",
      "mimetype": "text/x-python",
      "nbconvert_exporter": "python",
      "pygments_lexer": "ipython3",
      "version": "3.8.16"
    }
  }
}