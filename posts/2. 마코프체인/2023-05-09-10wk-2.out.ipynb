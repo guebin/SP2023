{
  "cells": [
    {
      "cell_type": "markdown",
      "metadata": {},
      "source": [
        "# 10wk-2: 마코프체인 (7)\n",
        "\n",
        "최규빈  \n",
        "2023-05-09\n",
        "\n",
        "# 강의영상\n",
        "\n",
        "> youtube:\n",
        "> <https://youtube.com/playlist?list=PLQqh36zP38-yMXZ2TSGxoh-rIjn8vp6cV>\n",
        "\n",
        "# imports"
      ],
      "id": "127d16ef-dbd7-48fb-9880-7d6a3ed0648e"
    },
    {
      "cell_type": "code",
      "execution_count": 6,
      "metadata": {},
      "outputs": [],
      "source": [
        "import numpy as np"
      ],
      "id": "bdc50f7b-20a8-46f1-9b97-dac111778e75"
    },
    {
      "cell_type": "markdown",
      "metadata": {},
      "source": [
        "# LLN의 확장 – 정상분포 관련내용\n",
        "\n",
        "`-` 유일한 정상분포를 가진다는 것을 알고 있다고 하자. 이를 쉽고 편하게\n",
        "구하는 방법?\n",
        "\n",
        "-   배운것1: 문제를 잘 이해하고\n",
        "    ${\\boldsymbol \\pi}^\\top = {\\boldsymbol \\pi}^\\top {\\bf P}$ 에 맞는\n",
        "    분포를 때려맞춤.\n",
        "-   배운것2: 고유값, 고유벡터의 개념을 이용하여 찾아냄\n",
        "\n",
        "`-` **정리(큰 수의 법칙)**: 확률변수열 $\\{X_t\\}_{t \\in \\mathbb{N}_0}$ 이\n",
        "서로 독립이고 동일한 분포를 가진다고 하자. 또한\n",
        "$\\mathbb{E}[|X_0|]<\\infty$ 이라고 가정하자. 그러면 아래가 성립한다.\n",
        "\n",
        "$$\\lim_{T\\to\\infty} \\frac{1}{T}\\sum_{t=0}^{T-1}X_t = \\mathbb{E}_{\\pi}[X_0]$$\n",
        "\n",
        "단, 여기에서 $\\pi$는 $X_0$의 분포이다.\n",
        "\n",
        "`-` **Thm** (에르고딕정리): 확률변수열 $\\{X_t\\}_{t \\in \\mathbb{N}_0}$이\n",
        "finite and irreducible HMC 라고 하자. 그러면 임의의 함수\n",
        "$f:S \\to \\mathbb{R}$에 대하여 아래가 성립한다.\n",
        "\n",
        "$$\\lim_{T\\to\\infty} \\frac{1}{T}\\sum_{t=0}^{T-1}f(X_t) = \\mathbb{E}_{\\boldsymbol \\pi}[f(X_0)]$$\n",
        "\n",
        "여기에서 $\\boldsymbol \\pi$는\n",
        "${\\boldsymbol \\pi}^\\top = {\\boldsymbol \\pi}^\\top{\\bf P}$를 만족하는\n",
        "**유일한** 정상분포이고 ${\\bf P}$는 $\\{X_t\\}$의 transition matrix 이다.\n",
        "\n",
        "`-` ($f$의 해석) 만약에\n",
        "$$f(i)= I(i=0)=\\begin{cases} 1 & i = 0 \\\\ 0 & o.w\\end{cases}$$ 이라고\n",
        "하자. 그러면 위의 이론은 아래와 같이 변경된다.\n",
        "\n",
        "$$\\lim_{T\\to\\infty} \\frac{1}{T}\\sum_{t=0}^{T-1}I(X_t=0) =\\mathbb{E}_{\\pi}[I(X_0=0)] = \\mathbb{P}_{\\pi}[X_0=0]=\\pi_0$$\n",
        "\n",
        "> 이 이론의 의미: 우리가 만약에 어떠한 마코프체인이 유일한 정상분포를\n",
        "> 가진다는 사실을 알고 있다고 가정하자. 그럴때 에르고딕 정리를 이용하면\n",
        "> 정상분포의 값을 시간평균으로 근사할 수 있다는 의미이다.\n",
        "\n",
        "## 예제1: 단위행렬\n",
        "\n",
        "HMC $\\{X_t\\}$의 전이행렬이 아래와 같다고 하자."
      ],
      "id": "6266e6ac-0671-4fcd-9ce1-e1ed65fe7bda"
    },
    {
      "cell_type": "code",
      "execution_count": 7,
      "metadata": {},
      "outputs": [],
      "source": [
        "P = np.array([[1,0],\n",
        "              [0,1]])\n",
        "P"
      ],
      "id": "0b17772d-cbb1-4f40-b668-8e4fbb2b7e43"
    },
    {
      "cell_type": "markdown",
      "metadata": {},
      "source": [
        "$\\{X_t\\}$는 유일한 정상분포를 가지는가? 가진다면 시간평균을 이용하여\n",
        "정상분포를 근사하라.\n",
        "\n",
        "(풀이)\n",
        "\n",
        "이 경우는 IRR 조건이 만족되지 않으므로 유일한 정상분포가 존재하지 않음.\n",
        "그래서 에르고딕정리를 이용할 수 없다.\n",
        "\n",
        "## 예제2: 순환이동\n",
        "\n",
        "HMC $\\{X_t\\}$의 전이행렬이 아래와 같다고 하자."
      ],
      "id": "73cca06e-4dc9-4bc1-b4c5-1b0f6a4b06fe"
    },
    {
      "cell_type": "code",
      "execution_count": 8,
      "metadata": {},
      "outputs": [],
      "source": [
        "P = np.array([[0,1],\n",
        "              [1,0]])\n",
        "P"
      ],
      "id": "2d933f82-692c-4c42-ad99-c4b4955515a8"
    },
    {
      "cell_type": "markdown",
      "metadata": {},
      "source": [
        "$\\{X_t\\}$는 유일한 정상분포를 가지는가? 가진다면 시간평균을 이용하여\n",
        "정상분포를 구하여라.\n",
        "\n",
        "(풀이)\n",
        "\n",
        "$\\{X_t\\}$는 finite and irreducible HMC 이므로 유일한 정상분포를 가진다.\n",
        "시뮬레이션을 한다면\n",
        "\n",
        "-   $0,1,0,1,0,1,0, \\dots$\n",
        "-   $1,0,1,0,1,0,1, \\dots$\n",
        "\n",
        "중 하나의 열(array)이 관찰 될 것이고 두 경우 모두\n",
        "\n",
        "-   $\\big(\\frac{1}{T}\\sum_{t=0}^{T-1}I(X_t=0),\\frac{1}{T}\\sum_{t=0}^{T-1}I(X_t=1)\\big)=(\\hat{\\pi}_0,\\hat{\\pi}_1)\\approx (1/2,1/2)$\n",
        "\n",
        "와 같이 구할 수 있음\n",
        "\n",
        "## 예제3: 비가 온다, 안온다\n",
        "\n",
        "HMC $\\{X_t\\}$의 전이행렬이 아래와 같다고 하자."
      ],
      "id": "7f178c10-e878-4ca8-aaa5-219e88d87818"
    },
    {
      "cell_type": "code",
      "execution_count": 9,
      "metadata": {},
      "outputs": [],
      "source": [
        "P = np.array([[0.4,0.6],\n",
        "              [0.7,0.3]])\n",
        "P"
      ],
      "id": "f7b7328e-ea1a-4903-8d0a-84c60841e79c"
    },
    {
      "cell_type": "markdown",
      "metadata": {},
      "source": [
        "$\\{X_t\\}$는 유일한 정상분포를 가지는가? 가진다면 시간평균을 이용하여\n",
        "정상분포를 구하여라.\n",
        "\n",
        "(풀이) 이 강의노트의\n",
        "[풀이4](https://guebin.github.io/SP2023/posts/2.%20마코프체인/2023-04-13-7wk-1.html)"
      ],
      "id": "37fda69a-a78b-4276-9464-98d12e07407b"
    },
    {
      "cell_type": "code",
      "execution_count": 10,
      "metadata": {},
      "outputs": [],
      "source": [
        "def rain(before):\n",
        "    if before == True: # 비가 왔음 \n",
        "        after = np.random.rand() < 0.3\n",
        "    else: # 비가 안왔음 \n",
        "        after = np.random.rand() < 0.6 \n",
        "    return after "
      ],
      "id": "b9364476-8536-46cc-84a5-0387eb12d085"
    },
    {
      "cell_type": "code",
      "execution_count": 11,
      "metadata": {},
      "outputs": [],
      "source": [
        "def doctor_strange(today):\n",
        "    lst = [today]\n",
        "    for i in range(10000): \n",
        "        lst.append(rain(lst[i]))\n",
        "    return lst "
      ],
      "id": "7b6f237d-5179-4d01-9fcb-bf30e8128673"
    },
    {
      "cell_type": "code",
      "execution_count": 12,
      "metadata": {},
      "outputs": [],
      "source": [
        "np.mean(doctor_strange(True)[1:])"
      ],
      "id": "8dd6b7b2-20a2-4836-ae21-943858aa0c2c"
    },
    {
      "cell_type": "markdown",
      "metadata": {},
      "source": [
        "# 정리\n",
        "\n",
        "$\\{X_t\\}$는 HMC 라고 하자.\n",
        "\n",
        "| CaseNO | 대표예제 | FINITE | IRR(연결) | AP(비주기) | ${\\bf P}$의 수렴 | 동일한 row | 정상분포존재 | 정상분포유일 | 에르고딕정리를 만족 | 에르고딕 |\n",
        "|:-----:|:-----:|:-----:|:-----:|:-----:|:-----:|:-----:|:-----:|:-----:|:-----:|:-----:|\n",
        "|   1    |          |   O    |     X     |     X      |        X         |     X      |      O       |      X       |          X          |    X     |\n",
        "|   2    | 단위행렬 |   O    |     X     |     O      |        O         |     X      |      O       |      X       |          X          |    X     |\n",
        "|   3    | 순환이동 |   O    |     O     |     X      |        X         |     X      |      O       |      O       |          O          |    X     |\n",
        "|   4    |  나이스  |   O    |     O     |     O      |        O         |     O      |      O       |      O       |          O          |    O     |"
      ],
      "id": "738dd385-f92a-49df-b2c8-7784d6e1eb24"
    }
  ],
  "nbformat": 4,
  "nbformat_minor": 5,
  "metadata": {
    "kernelspec": {
      "name": "python3",
      "display_name": "Python 3",
      "language": "python"
    },
    "language_info": {
      "name": "python",
      "codemirror_mode": {
        "name": "ipython",
        "version": "3"
      },
      "file_extension": ".py",
      "mimetype": "text/x-python",
      "nbconvert_exporter": "python",
      "pygments_lexer": "ipython3",
      "version": "3.8.16"
    }
  }
}