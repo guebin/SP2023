{
 "cells": [
  {
   "cell_type": "code",
   "execution_count": null,
   "id": "c8294582-dada-4463-ba37-a55f582ad8de",
   "metadata": {},
   "outputs": [],
   "source": []
  },
  {
   "cell_type": "code",
   "execution_count": null,
   "id": "03ff249a-5739-4b7c-8496-53a18f26eaeb",
   "metadata": {},
   "outputs": [],
   "source": []
  },
  {
   "cell_type": "code",
   "execution_count": null,
   "id": "6f722073-5358-4e2e-9f9a-7d346f268d82",
   "metadata": {},
   "outputs": [],
   "source": []
  },
  {
   "cell_type": "code",
   "execution_count": null,
   "id": "e28abf69-447c-43b9-bac6-614d68d49450",
   "metadata": {},
   "outputs": [],
   "source": []
  },
  {
   "cell_type": "markdown",
   "id": "d9948238-c609-4658-8e76-4b92ff4eefa9",
   "metadata": {},
   "source": [
    "# Transient "
   ]
  },
  {
   "cell_type": "markdown",
   "id": "e3bffe89-a4ed-411b-b473-ec27380b9e33",
   "metadata": {},
   "source": [
    "`-` 나그네 (박목월)\n",
    "\n",
    "```\n",
    "강나루 건너서\n",
    "밀밭 길을\n",
    "\n",
    "구름에 달 가듯이\n",
    "가는 나그네\n",
    "\n",
    "길은 외줄기\n",
    "南道 삼백리\n",
    "\n",
    "술 익는 마을마다\n",
    "타는 저녁놀\n",
    "\n",
    "구름에 달 가듯이\n",
    "가는 나그네\n",
    "```"
   ]
  },
  {
   "cell_type": "markdown",
   "id": "62d7a753-721a-4fd1-bdeb-2725e3f56be8",
   "metadata": {},
   "source": [
    "`-` 나그네 \n",
    "\n",
    "- 정착 X \n",
    "- 모든 장소에 일시적(transient)으로만 머뭄 "
   ]
  },
  {
   "cell_type": "markdown",
   "id": "4873e57f-6356-4812-966c-68ac1f23813a",
   "metadata": {},
   "source": [
    "# 오른쪽으로만 가는 예제 "
   ]
  },
  {
   "cell_type": "markdown",
   "id": "65c0526f-9b16-4d4c-82c6-32e4655c3cc0",
   "metadata": {},
   "source": [
    "`-` 나이스케이스: ${\\bf p}_{\\star}^\\top = {\\boldsymbol \\pi}^\\top$"
   ]
  },
  {
   "cell_type": "markdown",
   "id": "807a94d7-8359-4eae-99e2-16848b60f7fc",
   "metadata": {},
   "source": [
    "`-` 불쾌했던 느낌: \n",
    "\n",
    "- 특정상태 $i\\in E$에 한번 오면, 다시 돌아오지 않음. \n",
    "- 상태 $i$에 일시적(transient)으로 머무는 느낌. 거의 나그네 수준임. "
   ]
  },
  {
   "cell_type": "markdown",
   "id": "c2bb7062-4d61-42f1-a14e-cf246788cdd9",
   "metadata": {},
   "source": [
    "`-` FIN한 케이스에서 안 불쾌했던 이유 \n",
    "\n",
    "- 뭔가 반복적으로 돌아오는 느낌이 있었음 "
   ]
  },
  {
   "cell_type": "markdown",
   "id": "dafbda2b-086a-4142-9303-885054c58870",
   "metadata": {},
   "source": [
    "# RC, TR"
   ]
  },
  {
   "cell_type": "markdown",
   "id": "372eb684-b67d-45f9-973b-7e239df29100",
   "metadata": {},
   "source": [
    "$T_y$"
   ]
  },
  {
   "cell_type": "markdown",
   "id": "b7fa52f1-5c21-456d-8736-49e87a2c88ab",
   "metadata": {},
   "source": [
    "`-` finite closed and irreducible $\\Rightarrow$ recurrent "
   ]
  },
  {
   "cell_type": "markdown",
   "id": "7a12091c-e6e4-462a-b652-ea2ed0ac6b80",
   "metadata": {},
   "source": [
    "`-` 상태의 분류 "
   ]
  },
  {
   "cell_type": "markdown",
   "id": "1b237967-9939-4e16-9f0f-eeed108fbcbe",
   "metadata": {},
   "source": [
    "# 정상분포 "
   ]
  },
  {
   "cell_type": "markdown",
   "id": "44dd1854-ab0e-4add-bea1-99508940e933",
   "metadata": {},
   "source": [
    "`-` IRR, RC $\\Rightarrow$ 정상분포가 존재 // 유일하지 않을 수 있다. "
   ]
  },
  {
   "cell_type": "markdown",
   "id": "06b55c67-265e-4f1c-a660-71e30c225d4e",
   "metadata": {},
   "source": [
    "`-` IRR, PRC $\\Rightarrow$ 정상분포가 유일하게 존재?"
   ]
  },
  {
   "cell_type": "markdown",
   "id": "77b22436-2104-40dd-be6f-200abbebdd1a",
   "metadata": {},
   "source": [
    "# 정상분포 쉽게 찍는 방법 "
   ]
  },
  {
   "cell_type": "markdown",
   "id": "67dbb410-b0a8-4539-91fa-c4af33424c94",
   "metadata": {},
   "source": [
    "`-` 더블스토캐스틱 "
   ]
  },
  {
   "cell_type": "markdown",
   "id": "e0ad0a23-7aa2-4715-b01b-0aff5473f78d",
   "metadata": {},
   "source": [
    "`-` 디테일드밸런스 컨디션 "
   ]
  },
  {
   "cell_type": "markdown",
   "id": "36fb21b8-763a-4b00-a572-7a12fcb46baa",
   "metadata": {},
   "source": [
    "# 이론들 "
   ]
  },
  {
   "cell_type": "markdown",
   "id": "fd07c6b7-ee06-4a62-969d-860c38017309",
   "metadata": {},
   "source": [
    "`-` **정의:** PRC, AP인 상태를 에르고딕 상태라고 부른다. [@이외숙2008확률과정론(p63)]"
   ]
  },
  {
   "cell_type": "markdown",
   "id": "ae0844af-1ad5-477f-9615-968b7ac767ac",
   "metadata": {},
   "source": [
    "`-` **정의**: IRR, PRC, AP인 마코프체인을 에르고딕 마코프체인이라고 부른다. [@이외숙2008확률과정론(p69)] "
   ]
  },
  {
   "cell_type": "markdown",
   "id": "a8238514-fb63-4ae4-aea1-7603e94064df",
   "metadata": {},
   "source": [
    "`-` **이론**: 극한분포가 수렴하고 동일한 row ${\\bf p}_{\\star}^\\top$를 가지는 경우는 ${\\bf p}_{\\star}^\\top {\\bf 1} =0$ 이거나 ${\\bf p}_{\\star}^\\top {\\bf 1} =1$ 인 경우이다. 여기에서 ${\\bf p}_{\\star}^\\top {\\bf 1} =0$인 경우라면 정상분포 ${\\boldsymbol \\pi}$가 존재하지 않는다. 만약에 ${\\bf p}_{\\star}^\\top {\\bf 1}=1$ 인 경우라면 정상분포 ${\\boldsymbol \\pi}$가 존재하고 ${\\bf p}_{\\star}^\\top ={\\boldsymbol \\pi}^\\top$라고 쓸 수 있다.^[따라서 정상분포는 유일하게 존재한다.] [@이외숙2008확률과정론(p69)]"
   ]
  },
  {
   "cell_type": "markdown",
   "id": "444eb8cf-c417-4405-98e1-be5858e787b2",
   "metadata": {},
   "source": [
    "`-` **이론**: IRR, AP 이면 ${\\bf P}$가 수렴하고 동일한 row를 가진다. [@이외숙2008확률과정론(p69)]"
   ]
  },
  {
   "cell_type": "markdown",
   "id": "aff353e9-cfb6-4f25-8b67-36d674381d9e",
   "metadata": {},
   "source": [
    "`-` **이론**: IRR, AP 이면 다음의 두 가지 중 하나가 성립한다. \n",
    "\n",
    "1. PRC인 마코프체인이 아니다: 모든상태가 transient 하거나 null recurrent 하다. \n",
    "2. PRC인 마코프체인이다: 모든상태가 positive recurrent 하다.  "
   ]
  },
  {
   "cell_type": "markdown",
   "id": "4de8968d-4c51-420c-9963-adbaf7af3618",
   "metadata": {},
   "source": [
    "1의 경우라면 $\\sum_{i \\in E}\\pi_i=0$ 이 되어서 정상분포가 존재하지 않는다. 2의 경우라면 유일한 정상분포를 가진다. [@이외숙2008확률과정론(p69)]"
   ]
  },
  {
   "cell_type": "markdown",
   "id": "a7b383f6-61d5-423b-9f05-e465fed9c0a8",
   "metadata": {},
   "source": [
    "> 만약에 상태공간이 유한인 상황이라면 항상 IRR, AP인 경우는 항상 PRC이다. "
   ]
  },
  {
   "cell_type": "markdown",
   "id": "744256a5-f406-4322-a985-5c286adefc0f",
   "metadata": {},
   "source": [
    "`-` **이론**: IRR, AP, PRC $\\Rightarrow$ (1) $\\exists! {\\boldsymbol \\pi}$ (2) ${\\boldsymbol \\pi}^\\top={\\bf p}_{\\star}^\\top$ [@이외숙2008확률과정론(p69)]"
   ]
  },
  {
   "cell_type": "markdown",
   "id": "0f1660bf-5b7b-41fc-a15a-9ea03b87f54a",
   "metadata": {},
   "source": [
    "`-` **이론**: IRR, AP, $\\exists! {\\boldsymbol \\pi}$ $\\Rightarrow$ (1) PRC (2) ${\\boldsymbol \\pi}^\\top = {\\bf p}_{\\star}^\\top$ [@이외숙2008확률과정론(p69),@durrett2012essentials(Thm1.19)]\n",
    "\n",
    "- [@durrett2012essentials(Thm1.19)] 에서는 PRC임은 빠져있긴함. "
   ]
  },
  {
   "cell_type": "markdown",
   "id": "cefec966-41a7-431c-ab77-600717f7e97f",
   "metadata": {},
   "source": [
    "`-` **이론**: IRR, RC $\\Rightarrow$ $\\exists \\tilde{\\boldsymbol \\pi}$ [@durrett2012essentials(Thm1.19)]"
   ]
  },
  {
   "cell_type": "markdown",
   "id": "5fe9c826-0e7b-4da0-a042-c4187d11f857",
   "metadata": {},
   "source": [
    "`-` **이론**: IRR, $\\exists {\\boldsymbol \\pi}$ $\\Rightarrow$ $\\exists! {\\boldsymbol \\pi}$ "
   ]
  },
  {
   "cell_type": "markdown",
   "id": "c141a616-b64d-45e5-bc66-f7a219d781da",
   "metadata": {},
   "source": [
    "`-` **이론**: IRR, $\\exists {\\boldsymbol \\pi}$ $\\Rightarrow$ \n",
    "\n",
    "$$\\lim_{T\\to \\infty} \\frac{1}{T}\\sum_{t=0}^{T-1}f(X_t) = \\mathbb{E}_{\\boldsymbol \\pi}[f(X_0)]:=\\sum_{x}f(x)\\pi(x)$$"
   ]
  },
  {
   "cell_type": "markdown",
   "id": "926d5a5b-2800-428a-bf4a-7d86fd12f0ce",
   "metadata": {},
   "source": [
    "|CaseNO|대표예제|FIN|IRR|AP|$\\exists {\\boldsymbol \\pi}^\\top$|$\\exists! {\\bf p}_{\\star}^\\top$|$\\exists! {\\boldsymbol \\pi}^\\top$|Ergodic THM|Ergodic HMC|\n",
    "|:-:|:-:|:-:|:-:|:-:|:-:|:-:|:-:|:-:|:-:|\n",
    "|1||O|X|X|O| X|X|X|X\n",
    "|2|단위행렬|O|X|O|O| X|X|X|X|\n",
    "|3|순환이동|O|O|X|O| X|O|O|X|\n",
    "|4|나이스|O|O|O|O| O|O|O|O|"
   ]
  },
  {
   "cell_type": "markdown",
   "id": "550058b5-666e-4a5d-8474-b3db1f600f8c",
   "metadata": {},
   "source": [
    "|CaseNO|대표예제|FIN|IRR|AP|PRC|$\\exists {\\boldsymbol \\pi}^\\top$|$\\exists! {\\bf p}_{\\star}^\\top$|$\\exists! {\\boldsymbol \\pi}^\\top$|Ergodic THM|Ergodic HMC|\n",
    "|:-:|:-:|:-:|:-:|:-:|:-:|:-:|:-:|:-:|:-:|:-:|\n",
    "|1||X|O|X|?|O| X|X|X|X\n",
    "|2||X|O|O|?|O| X|X|X|X|\n",
    "|3||X|O|X|?|O| X|O|O|X|\n",
    "|4||X|O|O|?|O| O|O|O|O|"
   ]
  },
  {
   "cell_type": "code",
   "execution_count": null,
   "id": "8e5f910d-f915-4eea-8570-beabfd7b18f4",
   "metadata": {},
   "outputs": [],
   "source": []
  },
  {
   "cell_type": "code",
   "execution_count": null,
   "id": "117f599a-e92b-4b9c-8543-e3d1ff172457",
   "metadata": {},
   "outputs": [],
   "source": []
  },
  {
   "cell_type": "code",
   "execution_count": null,
   "id": "c0008123-50c8-4d4d-a57d-57c83abaf269",
   "metadata": {},
   "outputs": [],
   "source": []
  },
  {
   "cell_type": "code",
   "execution_count": null,
   "id": "130ca4ab-015c-487a-8d78-ee48e6a15140",
   "metadata": {},
   "outputs": [],
   "source": []
  },
  {
   "cell_type": "markdown",
   "id": "e64b2e40-42f3-490e-a5bb-cb9876bed9b0",
   "metadata": {},
   "source": [
    "`-` IRR, AP, $\\exists {\\boldsymbol \\pi}$ $\\Rightarrow$ $p^n(x,y) \\to \\pi(y)$ [@durrett2012essentials, Thm, @bremaud2020markov]"
   ]
  },
  {
   "cell_type": "markdown",
   "id": "fa8a5972-9b0b-4b1f-ae16-acc2c0b4386d",
   "metadata": {},
   "source": [
    "`-` IRR, RC $\\Rightarrow$ $\\frac{N_n(y)}{n} \\to \\frac{1}{E_yT_y}$"
   ]
  },
  {
   "cell_type": "markdown",
   "id": "c248fc49-cb77-40ad-9c5a-431b32aa7799",
   "metadata": {},
   "source": [
    "`-` IRR, $\\exists {\\boldsymbol \\pi}$, $\\sum_x|f(x)|\\pi(x)<\\infty$ $\\Rightarrow$ $\\frac{1}{n}\\sum_{m=1}^{n}f(X_m) \\to \\sum_xf(x)\\pi(x)$"
   ]
  },
  {
   "cell_type": "markdown",
   "id": "49d1f157-b48c-4876-8cd0-327b4b204603",
   "metadata": {},
   "source": [
    "`-` IRR, FINITE $\\Rightarrow$ 정상분포가 존재하고 유일하다. "
   ]
  },
  {
   "cell_type": "markdown",
   "id": "f10cf632-a0b4-465d-9dae-15ecba5d3652",
   "metadata": {},
   "source": [
    "`-` irr이면 아래가 동치이다. \n",
    "\n",
    "- 몇개의 상태가 positive recurrent 이다. \n",
    "- 모든 상태가 positive recurrent 이다. \n",
    "- 정상분포 $\\pi$가 존재한다. \n"
   ]
  }
 ],
 "metadata": {
  "kernelspec": {
   "display_name": "Python 3",
   "language": "python",
   "name": "python3"
  },
  "language_info": {
   "codemirror_mode": {
    "name": "ipython",
    "version": 3
   },
   "file_extension": ".py",
   "mimetype": "text/x-python",
   "name": "python",
   "nbconvert_exporter": "python",
   "pygments_lexer": "ipython3",
   "version": "3.8.16"
  }
 },
 "nbformat": 4,
 "nbformat_minor": 5
}
