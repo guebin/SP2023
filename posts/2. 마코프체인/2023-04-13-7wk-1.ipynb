{
 "cells": [
  {
   "cell_type": "raw",
   "id": "7904235a-a314-40b5-b67b-32599d775ad9",
   "metadata": {},
   "source": [
    "---\n",
    "title: \"07wk-1: 마코프체인 (2)\"\n",
    "author: \"최규빈\"\n",
    "date: \"04/13/2023\"\n",
    "bibliography: ref.bib\n",
    "title-block-style: none\n",
    "title-block-banner: false\n",
    "---"
   ]
  },
  {
   "cell_type": "markdown",
   "id": "8e7c069d-9e1a-44c4-9fa4-796c67779039",
   "metadata": {},
   "source": [
    "# 강의영상 "
   ]
  },
  {
   "cell_type": "markdown",
   "id": "53b45510-7c06-4cd0-bd9f-b5737fcf0e77",
   "metadata": {},
   "source": [
    "> youtube: <https://youtube.com/playlist?list=PLQqh36zP38-wi47mCKi03xoqvwIzkxG0H>"
   ]
  },
  {
   "cell_type": "markdown",
   "id": "3b9c1cac-0ac2-42aa-8723-25cb87e1a7d8",
   "metadata": {},
   "source": [
    "# import "
   ]
  },
  {
   "cell_type": "code",
   "execution_count": 32,
   "id": "299e404e-c546-45d6-8265-069cad7cbc53",
   "metadata": {},
   "outputs": [],
   "source": [
    "import numpy as np"
   ]
  },
  {
   "cell_type": "markdown",
   "id": "8316d7fe-1925-4f4e-9f65-f69caab6ae2d",
   "metadata": {},
   "source": [
    "# 확률과정 "
   ]
  },
  {
   "cell_type": "markdown",
   "id": "a9d3b474-bb03-43cb-9175-4f1955e50859",
   "metadata": {},
   "source": [
    "`-` 동전을 무한히 던지는 시행을 생각하자. 동전을 10번 던져서 결과를 관찰했다고 하자. 동전을 30번째 던져서 앞면이 나올지 뒷면이 나올지 알고 싶다면?"
   ]
  },
  {
   "cell_type": "markdown",
   "id": "9bec00cc-60ef-4f00-b85d-c9a4a262fe33",
   "metadata": {},
   "source": [
    "`-` 현재 삼성전자 주가는 66000이다. 20일뒤의 삼성전자 주가가 얼마일지 알고 싶다면? "
   ]
  },
  {
   "cell_type": "markdown",
   "id": "2ed1b3a1-02a8-44ff-bcf8-d8b7b8e7259f",
   "metadata": {},
   "source": [
    "`-` 원래 미래를 예측하기 위해서 해야하는 과정 "
   ]
  },
  {
   "cell_type": "markdown",
   "id": "db3f6f45-e1b4-42eb-bf86-67b4d961f502",
   "metadata": {},
   "source": [
    "![그림1: 1400만개의 미래를 탐색중인 Doctor Strange](https://i.redd.it/dkfg72px80y21.jpg)"
   ]
  },
  {
   "cell_type": "markdown",
   "id": "c0f83a4e-f871-4e27-85f8-b803bea77c11",
   "metadata": {},
   "source": [
    "`-` 하지만 현실적으로는 이게 너무 힘들지 않을까? "
   ]
  },
  {
   "cell_type": "markdown",
   "id": "40f9c4f2-8716-4af7-8423-228a81e29a61",
   "metadata": {},
   "source": [
    "# 날씨예측"
   ]
  },
  {
   "cell_type": "markdown",
   "id": "1d7975dd-dad0-4641-b7fa-48fdefb5c569",
   "metadata": {},
   "source": [
    "`-` 아래와 같이 세상의 법칙이 있다고 하자. \n",
    "\n",
    "- 어제 맑음 $\\to$ 오늘도 맑음: 40% // 오늘은 비: 60% \n",
    "- 어제 비 $\\to$ 오늘은 맑음: 70% // 오늘도 비 30%"
   ]
  },
  {
   "cell_type": "markdown",
   "id": "de57ef9c-819d-476b-8680-bc225004e4ad",
   "metadata": {},
   "source": [
    "`-` 모든 $t$에 대하여 확률변수 $X_t$를 아래와 같이 정의하자. \n",
    "\n",
    "- $X_t=\\begin{cases} 0 & \\text{맑음} \\\\ 1 & \\text{비} \\end{cases}$ \n"
   ]
  },
  {
   "cell_type": "markdown",
   "id": "8c0a3c9b-70e2-4300-9c31-f94c6ced1812",
   "metadata": {},
   "source": [
    "`-` 오늘 (2023년4월13일) 비가 왔다고 치자. 10000일 뒤에도 비가 올 확률은 얼마일까? "
   ]
  },
  {
   "cell_type": "markdown",
   "id": "6a32aad1-9396-4d99-99a6-757a8b6b4f15",
   "metadata": {},
   "source": [
    "# 풀이1"
   ]
  },
  {
   "cell_type": "markdown",
   "id": "123dcabe-faca-4481-a742-8282f9bceab3",
   "metadata": {},
   "source": [
    "`-` $X_t=0$ 이라면? ($t$시점에 비가 오지 않았다면?) "
   ]
  },
  {
   "cell_type": "code",
   "execution_count": 289,
   "id": "d3875b85-1fda-41b1-a16a-23f6b61027c6",
   "metadata": {},
   "outputs": [
    {
     "data": {
      "text/plain": [
       "False"
      ]
     },
     "execution_count": 289,
     "metadata": {},
     "output_type": "execute_result"
    }
   ],
   "source": [
    "np.random.rand() < 0.6 "
   ]
  },
  {
   "cell_type": "markdown",
   "id": "4599f119-6cd2-4902-9da4-76adb6f02cfd",
   "metadata": {},
   "source": [
    "`-` $X_t=1$ 이라면? ($t$시점에 비가 왔다면?) "
   ]
  },
  {
   "cell_type": "code",
   "execution_count": 290,
   "id": "6f1a2883-1008-49b1-8b86-a7840e4b3f46",
   "metadata": {},
   "outputs": [
    {
     "data": {
      "text/plain": [
       "array([], dtype=bool)"
      ]
     },
     "execution_count": 290,
     "metadata": {},
     "output_type": "execute_result"
    }
   ],
   "source": [
    "np.random.rand(0) < 0.3"
   ]
  },
  {
   "cell_type": "markdown",
   "id": "2f5deaed-121c-4934-9979-2a89dd69d85f",
   "metadata": {},
   "source": [
    "`-` 두 코드를 합쳐보자. "
   ]
  },
  {
   "cell_type": "code",
   "execution_count": 291,
   "id": "0dface6c-f1af-43a9-8d7c-1a7787febfa2",
   "metadata": {},
   "outputs": [],
   "source": [
    "def rain(before):\n",
    "    if before == True: # 비가 왔음 \n",
    "        after = np.random.rand() < 0.3\n",
    "    else: # 비가 안왔음 \n",
    "        after = np.random.rand() < 0.6 \n",
    "    return after "
   ]
  },
  {
   "cell_type": "markdown",
   "id": "9f58289e-a099-49f7-b56a-6ddd5978e5ae",
   "metadata": {},
   "source": [
    "`-` 테스트 "
   ]
  },
  {
   "cell_type": "code",
   "execution_count": 292,
   "id": "b2b30100-1be7-4919-8348-82d2e9a8eee8",
   "metadata": {},
   "outputs": [
    {
     "data": {
      "text/plain": [
       "30"
      ]
     },
     "execution_count": 292,
     "metadata": {},
     "output_type": "execute_result"
    }
   ],
   "source": [
    "# 비가 왔음, Xt = 1 \n",
    "sum([rain(1) for i in range(100)])"
   ]
  },
  {
   "cell_type": "code",
   "execution_count": 293,
   "id": "689e642d-7cb9-4233-80c1-2e344d886a4c",
   "metadata": {},
   "outputs": [
    {
     "data": {
      "text/plain": [
       "60"
      ]
     },
     "execution_count": 293,
     "metadata": {},
     "output_type": "execute_result"
    }
   ],
   "source": [
    "# 비가 안왔음, Xt = 0 \n",
    "sum([rain(0) for i in range(100)])"
   ]
  },
  {
   "cell_type": "markdown",
   "id": "056d7a66-5714-4115-a79b-2459eee13551",
   "metadata": {},
   "source": [
    "`-` 하나의 $\\omega$에 대응하는 길이가 10000인 확률과정을 관찰 "
   ]
  },
  {
   "cell_type": "code",
   "execution_count": 294,
   "id": "155b3fa7-c94e-47e1-b2a9-32508b58fbf7",
   "metadata": {},
   "outputs": [],
   "source": [
    "def doctor_strange(today):\n",
    "    lst = [today]\n",
    "    for i in range(10000): \n",
    "        lst.append(rain(lst[i]))\n",
    "    return lst "
   ]
  },
  {
   "cell_type": "code",
   "execution_count": 295,
   "id": "4897ad5e-18ec-4a98-841f-ad065370315e",
   "metadata": {},
   "outputs": [],
   "source": [
    "today = True # 오늘 비가 왔다는 뜻 \n",
    "arr = doctor_strange(today)"
   ]
  },
  {
   "cell_type": "code",
   "execution_count": 296,
   "id": "758e0927-9b24-475c-93ce-a99302019417",
   "metadata": {},
   "outputs": [
    {
     "data": {
      "text/plain": [
       "10001"
      ]
     },
     "execution_count": 296,
     "metadata": {},
     "output_type": "execute_result"
    }
   ],
   "source": [
    "len(arr)"
   ]
  },
  {
   "cell_type": "markdown",
   "id": "38a620a4-3bc0-4ac2-9319-f1227caacf02",
   "metadata": {},
   "source": [
    "`-` 4305개의 $\\omega$에 대응하는 길이가 10000인 확률과정을 관찰 "
   ]
  },
  {
   "cell_type": "code",
   "execution_count": 297,
   "id": "02c6406b-43c7-452e-9aa8-55be9c096f45",
   "metadata": {},
   "outputs": [],
   "source": [
    "today = True # 오늘 비가 왔다는 뜻 \n",
    "arr = np.array([doctor_strange(today) for ω in range(4305)])"
   ]
  },
  {
   "cell_type": "code",
   "execution_count": 310,
   "id": "253e2b9f-4cac-426d-8eb0-ff2634452bdc",
   "metadata": {},
   "outputs": [
    {
     "data": {
      "text/plain": [
       "0.4662020905923345"
      ]
     },
     "execution_count": 310,
     "metadata": {},
     "output_type": "execute_result"
    }
   ],
   "source": [
    "arr[:,-1].mean()"
   ]
  },
  {
   "cell_type": "markdown",
   "id": "83bce73b-af37-4916-836f-70d408452af7",
   "metadata": {},
   "source": [
    "`-` 10000일 뒤에도 비가 올 확률은 약 46% 정도 인듯 "
   ]
  },
  {
   "cell_type": "markdown",
   "id": "f9d6a843-740d-4c6f-9231-79316d5544e3",
   "metadata": {},
   "source": [
    "# 풀이2"
   ]
  },
  {
   "cell_type": "markdown",
   "id": "e5112f25-4269-4bbf-b09e-5b001545ca79",
   "metadata": {},
   "source": [
    "`-` 세상의 법칙을 다시 정리해보자. \n",
    "\n",
    "- $X_{t-1}=0 \\Rightarrow X_t \\sim Ber(0.6)$\n",
    "- $X_{t-1}=1 \\Rightarrow X_t \\sim Ber(0.3)$"
   ]
  },
  {
   "cell_type": "markdown",
   "id": "d3b7c3f0-a31e-4b3e-98dc-51fc7f8b8ec0",
   "metadata": {},
   "source": [
    "`-` 정리하면 \n",
    "\n",
    "- $P(X_t=0)= P(X_{t-1}=0) \\times 0.4 + P(X_{t-1}=1) \\times 0.7$ \n",
    "- $P(X_t=1)= P(X_{t-1}=0) \\times 0.6 + P(X_{t-1}=1) \\times 0.3$ "
   ]
  },
  {
   "cell_type": "markdown",
   "id": "037d689a-8eb2-4a09-9851-5fb2b02daa5e",
   "metadata": {},
   "source": [
    "`-` 매트릭스형태로 표현하면 "
   ]
  },
  {
   "cell_type": "markdown",
   "id": "2fd43998-e71c-4655-bc4a-beead7ea692c",
   "metadata": {},
   "source": [
    "- $\\begin{bmatrix}\n",
    "P(X_t=0) \\\\\n",
    "P(X_t=1)\n",
    "\\end{bmatrix}= \\begin{bmatrix} 0.4 & 0.7 \\\\ 0.6 & 0.3 \\end{bmatrix} \\begin{bmatrix}\n",
    "P(X_{t-1}=0) \\\\\n",
    "P(X_{t-1}=1)\n",
    "\\end{bmatrix}$\n",
    "- ${\\boldsymbol \\mu}_t = {\\bf P} {\\boldsymbol \\mu}_{t-1}$ "
   ]
  },
  {
   "cell_type": "markdown",
   "id": "245221cf-543c-4e2c-90b6-78de7ebf1428",
   "metadata": {},
   "source": [
    "`-` 이렇게 놓고 보니까 \n",
    "\n",
    "- ${\\boldsymbol \\mu}_1 ={\\bf P}{\\boldsymbol \\mu}_0$\n",
    "- ${\\boldsymbol \\mu}_2 ={\\bf P}{\\boldsymbol \\mu}_1={\\bf P}^2{\\boldsymbol \\mu}_0$\n",
    "- $\\dots$ \n",
    "- ${\\boldsymbol \\mu}_{10000} ={\\bf P}^{10000}{\\boldsymbol \\mu}_0$"
   ]
  },
  {
   "cell_type": "markdown",
   "id": "29eab82b-0b03-4964-9026-08ad26cdf217",
   "metadata": {},
   "source": [
    "`-` 이제 계산을 해보자. "
   ]
  },
  {
   "cell_type": "code",
   "execution_count": 312,
   "id": "7336cc7f-f52d-4f6c-8e60-1b46d7304dc0",
   "metadata": {},
   "outputs": [
    {
     "data": {
      "text/plain": [
       "array([[0],\n",
       "       [1]])"
      ]
     },
     "execution_count": 312,
     "metadata": {},
     "output_type": "execute_result"
    }
   ],
   "source": [
    "μ0 = np.array([[0],[1]])\n",
    "μ0"
   ]
  },
  {
   "cell_type": "code",
   "execution_count": 314,
   "id": "61aaeecd-6bca-4f57-bbe7-2b9cdba95d92",
   "metadata": {},
   "outputs": [
    {
     "data": {
      "text/plain": [
       "array([[0.4, 0.7],\n",
       "       [0.6, 0.3]])"
      ]
     },
     "execution_count": 314,
     "metadata": {},
     "output_type": "execute_result"
    }
   ],
   "source": [
    "P = np.array([[0.4,0.7],[0.6,0.3]])\n",
    "P"
   ]
  },
  {
   "cell_type": "code",
   "execution_count": 316,
   "id": "7057ec1c-870b-4a41-b5d2-a853fa89a459",
   "metadata": {},
   "outputs": [
    {
     "data": {
      "text/plain": [
       "array([[0.58, 0.49],\n",
       "       [0.42, 0.51]])"
      ]
     },
     "execution_count": 316,
     "metadata": {},
     "output_type": "execute_result"
    }
   ],
   "source": [
    "P@P # P의 제곱"
   ]
  },
  {
   "cell_type": "code",
   "execution_count": 317,
   "id": "30bc0039-9dc7-49bc-8952-91fe65f8cfd0",
   "metadata": {},
   "outputs": [
    {
     "data": {
      "text/plain": [
       "array([[0.5422, 0.5341],\n",
       "       [0.4578, 0.4659]])"
      ]
     },
     "execution_count": 317,
     "metadata": {},
     "output_type": "execute_result"
    }
   ],
   "source": [
    "P@P@P@P # P의 4제곱"
   ]
  },
  {
   "cell_type": "code",
   "execution_count": 318,
   "id": "18bdedd8-6d10-4654-919b-c88a62bee3a2",
   "metadata": {},
   "outputs": [
    {
     "data": {
      "text/plain": [
       "array([[0.53849182, 0.53842621],\n",
       "       [0.46150818, 0.46157379]])"
      ]
     },
     "execution_count": 318,
     "metadata": {},
     "output_type": "execute_result"
    }
   ],
   "source": [
    "P@P@P@P @ P@P@P@P # P의 8제곱 "
   ]
  },
  {
   "cell_type": "code",
   "execution_count": 319,
   "id": "8a64c8ae-85ef-44a6-89ad-e422eb614952",
   "metadata": {},
   "outputs": [
    {
     "data": {
      "text/plain": [
       "array([[0.53846154, 0.53846154],\n",
       "       [0.46153846, 0.46153846]])"
      ]
     },
     "execution_count": 319,
     "metadata": {},
     "output_type": "execute_result"
    }
   ],
   "source": [
    "P@P@P@P@P@P@P@P @ P@P@P@P@P@P@P@P # P의 16제곱 "
   ]
  },
  {
   "cell_type": "markdown",
   "id": "9f8ddf5e-ba97-405d-b1d2-25d61d5b3f59",
   "metadata": {},
   "source": [
    "${\\bf P}$가 수렴하는거 같지 않어? "
   ]
  },
  {
   "cell_type": "code",
   "execution_count": 320,
   "id": "8a1b4e55-bc02-4a3b-84e2-c833e43c81c5",
   "metadata": {},
   "outputs": [
    {
     "data": {
      "text/plain": [
       "array([[0.53846154, 0.53846154],\n",
       "       [0.46153846, 0.46153846]])"
      ]
     },
     "execution_count": 320,
     "metadata": {},
     "output_type": "execute_result"
    }
   ],
   "source": [
    "P@P@P@P@P@P@P@P@P@P@P@P@P@P@P@P @ P@P@P@P@P@P@P@P@P@P@P@P@P@P@P@P "
   ]
  },
  {
   "cell_type": "markdown",
   "id": "607f87b7-bcd8-4fe8-a18e-6ad28bcd1c90",
   "metadata": {},
   "source": [
    "대충 ${\\bf P}^{10000} \\approx {\\bf P}^{32}$"
   ]
  },
  {
   "cell_type": "code",
   "execution_count": 324,
   "id": "b19b9c8a-f45b-4059-8730-23e604cd80ed",
   "metadata": {},
   "outputs": [
    {
     "data": {
      "text/plain": [
       "array([[0.53846154, 0.53846154],\n",
       "       [0.46153846, 0.46153846]])"
      ]
     },
     "execution_count": 324,
     "metadata": {},
     "output_type": "execute_result"
    }
   ],
   "source": [
    "Plim = P@P@P@P@P@P@P@P@P@P@P@P@P@P@P@P @ P@P@P@P@P@P@P@P@P@P@P@P@P@P@P@P \n",
    "Plim "
   ]
  },
  {
   "cell_type": "code",
   "execution_count": 325,
   "id": "3d837896-61ba-4181-8e4a-7ab349d0c5c6",
   "metadata": {},
   "outputs": [
    {
     "data": {
      "text/plain": [
       "array([[0.53846154],\n",
       "       [0.46153846]])"
      ]
     },
     "execution_count": 325,
     "metadata": {},
     "output_type": "execute_result"
    }
   ],
   "source": [
    "Plim @ μ0"
   ]
  },
  {
   "cell_type": "markdown",
   "id": "f923d95f-09eb-4091-9735-66d68fa0eeb3",
   "metadata": {},
   "source": [
    "`-` 이 풀이에 따르면 10000일 뒤에 비가 올 확률은 46% 정도이다. "
   ]
  },
  {
   "cell_type": "markdown",
   "id": "3e5fa374-dd71-418b-b41b-cf08d9891aa3",
   "metadata": {},
   "source": [
    "# 풀이3 "
   ]
  },
  {
   "cell_type": "markdown",
   "id": "945eadd0-8e34-45a0-993e-667b8c66c6ba",
   "metadata": {},
   "source": [
    "`-` 세상의 법칙을 다시 정리해보자. \n",
    "\n",
    "- $X_{t-1}=0 \\Rightarrow X_t \\sim Ber(0.6)$\n",
    "- $X_{t-1}=1 \\Rightarrow X_t \\sim Ber(0.3)$"
   ]
  },
  {
   "cell_type": "markdown",
   "id": "5c2602bd-f890-4dbc-8cd8-a808269052b8",
   "metadata": {},
   "source": [
    "`-` 추측: 10000일 뒤에 비가 올 확률이 $p$라고 치자. 그렇다면 9999일 뒤에 비가 올 확률도 $p$ 아닐까? "
   ]
  },
  {
   "cell_type": "markdown",
   "id": "1eb6a370-8a92-49e6-80cc-dfa6c3adcf5d",
   "metadata": {},
   "source": [
    "***이걸 가정하고 계산해보자***"
   ]
  },
  {
   "cell_type": "markdown",
   "id": "17f11d48-ddd0-4655-a3e5-4c442189b324",
   "metadata": {},
   "source": [
    "`1`. 9999일 뒤에 비가 안 올 확률 $1-p$ \n",
    "\n",
    "- 9999일 뒤에 비가 안오고, 10000일 뒤에는 비가 올 확률: $0.6(1-p)$\n",
    "- 9999일 뒤에 비가 안오고, 10000일 뒤에는 비가 안 올 확률: $0.4(1-p)$\n",
    "\n",
    "`2`. 9999일 뒤에 비가 올 확률 $p$ \n",
    "\n",
    "- 9999일 뒤에 비가 오고, 10000일 뒤에도 비가 올 확률: $0.3p$\n",
    "- 9999일 뒤에 비가 오고, 10000일 뒤에는 비가 안 올 확률: $0.7p$"
   ]
  },
  {
   "cell_type": "markdown",
   "id": "e4576f4f-46d3-4648-b901-2b1a55e7395c",
   "metadata": {},
   "source": [
    "따라서 $0.6(1-p) + 0.3p = p$ "
   ]
  },
  {
   "cell_type": "markdown",
   "id": "1ad58464-5af7-4c16-bebf-f3c69b9d816b",
   "metadata": {},
   "source": [
    "풀어보면 $0.6/1.3 =p$ "
   ]
  },
  {
   "cell_type": "code",
   "execution_count": 336,
   "id": "a32a59bb-c649-4c21-8d23-3d954f211493",
   "metadata": {},
   "outputs": [
    {
     "data": {
      "text/plain": [
       "0.4615384615384615"
      ]
     },
     "execution_count": 336,
     "metadata": {},
     "output_type": "execute_result"
    }
   ],
   "source": [
    "0.6/1.3"
   ]
  },
  {
   "cell_type": "markdown",
   "id": "8182dc56-59f2-4888-a0d0-ca6259fb2457",
   "metadata": {},
   "source": [
    "# 풀이4 "
   ]
  },
  {
   "cell_type": "code",
   "execution_count": 335,
   "id": "f29592d8-1b52-4acd-af10-bdac7c7d418e",
   "metadata": {},
   "outputs": [
    {
     "data": {
      "text/plain": [
       "0.462"
      ]
     },
     "execution_count": 335,
     "metadata": {},
     "output_type": "execute_result"
    }
   ],
   "source": [
    "np.mean(doctor_strange(True)[1:])"
   ]
  }
 ],
 "metadata": {
  "kernelspec": {
   "display_name": "Python 3",
   "language": "python",
   "name": "python3"
  },
  "language_info": {
   "codemirror_mode": {
    "name": "ipython",
    "version": 3
   },
   "file_extension": ".py",
   "mimetype": "text/x-python",
   "name": "python",
   "nbconvert_exporter": "python",
   "pygments_lexer": "ipython3",
   "version": "3.8.16"
  }
 },
 "nbformat": 4,
 "nbformat_minor": 5
}
