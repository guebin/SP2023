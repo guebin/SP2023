{
 "cells": [
  {
   "cell_type": "raw",
   "id": "7904235a-a314-40b5-b67b-32599d775ad9",
   "metadata": {},
   "source": [
    "---\n",
    "title: \"7wk-1: 마코프체인 (2)\"\n",
    "author: \"최규빈\"\n",
    "date: \"04/13/2023\"\n",
    "---"
   ]
  },
  {
   "cell_type": "markdown",
   "id": "3b9c1cac-0ac2-42aa-8723-25cb87e1a7d8",
   "metadata": {},
   "source": [
    "# import "
   ]
  },
  {
   "cell_type": "code",
   "execution_count": 32,
   "id": "299e404e-c546-45d6-8265-069cad7cbc53",
   "metadata": {},
   "outputs": [],
   "source": [
    "import numpy as np"
   ]
  },
  {
   "cell_type": "markdown",
   "id": "8316d7fe-1925-4f4e-9f65-f69caab6ae2d",
   "metadata": {},
   "source": [
    "# 확률과정 "
   ]
  },
  {
   "cell_type": "markdown",
   "id": "a9d3b474-bb03-43cb-9175-4f1955e50859",
   "metadata": {},
   "source": [
    "`-` 동전을 무한히 던지는 시행을 생각하자. 동전을 10번 던져서 결과를 관찰했다고 하자. 동전을 30번째 던져서 앞면이 나올지 뒷면이 나올지 알고 싶다면?"
   ]
  },
  {
   "cell_type": "markdown",
   "id": "9bec00cc-60ef-4f00-b85d-c9a4a262fe33",
   "metadata": {},
   "source": [
    "`-` 현재 삼성전자 주가는 66000이다. 20일뒤의 삼성전자 주가가 얼마일지 알고 싶다면? "
   ]
  },
  {
   "cell_type": "markdown",
   "id": "2ed1b3a1-02a8-44ff-bcf8-d8b7b8e7259f",
   "metadata": {},
   "source": [
    "`-` 원래 미래를 예측하기 위해서 해야하는 과정 "
   ]
  },
  {
   "cell_type": "markdown",
   "id": "db3f6f45-e1b4-42eb-bf86-67b4d961f502",
   "metadata": {},
   "source": [
    "![그림1: 1400만개의 미래를 탐색중인 Doctor Strange](https://i.redd.it/dkfg72px80y21.jpg)"
   ]
  },
  {
   "cell_type": "markdown",
   "id": "c0f83a4e-f871-4e27-85f8-b803bea77c11",
   "metadata": {},
   "source": [
    "`-` 하지만 현실적으로는 이게 너무 힘들지 않을까? "
   ]
  },
  {
   "cell_type": "markdown",
   "id": "40f9c4f2-8716-4af7-8423-228a81e29a61",
   "metadata": {},
   "source": [
    "# 날씨예측"
   ]
  },
  {
   "cell_type": "markdown",
   "id": "1d7975dd-dad0-4641-b7fa-48fdefb5c569",
   "metadata": {},
   "source": [
    "`-` 아래와 같이 세상의 법칙이 있다고 하자. \n",
    "\n",
    "- 어제 맑음 $\\to$ 오늘도 맑음: 40% // 오늘은 비: 60% \n",
    "- 어제 비 $\\to$ 오늘은 맑음: 70% // 오늘도 비 30%"
   ]
  },
  {
   "cell_type": "markdown",
   "id": "de57ef9c-819d-476b-8680-bc225004e4ad",
   "metadata": {},
   "source": [
    "`-` 모든 $t$에 대하여 확률변수 $X_t$를 아래와 같이 정의하자. \n",
    "\n",
    "- $X_t=\\begin{cases} 0 & \\text{맑음} \\\\ 1 & \\text{비} \\end{cases}$ \n"
   ]
  },
  {
   "cell_type": "markdown",
   "id": "8c0a3c9b-70e2-4300-9c31-f94c6ced1812",
   "metadata": {},
   "source": [
    "`-` 오늘 (2023년4월13일) 비가 왔다고 치자. 10000일 뒤에도 비가 올 확률은 얼마일까? "
   ]
  }
 ],
 "metadata": {
  "kernelspec": {
   "display_name": "Python 3",
   "language": "python",
   "name": "python3"
  },
  "language_info": {
   "codemirror_mode": {
    "name": "ipython",
    "version": 3
   },
   "file_extension": ".py",
   "mimetype": "text/x-python",
   "name": "python",
   "nbconvert_exporter": "python",
   "pygments_lexer": "ipython3",
   "version": "3.8.16"
  }
 },
 "nbformat": 4,
 "nbformat_minor": 5
}
