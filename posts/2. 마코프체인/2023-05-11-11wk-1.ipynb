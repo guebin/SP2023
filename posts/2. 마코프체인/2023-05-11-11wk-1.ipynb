{
 "cells": [
  {
   "cell_type": "raw",
   "id": "3cde362b-5932-47c4-934b-890bb32ed285",
   "metadata": {},
   "source": [
    "---\n",
    "title: \"11wk-1: 마코프체인 (8)\"\n",
    "author: \"최규빈\"\n",
    "date: \"05/11/2023\"\n",
    "bibliography: ref.bib\n",
    "---"
   ]
  },
  {
   "cell_type": "markdown",
   "id": "c01aea5f-ed92-4547-9475-da936a7d0079",
   "metadata": {},
   "source": [
    "# 강의영상 "
   ]
  },
  {
   "cell_type": "markdown",
   "id": "2e4a5955-85c6-4c5a-80b8-2952318161b0",
   "metadata": {},
   "source": [
    "> youtube: <https://youtube.com/playlist?list=PLQqh36zP38-wPUBATQ2c1npACK21EgDsx> "
   ]
  },
  {
   "cell_type": "markdown",
   "id": "fb26cf0b-e6cf-43fc-8042-d0085b06ddb3",
   "metadata": {},
   "source": [
    "# 예비학습 "
   ]
  },
  {
   "cell_type": "markdown",
   "id": "3ce84ab4-5428-41f3-9ff4-584c91a29c91",
   "metadata": {},
   "source": [
    "## 약한조건, 약한정리, 강한조건, 강한정리 "
   ]
  },
  {
   "cell_type": "markdown",
   "id": "4b7bd36e-eada-4f67-a915-a9f1f191939f",
   "metadata": {},
   "source": [
    "`-` 정리: 어떠한 조건을 만족하면, 어떠한 결론이 나온다. \n",
    "\n",
    "- 결론: 우리가 원하는 것. \n",
    "- 조건: 우리가 원하는 것을 얻기 위한 고난과정."
   ]
  },
  {
   "cell_type": "markdown",
   "id": "7ea158fb-a992-44e1-b7d7-8e6b27b5e550",
   "metadata": {},
   "source": [
    "`-` 결론이 동일하다면 조건이 약할 수록 유리하다. \n",
    "\n",
    "- 정리1: 수업에 온라인으로 참석하거나 오프라인으로 참석한다면 모두 출석으로 인정한다. \n",
    "- 정리2: 수업에 오프라인으로 참석할때만 출석으로 인정한다. "
   ]
  },
  {
   "cell_type": "markdown",
   "id": "6d10ebf8-fe32-4afd-a126-61b591ff2d5e",
   "metadata": {},
   "source": [
    "> 정리2의 조건이 만족되면 정리1의 조건은 자동으로 만족된다. 따라서 정리2의 조건이 더 강한 조건이다. 조건이 강할수록 불리하므로 정리2가 더 불리하다. "
   ]
  },
  {
   "cell_type": "markdown",
   "id": "92f5f11b-4acd-4119-b9b1-c5363799fe74",
   "metadata": {},
   "source": [
    "`-` 조건이 동일하다면 결론이 강한 쪽이 유리하다. \n",
    "\n",
    "- 정리1: 중간고사와 기말고사를 모두 응시한다면, B학점 이상이다. \n",
    "- 정리2: 중간고사와 기말고사를 모두 응시한다면, A학점 이상이다. "
   ]
  },
  {
   "cell_type": "markdown",
   "id": "6a8d6b4c-198e-440c-b090-89079fca50b4",
   "metadata": {},
   "source": [
    "> 정리2의 결론이 만족되면 정리1의 결론은 자동으로 만족되므로 정리2의 결론이 더 강하다. 결론은 강할수록 유리하므로 정리2가 더 유리하다. "
   ]
  },
  {
   "cell_type": "markdown",
   "id": "118ef7d8-78ba-4cf2-92b3-d57c127d254c",
   "metadata": {
    "slideshow": {
     "slide_type": "slide"
    }
   },
   "source": [
    "## 헷갈리는 표현: $\\infty$의 포함"
   ]
  },
  {
   "cell_type": "markdown",
   "id": "bde4cd3b-f00c-478e-989b-20502bb0b3b6",
   "metadata": {
    "slideshow": {
     "slide_type": "fragment"
    }
   },
   "source": [
    "`-` 자연수집합 $\\mathbb{N}$은 $\\{\\infty\\}$를 포함하지 않는다. 마찬가지로 실수집합 $\\mathbb{R}$ 역시 $\\{-\\infty\\}, \\{\\infty\\}$를 포함하지 않는다. 만약에 이를 포함하고 싶을 경우는 아래와 같이 표현한다. \n",
    "\n",
    "- $\\mathbb{R} \\cup \\{-\\infty\\} \\cup \\{\\infty\\} = \\bar{\\mathbb{R}}$\n",
    "- $\\mathbb{N} \\cup \\{-\\infty\\}$ \n",
    "\n",
    "여기에서 $\\bar{\\mathbb{R}}$은 확장된 실수라고 부르는데 교재에따라 사용하기도 하고 사용하지 않기도 한다. "
   ]
  },
  {
   "cell_type": "markdown",
   "id": "bd90073e-dd79-47af-abae-a8543e4af7a3",
   "metadata": {
    "slideshow": {
     "slide_type": "slide"
    }
   },
   "source": [
    "`-` 만약에 $\\mathbb{N}$이 $\\{\\infty\\}$를 포함한다면 \n",
    "\n",
    "- $\\forall n \\in \\mathbb{N}:~  0<\\frac{1}{n} \\leq 1$ \n",
    "\n",
    "와 같은 표현은 불가능할 것이다. "
   ]
  },
  {
   "cell_type": "markdown",
   "id": "8fc221ff-b84b-452c-9e1f-c423d11fdd8d",
   "metadata": {
    "slideshow": {
     "slide_type": "slide"
    }
   },
   "source": [
    "`-` 구간에 대한 표현들: 구간에 대한 몇가지 표현을 정리하면 아래와 같다.  \n",
    "\n",
    "- $(-\\infty, b] = \\{x: x\\leq b, ~x,b \\in \\mathbb{R}\\}$ \n",
    "- $(-\\infty, b) = \\{x: x < b,~ x,b \\in \\mathbb{R}\\}$ "
   ]
  },
  {
   "cell_type": "markdown",
   "id": "23a8c949-a5fc-4368-8538-c90e088e8bbf",
   "metadata": {},
   "source": [
    "# Transition matrix의 수렴 -- 극한분포 관련내용 "
   ]
  },
  {
   "cell_type": "markdown",
   "id": "b23c6f24-6908-4d6c-99b7-4afafd66b613",
   "metadata": {},
   "source": [
    "`-` **정의:** Finite HMC $\\{X_t\\}$를 고려하자. ${\\bf P}$를 $\\{X_t\\}$의 전이행렬이라고 하자. 만약 \n",
    "\n",
    "$$\\lim_{t\\to \\infty}{\\bf P}^{t} = {\\bf P}^\\star$$\n",
    "\n",
    "가 존재하고 ${\\bf P}^\\star$의 모든 row가 동일한 벡터를 가진다면^[세로로 읽을때 값이 같다면] ${\\bf P}^\\star$의 임의의 row-vector ${\\bf p_{\\star}^\\top}$ 를 $\\{X_t\\}$의 극한분포 (limiting distribution) 라고 한다. "
   ]
  },
  {
   "cell_type": "markdown",
   "id": "50bd282e-269a-4fa7-bc59-040affe6d17f",
   "metadata": {},
   "source": [
    "`-` 이론: 극한분포가 존재한다면, 유일하다. (그래서 극한분포는 기껏해야 (at most) 1개 존재한다.)"
   ]
  },
  {
   "cell_type": "markdown",
   "id": "6f6c3112-0501-4147-b19d-e21075db7c7e",
   "metadata": {},
   "source": [
    "`-` **Thm**: Finite HMC $\\{X_t\\}$를 고려하자. 운이 좋아서 $\\{X_t\\}$의 극한분포 ${\\bf p}_\\star^\\top$가 존재한다고 하자. 그렇다면 극한분포 ${\\bf p}_\\star^\\top$는 아래식을 만족한다. \n",
    "\n",
    "$${\\bf p}_\\star^\\top {\\bf P} = {\\bf p}_\\star^\\top$$"
   ]
  },
  {
   "cell_type": "markdown",
   "id": "d92c88a8-4333-4b33-b022-97b26ce8fc1c",
   "metadata": {},
   "source": [
    "즉 ${\\bf p}_\\star^\\top$는 정상분포의 정의를 만족한다. "
   ]
  },
  {
   "cell_type": "markdown",
   "id": "a8965e00-d238-4dbb-b15c-1a0d6edea98c",
   "metadata": {},
   "source": [
    "- 의미1: 따라서 ${\\bf p}_\\star^\\top$가 존재한다면, ${\\bf p}_\\star^\\top={\\boldsymbol \\pi}^\\top$라고 놓을 수 있다. \n",
    "- 의미2: ${\\bf P}$가 동일한 row를 가지는 어떠한 매트릭스로 수렴한다면, 아무 row나 가져와서 ${\\boldsymbol \\pi}^\\top$라고 주장해도 무방하다. \n",
    "- **주의: 이 이론에서 finite의 조건이 빠진다면 분포의 정의를 만족하지 않을 수 있다.** (좀 이따가 설명)"
   ]
  },
  {
   "cell_type": "markdown",
   "id": "5d136169-44e7-4b23-ab1e-8d2cbde45edf",
   "metadata": {},
   "source": [
    "`-` 예제1: 극한분포가 존재하지 않는 경우1 (**AP조건을 만족하지 않는 경우**)"
   ]
  },
  {
   "cell_type": "markdown",
   "id": "4a1a9417-6675-4e3f-b3f7-06e6d845158f",
   "metadata": {},
   "source": [
    "예시1"
   ]
  },
  {
   "cell_type": "code",
   "execution_count": 12,
   "id": "7aac2c2b-d952-4c61-b6d1-bc227adff9b1",
   "metadata": {},
   "outputs": [
    {
     "data": {
      "text/plain": [
       "array([[0, 1],\n",
       "       [1, 0]])"
      ]
     },
     "execution_count": 12,
     "metadata": {},
     "output_type": "execute_result"
    }
   ],
   "source": [
    "P= np.array([[0,1],\n",
    "             [1,0]])\n",
    "P"
   ]
  },
  {
   "cell_type": "markdown",
   "id": "8679fd0c-4c86-4b99-b76c-0066a5cfb9ba",
   "metadata": {},
   "source": [
    "예시2"
   ]
  },
  {
   "cell_type": "code",
   "execution_count": 13,
   "id": "9687487a-25f6-459b-ba3e-cad01103db9d",
   "metadata": {},
   "outputs": [
    {
     "data": {
      "text/plain": [
       "array([[0, 1, 0],\n",
       "       [0, 0, 1],\n",
       "       [1, 0, 0]])"
      ]
     },
     "execution_count": 13,
     "metadata": {},
     "output_type": "execute_result"
    }
   ],
   "source": [
    "P= np.array([[0,1,0],\n",
    "             [0,0,1],\n",
    "             [1,0,0]])\n",
    "P"
   ]
  },
  {
   "cell_type": "markdown",
   "id": "fd49b8ed-fdf4-435d-a0d8-b20222d52323",
   "metadata": {},
   "source": [
    "`-` 예제2: 극한분포가 존재하지 않는 경우2 (**IRR조건을 만족하지 않는 경우**)"
   ]
  },
  {
   "cell_type": "markdown",
   "id": "0b999905-38b9-4f1c-87ce-2aca209db92d",
   "metadata": {},
   "source": [
    "예시1"
   ]
  },
  {
   "cell_type": "code",
   "execution_count": 9,
   "id": "11f01da2-d932-4662-89f5-f8fa1a082329",
   "metadata": {},
   "outputs": [
    {
     "data": {
      "text/plain": [
       "array([[1, 0],\n",
       "       [0, 1]])"
      ]
     },
     "execution_count": 9,
     "metadata": {},
     "output_type": "execute_result"
    }
   ],
   "source": [
    "P = np.array([[1,0],\n",
    "              [0,1]])\n",
    "P"
   ]
  },
  {
   "cell_type": "markdown",
   "id": "ea2b163c-fb82-47e3-9d29-74fcd6b33aa6",
   "metadata": {},
   "source": [
    "예시2"
   ]
  },
  {
   "cell_type": "code",
   "execution_count": 11,
   "id": "f7c92c07-f28a-482e-9f6a-811cfb82ec9a",
   "metadata": {},
   "outputs": [
    {
     "data": {
      "text/plain": [
       "array([[0.25, 0.25, 0.  , 0.  ],\n",
       "       [0.25, 0.25, 0.  , 0.  ],\n",
       "       [0.  , 0.  , 0.25, 0.25],\n",
       "       [0.  , 0.  , 0.25, 0.25]])"
      ]
     },
     "execution_count": 11,
     "metadata": {},
     "output_type": "execute_result"
    }
   ],
   "source": [
    "P = np.array([[1,1,0,0],\n",
    "              [1,1,0,0],\n",
    "              [0,0,1,1],\n",
    "              [0,0,1,1]])/4\n",
    "P"
   ]
  },
  {
   "cell_type": "markdown",
   "id": "a1d725db-aef1-44e6-b0dd-b125483d6ba9",
   "metadata": {},
   "source": [
    "`-` **Thm**: 확률변수열 $\\{X_t\\}$가 finite, irreducible, aperiodic HMC 라고 하자.^[에르고딕 마코프체인이라는 의미] 그렇다면 극한분포 ${\\bf p}_{\\star}^\\top$이 항상 존재한다. "
   ]
  },
  {
   "cell_type": "markdown",
   "id": "a4194a85-708a-4e45-9be5-5cb64f77187e",
   "metadata": {},
   "source": [
    "# FINITE HMC에 대한 정리"
   ]
  },
  {
   "cell_type": "markdown",
   "id": "d4e0cf41-407d-4e84-9c4f-3f860cbfbe63",
   "metadata": {},
   "source": [
    "## 이론의 정리 "
   ]
  },
  {
   "cell_type": "markdown",
   "id": "a58beb93-c30c-4fc2-8c7a-d03a8ff08152",
   "metadata": {},
   "source": [
    "`-` $\\{X_t\\}$는 HMC 라고 하자. "
   ]
  },
  {
   "cell_type": "markdown",
   "id": "3c25f1a6-6737-4dcf-9de2-97b1905c8706",
   "metadata": {},
   "source": [
    "|CaseNO|대표예제|FINITE|IRR(연결)|AP(비주기)|${\\bf P}$의 수렴|극한분포유일존재|정상분포존재|정상분포유일|에르고딕정리를 만족|에르고딕|\n",
    "|:-:|:-:|:-:|:-:|:-:|:-:|:-:|:-:|:-:|:-:|:-:|\n",
    "|1||O|X|X| X|X|O|X|X|X\n",
    "|2|단위행렬|O|X|O| O|X|O|X|X|X|\n",
    "|3|순환이동|O|O|X| X|X|O|O|O|X|\n",
    "|4|나이스|O|O|O| O|O|O|O|O|O|"
   ]
  },
  {
   "cell_type": "markdown",
   "id": "8a79ea0e-e48b-40d1-9493-a90a4fef10d7",
   "metadata": {},
   "source": [
    "`-` CaseNO==1 의 예제"
   ]
  },
  {
   "cell_type": "markdown",
   "id": "cfc01aae-c174-4440-ad8e-dd8b2318f677",
   "metadata": {},
   "source": [
    "## Emprical 분포, 정상분포, 극한분포 "
   ]
  },
  {
   "cell_type": "markdown",
   "id": "65a09d6f-13b2-4246-ab21-2e951477f530",
   "metadata": {},
   "source": [
    "`-` Emprical distribution, 정상분포, 극한분포 \n",
    "\n",
    "- $\\bar{\\boldsymbol \\pi}^\\top$: 하나의 $\\omega$에 대한 확률변수열 $\\{X_t\\}$의 emprical distribution (time average로 분포를 추정)\n",
    "- ${\\boldsymbol \\pi}^\\top$: 모든 $\\omega$를 고려하였을 경우 확률변수열 $\\{X_t\\}$의 정상분포. \n",
    "- ${\\bf p}_{\\star}^\\top$: $\\omega$와 무관하게 ${\\bf P}$의 극한으로 얻어지는 $\\{X_t\\}$의 극한분포. // 마코프체인에 특화 "
   ]
  },
  {
   "cell_type": "markdown",
   "id": "b3448747-4dee-4630-8da4-b223a06372f1",
   "metadata": {},
   "source": [
    "`-` 표로 정리하면 아래와 같다. "
   ]
  },
  {
   "cell_type": "markdown",
   "id": "8d60ec77-2fc8-47a8-b0aa-5032b9f44fdf",
   "metadata": {},
   "source": [
    "||Empirical 분포|정상분포|극한분포|\n",
    "|:-:|:-:|:-:|:-:|\n",
    "|용어가 통용되는 범위|모든 확률과정|모든 확률과정|마코프체인|\n",
    "|기호|$\\bar{\\boldsymbol \\pi} = \\frac{1}{T}\\begin{bmatrix}{\\tt sum}(X_t==0) \\\\ {\\tt sum}(X_t==1)\\end{bmatrix}$|${\\boldsymbol \\pi}=\\begin{bmatrix}\\mathbb{E}(I(X=0))\\\\ \\mathbb{E}(I(X=1)) \\end{bmatrix}$|${\\bf p}_{\\star}= \\lim_{t\\to \\infty}\\begin{bmatrix}p_{?0}^{(t)} \\\\ p_{?1}^{(t)}  \\end{bmatrix}$|\n",
    "|$\\omega$의 고려|하나의 $\\omega$만 고려해 계산|모든 $\\omega$ 고려해 계산| $\\omega$를 고려하지 않고 계산| \n",
    "|통계느낌(분포느낌?)|O|O|X| \n",
    "|이론적인값?|X|O|O|\n",
    "|데이터와 관련|O|X|X|\n",
    "|극한과 관련|O|X|O|\n",
    "|LLN과 관련|O |O|X|\n",
    "|느낌|데이터로 계산한 평균값|이론적인 기대값| 이론적인 수렴값|"
   ]
  },
  {
   "cell_type": "markdown",
   "id": "9567effa-b3c4-407d-9d82-5c5d0de3af7f",
   "metadata": {},
   "source": [
    "## 이론들의 의미를 다시 고찰"
   ]
  },
  {
   "cell_type": "markdown",
   "id": "5312d7cf-7e60-4f5b-92d8-9ef5f2d3b12d",
   "metadata": {},
   "source": [
    "`-` 에르고딕정리: 임피리컬분포와 정상분포에 관련한 정리 (LLN보다 더 약한 조건을 가짐)\n",
    "\n",
    "- 의미1: 에르고딕 정리를 만족하지 못하는 경우 하나의 확률변수열을 이용한 추론이 불가능\n"
   ]
  },
  {
   "cell_type": "code",
   "execution_count": 38,
   "id": "f5723b6c-ec38-49e7-93c2-c5c7b9f51fd9",
   "metadata": {},
   "outputs": [
    {
     "data": {
      "text/plain": [
       "array([[0.5, 0.5, 0. , 0. ],\n",
       "       [0.5, 0.5, 0. , 0. ],\n",
       "       [0. , 0. , 0.5, 0.5],\n",
       "       [0. , 0. , 0.5, 0.5]])"
      ]
     },
     "execution_count": 38,
     "metadata": {},
     "output_type": "execute_result"
    }
   ],
   "source": [
    "## 예시\n",
    "P =np.array([[1,1,0,0],\n",
    "             [1,1,0,0],\n",
    "             [0,0,1,1],\n",
    "             [0,0,1,1]])/2\n",
    "P"
   ]
  },
  {
   "cell_type": "markdown",
   "id": "7442e3e8-0bab-4559-8b19-9c9d72144d6f",
   "metadata": {},
   "source": [
    "- 의미2: 에르고딕 정리를 만족하는 경우 $X_1,X_2,\\dots$이 동일한 분포를 가지지 않지만 무시하고 $\\pi$를 추정할 수있다. "
   ]
  },
  {
   "cell_type": "markdown",
   "id": "8d6a656a-8a4b-4858-a659-316334b16a00",
   "metadata": {},
   "source": [
    "`-` 극한분포와 관련된 이론: 극한분포의 느낌은 초기값에 대한 삭제임 \n",
    "\n",
    "- 극한분포는 어차피 $\\omega$를 신경안씀\n",
    "- ${\\boldsymbol \\mu}_0$는 아무상관이 없음 \n",
    "- 결국 극한분포가 존재한다면 시간의존성이 삭제된다는 의미임 "
   ]
  },
  {
   "cell_type": "markdown",
   "id": "3ff5417c-0cec-45f7-9c44-a872053e69a4",
   "metadata": {},
   "source": [
    "## 스토리정리 "
   ]
  },
  {
   "cell_type": "markdown",
   "id": "0be31ce8-da10-47b2-bcaf-ebe67840c672",
   "metadata": {},
   "source": [
    "`-` FINITE HMC는 일단 정상분포라는게 존재함. 그런데 유일하지 않을 수 있음. "
   ]
  },
  {
   "cell_type": "markdown",
   "id": "7b0acd65-6194-421b-a4b6-01cb9ac683c7",
   "metadata": {},
   "source": [
    "`-` FINITE HMC는 크게보면 IRR인 케이스와 IRR 아닌 케이스로 나누어짐 \n",
    "\n",
    "- 그런데 IRR이 아닌 케이스는 IRR인 케이스들의 조합으로 나누어 생각할 수 있음 \n",
    "- 그래서 어차피 신경쓸 필요 없음. \n",
    "- 따라서 모든 마코프체인은 IRR이라고 가정해버려도 무방 "
   ]
  },
  {
   "cell_type": "markdown",
   "id": "9513d0a7-d5ef-417a-b8bb-7f98e6220476",
   "metadata": {},
   "source": [
    "`-` 만약에 HMC가 (1) FINITE (2) IRR 이면 유일한 정상분포가 존재. \n",
    "\n",
    "- 심지어 이 조건에서는 에르고딕정리를 이용해서 임피리컬 분포로 정상분포를 estimate 할 수 있음. "
   ]
  },
  {
   "cell_type": "markdown",
   "id": "84517868-7b06-49ba-9587-50b5a0286b8a",
   "metadata": {},
   "source": [
    "`-` 그러면 HMC가 (1) FINITE (2) IRR 이면 다 끝? \n",
    "\n",
    "- 언뜻 생각하면 그런거 같음. \n",
    "- 그런데 에르고딕 정리를 만족한다고 해서 초기분포에 대한 기억이 사라지는건 아님\n",
    "- 몇 가지 응용예제에서는 초기분포에 대한 의존성을 삭제시키는 것이 매우 중요함. \n",
    "- 이걸 위해서는 AP조건이 추가되어야 함. "
   ]
  },
  {
   "cell_type": "markdown",
   "id": "f0854d0f-cc53-4c3d-8fc0-1448bc5aa2b1",
   "metadata": {},
   "source": [
    "`-` HMC가 (1) FINITE (2) IRR (3) AP 라면 아주 좋음. "
   ]
  },
  {
   "cell_type": "markdown",
   "id": "b9875b6d-7a59-48f9-9711-f4d1fb2ad770",
   "metadata": {},
   "source": [
    "# 예제: 한쪽 방향으로만 갈래"
   ]
  },
  {
   "cell_type": "markdown",
   "id": "d4fbdd10-8af3-436d-a4e8-b0cdd07686b4",
   "metadata": {},
   "source": [
    "확률변수열 $\\{X_t\\}$가 HMC라고 하고, 그 transition matrix ${\\bf P}$ (혹은 그 비슷한 것) 가 아래와 같다고 하자. "
   ]
  },
  {
   "cell_type": "markdown",
   "id": "2ea8e945-06d3-42c1-a768-83610e1f1dc9",
   "metadata": {},
   "source": [
    "$${\\bf P} = \\begin{bmatrix} \n",
    "0 & 1 & 0 & 0 & 0 & \\dots \\\\ \n",
    "0 & 0 & 1 & 0 & 0 & \\dots \\\\ \n",
    "0 & 0 & 0 & 1 & 0 & \\dots \\\\ \n",
    "0 & 0 & 0 & 0 & 1 & \\dots \\\\ \n",
    "\\dots & \\dots & \\dots & \\dots & \\dots & \\dots \n",
    "\\end{bmatrix}$$"
   ]
  },
  {
   "cell_type": "markdown",
   "id": "9868de91-907e-40e4-8433-cbb96f9cfca8",
   "metadata": {},
   "source": [
    "`-` 의미: $i \\to i+1$와 같은 평행이동만 한다는 뜻이다. "
   ]
  },
  {
   "cell_type": "markdown",
   "id": "a6a0a95b-25e1-4dc4-910a-484de9e5ebf0",
   "metadata": {},
   "source": [
    "`-` 특징1: 정상분포가 존재하지 않음. "
   ]
  },
  {
   "cell_type": "markdown",
   "id": "229bf9c3-c7cc-492c-80b9-192552af1182",
   "metadata": {},
   "source": [
    "정상분포 ${\\boldsymbol \\pi}^\\top=[\\pi_0,\\pi_1,\\pi_2,\\dots]$ 가 존재하기 위해서는 아래가 성립해야 한다. \n",
    "\n",
    "- $\\pi_0=\\pi_1$ \n",
    "- $\\pi_1=\\pi_2$ \n",
    "- $\\pi_1=\\pi_2$ \n",
    "- $\\dots$"
   ]
  },
  {
   "cell_type": "markdown",
   "id": "a43fea56-2ce3-4fc3-8bf8-3a851e9a9931",
   "metadata": {},
   "source": [
    "즉 모든 $n \\in \\mathbb{N}_0$에 대하여 $\\pi_0=\\pi_n$이 성립해아한다. 그런데 그럴 수 없다. "
   ]
  },
  {
   "cell_type": "markdown",
   "id": "794d4605-7543-4bb2-89aa-d2a48c266b0b",
   "metadata": {},
   "source": [
    "`-` 특징2: ${\\bf P}$의 거듭제곱이 동일한 row vector를 가지는 매트릭스로 수렴하지만, ${\\bf p}_\\star^\\top$가 극한분포가 되지 않음. "
   ]
  },
  {
   "cell_type": "code",
   "execution_count": 37,
   "id": "eaa72e99-d4c6-41de-8e19-0d44ab372abc",
   "metadata": {},
   "outputs": [
    {
     "data": {
      "text/plain": [
       "array([[0, 0, 1, 0, 0],\n",
       "       [0, 0, 0, 1, 0],\n",
       "       [0, 0, 0, 0, 1],\n",
       "       [0, 0, 0, 0, 0],\n",
       "       [0, 0, 0, 0, 0]])"
      ]
     },
     "execution_count": 37,
     "metadata": {},
     "output_type": "execute_result"
    }
   ],
   "source": [
    "P = np.array([[0,1,0,0,0],\n",
    "              [0,0,1,0,0],\n",
    "              [0,0,0,1,0],\n",
    "              [0,0,0,0,1],\n",
    "              [0,0,0,0,0]])\n",
    "P@P"
   ]
  },
  {
   "cell_type": "markdown",
   "id": "8aaf756f-d2f0-4879-8a15-bf99bfd22db2",
   "metadata": {},
   "source": [
    "${\\bf p}_{\\star}^\\top$는 그냥 0으로 수렴한다. (왜냐하면 모든 $i \\in S = \\mathbb{N}_0$에 대하여 ${\\bf p}_{\\star}^\\top$의 $i$-th element는 0 이므로) 따라서 ${\\tt sum}({\\bf p}_{\\star}^\\top)=0$ 이다. 그래서 ${\\bf p}_{\\star}^\\top$은 pmf의 정의를 만족하지 않음. "
   ]
  }
 ],
 "metadata": {
  "kernelspec": {
   "display_name": "Python 3",
   "language": "python",
   "name": "python3"
  },
  "language_info": {
   "codemirror_mode": {
    "name": "ipython",
    "version": 3
   },
   "file_extension": ".py",
   "mimetype": "text/x-python",
   "name": "python",
   "nbconvert_exporter": "python",
   "pygments_lexer": "ipython3",
   "version": "3.8.16"
  }
 },
 "nbformat": 4,
 "nbformat_minor": 5
}
