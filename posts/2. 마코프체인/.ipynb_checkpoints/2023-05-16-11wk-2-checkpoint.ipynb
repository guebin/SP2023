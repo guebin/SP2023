{
 "cells": [
  {
   "cell_type": "raw",
   "id": "a345ec83-aae3-4b26-81ab-920924dd44d9",
   "metadata": {},
   "source": [
    "---\n",
    "title: \"11wk-2: 마코프체인 (9)\"\n",
    "author: \"최규빈\"\n",
    "date: \"05/16/2023\"\n",
    "bibliography: ref.bib\n",
    "title-block-style: none\n",
    "title-block-banner: false\n",
    "---"
   ]
  },
  {
   "cell_type": "markdown",
   "id": "5f33acc5-2f6d-408f-9de0-02c038be73c0",
   "metadata": {},
   "source": [
    "# 강의영상 "
   ]
  },
  {
   "cell_type": "markdown",
   "id": "36239faa-a78e-464f-9014-38c0954fe8e3",
   "metadata": {},
   "source": [
    "`-` 수업시간 중 잘못 설명한 부분이 있어서 재촬영합니다. "
   ]
  },
  {
   "cell_type": "markdown",
   "id": "f28d575c-c54a-4806-af84-92c56a368838",
   "metadata": {},
   "source": [
    "# imports "
   ]
  },
  {
   "cell_type": "code",
   "execution_count": 8,
   "id": "3239a6ca-15a9-4e7b-bd9f-ba81eabbbabe",
   "metadata": {},
   "outputs": [],
   "source": [
    "import numpy as np"
   ]
  },
  {
   "cell_type": "markdown",
   "id": "3ed291f7-6798-4166-9454-af5e701c69bb",
   "metadata": {},
   "source": [
    "# 예비학습 (동치류)"
   ]
  },
  {
   "cell_type": "markdown",
   "id": "a1e168bd-6019-4894-a682-c83bf39bcd37",
   "metadata": {},
   "source": [
    "## intro"
   ]
  },
  {
   "cell_type": "markdown",
   "id": "a6d7235c-ccb5-4ef1-a47a-1459c2a8ad8d",
   "metadata": {},
   "source": [
    "`-` 같다(=) 라는 개념의 추상화 "
   ]
  },
  {
   "cell_type": "markdown",
   "id": "cffd742b-fab2-4e5c-8c3e-c0f8c80b3da2",
   "metadata": {},
   "source": [
    "`-` 예시1: 아래의 리스트에서 같은 원소끼리 묶어라. "
   ]
  },
  {
   "cell_type": "code",
   "execution_count": 18,
   "id": "35d715c9-28f1-4dfd-949d-9658b49350d5",
   "metadata": {},
   "outputs": [
    {
     "data": {
      "text/plain": [
       "[1, 1, 2, 2, 3, 3, 3]"
      ]
     },
     "execution_count": 18,
     "metadata": {},
     "output_type": "execute_result"
    }
   ],
   "source": [
    "[1,1,2,2,3,3,3]"
   ]
  },
  {
   "cell_type": "code",
   "execution_count": 19,
   "id": "3da55aa3-ff1e-4915-a307-191ab9078023",
   "metadata": {},
   "outputs": [
    {
     "data": {
      "text/plain": [
       "[[1, 1], [2, 2], [3, 3, 3]]"
      ]
     },
     "execution_count": 19,
     "metadata": {},
     "output_type": "execute_result"
    }
   ],
   "source": [
    "[[1,1], [2,2], [3,3,3]]"
   ]
  },
  {
   "cell_type": "markdown",
   "id": "93f551f6-0e1e-4dce-a425-b7e4000a8e57",
   "metadata": {},
   "source": [
    "> 같은 원소들의 모임을 동치류 (equivalence class) 라고 한다. 이 예제에서는 3개의 동치류가 있는 셈. "
   ]
  },
  {
   "cell_type": "markdown",
   "id": "202d428f-d575-437a-8c89-7e48cc615597",
   "metadata": {},
   "source": [
    "`-` 예시2: 아래의 리스트에서 같은 원소끼리 묶어라. "
   ]
  },
  {
   "cell_type": "code",
   "execution_count": 43,
   "id": "ea5d3d8f-05c5-4f12-831d-6e98f021e0a7",
   "metadata": {},
   "outputs": [
    {
     "data": {
      "text/plain": [
       "[1, 1.0, 2, 2, 3, 3, 3]"
      ]
     },
     "execution_count": 43,
     "metadata": {},
     "output_type": "execute_result"
    }
   ],
   "source": [
    "lst = [1, 1.0, 2, 2, 3, 3, 3]\n",
    "lst "
   ]
  },
  {
   "cell_type": "markdown",
   "id": "d4583369-2a6e-4334-939d-48b7a8ba9203",
   "metadata": {},
   "source": [
    "- 어떻게 할까? (수학적으로 볼까? 프로그래밍적으로 볼까?) \n",
    "- 같다라는건 뭐지? "
   ]
  },
  {
   "cell_type": "markdown",
   "id": "63721489-40d4-4c62-bcc2-2cdc680eed04",
   "metadata": {},
   "source": [
    "## \"같다\"의 개념을 추상화"
   ]
  },
  {
   "cell_type": "markdown",
   "id": "91b5221a-721b-482e-99d3-c27e0e1553e8",
   "metadata": {},
   "source": [
    "`-` \"같다\"라는 개념을 좀 일반화 해보자. \n",
    "\n",
    "- 같다라는 것은 \"어떠한 기준으로 판단하였을 경우\" 그 결과가 같은 집합으로 묶인다는 것을 의미 "
   ]
  },
  {
   "cell_type": "markdown",
   "id": "37082e5d-6288-441d-bdfa-323bea807e19",
   "metadata": {},
   "source": [
    "`-` 아래의 예시를 다시 관찰하자."
   ]
  },
  {
   "cell_type": "code",
   "execution_count": 44,
   "id": "1040a507-1dbe-460b-881a-ba13dd0a1e53",
   "metadata": {},
   "outputs": [
    {
     "data": {
      "text/plain": [
       "[1, 1.0, 2, 2, 3, 3, 3]"
      ]
     },
     "execution_count": 44,
     "metadata": {},
     "output_type": "execute_result"
    }
   ],
   "source": [
    "lst = [1, 1.0, 2, 2, 3, 3, 3]\n",
    "lst "
   ]
  },
  {
   "cell_type": "markdown",
   "id": "19d91cbc-b151-4c6c-aa2a-ef033fb14744",
   "metadata": {},
   "source": [
    "(경우1) "
   ]
  },
  {
   "cell_type": "markdown",
   "id": "6db0cfb6-5f52-4d62-a2c8-55777efc600d",
   "metadata": {},
   "source": [
    "판단기준을 \"수학적인 값이 같음\"으로 설정한다면 `lst[0]`과 `lst[1]`은 같다. "
   ]
  },
  {
   "cell_type": "code",
   "execution_count": 47,
   "id": "3f9eac8a-3cb5-43b1-b067-2b87b5f3ef09",
   "metadata": {},
   "outputs": [
    {
     "data": {
      "text/plain": [
       "True"
      ]
     },
     "execution_count": 47,
     "metadata": {},
     "output_type": "execute_result"
    }
   ],
   "source": [
    "lst[0] == lst[1]"
   ]
  },
  {
   "cell_type": "markdown",
   "id": "47e2e7b8-c1f0-48fd-acf3-9e108e4c275d",
   "metadata": {},
   "source": [
    "따라서 아래와 같은 분류가 합리적이다. "
   ]
  },
  {
   "cell_type": "code",
   "execution_count": 37,
   "id": "e933b5c6-e53a-4bd6-90a4-d5f97ee1f05d",
   "metadata": {},
   "outputs": [
    {
     "data": {
      "text/plain": [
       "[[1, 1.0], [2, 2], [3, 3, 3]]"
      ]
     },
     "execution_count": 37,
     "metadata": {},
     "output_type": "execute_result"
    }
   ],
   "source": [
    "[[1, 1.0], [2,2], [3,3,3]]"
   ]
  },
  {
   "cell_type": "markdown",
   "id": "e79705c9-4a50-4222-bffc-26874a090e77",
   "metadata": {},
   "source": [
    "(경우2) "
   ]
  },
  {
   "cell_type": "markdown",
   "id": "d1a7a520-dae6-4ebf-9819-60e42919e88e",
   "metadata": {},
   "source": [
    "판단기준을 \"수학적인 값이 같음 & 파이썬에서의 자료형이 일치\" 로 설정한다면 `lst[0]`과 `lst[1]`은 다르다.  "
   ]
  },
  {
   "cell_type": "code",
   "execution_count": 48,
   "id": "616027a5-ee9c-4de9-9779-e630d50d9535",
   "metadata": {},
   "outputs": [
    {
     "data": {
      "text/plain": [
       "False"
      ]
     },
     "execution_count": 48,
     "metadata": {},
     "output_type": "execute_result"
    }
   ],
   "source": [
    "type(lst[0]) == type(lst[1])"
   ]
  },
  {
   "cell_type": "markdown",
   "id": "70cba344-8012-4fbc-a1ad-1bd4b5b3e9b7",
   "metadata": {},
   "source": [
    "따라서 아래와 같은 분류가 합리적이다. "
   ]
  },
  {
   "cell_type": "code",
   "execution_count": 40,
   "id": "263c98ed-a10f-4ef9-aab8-180c510e37d4",
   "metadata": {},
   "outputs": [
    {
     "data": {
      "text/plain": [
       "[[1], [1.0], [2, 2], [3, 3, 3]]"
      ]
     },
     "execution_count": 40,
     "metadata": {},
     "output_type": "execute_result"
    }
   ],
   "source": [
    "[[1], [1.0], [2,2], [3,3,3]]"
   ]
  },
  {
   "cell_type": "markdown",
   "id": "19d30ae7-86ce-4719-8b73-4f27bc5aabdd",
   "metadata": {},
   "source": [
    "(경우3) "
   ]
  },
  {
   "cell_type": "markdown",
   "id": "c385b66c-9db5-4fa2-bb8c-6434fc8476ec",
   "metadata": {},
   "source": [
    "판단기준을 \"파이썬에서의 자료형이 일치\" 로 설정한다면? 아래와 같은 분류도 합리적이다. "
   ]
  },
  {
   "cell_type": "code",
   "execution_count": 41,
   "id": "97083dcd-1528-4145-bfd1-fdb1bc1ea2fe",
   "metadata": {},
   "outputs": [
    {
     "data": {
      "text/plain": [
       "[[1, 2, 2, 3, 3, 3], [1.0]]"
      ]
     },
     "execution_count": 41,
     "metadata": {},
     "output_type": "execute_result"
    }
   ],
   "source": [
    "[[1,2,2,3,3,3], [1.0]]"
   ]
  },
  {
   "cell_type": "markdown",
   "id": "c0e1b9ca-bf05-455c-b6a6-ba216a47f73e",
   "metadata": {},
   "source": [
    "이것도 어떠한 의미에서는 같은원소들을 모아놓은 것임 "
   ]
  },
  {
   "cell_type": "markdown",
   "id": "a83a00aa-03ad-40f8-b672-30fb9a0651ed",
   "metadata": {},
   "source": [
    "> \"같다\"라는 것을 올바르게 지칭하려면 \"어떠한 의미에서 같다\"라는 것인지 명확하게 설명할 필요가 있다. "
   ]
  },
  {
   "cell_type": "markdown",
   "id": "eebe71d5-3ef2-4101-8055-3649ccb072c8",
   "metadata": {},
   "source": [
    "`-` 예시2: $a$와 $b$가 \"어떠한 의미에서 같다\"라는 것을 기호로 $a \\sim b$라고 하자. `~`의 의미를 \n",
    "\n",
    "- $a \\sim b$ $\\overset{def}{\\Leftrightarrow}$ a == b"
   ]
  },
  {
   "cell_type": "markdown",
   "id": "a9945a51-73cd-4841-b49f-49b4a323b0ea",
   "metadata": {},
   "source": [
    "로 해석한다면, 아래와 같이 원소를 묶을 수 있다. "
   ]
  },
  {
   "cell_type": "code",
   "execution_count": 37,
   "id": "8694dd52-4b95-4f30-a135-2e6982d92a28",
   "metadata": {},
   "outputs": [
    {
     "data": {
      "text/plain": [
       "[[1, 1.0], [2, 2], [3, 3, 3]]"
      ]
     },
     "execution_count": 37,
     "metadata": {},
     "output_type": "execute_result"
    }
   ],
   "source": [
    "[[1, 1.0], [2,2], [3,3,3]]"
   ]
  },
  {
   "cell_type": "markdown",
   "id": "441f53b6-64b6-4c99-984c-77fbe0d19da5",
   "metadata": {},
   "source": [
    "만약에 `~`의 의미를 "
   ]
  },
  {
   "cell_type": "markdown",
   "id": "f02b8325-4501-4060-848d-b38cd958e067",
   "metadata": {},
   "source": [
    "- $a \\sim b$ $\\overset{def}{\\Leftrightarrow}$ (a == b) & (type(a)==type(b))"
   ]
  },
  {
   "cell_type": "markdown",
   "id": "922886cf-9810-4cab-bb58-0d67ef868d86",
   "metadata": {},
   "source": [
    "로 해석한다면, 아래와 같이 원소를 묶을 수 있다. "
   ]
  },
  {
   "cell_type": "code",
   "execution_count": 40,
   "id": "8131fffa-bd87-4bc5-adc4-da1f4ca91b1e",
   "metadata": {},
   "outputs": [
    {
     "data": {
      "text/plain": [
       "[[1], [1.0], [2, 2], [3, 3, 3]]"
      ]
     },
     "execution_count": 40,
     "metadata": {},
     "output_type": "execute_result"
    }
   ],
   "source": [
    "[[1], [1.0], [2,2], [3,3,3]]"
   ]
  },
  {
   "cell_type": "markdown",
   "id": "2138cf35-ed4d-4c57-92dd-f586cf9a1a45",
   "metadata": {},
   "source": [
    "만약에 `~`의 의미를 "
   ]
  },
  {
   "cell_type": "markdown",
   "id": "c6f9e39c-7548-486e-bf1a-e225233f3818",
   "metadata": {},
   "source": [
    "- $a \\sim b$ $\\overset{def}{\\Leftrightarrow}$ (type(a)==type(b))"
   ]
  },
  {
   "cell_type": "markdown",
   "id": "a5fe2655-96fd-48d5-92df-8c75ec21aac2",
   "metadata": {},
   "source": [
    "로 해석한다면, 아래와 같이 원소를 묶을 수 있다. "
   ]
  },
  {
   "cell_type": "code",
   "execution_count": 41,
   "id": "8b7964b4-b3b4-4721-8d2f-625e4fba91c0",
   "metadata": {},
   "outputs": [
    {
     "data": {
      "text/plain": [
       "[[1, 2, 2, 3, 3, 3], [1.0]]"
      ]
     },
     "execution_count": 41,
     "metadata": {},
     "output_type": "execute_result"
    }
   ],
   "source": [
    "[[1,2,2,3,3,3], [1.0]]"
   ]
  },
  {
   "cell_type": "markdown",
   "id": "153f69a6-b5da-4771-a9da-9459078ffc82",
   "metadata": {},
   "source": [
    "`-` \"같음(=)\"이라는 기호가 가지는 당연한 성질 \n",
    "\n",
    "1. $a=a$\n",
    "2. $a=b \\Rightarrow b=a$\n",
    "3. $a=b, b=c \\Rightarrow a=c$"
   ]
  },
  {
   "cell_type": "markdown",
   "id": "09a0a9fc-7616-4573-94e1-830323b5839b",
   "metadata": {},
   "source": [
    "성질 1,2,3은 원래 `=`라는 기호가 \"두 원소의 같음\"을 의미할때 가지는 당연한 성질이다. "
   ]
  },
  {
   "cell_type": "markdown",
   "id": "d2b00237-46ff-4b32-b8f8-37226e7e2e1c",
   "metadata": {},
   "source": [
    "`-` 역으로 생각해보면 어떠한 기호 $\\sim$이 성질 1,2,3을 가진다면 기호 $\\sim$를 같음을 의미하는 기호로 \"해석\"할 수 있다. \n",
    "\n",
    "- 예시1: 합동 \n",
    "- 예시2: 닮음 "
   ]
  },
  {
   "cell_type": "markdown",
   "id": "3862ae5a-43e7-4d0c-b738-79923a70654c",
   "metadata": {},
   "source": [
    "`-` **정의:** 어떠한 집합 $\\Omega$의 임의의 원소 $a,b,c$ 에 대하여 $\\sim$이 아래와 같은 성질이 성립한다면 $\\sim$를  equivalence relation 이라고 부른다. \n",
    "\n",
    "1. $a\\sim~a$\n",
    "2. $a \\sim b \\Rightarrow b\\sim a$\n",
    "3. $a \\sim b, b \\sim c \\Rightarrow a \\sim c$\n",
    "\n",
    "여기에서 $\\sim$은 \"같음\"을 의미하는 기호 $=$의 일반화된 버전이다. "
   ]
  },
  {
   "cell_type": "markdown",
   "id": "de6f276a-d319-46b2-bdbc-559f40a52b7f",
   "metadata": {},
   "source": [
    "`-` **정의:** 어떠한 집합 $\\Omega$가 equivalence relation $\\sim$를 가진다면 그 집합은 $\\sim$를 기준으로 나눌 수 있다. "
   ]
  },
  {
   "cell_type": "markdown",
   "id": "60a9e945-53f6-4f45-81c3-3dc9246c1e5c",
   "metadata": {},
   "source": [
    "(예시1) 아래와 같이 5명의 학생이 있다고 치자. \n",
    "\n",
    "- 23학번: 20살, 20살, 20살\n",
    "- 22학번: 21살, 21살 \n",
    "\n",
    "구성원들의 나이나 학번이 같으면 반말을 한다고 치자. (그렇지 않으면 존대말을 한다고 가정하자) 이제 아래와 같은 기호를 정의하자. \n",
    "\n",
    "- $a \\sim b$ $\\overset{def}{\\Leftrightarrow}$ $a$가 $b$에게 반말함\n",
    "\n",
    "그렇다면 $\\sim$ equivalence relation 이다. 따라서 학생들을 $\\sim$를 기준으로 두개의 그룹으로 나눌 수 있다. "
   ]
  },
  {
   "cell_type": "markdown",
   "id": "261545c2-13dc-4225-91bf-3aec1a4d29ac",
   "metadata": {},
   "source": [
    "(예시2) 아래와 같이 5명의 학생이 있다고 치자. \n",
    "\n",
    "- 23학번: 20살, 20살, 21살\n",
    "- 20학번: 23살, 23살"
   ]
  },
  {
   "cell_type": "markdown",
   "id": "b9c47d3c-0adc-4a93-989d-d86dc8002187",
   "metadata": {},
   "source": [
    "여전히 $\\sim$는 equivalence relation 이다. 따라서 학생들을 $\\sim$를 기준으로 두개의 그룹으로 나눌 수 있다.  "
   ]
  },
  {
   "cell_type": "markdown",
   "id": "ef9e375d-e5b1-4e6a-9524-eacead0d0cd1",
   "metadata": {},
   "source": [
    "(예시3) 아래와 같이 5명의 학생이 있다고 치자. \n",
    "\n",
    "- 23학번: 20살, 20살, 21살\n",
    "- 22학번: 21살, 21살"
   ]
  },
  {
   "cell_type": "markdown",
   "id": "21e04684-df37-4ba2-af71-4f465bf70e39",
   "metadata": {},
   "source": [
    "이제 $\\sim$는 equivalence relation 이 아니다. 따라서 학생들을 $\\sim$를 기준으로 나눌 수 없다. "
   ]
  },
  {
   "cell_type": "markdown",
   "id": "f6a79b12-f93f-458c-8765-594dcfbb3924",
   "metadata": {},
   "source": [
    "# Irreducible (IRR)"
   ]
  },
  {
   "cell_type": "markdown",
   "id": "45689ec4-f9ce-4ff6-8f7c-2a46f8de9478",
   "metadata": {},
   "source": [
    "## intro"
   ]
  },
  {
   "cell_type": "markdown",
   "id": "ce92fd00-b3fa-47ae-8def-979bf787d554",
   "metadata": {},
   "source": [
    "`-` 질문: \"오른쪽으로만 갈래요\" 예제는 IRR HMC 인가? "
   ]
  },
  {
   "cell_type": "markdown",
   "id": "d9c34e70-5523-4d86-b8cf-27e726f9030f",
   "metadata": {},
   "source": [
    "`-` **가짜정의**: 어떠한 HMC $\\{X_t\\}$가 IRR이라는 것은 모든 상태공간이 \"연결\"되어있다는 의미이다. "
   ]
  },
  {
   "cell_type": "markdown",
   "id": "f45052cc-c0a7-4710-a03f-d4804507a59e",
   "metadata": {},
   "source": [
    "`-` 가짜정의의 보충설명 (1)\n",
    "\n",
    "- 여기에서 모든 상태공간이 연결되어있다는 의미는 상태공간 $E$에서 임의의 두 상태 $i,j$를 뽑았을때 $i \\to j$ 이고, $j \\to i$ 라는 의미이다. \n",
    "- 여기에서 $i\\to j$ 라는 의미는 **언젠가는** 상태 $i$에서 출발한 체인이 상태 $j$에 도달할 수 있다는 의미이다. "
   ]
  },
  {
   "cell_type": "markdown",
   "id": "cdf0f8b8-e6dd-47bd-8c11-3eb7c5eff375",
   "metadata": {},
   "source": [
    "`-` 의문: **언젠가는**에 대한 의미??\n",
    "\n",
    "```{mermaid}\n",
    "flowchart LR\n",
    "  0 --> 1\n",
    "  1 --> 2\n",
    "  2 --> 1 \n",
    "  2 --> 3 \n",
    "  3 --> 1\n",
    "  3 --> 2 \n",
    "```"
   ]
  },
  {
   "cell_type": "markdown",
   "id": "eb5f6e1a-34c7-4d91-a81f-1110b7a1aa09",
   "metadata": {},
   "source": [
    "상태0에서 시작하면 3회 이후에는 상태3에 갈 확률이 있다. (3회시점에 꼭 상태3에 있겠다는 의미는 아님) 따라서 이 경우 \n",
    "\n",
    "$$0 \\to 3$$ \n",
    "\n",
    "이라고 쓸 수 있다. 이 예제의 경우 \n",
    "\n",
    "- $0 \\to 1$, $0 \\to 2$, $0 \\to 3$, $0 \\to 4$, $0\\to 0$^[0회도 포함시키면 $0\\to 0$ 라고 볼 수 있음.]\n",
    "- $1 \\to 1$, $1 \\to 2$, $1 \\to 3$ \n",
    "- $2 \\to 1$, $2 \\to 2$, $2 \\to 3$ \n",
    "- $3 \\to 1$, $3 \\to 2$, $3 \\to 3$ \n",
    "\n",
    "와 같다. "
   ]
  },
  {
   "cell_type": "markdown",
   "id": "e014dbb6",
   "metadata": {},
   "source": [
    "> 여기서 제가 설명잘못했는데요, 0회도 포함시킨다고 하면 $0 \\to 0$ 입니다. "
   ]
  },
  {
   "cell_type": "markdown",
   "id": "c4aaa4a4-3476-4ee1-82f5-724719849a8a",
   "metadata": {},
   "source": [
    "`-` 다시 가짜정의의 보충설명 (2) -- (1)을 이어서 \n",
    "\n",
    "- 여기에서 모든 상태공간이 연결되어있다는 의미는 상태공간 $E$에서 임의의 두 상태 $i,j$를 뽑았을때 $i \\to j$ 이고, $j \\to i$ 라는 의미이다. \n",
    "- 여기에서 $i\\to j$ 라는 의미는 언젠가는 상태 $i$에서 출발한 체인이 상태 $j$에 도달할 수 있다는 의미이다. \n",
    "- 즉 $i \\to j$라는 의미는 **\"($i$에서 출발한다면 $T_0$ 이후에 $j$에 도달해 있을 확률) > $0$\"** 이라는 뜻이다.  "
   ]
  },
  {
   "cell_type": "markdown",
   "id": "b04a8f5e-4859-4a0a-aa02-333b5aa8da13",
   "metadata": {},
   "source": [
    "`-` 다시의문: $i$에서 출발했다고 가정할때 $T_0$이후에 $j$에 도달해 있을 확률을 어떻게 구체적으로 쓰지? "
   ]
  },
  {
   "cell_type": "markdown",
   "id": "5c29252e-df16-407b-8995-3114176aef66",
   "metadata": {},
   "source": [
    "`-` (예시) \n",
    "\n",
    "```{mermaid}\n",
    "flowchart LR\n",
    "  0 --> |1.0| 1\n",
    "  1 --> |0.5| 1\n",
    "  1 --> |0.5| 2\n",
    "  2 --> |1.0| 1 \n",
    "```"
   ]
  },
  {
   "cell_type": "markdown",
   "id": "46d0d50e-0ce5-44f5-a601-551bffafa9ef",
   "metadata": {},
   "source": [
    "질문: $p_{ij}^{(T_0)}$를 \"$i$에서 출발했다고 가정할때 $T_0$이후에 $j$에 도달해 있을 확률이라고 하자.\" $T_0=2$일 경우 아래를 구하라. \n",
    "\n",
    "- $p_{00}^{(2)}=0$ \n",
    "- $p_{01}^{(2)}=0.5$\n",
    "- $p_{02}^{(2)}=0.5$\n",
    "- $p_{10}^{(2)}=0$ \n",
    "- $p_{11}^{(2)}=?$\n",
    "- $p_{12}^{(2)}=?$\n",
    "- $p_{20}^{(2)}=0$ \n",
    "- $p_{21}^{(2)}=0.5$\n",
    "- $p_{22}^{(2)}=0.5$"
   ]
  },
  {
   "cell_type": "code",
   "execution_count": 11,
   "id": "50cafe60-16f6-4cc4-b854-729bd6c90a4c",
   "metadata": {},
   "outputs": [
    {
     "data": {
      "text/plain": [
       "array([[0.  , 0.5 , 0.5 ],\n",
       "       [0.  , 0.75, 0.25],\n",
       "       [0.  , 0.5 , 0.5 ]])"
      ]
     },
     "execution_count": 11,
     "metadata": {},
     "output_type": "execute_result"
    }
   ],
   "source": [
    "P = np.array([[0,1,0],\n",
    "              [0,1/2,1/2],\n",
    "              [0,1,0]])\n",
    "P@P"
   ]
  },
  {
   "cell_type": "markdown",
   "id": "f81c1035-bd7d-4542-9664-70cffb461065",
   "metadata": {},
   "source": [
    "`-` 다시 가짜정의의 보충설명 (3) -- (2)를 이어서 \n",
    "\n",
    "- 여기에서 모든 상태공간이 연결되어있다는 의미는 상태공간 $E$에서 임의의 두 상태 $i,j$를 뽑았을때 $i \\to j$ 이고, $j \\to i$ 라는 의미이다. \n",
    "- 여기에서 $i\\to j$ 라는 의미는 언젠가는 상태 $i$에서 출발한 체인이 상태 $j$에 도달할 수 있다는 의미이다. \n",
    "- 즉 $i \\to j$라는 의미는 **\"($i$에서 출발한다면 $T_0$ 이후에 $j$에 도달해 있을 확률) > $0$\"** 이라는 뜻이다.  \n",
    "- 즉 $i \\to j$라는 의미는 \"$\\exists T_0 \\in \\mathbb{N}_0$ such that $p_{ij}^{(T_0)}>0$\" 이라는 뜻이다. "
   ]
  },
  {
   "cell_type": "markdown",
   "id": "b3aa77ab",
   "metadata": {},
   "source": [
    "> 이 부분도 제가 설명을 잘못했는데 여기에서 $T_0=0$ 인 경우는 ${\\bf P}^{0}={\\bf I}$ 와 같이 해석합니다. 따라서 모든 $\\forall x \\in E:~ x\\leftrightarrow x$ 입니다. "
   ]
  },
  {
   "cell_type": "markdown",
   "id": "4c4909ac-8a84-4e41-bc84-9c8bc31a34f2",
   "metadata": {},
   "source": [
    "## 정의: irreducible (IRR)"
   ]
  },
  {
   "cell_type": "markdown",
   "id": "d2e4e781-0af3-4a94-ab2c-8bc4fbd14bad",
   "metadata": {},
   "source": [
    "`-` **정의**: $\\{X_t\\}$를 상태공간 $E$에 정의된 HMC라고 하고 ${\\bf P}$를 $\\{X_t\\}$의 transition matrix (혹은 그 비슷한 것) 라고 하자. 임의의 $i,j \\in S$에 대하여 상태 $i$에서 상태 $j$로 도달가능(accessible)하다는 의미는 \n",
    "\n",
    "- $\\exists T_0 \\in \\mathbb{N}_0$ such that $p_{ij}^{(T_0)}>0$\n",
    "\n",
    "를 의미하며 이를 기호로는 $i\\to j$와 같이 표현한다. 참고로 여기에서 $p_{ij}^{(T_0)}$는 ${\\bf P}^{T_0}$의 $(i,j)$-th element이다. "
   ]
  },
  {
   "cell_type": "markdown",
   "id": "40fc73d2-6363-4385-a638-425b90acda92",
   "metadata": {},
   "source": [
    "`-` 따라서 아래는 모두 같은 의미임\n",
    "\n",
    "- $\\exists T_0 \\in \\mathbb{N}_0 \\textsf{ such that } p_{ij}^{(T_0)}>0$\n",
    "- $i \\to j$\n",
    "- $j$ is accessible from $i$"
   ]
  },
  {
   "cell_type": "markdown",
   "id": "14bd59a9-a098-4c78-8482-8668ff2c677a",
   "metadata": {},
   "source": [
    "`-` **정의**: $\\{X_t\\}$를 상태공간 $E$에 정의된 HMC라고 하고 ${\\bf P}$를 $\\{X_t\\}$의 transition matrix (혹은 그 비슷한 것) 라고 하자. 임의의 $i,j \\in S$에 대하여 상태 $i,j$가 상호도달가능 (communicate) 하다는 의미는 \n",
    "\n",
    "- $i \\to j$ and $j \\to i$ \n",
    "\n",
    "임을 의미한다. $i,j$가 상호도달할 경우 기호로는 $i \\leftrightarrow j$ 와 같이 표현한다. "
   ]
  },
  {
   "cell_type": "markdown",
   "id": "5d8d9446-d665-4631-9b8d-4e8c7817cd3c",
   "metadata": {},
   "source": [
    "`-` 이론: 아래가 성립한다. (굳이 증명할 필요없음. 결과만 기억해도 OK)\n",
    "\n",
    "- $i \\leftrightarrow i$ \n",
    "- $i \\leftrightarrow j$ $\\Rightarrow$ $j \\leftrightarrow i$ \n",
    "- $i \\leftrightarrow j$, $j \\leftrightarrow k$ $\\Rightarrow$ $i \\leftrightarrow k$ "
   ]
  },
  {
   "cell_type": "markdown",
   "id": "18b620ed-cc78-4d3e-8473-9baf1deeb428",
   "metadata": {},
   "source": [
    "따라서 $\\leftrightarrow$ 는 equivalence relation 이다. 따라서 상태공간 $E$는 $\\leftrightarrow$를 기준으로 \"나눌 수\" 있다.  "
   ]
  },
  {
   "cell_type": "markdown",
   "id": "28d18a56-15cb-4502-8ea8-1fe2420bc3c0",
   "metadata": {},
   "source": [
    "`-` **정의:** $\\{X_t\\}$를 상태공간 $E$에 정의된 HMC라고 하자. 상태공간 $E$는 equivalence relation $\\leftrightarrow$를 기준으로 \n",
    "\n",
    "$$E = E_1 \\uplus E_2 \\uplus \\dots$$\n",
    "\n",
    "와 같이 \"나눌 수\" 있는데 이때 나누어진 집합 $E_1,E_2,\\dots$ 를 communication class라고 부른다. "
   ]
  },
  {
   "cell_type": "markdown",
   "id": "aadab3ea-55ea-46b7-b803-ba7a96a9b180",
   "metadata": {},
   "source": [
    "`-` 예시1: 상태공간을 $\\{0\\}$와 $\\{1,2\\}$로 나눌 수 있다. 따라서 $E$는 2개의 communication class 를 가진다. \n",
    "\n",
    "```{mermaid}\n",
    "flowchart LR\n",
    "  0 --> |1.0| 1\n",
    "  1 --> |0.5| 1\n",
    "  1 --> |0.5| 2\n",
    "  2 --> |1.0| 1 \n",
    "```"
   ]
  },
  {
   "cell_type": "markdown",
   "id": "97b87ffc-cb04-42ab-97a2-fc54e9a18d08",
   "metadata": {},
   "source": [
    "`-` 예시2: 아래와 같은 transition matrix를 가지는 마코프체인의 경우 "
   ]
  },
  {
   "cell_type": "code",
   "execution_count": 49,
   "id": "d25b8a42-6d31-4d52-a05d-164d15d80208",
   "metadata": {},
   "outputs": [
    {
     "data": {
      "text/plain": [
       "array([[1, 0],\n",
       "       [0, 1]])"
      ]
     },
     "execution_count": 49,
     "metadata": {},
     "output_type": "execute_result"
    }
   ],
   "source": [
    "P = np.array([[1,0],\n",
    "              [0,1]])\n",
    "P"
   ]
  },
  {
   "cell_type": "markdown",
   "id": "fde10c30-a2a9-4867-82c8-911ad7370e6a",
   "metadata": {},
   "source": [
    "상태공간을 $\\{0\\},\\{1\\}$로 나눌 수 있다. 따라서 $E$는 2개의 communication class 를 가진다."
   ]
  },
  {
   "cell_type": "markdown",
   "id": "33d5e764-f38e-4050-9991-b1a4a3398bd3",
   "metadata": {},
   "source": [
    "`-` **정의** $\\{X_t\\}$를 상태공간 $E$에 정의된 HMC라고 하고 ${\\bf P}$를 $\\{X_t\\}$의 transition matrix (혹은 그 비슷한 것) 라고 하자. 상태공간 $E$가 오직 하나의 communication class를 가지는 경우 아래와 같이 말한다. \n",
    "\n",
    "- $\\{X_t\\}$ 가 irreducible 한 마코프체인이다. \n",
    "- ${\\bf P}$ 가 irreducible 한 transition matrix 이다. "
   ]
  }
 ],
 "metadata": {
  "kernelspec": {
   "display_name": "Python 3",
   "language": "python",
   "name": "python3"
  },
  "language_info": {
   "codemirror_mode": {
    "name": "ipython",
    "version": 3
   },
   "file_extension": ".py",
   "mimetype": "text/x-python",
   "name": "python",
   "nbconvert_exporter": "python",
   "pygments_lexer": "ipython3",
   "version": "3.8.16"
  }
 },
 "nbformat": 4,
 "nbformat_minor": 5
}
