{
 "cells": [
  {
   "cell_type": "raw",
   "id": "4ac52b35-66bb-4495-b4eb-7843c330d73f",
   "metadata": {},
   "source": [
    "---\n",
    "title: \"8wk-2: 마코프체인 (5)\"\n",
    "author: \"최규빈\"\n",
    "date: \"04/25/2023\"\n",
    "---"
   ]
  },
  {
   "cell_type": "markdown",
   "id": "c4113109-1508-4c2a-8cbc-4ad4b764851f",
   "metadata": {},
   "source": [
    "# 강의영상 "
   ]
  },
  {
   "cell_type": "markdown",
   "id": "27c759c9-4d7d-4f47-896e-498b34f9365f",
   "metadata": {},
   "source": [
    "> youtube: <https://youtube.com/playlist?list=PLQqh36zP38-zHbA2xrF58wfGjzkhNzxnL>"
   ]
  },
  {
   "cell_type": "markdown",
   "id": "eaae82cd-7ac4-4b80-aa22-16711e9a7f29",
   "metadata": {},
   "source": [
    "# import "
   ]
  },
  {
   "cell_type": "code",
   "execution_count": 1,
   "id": "88f30dbf-91dd-49e7-ac5f-1da30b868b4c",
   "metadata": {},
   "outputs": [],
   "source": [
    "import numpy as np"
   ]
  },
  {
   "cell_type": "markdown",
   "id": "5ebbe5a0-62e1-4363-9014-72b334add635",
   "metadata": {},
   "source": [
    "# review "
   ]
  },
  {
   "cell_type": "markdown",
   "id": "30480e7a-9b99-4d24-b24a-b59e5f5b7f19",
   "metadata": {},
   "source": [
    "`-` 지난시간 복습\n",
    "\n",
    "||특징1(수렴)|특징2(동일row)|특징3(정상분포)|특징4(정상과정)|\n",
    "|:-:|:-:|:-:|:-:|:-:|\n",
    "|예시1(나이스)|O|O|존재O, 유일O|O|\n",
    "|예시2(나이스)|O|O|존재O, 유일O|O|\n",
    "|예시3(흡수)|O|O|존재O, 유일O|O|\n",
    "|예시4(단위행렬)|O|X|존재O, 유일X|O|\n",
    "|예시5(주기)|X|NA|존재O, 유일O|O|"
   ]
  },
  {
   "cell_type": "markdown",
   "id": "4316ba0d-ab98-4f45-9e6d-d1e2855e4912",
   "metadata": {},
   "source": [
    "`-` 목표: 예시4와 예시5를 좀 더 공부해보자. "
   ]
  },
  {
   "cell_type": "markdown",
   "id": "d549edce-e38d-4b24-a8ba-03468fa22178",
   "metadata": {},
   "source": [
    "# irreducible "
   ]
  },
  {
   "cell_type": "markdown",
   "id": "3d9c2cd4-8af4-4e77-ab0d-7166786bd402",
   "metadata": {},
   "source": [
    "## Motivating Examples "
   ]
  },
  {
   "cell_type": "markdown",
   "id": "a6658fdf-4c7f-4156-8081-702f9610f73c",
   "metadata": {},
   "source": [
    "### 예제1"
   ]
  },
  {
   "cell_type": "markdown",
   "id": "99d96855-50b5-4025-a121-9e3eb57ce506",
   "metadata": {},
   "source": [
    "`-` 아래의 전이확률을 고려하자. "
   ]
  },
  {
   "cell_type": "code",
   "execution_count": 2,
   "id": "60332cc2-65de-45cb-bac1-e112b8d86165",
   "metadata": {},
   "outputs": [
    {
     "data": {
      "text/plain": [
       "array([[0.5, 0.5, 0. , 0. ],\n",
       "       [0.5, 0.5, 0. , 0. ],\n",
       "       [0. , 0. , 0.5, 0.5],\n",
       "       [0. , 0. , 0.5, 0.5]])"
      ]
     },
     "execution_count": 2,
     "metadata": {},
     "output_type": "execute_result"
    }
   ],
   "source": [
    "P =np.array([0.5, 0.5, 0.0, 0.0, \n",
    "             0.5, 0.5, 0.0, 0.0,\n",
    "             0.0, 0.0, 0.5, 0.5,\n",
    "             0.0, 0.0, 0.5, 0.5]).reshape(4,4)\n",
    "P"
   ]
  },
  {
   "cell_type": "markdown",
   "id": "64ab604a-2b72-4fd2-ba84-2ae901c4d717",
   "metadata": {},
   "source": [
    "`-` 특징1: ${\\bf P}$는 수렴함 "
   ]
  },
  {
   "cell_type": "code",
   "execution_count": 5,
   "id": "cf8e7164-b6ee-424b-be58-a431f5493a5c",
   "metadata": {},
   "outputs": [
    {
     "data": {
      "text/plain": [
       "array([[0.5, 0.5, 0. , 0. ],\n",
       "       [0.5, 0.5, 0. , 0. ],\n",
       "       [0. , 0. , 0.5, 0.5],\n",
       "       [0. , 0. , 0.5, 0.5]])"
      ]
     },
     "execution_count": 5,
     "metadata": {},
     "output_type": "execute_result"
    }
   ],
   "source": [
    "P@P@P"
   ]
  },
  {
   "cell_type": "markdown",
   "id": "827d19ed-f7bf-48a7-8244-8a9fbeae6940",
   "metadata": {},
   "source": [
    "`-` 특징2: 모든 row가 같은건 아님 "
   ]
  },
  {
   "cell_type": "markdown",
   "id": "41d740d3-98e0-4264-b7f7-c0e412e1fd6f",
   "metadata": {},
   "source": [
    "`-` 특징3: 정상분포는 유일하게 존재하지 않음 "
   ]
  },
  {
   "cell_type": "code",
   "execution_count": 8,
   "id": "0a3f917a-f12d-4b1a-86b5-4057617948f7",
   "metadata": {},
   "outputs": [
    {
     "data": {
      "text/plain": [
       "array([[0.25],\n",
       "       [0.25],\n",
       "       [0.25],\n",
       "       [0.25]])"
      ]
     },
     "execution_count": 8,
     "metadata": {},
     "output_type": "execute_result"
    }
   ],
   "source": [
    "π = np.array([1/4, 1/4, 1/4, 1/4]).reshape(4,1)\n",
    "π"
   ]
  },
  {
   "cell_type": "code",
   "execution_count": 10,
   "id": "1f2493a5-f3dd-4eb3-a2a4-7b249091eb6d",
   "metadata": {},
   "outputs": [
    {
     "data": {
      "text/plain": [
       "(array([[0.25, 0.25, 0.25, 0.25]]), array([[0.25, 0.25, 0.25, 0.25]]))"
      ]
     },
     "execution_count": 10,
     "metadata": {},
     "output_type": "execute_result"
    }
   ],
   "source": [
    "π.T @ P, π.T "
   ]
  },
  {
   "cell_type": "code",
   "execution_count": 11,
   "id": "72ed4f1a-0e0a-4818-a307-b6a281ba6e10",
   "metadata": {},
   "outputs": [
    {
     "data": {
      "text/plain": [
       "array([[0.5],\n",
       "       [0.5],\n",
       "       [0. ],\n",
       "       [0. ]])"
      ]
     },
     "execution_count": 11,
     "metadata": {},
     "output_type": "execute_result"
    }
   ],
   "source": [
    "π = np.array([1/2, 1/2, 0, 0]).reshape(4,1)\n",
    "π"
   ]
  },
  {
   "cell_type": "code",
   "execution_count": 13,
   "id": "49d627b2-0bf8-480e-a85c-d18dba5091cf",
   "metadata": {},
   "outputs": [
    {
     "data": {
      "text/plain": [
       "(array([[0.5, 0.5, 0. , 0. ]]), array([[0.5, 0.5, 0. , 0. ]]))"
      ]
     },
     "execution_count": 13,
     "metadata": {},
     "output_type": "execute_result"
    }
   ],
   "source": [
    "π.T @ P, π.T "
   ]
  },
  {
   "cell_type": "code",
   "execution_count": 14,
   "id": "c50ff053-1d4d-4e40-8947-dd4daad78989",
   "metadata": {},
   "outputs": [
    {
     "data": {
      "text/plain": [
       "array([[0.16666667],\n",
       "       [0.16666667],\n",
       "       [0.33333333],\n",
       "       [0.33333333]])"
      ]
     },
     "execution_count": 14,
     "metadata": {},
     "output_type": "execute_result"
    }
   ],
   "source": [
    "π = np.array([1/6, 1/6, 2/6, 2/6]).reshape(4,1)\n",
    "π"
   ]
  },
  {
   "cell_type": "code",
   "execution_count": 15,
   "id": "add126b7-8246-4c91-bf57-af8fb70ae33b",
   "metadata": {},
   "outputs": [
    {
     "data": {
      "text/plain": [
       "(array([[0.16666667, 0.16666667, 0.33333333, 0.33333333]]),\n",
       " array([[0.16666667, 0.16666667, 0.33333333, 0.33333333]]))"
      ]
     },
     "execution_count": 15,
     "metadata": {},
     "output_type": "execute_result"
    }
   ],
   "source": [
    "π.T @ P, π.T "
   ]
  },
  {
   "cell_type": "markdown",
   "id": "586052b3-b825-4f3b-a8db-5d1796cd85f0",
   "metadata": {},
   "source": [
    "`-` 특징4: 초기분포가 정상분포라면 정상확률과정"
   ]
  },
  {
   "cell_type": "markdown",
   "id": "d49424f2-09fb-4e8a-b913-1495447aa8ac",
   "metadata": {},
   "source": [
    "`-` 특징5: 상태공간 $E$ 에 equivalence class 가 2개 있는 느낌 "
   ]
  },
  {
   "cell_type": "markdown",
   "id": "90b93063-707b-4b41-964a-e19394a07f9e",
   "metadata": {},
   "source": [
    "### 예제2\n",
    "\n",
    "`-` 아래의 전이확률을 고려하자. "
   ]
  },
  {
   "cell_type": "code",
   "execution_count": 18,
   "id": "761df402-9a09-4f2f-aa24-ec5b179c6829",
   "metadata": {},
   "outputs": [
    {
     "data": {
      "text/plain": [
       "array([[0.25, 0.25, 0.  , 0.5 ],\n",
       "       [0.25, 0.25, 0.  , 0.5 ],\n",
       "       [0.  , 0.  , 1.  , 0.  ],\n",
       "       [0.5 , 0.25, 0.  , 0.25]])"
      ]
     },
     "execution_count": 18,
     "metadata": {},
     "output_type": "execute_result"
    }
   ],
   "source": [
    "P =np.array([1/4, 1/4, 0.0, 1/2, \n",
    "             1/4, 1/4, 0.0, 1/2,\n",
    "             0.0, 0.0, 1.0, 0.0,\n",
    "             1/2, 1/4, 0.0, 1/4]).reshape(4,4)\n",
    "P"
   ]
  },
  {
   "cell_type": "markdown",
   "id": "027b1071-4a02-4439-aba5-daef08e192f5",
   "metadata": {},
   "source": [
    "`-` 특징1: ${\\bf P}$는 수렴함"
   ]
  },
  {
   "cell_type": "code",
   "execution_count": 23,
   "id": "e2e21d6c-6176-49ba-aeca-bc508f331035",
   "metadata": {},
   "outputs": [
    {
     "data": {
      "text/plain": [
       "matrix([[0.35, 0.25, 0.  , 0.4 ],\n",
       "        [0.35, 0.25, 0.  , 0.4 ],\n",
       "        [0.  , 0.  , 1.  , 0.  ],\n",
       "        [0.35, 0.25, 0.  , 0.4 ]])"
      ]
     },
     "execution_count": 23,
     "metadata": {},
     "output_type": "execute_result"
    }
   ],
   "source": [
    "np.matrix(P)**500"
   ]
  },
  {
   "cell_type": "markdown",
   "id": "fbe116ac-6c88-41c0-a61d-522ff0abd5b9",
   "metadata": {},
   "source": [
    "`-` 특징2: 모든 row가 같지는 않음 "
   ]
  },
  {
   "cell_type": "markdown",
   "id": "d619f4ca-37c4-40f9-9bfc-7f1a1b2322ce",
   "metadata": {},
   "source": [
    "`-` 특징3: 유일한 정상분포를 가지는건 아님"
   ]
  },
  {
   "cell_type": "code",
   "execution_count": 31,
   "id": "48fd3af6-0c6c-4c54-b99b-2d6ee43f8e83",
   "metadata": {},
   "outputs": [
    {
     "data": {
      "text/plain": [
       "array([[0.07],\n",
       "       [0.05],\n",
       "       [0.8 ],\n",
       "       [0.08]])"
      ]
     },
     "execution_count": 31,
     "metadata": {},
     "output_type": "execute_result"
    }
   ],
   "source": [
    "c1 = 0.2 # 상태 0,1,3 \n",
    "c2 = 0.8 # 상태 2 \n",
    "π = np.array([0.35*c1, 0.25*c1, 1.0*c2 ,0.4*c1]).reshape(4,1)\n",
    "π"
   ]
  },
  {
   "cell_type": "code",
   "execution_count": 32,
   "id": "976c58ac-a653-4532-b52e-08bd04a77dbf",
   "metadata": {},
   "outputs": [
    {
     "data": {
      "text/plain": [
       "(array([[0.07, 0.05, 0.8 , 0.08]]), array([[0.07, 0.05, 0.8 , 0.08]]))"
      ]
     },
     "execution_count": 32,
     "metadata": {},
     "output_type": "execute_result"
    }
   ],
   "source": [
    "π.T @ P, π.T "
   ]
  },
  {
   "cell_type": "markdown",
   "id": "5884d754-efa0-41c6-9057-20ce359a0dde",
   "metadata": {},
   "source": [
    "`-` 특징4: 초기분포가 정상분포라면 정상확률과정"
   ]
  },
  {
   "cell_type": "markdown",
   "id": "39e093e2-2144-458b-94fd-e0f10a6dfbe4",
   "metadata": {},
   "source": [
    "`-` 특징5: 상태공간 $E$에 equivalence class 가 2개 있는 느낌 "
   ]
  },
  {
   "cell_type": "markdown",
   "id": "80d90508-37b1-4510-a07c-cbdf235fe2ac",
   "metadata": {},
   "source": [
    "## 정의 및 이론"
   ]
  },
  {
   "cell_type": "markdown",
   "id": "ed369b68-d51a-4d89-8c4d-f1ac90b6ccb1",
   "metadata": {},
   "source": [
    "`-` **용어**\n",
    "\n",
    "- irreducible (기약) // reducible (비기약) \n",
    "- (strongly) connected "
   ]
  },
  {
   "cell_type": "markdown",
   "id": "b4b3fadb-b9a5-4370-874f-46c839d7b6ad",
   "metadata": {},
   "source": [
    "`-` **정의**"
   ]
  },
  {
   "cell_type": "markdown",
   "id": "88f3f970-08f3-4c56-af6b-0beab691144b",
   "metadata": {},
   "source": [
    "`-` **느낌**\n",
    "\n",
    "- 연결되어있는 느낌. 즉 모든 $x,y \\in E$에 대하여 $x\\to \\cdots \\to y$ 인 path 나 $y \\to \\cdots \\to x$ 인 path 가 존재함 \n",
    "- 겉도는 그룹이 없음 (상태공간 $E$에 단 하나의 equivalence class가 존재함) "
   ]
  },
  {
   "cell_type": "markdown",
   "id": "7379b599-73db-4838-bb65-144633072cc7",
   "metadata": {},
   "source": [
    "`-` **Thm**: HMC $\\{X_t\\}$ 가 (1) finite state space 를 가지고 (2) irreducible 이라면 $\\{X_t\\}$의 유일한 정상분포 ${\\boldsymbol \\pi}$가 존재하며 모든 state에 대한 확률은 양수이다. "
   ]
  },
  {
   "cell_type": "markdown",
   "id": "6388496c-a971-4f2e-97a9-3f2735f2c1fc",
   "metadata": {},
   "source": [
    "# aperiodic "
   ]
  },
  {
   "cell_type": "markdown",
   "id": "a3937c54-31c7-4bb3-a7a1-a6e2dca49db8",
   "metadata": {},
   "source": [
    "## Motivating Examples "
   ]
  },
  {
   "cell_type": "markdown",
   "id": "5aebbcc8-0f20-489a-8550-dce8f6304541",
   "metadata": {},
   "source": [
    "### 예제1"
   ]
  },
  {
   "cell_type": "markdown",
   "id": "2b43d270-773a-426e-93c6-172a2a9ab46c",
   "metadata": {},
   "source": [
    "`-` 아래와 같은 전이확률을 고려하자. "
   ]
  },
  {
   "cell_type": "code",
   "execution_count": 33,
   "id": "31d5d606-1ae4-47b6-bd4b-8d3d3debb966",
   "metadata": {},
   "outputs": [
    {
     "data": {
      "text/plain": [
       "array([[0., 1., 0.],\n",
       "       [0., 0., 1.],\n",
       "       [1., 0., 0.]])"
      ]
     },
     "execution_count": 33,
     "metadata": {},
     "output_type": "execute_result"
    }
   ],
   "source": [
    "P = np.array([0.0, 1.0, 0.0,\n",
    "              0.0, 0.0, 1.0,\n",
    "              1.0, 0.0, 0.0]).reshape(3,3)\n",
    "P"
   ]
  },
  {
   "cell_type": "markdown",
   "id": "d714503c-de81-43c5-804d-20a201258450",
   "metadata": {},
   "source": [
    "`-` 다이어그램 \n",
    "\n",
    "```{mermaid}\n",
    "flowchart LR\n",
    "  0 -->|1| 1\n",
    "  1 -->|1| 2\n",
    "  2 -->|1| 0\n",
    "```"
   ]
  },
  {
   "cell_type": "markdown",
   "id": "e8c0cf14-1d80-4ebb-beff-2917996ca545",
   "metadata": {},
   "source": [
    "`-` 특징1: ${\\bf P}$는 수렴안함"
   ]
  },
  {
   "cell_type": "code",
   "execution_count": 40,
   "id": "03351086-fa99-451b-9c0c-883ded743c49",
   "metadata": {},
   "outputs": [
    {
     "data": {
      "text/plain": [
       "array([[1., 0., 0.],\n",
       "       [0., 1., 0.],\n",
       "       [0., 0., 1.]])"
      ]
     },
     "execution_count": 40,
     "metadata": {},
     "output_type": "execute_result"
    }
   ],
   "source": [
    "P@P@P"
   ]
  },
  {
   "cell_type": "markdown",
   "id": "5d3763c1-a786-41d5-b086-6dccb9d3d4af",
   "metadata": {},
   "source": [
    "`-` 특징2: "
   ]
  },
  {
   "cell_type": "markdown",
   "id": "fbf2cfc4-fb73-4591-aefe-7aad5a3d51aa",
   "metadata": {},
   "source": [
    "`-` 특징3: 정상분포는 유일하게 존재함."
   ]
  },
  {
   "cell_type": "code",
   "execution_count": 41,
   "id": "561cde27-b18b-459c-b0ea-33f6cd625db2",
   "metadata": {},
   "outputs": [
    {
     "data": {
      "text/plain": [
       "array([[0.33333333],\n",
       "       [0.33333333],\n",
       "       [0.33333333]])"
      ]
     },
     "execution_count": 41,
     "metadata": {},
     "output_type": "execute_result"
    }
   ],
   "source": [
    "π = np.array([1/3,1/3,1/3]).reshape(3,1)\n",
    "π"
   ]
  },
  {
   "cell_type": "code",
   "execution_count": 42,
   "id": "84f5e041-199d-4217-ab48-b3b2a395259b",
   "metadata": {},
   "outputs": [
    {
     "data": {
      "text/plain": [
       "(array([[0.33333333, 0.33333333, 0.33333333]]),\n",
       " array([[0.33333333, 0.33333333, 0.33333333]]))"
      ]
     },
     "execution_count": 42,
     "metadata": {},
     "output_type": "execute_result"
    }
   ],
   "source": [
    "π.T @ P, π.T"
   ]
  },
  {
   "cell_type": "markdown",
   "id": "2fda343a-e3af-4ae5-83b2-cef88fc22977",
   "metadata": {},
   "source": [
    "`-` 특징4: 초기분포가 정상분포라면 정상확률과정"
   ]
  },
  {
   "cell_type": "markdown",
   "id": "8287913d-1e8e-4fb5-9850-a8f1e282ae96",
   "metadata": {},
   "source": [
    "`-` 특징5: 상태공간 $E$에 equivalence class 가 1개"
   ]
  },
  {
   "cell_type": "markdown",
   "id": "2d1275e1-87f5-4299-8435-195c1b88e19d",
   "metadata": {},
   "source": [
    "`-` 특징6: 주기성을 가짐 (주기는 3)\n",
    "\n",
    "- 관찰: 어떠한 상태 $x \\in E$ 에 있더라도 반드시 3번 안에는 원래 상태로 되돌아옴."
   ]
  },
  {
   "cell_type": "markdown",
   "id": "58ca203f-20d2-4584-bf29-7cabfeb4d5fd",
   "metadata": {},
   "source": [
    "### 예제2 "
   ]
  },
  {
   "cell_type": "markdown",
   "id": "08836668-8ae6-4469-9944-a63973f20bdb",
   "metadata": {},
   "source": [
    "`-` 아래와 같은 전이확률을 고려하자. "
   ]
  },
  {
   "cell_type": "code",
   "execution_count": 44,
   "id": "cf2360e6-c728-4496-86a9-c787bddec3ce",
   "metadata": {},
   "outputs": [
    {
     "data": {
      "text/plain": [
       "array([[0.        , 1.        , 0.        , 0.        ],\n",
       "       [0.        , 0.        , 0.        , 1.        ],\n",
       "       [0.        , 1.        , 0.        , 0.        ],\n",
       "       [0.33333333, 0.        , 0.66666667, 0.        ]])"
      ]
     },
     "execution_count": 44,
     "metadata": {},
     "output_type": "execute_result"
    }
   ],
   "source": [
    "P = np.array([0.0, 1.0, 0.0, 0.0,\n",
    "              0.0, 0.0, 0.0, 1.0,\n",
    "              0.0, 1.0, 0.0, 0.0,\n",
    "              1/3, 0.0, 2/3, 0.0]).reshape(4,4)\n",
    "P"
   ]
  },
  {
   "cell_type": "markdown",
   "id": "3dbd01bf-e403-4b71-97d8-5c89bc246610",
   "metadata": {},
   "source": [
    "`-` 다이어그램 \n",
    "\n",
    "```{mermaid}\n",
    "flowchart LR\n",
    "  0 -->|1| 1\n",
    "  1 -->|1| 3\n",
    "  2 -->|1| 1\n",
    "  3 -->|1/3| 0 \n",
    "  3 -->|2/3| 2\n",
    "```"
   ]
  },
  {
   "cell_type": "markdown",
   "id": "5d948f26-335d-4c34-913a-900cecfbf7db",
   "metadata": {},
   "source": [
    "`-` 특징1: ${\\bf P}$는 수렴안함 "
   ]
  },
  {
   "cell_type": "code",
   "execution_count": 52,
   "id": "dbc28652-bd07-4d7a-b060-b49413fcb637",
   "metadata": {},
   "outputs": [
    {
     "data": {
      "text/plain": [
       "array([[0.        , 1.        , 0.        , 0.        ],\n",
       "       [0.        , 0.        , 0.        , 1.        ],\n",
       "       [0.        , 1.        , 0.        , 0.        ],\n",
       "       [0.33333333, 0.        , 0.66666667, 0.        ]])"
      ]
     },
     "execution_count": 52,
     "metadata": {},
     "output_type": "execute_result"
    }
   ],
   "source": [
    "P@P@P@P"
   ]
  },
  {
   "cell_type": "markdown",
   "id": "3b2fe5b3-b599-44a1-9199-ab7495700b5e",
   "metadata": {},
   "source": [
    "`-` 특징2: Pass"
   ]
  },
  {
   "cell_type": "markdown",
   "id": "081ef321-a205-4c1c-8d2a-78e2e623244b",
   "metadata": {},
   "source": [
    "`-` 특징3: 정상분포는 유일하게 존재함. "
   ]
  },
  {
   "cell_type": "code",
   "execution_count": 54,
   "id": "0e59d1b0-c34b-4885-ad09-98799fe3d592",
   "metadata": {},
   "outputs": [
    {
     "data": {
      "text/plain": [
       "array([[0.11111111],\n",
       "       [0.33333333],\n",
       "       [0.22222222],\n",
       "       [0.33333333]])"
      ]
     },
     "execution_count": 54,
     "metadata": {},
     "output_type": "execute_result"
    }
   ],
   "source": [
    "π = (np.array([1,3,2,3])/9).reshape(4,1)\n",
    "π"
   ]
  },
  {
   "cell_type": "code",
   "execution_count": 56,
   "id": "97bf02d4-1b1a-4c56-a0b9-e7c5fb57908c",
   "metadata": {},
   "outputs": [
    {
     "data": {
      "text/plain": [
       "(array([[0.11111111, 0.33333333, 0.22222222, 0.33333333]]),\n",
       " array([[0.11111111, 0.33333333, 0.22222222, 0.33333333]]))"
      ]
     },
     "execution_count": 56,
     "metadata": {},
     "output_type": "execute_result"
    }
   ],
   "source": [
    "π.T @ P, π.T "
   ]
  },
  {
   "cell_type": "markdown",
   "id": "58b43fb1-fe2c-4ebc-8d41-fabe0249900b",
   "metadata": {},
   "source": [
    "**어떻게 찾음?**"
   ]
  },
  {
   "cell_type": "code",
   "execution_count": 60,
   "id": "6f1f0ed6-3847-4549-a458-f83717b4144a",
   "metadata": {},
   "outputs": [],
   "source": [
    "eig_value, eig_vector_matrix = np.linalg.eig(P.T)"
   ]
  },
  {
   "cell_type": "code",
   "execution_count": 64,
   "id": "bc812bdf-2821-42b9-b6a7-d53675077aae",
   "metadata": {},
   "outputs": [
    {
     "data": {
      "text/plain": [
       "(1.000000000000001+0j)"
      ]
     },
     "execution_count": 64,
     "metadata": {},
     "output_type": "execute_result"
    }
   ],
   "source": [
    "eig_value[2]"
   ]
  },
  {
   "cell_type": "code",
   "execution_count": 69,
   "id": "dbb57333-9efd-4af8-b5f6-b12dd01a7bfd",
   "metadata": {},
   "outputs": [
    {
     "data": {
      "text/plain": [
       "array([0.11111111, 0.33333333, 0.22222222, 0.33333333])"
      ]
     },
     "execution_count": 69,
     "metadata": {},
     "output_type": "execute_result"
    }
   ],
   "source": [
    "π = abs(eig_vector_matrix[:,2])\n",
    "π = π/π.sum()\n",
    "π"
   ]
  },
  {
   "cell_type": "markdown",
   "id": "f15bf30a-09d4-44ed-a247-fdfba8a3f558",
   "metadata": {},
   "source": [
    "`-` 특징4: 초기분포가 정상분포라면 정상확률과정"
   ]
  },
  {
   "cell_type": "markdown",
   "id": "ee3ce85c-68e3-461c-ad73-08a2c92a6685",
   "metadata": {},
   "source": [
    "`-` 특징5: irr"
   ]
  },
  {
   "cell_type": "markdown",
   "id": "810d4da1-90e4-4d4a-a70d-ca9d14e72752",
   "metadata": {},
   "source": [
    "`-` 특징6: 주기성을 가짐 (주기는3) "
   ]
  },
  {
   "cell_type": "markdown",
   "id": "1512bfd6-59a7-4b69-82be-1a1f2720b1c8",
   "metadata": {},
   "source": [
    "```{mermaid}\n",
    "flowchart LR\n",
    "  0 -->|1| 1\n",
    "  1 -->|1| 3\n",
    "  2 -->|1| 1\n",
    "  3 -->|1/3| 0 \n",
    "  3 -->|2/3| 2\n",
    "```"
   ]
  },
  {
   "cell_type": "markdown",
   "id": "f56533fe-a458-4511-8e2d-fde3103bc731",
   "metadata": {},
   "source": [
    "**0에서 시작한다면?**\n",
    "\n",
    "- $0 \\to 1 \\to 3 \\to 0$\n",
    "- $0 \\to 1 \\to 3 \\to 2 \\to 1 \\to 3 \\to 0$\n",
    "- $0 \\to 1 \\to 3 \\to 2 \\to 1 \\to 3 \\to 2 \\to \\cdots$"
   ]
  },
  {
   "cell_type": "markdown",
   "id": "1e50960e-8755-4d91-9fc1-b6254a96b0b8",
   "metadata": {},
   "source": [
    "> 3번만에 되돌아오거나, 6번만에 되돌아오거나, 9번만에 되돌아오거나 ... $\\Rightarrow$ 주기는 3 (3,6,9의 최대공약수는 3)"
   ]
  },
  {
   "cell_type": "markdown",
   "id": "9cabcbe8-20a4-4a43-b884-aae200bb1dcf",
   "metadata": {},
   "source": [
    "**1에서 시작한다면?**\n",
    "\n",
    "- $1 \\to 3 \\to 0 \\to 1$\n",
    "- $1 \\to 3 \\to 2 \\to 1 \\to 3 \\to 0 \\to 1$\n",
    "- $\\dots$ "
   ]
  },
  {
   "cell_type": "markdown",
   "id": "37699731-f654-4ca4-8b4b-88e25bae14a6",
   "metadata": {},
   "source": [
    "**2에서 시작한다면?**\n"
   ]
  },
  {
   "cell_type": "markdown",
   "id": "f9421411-f107-42fe-81f0-9008e7718e08",
   "metadata": {},
   "source": [
    "**3에서 시작한다면?**"
   ]
  },
  {
   "cell_type": "markdown",
   "id": "d9fe5897-6cc2-4958-8f2a-a98944b2cd2f",
   "metadata": {},
   "source": [
    "> 꿀팁: HMC $\\{X_t\\}$가 irreducible 이라면 모든 $x \\in E$ 는 같은 주기를 가진다. "
   ]
  }
 ],
 "metadata": {
  "kernelspec": {
   "display_name": "Python 3",
   "language": "python",
   "name": "python3"
  },
  "language_info": {
   "codemirror_mode": {
    "name": "ipython",
    "version": 3
   },
   "file_extension": ".py",
   "mimetype": "text/x-python",
   "name": "python",
   "nbconvert_exporter": "python",
   "pygments_lexer": "ipython3",
   "version": "3.8.16"
  }
 },
 "nbformat": 4,
 "nbformat_minor": 5
}
