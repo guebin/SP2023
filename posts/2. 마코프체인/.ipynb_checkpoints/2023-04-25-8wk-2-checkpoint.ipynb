{
 "cells": [
  {
   "cell_type": "raw",
   "id": "4ac52b35-66bb-4495-b4eb-7843c330d73f",
   "metadata": {},
   "source": [
    "---\n",
    "title: \"8wk-2: 마코프체인 (5)\"\n",
    "author: \"최규빈\"\n",
    "date: \"04/25/2023\"\n",
    "---"
   ]
  },
  {
   "cell_type": "code",
   "execution_count": 1,
   "id": "88f30dbf-91dd-49e7-ac5f-1da30b868b4c",
   "metadata": {},
   "outputs": [],
   "source": [
    "import numpy as np"
   ]
  },
  {
   "cell_type": "markdown",
   "id": "30480e7a-9b99-4d24-b24a-b59e5f5b7f19",
   "metadata": {},
   "source": [
    "`-` 지난시간 복습\n",
    "\n",
    "||특징1(수렴)|특징2(동일row)|특징3(정상분포)|특징4(정상과정)|\n",
    "|:-:|:-:|:-:|:-:|:-:|\n",
    "|예시1(나이스)|O|O|존재O, 유일O|O|\n",
    "|예시2(나이스)|O|O|존재O, 유일O|O|\n",
    "|예시3(흡수)|O|O|존재O, 유일O|O|\n",
    "|예시4(단위행렬)|O|X|존재O, 유일X|O|\n",
    "|예시5(주기)|X|X|존재O, 유일O|O|"
   ]
  },
  {
   "cell_type": "markdown",
   "id": "4316ba0d-ab98-4f45-9e6d-d1e2855e4912",
   "metadata": {},
   "source": [
    "`-` 목표: 예시4와 예시5를 좀 더 공부해보자. "
   ]
  },
  {
   "cell_type": "markdown",
   "id": "d549edce-e38d-4b24-a8ba-03468fa22178",
   "metadata": {},
   "source": [
    "# irreducible "
   ]
  },
  {
   "cell_type": "markdown",
   "id": "3d9c2cd4-8af4-4e77-ab0d-7166786bd402",
   "metadata": {},
   "source": [
    "## Motivation Examples "
   ]
  },
  {
   "cell_type": "markdown",
   "id": "a6658fdf-4c7f-4156-8081-702f9610f73c",
   "metadata": {},
   "source": [
    "### 예제1"
   ]
  },
  {
   "cell_type": "markdown",
   "id": "99d96855-50b5-4025-a121-9e3eb57ce506",
   "metadata": {},
   "source": [
    "`-` 아래의 전이확률을 고려하자. "
   ]
  },
  {
   "cell_type": "code",
   "execution_count": 2,
   "id": "60332cc2-65de-45cb-bac1-e112b8d86165",
   "metadata": {},
   "outputs": [
    {
     "data": {
      "text/plain": [
       "array([[0.5, 0.5, 0. , 0. ],\n",
       "       [0.5, 0.5, 0. , 0. ],\n",
       "       [0. , 0. , 0.5, 0.5],\n",
       "       [0. , 0. , 0.5, 0.5]])"
      ]
     },
     "execution_count": 2,
     "metadata": {},
     "output_type": "execute_result"
    }
   ],
   "source": [
    "P =np.array([0.5, 0.5, 0.0, 0.0, \n",
    "             0.5, 0.5, 0.0, 0.0,\n",
    "             0.0, 0.0, 0.5, 0.5,\n",
    "             0.0, 0.0, 0.5, 0.5]).reshape(4,4)\n",
    "P"
   ]
  },
  {
   "cell_type": "markdown",
   "id": "64ab604a-2b72-4fd2-ba84-2ae901c4d717",
   "metadata": {},
   "source": [
    "`-` 특징1: ${\\bf P}$는 수렴함 "
   ]
  },
  {
   "cell_type": "markdown",
   "id": "827d19ed-f7bf-48a7-8244-8a9fbeae6940",
   "metadata": {},
   "source": [
    "`-` 특징2: 모든 row가 같은건 아님 "
   ]
  },
  {
   "cell_type": "markdown",
   "id": "41d740d3-98e0-4264-b7f7-c0e412e1fd6f",
   "metadata": {},
   "source": [
    "`-` 특징3: 정상분포는 유일하게 존재하지 않음 "
   ]
  },
  {
   "cell_type": "markdown",
   "id": "586052b3-b825-4f3b-a8db-5d1796cd85f0",
   "metadata": {},
   "source": [
    "`-` 특징4: 임의의 초기분포에 대하여, $\\{X_t\\}$의 뒷부분은 동일한 분포를 가짐. "
   ]
  },
  {
   "cell_type": "markdown",
   "id": "d49424f2-09fb-4e8a-b913-1495447aa8ac",
   "metadata": {},
   "source": [
    "`-` 특징5: 상태공간 $E$ 에 equivalence class 가 2개 있는 느낌 "
   ]
  },
  {
   "cell_type": "markdown",
   "id": "90b93063-707b-4b41-964a-e19394a07f9e",
   "metadata": {},
   "source": [
    "### 예제2\n",
    "\n",
    "`-` 아래의 전이확률을 고려하자. "
   ]
  },
  {
   "cell_type": "code",
   "execution_count": 6,
   "id": "761df402-9a09-4f2f-aa24-ec5b179c6829",
   "metadata": {},
   "outputs": [
    {
     "data": {
      "text/plain": [
       "array([[0.25, 0.25, 0.  , 0.5 ],\n",
       "       [0.25, 0.25, 0.  , 0.5 ],\n",
       "       [0.  , 0.  , 1.  , 0.  ],\n",
       "       [0.5 , 0.25, 0.  , 0.25]])"
      ]
     },
     "execution_count": 6,
     "metadata": {},
     "output_type": "execute_result"
    }
   ],
   "source": [
    "P =np.array([1/4, 1/4, 0.0, 1/2, \n",
    "             1/4, 1/4, 0.0, 1/2,\n",
    "             0.0, 0.0, 1.0, 0.0,\n",
    "             1/2, 1/4, 0.0, 1/4]).reshape(4,4)\n",
    "P"
   ]
  },
  {
   "cell_type": "markdown",
   "id": "027b1071-4a02-4439-aba5-daef08e192f5",
   "metadata": {},
   "source": [
    "`-` 특징1: ${\\bf P}$는 수렴함"
   ]
  },
  {
   "cell_type": "markdown",
   "id": "fbe116ac-6c88-41c0-a61d-522ff0abd5b9",
   "metadata": {},
   "source": [
    "`-` 특징2: 모든 row가 같지는 않음 "
   ]
  },
  {
   "cell_type": "markdown",
   "id": "d619f4ca-37c4-40f9-9bfc-7f1a1b2322ce",
   "metadata": {},
   "source": [
    "`-` 특징3: 유일한 정상분포를 가지는건 아님"
   ]
  },
  {
   "cell_type": "markdown",
   "id": "32799e2a-f980-4832-939d-5b20bc321a63",
   "metadata": {},
   "source": [
    "`-` 특징4: 임의의 초기분포에 대하여, $\\{X_t\\}$의 뒷부분은 동일한 분포를 가짐. "
   ]
  },
  {
   "cell_type": "markdown",
   "id": "39e093e2-2144-458b-94fd-e0f10a6dfbe4",
   "metadata": {},
   "source": [
    "`-` 특징5: 상태공간 $E$에 equivalence class 가 2개 있는 느낌 "
   ]
  },
  {
   "cell_type": "markdown",
   "id": "80d90508-37b1-4510-a07c-cbdf235fe2ac",
   "metadata": {},
   "source": [
    "## 정의 및 이론"
   ]
  },
  {
   "cell_type": "markdown",
   "id": "ed369b68-d51a-4d89-8c4d-f1ac90b6ccb1",
   "metadata": {},
   "source": [
    "`-` **용어**\n",
    "\n",
    "- irreducible (기약) // reducible (비기약) \n",
    "- (strongly) connected "
   ]
  },
  {
   "cell_type": "markdown",
   "id": "b4b3fadb-b9a5-4370-874f-46c839d7b6ad",
   "metadata": {},
   "source": [
    "`-` **정의**"
   ]
  },
  {
   "cell_type": "markdown",
   "id": "88f3f970-08f3-4c56-af6b-0beab691144b",
   "metadata": {},
   "source": [
    "`-` **느낌**\n",
    "\n",
    "- 연결되어있는 느낌. 즉 모든 $x,y \\in E$에 대하여 $x\\to \\cdots \\to y$ 인 path 나 $y \\to \\cdots \\to x$ 인 path 가 존재함 \n",
    "- 겉도는 그룹이 없음 (상태공간 $E$에 단 하나의 equivalence class가 존재함) "
   ]
  },
  {
   "cell_type": "markdown",
   "id": "7379b599-73db-4838-bb65-144633072cc7",
   "metadata": {},
   "source": [
    "`-` **Thm**: HMC $\\{X_t\\}$ 가 (1) finite state space 를 가지고 (2) irreducible 이라면 $\\{X_t\\}$의 유일한 정상분포 ${\\boldsymbol \\pi}$가 존재하며 모든 state에 대한 확률은 양수이다. "
   ]
  },
  {
   "cell_type": "markdown",
   "id": "6388496c-a971-4f2e-97a9-3f2735f2c1fc",
   "metadata": {},
   "source": [
    "# aperiodic "
   ]
  },
  {
   "cell_type": "markdown",
   "id": "a3937c54-31c7-4bb3-a7a1-a6e2dca49db8",
   "metadata": {},
   "source": [
    "## Motivation Examples "
   ]
  },
  {
   "cell_type": "markdown",
   "id": "5aebbcc8-0f20-489a-8550-dce8f6304541",
   "metadata": {},
   "source": [
    "### 예제3"
   ]
  },
  {
   "cell_type": "markdown",
   "id": "2b43d270-773a-426e-93c6-172a2a9ab46c",
   "metadata": {},
   "source": [
    "`-` 아래와 같은 전이확률을 고려하자. "
   ]
  },
  {
   "cell_type": "code",
   "execution_count": 12,
   "id": "31d5d606-1ae4-47b6-bd4b-8d3d3debb966",
   "metadata": {},
   "outputs": [
    {
     "data": {
      "text/plain": [
       "array([[0., 1., 0.],\n",
       "       [0., 0., 1.],\n",
       "       [1., 0., 0.]])"
      ]
     },
     "execution_count": 12,
     "metadata": {},
     "output_type": "execute_result"
    }
   ],
   "source": [
    "P = np.array([0.0, 1.0, 0.0,\n",
    "              0.0, 0.0, 1.0,\n",
    "              1.0, 0.0, 0.0]).reshape(3,3)\n",
    "P"
   ]
  },
  {
   "cell_type": "markdown",
   "id": "d714503c-de81-43c5-804d-20a201258450",
   "metadata": {},
   "source": [
    "`-` 다이어그램 \n",
    "\n",
    "```{mermaid}\n",
    "flowchart LR\n",
    "  0 -->|1| 1\n",
    "  1 -->|1| 2\n",
    "  2 -->|1| 0\n",
    "```"
   ]
  },
  {
   "cell_type": "markdown",
   "id": "e8c0cf14-1d80-4ebb-beff-2917996ca545",
   "metadata": {},
   "source": [
    "`-` 특징1: ${\\bf P}$는 수렴안함"
   ]
  },
  {
   "cell_type": "code",
   "execution_count": 13,
   "id": "03351086-fa99-451b-9c0c-883ded743c49",
   "metadata": {},
   "outputs": [
    {
     "data": {
      "text/plain": [
       "array([[1., 0., 0.],\n",
       "       [0., 1., 0.],\n",
       "       [0., 0., 1.]])"
      ]
     },
     "execution_count": 13,
     "metadata": {},
     "output_type": "execute_result"
    }
   ],
   "source": [
    "P@P@P"
   ]
  },
  {
   "cell_type": "markdown",
   "id": "5d3763c1-a786-41d5-b086-6dccb9d3d4af",
   "metadata": {},
   "source": [
    "`-` 특징2: "
   ]
  },
  {
   "cell_type": "markdown",
   "id": "fbf2cfc4-fb73-4591-aefe-7aad5a3d51aa",
   "metadata": {},
   "source": [
    "`-` 특징3: 정상분포는 유일하게 존재함."
   ]
  },
  {
   "cell_type": "code",
   "execution_count": 14,
   "id": "561cde27-b18b-459c-b0ea-33f6cd625db2",
   "metadata": {},
   "outputs": [
    {
     "data": {
      "text/plain": [
       "array([[0.33333333],\n",
       "       [0.33333333],\n",
       "       [0.33333333]])"
      ]
     },
     "execution_count": 14,
     "metadata": {},
     "output_type": "execute_result"
    }
   ],
   "source": [
    "π = np.array([1/3,1/3,1/3]).reshape(3,1)\n",
    "π"
   ]
  },
  {
   "cell_type": "code",
   "execution_count": 15,
   "id": "84f5e041-199d-4217-ab48-b3b2a395259b",
   "metadata": {},
   "outputs": [
    {
     "data": {
      "text/plain": [
       "array([[ True,  True,  True]])"
      ]
     },
     "execution_count": 15,
     "metadata": {},
     "output_type": "execute_result"
    }
   ],
   "source": [
    "π.T @ P == π.T"
   ]
  },
  {
   "cell_type": "markdown",
   "id": "858fa047-d3c9-44fd-b52f-ec4012648f04",
   "metadata": {},
   "source": [
    "`-` 특징4: 임의의 초기분포에 대하여, $\\{X_t\\}$의 뒷부분은 동일한 분포를 가짐. "
   ]
  },
  {
   "cell_type": "markdown",
   "id": "8287913d-1e8e-4fb5-9850-a8f1e282ae96",
   "metadata": {},
   "source": [
    "`-` 특징5: 상태공간 $E$에 equivalence class 가 1개"
   ]
  },
  {
   "attachments": {},
   "cell_type": "markdown",
   "id": "2d1275e1-87f5-4299-8435-195c1b88e19d",
   "metadata": {},
   "source": [
    "`-` 특징6: 주기성을 가짐 (주기는 3)\n",
    "\n",
    "- 관찰: 어떠한 상태 $x \\in E$ 에 있더라도 반드시 3번 안에는 원래 상태로 되돌아옴."
   ]
  },
  {
   "cell_type": "markdown",
   "id": "58ca203f-20d2-4584-bf29-7cabfeb4d5fd",
   "metadata": {},
   "source": [
    "### 예제4 "
   ]
  },
  {
   "cell_type": "markdown",
   "id": "08836668-8ae6-4469-9944-a63973f20bdb",
   "metadata": {},
   "source": [
    "`-` 아래와 같은 전이확률을 고려하자. "
   ]
  },
  {
   "cell_type": "code",
   "execution_count": 33,
   "id": "cf2360e6-c728-4496-86a9-c787bddec3ce",
   "metadata": {},
   "outputs": [
    {
     "data": {
      "text/plain": [
       "array([[0.        , 1.        , 0.        , 0.        ],\n",
       "       [0.        , 0.        , 0.        , 1.        ],\n",
       "       [0.        , 1.        , 0.        , 0.        ],\n",
       "       [0.33333333, 0.        , 0.66666667, 0.        ]])"
      ]
     },
     "execution_count": 33,
     "metadata": {},
     "output_type": "execute_result"
    }
   ],
   "source": [
    "P = np.array([0.0, 1.0, 0.0, 0.0,\n",
    "              0.0, 0.0, 0.0, 1.0,\n",
    "              0.0, 1.0, 0.0, 0.0,\n",
    "              1/3, 0.0, 2/3, 0.0]).reshape(4,4)\n",
    "P"
   ]
  },
  {
   "cell_type": "markdown",
   "id": "3dbd01bf-e403-4b71-97d8-5c89bc246610",
   "metadata": {},
   "source": [
    "`-` 다이어그램 \n",
    "\n",
    "```{mermaid}\n",
    "flowchart LR\n",
    "  0 -->|1| 1\n",
    "  1 -->|1| 3\n",
    "  2 -->|1| 1\n",
    "  3 -->|1/3| 0 \n",
    "  3 -->|2/3| 2\n",
    "```"
   ]
  },
  {
   "cell_type": "markdown",
   "id": "5d948f26-335d-4c34-913a-900cecfbf7db",
   "metadata": {},
   "source": [
    "`-` 특징1: ${\\bf P}$는 수렴안함 "
   ]
  },
  {
   "cell_type": "markdown",
   "id": "3b2fe5b3-b599-44a1-9199-ab7495700b5e",
   "metadata": {},
   "source": [
    "`-` 특징2: Pass"
   ]
  },
  {
   "cell_type": "markdown",
   "id": "081ef321-a205-4c1c-8d2a-78e2e623244b",
   "metadata": {},
   "source": [
    "`-` 특징3: 정상분포는 유일하게 존재함. "
   ]
  },
  {
   "cell_type": "markdown",
   "id": "fc44b654-2460-45e1-9960-ee9075632a65",
   "metadata": {},
   "source": [
    "`-` 특징4: 임의의 초기분포에 대하여, $\\{X_t\\}$의 뒷부분은 동일한 분포를 가짐. "
   ]
  },
  {
   "cell_type": "markdown",
   "id": "ee3ce85c-68e3-461c-ad73-08a2c92a6685",
   "metadata": {},
   "source": [
    "`-` 특징5: irr"
   ]
  },
  {
   "cell_type": "markdown",
   "id": "810d4da1-90e4-4d4a-a70d-ca9d14e72752",
   "metadata": {},
   "source": [
    "`-` 특징6: 주기성을 가짐 (주기는3) "
   ]
  },
  {
   "cell_type": "markdown",
   "id": "1512bfd6-59a7-4b69-82be-1a1f2720b1c8",
   "metadata": {},
   "source": [
    "```{mermaid}\n",
    "flowchart LR\n",
    "  0 -->|1| 1\n",
    "  1 -->|1| 3\n",
    "  2 -->|1| 1\n",
    "  3 -->|1/3| 0 \n",
    "  3 -->|2/3| 2\n",
    "```"
   ]
  },
  {
   "cell_type": "markdown",
   "id": "f56533fe-a458-4511-8e2d-fde3103bc731",
   "metadata": {},
   "source": [
    "**0에서 시작한다면?**\n",
    "\n",
    "- $0 \\to 1 \\to 3 \\to 0$\n",
    "- $0 \\to 1 \\to 3 \\to 2 \\to 1 \\to 3 \\to 0$\n",
    "- $0 \\to 1 \\to 3 \\to 2 \\to 1 \\to 3 \\to 2 \\to \\cdots$"
   ]
  },
  {
   "cell_type": "markdown",
   "id": "1e50960e-8755-4d91-9fc1-b6254a96b0b8",
   "metadata": {},
   "source": [
    "> 3번만에 되돌아오거나, 6번만에 되돌아오거나, 9번만에 되돌아오거나 ... $\\Rightarrow$ 주기는 3 (3,6,9의 최대공약수는 3)"
   ]
  },
  {
   "cell_type": "markdown",
   "id": "9cabcbe8-20a4-4a43-b884-aae200bb1dcf",
   "metadata": {},
   "source": [
    "**1에서 시작한다면?**\n",
    "\n",
    "- $1 \\to 3 \\to 0 \\to 1$\n",
    "- $1 \\to 3 \\to 2 \\to 1 \\to 3 \\to 0 \\to 1$\n",
    "- $\\dots$ "
   ]
  },
  {
   "cell_type": "markdown",
   "id": "37699731-f654-4ca4-8b4b-88e25bae14a6",
   "metadata": {},
   "source": [
    "**2에서 시작한다면?**\n"
   ]
  },
  {
   "cell_type": "markdown",
   "id": "f9421411-f107-42fe-81f0-9008e7718e08",
   "metadata": {},
   "source": [
    "**3에서 시작한다면?**"
   ]
  },
  {
   "cell_type": "markdown",
   "id": "d9fe5897-6cc2-4958-8f2a-a98944b2cd2f",
   "metadata": {},
   "source": [
    "> 꿀팁: HMC $\\{X_t\\}$가 irreducible 이라면 모든 $x \\in E$ 는 같은 주기를 가진다. "
   ]
  },
  {
   "cell_type": "markdown",
   "id": "3297ec5e-ecc7-4a8c-af80-966bd64387f0",
   "metadata": {},
   "source": [
    "### 예제5"
   ]
  },
  {
   "cell_type": "markdown",
   "id": "677c86ea-0564-4760-ae31-6bed1ddd7273",
   "metadata": {},
   "source": [
    "`-` 아래의 전이확률을 고려하자. "
   ]
  },
  {
   "cell_type": "code",
   "execution_count": 31,
   "id": "36e29f23-025c-4dfe-90ff-58a585865543",
   "metadata": {},
   "outputs": [
    {
     "data": {
      "text/plain": [
       "array([[0. , 1. , 0. , 0. ],\n",
       "       [0.5, 0. , 0.5, 0. ],\n",
       "       [0. , 0. , 0. , 1. ],\n",
       "       [0. , 1. , 0. , 0. ]])"
      ]
     },
     "execution_count": 31,
     "metadata": {},
     "output_type": "execute_result"
    }
   ],
   "source": [
    "P =np.array([0.0, 1.0, 0.0, 0.0, \n",
    "             1/2, 0.0, 1/2, 0.0,\n",
    "             0.0, 0.0, 0.0, 1.0,\n",
    "             0.0, 1.0, 0.0, 0.0]).reshape(4,4)\n",
    "P"
   ]
  },
  {
   "cell_type": "markdown",
   "id": "e0a407ad-5b6c-4285-9396-2f1a3a86c73d",
   "metadata": {},
   "source": [
    "`-` 다이어그램 "
   ]
  },
  {
   "cell_type": "markdown",
   "id": "ae627708-bbfe-4118-b07f-9cca19cf7f28",
   "metadata": {},
   "source": [
    "```{mermaid}\n",
    "flowchart LR\n",
    "  0 -->|1| 1\n",
    "  1 -->|1/2| 0\n",
    "  1 -->|1/2| 2\n",
    "  2 -->|1| 3\n",
    "  3 -->|1| 1\n",
    "```"
   ]
  },
  {
   "cell_type": "markdown",
   "id": "6445c0db-fd74-40b7-b34b-98281027abb1",
   "metadata": {},
   "source": [
    "`-` 특징1,2: "
   ]
  },
  {
   "cell_type": "markdown",
   "id": "834ccf7f-57c7-4bdb-aaeb-b6528cb5736a",
   "metadata": {},
   "source": [
    "`-` 특징3: 정상분포를 가짐"
   ]
  },
  {
   "cell_type": "markdown",
   "id": "009cb0e7-d73c-4dfa-a5e8-01968d3ec9fe",
   "metadata": {},
   "source": [
    "`-` 특징4: 임의의 초기분포에 대하여, $\\{X_t\\}$의 뒷부분은 동일한 분포를 가짐. "
   ]
  },
  {
   "cell_type": "markdown",
   "id": "a41d242b-47e0-40cf-a656-957ac8f830db",
   "metadata": {},
   "source": [
    "`-` 특징5: irr"
   ]
  },
  {
   "cell_type": "markdown",
   "id": "d7dc849a-d991-47d9-8dfc-c00bab206022",
   "metadata": {},
   "source": [
    "`-` 특징6: 주기가 없음 "
   ]
  },
  {
   "cell_type": "markdown",
   "id": "9dc9bc37-5cfc-4eb3-b2cc-0ebcde6ddea9",
   "metadata": {},
   "source": [
    "```{mermaid}\n",
    "flowchart LR\n",
    "  0 -->|1| 1\n",
    "  1 -->|1/2| 0\n",
    "  1 -->|1/2| 2\n",
    "  2 -->|1| 3\n",
    "  3 -->|1| 1\n",
    "```"
   ]
  },
  {
   "attachments": {
    "7c354ba6-56a6-4b8e-91f8-940bd357174d.png": {
     "image/png": "[encoded data removed]"
    }
   },
   "cell_type": "markdown",
   "id": "e3cd4e24-1016-426f-abaa-b18ebe569890",
   "metadata": {},
   "source": [
    "![image.png](attachment:7c354ba6-56a6-4b8e-91f8-940bd357174d.png)"
   ]
  },
  {
   "cell_type": "markdown",
   "id": "4e0fef61-4d5e-4ff8-85ff-f276ee69b1c6",
   "metadata": {},
   "source": [
    "**1에서 시작한다면?**"
   ]
  },
  {
   "cell_type": "markdown",
   "id": "eb770101-e96b-4814-a3e2-9dc7cea82573",
   "metadata": {},
   "source": [
    "- $1 \\to 0 \\to 1$, 2번만에 리턴\n",
    "- $1 \\to 2 \\to 3 \\to 1$, 3번만에 리턴 "
   ]
  },
  {
   "cell_type": "markdown",
   "id": "28f9ea32-2edf-4930-97db-00eb00d42d84",
   "metadata": {},
   "source": [
    "이 경우 2와 3의 최대공약수는 1이므로 주기는 1이다. "
   ]
  },
  {
   "cell_type": "markdown",
   "id": "7f1c0e1a-ec23-4d70-a3db-ba05fa8b418a",
   "metadata": {},
   "source": [
    "> 주기가 1인 경우는 aperiodic 하다고 표현한다. (언제 올지 몰라)"
   ]
  },
  {
   "cell_type": "markdown",
   "id": "d69089ea-67b4-4660-84f5-7988e8c6c716",
   "metadata": {},
   "source": [
    "> 꿀팁: 자기자신으로 되돌아올 확률이 있다면 항상 aperiodic 하다."
   ]
  },
  {
   "cell_type": "markdown",
   "id": "6bd20223-49b3-4afa-8f25-a1b6cd216c20",
   "metadata": {},
   "source": [
    "## 정의 및 이론 "
   ]
  },
  {
   "cell_type": "markdown",
   "id": "38f762e8-a154-4e10-a7bb-c125235f351c",
   "metadata": {},
   "source": [
    "`-` 정의"
   ]
  },
  {
   "cell_type": "markdown",
   "id": "04b0a645-ebc4-439d-8f43-bc30d1a17c6e",
   "metadata": {},
   "source": [
    "`-` 느낌 "
   ]
  },
  {
   "cell_type": "markdown",
   "id": "8a1a7a71-e409-46a9-a77b-c3da47e434a0",
   "metadata": {},
   "source": [
    "`-` **이론**: $\\{X_t\\}$가 finte state HMC 이면, 모든 상태가 항상 같은 주기를 가진다. "
   ]
  },
  {
   "cell_type": "markdown",
   "id": "cf196910-a110-4e04-9247-f828b7cb507d",
   "metadata": {},
   "source": [
    "# 에르고딕 마코프체인"
   ]
  },
  {
   "cell_type": "markdown",
   "id": "667750d8-36d0-4ef2-819f-beea87e5f3f8",
   "metadata": {},
   "source": [
    "## 정의 및 이론"
   ]
  },
  {
   "attachments": {},
   "cell_type": "markdown",
   "id": "7657d3d8-6b49-418f-9c7e-e307e91e2a39",
   "metadata": {},
   "source": [
    "`-` **Thm**: HMC $\\{X_t\\}$가 (1) finite state space를 가지고 (2) irreduciable 하고 (3) aperiodic 이라면, ${\\bf P}$가 수렴하고 수렴한 matrix의 모든 row는 같다. 따라서 임의의 초기분포 ${\\boldsymbol \\mu}$ 에 대하여 \n",
    "\n",
    "$$\\lim_{t\\to \\infty}{\\boldsymbol \\mu}^\\top{\\bf P}^t = {\\boldsymbol \\pi}^\\top $$\n",
    "\n",
    "이 성립한다. 여기에서 ${\\boldsymbol \\pi}$는 $\\{X_t\\}$의 정상분포이다. "
   ]
  },
  {
   "cell_type": "markdown",
   "id": "3f3616ed-4994-4809-afac-dced3d0db963",
   "metadata": {},
   "source": [
    "`-` 정의: 아래의 식을 만족하는 HMC $\\{X_t\\}$을 에르고딕하다고 말한다. \n",
    "\n",
    "$$\\lim_{t\\to \\infty}{\\boldsymbol \\mu}^\\top{\\bf P}^t = {\\boldsymbol \\pi}^\\top $$"
   ]
  }
 ],
 "metadata": {
  "kernelspec": {
   "display_name": "Python 3",
   "language": "python",
   "name": "python3"
  },
  "language_info": {
   "codemirror_mode": {
    "name": "ipython",
    "version": 3
   },
   "file_extension": ".py",
   "mimetype": "text/x-python",
   "name": "python",
   "nbconvert_exporter": "python",
   "pygments_lexer": "ipython3",
   "version": "3.8.16"
  }
 },
 "nbformat": 4,
 "nbformat_minor": 5
}
