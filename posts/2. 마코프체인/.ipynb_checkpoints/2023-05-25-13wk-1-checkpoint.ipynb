{
 "cells": [
  {
   "cell_type": "raw",
   "id": "922603ff-9931-41d0-95ce-f5d7028edce8",
   "metadata": {},
   "source": [
    "---\n",
    "title: \"13wk-1: 마코프체인 (12)\"\n",
    "author: \"최규빈\"\n",
    "date: \"05/25/2023\"\n",
    "bibliography: ref.bib\n",
    "title-block-style: none\n",
    "title-block-banner: false\n",
    "---"
   ]
  },
  {
   "cell_type": "markdown",
   "id": "8ff63e4d-8ac9-490e-a3a6-f97b15525729",
   "metadata": {},
   "source": [
    "# imports "
   ]
  },
  {
   "cell_type": "code",
   "execution_count": 14,
   "id": "6959677f-add1-419b-b167-043668c0d572",
   "metadata": {},
   "outputs": [],
   "source": [
    "import numpy as np"
   ]
  },
  {
   "cell_type": "markdown",
   "id": "0baabca3-6bfb-464a-8d4c-323f6141c0b3",
   "metadata": {},
   "source": [
    "# nature와 정상분포 (cont)"
   ]
  },
  {
   "cell_type": "markdown",
   "id": "9679ceda-aa16-4b72-a57e-6df2f2e2a004",
   "metadata": {},
   "source": [
    "## 지난시간\n",
    "\n",
    "`-` **정의** $\\{X_t\\}$가 HMC라고 하자. 아래의 식을 만족하는\n",
    "\n",
    "$$\\tilde{\\boldsymbol \\pi}^\\top {\\bf P} = \\tilde{\\boldsymbol \\pi}^\\top$$\n",
    "\n",
    "$\\tilde{\\boldsymbol \\pi}^\\top$ 를 ***invariant measure*** 라고 한다. 만약에 $\\tilde{\\boldsymbol \\pi}^\\top$ 이 분포의 정의를 만족하면 ***stationary measure*** 혹은 ***stationary distribution*** 이라고 부른다. "
   ]
  },
  {
   "cell_type": "markdown",
   "id": "8954dc26-b703-426b-b3ef-c59e4eeae76f",
   "metadata": {},
   "source": [
    "\n",
    "\n",
    "`-` 예시: \"오른쪽으로만 갈래\" 예제에서는 \n",
    "\n",
    "$$\\tilde{\\boldsymbol \\pi}^\\top = [1,1,1,\\dots]$$\n",
    "        \n",
    "이 수식 \n",
    "\n",
    "$$\\tilde{\\boldsymbol \\pi}^\\top {\\bf P} = \\tilde{\\boldsymbol \\pi}^\\top$$\n",
    "\n",
    "을 만족한다. 따라서 이 예제에서 $\\tilde{\\boldsymbol \\pi}^\\top = [1,1,1,\\dots]$ 은 ***invariant measure*** 이다. "
   ]
  },
  {
   "cell_type": "markdown",
   "id": "06636a55-b6b6-4810-90f6-d995d781b7ab",
   "metadata": {},
   "source": [
    "`-` $\\{X_t\\}$가 HMC라고 하자. 각각에 대하여 아래가 성립한다. "
   ]
  },
  {
   "cell_type": "markdown",
   "id": "651d1c49-bcf2-4176-81f9-479e9030bee2",
   "metadata": {},
   "source": [
    "|IRR|nature|$\\exists! \\tilde{\\boldsymbol \\pi}$ up to multiplier|$\\exists! {\\boldsymbol \\pi}$|에르고딕정리($\\approx$LLN)|\n",
    "|:-:|:-:|:-:|:-:|:-:|\n",
    "|$O$|PR|$O$|$O$|$O$|\n",
    "|$O$|NR|$O$|$X$|$X$|\n",
    "|$O$|TR|$\\Delta$|$X$|$X$|"
   ]
  },
  {
   "cell_type": "markdown",
   "id": "145c8ad1-0e81-4cd6-bc2e-de4ec784ad87",
   "metadata": {},
   "source": [
    "`-` **이론**: $\\{X_t\\}$가 IRR-HMC^[irreducible 한 homogeneous markov chain] 라고 하자. $\\{X_t\\}$가 정상분포를 가진다는 조건과 유일한 정상분포를 가질 조건은 동치이다. \n",
    "\n",
    "- 즉 $\\{X_t\\}$가 IRR-HMC 일때, 정상분포가 존재한다는 사실만 보이면 자동으로 유일성이 보장된다. "
   ]
  },
  {
   "cell_type": "markdown",
   "id": "2e5ff563-63ae-436e-b558-e2d96e3a1f81",
   "metadata": {},
   "source": [
    "`-` **Thm**: $\\{X_t\\}$가 IRR-HMC 라고 하자. 그러면 ***positvite recurrent*** 와 $\\exists! {\\boldsymbol \\pi}$ 은 동치조건이다. 즉\n",
    "\n",
    "- IRR-HMC $\\{X_t\\}$ 가 positive recurrent 하다면 항상 $\\{X_t\\}$ 는 유일한 정상분포를 가진다. \n",
    "- IRR-HMC $\\{X_t\\}$ 가 정상분포를 가지면 (그 분포는 유일해지고) $\\{X_t\\}$는 항상 positive recurrent 하다. "
   ]
  },
  {
   "cell_type": "markdown",
   "id": "2a032517-6f39-4101-b381-4890aef78914",
   "metadata": {},
   "source": [
    "## 이번시간"
   ]
  },
  {
   "cell_type": "markdown",
   "id": "eff24ce7-64af-4238-baf0-fc19eedd9569",
   "metadata": {},
   "source": [
    "`-` **(정의+대안정의) -- 복습** $\\{X_t\\}$가 HMC라고 하자. 모든 $i \\in E$ 는 아래의 조건중 하나를 만족하는데 \n",
    "\n",
    "1. $\\mathbb{P}_i(T_i <\\infty)= 1$ and $\\mathbb{E}_i[T_i]<\\infty$,\n",
    "2. $\\mathbb{P}_i(T_i <\\infty)= 1$ and $\\mathbb{E}_i[T_i]=\\infty$,\n",
    "3. $\\mathbb{P}_i(T_i <\\infty)= 0$.  \n",
    "\n",
    "이중에서 3의 경우는 상태 $i$가 ***transient*** 하다고 표현하며, 1,2의 경우는 각각 ***potivite recurrent***, ***null recurrent*** 하다고 표현한다. "
   ]
  },
  {
   "cell_type": "markdown",
   "id": "95a3ca67-577c-4a83-8933-0f7d7578a61a",
   "metadata": {},
   "source": [
    "`-` 이걸 갑자기 복습하는 이유? 결국 TR, NR 모두 그 상태에 머물확률이 궁극적으로는 0이라는 느낌을 위해서! TR일 경우는 따질 필요 없이 확실하고 NR일 경우는 아래 식을 이용하여 판단할 수 있다. \n",
    "\n",
    "$$\\frac{1}{\\mathbb{E}(T_i)} \\approx \\frac{1}{T}\\sum_{t=1}^{T}\\#\\mathbb{1}(X_t=i)$$"
   ]
  },
  {
   "cell_type": "markdown",
   "id": "8df9257d-0892-4d01-894b-78eb5345360c",
   "metadata": {},
   "source": [
    "1. $T=100$ 일때 21번 상태 0에 있었음. \n",
    "2. 평균적으로 $\\frac{21}{100}\\approx 1/5$ 비율로 상태 0에 있는듯\n",
    "3. 현재 상태 0에 머물러 있다면, 평균 5번정도내로는 돌아올 듯 (그렇지 않다면 2가 성립하지 않는걸?)"
   ]
  },
  {
   "cell_type": "markdown",
   "id": "1bd51b64-409c-4f90-8afe-39afedb942a3",
   "metadata": {},
   "source": [
    "`-` 직관: 어떠한 상태가 PR이 아닌 경우는 그 상태에 머물 확률이 0이므로 당연히 정상분포를 가지지 않음. "
   ]
  },
  {
   "cell_type": "markdown",
   "id": "d0a5950d-897e-43cc-8d7e-6910498e11e6",
   "metadata": {},
   "source": [
    "`-` **Thm** (에르고딕 thm): IRR-HMC $\\{X_t\\}$가 PR 조건을 만족한다고 하자. 그러면 $\\sum_{i\\in E}|f(i)|\\pi_i<\\infty$를 만족하는 함수 $f:E \\to \\mathbb{R}$에 대하여 아래가 성립한다. \n",
    "\n",
    "$$\\lim_{T\\to\\infty} \\frac{1}{T}\\sum_{t=0}^{T-1}f(X_t) = \\mathbb{E}_{\\boldsymbol \\pi}[f(X_0)]$$\n",
    "\n",
    "여기에서 $\\boldsymbol \\pi$는 ${\\boldsymbol \\pi}^\\top = {\\boldsymbol \\pi}^\\top{\\bf P}$를 만족하는 **유일한** 정상분포이고 ${\\bf P}$는 $\\{X_t\\}$의 transition matrix 이다."
   ]
  },
  {
   "cell_type": "markdown",
   "id": "55727da3-bc2c-4007-baaf-fd13a6f55682",
   "metadata": {},
   "source": [
    "> FINITE 한 경우와 비교1: FINITE 조건이 PR 조건으로 바뀐느낌."
   ]
  },
  {
   "cell_type": "markdown",
   "id": "84d68989-5c80-4516-829c-d691692fd9db",
   "metadata": {},
   "source": [
    "> FINITE 한 경우와 비교2: $\\sum_{i\\in E}|f(i)|\\pi_i<\\infty$ 이라는 조건은 없었는데 생김"
   ]
  },
  {
   "cell_type": "markdown",
   "id": "6bdd7f5b-9d50-44a9-8939-0e28c45c5ec0",
   "metadata": {},
   "source": [
    "`-` **이론:** (에르고딕 thm, ver2) IRR-HMC $\\{X_t\\}$가 PR이면 아래가 성립한다는 의미이다. \n",
    "\n",
    "$$\\bar{\\boldsymbol \\pi} \\to {\\boldsymbol \\pi}$$"
   ]
  },
  {
   "cell_type": "markdown",
   "id": "6db98c80-3db8-4f18-92bd-11b717811152",
   "metadata": {},
   "source": [
    "(증명?)"
   ]
  },
  {
   "cell_type": "markdown",
   "id": "6058aba6-b444-44c8-96ef-2664f7cddf8f",
   "metadata": {},
   "source": [
    "이 이론이 성립하는 이유는 원래의 에르고딕 이론에서 $f$를 잘 해석하면 된다. "
   ]
  },
  {
   "cell_type": "markdown",
   "id": "3df4fbdb-8bd5-48c5-b99c-0ffd9fd1604a",
   "metadata": {},
   "source": [
    "***SOME NOTES***\n",
    "\n",
    "1. IRR 조건이 있는 이유? 그냥 가정할 수 있어.. \n",
    "2. PR 조건이 있는 이유? NR 이거나 TR 이면 애초에 수렴할 정상분포가 없는걸? "
   ]
  },
  {
   "cell_type": "markdown",
   "id": "6e01e90b-e7ab-4119-90cc-c11658a25d58",
   "metadata": {},
   "source": [
    "`-` **이론:** (에르고딕 thm, ver3) IRR-HMC $\\{X_t\\}$가 FINITE 이면 아래가 성립한다. \n",
    "\n",
    "$$\\bar{\\boldsymbol \\pi} \\to {\\boldsymbol \\pi}$$"
   ]
  },
  {
   "cell_type": "markdown",
   "id": "0021724b-72af-4915-9380-aa99bc5f3f2b",
   "metadata": {},
   "source": [
    "(증명?)"
   ]
  },
  {
   "cell_type": "markdown",
   "id": "e3b6d46a-5993-4654-82a3-777d797d4803",
   "metadata": {},
   "source": [
    "IRR-HMC가 FINITE 할 경우 PR이 임플라이 되므로 자동성립 "
   ]
  },
  {
   "cell_type": "markdown",
   "id": "942939db-d636-44a4-9658-542ad8db3ce0",
   "metadata": {},
   "source": [
    "> 에르고딕 정리는 결국 LLN의 upgrade 버전이며 (조건은 약화되었는데 결론도 강해요) \"시간평균 $\\approx$ 앙상블평균\" 을 의미한다. "
   ]
  },
  {
   "cell_type": "markdown",
   "id": "fcc11a0c-1a80-449e-b9fd-bbe6fba520e4",
   "metadata": {},
   "source": [
    "# periodicity"
   ]
  },
  {
   "cell_type": "markdown",
   "id": "5e06d4ae-a9de-4330-a65c-ea8f6d41b5c5",
   "metadata": {},
   "source": [
    "`-` **예제1** -- 주기를 뭐라고 할 수 없어.. "
   ]
  },
  {
   "cell_type": "markdown",
   "id": "7986b4ba-b066-49f4-97a2-5c056342cdb5",
   "metadata": {},
   "source": [
    "$\\{X_t\\}$를 아래와 같은 transition matrix를 가지는 HMC라고 하자."
   ]
  },
  {
   "cell_type": "code",
   "execution_count": 3,
   "id": "0c58c373-1fdb-456a-8a39-55193415e5f1",
   "metadata": {},
   "outputs": [
    {
     "data": {
      "text/plain": [
       "array([[1.  , 0.  ],\n",
       "       [0.05, 0.95]])"
      ]
     },
     "execution_count": 3,
     "metadata": {},
     "output_type": "execute_result"
    }
   ],
   "source": [
    "P = np.array([[1.0, 0.0],\n",
    "              [0.05,0.95]])\n",
    "P"
   ]
  },
  {
   "cell_type": "markdown",
   "id": "831b5ba5-f5ac-432f-bb63-c86a33344aa6",
   "metadata": {},
   "source": [
    "`-` 관찰1: 상태0으로 결국 가게 되어있다. "
   ]
  },
  {
   "cell_type": "markdown",
   "id": "009a4cd7-c3e2-4dd0-9fef-3d8555e90524",
   "metadata": {},
   "source": [
    "`-` 관찰2: 상태1에는 일시적으로 머문다. 상태0에는 반복적으로 방문한다. \n",
    "\n",
    "- 상태1은 transient 하고, 상태 0은 recurrent 하다. (정확하게는 positive recurrent)"
   ]
  },
  {
   "cell_type": "markdown",
   "id": "f5e48c0a-342f-416e-851e-2391142c1b7b",
   "metadata": {},
   "source": [
    "`-` 주기??\n",
    "\n",
    "- 상태0의 주기는 1이라고 할 수 있다. \n",
    "- 상태1의 주기는? 무한대? "
   ]
  },
  {
   "cell_type": "markdown",
   "id": "0cd282b4-285c-4f89-a513-b68c0bd52840",
   "metadata": {},
   "source": [
    "`-` 이 마코프체인은 AP인가? \n",
    "\n",
    "- 질문이 틀림. \n",
    "- 주기라는 개념은 recurrent state 인 경우에만 정의한다. "
   ]
  },
  {
   "cell_type": "markdown",
   "id": "8f68bd51-cdb9-42f0-8bcb-70c6860737e5",
   "metadata": {},
   "source": [
    "`-` **정의**: $\\{X_t\\}$가 상태공간 $E$에서 정의된 HMC 라고 하자. 상태공간 $E$의 원소중 recurrent state $i \\in E$ 에 대하여 아래와 같은 집합 $I_i$ 를 생각하자. \n",
    "\n",
    "$$I_i = \\{t: p_{ii}^{(t)}>0,~t \\geq 1 \\}$$\n",
    "\n",
    "그렇다면 상태 $i$의 주기는 $I_i$의 모든 원소들의 최대공약수로 정의한다. "
   ]
  },
  {
   "cell_type": "markdown",
   "id": "eb67187d-25fe-45a5-8a66-ff471140a061",
   "metadata": {},
   "source": [
    "`-` **이론**: $\\{X_t\\}$가 상태공간 $E$에서 정의된 HMC 라고 하자. $\\{X_t\\}$가 IRR & recurrent 라고 가정하자. 그러면 모든 상태는 같은 주기를 가진다. "
   ]
  },
  {
   "cell_type": "markdown",
   "id": "884aa686-1d1e-4a39-a7a2-e97777036b45",
   "metadata": {},
   "source": [
    "`-` **예제2**: 아래와 같은 전이확률을 고려하자. "
   ]
  },
  {
   "cell_type": "code",
   "execution_count": 4,
   "id": "3d6d99b2-83c4-44fa-8b67-8ce4c4a279bb",
   "metadata": {},
   "outputs": [
    {
     "data": {
      "text/plain": [
       "array([[0., 1., 0.],\n",
       "       [0., 0., 1.],\n",
       "       [1., 0., 0.]])"
      ]
     },
     "execution_count": 4,
     "metadata": {},
     "output_type": "execute_result"
    }
   ],
   "source": [
    "P = np.array([0.0, 1.0, 0.0,\n",
    "              0.0, 0.0, 1.0,\n",
    "              1.0, 0.0, 0.0]).reshape(3,3)\n",
    "P"
   ]
  },
  {
   "cell_type": "markdown",
   "id": "cb201b39-1cf9-47bc-8c84-a3aeb76fe7d9",
   "metadata": {},
   "source": [
    "```{mermaid}\n",
    "flowchart LR\n",
    "  0 -->|1| 1\n",
    "  1 -->|1| 2\n",
    "  2 -->|1| 0\n",
    "```"
   ]
  },
  {
   "cell_type": "markdown",
   "id": "70e67b51-c13e-42e6-987b-03ddfe1e23ea",
   "metadata": {},
   "source": [
    "모든 상태 $i$에 대하여 주기를 구하라. "
   ]
  },
  {
   "cell_type": "markdown",
   "id": "713c5e7d-4fff-4623-be5a-b329ee503cc8",
   "metadata": {},
   "source": [
    "`-` **예제3**: 아래와 같은 전이확률을 고려하자. "
   ]
  },
  {
   "cell_type": "code",
   "execution_count": 5,
   "id": "1c74b0d6-9ad2-4c60-b665-b734b9b3bc99",
   "metadata": {},
   "outputs": [
    {
     "data": {
      "text/plain": [
       "array([[0.        , 1.        , 0.        , 0.        ],\n",
       "       [0.        , 0.        , 0.        , 1.        ],\n",
       "       [0.        , 1.        , 0.        , 0.        ],\n",
       "       [0.33333333, 0.        , 0.66666667, 0.        ]])"
      ]
     },
     "execution_count": 5,
     "metadata": {},
     "output_type": "execute_result"
    }
   ],
   "source": [
    "P = np.array([0.0, 1.0, 0.0, 0.0,\n",
    "              0.0, 0.0, 0.0, 1.0,\n",
    "              0.0, 1.0, 0.0, 0.0,\n",
    "              1/3, 0.0, 2/3, 0.0]).reshape(4,4)\n",
    "P"
   ]
  },
  {
   "cell_type": "markdown",
   "id": "267b8a98-e8f2-4e5e-afe4-994a91b17d2e",
   "metadata": {},
   "source": [
    "```{mermaid}\n",
    "flowchart LR\n",
    "  0 -->|1| 1\n",
    "  1 -->|1| 3\n",
    "  2 -->|1| 1\n",
    "  3 -->|1/3| 0 \n",
    "  3 -->|2/3| 2\n",
    "```"
   ]
  },
  {
   "cell_type": "markdown",
   "id": "c262dc22-755a-4a61-8562-8d4adf5550aa",
   "metadata": {},
   "source": [
    "모든 상태 $i$에 대하여 주기를 구하라. "
   ]
  },
  {
   "cell_type": "markdown",
   "id": "b91c7709-8095-4958-9ebe-d0539c61946a",
   "metadata": {},
   "source": [
    "`-` **이론**: $\\{X_t\\}$가 IRR-TR-HMC^[irreducible and transient homogeneous markov chain]는 극한분포가 존재하지 않는다. \n",
    "\n",
    "- 왜냐하면 ${\\bf P}^{\\star}={\\bf 0}$ 이므로 "
   ]
  },
  {
   "cell_type": "markdown",
   "id": "2f601f3e-ee4b-4639-a5fc-d1673acb25aa",
   "metadata": {},
   "source": [
    "`-` **이론**: $\\{X_t\\}$가 IRR-NR-HMC 역시 극한분포가 존재하지 않는다. \n",
    "\n",
    "- 왜냐하면 ${\\bf P}^{\\star}={\\bf 0}$ 이므로 "
   ]
  },
  {
   "cell_type": "markdown",
   "id": "56723aab-80f8-454a-85f5-a3c0a4c6a585",
   "metadata": {},
   "source": [
    "`-` **이론**: $\\{X_t\\}$가 IRR-PR-HMC 의 경우 AP 조건을 만족하면 극한분포 ${\\bf p}_{\\star}^\\top$가 존재한다. "
   ]
  },
  {
   "cell_type": "markdown",
   "id": "83db3ef9-2c1c-43ab-88b5-a80c85e19683",
   "metadata": {},
   "source": [
    "|IRR|nature|periodicity|${\\bf P}^\\star$의 수렴|$\\exists!{\\bf p}^\\star$| \n",
    "|:-:|:-:|:-:|:-:|:-:|\n",
    "|$O$|TR|정의할수X|$O$|$X$|\n",
    "|$O$|NR|상관X|$O$|$X$|\n",
    "|$O$|PR|AP 조건 충족 X|$X$|$X$|\n",
    "|$O$|PR|AP 조건 충족 O|$O$|$O$|\n",
    "\n",
    "\n"
   ]
  },
  {
   "cell_type": "markdown",
   "id": "e844c234-512d-4683-b839-ff3e741e5251",
   "metadata": {},
   "source": [
    "# 정리 (high-resolution)"
   ]
  },
  {
   "cell_type": "markdown",
   "id": "94068f63-7450-4c0f-a86a-ce0b3089e3d0",
   "metadata": {},
   "source": [
    "`-` 우리가 결국에 보이고 싶은 정리는 아래의 형태이다. \n",
    "\n",
    "$$\\bar{\\boldsymbol \\pi} \\to {\\boldsymbol \\pi} ={\\bf p}^\\star$$ "
   ]
  },
  {
   "cell_type": "markdown",
   "id": "281e5d5c-259a-423d-9441-11f98f9d4698",
   "metadata": {},
   "source": [
    "`-` 이게 가능한 형태의 마코프체인을 에르고딕이라고 하며 그 조건은 IRR, PR, AP 이다. "
   ]
  },
  {
   "cell_type": "markdown",
   "id": "35f50794-61f0-446e-9711-8e4717c32327",
   "metadata": {},
   "source": [
    "|IRR|nature|periodicity|$\\bar{\\boldsymbol \\pi} \\to {\\boldsymbol \\pi} = {\\bf p}^\\star$|안되는 이유|\n",
    "|:-:|:-:|:-:|:-:|:-:|\n",
    "|$O$|PR|AP|$O$|-|\n",
    "|$O$|PR|AP 조건 충족 X|$X$|${\\bf p}^\\star$가 수렴안해서|\n",
    "|$O$|TR|정의할 수 X|$O$|${\\boldsymbol \\pi}$ 가 없어서|\n",
    "|$O$|NR|상관X|$O$|${\\boldsymbol \\pi}$ 가 없어서|\n",
    "\n"
   ]
  },
  {
   "cell_type": "markdown",
   "id": "1ea4a6e3-0a14-4319-9dcb-a257832ff5c3",
   "metadata": {},
   "source": [
    "# 정리 (low-resolution)"
   ]
  },
  {
   "cell_type": "markdown",
   "id": "14fc12d2-7b48-48da-9877-7a856bb76ca1",
   "metadata": {},
   "source": [
    "`-` 우리가 하고 싶었던 것: 어떠한 현상에 대하여, 확률공간 $(\\Omega,{\\cal F}, \\mathbb{P})$ 에 대한 완전한 기술 "
   ]
  },
  {
   "cell_type": "markdown",
   "id": "737a2c2b-b120-4d00-b1e8-85a6e7d589d1",
   "metadata": {},
   "source": [
    "`-` 이것을 수행하는 방법. \n",
    "\n",
    "- 방법1: $(\\Omega,{\\cal F}, \\mathbb{P})$를 state 하고 \"관심있는 어떤 것\"을 이론적으로 구한다. \n",
    "- 방법2: $\\omega \\to {\\boldsymbol X}(\\omega)={\\boldsymbol x}$ 를 무한번 반복 관찰하고 (=시뮬레이션하고!) \"관심있는 어떤 것\"을 시뮬레이션으로 근사 \n",
    "- 방법3: 독립적으로 $n$회 관찰된 $({\\boldsymbol x}_1,{\\boldsymbol x}_2,\\dots,{\\boldsymbol x}_n)$ 를 이용하여 \"관심있는 어떤 것\"을 추정, 추정 결과를 합리적으로 설득. "
   ]
  },
  {
   "cell_type": "markdown",
   "id": "c1ec22db-1f87-4559-b404-f6b480062557",
   "metadata": {},
   "source": [
    "`-` 우리가 이 섹션에서 하고 싶었던 것: 시간평균 $\\approx$ 앙상블평균 \n",
    "\n",
    "1. 우리가 쓰는 전략은 방법3이다. \n",
    "2. 방법3을 쓰기 위해서는 $n$회 관측된 샘플이 필요한데 우리는 one-sample만 가지고 있으므로 one-sample을 쪼개어 $T$샘플을 만드는 전략을 사용한다. (비판여지 있음) \n",
    "3. 이때 우리가 관심있는 어떤 것은 \"평균\" 즉 \"앙상블평균\" 이다. \n",
    "4. 우리가 관심있는 것을 추정하기 위해서 \"시간평균\"을 이용하였다. \n",
    "5. 시간평균으로 앙상블평균을 근사한다는 논리를 합리적으로 설득하기 위해서는 \"독립적으로 시행\"과 \"동일한 분포\" 가정이 있어야 한다. 하지만 우리의 경우는 그렇지 않다. (비판여지 있음) "
   ]
  },
  {
   "cell_type": "markdown",
   "id": "d1bf0e41-8a29-4a72-a4b9-96032005715f",
   "metadata": {},
   "source": [
    "`-` \"시간평균 $\\approx$ 앙상블평균\" 에 대한 이론적인 근거를 백업하기 위해서 필요한 것: 에르고딕 정리 (IRR,PR) "
   ]
  },
  {
   "cell_type": "markdown",
   "id": "b73227b7-4027-4bd5-afb5-02c2489e3e4d",
   "metadata": {},
   "source": [
    "`-` 마코프체인의 특화트릭: \"시간평균 $\\approx$ 앙상블평균 = ${\\bf P}^\\star$의 원소값\" 에 대한 이론적인 근거를 백업하기 위해서 필요한 것: 에르고딕 정리 (IRR,PR,AP) "
   ]
  }
 ],
 "metadata": {
  "kernelspec": {
   "display_name": "Python 3",
   "language": "python",
   "name": "python3"
  },
  "language_info": {
   "codemirror_mode": {
    "name": "ipython",
    "version": 3
   },
   "file_extension": ".py",
   "mimetype": "text/x-python",
   "name": "python",
   "nbconvert_exporter": "python",
   "pygments_lexer": "ipython3",
   "version": "3.8.16"
  }
 },
 "nbformat": 4,
 "nbformat_minor": 5
}
