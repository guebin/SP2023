{
 "cells": [
  {
   "cell_type": "raw",
   "id": "1d0546ac-60a2-4bfc-a844-6b554cb5a055",
   "metadata": {},
   "source": [
    "---\n",
    "title: \"9wk-1: 마코프체인 (6)\"\n",
    "author: \"최규빈\"\n",
    "date: \"04/27/2023\"\n",
    "---"
   ]
  },
  {
   "cell_type": "markdown",
   "id": "134cc379-f465-4b70-9204-8974a0f8d893",
   "metadata": {},
   "source": [
    "# 강의영상 "
   ]
  },
  {
   "cell_type": "markdown",
   "id": "752de836-e861-4cca-aab8-ed62480eb656",
   "metadata": {},
   "source": [
    "# imports "
   ]
  },
  {
   "cell_type": "code",
   "execution_count": 1,
   "id": "a1320631-8a1f-42c9-b456-61dd077b35a1",
   "metadata": {},
   "outputs": [],
   "source": [
    "import numpy as np "
   ]
  },
  {
   "cell_type": "markdown",
   "id": "96252ef1-6074-468d-b1dd-b54846ca1ec7",
   "metadata": {},
   "source": [
    "# aperiodic "
   ]
  },
  {
   "cell_type": "markdown",
   "id": "65b824ea-d3b9-418d-b0cf-d4da6f597ccb",
   "metadata": {},
   "source": [
    "## Motivating Examples (cont)"
   ]
  },
  {
   "cell_type": "markdown",
   "id": "3cdb184e-689b-438b-8459-e345462872b3",
   "metadata": {
    "tags": []
   },
   "source": [
    "### 예제3"
   ]
  },
  {
   "cell_type": "markdown",
   "id": "9fa76a14-1792-4255-9ba8-68ccf583b5f6",
   "metadata": {},
   "source": [
    "`-` 아래의 전이확률을 고려하자. "
   ]
  },
  {
   "cell_type": "code",
   "execution_count": 2,
   "id": "e439785e-e216-4771-9251-82f441ef5a7b",
   "metadata": {},
   "outputs": [
    {
     "data": {
      "text/plain": [
       "array([[0. , 1. , 0. , 0. ],\n",
       "       [0.5, 0. , 0.5, 0. ],\n",
       "       [0. , 0. , 0. , 1. ],\n",
       "       [0. , 1. , 0. , 0. ]])"
      ]
     },
     "execution_count": 2,
     "metadata": {},
     "output_type": "execute_result"
    }
   ],
   "source": [
    "P =np.array([0.0, 1.0, 0.0, 0.0, \n",
    "             1/2, 0.0, 1/2, 0.0,\n",
    "             0.0, 0.0, 0.0, 1.0,\n",
    "             0.0, 1.0, 0.0, 0.0]).reshape(4,4)\n",
    "P"
   ]
  },
  {
   "cell_type": "markdown",
   "id": "3fa2d47c-4795-4e08-9344-79c8ce0fcb96",
   "metadata": {},
   "source": [
    "`-` 다이어그램 "
   ]
  },
  {
   "cell_type": "markdown",
   "id": "5cfa8eb4-df66-4d22-b483-95f2ec60a0aa",
   "metadata": {},
   "source": [
    "```{mermaid}\n",
    "flowchart LR\n",
    "  0 -->|1| 1\n",
    "  1 -->|1/2| 0\n",
    "  1 -->|1/2| 2\n",
    "  2 -->|1| 3\n",
    "  3 -->|1| 1\n",
    "```"
   ]
  },
  {
   "cell_type": "markdown",
   "id": "d376f270-a6ba-472d-a583-63236ce8af93",
   "metadata": {},
   "source": [
    "`-` 특징1,2: "
   ]
  },
  {
   "cell_type": "markdown",
   "id": "1f45d234-9052-4abf-929f-b1469a0e4c20",
   "metadata": {},
   "source": [
    "`-` 특징3: 정상분포를 가짐"
   ]
  },
  {
   "cell_type": "markdown",
   "id": "d2408326-978b-4e13-b33d-5c41a498c445",
   "metadata": {},
   "source": [
    "`-` 특징4: 초기분포가 정상분포라면 정상확률과정"
   ]
  },
  {
   "cell_type": "markdown",
   "id": "c59728b7-beb1-4363-a948-751028789e4c",
   "metadata": {},
   "source": [
    "`-` 특징5: irr"
   ]
  },
  {
   "cell_type": "markdown",
   "id": "d7b4a3d5-2642-4a51-9d0a-efffa93515c0",
   "metadata": {},
   "source": [
    "`-` 특징6: 주기가 없음 "
   ]
  },
  {
   "cell_type": "markdown",
   "id": "f110d278-80ed-4b62-b600-142d0b3b0373",
   "metadata": {},
   "source": [
    "```{mermaid}\n",
    "flowchart LR\n",
    "  0 -->|1| 1\n",
    "  1 -->|1/2| 0\n",
    "  1 -->|1/2| 2\n",
    "  2 -->|1| 3\n",
    "  3 -->|1| 1\n",
    "```"
   ]
  },
  {
   "cell_type": "markdown",
   "id": "88bc7c39-09ef-46b3-9972-a460a94ea3e3",
   "metadata": {},
   "source": [
    "**1에서 시작한다면?**"
   ]
  },
  {
   "cell_type": "markdown",
   "id": "7bd964c9-e39d-430d-bf6c-76f395b6db3a",
   "metadata": {},
   "source": [
    "- $1 \\to 0 \\to 1$, 2번만에 리턴\n",
    "- $1 \\to 2 \\to 3 \\to 1$, 3번만에 리턴 "
   ]
  },
  {
   "cell_type": "markdown",
   "id": "90496804-c56c-42fc-900d-e6876c31a72d",
   "metadata": {},
   "source": [
    "이 경우 2와 3의 최대공약수는 1이므로 주기는 1이다. 그리고 finite state space를 가지는 HMC는 모든 state가 항상 같은 주기를 가지므로 이 마코프체인의 모든 주기는 1이다. "
   ]
  },
  {
   "cell_type": "markdown",
   "id": "33955174-c330-495a-88a4-305f50d85170",
   "metadata": {},
   "source": [
    "> 주기가 1인 경우는 aperiodic 하다고 표현한다. (언제 올지 몰라)"
   ]
  },
  {
   "cell_type": "markdown",
   "id": "4381cbd0-be46-4ca6-8557-b952302ff3a8",
   "metadata": {},
   "source": [
    "> 꿀팁: 자기자신으로 되돌아올 확률이 있다면 항상 aperiodic 하다."
   ]
  },
  {
   "cell_type": "markdown",
   "id": "b8b93f7d-af72-42a8-b1f1-6346a18b58a4",
   "metadata": {},
   "source": [
    "## 정의 및 이론 "
   ]
  },
  {
   "cell_type": "markdown",
   "id": "174db3d8-96f0-4357-ac7a-a96afac18f86",
   "metadata": {},
   "source": [
    "`-` 정의: "
   ]
  },
  {
   "cell_type": "markdown",
   "id": "ef6c31ae-ffb8-4f97-b239-1d0505987b5a",
   "metadata": {},
   "source": [
    "`-` 느낌: 상태 $i$에서 $i$로 되돌아오는 횟수들의 최대공약수 "
   ]
  },
  {
   "cell_type": "markdown",
   "id": "d62803f6-2980-4ca6-bed6-71ff73d360e2",
   "metadata": {},
   "source": [
    "`-` **이론**: $\\{X_t\\}$가 finte state HMC 이면, 모든 상태가 항상 같은 주기를 가진다. "
   ]
  },
  {
   "cell_type": "markdown",
   "id": "46d44e4a-666e-4c2b-a5dd-cdc908fbb6d8",
   "metadata": {},
   "source": [
    "# 에르고딕 마코프체인"
   ]
  },
  {
   "cell_type": "markdown",
   "id": "2b3ab418-18e9-4c9e-8e4a-175acb46f06e",
   "metadata": {},
   "source": [
    "## 정의 및 이론"
   ]
  },
  {
   "cell_type": "markdown",
   "id": "ff86c6cd-76ac-4fea-bd2e-160d8b9f4637",
   "metadata": {},
   "source": [
    "`-` **Thm**: HMC $\\{X_t\\}$가 (1) finite state space를 가지고 (2) irreduciable 하고 (3) aperiodic 이라면, ${\\bf P}$가 수렴하고 수렴한 matrix의 모든 row는 같다. 따라서 임의의 초기분포 ${\\boldsymbol \\mu}$ 에 대하여 \n",
    "\n",
    "$$\\lim_{t\\to \\infty}{\\boldsymbol \\mu}^\\top{\\bf P}^t = {\\boldsymbol \\pi}^\\top $$\n",
    "\n",
    "이 성립한다. 여기에서 ${\\boldsymbol \\pi}$는 $\\{X_t\\}$의 정상분포이다. "
   ]
  },
  {
   "cell_type": "markdown",
   "id": "277f20a1-91c6-4902-9ee7-b3922bb4b556",
   "metadata": {},
   "source": [
    "`-` 정의: 아래의 식을 만족하는 HMC $\\{X_t\\}$을 에르고딕하다고 말한다. \n",
    "\n",
    "$$\\lim_{t\\to \\infty}{\\boldsymbol \\mu}^\\top{\\bf P}^t = {\\boldsymbol \\pi}^\\top $$"
   ]
  },
  {
   "cell_type": "markdown",
   "id": "2e7eb3e3-16d0-4eda-ad4a-b788c3ac78eb",
   "metadata": {},
   "source": [
    "# 구글의 페이지랭크 "
   ]
  },
  {
   "cell_type": "markdown",
   "id": "b0a8c438-c92c-4e2f-b1ea-e33d3f9b8ef7",
   "metadata": {},
   "source": [
    "## intro"
   ]
  },
  {
   "cell_type": "markdown",
   "id": "43eddb83-8ba9-4cb5-bbf4-5fed68ee7407",
   "metadata": {},
   "source": [
    "`-` Google\n",
    "\n",
    "- Google은 사용자의 검색어와 일치하는 검색 결과를 제공\n",
    "- Google은 웹사이트들 사이에서 \"더 나은\" 또는 \"더 중요한\" 웹사이트가 검색 결과 상위에 나타나도록 순위를 유지\n",
    "- 이 순위는 전체 문제를 한 번에 해결하는 것이 아니라 먼저 전체적으로 수립되고(검색어와는 독립적으로), 그 후에 검색어와 일치하는 웹사이트들만 해당 순위에 따라 정렬된다고 함 "
   ]
  },
  {
   "cell_type": "markdown",
   "id": "bcd731e6-fc57-4254-b3f2-22073441b27a",
   "metadata": {},
   "source": [
    "`-` 이 강의에서는 순위 매기기에 초점을 맞추어 생각해보자. (이는 마코프체인과 관련이 있음) \n",
    "\n",
    "-ref: "
   ]
  },
  {
   "cell_type": "markdown",
   "id": "437eac23-96bd-4abc-b439-674465ebbcbc",
   "metadata": {},
   "source": [
    "`-` 페이지랭크 \n",
    "\n",
    "- 페이지랭크(PageRank)는 구글 검색에서 웹 페이지의 순위를 결정하는 알고리즘으로 이는 \"웹 페이지\"와 구글 공동 창업자인 라리 페이지(Larry Page)의 이름을 따서 지어졌음\n",
    "- 페이지랭크는 웹사이트 페이지의 중요성을 측정하는 방법이며 기본적으로 더 중요한 웹사이일수록 다른 웹사이트에서 더 많은 링크를 받을 가능성이 높다는 점에 착안함 \n",
    "- 페이지랭크는 페이지랭크는 구글이 검색 결과를 정렬하는 데 사용하는 유일한 알고리즘이 아니지만, 구글에서 사용한 최초의 알고리즘이며, 가장 잘 알려진 알고리즘임 "
   ]
  },
  {
   "cell_type": "markdown",
   "id": "5b6776d6-ca9d-4c5a-8cff-52dee8a33f18",
   "metadata": {},
   "source": [
    "## settings "
   ]
  },
  {
   "cell_type": "markdown",
   "id": "d3c84d43-f638-41fb-8ad0-47157a65914a",
   "metadata": {},
   "source": [
    "아래와 같이 상황을 요약하자. \n",
    "\n",
    "`-` 페이지의 숫자는 $N<\\infty$ 이라고 하자. \n",
    "\n",
    "`-` 페이지의 집합을 $\\Omega$라고하고, $E$는 $\\Omega$에 대응하는 상태공간이라고 가정한다. 확률변수 $X$는 \n",
    "\n",
    "- $\\Omega = \\{{\\tt \"http://guebin.github.io/SP2023/\"},{\\tt \"http://guebin.github.io/AP2023/\"} \\dots \\}$\n",
    "- $E = \\{0,1,\\dots\\}$ \n",
    "- $X(\\omega) = 0,1,2,\\dots$ \n"
   ]
  },
  {
   "cell_type": "markdown",
   "id": "5c24f28f-23dd-4ae7-85f7-d0fe0dcdff4a",
   "metadata": {},
   "source": [
    "`-` "
   ]
  },
  {
   "cell_type": "markdown",
   "id": "25f30208-c68d-4e42-82d7-fe0194bc51c0",
   "metadata": {},
   "source": [
    "## toy example "
   ]
  },
  {
   "cell_type": "markdown",
   "id": "8d064118-aa51-498a-8468-a57f73499ddb",
   "metadata": {},
   "source": [
    "`-` 아래와 같은 예제를 고려하자. \n",
    "\n",
    "```{mermaid}\n",
    "flowchart LR\n",
    "  0 -->|1/2| 1\n",
    "  1 -->|1/2| 0\n",
    "  0 -->|1/2| 2\n",
    "  1 -->|1/2| 2\n",
    "  2 -->|1| 3 \n",
    "  4 -->|1| 3\n",
    "```"
   ]
  },
  {
   "cell_type": "code",
   "execution_count": null,
   "id": "b3624b5b-3a66-4970-9357-3529cb47dc32",
   "metadata": {},
   "outputs": [],
   "source": []
  }
 ],
 "metadata": {
  "kernelspec": {
   "display_name": "Python 3",
   "language": "python",
   "name": "python3"
  },
  "language_info": {
   "codemirror_mode": {
    "name": "ipython",
    "version": 3
   },
   "file_extension": ".py",
   "mimetype": "text/x-python",
   "name": "python",
   "nbconvert_exporter": "python",
   "pygments_lexer": "ipython3",
   "version": "3.8.16"
  }
 },
 "nbformat": 4,
 "nbformat_minor": 5
}
