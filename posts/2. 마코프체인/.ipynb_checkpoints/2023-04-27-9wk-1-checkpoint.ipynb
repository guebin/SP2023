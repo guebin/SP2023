{
 "cells": [
  {
   "cell_type": "raw",
   "id": "1d0546ac-60a2-4bfc-a844-6b554cb5a055",
   "metadata": {},
   "source": [
    "---\n",
    "title: \"09wk-1: 마코프체인 (6)\"\n",
    "author: \"최규빈\"\n",
    "date: \"04/27/2023\"\n",
    "bibliography: ref.bib\n",
    "title-block-style: none\n",
    "title-block-banner: false\n",
    "---"
   ]
  },
  {
   "cell_type": "markdown",
   "id": "134cc379-f465-4b70-9204-8974a0f8d893",
   "metadata": {},
   "source": [
    "# 강의영상 "
   ]
  },
  {
   "cell_type": "markdown",
   "id": "395b0f6f",
   "metadata": {},
   "source": [
    "> youtube: <https://youtube.com/playlist?list=PLQqh36zP38-xbWjXgaQNqqqZDzuV1QsgL>"
   ]
  },
  {
   "cell_type": "markdown",
   "id": "752de836-e861-4cca-aab8-ed62480eb656",
   "metadata": {},
   "source": [
    "# imports "
   ]
  },
  {
   "cell_type": "code",
   "execution_count": 1,
   "id": "a1320631-8a1f-42c9-b456-61dd077b35a1",
   "metadata": {},
   "outputs": [],
   "source": [
    "import numpy as np "
   ]
  },
  {
   "cell_type": "markdown",
   "id": "96252ef1-6074-468d-b1dd-b54846ca1ec7",
   "metadata": {},
   "source": [
    "# aperiodic "
   ]
  },
  {
   "cell_type": "markdown",
   "id": "65b824ea-d3b9-418d-b0cf-d4da6f597ccb",
   "metadata": {},
   "source": [
    "## Motivating Examples (cont)"
   ]
  },
  {
   "cell_type": "markdown",
   "id": "3cdb184e-689b-438b-8459-e345462872b3",
   "metadata": {
    "tags": []
   },
   "source": [
    "### 예제3"
   ]
  },
  {
   "cell_type": "markdown",
   "id": "9fa76a14-1792-4255-9ba8-68ccf583b5f6",
   "metadata": {},
   "source": [
    "`-` 아래의 전이확률을 고려하자. "
   ]
  },
  {
   "cell_type": "code",
   "execution_count": 316,
   "id": "e439785e-e216-4771-9251-82f441ef5a7b",
   "metadata": {},
   "outputs": [
    {
     "data": {
      "text/plain": [
       "array([[0. , 1. , 0. , 0. ],\n",
       "       [0.5, 0. , 0.5, 0. ],\n",
       "       [0. , 0. , 0. , 1. ],\n",
       "       [0. , 1. , 0. , 0. ]])"
      ]
     },
     "execution_count": 316,
     "metadata": {},
     "output_type": "execute_result"
    }
   ],
   "source": [
    "P =np.array([0.0, 1.0, 0.0, 0.0, \n",
    "             1/2, 0.0, 1/2, 0.0,\n",
    "             0.0, 0.0, 0.0, 1.0,\n",
    "             0.0, 1.0, 0.0, 0.0]).reshape(4,4)\n",
    "P"
   ]
  },
  {
   "cell_type": "markdown",
   "id": "3fa2d47c-4795-4e08-9344-79c8ce0fcb96",
   "metadata": {},
   "source": [
    "`-` 다이어그램 "
   ]
  },
  {
   "cell_type": "markdown",
   "id": "5cfa8eb4-df66-4d22-b483-95f2ec60a0aa",
   "metadata": {},
   "source": [
    "```{mermaid}\n",
    "flowchart LR\n",
    "  0 -->|1| 1\n",
    "  1 -->|1/2| 0\n",
    "  1 -->|1/2| 2\n",
    "  2 -->|1| 3\n",
    "  3 -->|1| 1\n",
    "```"
   ]
  },
  {
   "cell_type": "markdown",
   "id": "d376f270-a6ba-472d-a583-63236ce8af93",
   "metadata": {},
   "source": [
    "`-` 특징1,2: "
   ]
  },
  {
   "cell_type": "code",
   "execution_count": 323,
   "id": "ea86aa22",
   "metadata": {},
   "outputs": [
    {
     "data": {
      "text/plain": [
       "matrix([[0.2, 0.4, 0.2, 0.2],\n",
       "        [0.2, 0.4, 0.2, 0.2],\n",
       "        [0.2, 0.4, 0.2, 0.2],\n",
       "        [0.2, 0.4, 0.2, 0.2]])"
      ]
     },
     "execution_count": 323,
     "metadata": {},
     "output_type": "execute_result"
    }
   ],
   "source": [
    "np.matrix(P)**500"
   ]
  },
  {
   "cell_type": "markdown",
   "id": "1f45d234-9052-4abf-929f-b1469a0e4c20",
   "metadata": {},
   "source": [
    "`-` 특징3: 정상분포를 가짐"
   ]
  },
  {
   "cell_type": "markdown",
   "id": "d2408326-978b-4e13-b33d-5c41a498c445",
   "metadata": {},
   "source": [
    "`-` 특징4: 초기분포가 정상분포라면 정상확률과정"
   ]
  },
  {
   "cell_type": "markdown",
   "id": "c59728b7-beb1-4363-a948-751028789e4c",
   "metadata": {},
   "source": [
    "`-` 특징5: irr"
   ]
  },
  {
   "cell_type": "markdown",
   "id": "d7b4a3d5-2642-4a51-9d0a-efffa93515c0",
   "metadata": {},
   "source": [
    "`-` 특징6: 주기가 없음 "
   ]
  },
  {
   "cell_type": "markdown",
   "id": "f110d278-80ed-4b62-b600-142d0b3b0373",
   "metadata": {},
   "source": [
    "```{mermaid}\n",
    "flowchart LR\n",
    "  0 -->|1| 1\n",
    "  1 -->|1/2| 0\n",
    "  1 -->|1/2| 2\n",
    "  2 -->|1| 3\n",
    "  3 -->|1| 1\n",
    "```"
   ]
  },
  {
   "cell_type": "markdown",
   "id": "88bc7c39-09ef-46b3-9972-a460a94ea3e3",
   "metadata": {},
   "source": [
    "**1에서 시작한다면?**"
   ]
  },
  {
   "cell_type": "markdown",
   "id": "7bd964c9-e39d-430d-bf6c-76f395b6db3a",
   "metadata": {},
   "source": [
    "- $1 \\to 0 \\to 1$, 2번만에 리턴\n",
    "- $1 \\to 2 \\to 3 \\to 1$, 3번만에 리턴 "
   ]
  },
  {
   "cell_type": "markdown",
   "id": "90496804-c56c-42fc-900d-e6876c31a72d",
   "metadata": {},
   "source": [
    "이 경우 2와 3의 최대공약수는 1이므로 주기는 1이다. 그리고 finite state space를 가지는 HMC는 모든 state가 항상 같은 주기를 가지므로 이 마코프체인의 모든 주기는 1이다. "
   ]
  },
  {
   "cell_type": "markdown",
   "id": "33955174-c330-495a-88a4-305f50d85170",
   "metadata": {},
   "source": [
    "> 주기가 1인 경우는 aperiodic 하다고 표현한다. (언제 올지 몰라)"
   ]
  },
  {
   "cell_type": "markdown",
   "id": "4381cbd0-be46-4ca6-8557-b952302ff3a8",
   "metadata": {},
   "source": [
    "> 꿀팁: 자기자신으로 1턴만에 되돌아올 확률이 있다면 항상 aperiodic 하다."
   ]
  },
  {
   "cell_type": "markdown",
   "id": "b8b93f7d-af72-42a8-b1f1-6346a18b58a4",
   "metadata": {},
   "source": [
    "## 정의 및 이론 "
   ]
  },
  {
   "cell_type": "markdown",
   "id": "174db3d8-96f0-4357-ac7a-a96afac18f86",
   "metadata": {},
   "source": [
    "`-` 정의: "
   ]
  },
  {
   "cell_type": "markdown",
   "id": "ef6c31ae-ffb8-4f97-b239-1d0505987b5a",
   "metadata": {},
   "source": [
    "`-` 느낌: 상태 $i$에서 $i$로 되돌아오는 횟수들의 최대공약수를 HMC $\\{X_t\\}$의 period라고 하고, period=1인 경우를 aperiodic 이라고 한다.  "
   ]
  },
  {
   "cell_type": "markdown",
   "id": "d62803f6-2980-4ca6-bed6-71ff73d360e2",
   "metadata": {},
   "source": [
    "`-` **이론**: $\\{X_t\\}$가 finte state HMC 이면, 모든 상태가 항상 같은 주기를 가진다. "
   ]
  },
  {
   "cell_type": "markdown",
   "id": "46d44e4a-666e-4c2b-a5dd-cdc908fbb6d8",
   "metadata": {},
   "source": [
    "# 에르고딕 마코프체인"
   ]
  },
  {
   "cell_type": "markdown",
   "id": "2b3ab418-18e9-4c9e-8e4a-175acb46f06e",
   "metadata": {},
   "source": [
    "## 정의 및 이론"
   ]
  },
  {
   "cell_type": "markdown",
   "id": "ff86c6cd-76ac-4fea-bd2e-160d8b9f4637",
   "metadata": {},
   "source": [
    "`-` **Thm**: HMC $\\{X_t\\}$가 (1) finite state space를 가지고 (2) irreduciable 하고 (3) aperiodic 이라면, ${\\bf P}$가 수렴하고 수렴한 matrix의 모든 row는 같다. 따라서 임의의 초기분포 ${\\boldsymbol \\mu}$ 에 대하여 \n",
    "\n",
    "$$\\lim_{t\\to \\infty}{\\boldsymbol \\mu}^\\top{\\bf P}^t = {\\boldsymbol \\pi}^\\top $$\n",
    "\n",
    "이 성립한다. 여기에서 ${\\boldsymbol \\pi}$는 $\\{X_t\\}$의 정상분포이다. "
   ]
  },
  {
   "cell_type": "markdown",
   "id": "277f20a1-91c6-4902-9ee7-b3922bb4b556",
   "metadata": {},
   "source": [
    "`-` 정의: 아래의 식을 만족하는 HMC $\\{X_t\\}$을 에르고딕하다고 말한다. \n",
    "\n",
    "$$\\lim_{t\\to \\infty}{\\boldsymbol \\mu}^\\top{\\bf P}^t = {\\boldsymbol \\pi}^\\top $$"
   ]
  },
  {
   "cell_type": "markdown",
   "id": "2e7eb3e3-16d0-4eda-ad4a-b788c3ac78eb",
   "metadata": {},
   "source": [
    "# 구글의 페이지랭크 "
   ]
  },
  {
   "cell_type": "markdown",
   "id": "b0a8c438-c92c-4e2f-b1ea-e33d3f9b8ef7",
   "metadata": {},
   "source": [
    "## intro"
   ]
  },
  {
   "cell_type": "markdown",
   "id": "43eddb83-8ba9-4cb5-bbf4-5fed68ee7407",
   "metadata": {},
   "source": [
    "`-` Google\n",
    "\n",
    "- Google은 사용자의 검색어와 일치하는 검색 결과를 제공\n",
    "- Google은 웹사이트들 사이에서 \"더 나은\" 또는 \"더 중요한\" 웹사이트가 검색 결과 상위에 나타나도록 순위를 유지\n",
    "- 이 순위는 전체 문제를 한 번에 해결하는 것이 아니라 먼저 전체적으로 수립되고(검색어와는 독립적으로), 그 후에 검색어와 일치하는 웹사이트들만 해당 순위에 따라 정렬된다고 함 "
   ]
  },
  {
   "cell_type": "markdown",
   "id": "bcd731e6-fc57-4254-b3f2-22073441b27a",
   "metadata": {},
   "source": [
    "`-` 이 강의에서는 순위 매기기에 초점을 맞추어 생각해보자. (이는 마코프체인과 관련이 있음) \n",
    "\n",
    "- ref: <https://en.wikipedia.org/wiki/PageRank>"
   ]
  },
  {
   "cell_type": "markdown",
   "id": "437eac23-96bd-4abc-b439-674465ebbcbc",
   "metadata": {},
   "source": [
    "`-` 페이지랭크 \n",
    "\n",
    "- 페이지랭크(PageRank)는 구글 검색에서 웹 페이지의 순위를 결정하는 알고리즘으로 이는 \"웹 페이지\"와 구글 공동 창업자인 라리 페이지(Larry Page)의 이름을 따서 지어졌음\n",
    "- 페이지랭크는 웹사이트 페이지의 중요성을 측정하는 방법이며 기본적으로 더 중요한 웹사이일수록 다른 웹사이트에서 더 많은 링크를 받을 가능성이 높다는 점에 착안함 \n",
    "- 페이지랭크는 구글이 검색 결과를 정렬하는 데 사용하는 유일한 알고리즘이 아니지만, 구글에서 사용한 최초의 알고리즘이며, 가장 잘 알려진 알고리즘임 "
   ]
  },
  {
   "cell_type": "markdown",
   "id": "25f30208-c68d-4e42-82d7-fe0194bc51c0",
   "metadata": {},
   "source": [
    "## toy example "
   ]
  },
  {
   "cell_type": "markdown",
   "id": "8d064118-aa51-498a-8468-a57f73499ddb",
   "metadata": {},
   "source": [
    "`-` 아래는 7개의 website에 대한 web graph이다.  \n",
    "\n",
    "```{mermaid}\n",
    "flowchart LR\n",
    "  0 -->|1/2| 1\n",
    "  1 -->|1/2| 0\n",
    "  0 -->|1/2| 2\n",
    "  1 -->|1/2| 2\n",
    "  2 -->|1| 3 \n",
    "  4 -->|1| 3\n",
    "  3 -->|1| 5 \n",
    "  6 -->|1| 5\n",
    "```"
   ]
  },
  {
   "cell_type": "markdown",
   "id": "215339df-f841-434d-80a6-6ea5ee3029d4",
   "metadata": {},
   "source": [
    "`-` 여기에서 가장 중요한 웹사이트는 무엇일까? \n",
    "\n",
    "- 구글의 아이디어는 기본적으로 **더 많은 화살표를 받는 쪽이 더 중요한 웹사이트이다** 라는 것이었다. \n",
    "- 이 논리대로라면 노드 2,3,5가 똑같이 중요해보인다. \n",
    "- 좀 더 생각해보니까 노드2보다 노드3과 노드5가 더 중요해보인다. 왜냐하면 노드2는 확률 1/2 짜리 화살표 2개이지만 노드3과 노드5는 확률 1짜리 화살표가 2개임 \n",
    "- 그렇지만 또 노드3보다는 노드5가 더 중요해보인다. 왜냐하면 노드3을 방문한 사람은 결국은 노드5로 갈테니까 노드3보다 노드5가 더 중요한 사이트라고 볼 수 있다. \n",
    "- 그럼 노드3의 중요도가 1일때 노드5의 중요도는 얼마정도 될까? "
   ]
  },
  {
   "cell_type": "markdown",
   "id": "cbf2212b-6b1e-466e-878e-57301cd8c992",
   "metadata": {},
   "source": [
    "`-` 구글의 아이디어: **random surfer**\n",
    "\n",
    "- 무작위로 웹사이트를 방문하는 가상의 유저를 만들자. \n",
    "- 그리고 이 유저가 많이 방문하게 되는 웹사이트를 기록하자.  "
   ]
  },
  {
   "cell_type": "markdown",
   "id": "42e2d854-3c01-40de-9df0-8f7933eae7bd",
   "metadata": {},
   "source": [
    "`-` 구글의 아이디어는 결국 위의 다이어그램을 토대로 transition matrix ${\\bf P}$를 만들고 임의의 초기상태 ${\\boldsymbol \\mu}$에 대하여 \n",
    "\n",
    "$$\\lim_{t\\to\\infty}{\\boldsymbol \\mu}^\\top{\\bf P}^{t}$$\n",
    "\n",
    "를 계산하겠다는 의미이다. "
   ]
  },
  {
   "cell_type": "markdown",
   "id": "7f89c164-616a-418b-ab02-d748ef3a5bf0",
   "metadata": {},
   "source": [
    "`-` 문제점1: 이 상황은 transition matrix를 만들 수 없는걸? "
   ]
  },
  {
   "cell_type": "code",
   "execution_count": 232,
   "id": "e2d20601-402f-4692-8eb5-f23510f93775",
   "metadata": {},
   "outputs": [
    {
     "data": {
      "text/plain": [
       "array([[0. , 0.5, 0.5, 0. , 0. , 0. , 0. ],\n",
       "       [0.5, 0. , 0.5, 0. , 0. , 0. , 0. ],\n",
       "       [0. , 0. , 0. , 1. , 0. , 0. , 0. ],\n",
       "       [0. , 0. , 0. , 0. , 0. , 1. , 0. ],\n",
       "       [0. , 0. , 0. , 1. , 0. , 0. , 0. ],\n",
       "       [0. , 0. , 0. , 0. , 0. , 0. , 0. ],\n",
       "       [0. , 0. , 0. , 0. , 0. , 1. , 0. ]])"
      ]
     },
     "execution_count": 232,
     "metadata": {},
     "output_type": "execute_result"
    }
   ],
   "source": [
    "P = np.array([0.0, 1/2, 1/2, 0.0, 0.0, 0.0, 0.0,\n",
    "              1/2, 0.0, 1/2, 0.0, 0.0, 0.0, 0.0,\n",
    "              0.0, 0.0, 0.0, 1.0, 0.0, 0.0, 0.0,\n",
    "              0.0, 0.0, 0.0, 0.0, 0.0, 1.0, 0.0,\n",
    "              0.0, 0.0, 0.0, 1.0, 0.0, 0.0, 0.0,\n",
    "              0.0, 0.0, 0.0, 0.0, 0.0, 0.0, 0.0, ### 이 부분은 다 0이다. \n",
    "              0.0, 0.0, 0.0, 0.0, 0.0, 1.0, 0.0]).reshape(7,7)\n",
    "P"
   ]
  },
  {
   "cell_type": "markdown",
   "id": "d5d79c8e-26f1-41c8-bc73-e426b91cea94",
   "metadata": {},
   "source": [
    "`-` 문제점1의 해결: 이러한 경우 상태5에서 다른상태로 갈 확률은 랜덤으로 다시 뿌린다. "
   ]
  },
  {
   "cell_type": "code",
   "execution_count": 236,
   "id": "3699a86e-9e75-4fe7-82ec-684a13c9f041",
   "metadata": {},
   "outputs": [
    {
     "data": {
      "text/plain": [
       "array([[0.        , 0.5       , 0.5       , 0.        , 0.        ,\n",
       "        0.        , 0.        ],\n",
       "       [0.5       , 0.        , 0.5       , 0.        , 0.        ,\n",
       "        0.        , 0.        ],\n",
       "       [0.        , 0.        , 0.        , 1.        , 0.        ,\n",
       "        0.        , 0.        ],\n",
       "       [0.        , 0.        , 0.        , 0.        , 0.        ,\n",
       "        1.        , 0.        ],\n",
       "       [0.        , 0.        , 0.        , 1.        , 0.        ,\n",
       "        0.        , 0.        ],\n",
       "       [0.14285714, 0.14285714, 0.14285714, 0.14285714, 0.14285714,\n",
       "        0.14285714, 0.14285714],\n",
       "       [0.        , 0.        , 0.        , 0.        , 0.        ,\n",
       "        1.        , 0.        ]])"
      ]
     },
     "execution_count": 236,
     "metadata": {},
     "output_type": "execute_result"
    }
   ],
   "source": [
    "P = np.array([0.0, 1/2, 1/2, 0.0, 0.0, 0.0, 0.0,\n",
    "              1/2, 0.0, 1/2, 0.0, 0.0, 0.0, 0.0,\n",
    "              0.0, 0.0, 0.0, 1.0, 0.0, 0.0, 0.0,\n",
    "              0.0, 0.0, 0.0, 0.0, 0.0, 1.0, 0.0,\n",
    "              0.0, 0.0, 0.0, 1.0, 0.0, 0.0, 0.0,\n",
    "              1/7, 1/7, 1/7, 1/7, 1/7, 1/7, 1/7, ### 이렇게 고쳐버리자~\n",
    "              0.0, 0.0, 0.0, 0.0, 0.0, 1.0, 0.0]).reshape(7,7)\n",
    "P"
   ]
  },
  {
   "cell_type": "markdown",
   "id": "bfad81a3-d4a6-4cc8-bb02-f7293d72a46b",
   "metadata": {},
   "source": [
    "`-` 문제점2: $\\lim_{t\\to\\infty}{\\boldsymbol \\mu}^\\top{\\bf P}^{t}$이게 수렴한다는 보장이 어디있지? "
   ]
  },
  {
   "cell_type": "markdown",
   "id": "95aeda47-7559-41f4-9e84-9a90472f070a",
   "metadata": {},
   "source": [
    "## 수렴의 트릭 "
   ]
  },
  {
   "cell_type": "markdown",
   "id": "d4bdce21-d417-42de-ba0e-53dedba7b656",
   "metadata": {},
   "source": [
    "`-` 생각: HMC $\\{X_t\\}$가 에르고딕이려면 (1) finite state space를 가지고 (2) irreducible (3) aperiodic 해야한다. "
   ]
  },
  {
   "cell_type": "markdown",
   "id": "18c16fce-64a0-4b97-8210-c1088bb0ab51",
   "metadata": {},
   "source": [
    "`-` 그런데 (N,N) 차원을 가지는 임의의 transition matrix ${\\bf P}$를 아래와 같이 $\\tilde{\\bf P}$로 변형한다면 이 transition matrix는 aperiodic하고 irreducible하게 된다. \n",
    "\n",
    "$$\\tilde{\\bf P} = 0.99 \\cdot {\\bf P} + 0.01 \\cdot \\frac{1}{N}{\\bf J}$$\n",
    "\n",
    "여기에서 ${\\bf J}$는 ${\\bf P}$와 차원이 같고 모든 원소가 1인 매트릭스이다. 즉 \n",
    "\n",
    "$${\\bf J} = \\begin{bmatrix} 1 & 1 & \\dots & 1 \\\\ 1 & 1 & \\dots & 1 \\\\ \\dots & \\dots & \\dots & \\dots \\\\ 1 & 1 & \\dots & 1 \\end{bmatrix}$$\n",
    "\n",
    "이다. "
   ]
  },
  {
   "cell_type": "markdown",
   "id": "c9bd3245-7a43-42c9-a70d-36ecb3a18f6d",
   "metadata": {},
   "source": [
    "`-` 위의 수식에서 $\\tilde{\\bf P}$는 ${\\bf P}$와 매우 비슷하지만 에르고딕한 마코프체인이다. "
   ]
  },
  {
   "cell_type": "markdown",
   "id": "9601dd13-b771-4fbf-bf81-6c6c00245c45",
   "metadata": {},
   "source": [
    "`-` 이러한 $\\tilde{\\bf P}$를 구글매트릭스라고 부르자. 위의 식을 좀 더 간결하게 쓰면 \n",
    "\n",
    "$${\\bf GoogleMatrix}:= \\alpha\\cdot {\\bf P} + (1-\\alpha)\\cdot\\frac{1}{N}{\\bf J}$$"
   ]
  },
  {
   "cell_type": "markdown",
   "id": "09cc604a-6b53-45aa-bb59-241fb8f252f5",
   "metadata": {},
   "source": [
    "와 같이 된다. 여기에서 $\\alpha \\in (0,1)$ 이다. "
   ]
  },
  {
   "cell_type": "markdown",
   "id": "7e1ee7ef-eefe-4fae-98f5-639ffbb1fe6f",
   "metadata": {},
   "source": [
    "`-` 여기에서 $\\alpha$는 수렴의 속도를 결정한다. \n",
    "\n",
    "- ${\\bf P}$가 원래 수렴안하는 조건이었다면 $\\alpha \\approx 1$ 일수록 구글매트릭스는 매우 느리게 수렴할 것이다. \n",
    "- $\\alpha=0$ 이라면 구글매트릭스는 이미 수렴되어 있다. "
   ]
  },
  {
   "cell_type": "markdown",
   "id": "6c866547-d21d-4dfc-b997-d2f4343e039a",
   "metadata": {},
   "source": [
    "## 구현 "
   ]
  },
  {
   "cell_type": "code",
   "execution_count": 326,
   "id": "1aefe92e-e2e3-49a0-adc7-ece0b99633d8",
   "metadata": {},
   "outputs": [
    {
     "data": {
      "text/plain": [
       "array([[0.        , 0.5       , 0.5       , 0.        , 0.        ,\n",
       "        0.        , 0.        ],\n",
       "       [0.5       , 0.        , 0.5       , 0.        , 0.        ,\n",
       "        0.        , 0.        ],\n",
       "       [0.        , 0.        , 0.        , 1.        , 0.        ,\n",
       "        0.        , 0.        ],\n",
       "       [0.        , 0.        , 0.        , 0.        , 0.        ,\n",
       "        1.        , 0.        ],\n",
       "       [0.        , 0.        , 0.        , 1.        , 0.        ,\n",
       "        0.        , 0.        ],\n",
       "       [0.14285714, 0.14285714, 0.14285714, 0.14285714, 0.14285714,\n",
       "        0.14285714, 0.14285714],\n",
       "       [0.        , 0.        , 0.        , 0.        , 0.        ,\n",
       "        1.        , 0.        ]])"
      ]
     },
     "execution_count": 326,
     "metadata": {},
     "output_type": "execute_result"
    }
   ],
   "source": [
    "P = np.array([0.0, 1/2, 1/2, 0.0, 0.0, 0.0, 0.0,\n",
    "              1/2, 0.0, 1/2, 0.0, 0.0, 0.0, 0.0,\n",
    "              0.0, 0.0, 0.0, 1.0, 0.0, 0.0, 0.0,\n",
    "              0.0, 0.0, 0.0, 0.0, 0.0, 1.0, 0.0,\n",
    "              0.0, 0.0, 0.0, 1.0, 0.0, 0.0, 0.0,\n",
    "              1/7, 1/7, 1/7, 1/7, 1/7, 1/7, 1/7,\n",
    "              0.0, 0.0, 0.0, 0.0, 0.0, 1.0, 0.0]).reshape(7,7)\n",
    "P"
   ]
  },
  {
   "cell_type": "code",
   "execution_count": 338,
   "id": "2f27b160",
   "metadata": {},
   "outputs": [],
   "source": [
    "alpha= 0.85 \n",
    "J = np.ones(49).reshape(7,7)\n",
    "GoogleMatrix = alpha*P + (1-alpha)/7 "
   ]
  },
  {
   "cell_type": "code",
   "execution_count": 344,
   "id": "228493fe",
   "metadata": {},
   "outputs": [
    {
     "data": {
      "text/plain": [
       "[0.102, 0.102, 0.145, 0.231, 0.058, 0.304, 0.058]"
      ]
     },
     "execution_count": 344,
     "metadata": {},
     "output_type": "execute_result"
    }
   ],
   "source": [
    "np.linalg.matrix_power(GoogleMatrix,100)[0].round(3).tolist()"
   ]
  },
  {
   "cell_type": "code",
   "execution_count": 348,
   "id": "c19db9e4",
   "metadata": {},
   "outputs": [
    {
     "data": {
      "text/html": [
       "<div>\n",
       "<style scoped>\n",
       "    .dataframe tbody tr th:only-of-type {\n",
       "        vertical-align: middle;\n",
       "    }\n",
       "\n",
       "    .dataframe tbody tr th {\n",
       "        vertical-align: top;\n",
       "    }\n",
       "\n",
       "    .dataframe thead th {\n",
       "        text-align: right;\n",
       "    }\n",
       "</style>\n",
       "<table border=\"1\" class=\"dataframe\">\n",
       "  <thead>\n",
       "    <tr style=\"text-align: right;\">\n",
       "      <th></th>\n",
       "      <th>website</th>\n",
       "      <th>pagerank</th>\n",
       "    </tr>\n",
       "  </thead>\n",
       "  <tbody>\n",
       "    <tr>\n",
       "      <th>0</th>\n",
       "      <td>state0</td>\n",
       "      <td>0.102</td>\n",
       "    </tr>\n",
       "    <tr>\n",
       "      <th>1</th>\n",
       "      <td>state1</td>\n",
       "      <td>0.102</td>\n",
       "    </tr>\n",
       "    <tr>\n",
       "      <th>2</th>\n",
       "      <td>state2</td>\n",
       "      <td>0.145</td>\n",
       "    </tr>\n",
       "    <tr>\n",
       "      <th>3</th>\n",
       "      <td>state3</td>\n",
       "      <td>0.231</td>\n",
       "    </tr>\n",
       "    <tr>\n",
       "      <th>4</th>\n",
       "      <td>state4</td>\n",
       "      <td>0.058</td>\n",
       "    </tr>\n",
       "    <tr>\n",
       "      <th>5</th>\n",
       "      <td>state5</td>\n",
       "      <td>0.304</td>\n",
       "    </tr>\n",
       "    <tr>\n",
       "      <th>6</th>\n",
       "      <td>state6</td>\n",
       "      <td>0.058</td>\n",
       "    </tr>\n",
       "  </tbody>\n",
       "</table>\n",
       "</div>"
      ],
      "text/plain": [
       "  website  pagerank\n",
       "0  state0     0.102\n",
       "1  state1     0.102\n",
       "2  state2     0.145\n",
       "3  state3     0.231\n",
       "4  state4     0.058\n",
       "5  state5     0.304\n",
       "6  state6     0.058"
      ]
     },
     "execution_count": 348,
     "metadata": {},
     "output_type": "execute_result"
    }
   ],
   "source": [
    "import pandas as pd \n",
    "pd.DataFrame({'website':['state'+i for i in '0123456'], \n",
    "             'pagerank': np.linalg.matrix_power(GoogleMatrix,100)[0].round(3).tolist()})"
   ]
  },
  {
   "cell_type": "markdown",
   "id": "bcbeb983-a1bb-4666-b91c-8bd4be8771d8",
   "metadata": {},
   "source": [
    "## 다른풀이 "
   ]
  },
  {
   "cell_type": "code",
   "execution_count": 352,
   "id": "49d74a21",
   "metadata": {},
   "outputs": [],
   "source": [
    "_, eigen_vector_matrix = np.linalg.eig(GoogleMatrix.T)"
   ]
  },
  {
   "cell_type": "code",
   "execution_count": 358,
   "id": "c4281b11",
   "metadata": {},
   "outputs": [
    {
     "data": {
      "text/plain": [
       "array([0.10154862, 0.10154862, 0.14470678, 0.2310231 , 0.05839045,\n",
       "       0.30439198, 0.05839045])"
      ]
     },
     "execution_count": 358,
     "metadata": {},
     "output_type": "execute_result"
    }
   ],
   "source": [
    "abs(eigen_vector_matrix[:,0])/ abs(eigen_vector_matrix[:,0]).sum()"
   ]
  },
  {
   "cell_type": "markdown",
   "id": "91d2e1f8-0424-485e-97a3-0bdf67de7046",
   "metadata": {},
   "source": [
    "## 페이지랭크의 약점 "
   ]
  },
  {
   "cell_type": "markdown",
   "id": "21917db6-ff1f-47bb-aa0e-e18bfb07d01a",
   "metadata": {},
   "source": [
    "`-` 아래와 같은 상황을 고려하자. "
   ]
  },
  {
   "cell_type": "markdown",
   "id": "44a96001-8e96-421a-a923-69c768fd91ea",
   "metadata": {},
   "source": [
    "```{mermaid}\n",
    "flowchart LR\n",
    "  0 -->|1/2| 1\n",
    "  1 -->|1/2| 0\n",
    "  0 -->|1/2| 2\n",
    "  1 -->|1/2| 2\n",
    "  2 -->|1| 3 \n",
    "  4 -->|1| 3\n",
    "```"
   ]
  },
  {
   "cell_type": "code",
   "execution_count": 360,
   "id": "f9b08d67-1e96-445f-8d2b-5d5c875de9e3",
   "metadata": {},
   "outputs": [
    {
     "data": {
      "text/plain": [
       "array([[0. , 0.5, 0.5, 0. , 0. ],\n",
       "       [0.5, 0. , 0.5, 0. , 0. ],\n",
       "       [0. , 0. , 0. , 1. , 0. ],\n",
       "       [0.2, 0.2, 0.2, 0.2, 0.2],\n",
       "       [0. , 0. , 0. , 1. , 0. ]])"
      ]
     },
     "execution_count": 360,
     "metadata": {},
     "output_type": "execute_result"
    }
   ],
   "source": [
    "P = np.arrfffq/5, 1/5,\n",
    "              0.0, 0.0, 0.0, 1.0, 0.0]).reshape(5,5)\n",
    "P"
   ]
  },
  {
   "cell_type": "code",
   "execution_count": 362,
   "id": "5f6342fe",
   "metadata": {},
   "outputs": [],
   "source": [
    "GoogleMatrix = P*0.85 + 0.15/5 "
   ]
  },
  {
   "cell_type": "code",
   "execution_count": 364,
   "id": "eb74a9c0",
   "metadata": {},
   "outputs": [
    {
     "data": {
      "text/plain": [
       "array([[0.15936255, 0.15936255, 0.22709163, 0.3625498 , 0.09163347],\n",
       "       [0.15936255, 0.15936255, 0.22709163, 0.3625498 , 0.09163347],\n",
       "       [0.15936255, 0.15936255, 0.22709163, 0.3625498 , 0.09163347],\n",
       "       [0.15936255, 0.15936255, 0.22709163, 0.3625498 , 0.09163347],\n",
       "       [0.15936255, 0.15936255, 0.22709163, 0.3625498 , 0.09163347]])"
      ]
     },
     "execution_count": 364,
     "metadata": {},
     "output_type": "execute_result"
    }
   ],
   "source": [
    "np.linalg.matrix_power(GoogleMatrix,100)"
   ]
  },
  {
   "cell_type": "markdown",
   "id": "68709eb6-0d75-4534-bcbd-667897875baf",
   "metadata": {},
   "source": [
    "`-` 우리는 여기에서 1번네트워크의 page rank를 올리고 싶다고 가정하자. (현재는 5개중 0.15936255) "
   ]
  },
  {
   "cell_type": "markdown",
   "id": "9c30be70-08a4-45bd-b88a-7aa8645213cf",
   "metadata": {},
   "source": [
    "```{mermaid}\n",
    "flowchart LR\n",
    "  0 -->|1/2| 1\n",
    "  1 -->|1/2| 0\n",
    "  0 -->|1/2| 2\n",
    "  1 -->|1/2| 2\n",
    "  2 -->|1| 3 \n",
    "  4 -->|1| 3\n",
    "```"
   ]
  },
  {
   "cell_type": "markdown",
   "id": "55564bf8-794e-4e4c-ac61-ddc1e6247d15",
   "metadata": {},
   "source": [
    "**Step1:** 먼저 1번에서 다른쪽으로 가는 모든 링크를 끊는다. (다른 웹사이트의 page rank를 올려줄 이유가 없음) "
   ]
  },
  {
   "cell_type": "markdown",
   "id": "cd7752a0-4fe0-4c14-893c-eea2d1ebcdb6",
   "metadata": {},
   "source": [
    "```{mermaid}\n",
    "flowchart LR\n",
    "  0 -->|1/2| 1\n",
    "  0 -->|1/2| 2\n",
    "  2 -->|1| 3 \n",
    "  4 -->|1| 3\n",
    "```"
   ]
  },
  {
   "cell_type": "code",
   "execution_count": 365,
   "id": "73655570-db99-4326-ba5e-3071381e8ce1",
   "metadata": {},
   "outputs": [],
   "source": [
    "P = np.array([0.0, 1/2, 1/2, 0.0, 0.0,\n",
    "              1/5, 1/5, 1/5, 1/5, 1/5,\n",
    "              0.0, 0.0, 0.0, 1.0, 0.0,\n",
    "              1/5, 1/5, 1/5, 1/5, 1/5,\n",
    "              0.0, 0.0, 0.0, 1.0, 0.0]).reshape(5,5)"
   ]
  },
  {
   "cell_type": "code",
   "execution_count": 367,
   "id": "39f55ef7",
   "metadata": {},
   "outputs": [
    {
     "data": {
      "text/plain": [
       "array([[0.12640228, 0.18012324, 0.18012324, 0.38694897, 0.12640228],\n",
       "       [0.12640228, 0.18012324, 0.18012324, 0.38694897, 0.12640228],\n",
       "       [0.12640228, 0.18012324, 0.18012324, 0.38694897, 0.12640228],\n",
       "       [0.12640228, 0.18012324, 0.18012324, 0.38694897, 0.12640228],\n",
       "       [0.12640228, 0.18012324, 0.18012324, 0.38694897, 0.12640228]])"
      ]
     },
     "execution_count": 367,
     "metadata": {},
     "output_type": "execute_result"
    }
   ],
   "source": [
    "GoogleMatrix = P*0.85 + 0.15/5 \n",
    "np.linalg.matrix_power(GoogleMatrix,100)"
   ]
  },
  {
   "cell_type": "markdown",
   "id": "23ee5680-0e2c-4e94-a264-5866bea914ce",
   "metadata": {},
   "source": [
    "**Step2:** 3개의 더미사이트 5,6,7을 만들어서 1번네트워크와 서로 연결시킨다. "
   ]
  },
  {
   "cell_type": "markdown",
   "id": "a76f5920-6435-49fa-9372-1687c9f769d7",
   "metadata": {},
   "source": [
    "```{mermaid}\n",
    "flowchart LR\n",
    "  0 -->|1/2| 1\n",
    "  0 -->|1/2| 2\n",
    "  2 -->|1| 3 \n",
    "  4 -->|1| 3\n",
    "  1 -->|1/3| 5\n",
    "  5 -->|1| 1\n",
    "  1 -->|1/3| 6\n",
    "  6 -->|1| 1\n",
    "  1 -->|1/3| 7 \n",
    "  7 -->|1| 1 \n",
    "```"
   ]
  },
  {
   "cell_type": "code",
   "execution_count": 368,
   "id": "eeb87968-1a45-4d82-9433-ed0886edba20",
   "metadata": {},
   "outputs": [],
   "source": [
    "P = np.array([0.0, 1/2, 1/2, 0.0, 0.0, 0.0, 0.0, 0.0,\n",
    "              0.0, 0.0, 0.0, 0.0, 0.0, 1/3, 1/3, 1/3,\n",
    "              0.0, 0.0, 0.0, 1.0, 0.0, 0.0, 0.0, 0.0,\n",
    "              1/8, 1/8, 1/8, 1/8, 1/8, 1/8, 1/8, 1/8,\n",
    "              0.0, 0.0, 0.0, 1.0, 0.0, 0.0, 0.0, 0.0,\n",
    "              0.0, 1.0, 0.0, 0.0, 0.0, 0.0, 0.0, 0.0,\n",
    "              0.0, 1.0, 0.0, 0.0, 0.0, 0.0, 0.0, 0.0,\n",
    "              0.0, 1.0, 0.0, 0.0, 0.0, 0.0, 0.0, 0.0]).reshape(8,8)"
   ]
  },
  {
   "cell_type": "code",
   "execution_count": 374,
   "id": "91313bc4",
   "metadata": {},
   "outputs": [
    {
     "data": {
      "text/plain": [
       "array([0.02778839, 0.39804992, 0.03959846, 0.08506721, 0.02778839,\n",
       "       0.14056921, 0.14056921, 0.14056921])"
      ]
     },
     "execution_count": 374,
     "metadata": {},
     "output_type": "execute_result"
    }
   ],
   "source": [
    "GoogleMatrix = P*0.85 + 0.15/8\n",
    "pagerank =np.linalg.matrix_power(GoogleMatrix,100)[0]\n",
    "pagerank"
   ]
  },
  {
   "cell_type": "code",
   "execution_count": 373,
   "id": "249a84cb",
   "metadata": {},
   "outputs": [
    {
     "data": {
      "text/plain": [
       "['state0',\n",
       " 'state1',\n",
       " 'state2',\n",
       " 'state3',\n",
       " 'state4',\n",
       " 'state5',\n",
       " 'state6',\n",
       " 'state7']"
      ]
     },
     "execution_count": 373,
     "metadata": {},
     "output_type": "execute_result"
    }
   ],
   "source": [
    "website = ['state'+i for i in '01234567']\n",
    "website"
   ]
  },
  {
   "cell_type": "code",
   "execution_count": 375,
   "id": "e22c7adb",
   "metadata": {},
   "outputs": [
    {
     "data": {
      "text/html": [
       "<div>\n",
       "<style scoped>\n",
       "    .dataframe tbody tr th:only-of-type {\n",
       "        vertical-align: middle;\n",
       "    }\n",
       "\n",
       "    .dataframe tbody tr th {\n",
       "        vertical-align: top;\n",
       "    }\n",
       "\n",
       "    .dataframe thead th {\n",
       "        text-align: right;\n",
       "    }\n",
       "</style>\n",
       "<table border=\"1\" class=\"dataframe\">\n",
       "  <thead>\n",
       "    <tr style=\"text-align: right;\">\n",
       "      <th></th>\n",
       "      <th>pagerank</th>\n",
       "      <th>website</th>\n",
       "    </tr>\n",
       "  </thead>\n",
       "  <tbody>\n",
       "    <tr>\n",
       "      <th>0</th>\n",
       "      <td>0.027788</td>\n",
       "      <td>state0</td>\n",
       "    </tr>\n",
       "    <tr>\n",
       "      <th>1</th>\n",
       "      <td>0.398050</td>\n",
       "      <td>state1</td>\n",
       "    </tr>\n",
       "    <tr>\n",
       "      <th>2</th>\n",
       "      <td>0.039598</td>\n",
       "      <td>state2</td>\n",
       "    </tr>\n",
       "    <tr>\n",
       "      <th>3</th>\n",
       "      <td>0.085067</td>\n",
       "      <td>state3</td>\n",
       "    </tr>\n",
       "    <tr>\n",
       "      <th>4</th>\n",
       "      <td>0.027788</td>\n",
       "      <td>state4</td>\n",
       "    </tr>\n",
       "    <tr>\n",
       "      <th>5</th>\n",
       "      <td>0.140569</td>\n",
       "      <td>state5</td>\n",
       "    </tr>\n",
       "    <tr>\n",
       "      <th>6</th>\n",
       "      <td>0.140569</td>\n",
       "      <td>state6</td>\n",
       "    </tr>\n",
       "    <tr>\n",
       "      <th>7</th>\n",
       "      <td>0.140569</td>\n",
       "      <td>state7</td>\n",
       "    </tr>\n",
       "  </tbody>\n",
       "</table>\n",
       "</div>"
      ],
      "text/plain": [
       "   pagerank website\n",
       "0  0.027788  state0\n",
       "1  0.398050  state1\n",
       "2  0.039598  state2\n",
       "3  0.085067  state3\n",
       "4  0.027788  state4\n",
       "5  0.140569  state5\n",
       "6  0.140569  state6\n",
       "7  0.140569  state7"
      ]
     },
     "execution_count": 375,
     "metadata": {},
     "output_type": "execute_result"
    }
   ],
   "source": [
    "pd.DataFrame({'pagerank':pagerank,'website':website})"
   ]
  },
  {
   "cell_type": "markdown",
   "id": "63394385-f8e9-42ae-8458-570097a7f7ea",
   "metadata": {},
   "source": [
    "`-` 약점을 극복한 구글의 아이디어: 저도 몰라용.. "
   ]
  }
 ],
 "metadata": {
  "kernelspec": {
   "display_name": "Python 3",
   "language": "python",
   "name": "python3"
  },
  "language_info": {
   "codemirror_mode": {
    "name": "ipython",
    "version": 3
   },
   "file_extension": ".py",
   "mimetype": "text/x-python",
   "name": "python",
   "nbconvert_exporter": "python",
   "pygments_lexer": "ipython3",
   "version": "3.8.16"
  }
 },
 "nbformat": 4,
 "nbformat_minor": 5
}
