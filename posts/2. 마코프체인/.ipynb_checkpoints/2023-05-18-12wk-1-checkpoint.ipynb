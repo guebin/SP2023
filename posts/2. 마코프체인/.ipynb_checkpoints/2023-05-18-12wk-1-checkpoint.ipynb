{
 "cells": [
  {
   "cell_type": "raw",
   "id": "73c623ef-402d-40b3-8840-d5bc5a8e9e33",
   "metadata": {},
   "source": [
    "---\n",
    "title: \"12wk-1: 마코프체인 (10)\"\n",
    "author: \"최규빈\"\n",
    "date: \"05/18/2023\"\n",
    "bibliography: ref.bib\n",
    "title-block-style: none\n",
    "title-block-banner: false\n",
    "---"
   ]
  },
  {
   "cell_type": "markdown",
   "id": "c8d13c04-ad66-41bf-ba11-2581f1911b60",
   "metadata": {},
   "source": [
    "# 강의영상 "
   ]
  },
  {
   "cell_type": "markdown",
   "id": "7dfee058",
   "metadata": {},
   "source": [
    "> youtube: <https://youtube.com/playlist?list=PLQqh36zP38-w6PeAXdc4YcGTb7M_67Wog> "
   ]
  },
  {
   "cell_type": "markdown",
   "id": "d9112931-8ebc-4ed5-93fe-744569809f36",
   "metadata": {},
   "source": [
    "# imports "
   ]
  },
  {
   "cell_type": "code",
   "execution_count": 1,
   "id": "ac963095-eba8-4086-9d14-9adf1c2cb116",
   "metadata": {},
   "outputs": [],
   "source": [
    "import numpy as np\n",
    "import matplotlib.pyplot as plt "
   ]
  },
  {
   "cell_type": "markdown",
   "id": "7b6d3fd0-efa2-49af-a3d4-060d5c80fb87",
   "metadata": {},
   "source": [
    "# 지난시간 "
   ]
  },
  {
   "cell_type": "markdown",
   "id": "7f669595-f34f-492e-a646-9f4c9251e295",
   "metadata": {},
   "source": [
    "`-` 수학: 어떠한 집합 $E$에서 equivalence relation $\\sim$을 정의할 수 있다면, 집합 $E$의 모든 원소는 $\\sim$를 기준으로 분해할 수 있다. 즉 아래를 만족하는 $E_1,E_2,E_3,\\dots$ 이 존재한다. \n",
    "\n",
    "$$E = \\uplus_{k=1}^{\\infty} E_k$$\n",
    "\n",
    "단 여기에서 $E_1,E_2,E_3,\\dots$ 는 서로소이다. "
   ]
  },
  {
   "cell_type": "markdown",
   "id": "7d1c9005-0d12-4a7b-8855-d91d68bfb36d",
   "metadata": {},
   "source": [
    "`-` 통계: 확률변수열 $\\{X_t\\}$가 HMC라고 하고, $E$를 $\\{X_t\\}$가 정의되는 상태공간이라고 하자. 기호 $\\leftrightarrow$는 $E$에서 정의된 euivalence relation이 된다. 따라서 집합 $E$의 원소는 $\\leftrightarrow$를 기준으로 아래와 같이 나눌 수 있다. \n",
    "\n",
    "$$E = \\uplus_{k=1}^{\\infty} E_k$$\n",
    "\n",
    "단 여기에서 $E_1,E_2,E_3,\\dots$ 는 서로소이다. "
   ]
  },
  {
   "cell_type": "markdown",
   "id": "9d910123-0b64-4ab6-bff5-4ed25ab9dc72",
   "metadata": {},
   "source": [
    "`-` 의미($\\star\\star\\star$)\n",
    "\n",
    "1. IRR 하지 않은 마코프체인은 IRR 한 마코프체인으로 분해하여 생각할 수 있다. \n",
    "2. 앞으로 마코프체인에 대한 성질을 연구할때 IRR 은 그냥 가정해도 무방하다. "
   ]
  },
  {
   "cell_type": "markdown",
   "id": "0e89b63b-6f3b-40de-8d3a-7040179986a9",
   "metadata": {},
   "source": [
    "`-` 예시1: 아래와 같은 전이행렬을 고려하자. "
   ]
  },
  {
   "cell_type": "code",
   "execution_count": 2,
   "id": "63a5822a-f403-4437-a56d-76d7e1620d88",
   "metadata": {},
   "outputs": [
    {
     "data": {
      "text/plain": [
       "array([[1, 0],\n",
       "       [0, 1]])"
      ]
     },
     "execution_count": 2,
     "metadata": {},
     "output_type": "execute_result"
    }
   ],
   "source": [
    "P = np.array([[1,0],\n",
    "              [0,1]])\n",
    "P"
   ]
  },
  {
   "cell_type": "markdown",
   "id": "da68cdbd-415a-4653-b30a-7b4625665394",
   "metadata": {},
   "source": [
    "**해석1**: 모든 분포가 정상분포라고 해석 "
   ]
  },
  {
   "cell_type": "markdown",
   "id": "8ad33123-2b5a-4fa2-96ff-786cd659aacb",
   "metadata": {},
   "source": [
    "**해석2:** 전체마코프체인을 쪼개서 (1) 상태0에만 머무는 마코프체인, (2) 상태1에만 머무는 마코프체인으로 나누어 생각하고 각각에 대한 정상분포가 1이라고 해석."
   ]
  },
  {
   "cell_type": "markdown",
   "id": "b85fde3f-31c3-4bc2-835f-90507902162c",
   "metadata": {},
   "source": [
    "`-` 예시2: 아래와 같은 전이행렬을 고려하자. "
   ]
  },
  {
   "cell_type": "code",
   "execution_count": 3,
   "id": "7838e768-e674-4e21-b3fa-6d7b95bcf267",
   "metadata": {},
   "outputs": [
    {
     "data": {
      "text/plain": [
       "array([[1, 0, 0, 0],\n",
       "       [0, 1, 0, 0],\n",
       "       [0, 0, 0, 1],\n",
       "       [0, 0, 1, 0]])"
      ]
     },
     "execution_count": 3,
     "metadata": {},
     "output_type": "execute_result"
    }
   ],
   "source": [
    "P = np.array([[1,0,0,0],\n",
    "              [0,1,0,0],\n",
    "              [0,0,0,1],\n",
    "              [0,0,1,0]])\n",
    "P"
   ]
  },
  {
   "cell_type": "markdown",
   "id": "8f14d378-a7f6-43bb-ae1f-0495e525f807",
   "metadata": {},
   "source": [
    "**해석:** 전체마코프체인을 쪼개서 (1) 상태0에만 머무는 마코프체인, (2) 상태1에만 머무는 마코프체인 (3) 상태 2,3을 셔플하는 마코프체인으로 생각하자. 즉 상태공간을 아래와 같이 분리하자. \n",
    "\n",
    "$$E = E_1 \\uplus E_2 \\uplus E_3 = \\{0\\} \\uplus \\{1\\} \\uplus \\{2,3\\}$$"
   ]
  },
  {
   "cell_type": "markdown",
   "id": "8f629313-4a1b-4ae5-8369-c538c334973f",
   "metadata": {},
   "source": [
    "각 상태공간에 대응하는 마코프체인의 정상분포를 ${\\boldsymbol \\pi}_1^\\top,{\\boldsymbol \\pi}_2^\\top,{\\boldsymbol \\pi}_3^\\top$ 이라고 하자. 전체 정상분포 ${\\boldsymbol \\pi}$는 아래를 만족하는 어떠한 분포라도 무관하다. \n",
    "\n",
    "$${\\boldsymbol \\pi} = a{\\boldsymbol \\pi}_1+b{\\boldsymbol \\pi}_2+c{\\boldsymbol \\pi}_3.$$ \n",
    "\n",
    "단, 여기에서 $a+b+c=1$ 이고 $a,b,c$는 모두 양수이다. "
   ]
  },
  {
   "cell_type": "code",
   "execution_count": 4,
   "id": "92b06c6e-ed2f-4b4e-b6c1-47e8fdc87341",
   "metadata": {},
   "outputs": [
    {
     "data": {
      "text/plain": [
       "(array([[0.1, 0.5, 0.2, 0.2]]), array([[0.1, 0.5, 0.2, 0.2]]))"
      ]
     },
     "execution_count": 4,
     "metadata": {},
     "output_type": "execute_result"
    }
   ],
   "source": [
    "a= 0.1 \n",
    "b= 0.5\n",
    "c= 1-a-b \n",
    "π = np.array([a,b,0.5*c, 0.5*c]).reshape(4,1) \n",
    "π.T @ P, π.T "
   ]
  },
  {
   "cell_type": "markdown",
   "id": "8948f3e9-c0cb-465e-973f-627f7ff98f4e",
   "metadata": {},
   "source": [
    "# 예비학습 "
   ]
  },
  {
   "cell_type": "markdown",
   "id": "60d2a20d-7c70-4845-81ee-d4cad9012251",
   "metadata": {},
   "source": [
    "## 나그네 "
   ]
  },
  {
   "cell_type": "markdown",
   "id": "2bd7ff51-007f-4619-8cb8-9f689ce48258",
   "metadata": {},
   "source": [
    "`-` 나그네 (박목월)\n",
    "\n",
    "```\n",
    "강나루 건너서\n",
    "밀밭 길을\n",
    "\n",
    "구름에 달 가듯이\n",
    "가는 나그네\n",
    "\n",
    "길은 외줄기\n",
    "南道 삼백리\n",
    "\n",
    "술 익는 마을마다\n",
    "타는 저녁놀\n",
    "\n",
    "구름에 달 가듯이\n",
    "가는 나그네\n",
    "```"
   ]
  },
  {
   "cell_type": "markdown",
   "id": "9e608c1b-a849-447b-a07c-44d939ed32cd",
   "metadata": {},
   "source": [
    "`-` 나그네 \n",
    "\n",
    "- 정착 X \n",
    "- 모든 장소에 일시적(transient)으로만 머뭄\n",
    "- 다시 돌아올 수는 있는데 금방 다시 감. "
   ]
  },
  {
   "cell_type": "markdown",
   "id": "714425c9-468c-445a-8c48-5c73c2c1e6c6",
   "metadata": {},
   "source": [
    "`-` 편의상 아래와 같이 생각하자. \n",
    "\n",
    "- $E$: 마을의 집합\n",
    "- $X_t=i$: $t$시점에 나그네가 마을 $i$에 머무는 event "
   ]
  },
  {
   "cell_type": "markdown",
   "id": "41f47054-1563-4111-8635-b7045215f9bc",
   "metadata": {},
   "source": [
    "## 급수의 수렴 "
   ]
  },
  {
   "cell_type": "markdown",
   "id": "c1c3e823-a188-4c86-b9e0-2fdaddc177c4",
   "metadata": {},
   "source": [
    "`-` $a_n \\to 0$ 이라고 해서 $\\lim_{n\\to\\infty} S_n <\\infty$ 인건 아니다. "
   ]
  },
  {
   "cell_type": "markdown",
   "id": "eb3b56c1-17a5-4363-8c2f-70f20818dad3",
   "metadata": {},
   "source": [
    "`-` 예시1: $a_n=\\frac{1}{2^n}$, 수렴하는 경우 "
   ]
  },
  {
   "cell_type": "code",
   "execution_count": 5,
   "id": "1d3c2d65-9382-4c82-b176-18646e2d0ee9",
   "metadata": {},
   "outputs": [
    {
     "data": {
      "text/plain": [
       "1.0"
      ]
     },
     "execution_count": 5,
     "metadata": {},
     "output_type": "execute_result"
    }
   ],
   "source": [
    "sum([1/2**i for i in range(1,10000)])"
   ]
  },
  {
   "cell_type": "markdown",
   "id": "1acc399d-6580-464a-aa69-f61e6d6c5f2a",
   "metadata": {},
   "source": [
    "`-` 예시2: $a_n = \\frac{1}{n}$, 수렴안하는 경우"
   ]
  },
  {
   "cell_type": "code",
   "execution_count": 6,
   "id": "3ffd97bc-9cb0-42c4-9ca0-e397200d1b89",
   "metadata": {},
   "outputs": [
    {
     "data": {
      "text/plain": [
       "9.787506036044348"
      ]
     },
     "execution_count": 6,
     "metadata": {},
     "output_type": "execute_result"
    }
   ],
   "source": [
    "sum([1/i for i in range(1,10000)])"
   ]
  },
  {
   "cell_type": "markdown",
   "id": "89485107-7690-41b3-85a6-e82dab89e330",
   "metadata": {},
   "source": [
    "# nature"
   ]
  },
  {
   "cell_type": "markdown",
   "id": "78d9a11c-a078-4f53-aa69-b375b76158fe",
   "metadata": {},
   "source": [
    "## 예제1: 오른쪽으로만 갈래 "
   ]
  },
  {
   "cell_type": "markdown",
   "id": "5ead377c-d033-4687-9d3f-597e678b6d04",
   "metadata": {},
   "source": [
    "확률변수열 $\\{X_t\\}$가 HMC라고 하고, 그 transition matrix ${\\bf P}$ (혹은 그 비슷한 것) 가 아래와 같다고 하자. "
   ]
  },
  {
   "cell_type": "markdown",
   "id": "cf5eb023-8c67-4098-be40-100251b8a617",
   "metadata": {},
   "source": [
    "$${\\bf P} = \\begin{bmatrix} \n",
    "0 & 1 & 0 & 0 & 0 & \\dots \\\\ \n",
    "0 & 0 & 1 & 0 & 0 & \\dots \\\\ \n",
    "0 & 0 & 0 & 1 & 0 & \\dots \\\\ \n",
    "0 & 0 & 0 & 0 & 1 & \\dots \\\\ \n",
    "\\dots & \\dots & \\dots & \\dots & \\dots & \\dots \n",
    "\\end{bmatrix}$$"
   ]
  },
  {
   "cell_type": "markdown",
   "id": "f8676296-d5a9-44a6-9213-a8a5b4199fdd",
   "metadata": {},
   "source": [
    "`-` 체크: 이 예제의 마코프체인은 IRR 하지 않다. "
   ]
  },
  {
   "cell_type": "markdown",
   "id": "da15db2e-e901-4c48-a786-0d99039183cb",
   "metadata": {},
   "source": [
    "`-` 나이스케이스: $\\bar{\\boldsymbol \\pi}^\\top \\overset{T \\to \\infty}{\\longrightarrow} {\\bf p}_{\\star}^\\top = {\\boldsymbol \\pi}^\\top$"
   ]
  },
  {
   "cell_type": "markdown",
   "id": "ffe1ae45-68d0-43ec-a498-23222f2adab6",
   "metadata": {},
   "source": [
    "`-` 이 예제는 나이스하지 않음 왜? IRR이 아니라서? \n",
    "\n",
    "- IRR이 아니라서 나이스하지 않다는 것은 핑계임. \n",
    "- 오른쪽으로 갈 확률을 0.99로 수정한다면 IRR 마코프체인이 된다. 그렇지만 이게 나이스하게 바뀔 것 같지는 않음. "
   ]
  },
  {
   "cell_type": "markdown",
   "id": "ac94babe-bdf9-4330-8774-82d7415043b6",
   "metadata": {},
   "source": [
    "`-` 나이스하지 않은 본질적인 이유\n",
    "\n",
    "- 상태 $i$에 일시적(transient)으로 머무는 느낌. 거의 나그네 수준임. \n",
    "- $\\bar{\\boldsymbol \\pi}^\\top \\overset{T \\to \\infty}{\\longrightarrow} {\\bf p}_{\\star}^\\top = {\\boldsymbol \\pi}^\\top$ 이와 같은 논리전개를 쓰려면 일단 $\\{X_t\\}$가 특정상태를 무한번 방문해야 가능 "
   ]
  },
  {
   "cell_type": "markdown",
   "id": "566300f6-8148-451b-a346-227ee00ce715",
   "metadata": {},
   "source": [
    "`-` FINITE case\n",
    "\n",
    "- IRR은 가정할 수 있음. \n",
    "- IRR을 가정한다면, 모든 마을에 대해서 나그네가 반복적으로 돌아오는 느낌이 있음. \n"
   ]
  },
  {
   "cell_type": "markdown",
   "id": "3f06297c-be78-4812-98c7-d2c48e48fff4",
   "metadata": {},
   "source": [
    "`-` 깨달음. \n",
    "\n",
    "- FINITE 인 경우는 IRR 이기만 하면 \"반복적으로 마을방문\" 이 보장되었다. \n",
    "- 그런데 INFINITE 한 경우는 IRR 이어도 \"반복적으로 마을방문\" 이 보장되지 않는다. "
   ]
  },
  {
   "cell_type": "markdown",
   "id": "1c398417-f69c-4ce4-83d2-2f9f708be711",
   "metadata": {},
   "source": [
    "> IRR 조건이 엄청 대단한 조건인줄 알았는데, 사실 그런게 아니고 (수틀리면 그냥 IRR 이라고 가정해도 무방한) 실제로 대단한 조건은 숨어있는 \"반복적으로 마을방문\" 이라는 조건임. "
   ]
  },
  {
   "cell_type": "markdown",
   "id": "58f9b082-760f-441e-8fc7-dee22b17b0b7",
   "metadata": {},
   "source": [
    "`-` **가짜정의:** HMC $\\{X_t\\}$가 (1) IRR (2) PR (3) AP 조건을 만족한다면 $\\{X_t\\}$를 에르고딕 마코프체인이라고 부른다. 여기에서 PR은 positive recurrent의 약자이며 \"반복적으로 마을을 방문한다\"의 의미를 가지고 있다. "
   ]
  },
  {
   "cell_type": "markdown",
   "id": "25e0c804-e3d8-43a0-b6bd-29122aaf407b",
   "metadata": {},
   "source": [
    "## Reccurent, Transient"
   ]
  },
  {
   "cell_type": "markdown",
   "id": "7d9d4abc-163a-4697-b06b-155b37ed57c5",
   "metadata": {},
   "source": [
    "`-` **대안정의**: $\\{X_t\\}$가 상태공간 $E$에서 정의된 HMC 라고 하자. 만약에 상태 $i \\in E$ 가 아래의 식을 만족한다면\n",
    "\n",
    "$$\\sum_{t=0}^{\\infty} p_{ii}^{(t)}= \\infty$$\n",
    "\n",
    "$i$는 recurrent 하다고 표현하고, 그렇지 않으면 $i$는 transient 하다고 표현한다. "
   ]
  },
  {
   "cell_type": "markdown",
   "id": "e8576739-eb8c-4648-9d29-35c1ef8d5280",
   "metadata": {},
   "source": [
    "## 예제2: reflecting random walk "
   ]
  },
  {
   "cell_type": "markdown",
   "id": "1e40749b-5a34-44bd-99e0-5829f3a0d35b",
   "metadata": {},
   "source": [
    "확률변수열 $\\{X_t\\}$가 HMC라고 하고, 그 transition matrix ${\\bf P}$ (혹은 그 비슷한 것) 가 아래와 같다고 하자. "
   ]
  },
  {
   "cell_type": "markdown",
   "id": "ad0ded1f-946d-4e87-b4f5-f5ccaf9d8ce5",
   "metadata": {},
   "source": [
    "$${\\bf P} = \\begin{bmatrix} \n",
    "1-p & p & 0 & 0 & 0 & \\dots \\\\ \n",
    "1-p & 0 & p & 0 & 0 & \\dots \\\\ \n",
    "0 & 1-p & 0 & p & 0 & \\dots \\\\ \n",
    "0 & 0 & 1-p & 0 & p & \\dots \\\\ \n",
    "\\dots & \\dots & \\dots & \\dots & \\dots & \\dots \n",
    "\\end{bmatrix}$$"
   ]
  },
  {
   "cell_type": "markdown",
   "id": "b226f838-0b54-4f1f-b538-a78e2add03fa",
   "metadata": {},
   "source": [
    "`-` 체크: 이 마코프체인은 IRR하다. "
   ]
  },
  {
   "cell_type": "markdown",
   "id": "b46770b5-73aa-423e-9699-00d56cfc7307",
   "metadata": {},
   "source": [
    "`-` case1: $p=0.99$ 라고 하자. "
   ]
  },
  {
   "cell_type": "code",
   "execution_count": 8,
   "id": "d07baf55-83b2-4ec2-99cc-95c6d8d6e484",
   "metadata": {},
   "outputs": [
    {
     "data": {
      "text/plain": [
       "array([[0.01, 0.99, 0.  , ..., 0.  , 0.  , 0.  ],\n",
       "       [0.01, 0.  , 0.99, ..., 0.  , 0.  , 0.  ],\n",
       "       [0.  , 0.01, 0.  , ..., 0.  , 0.  , 0.  ],\n",
       "       ...,\n",
       "       [0.  , 0.  , 0.  , ..., 0.  , 0.99, 0.  ],\n",
       "       [0.  , 0.  , 0.  , ..., 0.01, 0.  , 0.99],\n",
       "       [0.  , 0.  , 0.  , ..., 0.  , 0.01, 0.  ]])"
      ]
     },
     "execution_count": 8,
     "metadata": {},
     "output_type": "execute_result"
    }
   ],
   "source": [
    "p=0.99\n",
    "P1 = np.array([[i-j == 1 for i in range(1000)] for j in range(1000)])*p\n",
    "P2 = np.array([[j-i == 1 for i in range(1000)] for j in range(1000)])*(1-p)\n",
    "P = P1+P2\n",
    "P[0,0]= 1-p \n",
    "P"
   ]
  },
  {
   "cell_type": "code",
   "execution_count": 9,
   "id": "cf3e0725-fe5a-408f-979b-0411a3aa2754",
   "metadata": {},
   "outputs": [
    {
     "data": {
      "text/plain": [
       "array([[0., 0., 0., ..., 0., 0., 0.],\n",
       "       [0., 0., 0., ..., 0., 0., 0.],\n",
       "       [0., 0., 0., ..., 0., 0., 0.],\n",
       "       ...,\n",
       "       [0., 0., 0., ..., 0., 0., 0.],\n",
       "       [0., 0., 0., ..., 0., 0., 0.],\n",
       "       [0., 0., 0., ..., 0., 0., 0.]])"
      ]
     },
     "execution_count": 9,
     "metadata": {},
     "output_type": "execute_result"
    }
   ],
   "source": [
    "(np.matrix(P)**100).round(5)"
   ]
  },
  {
   "cell_type": "markdown",
   "id": "0c238e07-9ad0-4c2b-a5d0-4570696787ce",
   "metadata": {},
   "source": [
    "모든 상태가 일시적인듯 "
   ]
  },
  {
   "cell_type": "markdown",
   "id": "09af003c-5603-491b-9925-53cc42cad3bf",
   "metadata": {},
   "source": [
    "`-` case2: $p=0.1$ 이라고 하자."
   ]
  },
  {
   "cell_type": "code",
   "execution_count": 10,
   "id": "c3bafeb0-ca4a-4293-904e-cca33e025082",
   "metadata": {},
   "outputs": [
    {
     "data": {
      "text/plain": [
       "array([[0.9, 0.1, 0. , ..., 0. , 0. , 0. ],\n",
       "       [0.9, 0. , 0.1, ..., 0. , 0. , 0. ],\n",
       "       [0. , 0.9, 0. , ..., 0. , 0. , 0. ],\n",
       "       ...,\n",
       "       [0. , 0. , 0. , ..., 0. , 0.1, 0. ],\n",
       "       [0. , 0. , 0. , ..., 0.9, 0. , 0.1],\n",
       "       [0. , 0. , 0. , ..., 0. , 0.9, 0. ]])"
      ]
     },
     "execution_count": 10,
     "metadata": {},
     "output_type": "execute_result"
    }
   ],
   "source": [
    "p=0.1\n",
    "P1 = np.array([[i-j == 1 for i in range(1000)] for j in range(1000)])*p\n",
    "P2 = np.array([[j-i == 1 for i in range(1000)] for j in range(1000)])*(1-p)\n",
    "P = P1+P2\n",
    "P[0,0]= 1-p \n",
    "P"
   ]
  },
  {
   "cell_type": "code",
   "execution_count": 11,
   "id": "5d492318-01ec-4873-9f52-51597a21d4e6",
   "metadata": {},
   "outputs": [
    {
     "data": {
      "text/plain": [
       "array([[0.88889, 0.09877, 0.01097, ..., 0.     , 0.     , 0.     ],\n",
       "       [0.88889, 0.09877, 0.01097, ..., 0.     , 0.     , 0.     ],\n",
       "       [0.88889, 0.09877, 0.01097, ..., 0.     , 0.     , 0.     ],\n",
       "       ...,\n",
       "       [0.     , 0.     , 0.     , ..., 0.     , 0.     , 0.     ],\n",
       "       [0.     , 0.     , 0.     , ..., 0.     , 0.     , 0.     ],\n",
       "       [0.     , 0.     , 0.     , ..., 0.     , 0.     , 0.     ]])"
      ]
     },
     "execution_count": 11,
     "metadata": {},
     "output_type": "execute_result"
    }
   ],
   "source": [
    "(np.matrix(P)**100).round(5)"
   ]
  },
  {
   "cell_type": "markdown",
   "id": "ca8b5e14-cd5c-4426-ad77-e903d0556563",
   "metadata": {},
   "source": [
    "상태0은 recurrent 인듯 "
   ]
  },
  {
   "cell_type": "markdown",
   "id": "d56d08c4-e301-43f6-97be-2f9127b816f8",
   "metadata": {},
   "source": [
    "`-` case3: $p=0.5$ 이라고 하자."
   ]
  },
  {
   "cell_type": "code",
   "execution_count": 12,
   "id": "6b139f7d-3583-4985-a722-b241c776a86c",
   "metadata": {},
   "outputs": [
    {
     "data": {
      "text/plain": [
       "array([[0.5, 0.5, 0. , ..., 0. , 0. , 0. ],\n",
       "       [0.5, 0. , 0.5, ..., 0. , 0. , 0. ],\n",
       "       [0. , 0.5, 0. , ..., 0. , 0. , 0. ],\n",
       "       ...,\n",
       "       [0. , 0. , 0. , ..., 0. , 0.5, 0. ],\n",
       "       [0. , 0. , 0. , ..., 0.5, 0. , 0.5],\n",
       "       [0. , 0. , 0. , ..., 0. , 0.5, 0. ]])"
      ]
     },
     "execution_count": 12,
     "metadata": {},
     "output_type": "execute_result"
    }
   ],
   "source": [
    "p=0.5\n",
    "P1 = np.array([[i-j == 1 for i in range(1000)] for j in range(1000)])*p\n",
    "P2 = np.array([[j-i == 1 for i in range(1000)] for j in range(1000)])*(1-p)\n",
    "P = P1+P2\n",
    "P[0,0]= 1-p \n",
    "P"
   ]
  },
  {
   "cell_type": "code",
   "execution_count": 13,
   "id": "cb70eb6e-704d-4ac4-b7d2-692589a5afa0",
   "metadata": {},
   "outputs": [
    {
     "data": {
      "text/plain": [
       "array([[0.025, 0.025, 0.025, ..., 0.   , 0.   , 0.   ],\n",
       "       [0.025, 0.025, 0.025, ..., 0.   , 0.   , 0.   ],\n",
       "       [0.025, 0.025, 0.025, ..., 0.   , 0.   , 0.   ],\n",
       "       ...,\n",
       "       [0.   , 0.   , 0.   , ..., 0.   , 0.   , 0.   ],\n",
       "       [0.   , 0.   , 0.   , ..., 0.   , 0.   , 0.   ],\n",
       "       [0.   , 0.   , 0.   , ..., 0.   , 0.   , 0.   ]])"
      ]
     },
     "execution_count": 13,
     "metadata": {},
     "output_type": "execute_result"
    }
   ],
   "source": [
    "(np.matrix(P)**1000).round(3)"
   ]
  },
  {
   "cell_type": "markdown",
   "id": "4a044486-5175-4e7d-a9f8-addc7ec4a941",
   "metadata": {},
   "source": [
    "모르겠는데?? "
   ]
  },
  {
   "cell_type": "markdown",
   "id": "e5bc46cf-d50e-48a8-998c-e54606268dde",
   "metadata": {},
   "source": [
    "**대충 맞춰보자.** "
   ]
  },
  {
   "cell_type": "code",
   "execution_count": 14,
   "id": "7654ebe5-f27a-4ac8-802c-d335ef562283",
   "metadata": {},
   "outputs": [
    {
     "data": {
      "text/plain": [
       "array([  0.5       ,   1.        ,   1.375     , ..., 157.58090143,\n",
       "       157.58888008, 157.59685793])"
      ]
     },
     "execution_count": 14,
     "metadata": {},
     "output_type": "execute_result"
    }
   ],
   "source": [
    "Pstar = P.copy()\n",
    "pT = list()\n",
    "pT.append(Pstar[0,0])\n",
    "for t in range(10000):\n",
    "    Pstar = Pstar@P\n",
    "    pT.append(Pstar[0,0])    \n",
    "np.array(pT).cumsum()"
   ]
  },
  {
   "cell_type": "markdown",
   "id": "c23d300f-f7ff-4046-8fea-d731ef6dbf7a",
   "metadata": {},
   "source": [
    "여기에서 \n",
    "\n",
    "- ${\\tt pT} = [p_{00}^{(0)},p_{00}^{(1)},\\dots,p_{00}^{(T)}]$\n",
    "- ${\\tt np.array(pT).cumsum()} = [\\sum_{t=0}^{0} p_{00}^{(t)},\\sum_{t=0}^{1} p_{00}^{(t)},\\dots,\\sum_{t=0}^{T} p_{00}^{(t)}]$\n",
    "\n",
    "이다. "
   ]
  },
  {
   "cell_type": "markdown",
   "id": "c9e6f67a-22d1-4cd6-acf1-9e32c86ac045",
   "metadata": {},
   "source": [
    "`-` 결론: \n",
    "    \n",
    "- 경우1: $p>1/2$ $\\Rightarrow$ $\\sum_{t=0}^{\\infty} p_{00}^{(t)}<\\infty$ $\\overset{def}{\\Leftrightarrow}$ state 0 is transient\n",
    "- 경우2: $p<1/2$ $\\Rightarrow$ $\\sum_{t=0}^{\\infty}p_{00}^{(t)}=\\infty$ with $p_{00}^{(t)} \\rightarrow c$, $c>0$ $\\overset{def}{\\Leftrightarrow}$ state 0 is positive recurrent\n",
    "- 경우3: $p=1/2$ $\\Rightarrow$ $\\sum_{t=0}^{\\infty} p_{00}^{(t)}=\\infty$ with $p_{00}^{(t)} \\rightarrow 0$ $\\overset{def}{\\Leftrightarrow}$ state 0 is null recurrent "
   ]
  },
  {
   "cell_type": "markdown",
   "id": "6769d325-454d-479d-888f-bf2db1c5f836",
   "metadata": {},
   "source": [
    "`-` 시각화"
   ]
  },
  {
   "cell_type": "code",
   "execution_count": 15,
   "id": "53451ee9-4887-4b35-84d7-78d773575193",
   "metadata": {},
   "outputs": [],
   "source": [
    "def calculate_pT(p): \n",
    "    _P1 = np.array([[i-j == 1 for i in range(1000)] for j in range(1000)])*p\n",
    "    _P2 = np.array([[j-i == 1 for i in range(1000)] for j in range(1000)])*(1-p)\n",
    "    P = _P1+_P2\n",
    "    P[0,0]= 1-p \n",
    "    \n",
    "    Pstar = P.copy()\n",
    "    pT = list()\n",
    "    pT.append(Pstar[0,0])\n",
    "    for t in range(1000):\n",
    "        Pstar = Pstar@P\n",
    "        pT.append(Pstar[0,0])    \n",
    "    return np.array(pT)"
   ]
  },
  {
   "cell_type": "code",
   "execution_count": 17,
   "id": "7ff2d9bc-100f-43cf-bb10-cb59a7295d75",
   "metadata": {},
   "outputs": [],
   "source": [
    "case1 = calculate_pT(0.55)\n",
    "case2 = calculate_pT(0.45)\n",
    "case3 = calculate_pT(0.50)"
   ]
  },
  {
   "cell_type": "code",
   "execution_count": 18,
   "id": "5880308e-40b7-42f6-81a4-59e1c11d7a99",
   "metadata": {},
   "outputs": [
    {
     "data": {
      "text/plain": [
       "<matplotlib.legend.Legend at 0x7fcec247f520>"
      ]
     },
     "execution_count": 18,
     "metadata": {},
     "output_type": "execute_result"
    },
    {
     "data": {
      "image/png": "[encoded data removed]",
      "text/plain": [
       "<Figure size 432x288 with 1 Axes>"
      ]
     },
     "metadata": {
      "needs_background": "light"
     },
     "output_type": "display_data"
    }
   ],
   "source": [
    "plt.plot(case1.cumsum(),label=r'$p=0.55$, transient', color='C0')\n",
    "plt.plot(case2.cumsum(),label=r'$p=0.45$, positive recurrent', color='C1')\n",
    "plt.plot(case3.cumsum(),label=r'$p=0.50$, null recurrent', color='C2')\n",
    "plt.legend()"
   ]
  }
 ],
 "metadata": {
  "kernelspec": {
   "display_name": "Python 3",
   "language": "python",
   "name": "python3"
  },
  "language_info": {
   "codemirror_mode": {
    "name": "ipython",
    "version": 3
   },
   "file_extension": ".py",
   "mimetype": "text/x-python",
   "name": "python",
   "nbconvert_exporter": "python",
   "pygments_lexer": "ipython3",
   "version": "3.8.16"
  }
 },
 "nbformat": 4,
 "nbformat_minor": 5
}
