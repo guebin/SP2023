{
 "cells": [
  {
   "cell_type": "raw",
   "id": "73c623ef-402d-40b3-8840-d5bc5a8e9e33",
   "metadata": {},
   "source": [
    "---\n",
    "title: \"12wk-1: 마코프체인 (10)\"\n",
    "author: \"최규빈\"\n",
    "date: \"05/18/2023\"\n",
    "bibliography: ref.bib\n",
    "title-block-style: none\n",
    "title-block-banner: false\n",
    "---"
   ]
  },
  {
   "cell_type": "markdown",
   "id": "c8d13c04-ad66-41bf-ba11-2581f1911b60",
   "metadata": {},
   "source": [
    "# 강의영상 "
   ]
  },
  {
   "cell_type": "markdown",
   "id": "d9112931-8ebc-4ed5-93fe-744569809f36",
   "metadata": {},
   "source": [
    "# imports "
   ]
  },
  {
   "cell_type": "code",
   "execution_count": 138,
   "id": "ac963095-eba8-4086-9d14-9adf1c2cb116",
   "metadata": {},
   "outputs": [],
   "source": [
    "import numpy as np\n",
    "import matplotlib.pyplot as plt "
   ]
  },
  {
   "cell_type": "markdown",
   "id": "7b6d3fd0-efa2-49af-a3d4-060d5c80fb87",
   "metadata": {},
   "source": [
    "# 지난시간 "
   ]
  },
  {
   "cell_type": "markdown",
   "id": "7f669595-f34f-492e-a646-9f4c9251e295",
   "metadata": {},
   "source": [
    "`-` 수학: 어떠한 집합 $E$에서 equivalence relation $\\sim$을 정의할 수 있다면, 집합 $E$의 모든 원소는 $\\sim$를 기준으로 분해할 수 있다. 즉 아래를 만족하는 $E_1,E_2,E_3,\\dots$ 이 존재한다. \n",
    "\n",
    "$$E = \\uplus_{k=1}^{\\infty} E_k$$\n",
    "\n",
    "단 여기에서 $E_1,E_2,E_3,\\dots$ 는 서로소이다. "
   ]
  },
  {
   "cell_type": "markdown",
   "id": "7d1c9005-0d12-4a7b-8855-d91d68bfb36d",
   "metadata": {},
   "source": [
    "`-` 통계: 확률변수열 $\\{X_t\\}$가 HMC라고 하고, $E$를 $\\{X_t\\}$가 정의되는 상태공간이라고 하자. 기호 $\\leftrightarrow$는 $E$에서 정의된 euivalence relation이 된다. 따라서 집합 $E$의 원소는 $\\leftrightarrow$를 기준으로 아래와 같이 나눌 수 있다. \n",
    "\n",
    "$$E = \\uplus_{k=1}^{\\infty} E_k$$\n",
    "\n",
    "단 여기에서 $E_1,E_2,E_3,\\dots$ 는 서로소이다. "
   ]
  },
  {
   "cell_type": "markdown",
   "id": "9d910123-0b64-4ab6-bff5-4ed25ab9dc72",
   "metadata": {},
   "source": [
    "`-` 의미($\\star\\star\\star$)\n",
    "\n",
    "1. IRR 하지 않은 마코프체인은 IRR 한 마코프체인으로 분해하여 생각할 수 있다. \n",
    "2. 앞으로 마코프체인에 대한 성질을 연구할때 IRR 은 그냥 가정해도 무방하다. "
   ]
  },
  {
   "cell_type": "markdown",
   "id": "0e89b63b-6f3b-40de-8d3a-7040179986a9",
   "metadata": {},
   "source": [
    "`-` 예시1: 아래와 같은 전이행렬을 고려하자. "
   ]
  },
  {
   "cell_type": "code",
   "execution_count": 188,
   "id": "63a5822a-f403-4437-a56d-76d7e1620d88",
   "metadata": {},
   "outputs": [
    {
     "data": {
      "text/plain": [
       "array([[1, 0],\n",
       "       [0, 1]])"
      ]
     },
     "execution_count": 188,
     "metadata": {},
     "output_type": "execute_result"
    }
   ],
   "source": [
    "P = np.array([[1,0],\n",
    "              [0,1]])\n",
    "P"
   ]
  },
  {
   "cell_type": "markdown",
   "id": "da68cdbd-415a-4653-b30a-7b4625665394",
   "metadata": {},
   "source": [
    "**해석1**: 모든 분포가 정상분포라고 해석 "
   ]
  },
  {
   "cell_type": "markdown",
   "id": "8ad33123-2b5a-4fa2-96ff-786cd659aacb",
   "metadata": {},
   "source": [
    "**해석2** 전체마코프체인을 쪼개서 (1) 상태0에만 머무는 마코프체인, (2) 상태1에만 머무는 마코프체인으로 나누어 생각하고 각각에 대한 정상분포가 1이라고 해석. "
   ]
  },
  {
   "cell_type": "markdown",
   "id": "8948f3e9-c0cb-465e-973f-627f7ff98f4e",
   "metadata": {},
   "source": [
    "# 예비학습 "
   ]
  },
  {
   "cell_type": "markdown",
   "id": "60d2a20d-7c70-4845-81ee-d4cad9012251",
   "metadata": {},
   "source": [
    "## 나그네 "
   ]
  },
  {
   "cell_type": "markdown",
   "id": "2bd7ff51-007f-4619-8cb8-9f689ce48258",
   "metadata": {},
   "source": [
    "`-` 나그네 (박목월)\n",
    "\n",
    "```\n",
    "강나루 건너서\n",
    "밀밭 길을\n",
    "\n",
    "구름에 달 가듯이\n",
    "가는 나그네\n",
    "\n",
    "길은 외줄기\n",
    "南道 삼백리\n",
    "\n",
    "술 익는 마을마다\n",
    "타는 저녁놀\n",
    "\n",
    "구름에 달 가듯이\n",
    "가는 나그네\n",
    "```"
   ]
  },
  {
   "cell_type": "markdown",
   "id": "9e608c1b-a849-447b-a07c-44d939ed32cd",
   "metadata": {},
   "source": [
    "`-` 나그네 \n",
    "\n",
    "- 정착 X \n",
    "- 모든 장소에 일시적(transient)으로만 머뭄\n",
    "- 다시 돌아올 수는 있는데 금방 다시 감. "
   ]
  },
  {
   "cell_type": "markdown",
   "id": "714425c9-468c-445a-8c48-5c73c2c1e6c6",
   "metadata": {},
   "source": [
    "`-` 편의상 아래와 같이 생각하자. \n",
    "\n",
    "- $E$: 마을의 집합\n",
    "- $X_t=i$: $t$시점에 나그네가 마을 $i$에 머무는 event "
   ]
  },
  {
   "cell_type": "markdown",
   "id": "41f47054-1563-4111-8635-b7045215f9bc",
   "metadata": {},
   "source": [
    "## 급수의 수렴 "
   ]
  },
  {
   "cell_type": "markdown",
   "id": "c1c3e823-a188-4c86-b9e0-2fdaddc177c4",
   "metadata": {},
   "source": [
    "`-` $a_n \\to 0$ 이라고 해서 $\\lim_{n\\to\\infty} S_n <\\infty$ 인건 아니다. "
   ]
  },
  {
   "cell_type": "markdown",
   "id": "eb3b56c1-17a5-4363-8c2f-70f20818dad3",
   "metadata": {},
   "source": [
    "`-` 예시1: $a_n=\\frac{1}{2^n}$, 수렴하는 경우 "
   ]
  },
  {
   "cell_type": "code",
   "execution_count": 98,
   "id": "dff74773-b4c8-4818-a90b-b89edcdaf122",
   "metadata": {},
   "outputs": [
    {
     "data": {
      "text/plain": [
       "1.0"
      ]
     },
     "execution_count": 98,
     "metadata": {},
     "output_type": "execute_result"
    }
   ],
   "source": [
    "sum([1/2**i for i in range(1,10000)])"
   ]
  },
  {
   "cell_type": "markdown",
   "id": "1acc399d-6580-464a-aa69-f61e6d6c5f2a",
   "metadata": {},
   "source": [
    "`-` 예시2: $a_n = \\frac{1}{n}$, 수렴안하는 경우"
   ]
  },
  {
   "cell_type": "code",
   "execution_count": 104,
   "id": "3ffd97bc-9cb0-42c4-9ca0-e397200d1b89",
   "metadata": {},
   "outputs": [
    {
     "data": {
      "text/plain": [
       "9.787506036044348"
      ]
     },
     "execution_count": 104,
     "metadata": {},
     "output_type": "execute_result"
    }
   ],
   "source": [
    "sum([1/i for i in range(1,10000)])"
   ]
  },
  {
   "cell_type": "markdown",
   "id": "89485107-7690-41b3-85a6-e82dab89e330",
   "metadata": {},
   "source": [
    "# nature"
   ]
  },
  {
   "cell_type": "markdown",
   "id": "78d9a11c-a078-4f53-aa69-b375b76158fe",
   "metadata": {},
   "source": [
    "## 예제1: 오른쪽으로만 갈래 "
   ]
  },
  {
   "cell_type": "markdown",
   "id": "5ead377c-d033-4687-9d3f-597e678b6d04",
   "metadata": {},
   "source": [
    "확률변수열 $\\{X_t\\}$가 HMC라고 하고, 그 transition matrix ${\\bf P}$ (혹은 그 비슷한 것) 가 아래와 같다고 하자. "
   ]
  },
  {
   "cell_type": "markdown",
   "id": "cf5eb023-8c67-4098-be40-100251b8a617",
   "metadata": {},
   "source": [
    "$${\\bf P} = \\begin{bmatrix} \n",
    "0 & 1 & 0 & 0 & 0 & \\dots \\\\ \n",
    "0 & 0 & 1 & 0 & 0 & \\dots \\\\ \n",
    "0 & 0 & 0 & 1 & 0 & \\dots \\\\ \n",
    "0 & 0 & 0 & 0 & 1 & \\dots \\\\ \n",
    "\\dots & \\dots & \\dots & \\dots & \\dots & \\dots \n",
    "\\end{bmatrix}$$"
   ]
  },
  {
   "cell_type": "markdown",
   "id": "f8676296-d5a9-44a6-9213-a8a5b4199fdd",
   "metadata": {},
   "source": [
    "`-` 체크: 이 예제의 마코프체인은 IRR 하지 않다. "
   ]
  },
  {
   "cell_type": "markdown",
   "id": "da15db2e-e901-4c48-a786-0d99039183cb",
   "metadata": {},
   "source": [
    "`-` 나이스케이스: $\\bar{\\boldsymbol \\pi}^\\top \\overset{T \\to \\infty}{\\longrightarrow} {\\bf p}_{\\star}^\\top = {\\boldsymbol \\pi}^\\top$"
   ]
  },
  {
   "cell_type": "markdown",
   "id": "ffe1ae45-68d0-43ec-a498-23222f2adab6",
   "metadata": {},
   "source": [
    "`-` 이 예제는 나이스하지 않음 왜? IRR이 아니라서? \n",
    "\n",
    "- IRR이 아니라서 나이스하지 않다는 것은 핑계임. \n",
    "- 오른쪽으로 갈 확률을 0.99로 수정한다면 IRR 마코프체인이 된다. 그렇지만 이게 나이스하게 바뀔 것 같지는 않음. "
   ]
  },
  {
   "cell_type": "markdown",
   "id": "ac94babe-bdf9-4330-8774-82d7415043b6",
   "metadata": {},
   "source": [
    "`-` 나이스하지 않은 본질적인 이유\n",
    "\n",
    "- 상태 $i$에 일시적(transient)으로 머무는 느낌. 거의 나그네 수준임. \n",
    "- $\\bar{\\boldsymbol \\pi}^\\top \\overset{T \\to \\infty}{\\longrightarrow} {\\bf p}_{\\star}^\\top = {\\boldsymbol \\pi}^\\top$ 이와 같은 논리전개를 쓰려면 일단 $\\{X_t\\}$가 특정상태를 무한번 방문해야 가능 "
   ]
  },
  {
   "cell_type": "markdown",
   "id": "566300f6-8148-451b-a346-227ee00ce715",
   "metadata": {},
   "source": [
    "`-` FINITE case\n",
    "\n",
    "- IRR은 가정할 수 있음. \n",
    "- IRR을 가정한다면, 모든 마을에 대해서 나그네가 반복적으로 돌아오는 느낌이 있음. \n"
   ]
  },
  {
   "cell_type": "markdown",
   "id": "3f06297c-be78-4812-98c7-d2c48e48fff4",
   "metadata": {},
   "source": [
    "`-` 깨달음. \n",
    "\n",
    "- FINITE 인 경우는 IRR 이기만 하면 \"반복적으로 마을방문\" 이 보장되었다. \n",
    "- 그런데 INFINITE 한 경우는 IRR 이어도 \"반복적으로 마을방문\" 이 보장되지 않는다. "
   ]
  },
  {
   "cell_type": "markdown",
   "id": "1c398417-f69c-4ce4-83d2-2f9f708be711",
   "metadata": {},
   "source": [
    "> IRR 조건이 엄청 대단한 조건인줄 알았는데, 사실 그런게 아니고 (수틀리면 그냥 IRR 이라고 가정해도 무방한) 실제로 대단한 조건은 숨어있는 \"반복적으로 마을방문\" 이라는 조건임. "
   ]
  },
  {
   "cell_type": "markdown",
   "id": "58f9b082-760f-441e-8fc7-dee22b17b0b7",
   "metadata": {},
   "source": [
    "`-` **가짜정의:** HMC $\\{X_t\\}$가 (1) IRR (2) PR (3) AP 조건을 만족한다면 $\\{X_t\\}$를 에르고딕 마코프체인이라고 부른다. 여기에서 PR은 positive recurrent의 약자이며 \"반복적으로 마을을 방문한다\"의 의미를 가지고 있다. "
   ]
  },
  {
   "cell_type": "markdown",
   "id": "25e0c804-e3d8-43a0-b6bd-29122aaf407b",
   "metadata": {},
   "source": [
    "## Reccurent, Transient"
   ]
  },
  {
   "cell_type": "markdown",
   "id": "7d9d4abc-163a-4697-b06b-155b37ed57c5",
   "metadata": {},
   "source": [
    "`-` **대안정의**: $\\{X_t\\}$가 상태공간 $E$에서 정의된 HMC 라고 하자. 만약에 상태 $i \\in E$ 가 아래의 식을 만족한다면\n",
    "\n",
    "$$\\sum_{t=0}^{\\infty} p_{ii}^{(t)}= \\infty$$\n",
    "\n",
    "$i$는 recurrent 하다고 표현하고, 그렇지 않으면 $i$는 transient 하다고 표현한다. "
   ]
  },
  {
   "cell_type": "markdown",
   "id": "e8576739-eb8c-4648-9d29-35c1ef8d5280",
   "metadata": {},
   "source": [
    "## 예제2: reflecting random walk "
   ]
  },
  {
   "cell_type": "markdown",
   "id": "1e40749b-5a34-44bd-99e0-5829f3a0d35b",
   "metadata": {},
   "source": [
    "확률변수열 $\\{X_t\\}$가 HMC라고 하고, 그 transition matrix ${\\bf P}$ (혹은 그 비슷한 것) 가 아래와 같다고 하자. "
   ]
  },
  {
   "cell_type": "markdown",
   "id": "ad0ded1f-946d-4e87-b4f5-f5ccaf9d8ce5",
   "metadata": {},
   "source": [
    "$${\\bf P} = \\begin{bmatrix} \n",
    "1-p & p & 0 & 0 & 0 & \\dots \\\\ \n",
    "1-p & 0 & p & 0 & 0 & \\dots \\\\ \n",
    "0 & 1-p & 0 & p & 0 & \\dots \\\\ \n",
    "0 & 0 & 1-p & 0 & p & \\dots \\\\ \n",
    "\\dots & \\dots & \\dots & \\dots & \\dots & \\dots \n",
    "\\end{bmatrix}$$"
   ]
  },
  {
   "cell_type": "markdown",
   "id": "b226f838-0b54-4f1f-b538-a78e2add03fa",
   "metadata": {},
   "source": [
    "`-` 체크: 이 마코프체인은 IRR하다. "
   ]
  },
  {
   "cell_type": "markdown",
   "id": "b46770b5-73aa-423e-9699-00d56cfc7307",
   "metadata": {},
   "source": [
    "`-` case1: $p=0.99$ 라고 하자. "
   ]
  },
  {
   "cell_type": "code",
   "execution_count": 171,
   "id": "d07baf55-83b2-4ec2-99cc-95c6d8d6e484",
   "metadata": {},
   "outputs": [
    {
     "data": {
      "text/plain": [
       "array([[0.01, 0.99, 0.  , ..., 0.  , 0.  , 0.  ],\n",
       "       [0.01, 0.  , 0.99, ..., 0.  , 0.  , 0.  ],\n",
       "       [0.  , 0.01, 0.  , ..., 0.  , 0.  , 0.  ],\n",
       "       ...,\n",
       "       [0.  , 0.  , 0.  , ..., 0.  , 0.99, 0.  ],\n",
       "       [0.  , 0.  , 0.  , ..., 0.01, 0.  , 0.99],\n",
       "       [0.  , 0.  , 0.  , ..., 0.  , 0.01, 0.  ]])"
      ]
     },
     "execution_count": 171,
     "metadata": {},
     "output_type": "execute_result"
    }
   ],
   "source": [
    "p=0.99\n",
    "_P1 = np.array([[i-j == 1 for i in range(1000)] for j in range(1000)])*p\n",
    "_P2 = np.array([[j-i == 1 for i in range(1000)] for j in range(1000)])*(1-p)\n",
    "P = _P1+_P2\n",
    "P[0,0]= 1-p \n",
    "P"
   ]
  },
  {
   "cell_type": "code",
   "execution_count": 172,
   "id": "cf3e0725-fe5a-408f-979b-0411a3aa2754",
   "metadata": {},
   "outputs": [
    {
     "data": {
      "text/plain": [
       "array([[0., 0., 0., ..., 0., 0., 0.],\n",
       "       [0., 0., 0., ..., 0., 0., 0.],\n",
       "       [0., 0., 0., ..., 0., 0., 0.],\n",
       "       ...,\n",
       "       [0., 0., 0., ..., 0., 0., 0.],\n",
       "       [0., 0., 0., ..., 0., 0., 0.],\n",
       "       [0., 0., 0., ..., 0., 0., 0.]])"
      ]
     },
     "execution_count": 172,
     "metadata": {},
     "output_type": "execute_result"
    }
   ],
   "source": [
    "(np.matrix(P)**100).round(5)"
   ]
  },
  {
   "cell_type": "markdown",
   "id": "0c238e07-9ad0-4c2b-a5d0-4570696787ce",
   "metadata": {},
   "source": [
    "모든 상태가 일시적인듯 "
   ]
  },
  {
   "cell_type": "markdown",
   "id": "09af003c-5603-491b-9925-53cc42cad3bf",
   "metadata": {},
   "source": [
    "`-` case2: $p=0.1$ 이라고 하자."
   ]
  },
  {
   "cell_type": "code",
   "execution_count": 107,
   "id": "c3bafeb0-ca4a-4293-904e-cca33e025082",
   "metadata": {},
   "outputs": [
    {
     "data": {
      "text/plain": [
       "array([[0.9, 0.1, 0. , ..., 0. , 0. , 0. ],\n",
       "       [0.9, 0. , 0.1, ..., 0. , 0. , 0. ],\n",
       "       [0. , 0.9, 0. , ..., 0. , 0. , 0. ],\n",
       "       ...,\n",
       "       [0. , 0. , 0. , ..., 0. , 0.1, 0. ],\n",
       "       [0. , 0. , 0. , ..., 0.9, 0. , 0.1],\n",
       "       [0. , 0. , 0. , ..., 0. , 0.9, 0. ]])"
      ]
     },
     "execution_count": 107,
     "metadata": {},
     "output_type": "execute_result"
    }
   ],
   "source": [
    "p=0.1\n",
    "_P1 = np.array([[i-j == 1 for i in range(1000)] for j in range(1000)])*p\n",
    "_P2 = np.array([[j-i == 1 for i in range(1000)] for j in range(1000)])*(1-p)\n",
    "P = _P1+_P2\n",
    "P[0,0]= 1-p \n",
    "P"
   ]
  },
  {
   "cell_type": "code",
   "execution_count": 108,
   "id": "5d492318-01ec-4873-9f52-51597a21d4e6",
   "metadata": {},
   "outputs": [
    {
     "data": {
      "text/plain": [
       "array([[0.88889, 0.09877, 0.01097, ..., 0.     , 0.     , 0.     ],\n",
       "       [0.88889, 0.09877, 0.01097, ..., 0.     , 0.     , 0.     ],\n",
       "       [0.88889, 0.09877, 0.01097, ..., 0.     , 0.     , 0.     ],\n",
       "       ...,\n",
       "       [0.     , 0.     , 0.     , ..., 0.     , 0.     , 0.     ],\n",
       "       [0.     , 0.     , 0.     , ..., 0.     , 0.     , 0.     ],\n",
       "       [0.     , 0.     , 0.     , ..., 0.     , 0.     , 0.     ]])"
      ]
     },
     "execution_count": 108,
     "metadata": {},
     "output_type": "execute_result"
    }
   ],
   "source": [
    "(np.matrix(P)**100).round(5)"
   ]
  },
  {
   "cell_type": "markdown",
   "id": "ca8b5e14-cd5c-4426-ad77-e903d0556563",
   "metadata": {},
   "source": [
    "모든 상태가 reccurent 인듯 "
   ]
  },
  {
   "cell_type": "markdown",
   "id": "d56d08c4-e301-43f6-97be-2f9127b816f8",
   "metadata": {},
   "source": [
    "`-` case3: $p=0.5$ 이라고 하자."
   ]
  },
  {
   "cell_type": "code",
   "execution_count": 175,
   "id": "6b139f7d-3583-4985-a722-b241c776a86c",
   "metadata": {},
   "outputs": [
    {
     "data": {
      "text/plain": [
       "array([[0.5, 0.5, 0. , ..., 0. , 0. , 0. ],\n",
       "       [0.5, 0. , 0.5, ..., 0. , 0. , 0. ],\n",
       "       [0. , 0.5, 0. , ..., 0. , 0. , 0. ],\n",
       "       ...,\n",
       "       [0. , 0. , 0. , ..., 0. , 0.5, 0. ],\n",
       "       [0. , 0. , 0. , ..., 0.5, 0. , 0.5],\n",
       "       [0. , 0. , 0. , ..., 0. , 0.5, 0. ]])"
      ]
     },
     "execution_count": 175,
     "metadata": {},
     "output_type": "execute_result"
    }
   ],
   "source": [
    "p=0.5\n",
    "_P1 = np.array([[i-j == 1 for i in range(1000)] for j in range(1000)])*p\n",
    "_P2 = np.array([[j-i == 1 for i in range(1000)] for j in range(1000)])*(1-p)\n",
    "P = _P1+_P2\n",
    "P[0,0]= 1-p \n",
    "P"
   ]
  },
  {
   "cell_type": "code",
   "execution_count": 176,
   "id": "cb70eb6e-704d-4ac4-b7d2-692589a5afa0",
   "metadata": {},
   "outputs": [
    {
     "data": {
      "text/plain": [
       "array([[0.025, 0.025, 0.025, ..., 0.   , 0.   , 0.   ],\n",
       "       [0.025, 0.025, 0.025, ..., 0.   , 0.   , 0.   ],\n",
       "       [0.025, 0.025, 0.025, ..., 0.   , 0.   , 0.   ],\n",
       "       ...,\n",
       "       [0.   , 0.   , 0.   , ..., 0.   , 0.   , 0.   ],\n",
       "       [0.   , 0.   , 0.   , ..., 0.   , 0.   , 0.   ],\n",
       "       [0.   , 0.   , 0.   , ..., 0.   , 0.   , 0.   ]])"
      ]
     },
     "execution_count": 176,
     "metadata": {},
     "output_type": "execute_result"
    }
   ],
   "source": [
    "(np.matrix(P)**1000).round(3)"
   ]
  },
  {
   "cell_type": "markdown",
   "id": "4a044486-5175-4e7d-a9f8-addc7ec4a941",
   "metadata": {},
   "source": [
    "모르겠는데 ?? "
   ]
  },
  {
   "cell_type": "markdown",
   "id": "e5bc46cf-d50e-48a8-998c-e54606268dde",
   "metadata": {},
   "source": [
    "**대충 맞춰보자.**"
   ]
  },
  {
   "cell_type": "code",
   "execution_count": 181,
   "id": "7654ebe5-f27a-4ac8-802c-d335ef562283",
   "metadata": {},
   "outputs": [
    {
     "data": {
      "text/plain": [
       "array([  0.5       ,   1.        ,   1.375     , ..., 157.58090143,\n",
       "       157.58888008, 157.59685793])"
      ]
     },
     "execution_count": 181,
     "metadata": {},
     "output_type": "execute_result"
    }
   ],
   "source": [
    "Pstar = P.copy()\n",
    "pT = list()\n",
    "pT.append(Pstar[0,0])\n",
    "for t in range(10000):\n",
    "    Pstar = Pstar@P\n",
    "    pT.append(Pstar[0,0])    \n",
    "np.array(pT).cumsum()"
   ]
  },
  {
   "cell_type": "markdown",
   "id": "c9e6f67a-22d1-4cd6-acf1-9e32c86ac045",
   "metadata": {},
   "source": [
    "`-` 결론: \n",
    "    \n",
    "- 경우1: $p>1/2$ $\\Rightarrow$ $\\sum_{t=0}^{\\infty} p_{ii}^{(t)}<\\infty$ $\\overset{def}{\\Leftrightarrow}$ transient\n",
    "- 경우2: $p<1/2$ $\\Rightarrow$ $\\sum_{t=0}^{\\infty}p_{ii}^{(t)}=\\infty$ with $p_{ii}^{(t)} \\rightarrow c$, $c>0$ $\\overset{def}{\\Leftrightarrow}$ positive recurrent\n",
    "- 경우3: $p=1/2$ $\\Rightarrow$ $\\sum_{t=0}^{\\infty} p_{ii}^{(t)}=\\infty$ with $p_{ii}^{(t)} \\rightarrow 0$ $\\overset{def}{\\Leftrightarrow}$ null recurrent "
   ]
  },
  {
   "cell_type": "markdown",
   "id": "6769d325-454d-479d-888f-bf2db1c5f836",
   "metadata": {},
   "source": [
    "`-` 시각화"
   ]
  },
  {
   "cell_type": "code",
   "execution_count": 154,
   "id": "53451ee9-4887-4b35-84d7-78d773575193",
   "metadata": {},
   "outputs": [],
   "source": [
    "def calculate_pT(p): \n",
    "    _P1 = np.array([[i-j == 1 for i in range(1000)] for j in range(1000)])*p\n",
    "    _P2 = np.array([[j-i == 1 for i in range(1000)] for j in range(1000)])*(1-p)\n",
    "    P = _P1+_P2\n",
    "    P[0,0]= 1-p \n",
    "    \n",
    "    Pstar = P.copy()\n",
    "    pT = list()\n",
    "    pT.append(Pstar[0,0])\n",
    "    for t in range(1000):\n",
    "        Pstar = Pstar@P\n",
    "        pT.append(Pstar[0,0])    \n",
    "    return np.array(pT)"
   ]
  },
  {
   "cell_type": "code",
   "execution_count": 173,
   "id": "7ff2d9bc-100f-43cf-bb10-cb59a7295d75",
   "metadata": {},
   "outputs": [],
   "source": [
    "case1 = calculate_pT(0.6)\n",
    "case2 = calculate_pT(0.4)\n",
    "case3 = calculate_pT(0.5)"
   ]
  },
  {
   "cell_type": "code",
   "execution_count": 182,
   "id": "5880308e-40b7-42f6-81a4-59e1c11d7a99",
   "metadata": {},
   "outputs": [
    {
     "data": {
      "text/plain": [
       "<matplotlib.legend.Legend at 0x7f5e2e7bfd00>"
      ]
     },
     "execution_count": 182,
     "metadata": {},
     "output_type": "execute_result"
    },
    {
     "data": {
      "image/png": "[encoded data removed]",
      "text/plain": [
       "<Figure size 432x288 with 1 Axes>"
      ]
     },
     "metadata": {
      "needs_background": "light"
     },
     "output_type": "display_data"
    }
   ],
   "source": [
    "plt.plot(case1.cumsum(),label=r'$p=0.6$, transient', color='C0')\n",
    "plt.plot(case2.cumsum(),label=r'$p=0.4$, positive recurrent', color='C1')\n",
    "plt.plot(case3.cumsum(),label=r'$p=0.5$, null recurrent', color='C2')\n",
    "plt.legend()"
   ]
  },
  {
   "cell_type": "markdown",
   "id": "ee3379a1-1d44-40f8-b55d-cca7991100fe",
   "metadata": {},
   "source": [
    "## PR, NR, TR"
   ]
  },
  {
   "cell_type": "markdown",
   "id": "77d8a012-8f1d-4920-a5d0-fec7583fbd00",
   "metadata": {},
   "source": [
    "`-` 기호정의:"
   ]
  },
  {
   "cell_type": "markdown",
   "id": "b933cdae-5603-4a20-9fb7-f6ee6d7d4bf2",
   "metadata": {},
   "source": [
    "`-` **가짜정의**: $\\{X_t\\}$가 상태공간 $E$에서 정의된 HMC 라고 하자. 상태 $i$에 대한 ***return time*** $T_i$는 마을 $i$에 있던 나그네가 다시 마을 $i$로 돌아오는 시간이라고 하자. \n",
    "\n",
    "> 나그네는 마을을 랜덤으로 이동하므로 $T_i$는 랜덤변수가 된다. 즉 $E(T_i)$를 고려할 수 있다는 의미 "
   ]
  },
  {
   "cell_type": "markdown",
   "id": "e50bfa39-c807-43ce-8d6d-82b0d03f9e61",
   "metadata": {},
   "source": [
    "`-` **정의**: $\\{X_t\\}$가 상태공간 $E$에서 정의된 HMC 라고 하자. $T_i$를 상태 $i \\in E$에 대한 ***return time*** 이라고 하자. 만약에 상태 $i \\in E$ 가 아래의 식을 만족한다면\n",
    "\n",
    "$$\\mathbb{P}_i(T_i<\\infty)=1$$\n",
    "\n",
    "$i$는 recurrent 하다고 표현하고, 그렇지 않으면 $i$는 transient 하다고 표현한다. 만약에 recurrent state $i$가 아래식을 만족한다면 \n",
    "\n",
    "$$\\mathbb{E}_i[T_i] < \\infty$$ \n",
    "\n",
    "state $i$를 positive recurrent 라고 하고 그렇지 않으면 null recurrent 라고 한다. "
   ]
  },
  {
   "cell_type": "markdown",
   "id": "fbea3ab5-4962-4581-8ccc-2e5c0e14b142",
   "metadata": {},
   "source": [
    "`-` **이론**: HMC $\\{X_t\\}$가 IRR 이라면 모든 $i$는 같은 ***nature*** 를 가진다. 즉 $\\{X_t\\}$가 IRR 이면 아래중의 하나이다. \n",
    "\n",
    "1. 모든 상태가 transient 하다. \n",
    "2. 모든 상태가 null recurrent 하다. \n",
    "3. 모든 상태가 positive recurrent 하다. "
   ]
  },
  {
   "cell_type": "markdown",
   "id": "0326fd11-a910-4aec-a450-cfe9f736dab3",
   "metadata": {},
   "source": [
    "`-` **정의:** HMC $\\{X_t\\}$가 (1) IRR (2) PR (3) AP 조건을 만족한다면 $\\{X_t\\}$를 에르고딕 마코프체인이라고 부른다. "
   ]
  },
  {
   "cell_type": "markdown",
   "id": "fd997c6b-fa43-4526-bf6d-a6b04c1db53e",
   "metadata": {},
   "source": [
    "`-` Overview \n",
    "\n",
    "- 결국 우리가 FINITE 인 경우 얻어냈던 나이스케이스는 (1) IRR (2) PR (3) AP 조건이다. \n",
    "- IRR은 있으나 마나 한 조건이라서 사실상 (2) PR 과 (3) AP 를 만족하면된다. \n",
    "- AP가 만족하는 경우는 극한분포가 유일하게 존재한다. (극한분포는 정의상 유일함) \n",
    "- PR이 성립하는 경우는 정상분포가 유일하게 존재한다. 그리고 에르고딕 정리가 성립한다. "
   ]
  },
  {
   "cell_type": "markdown",
   "id": "7573ad86-f9f1-4fe7-a871-a2a9b7d1caae",
   "metadata": {},
   "source": [
    "# aperiodic "
   ]
  },
  {
   "cell_type": "markdown",
   "id": "a47c9a8e-6ed7-49da-8fe1-e2e7be194620",
   "metadata": {},
   "source": [
    "## 예제3: 8wk-1, 예시3 "
   ]
  },
  {
   "cell_type": "markdown",
   "id": "04817307-63de-4ced-8c6c-66e21c6a6cd7",
   "metadata": {},
   "source": [
    "EX: $\\{X_t\\}$를 아래와 같은 transition matrix를 가지는 HMC라고 하자."
   ]
  },
  {
   "cell_type": "code",
   "execution_count": 185,
   "id": "172ce922-0fa2-4362-93b3-a49bd811e2e0",
   "metadata": {},
   "outputs": [
    {
     "data": {
      "text/plain": [
       "array([[1.  , 0.  ],\n",
       "       [0.05, 0.95]])"
      ]
     },
     "execution_count": 185,
     "metadata": {},
     "output_type": "execute_result"
    }
   ],
   "source": [
    "P = np.array([[1.0, 0.0],\n",
    "              [0.05,0.95]])\n",
    "P"
   ]
  },
  {
   "cell_type": "markdown",
   "id": "df404091-e9a9-4039-ba2d-7fce86a599e6",
   "metadata": {},
   "source": [
    "`-` 관찰1: 상태0으로 결국 가게 되어있다. "
   ]
  },
  {
   "cell_type": "markdown",
   "id": "35f3799d-ce4c-478d-ba6f-012372822151",
   "metadata": {},
   "source": [
    "`-` 관찰2: 상태1에는 일시적으로 머문다. 상태0에는 반복적으로 방문한다. "
   ]
  },
  {
   "cell_type": "markdown",
   "id": "a8a7e0b9-7584-401e-a7fd-c7f98be379e6",
   "metadata": {},
   "source": [
    "`-` 주기??\n",
    "\n",
    "- 상태0의 주기는 1이라고 할 수 있다. \n",
    "- 상태1의 주기는? 무한대? "
   ]
  },
  {
   "cell_type": "markdown",
   "id": "4eb4b0b4-9ab5-4fa3-a6c0-df50030e628d",
   "metadata": {},
   "source": [
    "`-` 이 마코프체인은 AP인가? \n",
    "\n",
    "- 질문이 틀림. \n",
    "- 주기라는 개념은 recurrent state인 경우에만 정의한다. "
   ]
  },
  {
   "cell_type": "markdown",
   "id": "e40711c3-ad58-4cd6-a082-94d5bc489882",
   "metadata": {},
   "source": [
    "## AP의 정의 "
   ]
  },
  {
   "cell_type": "markdown",
   "id": "d1139cbf-e737-4644-9303-665793863cbb",
   "metadata": {},
   "source": [
    "`-` **정의**: $\\{X_t\\}$가 상태공간 $E$에서 정의된 HMC 라고 하자. Recurrnet state $i \\in E$ 에 대하여 아래와 같은 집합 $I_i$ 를 생각하자. \n",
    "\n",
    "$$I_i = \\{t: p_{ii}^{(t)}>0,~t \\geq 1 \\}$$\n",
    "\n",
    "그렇다면 $i$의 주기는 $I_i$의 모든 원소들의 최대공약수로 정의한다. "
   ]
  },
  {
   "cell_type": "markdown",
   "id": "9123c44a-acdb-40d9-b467-0227ad41bda7",
   "metadata": {},
   "source": [
    "`-` **이론**: $\\{X_t\\}$가 상태공간 $E$에서 정의된 HMC 라고 하자. $\\{X_t\\}$가 IRR & recurrent 라고 가정하자. 그러면 모든 상태는 같은 주기를 가진다. "
   ]
  },
  {
   "cell_type": "markdown",
   "id": "ad5643b3-4948-4133-85a6-9cbb1d56a554",
   "metadata": {},
   "source": [
    "`-` 예시1: 아래와 같은 전이확률을 고려하자. "
   ]
  },
  {
   "cell_type": "code",
   "execution_count": 187,
   "id": "3ead17db-cc64-4071-983d-f0b9ea94f70c",
   "metadata": {},
   "outputs": [
    {
     "data": {
      "text/plain": [
       "array([[0., 1., 0.],\n",
       "       [0., 0., 1.],\n",
       "       [1., 0., 0.]])"
      ]
     },
     "execution_count": 187,
     "metadata": {},
     "output_type": "execute_result"
    }
   ],
   "source": [
    "P = np.array([0.0, 1.0, 0.0,\n",
    "              0.0, 0.0, 1.0,\n",
    "              1.0, 0.0, 0.0]).reshape(3,3)\n",
    "P"
   ]
  },
  {
   "cell_type": "markdown",
   "id": "5e1ef601-5b05-441c-9771-721123fa304b",
   "metadata": {},
   "source": [
    "```{mermaid}\n",
    "flowchart LR\n",
    "  0 -->|1| 1\n",
    "  1 -->|1| 2\n",
    "  2 -->|1| 0\n",
    "```"
   ]
  },
  {
   "cell_type": "markdown",
   "id": "a4cc4774-5721-4869-a227-cb6514a397d0",
   "metadata": {},
   "source": [
    "모든 상태 $i$에 대하여 주기를 구하라. "
   ]
  },
  {
   "cell_type": "markdown",
   "id": "7723e583-03a7-496b-9a3b-789dd518cbe4",
   "metadata": {},
   "source": [
    "(해설) "
   ]
  },
  {
   "cell_type": "code",
   "execution_count": null,
   "id": "1169796c-3986-4731-85fb-168a3610f5a3",
   "metadata": {},
   "outputs": [],
   "source": []
  },
  {
   "cell_type": "markdown",
   "id": "94d4944f-b968-4728-ae02-2651da06bccb",
   "metadata": {},
   "source": [
    "### 예제2 "
   ]
  },
  {
   "cell_type": "markdown",
   "id": "7c529077-671d-470f-9a15-a17e7b86ec36",
   "metadata": {},
   "source": [
    "`-` 아래와 같은 전이확률을 고려하자. "
   ]
  },
  {
   "cell_type": "code",
   "execution_count": 44,
   "id": "ed16a267-aa64-45c0-99d1-a32379e02f8c",
   "metadata": {},
   "outputs": [
    {
     "data": {
      "text/plain": [
       "array([[0.        , 1.        , 0.        , 0.        ],\n",
       "       [0.        , 0.        , 0.        , 1.        ],\n",
       "       [0.        , 1.        , 0.        , 0.        ],\n",
       "       [0.33333333, 0.        , 0.66666667, 0.        ]])"
      ]
     },
     "execution_count": 44,
     "metadata": {},
     "output_type": "execute_result"
    }
   ],
   "source": [
    "P = np.array([0.0, 1.0, 0.0, 0.0,\n",
    "              0.0, 0.0, 0.0, 1.0,\n",
    "              0.0, 1.0, 0.0, 0.0,\n",
    "              1/3, 0.0, 2/3, 0.0]).reshape(4,4)\n",
    "P"
   ]
  },
  {
   "cell_type": "markdown",
   "id": "73048f6e-32a3-4ce7-8f83-8c2f62143dd0",
   "metadata": {},
   "source": [
    "```{mermaid}\n",
    "flowchart LR\n",
    "  0 -->|1| 1\n",
    "  1 -->|1| 3\n",
    "  2 -->|1| 1\n",
    "  3 -->|1/3| 0 \n",
    "  3 -->|2/3| 2\n",
    "```"
   ]
  },
  {
   "cell_type": "markdown",
   "id": "f42f93fe-df4b-4695-94b6-e3018332160a",
   "metadata": {},
   "source": [
    "모든 상태 $i$에 대하여 주기를 구하라. "
   ]
  },
  {
   "cell_type": "markdown",
   "id": "efca6d2d-ed93-409a-adcc-2e3ebb025fc7",
   "metadata": {},
   "source": [
    "(해설) "
   ]
  },
  {
   "cell_type": "code",
   "execution_count": null,
   "id": "6c449119-9b92-48ea-ba7c-3aef678b07d5",
   "metadata": {},
   "outputs": [],
   "source": []
  },
  {
   "cell_type": "code",
   "execution_count": null,
   "id": "b20672c5-02e2-450a-af33-ee134c0c08db",
   "metadata": {},
   "outputs": [],
   "source": []
  },
  {
   "cell_type": "code",
   "execution_count": null,
   "id": "f3620a90-90af-41bf-8251-3a68799f50e4",
   "metadata": {},
   "outputs": [],
   "source": []
  }
 ],
 "metadata": {
  "kernelspec": {
   "display_name": "Python 3",
   "language": "python",
   "name": "python3"
  },
  "language_info": {
   "codemirror_mode": {
    "name": "ipython",
    "version": 3
   },
   "file_extension": ".py",
   "mimetype": "text/x-python",
   "name": "python",
   "nbconvert_exporter": "python",
   "pygments_lexer": "ipython3",
   "version": "3.8.16"
  }
 },
 "nbformat": 4,
 "nbformat_minor": 5
}
