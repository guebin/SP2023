{
 "cells": [
  {
   "cell_type": "markdown",
   "id": "7025e318-fe89-4cc4-beaa-a8163397be11",
   "metadata": {},
   "source": [
    "# aperiodic "
   ]
  },
  {
   "cell_type": "markdown",
   "id": "884dcb5c-9224-40a9-9050-d0b9996a6789",
   "metadata": {
    "tags": []
   },
   "source": [
    "### 예제5"
   ]
  },
  {
   "cell_type": "markdown",
   "id": "3990319c-e654-4e48-9008-f1ff2d312a69",
   "metadata": {},
   "source": [
    "`-` 아래의 전이확률을 고려하자. "
   ]
  },
  {
   "cell_type": "code",
   "execution_count": 31,
   "id": "f915a4d8-fb6f-4f13-ac56-fb0eebaa7cc4",
   "metadata": {},
   "outputs": [
    {
     "data": {
      "text/plain": [
       "array([[0. , 1. , 0. , 0. ],\n",
       "       [0.5, 0. , 0.5, 0. ],\n",
       "       [0. , 0. , 0. , 1. ],\n",
       "       [0. , 1. , 0. , 0. ]])"
      ]
     },
     "execution_count": 31,
     "metadata": {},
     "output_type": "execute_result"
    }
   ],
   "source": [
    "P =np.array([0.0, 1.0, 0.0, 0.0, \n",
    "             1/2, 0.0, 1/2, 0.0,\n",
    "             0.0, 0.0, 0.0, 1.0,\n",
    "             0.0, 1.0, 0.0, 0.0]).reshape(4,4)\n",
    "P"
   ]
  },
  {
   "cell_type": "markdown",
   "id": "c588a0ee-59a0-4aa6-b8f8-96047ecfb1cc",
   "metadata": {},
   "source": [
    "`-` 다이어그램 "
   ]
  },
  {
   "cell_type": "markdown",
   "id": "36fbd058-9838-42d5-b653-5d5640a3e23d",
   "metadata": {},
   "source": [
    "```{mermaid}\n",
    "flowchart LR\n",
    "  0 -->|1| 1\n",
    "  1 -->|1/2| 0\n",
    "  1 -->|1/2| 2\n",
    "  2 -->|1| 3\n",
    "  3 -->|1| 1\n",
    "```"
   ]
  },
  {
   "cell_type": "markdown",
   "id": "e75f4e01-74c5-47fd-b195-67bd919b6d61",
   "metadata": {},
   "source": [
    "`-` 특징1,2: "
   ]
  },
  {
   "cell_type": "markdown",
   "id": "9a36cb73-f79e-4d26-93bd-613603f7771d",
   "metadata": {},
   "source": [
    "`-` 특징3: 정상분포를 가짐"
   ]
  },
  {
   "cell_type": "markdown",
   "id": "7c0b6189-2941-45a6-85e6-cc204ad6c44a",
   "metadata": {},
   "source": [
    "`-` 특징4: 초기분포가 정상분포라면 정상확률과정"
   ]
  },
  {
   "cell_type": "markdown",
   "id": "cff39caa-99e8-4c89-87a9-48e871d3c2b5",
   "metadata": {},
   "source": [
    "`-` 특징5: irr"
   ]
  },
  {
   "cell_type": "markdown",
   "id": "c7686759-c3c5-4b15-ac28-496d909706db",
   "metadata": {},
   "source": [
    "`-` 특징6: 주기가 없음 "
   ]
  },
  {
   "cell_type": "markdown",
   "id": "f7c5dc77-5f5e-47d5-b1f6-bee781d1eb83",
   "metadata": {},
   "source": [
    "```{mermaid}\n",
    "flowchart LR\n",
    "  0 -->|1| 1\n",
    "  1 -->|1/2| 0\n",
    "  1 -->|1/2| 2\n",
    "  2 -->|1| 3\n",
    "  3 -->|1| 1\n",
    "```"
   ]
  },
  {
   "attachments": {
    "7c354ba6-56a6-4b8e-91f8-940bd357174d.png": {
     "image/png": "[encoded data removed]"
    }
   },
   "cell_type": "markdown",
   "id": "f13246b4-7b43-4167-8d39-bc3478a56b9a",
   "metadata": {},
   "source": [
    "![image.png](attachment:7c354ba6-56a6-4b8e-91f8-940bd357174d.png)"
   ]
  },
  {
   "cell_type": "markdown",
   "id": "fee2573c-0cdc-4a9f-b5c3-62b8983c7573",
   "metadata": {},
   "source": [
    "**1에서 시작한다면?**"
   ]
  },
  {
   "cell_type": "markdown",
   "id": "e1f5be82-b942-4dc5-9ccd-1a269f2992be",
   "metadata": {},
   "source": [
    "- $1 \\to 0 \\to 1$, 2번만에 리턴\n",
    "- $1 \\to 2 \\to 3 \\to 1$, 3번만에 리턴 "
   ]
  },
  {
   "cell_type": "markdown",
   "id": "0659f431-109f-4485-b595-57bb2fe57342",
   "metadata": {},
   "source": [
    "이 경우 2와 3의 최대공약수는 1이므로 주기는 1이다. "
   ]
  },
  {
   "cell_type": "markdown",
   "id": "94a0dac5-2953-4f1a-819a-bbdd6e9491a2",
   "metadata": {},
   "source": [
    "> 주기가 1인 경우는 aperiodic 하다고 표현한다. (언제 올지 몰라)"
   ]
  },
  {
   "cell_type": "markdown",
   "id": "a5742a42-0037-4510-9e75-03e0fef6cf9a",
   "metadata": {},
   "source": [
    "> 꿀팁: 자기자신으로 되돌아올 확률이 있다면 항상 aperiodic 하다."
   ]
  },
  {
   "cell_type": "markdown",
   "id": "384c9d01-3c85-4583-9e61-ad73385795a1",
   "metadata": {},
   "source": [
    "## 정의 및 이론 "
   ]
  },
  {
   "cell_type": "markdown",
   "id": "6c91afa1-0522-4de0-abb6-e68c3ea7fbdb",
   "metadata": {},
   "source": [
    "`-` 정의"
   ]
  },
  {
   "cell_type": "markdown",
   "id": "e5fee957-4dee-469d-84e2-b49ef71f07e1",
   "metadata": {},
   "source": [
    "`-` 느낌 "
   ]
  },
  {
   "cell_type": "markdown",
   "id": "7e979549-df26-4e19-9f44-1a7afece4b9f",
   "metadata": {},
   "source": [
    "`-` **이론**: $\\{X_t\\}$가 finte state HMC 이면, 모든 상태가 항상 같은 주기를 가진다. "
   ]
  },
  {
   "cell_type": "markdown",
   "id": "4a8726eb-d0d4-4052-80f7-4daad5acac3b",
   "metadata": {},
   "source": [
    "# 에르고딕 마코프체인"
   ]
  },
  {
   "cell_type": "markdown",
   "id": "64a6005b-7e54-46b5-bd7a-3e8dcdba4b2b",
   "metadata": {},
   "source": [
    "## 정의 및 이론"
   ]
  },
  {
   "cell_type": "markdown",
   "id": "af54d337-5d25-4f78-82b5-a074a89b789e",
   "metadata": {},
   "source": [
    "`-` **Thm**: HMC $\\{X_t\\}$가 (1) finite state space를 가지고 (2) irreduciable 하고 (3) aperiodic 이라면, ${\\bf P}$가 수렴하고 수렴한 matrix의 모든 row는 같다. 따라서 임의의 초기분포 ${\\boldsymbol \\mu}$ 에 대하여 \n",
    "\n",
    "$$\\lim_{t\\to \\infty}{\\boldsymbol \\mu}^\\top{\\bf P}^t = {\\boldsymbol \\pi}^\\top $$\n",
    "\n",
    "이 성립한다. 여기에서 ${\\boldsymbol \\pi}$는 $\\{X_t\\}$의 정상분포이다. "
   ]
  },
  {
   "cell_type": "markdown",
   "id": "3af07800-fd3c-48c5-a929-9d4e540d5503",
   "metadata": {},
   "source": [
    "`-` 정의: 아래의 식을 만족하는 HMC $\\{X_t\\}$을 에르고딕하다고 말한다. \n",
    "\n",
    "$$\\lim_{t\\to \\infty}{\\boldsymbol \\mu}^\\top{\\bf P}^t = {\\boldsymbol \\pi}^\\top $$"
   ]
  }
 ],
 "metadata": {
  "kernelspec": {
   "display_name": "Python 3",
   "language": "python",
   "name": "python3"
  },
  "language_info": {
   "codemirror_mode": {
    "name": "ipython",
    "version": 3
   },
   "file_extension": ".py",
   "mimetype": "text/x-python",
   "name": "python",
   "nbconvert_exporter": "python",
   "pygments_lexer": "ipython3",
   "version": "3.8.16"
  }
 },
 "nbformat": 4,
 "nbformat_minor": 5
}
