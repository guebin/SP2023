{
 "cells": [
  {
   "cell_type": "markdown",
   "id": "d9948238-c609-4658-8e76-4b92ff4eefa9",
   "metadata": {},
   "source": [
    "# Transient "
   ]
  },
  {
   "cell_type": "markdown",
   "id": "e3bffe89-a4ed-411b-b473-ec27380b9e33",
   "metadata": {},
   "source": [
    "`-` 나그네 (박목월)\n",
    "\n",
    "```\n",
    "강나루 건너서\n",
    "밀밭 길을\n",
    "\n",
    "구름에 달 가듯이\n",
    "가는 나그네\n",
    "\n",
    "길은 외줄기\n",
    "南道 삼백리\n",
    "\n",
    "술 익는 마을마다\n",
    "타는 저녁놀\n",
    "\n",
    "구름에 달 가듯이\n",
    "가는 나그네\n",
    "```"
   ]
  },
  {
   "cell_type": "markdown",
   "id": "62d7a753-721a-4fd1-bdeb-2725e3f56be8",
   "metadata": {},
   "source": [
    "`-` 나그네 \n",
    "\n",
    "- 정착 X \n",
    "- 모든 장소에 일시적(transient)으로만 머뭄 "
   ]
  },
  {
   "cell_type": "markdown",
   "id": "4873e57f-6356-4812-966c-68ac1f23813a",
   "metadata": {},
   "source": [
    "# 오른쪽으로만 가는 예제 "
   ]
  },
  {
   "cell_type": "markdown",
   "id": "65c0526f-9b16-4d4c-82c6-32e4655c3cc0",
   "metadata": {},
   "source": [
    "`-` 나이스케이스: ${\\bf p}_{\\star}^\\top = {\\boldsymbol \\pi}^\\top$"
   ]
  },
  {
   "cell_type": "markdown",
   "id": "807a94d7-8359-4eae-99e2-16848b60f7fc",
   "metadata": {},
   "source": [
    "`-` 불쾌했던 느낌: \n",
    "\n",
    "- 특정상태 $i\\in E$에 한번 오면, 다시 돌아오지 않음. \n",
    "- 상태 $i$에 일시적(transient)으로 머무는 느낌. 거의 나그네 수준임. "
   ]
  },
  {
   "cell_type": "markdown",
   "id": "c2bb7062-4d61-42f1-a14e-cf246788cdd9",
   "metadata": {},
   "source": [
    "`-` FIN한 케이스에서 안 불쾌했던 이유 \n",
    "\n",
    "- 뭔가 반복적으로 돌아오는 느낌이 있었음 "
   ]
  },
  {
   "cell_type": "markdown",
   "id": "dafbda2b-086a-4142-9303-885054c58870",
   "metadata": {},
   "source": [
    "# RC, TR"
   ]
  },
  {
   "cell_type": "markdown",
   "id": "372eb684-b67d-45f9-973b-7e239df29100",
   "metadata": {},
   "source": [
    "$T_y$"
   ]
  },
  {
   "cell_type": "markdown",
   "id": "b7fa52f1-5c21-456d-8736-49e87a2c88ab",
   "metadata": {},
   "source": [
    "`-` finite closed and irreducible $\\Rightarrow$ recurrent "
   ]
  },
  {
   "cell_type": "markdown",
   "id": "7a12091c-e6e4-462a-b652-ea2ed0ac6b80",
   "metadata": {},
   "source": [
    "`-` 상태의 분류 "
   ]
  },
  {
   "cell_type": "markdown",
   "id": "1b237967-9939-4e16-9f0f-eeed108fbcbe",
   "metadata": {},
   "source": [
    "# 정상분포 "
   ]
  },
  {
   "cell_type": "markdown",
   "id": "44dd1854-ab0e-4add-bea1-99508940e933",
   "metadata": {},
   "source": [
    "`-` IRR, RC $\\Rightarrow$ 정상분포가 존재 // 유일하지 않을 수 있다. "
   ]
  },
  {
   "cell_type": "markdown",
   "id": "06b55c67-265e-4f1c-a660-71e30c225d4e",
   "metadata": {},
   "source": [
    "`-` IRR, PRC $\\Rightarrow$ 정상분포가 유일하게 존재?"
   ]
  },
  {
   "cell_type": "markdown",
   "id": "77b22436-2104-40dd-be6f-200abbebdd1a",
   "metadata": {},
   "source": [
    "# 정상분포 쉽게 찍는 방법 "
   ]
  },
  {
   "cell_type": "markdown",
   "id": "67dbb410-b0a8-4539-91fa-c4af33424c94",
   "metadata": {},
   "source": [
    "`-` 더블스토캐스틱 "
   ]
  },
  {
   "cell_type": "markdown",
   "id": "e0ad0a23-7aa2-4715-b01b-0aff5473f78d",
   "metadata": {},
   "source": [
    "`-` 디테일드밸런스 컨디션 "
   ]
  }
 ],
 "metadata": {
  "kernelspec": {
   "display_name": "Python 3",
   "language": "python",
   "name": "python3"
  },
  "language_info": {
   "codemirror_mode": {
    "name": "ipython",
    "version": 3
   },
   "file_extension": ".py",
   "mimetype": "text/x-python",
   "name": "python",
   "nbconvert_exporter": "python",
   "pygments_lexer": "ipython3",
   "version": "3.8.16"
  }
 },
 "nbformat": 4,
 "nbformat_minor": 5
}
