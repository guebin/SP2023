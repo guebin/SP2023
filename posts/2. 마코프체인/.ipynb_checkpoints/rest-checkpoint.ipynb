{
 "cells": [
  {
   "cell_type": "code",
   "execution_count": null,
   "id": "591ee8ad-1244-48a8-bd54-17b5f74fb9f5",
   "metadata": {},
   "outputs": [],
   "source": []
  },
  {
   "cell_type": "markdown",
   "id": "3c8f726a-adca-45ad-9a8a-5bc04f69d83b",
   "metadata": {},
   "source": [
    "## PR, NR, TR"
   ]
  },
  {
   "cell_type": "markdown",
   "id": "a0311c32-c0d8-4ab8-845c-91e9155ff663",
   "metadata": {},
   "source": [
    "`-` 기호정의:"
   ]
  },
  {
   "cell_type": "markdown",
   "id": "457e8e93-2f8d-423e-9ea2-72232e75153a",
   "metadata": {},
   "source": [
    "`-` **가짜정의**: $\\{X_t\\}$가 상태공간 $E$에서 정의된 HMC 라고 하자. 상태 $i$에 대한 ***return time*** $T_i$는 마을 $i$에 있던 나그네가 다시 마을 $i$로 돌아오는 시간이라고 하자. \n",
    "\n",
    "> 나그네는 마을을 랜덤으로 이동하므로 $T_i$는 랜덤변수가 된다. 즉 $E(T_i)$를 고려할 수 있다는 의미 "
   ]
  },
  {
   "cell_type": "markdown",
   "id": "3de9de9e-12dd-45a4-bc34-5ad68ec08bf6",
   "metadata": {},
   "source": [
    "`-` **정의**: $\\{X_t\\}$가 상태공간 $E$에서 정의된 HMC 라고 하자. $T_i$를 상태 $i \\in E$에 대한 ***return time*** 이라고 하자. 만약에 상태 $i \\in E$ 가 아래의 식을 만족한다면\n",
    "\n",
    "$$\\mathbb{P}_i(T_i<\\infty)=1$$\n",
    "\n",
    "$i$는 recurrent 하다고 표현하고, 그렇지 않으면 $i$는 transient 하다고 표현한다. 만약에 recurrent state $i$가 아래식을 만족한다면 \n",
    "\n",
    "$$\\mathbb{E}_i[T_i] < \\infty$$ \n",
    "\n",
    "state $i$를 positive recurrent 라고 하고 그렇지 않으면 null recurrent 라고 한다. "
   ]
  },
  {
   "cell_type": "markdown",
   "id": "331ff9f7-9c7b-43ba-ac67-4937723b3f1d",
   "metadata": {},
   "source": [
    "`-` **이론**: HMC $\\{X_t\\}$가 IRR 이라면 모든 $i$는 같은 ***nature*** 를 가진다. 즉 $\\{X_t\\}$가 IRR 이면 아래중의 하나이다. \n",
    "\n",
    "1. 모든 상태가 transient 하다. \n",
    "2. 모든 상태가 null recurrent 하다. \n",
    "3. 모든 상태가 positive recurrent 하다. "
   ]
  },
  {
   "cell_type": "markdown",
   "id": "bd0249a0-106e-4471-843e-7c1e58cfcdcd",
   "metadata": {},
   "source": [
    "`-` **정의:** HMC $\\{X_t\\}$가 (1) IRR (2) PR (3) AP 조건을 만족한다면 $\\{X_t\\}$를 에르고딕 마코프체인이라고 부른다. "
   ]
  },
  {
   "cell_type": "markdown",
   "id": "98c2bf53-9324-4b51-a478-a68fd5b3561a",
   "metadata": {},
   "source": [
    "`-` Overview \n",
    "\n",
    "- 결국 우리가 FINITE 인 경우 얻어냈던 나이스케이스는 (1) IRR (2) PR (3) AP 조건이다. \n",
    "- IRR은 있으나 마나 한 조건이라서 사실상 (2) PR 과 (3) AP 를 만족하면된다. \n",
    "- AP가 만족하는 경우는 극한분포가 유일하게 존재한다. (극한분포는 정의상 유일함) \n",
    "- PR이 성립하는 경우는 정상분포가 유일하게 존재한다. 그리고 에르고딕 정리가 성립한다. "
   ]
  },
  {
   "cell_type": "markdown",
   "id": "af7a3b12-5b84-47eb-88d1-6712f3623cfb",
   "metadata": {},
   "source": [
    "# aperiodic "
   ]
  },
  {
   "cell_type": "markdown",
   "id": "bbc1d989-3cd5-454e-aaa5-862f94688787",
   "metadata": {},
   "source": [
    "## 예제3: 8wk-1, 예시3 "
   ]
  },
  {
   "cell_type": "markdown",
   "id": "a884cb07-0c1e-4d6f-814b-7433c2b46a5e",
   "metadata": {},
   "source": [
    "EX: $\\{X_t\\}$를 아래와 같은 transition matrix를 가지는 HMC라고 하자."
   ]
  },
  {
   "cell_type": "code",
   "execution_count": null,
   "id": "8b8b486d-f863-425b-954d-ca6cdcd6292f",
   "metadata": {},
   "outputs": [
    {
     "data": {
      "text/plain": [
       "array([[1.  , 0.  ],\n",
       "       [0.05, 0.95]])"
      ]
     },
     "execution_count": 185,
     "metadata": {},
     "output_type": "execute_result"
    }
   ],
   "source": [
    "P = np.array([[1.0, 0.0],\n",
    "              [0.05,0.95]])\n",
    "P"
   ]
  },
  {
   "cell_type": "markdown",
   "id": "dfcbd334-b511-44ac-8f4a-0de9741f097b",
   "metadata": {},
   "source": [
    "`-` 관찰1: 상태0으로 결국 가게 되어있다. "
   ]
  },
  {
   "cell_type": "markdown",
   "id": "fa4c7998-0da8-4d6b-8c98-11479ef38eca",
   "metadata": {},
   "source": [
    "`-` 관찰2: 상태1에는 일시적으로 머문다. 상태0에는 반복적으로 방문한다. "
   ]
  },
  {
   "cell_type": "markdown",
   "id": "719a3f65-3d8d-4bbc-a050-e47028e19337",
   "metadata": {},
   "source": [
    "`-` 주기??\n",
    "\n",
    "- 상태0의 주기는 1이라고 할 수 있다. \n",
    "- 상태1의 주기는? 무한대? "
   ]
  },
  {
   "cell_type": "markdown",
   "id": "8509bbb7-4b32-457b-8ebd-88a82815c25d",
   "metadata": {},
   "source": [
    "`-` 이 마코프체인은 AP인가? \n",
    "\n",
    "- 질문이 틀림. \n",
    "- 주기라는 개념은 recurrent state인 경우에만 정의한다. "
   ]
  },
  {
   "cell_type": "markdown",
   "id": "66535947-64ef-4023-b67a-6b2c3ff40a14",
   "metadata": {},
   "source": [
    "## AP의 정의 "
   ]
  },
  {
   "cell_type": "markdown",
   "id": "295d35ba-9aff-4fb9-a8bf-470f4856603d",
   "metadata": {},
   "source": [
    "`-` **정의**: $\\{X_t\\}$가 상태공간 $E$에서 정의된 HMC 라고 하자. Recurrnet state $i \\in E$ 에 대하여 아래와 같은 집합 $I_i$ 를 생각하자. \n",
    "\n",
    "$$I_i = \\{t: p_{ii}^{(t)}>0,~t \\geq 1 \\}$$\n",
    "\n",
    "그렇다면 $i$의 주기는 $I_i$의 모든 원소들의 최대공약수로 정의한다. "
   ]
  },
  {
   "cell_type": "markdown",
   "id": "d8e46a3c-05c2-4a3a-9970-8eca1ebedd07",
   "metadata": {},
   "source": [
    "`-` **이론**: $\\{X_t\\}$가 상태공간 $E$에서 정의된 HMC 라고 하자. $\\{X_t\\}$가 IRR & recurrent 라고 가정하자. 그러면 모든 상태는 같은 주기를 가진다. "
   ]
  },
  {
   "cell_type": "markdown",
   "id": "14c2c675-1c5b-4eaa-b97b-ee9dc0b0782a",
   "metadata": {},
   "source": [
    "`-` 예시1: 아래와 같은 전이확률을 고려하자. "
   ]
  },
  {
   "cell_type": "code",
   "execution_count": null,
   "id": "20edcbd3-5598-43ea-a1c2-c59dc5f8f54f",
   "metadata": {},
   "outputs": [
    {
     "data": {
      "text/plain": [
       "array([[0., 1., 0.],\n",
       "       [0., 0., 1.],\n",
       "       [1., 0., 0.]])"
      ]
     },
     "execution_count": 187,
     "metadata": {},
     "output_type": "execute_result"
    }
   ],
   "source": [
    "P = np.array([0.0, 1.0, 0.0,\n",
    "              0.0, 0.0, 1.0,\n",
    "              1.0, 0.0, 0.0]).reshape(3,3)\n",
    "P"
   ]
  },
  {
   "cell_type": "markdown",
   "id": "8be1a67d-6264-4ee4-a96b-ebaa806f3090",
   "metadata": {},
   "source": [
    "```{mermaid}\n",
    "flowchart LR\n",
    "  0 -->|1| 1\n",
    "  1 -->|1| 2\n",
    "  2 -->|1| 0\n",
    "```"
   ]
  },
  {
   "cell_type": "markdown",
   "id": "6b2dd733-ed92-415e-b6d9-12c36f91d36b",
   "metadata": {},
   "source": [
    "모든 상태 $i$에 대하여 주기를 구하라. "
   ]
  },
  {
   "cell_type": "markdown",
   "id": "929132f8-f970-4590-bad6-c88b4b4efea4",
   "metadata": {},
   "source": [
    "(해설) "
   ]
  },
  {
   "cell_type": "code",
   "execution_count": null,
   "id": "65021a7f-9957-4ccd-8073-36b67be00b34",
   "metadata": {},
   "outputs": [],
   "source": []
  },
  {
   "cell_type": "markdown",
   "id": "a9869b4d-8070-4945-8f5f-60fba5eb7247",
   "metadata": {},
   "source": [
    "### 예제2 "
   ]
  },
  {
   "cell_type": "markdown",
   "id": "18e98cb9-5f60-45fa-8c75-bc283d68121a",
   "metadata": {},
   "source": [
    "`-` 아래와 같은 전이확률을 고려하자. "
   ]
  },
  {
   "cell_type": "code",
   "execution_count": null,
   "id": "a241cd0c-da34-4459-8940-63453504d373",
   "metadata": {},
   "outputs": [
    {
     "data": {
      "text/plain": [
       "array([[0.        , 1.        , 0.        , 0.        ],\n",
       "       [0.        , 0.        , 0.        , 1.        ],\n",
       "       [0.        , 1.        , 0.        , 0.        ],\n",
       "       [0.33333333, 0.        , 0.66666667, 0.        ]])"
      ]
     },
     "execution_count": 44,
     "metadata": {},
     "output_type": "execute_result"
    }
   ],
   "source": [
    "P = np.array([0.0, 1.0, 0.0, 0.0,\n",
    "              0.0, 0.0, 0.0, 1.0,\n",
    "              0.0, 1.0, 0.0, 0.0,\n",
    "              1/3, 0.0, 2/3, 0.0]).reshape(4,4)\n",
    "P"
   ]
  },
  {
   "cell_type": "markdown",
   "id": "7d642a28-00fc-417f-9e07-290246e70ab0",
   "metadata": {},
   "source": [
    "```{mermaid}\n",
    "flowchart LR\n",
    "  0 -->|1| 1\n",
    "  1 -->|1| 3\n",
    "  2 -->|1| 1\n",
    "  3 -->|1/3| 0 \n",
    "  3 -->|2/3| 2\n",
    "```"
   ]
  },
  {
   "cell_type": "markdown",
   "id": "d45b39a6-90c5-49f8-90f4-1468ee294cf2",
   "metadata": {},
   "source": [
    "모든 상태 $i$에 대하여 주기를 구하라. "
   ]
  },
  {
   "cell_type": "markdown",
   "id": "53412550-dae1-4f2c-a6a0-32452a24129d",
   "metadata": {},
   "source": [
    "(해설) "
   ]
  },
  {
   "cell_type": "code",
   "execution_count": null,
   "id": "ff582b73-ce97-4938-a56c-17a9cdaafbd7",
   "metadata": {},
   "outputs": [],
   "source": []
  },
  {
   "cell_type": "code",
   "execution_count": null,
   "id": "308a5386-abea-42d6-98ee-c3a02d860a4b",
   "metadata": {},
   "outputs": [],
   "source": []
  },
  {
   "cell_type": "code",
   "execution_count": null,
   "id": "676a4055-9721-413e-b39c-43bc608fa4ec",
   "metadata": {},
   "outputs": [],
   "source": []
  }
 ],
 "metadata": {
  "kernelspec": {
   "display_name": "Python 3",
   "language": "python",
   "name": "python3"
  },
  "language_info": {
   "codemirror_mode": {
    "name": "ipython",
    "version": 3
   },
   "file_extension": ".py",
   "mimetype": "text/x-python",
   "name": "python",
   "nbconvert_exporter": "python",
   "pygments_lexer": "ipython3",
   "version": "3.8.16"
  }
 },
 "nbformat": 4,
 "nbformat_minor": 5
}
