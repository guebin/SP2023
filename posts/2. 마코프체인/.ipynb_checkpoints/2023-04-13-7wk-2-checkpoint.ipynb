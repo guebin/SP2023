{
 "cells": [
  {
   "cell_type": "raw",
   "id": "26b1c5ed-177b-4362-b06b-ef23b9c83b2c",
   "metadata": {},
   "source": [
    "---\n",
    "title: \"7wk-2: 마코프체인 (3)\"\n",
    "author: \"최규빈\"\n",
    "date: \"04/13/2023\"\n",
    "---"
   ]
  },
  {
   "cell_type": "markdown",
   "id": "8bfaaf88-b98d-46ea-80f5-4a6a1703ff23",
   "metadata": {},
   "source": [
    "# import "
   ]
  },
  {
   "cell_type": "code",
   "execution_count": 26,
   "id": "e2cc083a-f412-4a78-854e-5bd57b3d0b1b",
   "metadata": {},
   "outputs": [],
   "source": [
    "import numpy as np"
   ]
  },
  {
   "cell_type": "markdown",
   "id": "bac8d824-e7a2-4e4c-9518-21fdbee214d2",
   "metadata": {},
   "source": [
    "# 날씨모형 리뷰 "
   ]
  },
  {
   "cell_type": "markdown",
   "id": "fcd60ec8-b511-4b11-8626-ec52d1d9844c",
   "metadata": {},
   "source": [
    "`-` 저번시간에 살펴본 날씨모형은 결국 아래와 같은 모형이었다. "
   ]
  },
  {
   "cell_type": "markdown",
   "id": "752e5173-7b94-4c04-990f-0bf155370385",
   "metadata": {},
   "source": [
    "$$\\begin{bmatrix}\n",
    "P(X_t=0) \\\\\n",
    "P(X_t=1)\n",
    "\\end{bmatrix}= \\begin{bmatrix} 0.4 & 0.7 \\\\ 0.6 & 0.3 \\end{bmatrix} \\begin{bmatrix}\n",
    "P(X_{t-1}=0) \\\\\n",
    "P(X_{t-1}=1)\n",
    "\\end{bmatrix}$$\n",
    "\n",
    "양변에 트랜스포즈를 취하게 되면 \n",
    "\n",
    "$$\\begin{bmatrix}\n",
    "P(X_t=0) &\n",
    "P(X_t=1)\n",
    "\\end{bmatrix}= \\begin{bmatrix}\n",
    "P(X_{t-1}=0) &\n",
    "P(X_{t-1}=1)\n",
    "\\end{bmatrix}\\begin{bmatrix} 0.4 & 0.6 \\\\ 0.7 & 0.3 \\end{bmatrix} $$\n"
   ]
  },
  {
   "cell_type": "markdown",
   "id": "8605e0b0-dfce-4fd6-ab49-1dd6ae07c49a",
   "metadata": {},
   "source": [
    "수식화하면 아래와 같이 된다. (보통 이러한 형태로 책에 많이 쓰니까 이 형태로 외울것!)"
   ]
  },
  {
   "cell_type": "markdown",
   "id": "adbaa741-53f3-406b-8632-464080c488e8",
   "metadata": {},
   "source": [
    "$${\\boldsymbol \\mu}_t^\\top ={\\boldsymbol \\mu}_{t-1}^\\top {\\bf P}$$"
   ]
  },
  {
   "cell_type": "markdown",
   "id": "0621d436-16db-43c3-9065-2b871d09677a",
   "metadata": {},
   "source": [
    "`-` 용어정리 \n",
    "\n",
    "- 상태공간: $S=\\{0,1\\}$ \n",
    "- 확률과정^[무한차원 확률벡터]: $X_1,X_2,\\dots = \\{X_t\\}$\n",
    "- transition probability: $\\forall t \\in \\mathbb{N}, \\forall i,j \\in S:~p^{(t-1,t)}_{ij} = P(X_{t}=j  |X_{t-1} = i)$\n",
    "- transition matrix: $\\forall t \\in \\mathbb{N}:~ {\\bf P}(t-1,t)$ \n",
    "- "
   ]
  },
  {
   "cell_type": "code",
   "execution_count": null,
   "id": "786417e8-1b38-4573-bd6e-72340c43ffb5",
   "metadata": {},
   "outputs": [],
   "source": []
  }
 ],
 "metadata": {
  "kernelspec": {
   "display_name": "Python 3",
   "language": "python",
   "name": "python3"
  },
  "language_info": {
   "codemirror_mode": {
    "name": "ipython",
    "version": 3
   },
   "file_extension": ".py",
   "mimetype": "text/x-python",
   "name": "python",
   "nbconvert_exporter": "python",
   "pygments_lexer": "ipython3",
   "version": "3.8.16"
  }
 },
 "nbformat": 4,
 "nbformat_minor": 5
}
