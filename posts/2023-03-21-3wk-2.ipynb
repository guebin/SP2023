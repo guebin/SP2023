{
 "cells": [
  {
   "cell_type": "raw",
   "id": "ae4eac12-1827-418d-91a8-e64eecef3a9d",
   "metadata": {
    "slideshow": {
     "slide_type": "skip"
    }
   },
   "source": [
    "---\n",
    "title: \"3wk-2: 측도론 intro (4)\"\n",
    "author: \"최규빈\"\n",
    "date: \"03/21/2023\"\n",
    "---"
   ]
  },
  {
   "cell_type": "markdown",
   "id": "09978850-325d-4de1-bb84-4842f8bc4ec6",
   "metadata": {
    "slideshow": {
     "slide_type": "slide"
    }
   },
   "source": [
    "# 시그마필드 motivation "
   ]
  },
  {
   "cell_type": "markdown",
   "id": "b6f37bd9-7c3c-45b6-b07e-28e42c9a4ad4",
   "metadata": {
    "slideshow": {
     "slide_type": "slide"
    }
   },
   "source": [
    "`-` (지난시간요약) 바늘이 하나 있는 시계: $\\Omega$의 모든 부분집합에 대하여 확률을 (모순없이) 정의할 수 없음. \n",
    "\n",
    "- 몇 가지의 까다로운 질문들은 르벡측도라는 것으로 해결가능했음. $\\Leftrightarrow$ $\\Omega$의 대부분의 부분집합은 르벡측도로 \"길이\"라는 개념을 합리적으로 정의가능함. \n",
    "- 그런데 르벡측도로도 해결 불가능한 집합이 존재했음. $\\Leftrightarrow$ $\\Omega$의 부분집합중 르벡측도로 \"길이\"라는 개념을 합리적으로 정의할 수 없는 집합이 존재했음. "
   ]
  },
  {
   "cell_type": "markdown",
   "id": "091b23db-f26c-40c3-bc15-a66dc7dac4ed",
   "metadata": {
    "slideshow": {
     "slide_type": "slide"
    }
   },
   "source": [
    "`-` (앞으로 할 것) $\\Omega$의 부분집합 중 잴 수 있는 집합에 한정하여 확률을 정의하자. \n",
    "\n",
    "- $\\Omega$의 모든 부분집합을 고려하는 것이 아니라, $\\Omega$의 부분집합 중 확률을^[혹은 길이나 크기따위를] 잘 정의할 수 있을 것 같은 새로운 집합들의 묶음 ${\\cal F}$를 고려하자. \n",
    "- 그리고 그 묶음 ${\\cal F}$가 합리적인지 따져보자. "
   ]
  },
  {
   "cell_type": "markdown",
   "id": "5deda84e-dc20-4586-8822-0756bb71f173",
   "metadata": {
    "slideshow": {
     "slide_type": "slide"
    }
   },
   "source": [
    "**(예제1)** "
   ]
  },
  {
   "cell_type": "markdown",
   "id": "b871509e-7644-4231-a94d-cde4061c7bdf",
   "metadata": {
    "slideshow": {
     "slide_type": "fragment"
    }
   },
   "source": [
    "$\\Omega=\\{H,T\\}$라고 하자. 아래집합들은 모두 확률을 정의할 수 있는 집합들이다. \n",
    "\n",
    "$$\\emptyset, \\{H\\}, \\{T\\}, \\Omega$$ \n",
    "\n",
    "따라서 ${\\cal F}$을 아래와 같이 정의한다면 묶음 ${\\cal F}$가 합리적일 것이다. \n",
    "\n",
    "$${\\cal F}=\\big\\{\\emptyset, \\{H\\}, \\{T\\}, \\Omega\\big\\}$$ "
   ]
  },
  {
   "cell_type": "markdown",
   "id": "3a01f7cb-a974-4bb3-b7d2-748e4c811523",
   "metadata": {
    "slideshow": {
     "slide_type": "fragment"
    }
   },
   "source": [
    "> 이때 ${\\cal F}$는 집합들의 집합인데, 이러한 집합을 collection 이라고 한다. "
   ]
  },
  {
   "cell_type": "markdown",
   "id": "b06b0cd9-7889-4d5a-b9bc-c1f97dc34cd0",
   "metadata": {
    "slideshow": {
     "slide_type": "slide"
    }
   },
   "source": [
    "**(예제2)** "
   ]
  },
  {
   "cell_type": "markdown",
   "id": "b4336aec-78c7-4750-85bb-fad1ae299aaa",
   "metadata": {
    "slideshow": {
     "slide_type": "fragment"
    }
   },
   "source": [
    "$\\Omega=\\{H,T\\}$라고 하자. ${\\cal F}$을 아래와 같이 정의한다면 묶음 ${\\cal F}$는 합리적이지 않다. \n",
    "\n",
    "$${\\cal F}=\\big\\{\\emptyset, \\{H\\}, \\Omega\\big\\}$$ "
   ]
  },
  {
   "cell_type": "markdown",
   "id": "8c1033a8-473a-4f9d-8977-959c673ee6c8",
   "metadata": {
    "slideshow": {
     "slide_type": "fragment"
    }
   },
   "source": [
    "(해설1)"
   ]
  },
  {
   "cell_type": "markdown",
   "id": "79558133-fc92-4c48-9093-f341bf721cde",
   "metadata": {
    "slideshow": {
     "slide_type": "fragment"
    }
   },
   "source": [
    "이러한 묶음이 의미하는건 \"앞면이 나올 확률은 모순없이 정의할 수 있지만, 뒷면이 나오는 확률은 모순없이 정의하는게 불가능해~\" 라는 뜻이다. 그런데 뒷면이 나올 확률은 \"1-앞면이 나올 확률\" 로 모순없이 정의할 수 있으므로 \"앞면이 나올 확률이 모순없이 정의되면서\" 동시에 \"뒷면이 나올 확률이 모순없이 정의되지 않는\" 상황은 없다. "
   ]
  },
  {
   "cell_type": "markdown",
   "id": "7ca57313-f96d-44b9-9d0e-0de2e3087dab",
   "metadata": {
    "slideshow": {
     "slide_type": "slide"
    }
   },
   "source": [
    "(해설2)"
   ]
  },
  {
   "cell_type": "markdown",
   "id": "060bba05-c001-4539-bde7-89a9dbd32641",
   "metadata": {
    "slideshow": {
     "slide_type": "fragment"
    }
   },
   "source": [
    "$\\Omega$의 어떠한 부분집합 $A$에 확률이 모순없이 정의된다면 그 집합의 여집합인 $A^c$에 대하여서도 확률이 모순없이 정의되어야 한다. \n",
    "\n",
    "$\\Leftrightarrow$ $\\forall A \\subset {\\Omega}: ~ A \\in {\\cal F} \\Rightarrow A^c \\in {\\cal F}$"
   ]
  },
  {
   "cell_type": "markdown",
   "id": "ccc724cc-71c6-46bd-826c-8de9405795ad",
   "metadata": {
    "slideshow": {
     "slide_type": "slide"
    }
   },
   "source": [
    "**(예제3)** "
   ]
  },
  {
   "cell_type": "markdown",
   "id": "0c7ac5fb-0ebd-4666-85d3-6bdc90cde1b0",
   "metadata": {
    "slideshow": {
     "slide_type": "fragment"
    }
   },
   "source": [
    "$\\Omega=\\{H,T\\}$라고 하자. ${\\cal F}$를 아래와 같이 정의한다면 묶음 ${\\cal F}$는 합리적이지 않다. \n",
    "\n",
    "$${\\cal F}=\\big\\{ \\{H\\}, \\{T\\}, \\Omega\\big\\}$$ "
   ]
  },
  {
   "cell_type": "markdown",
   "id": "5799fbb9-2b91-48f2-b320-456ab7c4e4c9",
   "metadata": {
    "slideshow": {
     "slide_type": "fragment"
    }
   },
   "source": [
    "(해설)"
   ]
  },
  {
   "cell_type": "markdown",
   "id": "34e6c305-9b2b-470e-84ca-9e2b8f637887",
   "metadata": {
    "slideshow": {
     "slide_type": "fragment"
    }
   },
   "source": [
    "전체집합의 확률은 $P(\\Omega)=1$로 정의할 수 있다. 그런데 전체집합의 여집합인 공집합의 확률을 정의할 수 없는건 말이 안되므로 공집합은 $\\cal F$에 포함되어야 한다. "
   ]
  },
  {
   "cell_type": "markdown",
   "id": "514caae5-5af0-4bea-a35c-0f916eed3633",
   "metadata": {
    "slideshow": {
     "slide_type": "slide"
    }
   },
   "source": [
    "**(예제4)** "
   ]
  },
  {
   "cell_type": "markdown",
   "id": "0274f94b-3b75-4c3f-a7a3-2af235c652a3",
   "metadata": {
    "slideshow": {
     "slide_type": "fragment"
    }
   },
   "source": [
    "$\\Omega=\\{1,2,3,4,5,6\\}$이라고 하자. ${\\cal F}$을 아래와 같이 정의한다고 하자. 이러한 묶음은 ${\\cal F}$은 합리적이다. \n",
    "\n",
    "$${\\cal F}=\\text{all subset of $\\Omega$}= 2^\\Omega = \\big\\{ \\emptyset, \\{1\\}, \\{2\\}, \\dots, \\{6\\}, \\dots, \\{1,2,3,4,5\\} \\dots \\Omega\\big\\}$$ "
   ]
  },
  {
   "cell_type": "markdown",
   "id": "fdec324e-0b46-4006-8012-a5ecbd02ebc7",
   "metadata": {
    "slideshow": {
     "slide_type": "fragment"
    }
   },
   "source": [
    "(해설)"
   ]
  },
  {
   "cell_type": "markdown",
   "id": "77431be2-d9cf-4822-91d5-49783540588f",
   "metadata": {
    "slideshow": {
     "slide_type": "fragment"
    }
   },
   "source": [
    "$\\Omega$의 모든 부분집합에 대하여 확률을 모순없이 정의할 수 있다. 예를들면 \n",
    "\n",
    "- $P(\\Omega)=1$, $P(\\emptyset)=0$ \n",
    "- $P(\\{1\\})=\\frac{1}{6}$\n",
    "- $P(\\{1,2,4\\})=\\frac{3}{6}$\n",
    "- $P(\\{2,3,4,5,6\\})=\\frac{5}{6}$\n",
    "- $\\dots$\n",
    "\n",
    "이런식으로 정의할 수 있다. "
   ]
  },
  {
   "cell_type": "markdown",
   "id": "30115e45-748f-46fb-8a23-1a6277d75595",
   "metadata": {
    "slideshow": {
     "slide_type": "slide"
    }
   },
   "source": [
    "**(예제5)** "
   ]
  },
  {
   "cell_type": "markdown",
   "id": "a3147d45-2759-49a4-97b8-b881ee3473ae",
   "metadata": {
    "slideshow": {
     "slide_type": "fragment"
    }
   },
   "source": [
    "$\\Omega=\\{1,2,3,4,5,6\\}$이라고 하자. ${\\cal F}$을 아래와 같이 정의한다고 하자. 이러한 묶음 ${\\cal F}$는 합리적이다. \n",
    "\n",
    "$${\\cal F}=\\big\\{\\emptyset, \\{6\\}, \\{1,2,3,4,5\\},\\Omega \\big\\}$$ "
   ]
  },
  {
   "cell_type": "markdown",
   "id": "cdf3a6ac-2a3f-45c9-9e32-34d9c5b035d4",
   "metadata": {
    "slideshow": {
     "slide_type": "slide"
    }
   },
   "source": [
    "(해설) "
   ]
  },
  {
   "cell_type": "markdown",
   "id": "d08c13a2-7db2-4076-927f-2e747cb78c00",
   "metadata": {
    "slideshow": {
     "slide_type": "fragment"
    }
   },
   "source": [
    "어떠한 특수한 상황을 가정하자. 주사위를 던져야하는데 6이 나오면 살수 있고 6이 나오지 않으면 죽는다고 하자. 따라서 던지는 사람 입장에서는 주사위를 던져서 6이 나오는지 안나오는지만 관심있을 것이다. 이 사람의 머리속에서 순간적으로 떠오르는 확률들은 아래와 같다.^[공평한 주사위라고 하자..]\n",
    "\n",
    "- 살수있다 => 1/6 \n",
    "- 죽는다 => 5/6 \n",
    "- 살거나 죽는다 => 1 \n",
    "- 살지도 죽지도 않는다  => 0 \n",
    "\n",
    "이러한 확률은 합리적이다. 즉 아래의 집합들만 확률을 정의한다고 해도, 확률을 잘 정의할 수 있을 것 같다. \n",
    "\n",
    "$$\\emptyset, \\{6\\}, \\{1,2,3,4,5\\}, \\Omega$$"
   ]
  },
  {
   "cell_type": "markdown",
   "id": "aa00a738-0972-4e11-8aa6-f9160c50124c",
   "metadata": {
    "slideshow": {
     "slide_type": "slide"
    }
   },
   "source": [
    "**(예제6)** "
   ]
  },
  {
   "cell_type": "markdown",
   "id": "38615637-59c0-4868-97d1-eeaac9552258",
   "metadata": {
    "slideshow": {
     "slide_type": "fragment"
    }
   },
   "source": [
    "$\\Omega=\\{1,2,3,4,5,6\\}$이라고 하자. ${\\cal F}$을 아래와 같이 정의한다고 하자. 이러한 묶음 ${\\cal F}$는 합리적이다. \n",
    "\n",
    "$${\\cal F}=\\big\\{\\emptyset, \\{1,3,5\\}, \\{2,4,6\\},\\Omega \\big\\}$$ "
   ]
  },
  {
   "cell_type": "markdown",
   "id": "4362466e-789c-4671-8f81-07c0a0221e59",
   "metadata": {
    "slideshow": {
     "slide_type": "fragment"
    }
   },
   "source": [
    "(해설) "
   ]
  },
  {
   "cell_type": "markdown",
   "id": "06b0556a-1c84-4ab4-b12b-689e69b384e3",
   "metadata": {
    "slideshow": {
     "slide_type": "fragment"
    }
   },
   "source": [
    "전체사건을 \"주사위를 던져서 짝이 나오는 사건\", \"주사위를 던져서 홀이 나오는 사건\" 정도만 구분하겠다는 의미"
   ]
  },
  {
   "cell_type": "markdown",
   "id": "b08d4941-6cfc-44ff-be44-a9f6d616e9f8",
   "metadata": {
    "slideshow": {
     "slide_type": "slide"
    }
   },
   "source": [
    "**(예제7)** "
   ]
  },
  {
   "cell_type": "markdown",
   "id": "88b90099-74b2-43b9-8796-c92a6257b471",
   "metadata": {
    "slideshow": {
     "slide_type": "fragment"
    }
   },
   "source": [
    "$\\Omega=\\{1,2,3,4,5,6\\}$이라고 하자. ${\\cal F}$을 아래와 같이 정의한다고 하자. 이러한 묶음 ${\\cal F}$는 합리적이지 않다. \n",
    "\n",
    "$${\\cal F}=\\big\\{\\emptyset, \\{1,3,5\\}, \\Omega \\big\\}$$ "
   ]
  },
  {
   "cell_type": "markdown",
   "id": "7e635813-3318-4edb-bb0f-0c6222b6f4b5",
   "metadata": {
    "slideshow": {
     "slide_type": "fragment"
    }
   },
   "source": [
    "(해설) "
   ]
  },
  {
   "cell_type": "markdown",
   "id": "c6414d1e-4c6b-4e0d-8e71-56ddff7ebc66",
   "metadata": {
    "slideshow": {
     "slide_type": "fragment"
    }
   },
   "source": [
    "\"주사위를 던져서 홀수가 나올 사건\"에 대한 확률을 정의할 수 있는데, 짝수가 나올 사건에 대한 확률을 정의할 수 없다는건 말이 안되는 소리임. "
   ]
  },
  {
   "cell_type": "markdown",
   "id": "c0b09f2e-9121-42a8-b366-54d0d71b5e25",
   "metadata": {
    "slideshow": {
     "slide_type": "slide"
    }
   },
   "source": [
    "**(예제8)** "
   ]
  },
  {
   "cell_type": "markdown",
   "id": "8ee283ec-3d9e-4ee8-999c-39eb5d2c277e",
   "metadata": {
    "slideshow": {
     "slide_type": "fragment"
    }
   },
   "source": [
    "$\\Omega=\\{1,2,3,4,5,6\\}$이라고 하자. ${\\cal F}$을 아래와 같이 정의한다고 하자. 이러한 묶음 ${\\cal F}$는 합리적이다. \n",
    "\n",
    "$${\\cal F}=\\{\\emptyset, \\Omega \\}$$ "
   ]
  },
  {
   "cell_type": "markdown",
   "id": "4f5964e2-5742-4028-a84f-ace637c31e9f",
   "metadata": {
    "slideshow": {
     "slide_type": "fragment"
    }
   },
   "source": [
    "(해설) "
   ]
  },
  {
   "cell_type": "markdown",
   "id": "8b62208e-3641-4d49-a860-1aaf1edb7f39",
   "metadata": {
    "slideshow": {
     "slide_type": "fragment"
    }
   },
   "source": [
    "아예 이렇게 잡으면 모순이 일어나진 않음. (쓸모가 없겠지)"
   ]
  },
  {
   "cell_type": "markdown",
   "id": "b539f3f6-588f-4fa6-9002-cd8569c1f334",
   "metadata": {
    "slideshow": {
     "slide_type": "slide"
    }
   },
   "source": [
    "**(예제9)** "
   ]
  },
  {
   "cell_type": "markdown",
   "id": "15cbfed7-9ccb-4b2e-b1f8-3a2fe781a719",
   "metadata": {
    "slideshow": {
     "slide_type": "fragment"
    }
   },
   "source": [
    "$\\Omega=\\{1,2,3,4\\}$이라고 하자. 어떠한 필요에 따라서 1이 나올 확률과 2가 나올 확률에만 관심이 있고 나머지는 별로 관심이 없다고 하자. 그래서 ${\\cal F}$을 아래와 같이 정의했다고 하자. 이러한 묶음 ${\\cal F}$는 합리적이지 않다. \n",
    "\n",
    "$${\\cal F}=\\{\\emptyset, \\{1\\}, \\{2\\}, \\{2,3,4\\}, \\{1,3,4\\}, \\Omega \\}$$ "
   ]
  },
  {
   "cell_type": "markdown",
   "id": "8a4c07cd-e031-4b2d-9290-9b1d33bcc7b0",
   "metadata": {
    "slideshow": {
     "slide_type": "slide"
    }
   },
   "source": [
    "(해설1) "
   ]
  },
  {
   "cell_type": "markdown",
   "id": "c22e74a6-dd48-44f8-badf-6c27e1141a68",
   "metadata": {
    "slideshow": {
     "slide_type": "fragment"
    }
   },
   "source": [
    "${\\cal F}$은 전체집합과 공집합을 포함하고 여집합에 닫혀있으므로 언뜻 생각해보면 합리적인듯 보이지만 그렇지 않다. 왜냐하면 $\\{1,2\\}$이 빠졌기 때문이다. 1이 나올 확률 $P(\\{1\\})$와 2가 나올 확률 $P(\\{2\\})$를 각각 정의할 수 있는데, 1 또는 2가 나올 확률 $P(\\{1,2\\})$을 정의할 때 모순이 발생한다는 것은 합리적이지 못하다. 왜냐하면 $\\{1\\} \\cap \\{2\\} = \\emptyset$ 이므로 \n",
    "\n",
    "$$P(\\{1\\} \\cup \\{2\\})=P(\\{1\\}) + P(\\{2\\})$$\n",
    "\n",
    "와 같이 정의가능하기 때문이다. 따라서 집합이 아래와 같이 수정되어야 한다. \n",
    "\n",
    "$${\\cal F}=\\{\\emptyset, \\{1\\}, \\{2\\}, \\{2,3,4\\}, \\{1,3,4\\}, \\Omega, \\{1,2\\}, \\{3,4\\} \\}$$ "
   ]
  },
  {
   "cell_type": "markdown",
   "id": "133c504c-58e0-4bae-b35c-1b6f5ef55690",
   "metadata": {
    "slideshow": {
     "slide_type": "slide"
    }
   },
   "source": [
    "(해설2) "
   ]
  },
  {
   "cell_type": "markdown",
   "id": "241c2278-9844-4880-b4f6-52582af346e1",
   "metadata": {
    "slideshow": {
     "slide_type": "fragment"
    }
   },
   "source": [
    "생각해보니까 $\\{2\\}$는 $\\{2,3,4\\}$의 부분집합이다. 그런데 $P(\\{2\\})$와 $P(\\{2,3,4\\})$를 각각 정의할 수 있는데 \n",
    "\n",
    "$$P(\\{2,3,4\\} - \\{2\\}) = P(\\{3,4\\})$$ \n",
    "\n",
    "를 정의할 수 없는건 말이 안된다. 따라서 ${\\cal F}$를 아래와 같이 수정해야 한다. \n",
    "\n",
    "$${\\cal F}=\\{\\emptyset, \\{1\\}, \\{2\\}, \\{2,3,4\\}, \\{1,3,4\\}, \\Omega, \\{3,4\\}, \\{1,2\\} \\}$$ "
   ]
  },
  {
   "cell_type": "markdown",
   "id": "fe18ed03-65b4-45e4-8a3b-d6079a8c7e6a",
   "metadata": {
    "slideshow": {
     "slide_type": "slide"
    }
   },
   "source": [
    "(해설3) \n",
    "\n",
    "$\\Omega$의 어떠한 두 부분집합 $A$, $B$가 서로소라고 상상하자. 집합 $A$, $B$에 대한 확률이 각각 무모순으로 정의된다면, 집합 $A\\cup B$에 대한 확률도 무모순으로 정의되어야 한다. "
   ]
  },
  {
   "cell_type": "markdown",
   "id": "a6055d18-f20f-4b8c-9653-c31734bd7496",
   "metadata": {
    "slideshow": {
     "slide_type": "fragment"
    }
   },
   "source": [
    "$\\Leftrightarrow$ $\\forall A,B \\subset \\Omega$ such that $A \\cap B =\\emptyset$: $A,B \\in {\\cal F} \\Rightarrow A \\cup B \\in {\\cal F}$ "
   ]
  },
  {
   "cell_type": "markdown",
   "id": "bfe29ffc-a38b-4d5b-a06a-58babd3e928d",
   "metadata": {
    "slideshow": {
     "slide_type": "fragment"
    }
   },
   "source": [
    "또한 $\\Omega$의 임의의 두 부분집합이 $A \\subset B$와 같은 포함관계가 성립할때, 집합 $A$, $B$에 대한 확률이 각각 무모순으로 정의된다면, 집합 $B-A$에 대한 확률로 무모순으로 정의되어야 한다. "
   ]
  },
  {
   "cell_type": "markdown",
   "id": "f3b8819f-34df-458e-9206-734298958249",
   "metadata": {
    "slideshow": {
     "slide_type": "fragment"
    }
   },
   "source": [
    "$\\Leftrightarrow$ $\\forall A,B \\subset \\Omega$ such that $A \\subset B$: $A,B \\in {\\cal F} \\Rightarrow B-A \\in {\\cal F}$ "
   ]
  },
  {
   "cell_type": "markdown",
   "id": "9daaa395-cc4e-478f-9b8e-5976fe423dbd",
   "metadata": {
    "slideshow": {
     "slide_type": "slide"
    }
   },
   "source": [
    "**(예제10)** "
   ]
  },
  {
   "cell_type": "markdown",
   "id": "7f93ee41-e56e-4dc5-8f46-70e1da2c9b69",
   "metadata": {
    "slideshow": {
     "slide_type": "fragment"
    }
   },
   "source": [
    "$\\Omega=\\{1,2,3,4\\}$이라고 하자. 내가 관심이 있는 확률은 $P(\\{1\\})$, $P(\\{2\\})$ 밖에 없다고 하자. 이러한 확률들이 무모순으로 정의되기 위한 최소한의 ${\\cal F}$를 정의하라. "
   ]
  },
  {
   "cell_type": "markdown",
   "id": "8f46cecb-769f-488a-9ee1-13e9dd8cdfcf",
   "metadata": {
    "slideshow": {
     "slide_type": "slide"
    }
   },
   "source": [
    "(해설) "
   ]
  },
  {
   "cell_type": "markdown",
   "id": "40e1c125-03f7-486a-b95a-041f2acdb32d",
   "metadata": {
    "slideshow": {
     "slide_type": "fragment"
    }
   },
   "source": [
    "0차수정: ${\\cal A} = \\big\\{\\{1\\}, \\{2\\}\\big\\}$"
   ]
  },
  {
   "cell_type": "markdown",
   "id": "443fc06c-3815-4d63-802e-3a5255dd73c9",
   "metadata": {
    "slideshow": {
     "slide_type": "fragment"
    }
   },
   "source": [
    "1차수정: $\\big\\{\\emptyset, \\{1\\}, \\{2\\}, \\Omega \\big\\}$"
   ]
  },
  {
   "cell_type": "markdown",
   "id": "a18d6d6a-44c3-4b11-accf-84b6e7bef6c5",
   "metadata": {
    "slideshow": {
     "slide_type": "fragment"
    }
   },
   "source": [
    "2차수정: $\\big\\{\\emptyset, \\{1\\}, \\{2\\}, \\{2,3,4\\}, \\{1,3,4\\}, \\Omega \\big\\}$"
   ]
  },
  {
   "cell_type": "markdown",
   "id": "587ded1e-7470-4f0a-b6e1-21755c44caf5",
   "metadata": {
    "slideshow": {
     "slide_type": "fragment"
    }
   },
   "source": [
    "3차수정: $\\big\\{\\emptyset, \\{1\\}, \\{2\\}, \\{2,3,4\\}, \\{1,3,4\\}, \\Omega, \\{1,2\\}, \\{3,4\\} \\big\\}$"
   ]
  },
  {
   "cell_type": "markdown",
   "id": "02671315-5617-4e14-bd8f-3f20e5e0632b",
   "metadata": {
    "slideshow": {
     "slide_type": "slide"
    }
   },
   "source": [
    "> 사실 우리가 관심 있는건 ${\\cal A} = \\{ \\{1\\}, \\{2\\} \\}$ 뿐 이었음. 그런데 뭔가 $P(\\{1\\})$와 $P(\\{2\\})$를 합리적으로 정의하기 위해서 필연적으로 발생하는 어떠한 집합들을 모두 생각하는건 매우 피곤하고 귀찮은 일임. 그래서 \"아 모르겠고, $\\{1\\}$ 와 $\\{2\\}$를 포함하고 확률의 뜻에 모순되지 않게 만드는 최소한의 ${\\cal F}$가 있을텐데, 거기서만 확률을 정의할래!\" 라고 쉽게 생각하고 싶은 사람들이 생김. 그러한 공간을 $\\sigma({\\cal A})$라는 기호로 약속하고 smallest $\\sigma$-field containing ${\\cal A}$ 라는 용어로 부름. "
   ]
  }
 ],
 "metadata": {
  "celltoolbar": "Slideshow",
  "kernelspec": {
   "display_name": "Python 3",
   "language": "python",
   "name": "python3"
  },
  "language_info": {
   "codemirror_mode": {
    "name": "ipython",
    "version": 3
   },
   "file_extension": ".py",
   "mimetype": "text/x-python",
   "name": "python",
   "nbconvert_exporter": "python",
   "pygments_lexer": "ipython3",
   "version": "3.8.16"
  }
 },
 "nbformat": 4,
 "nbformat_minor": 5
}
