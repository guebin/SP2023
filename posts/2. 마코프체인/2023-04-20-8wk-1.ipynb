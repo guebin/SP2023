{
 "cells": [
  {
   "cell_type": "raw",
   "id": "08e7d4a1-fe79-419e-84fa-409f8da48a24",
   "metadata": {},
   "source": [
    "---\n",
    "title: \"08wk-1: 마코프체인 (4)\"\n",
    "author: \"최규빈\"\n",
    "date: \"04/20/2023\"\n",
    "---"
   ]
  },
  {
   "cell_type": "markdown",
   "id": "ef2b5179-8865-44fa-a07b-3b1ac289c5ed",
   "metadata": {},
   "source": [
    "# 강의영상 "
   ]
  },
  {
   "cell_type": "markdown",
   "id": "13a715d4-3749-444e-a4f4-f1334b578ef6",
   "metadata": {},
   "source": [
    "> youtube: <https://youtube.com/playlist?list=PLQqh36zP38-yapWz131weSlgUlgS-0T98>"
   ]
  },
  {
   "cell_type": "markdown",
   "id": "1dcd9f4b-8dfd-4f64-97be-d289c363da73",
   "metadata": {},
   "source": [
    "- 영상2는 추후 재촬영예정임 "
   ]
  },
  {
   "cell_type": "markdown",
   "id": "747aee2c-1920-4ddd-8ed1-9785731f59d0",
   "metadata": {},
   "source": [
    "# imports "
   ]
  },
  {
   "cell_type": "code",
   "execution_count": 2,
   "id": "bb0df1d3-4cca-4555-9fa7-b8c45c5a972a",
   "metadata": {},
   "outputs": [],
   "source": [
    "import numpy as np"
   ]
  },
  {
   "cell_type": "markdown",
   "id": "7ced9671-8daf-4096-804b-78e5912d8050",
   "metadata": {
    "slideshow": {
     "slide_type": "slide"
    }
   },
   "source": [
    "# Markovchain, Transition Matrix "
   ]
  },
  {
   "cell_type": "markdown",
   "id": "a7b08f44-71be-4234-984f-31dac5419235",
   "metadata": {
    "slideshow": {
     "slide_type": "slide"
    }
   },
   "source": [
    "`-` **정의:** 카운터블한 상태공간 $E$을 가지는 이산시간 확률과정 $\\{X_t\\}_{t\\geq 0}$을 고려하자. 아래가 성립한다면 확률과정 $\\{X_t\\}$을 마코프체인(Markov chain, MC)라고 한다. \n",
    "\n",
    "- $\\forall t\\geq 0, \\forall i_0,i_1,\\dots,i_{n-1},i,j \\in E$:\n",
    "\n",
    "$$\\mathbb{P}(X_{t+1}=j | X_t=i, X_{t-1}=i_{t-1}, \\dots, X_0=i_0) = \\mathbb{P}(X_{t+1}=j|X_t=i)$$\n",
    "\n",
    "만약에 $P(X_{t+1} =j | X_t=i)$가 모든 $t$에 대하여 일정하다면 $\\{X_t\\}$를 균질마코프체인^[진짜 억지로 변형한것, 마땅한 한글용어가 없음](homogeneous Markov chain, HMC) 라고 한다. "
   ]
  },
  {
   "cell_type": "markdown",
   "id": "2a4e6622-7c0b-43fa-b762-e2f12d6edcd7",
   "metadata": {
    "slideshow": {
     "slide_type": "slide"
    }
   },
   "source": [
    "`-` 정의: 아래의 수식을 마코프성질 (Markov property) 이라고 한다. \n",
    "\n",
    "- $\\forall t\\geq 0, \\forall i_0,i_1,\\dots,i_{n-1},i,j \\in E$:\n",
    "\n",
    "$$\\mathbb{P}(X_{t+1}=j | X_t=i, X_{t-1}=i_{t-1}, \\dots, X_0=i_0) = \\mathbb{P}(X_{t+1}=j|X_t=i)$$"
   ]
  },
  {
   "cell_type": "markdown",
   "id": "1be85734-a645-4fc1-aed6-9cc194255d00",
   "metadata": {
    "slideshow": {
     "slide_type": "slide"
    }
   },
   "source": [
    "`-` 정의: 카운터블한 상태공간 $E$를 가지는 HMC $\\{X_t\\}_{t\\geq 0}$를 고려하자. 상태 $i$에서 상태 $j$로 바뀌는 조건부 확률 \n",
    "\n",
    "$$p_{ij}=\\mathbb{P}(X_{t+1}=j | X_t=0)$$\n",
    "\n",
    "를 $\\{X_t\\}_{t\\geq 0}$의 전이확률(transition probability)라고 한다. "
   ]
  },
  {
   "cell_type": "markdown",
   "id": "14c3779a-c04b-4a57-876c-0c4a78953bdb",
   "metadata": {
    "slideshow": {
     "slide_type": "slide"
    }
   },
   "source": [
    "`-` 전이확률의 특징: 이때 전이확률은 아래의 특징을 가진다. \n",
    "    \n",
    "- $p_{ij} \\geq 0$  \n",
    "- $\\sum_{j\\in E}p_{ij}=1$ \n",
    "\n",
    "첫번째 식은 확률이 양수이어야 한다는 내용이고^[쓸모없는 내용] 두번째 식은 임의의 시점에서 상태 $i$에 존재할 경우, 그 다음시점에서 상태집합 $V$ 중 어딘가로는 이동해야한다는 의미이다. "
   ]
  },
  {
   "cell_type": "markdown",
   "id": "7ae38cb7-3f13-4182-b1dd-f1fb732dfe7f",
   "metadata": {
    "slideshow": {
     "slide_type": "slide"
    }
   },
   "source": [
    "`-` 정의: 카운터블한 상태공간 $V$를 가지는 HMC $\\{X_t\\}_{t \\geq 0}$를 고려하자. $p_{ij}$를 $\\{X_t\\}_{t\\geq 0}$의 전이확률이라고 하자. $(i,j)$-th 원소를 $p_{ij}$로 가지는 행렬 ${\\bf P}$를 전이확률행렬 (transition probability matrix) 혹은 줄여서 전이행렬 (transition matrix) 이라고 한다. "
   ]
  },
  {
   "cell_type": "markdown",
   "id": "d81740d3-3e30-4480-ba9c-1b12b2b344f4",
   "metadata": {
    "slideshow": {
     "slide_type": "slide"
    }
   },
   "source": [
    "`-` 참고($\\star$): 상태공간 $V$의 원소수가 무한일 수도 있으므로, 원래 ${\\bf P}$를 행렬이라고 하기에는 무리가 있다. 하지만 행렬의 덧셈, 행렬의 곱셈과 같은 연산들은 일반적으로 잘 정의되므로 ${\\bf P}$를 행렬로 생각할 수 있다. 이러한 ${\\bf P}$는 row와 col이 무한대로 있다고 생각하면 된다. \n",
    "\n",
    "- $|E|=\\infty$ 인 경우 ${\\bf P}$의 예시: ${\\bf P}=\\begin{bmatrix} p_{00} & p_{01} & \\cdots  \\\\ p_{10} & p_{11} & \\cdots \\\\ \\cdots & \\cdots & \\cdots \\end{bmatrix}$"
   ]
  },
  {
   "cell_type": "markdown",
   "id": "aadf7ab9-820a-4a7a-b98c-b2f58d40431a",
   "metadata": {
    "slideshow": {
     "slide_type": "slide"
    }
   },
   "source": [
    "`-` 전이행렬의 특징: 모든 row의 합이 1이다. \n",
    "\n",
    "- $\\sum_{j \\in E}p_{ij}  = 1$ 이어야 하므로 "
   ]
  },
  {
   "cell_type": "markdown",
   "id": "45481d04-d2d2-400c-b2c5-16f1fd996f06",
   "metadata": {
    "slideshow": {
     "slide_type": "slide"
    }
   },
   "source": [
    "# Distribution, Distribution Function"
   ]
  },
  {
   "cell_type": "markdown",
   "id": "41bef8e7-0af0-47fa-aa30-081ee4ac999b",
   "metadata": {
    "slideshow": {
     "slide_type": "slide"
    }
   },
   "source": [
    "`-` 예제1: 동전예제 "
   ]
  },
  {
   "cell_type": "markdown",
   "id": "4c9b5c7f-9399-440c-b010-45b57726d9e0",
   "metadata": {
    "slideshow": {
     "slide_type": "slide"
    }
   },
   "source": [
    "선언1: $(\\Omega, 2^{\\Omega}, \\mathbb{P})$ 를 확률공간이라고 하자. 여기에서 확률 $\\mathbb{P}$은 아래와 같이 정의되는 set function 이다. \n",
    "\n",
    "- $\\mathbb{P}(\\emptyset) = 0$ \n",
    "- $\\mathbb{P}(\\{H\\}) = 1/2$ \n",
    "- $\\mathbb{P}(\\{T\\}) = 1/2$ \n",
    "- $\\mathbb{P}(\\Omega) = 1$ \n"
   ]
  },
  {
   "cell_type": "markdown",
   "id": "bdb2000c-3412-49ab-b0ec-e50d2620d091",
   "metadata": {
    "slideshow": {
     "slide_type": "slide"
    }
   },
   "source": [
    "선언2: 확률변수 $X: (\\Omega, 2^\\Omega) \\to (V,2^V)$를 아래와 같이 선언하자. (단, $V=\\{0,1\\}$)\n",
    "\n",
    "- $X(H) = 0$ \n",
    "- $X(T) = 1$ "
   ]
  },
  {
   "cell_type": "markdown",
   "id": "e7081465-6f39-4f97-bed3-ec8d3fee34e3",
   "metadata": {
    "slideshow": {
     "slide_type": "slide"
    }
   },
   "source": [
    "생각: 이제 $B \\in 2^V$ 에 대하여 아래와 같은 표현들을 고려하자. \n",
    "\n",
    "- 표현1: $\\mathbb{P}(X \\in B)$  // 고등학교 부터 쓰던 그 표현 \n",
    "- 표현2: $\\mathbb{P}(\\{\\omega: X(\\omega) \\in B\\})$ // 이번에 배운 표현, 표현1의 정확한 버전 \n",
    "- 표현3: $\\mathbb{P}(X^{-1}(B))$ // 표현2의 다른 버전, inverse image의 느낌이 확 살아 있음 \n",
    "- 표현4: $(\\mathbb{P} \\circ X^{-1})(B)$ // 생각해보니까 이것도 가능함. $\\mathbb{P}$, $X$ 모두 함수였잖아? "
   ]
  },
  {
   "cell_type": "markdown",
   "id": "cac44e71-37aa-436d-a701-eba89cc38990",
   "metadata": {
    "slideshow": {
     "slide_type": "slide"
    }
   },
   "source": [
    "새로운 함수 $\\mu:= \\mathbb{P}\\circ X^{-1}$는 이 경우 어떻게 정의할 수 있을까? \n",
    "\n",
    "- $\\mu(\\emptyset) = 0$\n",
    "- $\\mu(\\{0\\}) = \\frac{1}{2}$\n",
    "- $\\mu(\\{1\\}) = \\frac{1}{2}$\n",
    "- $\\mu(\\{0,1\\}) = 1$"
   ]
  },
  {
   "cell_type": "markdown",
   "id": "c1aa3581-0429-488e-9f9a-53d0bdd5c82a",
   "metadata": {
    "slideshow": {
     "slide_type": "slide"
    }
   },
   "source": [
    "표현1과 4만 모아서 살펴보면 아래와 같다. \n",
    "\n",
    "- $\\mu(\\emptyset) = 0$ $\\Leftrightarrow$ $\\mathbb{P}(X \\notin \\{0,1\\})=0$ \n",
    "- $\\mu(\\{0\\}) = \\frac{1}{2}$ $\\Leftrightarrow$ $\\mathbb{P}(X=0)$  \n",
    "- $\\mu(\\{1\\}) = \\frac{1}{2}$ $\\Leftrightarrow$ $\\mathbb{P}(X=1\\})$ \n",
    "- $\\mu(\\{0,1\\}) = \\frac{1}{2}$ $\\Leftrightarrow$ $\\mathbb{P}(X\\in \\{0,1\\})$ $\\Leftrightarrow$ $\\mathbb{P}(X\\leq 1)$ "
   ]
  },
  {
   "cell_type": "markdown",
   "id": "d9728ca2-5535-44e1-a55e-e2bebf6de2ac",
   "metadata": {
    "slideshow": {
     "slide_type": "slide"
    }
   },
   "source": [
    "`-` 예제2: 동전예제(2) \n",
    "\n",
    "$(V,2^V)$ 대신에 $(\\mathbb{R},{\\cal R})$ 으로 바꾸어도 위의 동전예제는 잘 정의된다. "
   ]
  },
  {
   "cell_type": "markdown",
   "id": "072098a0-224c-4a62-957a-76d7892c77f0",
   "metadata": {
    "slideshow": {
     "slide_type": "slide"
    }
   },
   "source": [
    "선언1: $(\\Omega, 2^{\\Omega}, \\mathbb{P})$ 를 확률공간이라고 하자. 여기에서 확률 $\\mathbb{P}$은 아래와 같이 정의되는 set function 이다. \n",
    "\n",
    "- $\\mathbb{P}(\\emptyset) = 0$ \n",
    "- $\\mathbb{P}(\\{H\\}) = 1/2$ \n",
    "- $\\mathbb{P}(\\{T\\}) = 1/2$ \n",
    "- $\\mathbb{P}(\\Omega) = 1$ \n"
   ]
  },
  {
   "cell_type": "markdown",
   "id": "0406a82a-4302-4871-9d0f-130e4b3d5021",
   "metadata": {
    "slideshow": {
     "slide_type": "slide"
    }
   },
   "source": [
    "선언2: 확률변수 $X: (\\Omega, 2^\\Omega) \\to (\\mathbb{R},{\\cal R})$를 아래와 같이 선언하자. \n",
    "\n",
    "- $X(H) = 0$ \n",
    "- $X(T) = 1$ "
   ]
  },
  {
   "cell_type": "markdown",
   "id": "d3455abe-4af6-4da1-b702-65eb4f6f603d",
   "metadata": {
    "slideshow": {
     "slide_type": "slide"
    }
   },
   "source": [
    "생각: 이제 $B \\in {\\cal R}$ 에 대한 표현들. 편의상 $B=\\{b: b\\leq 0.5\\}$ 라고 가정하자. \n",
    "\n",
    "- 표현1: $\\mathbb{P}(X \\in B)=\\mathbb{P}(X\\leq 0.5)=\\mathbb{P}(X=0)=\\frac{1}{2}$ \n",
    "- 표현2: 생략\n",
    "- 표현3: 생략\n",
    "- 표현4: $(\\mathbb{P} \\circ X^{-1})((-\\infty,0.5])$ "
   ]
  },
  {
   "cell_type": "markdown",
   "id": "1bcf2c7c-6b3e-4f9e-b1aa-86519744ecb0",
   "metadata": {
    "slideshow": {
     "slide_type": "slide"
    }
   },
   "source": [
    "표현1과 4만 모아서 살펴보면 아래와 같다. \n",
    "\n",
    "- $\\mu((-\\infty,x])$ $\\Leftrightarrow$ $\\mathbb{P}(X \\leq x)$ \n",
    "- $\\mu(A)$ $\\Leftrightarrow$ $\\mathbb{P}(X\\in A)$  "
   ]
  },
  {
   "cell_type": "markdown",
   "id": "5b5d565d-710f-42c5-a0ae-2da42d5fdb84",
   "metadata": {
    "slideshow": {
     "slide_type": "slide"
    }
   },
   "source": [
    "`-` 생각의 시간 \n",
    "\n",
    "$(\\Omega,{\\cal F}, \\mathbb{P})$가 확률공간이고 $X \\to \\mathbb{R}$이 확률변수라면, $\\mu$는 언제나 잘 정의된다. \n",
    "\n",
    "- 모든 $B \\in {\\cal R}$에 대하여 $X^{-1}(B)$가 시그마필드의 원소가 아닐 수 없다. (만약 그렇다면 $X$는 확률변수가 아닌걸?) \n",
    "- 모든 $B \\in {\\cal R}$에 대하여 $\\mathbb{P}(X^{-1}(B))$의 값을 모순되게 정의할 수 없다. (만약 그렇다면 $(\\Omega, {\\cal F}, \\mathbb{P})$는 확률공간이 아닌걸?)"
   ]
  },
  {
   "cell_type": "markdown",
   "id": "fd522054-c4de-4215-b8c3-cac354cf5df9",
   "metadata": {
    "slideshow": {
     "slide_type": "slide"
    }
   },
   "source": [
    "결론: $\\mu$는 안전해!"
   ]
  },
  {
   "cell_type": "markdown",
   "id": "2ecb6eee-380a-4684-ae50-b3f8f7902aea",
   "metadata": {
    "slideshow": {
     "slide_type": "slide"
    }
   },
   "source": [
    "`-` $\\mu$도 메져의 조건을 만족한다. \n",
    "\n",
    "- 정의역이 시그마필드임 \n",
    "- $\\forall B \\in {\\cal R}:~ \\mu(B)\\geq 0$. \n",
    "- $\\forall B_1,B_2,\\dots \\in {\\cal R}$ such that $B_1,B_2 \\dots$ are disjoint: $\\sum_{i=1}^{n}\\mu(B_i) = \\mu(\\uplus_{i=1}^{\\infty}B_i)$ "
   ]
  },
  {
   "cell_type": "markdown",
   "id": "e00fa5e2-3743-436e-8843-5c270090a922",
   "metadata": {
    "slideshow": {
     "slide_type": "slide"
    }
   },
   "source": [
    "`-` $\\mu$를 부르는 용어 ($\\star\\star\\star$): $X$를 확률공간 $(\\Omega, {\\cal F}, \\mathbb{P})$에서 정의된 확률변수라고 하자. 이때 $X^{-1}\\circ \\mathbb{P}$로 정의가능한 함수 $\\mu: {\\cal R} \\to [0,1]$ 를 $X$의 distribution 이라고 부른다. "
   ]
  },
  {
   "cell_type": "markdown",
   "id": "aac0036a-e954-49cb-b04a-8011adf999a9",
   "metadata": {
    "slideshow": {
     "slide_type": "slide"
    }
   },
   "source": [
    "`-` $F(x)$의 정의: $X$를 확률공간 $(\\Omega, {\\cal F}, \\mathbb{P})$에서 정의된 확률변수라고 하자. $F: \\mathbb{R} \\to [0,1]$ 인 함수를 아래와 같이 정의하자. \n",
    "\n",
    "$$F(x) = \\mu((-\\infty, x])$$\n",
    "\n",
    "이러한 함수 $F$는 아래와 같이 표현할 수 있다. \n",
    "\n",
    "$$F(x) = \\mathbb{P}(X \\leq x)$$\n",
    "\n",
    "\n",
    "함수 $F$를 확률변수 $X$의 distribution function 이라고 한다. "
   ]
  },
  {
   "cell_type": "markdown",
   "id": "e9350a72-d18c-4105-989a-4948bd0ed418",
   "metadata": {
    "slideshow": {
     "slide_type": "slide"
    }
   },
   "source": [
    "`-` 참고사항 (그냥 교양임, 시험에 안냄): \n",
    "\n",
    "- $\\mu$가 언제나 잘 정의되므로 $F(x)$도 언제나 잘 정의된다. \n",
    "- $F(x)$는 어떠한 성질들을 가진다. (비감소함수, 오른쪽연속 등..) \n",
    "- $F(x)$는 $F(x)= F_c(x) + F_s(x) + F_d(x)$ 와 같이 분해가능하다. \n",
    "- $F(x)=F_c(x)$라면 $F(x)$는 연속형확률변수의 cdf가 된다. $F(x)=F_d(x)$라면, $F(x)$는 이산형확률변수의 cdf가 된다. \n",
    "- $F(x)=F_c(x)+F_d(X)$라면 혼합형확률변수의 cdf가 된다. \n",
    "- $F(x)=F_s(x)$인 경우는 pdf, pmf가 존재하지 않는다. "
   ]
  },
  {
   "cell_type": "markdown",
   "id": "140b0101-53f5-4724-ac33-3b2eb463966f",
   "metadata": {
    "slideshow": {
     "slide_type": "slide"
    }
   },
   "source": [
    "`-` Borel sets (어떤 학생이 헷갈려해서.. 제가 헷갈리게 설명해서..) \n",
    "\n",
    "- $\\Omega=\\mathbb{R}$ 일때 $2^{\\mathbb{R}}$ 역시 시그마필드임. \n",
    "- 따라서 적당한 메져가 존재하여 $2^\\mathbb{R}$의 모든 집합을 잴 수 있음. (모든 원소를 0으로 측정하는 메져라든가..) \n",
    "- 하지만 르벡메져는 $2^{\\mathbb{R}}$의 모든 원소를 잴 수 없음. 따라서 $2^{\\mathbb{R}}$의 모든 원소에서 확률을 정의하는 것이 불가능함. \n",
    "- 그러나 $\\Omega=\\mathbb{R}$일때 ${\\cal R}$이라는 시그마필드는 모든 원소에서 확률을 정의할 수 있음. \n",
    "- ${\\cal R}$을 Borel sets 이라고 부름. "
   ]
  },
  {
   "cell_type": "markdown",
   "id": "bf266bc7",
   "metadata": {
    "slideshow": {
     "slide_type": "slide"
    }
   },
   "source": [
    "`-` $\\mathbb{R}$을 포함하는 Borel sets 은 ${\\cal B}(\\mathbb{R})$로 표현하기도 함. 즉 ${\\cal R} = {\\cal B}(\\mathbb{R})$ 이다. "
   ]
  },
  {
   "cell_type": "markdown",
   "id": "17b7f0df-61fa-448f-a75e-555b94b5274a",
   "metadata": {
    "slideshow": {
     "slide_type": "slide"
    }
   },
   "source": [
    "\n",
    "# The Stationary Distribution of an HMC "
   ]
  },
  {
   "cell_type": "markdown",
   "id": "59cb4867-6dec-4c82-b424-c6a3c5ec543d",
   "metadata": {
    "slideshow": {
     "slide_type": "slide"
    }
   },
   "source": [
    "`-` 정의: stationary distribution (정확한 버전) \n",
    "\n",
    "$(E,{\\cal B}(E))$를 잴 수 있는 공간이라고 하고 $\\mu$를 $(E,{\\cal B}(E))$에서의 distribution 이라고 하자. 만약에 아래식을 만족하면 $\\mu$ 를 stationary distribution 이라고 한다. \n",
    "\n",
    "$$\\mu p = \\mu$$\n",
    "\n",
    "\n",
    "여기에서 $\\mu p(\\{x\\}):= \\sum_{y \\in E} \\mu(\\{y\\})p_{yx}$ 를 의미한다. "
   ]
  },
  {
   "cell_type": "markdown",
   "id": "34022178-cd7f-45b0-9d0c-ff56b2c8dd96",
   "metadata": {
    "slideshow": {
     "slide_type": "slide"
    }
   },
   "source": [
    "`-` 정의: stationary distribution (쉬운버전) \n",
    "\n",
    "아래식을 만족하는 distribution ${\\boldsymbol \\mu}$ 를 stationary distribution 이라고 한다. \n",
    "\n",
    "$${\\boldsymbol \\mu}^\\top{\\bf P} = {\\boldsymbol \\mu}^\\top$$\n"
   ]
  },
  {
   "cell_type": "markdown",
   "id": "983060a2-dccc-4e56-b7aa-1cf8aad7e107",
   "metadata": {},
   "source": [
    "`-` 예시1: 아래와 같은 transition matrix를 고려하자. "
   ]
  },
  {
   "cell_type": "code",
   "execution_count": 4,
   "id": "62639d53-0480-4719-9c5e-bca52e914308",
   "metadata": {},
   "outputs": [
    {
     "data": {
      "text/plain": [
       "array([[0.2, 0.8],\n",
       "       [0.3, 0.7]])"
      ]
     },
     "execution_count": 4,
     "metadata": {},
     "output_type": "execute_result"
    }
   ],
   "source": [
    "P = np.array([[0.2,0.8],\n",
    "              [0.3,0.7]])\n",
    "P"
   ]
  },
  {
   "cell_type": "markdown",
   "id": "ffaca309-6191-4a3c-b8fc-4cc92caab974",
   "metadata": {},
   "source": [
    "수렴할까?"
   ]
  },
  {
   "cell_type": "code",
   "execution_count": 16,
   "id": "d906e6b6-2037-44bc-bc15-a33d444094ba",
   "metadata": {},
   "outputs": [
    {
     "data": {
      "text/plain": [
       "array([[0.27272727, 0.72727273],\n",
       "       [0.27272727, 0.72727273]])"
      ]
     },
     "execution_count": 16,
     "metadata": {},
     "output_type": "execute_result"
    }
   ],
   "source": [
    "np.linalg.matrix_power(P,50)"
   ]
  },
  {
   "cell_type": "markdown",
   "id": "36c460a4-e6ce-45a8-990a-57ebcf17f471",
   "metadata": {},
   "source": [
    "결과분석 \n",
    "\n",
    "1. 특징1: ${\\bf P}^{\\star}$로 수렴한다. \n",
    "2. 특징2: 수렴한 매트릭스를 세로로 읽으면 값이 같다. $\\Rightarrow$ ... $\\Rightarrow$ ${\\bf P}^{\\star}$의 아무 row나 가져오면 정상분포가 된다.\n",
    "3. 특징3: ${\\boldsymbol \\pi}^\\top {\\bf P} = {\\boldsymbol \\pi}^\\top$  $\\Leftarrow$ $({\\boldsymbol \\mu}^\\top{\\bf P}^\\star) {\\bf P} ={\\boldsymbol \\pi}^\\top$\n",
    "4. 특징4: 초기분포에 ${\\boldsymbol \\pi}^\\top$을 대입하면 $\\{X_t\\}$는 동일한 분포를 가진다. \n"
   ]
  },
  {
   "cell_type": "markdown",
   "id": "8e715b4c-62a1-4b17-9ee7-b20b63a71a17",
   "metadata": {},
   "source": [
    "`-` 예시2: 아래와 같은 transition matrix를 고려하자. "
   ]
  },
  {
   "cell_type": "code",
   "execution_count": 17,
   "id": "7f030188-013a-4a91-aa8d-85a497506e77",
   "metadata": {},
   "outputs": [
    {
     "data": {
      "text/plain": [
       "array([[0.4, 0.6],\n",
       "       [0.9, 0.1]])"
      ]
     },
     "execution_count": 17,
     "metadata": {},
     "output_type": "execute_result"
    }
   ],
   "source": [
    "P = np.array([[0.4,0.6],\n",
    "              [0.9,0.1]])\n",
    "P"
   ]
  },
  {
   "cell_type": "markdown",
   "id": "249b93e9-1105-423b-9749-ac17b8489322",
   "metadata": {},
   "source": [
    "수렴할까?"
   ]
  },
  {
   "cell_type": "code",
   "execution_count": 18,
   "id": "968f83cd-8c90-4ecc-a6ff-678e9b8de1f0",
   "metadata": {},
   "outputs": [
    {
     "data": {
      "text/plain": [
       "array([[0.6, 0.4],\n",
       "       [0.6, 0.4]])"
      ]
     },
     "execution_count": 18,
     "metadata": {},
     "output_type": "execute_result"
    }
   ],
   "source": [
    "np.linalg.matrix_power(P,50)"
   ]
  },
  {
   "cell_type": "markdown",
   "id": "d53a7e77-f7e0-4d1c-9019-c8cfe3e6eeb6",
   "metadata": {},
   "source": [
    "결과분석 \n",
    "\n",
    "1. 특징1: ${\\bf P}^{\\star}$로 수렴한다. \n",
    "2. 특징2: 수렴한 매트릭스를 세로로 읽으면 값이 같다. $\\Rightarrow$ ... $\\Rightarrow$ ${\\bf P}^{\\star}$의 아무 row나 가져오면 정상분포가 된다.\n",
    "3. 특징3: ${\\boldsymbol \\pi}^\\top {\\bf P} = {\\boldsymbol \\pi}^\\top$  $\\Leftarrow$ $({\\boldsymbol \\mu}^\\top{\\bf P}^\\star) {\\bf P} ={\\boldsymbol \\pi}^\\top$\n",
    "4. 특징4: 초기분포에 ${\\boldsymbol \\pi}^\\top$을 대입하면 $\\{X_t\\}$는 동일한 분포를 가진다. \n"
   ]
  },
  {
   "cell_type": "markdown",
   "id": "07bf0c57-824a-427f-9af6-8c247108c645",
   "metadata": {},
   "source": [
    "`-` 예시3: 어지간하면 다 수렴할 것 같으니까 아래와 같이 특이한 transition matrix를 고려하자. "
   ]
  },
  {
   "cell_type": "code",
   "execution_count": 23,
   "id": "ccd2a019-692f-4b7a-87e4-ee7f6d1c4f8d",
   "metadata": {},
   "outputs": [
    {
     "data": {
      "text/plain": [
       "array([[1.  , 0.  ],\n",
       "       [0.05, 0.95]])"
      ]
     },
     "execution_count": 23,
     "metadata": {},
     "output_type": "execute_result"
    }
   ],
   "source": [
    "P = np.array([[1.0, 0.0],\n",
    "              [0.05,0.95]])\n",
    "P"
   ]
  },
  {
   "cell_type": "code",
   "execution_count": 63,
   "id": "af5cc91b-61b4-4117-9ecf-568335350d13",
   "metadata": {},
   "outputs": [
    {
     "data": {
      "text/plain": [
       "array([[1.        , 0.        ],\n",
       "       [0.92305502, 0.07694498]])"
      ]
     },
     "execution_count": 63,
     "metadata": {},
     "output_type": "execute_result"
    }
   ],
   "source": [
    "np.linalg.matrix_power(P,50)"
   ]
  },
  {
   "cell_type": "markdown",
   "id": "141f630f-50fd-44a2-927a-5535ef91baaf",
   "metadata": {},
   "source": [
    "수렴안하나? "
   ]
  },
  {
   "cell_type": "code",
   "execution_count": 64,
   "id": "c13e358b-a25e-40ae-b6de-f7fd8ec09c02",
   "metadata": {},
   "outputs": [
    {
     "data": {
      "text/plain": [
       "array([[1.        , 0.        ],\n",
       "       [0.99407947, 0.00592053]])"
      ]
     },
     "execution_count": 64,
     "metadata": {},
     "output_type": "execute_result"
    }
   ],
   "source": [
    "np.linalg.matrix_power(P,100)"
   ]
  },
  {
   "cell_type": "code",
   "execution_count": 65,
   "id": "85f028e8-78ed-4fe6-944a-4d544263bbee",
   "metadata": {},
   "outputs": [
    {
     "data": {
      "text/plain": [
       "array([[1.00000000e+00, 0.00000000e+00],\n",
       "       [1.00000000e+00, 7.27449156e-12]])"
      ]
     },
     "execution_count": 65,
     "metadata": {},
     "output_type": "execute_result"
    }
   ],
   "source": [
    "np.linalg.matrix_power(P,500)"
   ]
  },
  {
   "cell_type": "markdown",
   "id": "959cc495-6b7f-4a0c-a4ec-f888850b6c63",
   "metadata": {},
   "source": [
    "결국에는 한다. "
   ]
  },
  {
   "cell_type": "markdown",
   "id": "5d1c048f-d551-4c3b-b3ea-60bdfb900e4d",
   "metadata": {},
   "source": [
    "결과분석 \n",
    "\n",
    "1. 특징1: ${\\bf P}^{\\star}$로 수렴한다. \n",
    "2. 특징2: 수렴한 매트릭스를 세로로 읽으면 값이 같다. $\\Rightarrow$ ... $\\Rightarrow$ ${\\bf P}^{\\star}$의 아무 row나 가져오면 정상분포가 된다.\n",
    "3. 특징3: ${\\boldsymbol \\pi}^\\top {\\bf P} = {\\boldsymbol \\pi}^\\top$  $\\Leftarrow$ $({\\boldsymbol \\mu}^\\top{\\bf P}^\\star) {\\bf P} ={\\boldsymbol \\pi}^\\top$\n",
    "4. 특징4: 초기분포에 ${\\boldsymbol \\pi}^\\top$을 대입하면 $\\{X_t\\}$는 동일한 분포를 가진다. \n"
   ]
  },
  {
   "cell_type": "markdown",
   "id": "46440f92-6e07-4ef9-bfec-b2146e7f57cb",
   "metadata": {},
   "source": [
    "`-` 공식 (쓸모없는): transition matrix 가 아래와 같은 (2,2)-matrix이라고 하자. \n",
    "\n",
    "- ${\\bf P} = \\begin{bmatrix} 1-a & a \\\\ b & 1-b \\end{bmatrix}$ \n",
    "\n",
    "그러면 대응하는 정상확률분포는 아래와 같다. \n",
    "\n",
    "- $\\pi_0= \\frac{b}{a+b}$\n",
    "- $\\pi_1= \\frac{a}{a+b}$\n"
   ]
  },
  {
   "cell_type": "markdown",
   "id": "081c1e7c-e4cc-4021-99cb-5517c0d5373f",
   "metadata": {},
   "source": [
    "예시1의 경우를 이 공식에 넣으면 "
   ]
  },
  {
   "cell_type": "code",
   "execution_count": 17,
   "id": "aa3e3b0c-40bd-4cca-b2e6-a8af14ba36f9",
   "metadata": {},
   "outputs": [
    {
     "data": {
      "text/plain": [
       "(0.2727272727272727, 0.7272727272727273)"
      ]
     },
     "execution_count": 17,
     "metadata": {},
     "output_type": "execute_result"
    }
   ],
   "source": [
    "0.3/(0.8+0.3),0.8/(0.8+0.3)"
   ]
  },
  {
   "cell_type": "markdown",
   "id": "7d2f5592-176d-4579-9199-eb0be1d13928",
   "metadata": {},
   "source": [
    "예시2의 경우를 이 공식에 넣으면 "
   ]
  },
  {
   "cell_type": "code",
   "execution_count": 31,
   "id": "d1803a2c-d487-43ba-8dbb-a2e063950731",
   "metadata": {},
   "outputs": [
    {
     "data": {
      "text/plain": [
       "(0.6, 0.39999999999999997)"
      ]
     },
     "execution_count": 31,
     "metadata": {},
     "output_type": "execute_result"
    }
   ],
   "source": [
    "0.9/(0.6+0.9), 0.6/(0.6+0.9)"
   ]
  },
  {
   "cell_type": "markdown",
   "id": "ad10ebd6-1c1f-43df-bfbc-8988b2f3db40",
   "metadata": {},
   "source": [
    "예시3의 경우를 이 공식에 넣으면 "
   ]
  },
  {
   "cell_type": "code",
   "execution_count": 41,
   "id": "f16431b4-2fbc-43c4-b176-837284b44dab",
   "metadata": {},
   "outputs": [
    {
     "data": {
      "text/plain": [
       "(1.0, 0.0)"
      ]
     },
     "execution_count": 41,
     "metadata": {},
     "output_type": "execute_result"
    }
   ],
   "source": [
    "0.05/(0+0.05) , 0/(0+0.05)"
   ]
  },
  {
   "cell_type": "markdown",
   "id": "5e50dca1-80c3-44a3-a0e9-8b4438a998ed",
   "metadata": {},
   "source": [
    "`-` 예시4: $a+b=0$ 이라면? "
   ]
  },
  {
   "cell_type": "code",
   "execution_count": 33,
   "id": "6cc52108-04c3-4058-b33e-824eed4fae20",
   "metadata": {},
   "outputs": [
    {
     "data": {
      "text/plain": [
       "array([[1., 0.],\n",
       "       [0., 1.]])"
      ]
     },
     "execution_count": 33,
     "metadata": {},
     "output_type": "execute_result"
    }
   ],
   "source": [
    "P = np.array([[1.0, 0.0],\n",
    "              [0.0, 1.0]])\n",
    "P"
   ]
  },
  {
   "cell_type": "markdown",
   "id": "b65dde72-9648-42bf-a557-a70dec1ce4ef",
   "metadata": {},
   "source": [
    "수렴은 할텐데.. "
   ]
  },
  {
   "cell_type": "markdown",
   "id": "88ea8c3b-b52e-4128-be61-b820c77385b2",
   "metadata": {},
   "source": [
    "결과분석 \n",
    "\n",
    "1. 특징1: ${\\bf P}^{\\star}$로 수렴한다. \n",
    "2. 특징2: 수렴한 매트릭스를 세로로 읽으면 값이 다르다?\n",
    "3. 특징3: 어?\n",
    "4. 특징4: 어????? (이건 그냥 되는데?)"
   ]
  },
  {
   "cell_type": "markdown",
   "id": "5a1c3ea6-5fda-4c4e-a2f9-b949e5f11f28",
   "metadata": {},
   "source": [
    "**특징3**: 정상분포"
   ]
  },
  {
   "cell_type": "markdown",
   "id": "7e0f55b3-bc27-40f5-adea-c062df8e2256",
   "metadata": {},
   "source": [
    "일단 모든 ${\\boldsymbol \\mu}$에 대하여 아래가 성립하긴한다. \n",
    "\n",
    "$${\\boldsymbol \\mu}^\\top {\\bf P} =  {\\boldsymbol \\mu}^\\top$$"
   ]
  },
  {
   "cell_type": "markdown",
   "id": "7913c6b3-d62e-4967-a0d7-80074f04cde2",
   "metadata": {},
   "source": [
    "따라서 이 경우 모든 확률측도 ${\\boldsymbol \\mu}$는 정상분포가 된다. **유일한 정상분포를 가지지 않는다!!**"
   ]
  },
  {
   "cell_type": "markdown",
   "id": "e837c48c-aaa8-47d0-b373-28d8cad38d21",
   "metadata": {},
   "source": [
    "**특징4**: 정상확률과정 "
   ]
  },
  {
   "cell_type": "markdown",
   "id": "20ae8371-ed7a-460a-a95c-4ea41bcc65ea",
   "metadata": {},
   "source": [
    "${\\bf P}= {\\bf I}$ 이므로 당연히 $\\{X_t\\}$는 모든 $t\\geq 0$에 대하여 동일한 분포를 가진다. "
   ]
  },
  {
   "cell_type": "markdown",
   "id": "71ee4c19-5ce6-451b-b2c5-843bfbba9f4c",
   "metadata": {},
   "source": [
    "`-` 예시5 ($\\star\\star\\star$)"
   ]
  },
  {
   "cell_type": "code",
   "execution_count": 35,
   "id": "a494d29c-1faf-48ab-afd8-b8f1da0a5aad",
   "metadata": {},
   "outputs": [
    {
     "data": {
      "text/plain": [
       "array([[0., 1.],\n",
       "       [1., 0.]])"
      ]
     },
     "execution_count": 35,
     "metadata": {},
     "output_type": "execute_result"
    }
   ],
   "source": [
    "P = np.array([[0.0, 1.0],\n",
    "              [1.0, 0.0]])\n",
    "P"
   ]
  },
  {
   "cell_type": "code",
   "execution_count": 68,
   "id": "f088ab16-1ad1-4fa9-8dc1-624f41821e9c",
   "metadata": {},
   "outputs": [
    {
     "data": {
      "text/plain": [
       "array([[1., 0.],\n",
       "       [0., 1.]])"
      ]
     },
     "execution_count": 68,
     "metadata": {},
     "output_type": "execute_result"
    }
   ],
   "source": [
    "P@P"
   ]
  },
  {
   "cell_type": "code",
   "execution_count": 69,
   "id": "abfdf080-af72-4fca-8830-26b76ec8d32b",
   "metadata": {},
   "outputs": [
    {
     "data": {
      "text/plain": [
       "array([[0., 1.],\n",
       "       [1., 0.]])"
      ]
     },
     "execution_count": 69,
     "metadata": {},
     "output_type": "execute_result"
    }
   ],
   "source": [
    "P@P@P"
   ]
  },
  {
   "cell_type": "markdown",
   "id": "ff43bb08-a53b-4784-b7ed-38f17dad17bc",
   "metadata": {},
   "source": [
    "결과분석 \n",
    "\n",
    "1. 특징1: 수렴을 안하는데? \n",
    "2. 특징2: \n",
    "3. 특징3: \n",
    "4. 특징4: "
   ]
  },
  {
   "cell_type": "markdown",
   "id": "0591774a-b9e9-4654-b17e-a9444f14e9c1",
   "metadata": {},
   "source": [
    "**특징3**: 정상분포"
   ]
  },
  {
   "cell_type": "markdown",
   "id": "8bf8f905-f450-420b-a70f-cfde0f79e5f4",
   "metadata": {},
   "source": [
    "만약에 ${\\boldsymbol \\pi}=\\begin{bmatrix} 1/2 \\\\ 1/2 \\end{bmatrix}$ 로 설정한다면 아래가 성립한다. \n",
    "\n",
    "$${\\boldsymbol \\pi}^\\top {\\bf P} =  {\\boldsymbol \\pi}^\\top$$"
   ]
  },
  {
   "cell_type": "markdown",
   "id": "9e0bd82e-5c51-4acb-a697-fa091746e87e",
   "metadata": {},
   "source": [
    "따라서 ${\\boldsymbol \\pi}$는 정상분포가 된다. "
   ]
  },
  {
   "cell_type": "markdown",
   "id": "8fae3776-4a37-431a-ba93-1641199ad490",
   "metadata": {},
   "source": [
    "**특징4**: 정상확률과정 "
   ]
  },
  {
   "cell_type": "markdown",
   "id": "2c595798-33ca-4e6a-b8a4-c9a01762c330",
   "metadata": {},
   "source": [
    "만약에 ${\\boldsymbol \\pi}=\\begin{bmatrix} 1/2 \\\\ 1/2 \\end{bmatrix}$ 로 설정한다면 $\\{X_t\\}$는 모든 $t\\geq 0$에 대하여 동일한 분포를 가진다. "
   ]
  },
  {
   "cell_type": "markdown",
   "id": "ef3eda7d-e862-40da-8174-aeb028e35bf7",
   "metadata": {},
   "source": [
    "`-` 생각의 시간\n",
    "\n",
    "||특징1(수렴)|특징2(동일row)|특징3(정상분포)|특징4(정상과정)|\n",
    "|:-:|:-:|:-:|:-:|:-:|\n",
    "|예시1(나이스)|O|O|존재O, 유일O|O|\n",
    "|예시2(나이스)|O|O|존재O, 유일O|O|\n",
    "|예시3(흡수)|O|O|존재O, 유일O|O|\n",
    "|예시4(단위행렬)|O|X|존재O, 유일X|O|\n",
    "|예시5(주기)|X|NA|존재O, 유일O|O|"
   ]
  },
  {
   "cell_type": "markdown",
   "id": "4d7a1157-f7ab-44af-8687-ed282c7f8683",
   "metadata": {},
   "source": [
    "특징3에서 정상분포가 존재하면 특징4는 그냥 성립한다. 지금까지 살펴본 예제에서는 모두 정상분포가 존재했다. 혹시 정상분포가 존재하지 않을 수도 있을까? "
   ]
  },
  {
   "cell_type": "markdown",
   "id": "d7f08c3a-3935-4302-825f-b751cbc959ba",
   "metadata": {},
   "source": [
    "`-` **Thm**: finite state를 가지는 HMC는 정상분포가 최소한 1개는 존재한다. "
   ]
  }
 ],
 "metadata": {
  "celltoolbar": "Slideshow",
  "kernelspec": {
   "display_name": "Python 3",
   "language": "python",
   "name": "python3"
  },
  "language_info": {
   "codemirror_mode": {
    "name": "ipython",
    "version": 3
   },
   "file_extension": ".py",
   "mimetype": "text/x-python",
   "name": "python",
   "nbconvert_exporter": "python",
   "pygments_lexer": "ipython3",
   "version": "3.8.16"
  }
 },
 "nbformat": 4,
 "nbformat_minor": 5
}
