{
 "cells": [
  {
   "cell_type": "raw",
   "id": "fba306a0-1535-46f0-93af-01b77df5295b",
   "metadata": {},
   "source": [
    "---\n",
    "title: \"6wk-2: 중간고사\"\n",
    "author: \"최규빈\"\n",
    "date: \"04/10/2023\"\n",
    "---"
   ]
  },
  {
   "cell_type": "markdown",
   "id": "4b031dbe-d897-43f3-8a76-b7d0e4827b3d",
   "metadata": {},
   "source": [
    "# `1`. Cardinality"
   ]
  },
  {
   "cell_type": "markdown",
   "id": "91464302-cfb3-4e54-b557-c6706cc96e81",
   "metadata": {},
   "source": [
    "`(1)` $\\mathbb{Q}$의 cardinality가 $\\aleph_0$임을 증명하라. "
   ]
  },
  {
   "cell_type": "markdown",
   "id": "7e15bd8a-b8c1-475f-9a12-319a9a9a0330",
   "metadata": {},
   "source": [
    "`(풀이)` 생략 "
   ]
  },
  {
   "cell_type": "markdown",
   "id": "8ac13718-08e4-4bad-a640-c95fd32ec79d",
   "metadata": {},
   "source": [
    "`(2)` $\\mathbb{R}$의 cardinality가 $\\aleph_0$이 아님을 보여라. "
   ]
  },
  {
   "cell_type": "markdown",
   "id": "9e39444f-251e-4c39-a161-411cba2f2adf",
   "metadata": {},
   "source": [
    "`(풀이)` 생략 "
   ]
  },
  {
   "cell_type": "markdown",
   "id": "eda6799b-adac-4de2-994b-20f1dde36241",
   "metadata": {},
   "source": [
    "# `2`. $\\sigma$-field"
   ]
  },
  {
   "cell_type": "markdown",
   "id": "57bdac37-5b03-46f6-b769-bf0002496822",
   "metadata": {},
   "source": [
    "`(1)` $\\Omega=\\{1,2,3,4,5,6\\}$일 때, 다음 중 시그마필드의 정의를 만족하는 집합을 모두 골라라. \n",
    "\n",
    "1. ${\\cal F}=\\{\\emptyset, \\Omega\\}$\n",
    "2. ${\\cal F}=\\{\\emptyset, \\{1\\},\\{2,3,4,5,6\\},\\Omega\\}$\n",
    "3. ${\\cal F}=\\{\\emptyset, \\{1,2,3\\}, \\{4,5,6\\}, \\Omega\\}$\n",
    "4. ${\\cal F}=2^\\Omega$"
   ]
  },
  {
   "cell_type": "markdown",
   "id": "b1de0b0b-d3c7-42e6-9661-82e8a886d304",
   "metadata": {},
   "source": [
    "`(풀이)` 1,2,3,4 모두 시그마필드"
   ]
  },
  {
   "cell_type": "markdown",
   "id": "600733ec-6d19-4114-900a-737eb15e4aea",
   "metadata": {},
   "source": [
    "`(2)` $\\Omega=\\{1,2,3,4,5,6\\}$ 일 때, \n",
    "\n",
    "$${\\cal A}=\\{\\{1,2,3\\},\\{4,5,6\\}\\}$$ \n",
    "\n",
    "이라고 하자. $\\sigma({\\cal A})$를 구하여라. "
   ]
  },
  {
   "cell_type": "markdown",
   "id": "56feacb9-ed05-4f3a-a9a6-adc75d536b25",
   "metadata": {},
   "source": [
    "`(풀이)` $\\sigma({\\cal A}) = \\{\\emptyset, \\Omega, \\{1,2,3\\},\\{4,5,6\\}\\}$"
   ]
  },
  {
   "cell_type": "markdown",
   "id": "5af8349a-5724-4993-b139-4abef05ddb34",
   "metadata": {},
   "source": [
    "`(3)` $\\Omega=\\mathbb{N}$ 일 때, \n",
    "\n",
    "- ${\\cal A}=\\{\\{n\\}: n \\in \\mathbb{N}\\}$\n",
    "- ${\\cal F} = \\sigma({\\cal A})$ \n",
    "\n",
    "이라고 하자. 아래의 물음에 답하여라. \n",
    "\n",
    "1. $\\{2\\} \\in {\\cal F}$ 인가? \n",
    "2. $\\mathbb{N} \\in {\\cal F}$ 인가? \n",
    "3. $\\emptyset \\in {\\cal F}$ 인가? \n",
    "4. $\\{2n: n\\in \\mathbb{N}\\} \\in {\\cal F}$ 인가? \n",
    "5. $\\mathbb{Z} \\in {\\cal F}$ 인가? "
   ]
  },
  {
   "cell_type": "markdown",
   "id": "29d043bc-387c-45bc-bf3c-347572b9dfad",
   "metadata": {},
   "source": [
    "`(풀이)` 1,2,3,4 (O) // 5 (X) \n",
    "\n",
    "시그마필드는 공집합과 전체집합을 포함하므로 $\\mathbb{N}, \\emptyset$은 ${\\cal F}$의 원소이어야 한다. 시그마필드의 원소는 $\\mathbb{N}$의 부분집합이어야 하므로 $\\mathbb{Z}$는 ${\\cal F}$의 원소가 될 수 없다. ${\\cal F}$는 $\\{2\\},\\{4\\},\\{6\\},\\dots$ 등을 원소로 포함하고 가산합집합에 닫혀있으므로 $\\{2n: n \\in \\mathbb{N}\\}$ 은 ${\\cal F}$의 원소이다. "
   ]
  },
  {
   "cell_type": "markdown",
   "id": "e0d47a74-f1db-441d-b849-6eca4fd54d4c",
   "metadata": {},
   "source": [
    "`(4)` $\\Omega=\\mathbb{R}$ 일 때, \n",
    "\n",
    "- ${\\cal A}=\\{(a,b): -\\infty <a< b< \\infty\\}$\n",
    "- ${\\cal F}=\\sigma({\\cal A})$\n",
    "\n",
    "이라고 하자. 아래의 물음에 답하여라. \n",
    "\n",
    "1. $\\{0\\} \\in {\\cal F}$ 인가? \n",
    "2. $\\mathbb{R} \\in {\\cal F}$ 인가? \n",
    "3. $\\mathbb{Q} \\in {\\cal F}$ 인가? \n",
    "4. $\\mathbb{R} - \\mathbb{Q} \\in {\\cal F}$ 인가? \n",
    "5. $(1,3] \\in {\\cal F}$ 인가? \n",
    "6. $[1,3] \\in {\\cal F}$ 인가? \n",
    "7. $[1,3) \\in {\\cal F}$ 인가? \n",
    "8. $[1,3) \\cup (3,5] \\in {\\cal F}$ 인가? "
   ]
  },
  {
   "cell_type": "markdown",
   "id": "dd4cb6c2-88ce-4eb0-aaa9-06fd84bdc8c1",
   "metadata": {},
   "source": [
    "**note:** 시그마필드가 교집합, 차집합등에 닫혀있다는 성질은 증명없이 이용해도 무방함. "
   ]
  },
  {
   "cell_type": "markdown",
   "id": "1acbb8ff-7c23-4a97-8a7b-3fcf51d38cec",
   "metadata": {},
   "source": [
    "`(풀이)` 1,2,3,4,5,6,7,8 모두 O.\n",
    "\n",
    "`1`. $(-1,1) - \\big((-1,0)\\cup (0,1)\\big) \\in {\\cal F}$ \n",
    "\n",
    "- 모든 열린구간은 ${\\cal F}$의 원소이고, 열린구간의 합집합 역시 ${\\cal F}$의 원소이므로 $(-1,0) \\cup (0,1)$ 역시 ${\\cal F}$의 원소이다. \n",
    "- $A=(-1,1)$, $B=(-1,0)\\cup (0,1)$ 이라고 하면, $A-B = \\{0\\}$ 이고 시그마필드는 차집합에 닫혀있으므로 $A\\in {\\cal F}, B \\in {\\cal F}$ 는 $A-B=\\{0\\} \\in {\\cal F}$를 imply한다. \n",
    "\n",
    "`2`. $\\Omega \\in {\\cal F}$ \n",
    "\n",
    "- 시그마필드는 전체집합을 포함하므로 $\\mathbb{R}$은 ${\\cal F}$의 원소이다. \n",
    "\n",
    "`3`. $\\forall x \\in \\mathbb{Q}, \\{x\\} \\in \\mathbb{Q} ~\\Rightarrow ~\\cup_{x \\in \\mathbb{Q}} \\{x\\} \\in {\\cal F}$\n",
    "\n",
    "- 1에 의하여 하나의 원소만 포함하는 모든 집합은 ${\\cal F}$의 원소이다. 즉 모든 $x\\in \\mathbb{R}$에 대하여 $\\{x\\} \\in {\\cal F}$ 이 성립한다. \n",
    "- 유리수전체의 집합은 $\\mathbb{Q}=\\cup_{x \\in \\mathbb{Q}} \\{x\\}$ 와 같이 한점만 포함하는 집합들의 countable union으로 표현가능하고, 시그마필드는 countable union에 닫혀있으므로 $\\mathbb{Q} \\in {\\cal F}$ 이다.  \n",
    "\n",
    "`4`. $\\mathbb{Q} \\in {\\cal F} ~\\Rightarrow~ \\mathbb{Q}^c \\in {\\cal F}$ \n",
    "\n",
    "- 무리수전체의 집합은 $\\mathbb{Q}^c = \\cup_{x \\in \\mathbb{Q}^c}\\{x\\}$ 와 같이 한점만 포함하는 집합들의 uncountable union으로 표현되므로 3과 같은 방식으로는 증명할 수 없음. \n",
    "- 하지만 $\\mathbb{Q} \\in \\mathbb{R}$임을 3에서 보였고, 시그마필드는 여집합에 닫혀있으므로 $\\mathbb{Q}^c \\in \\mathbb{R}$ 임을 보일 수 있다. \n",
    "\n",
    "`5-8`. \n",
    "\n",
    "- 모든 열린구간은 ${\\cal F}$의 원소이며, 한점만 포함된 모든 집합 $\\{x\\}, x\\in\\mathbb{R}$ 은 1과 유사한 논리로 ${\\cal F}$의 원소임을 보일 수 있으므로 5-8은 모두 성립함. \n",
    "\n"
   ]
  },
  {
   "cell_type": "markdown",
   "id": "26540377-7ce9-4214-b3e3-e440b081bb88",
   "metadata": {},
   "source": [
    "# `3`. 확률과 확률변수 "
   ]
  },
  {
   "cell_type": "markdown",
   "id": "73829dc5-2d25-4cb3-ad0e-49a8ec2695d7",
   "metadata": {},
   "source": [
    "`(1)` 아래와 같은 잴 수 있는 공간 $(\\Omega, {\\cal F})$를 고려하자. \n",
    "\n",
    "- $\\Omega=\\{a,b,c,d\\}$\n",
    "- ${\\cal F}=2^\\Omega$"
   ]
  },
  {
   "cell_type": "markdown",
   "id": "668bb6cb-cc78-4c71-8d3e-03b66e5b0bfa",
   "metadata": {},
   "source": [
    "아래와 같은 확률변수 $X: \\Omega \\to \\{1,2,3,4\\}$ 를 고려하자. 다음 중 올바른 표현은? "
   ]
  },
  {
   "cell_type": "markdown",
   "id": "fc7ed833-faf0-4c73-8347-8733fdbabebf",
   "metadata": {},
   "source": [
    "1. $X(a)$ \n",
    "2. $X(\\{a\\})$\n",
    "3. $P(a)$\n",
    "4. $P(\\{a\\})$\n",
    "5. $P(X=1)$\n",
    "6. $X = \\begin{cases} 1 & w.p.~\\frac{1}{2} \\\\ 2 & w.p. ~\\frac{1}{6} \\\\ 3 & w.p. ~\\frac{1}{6} \\\\ 4 & w.p. ~\\frac{1}{6} \\end{cases}$"
   ]
  },
  {
   "cell_type": "markdown",
   "id": "b5b15eff-4428-4e8a-8573-eaa098ed46c2",
   "metadata": {},
   "source": [
    "`(풀이)` 1,4,5,6 "
   ]
  },
  {
   "cell_type": "markdown",
   "id": "71e50759-c1dd-47fb-b366-0161dd2f1337",
   "metadata": {},
   "source": [
    "`(2)` 두개의 잴 수 있는 공간 $(\\Omega, {\\cal F})$와 $(S,{\\cal S})$를 고려하자. 단, \n",
    "\n",
    "- $\\Omega=\\mathbb{R}$,\n",
    "- ${\\cal F} =\\sigma({\\cal A})$ where ${\\cal A} = \\{\\mathbb{Q}\\}$,\n",
    "- $S = \\{0,1\\}$,\n",
    "- ${\\cal S} = 2^{S}$. "
   ]
  },
  {
   "cell_type": "markdown",
   "id": "0e357c00-5da9-417b-b18a-bb4c740f689c",
   "metadata": {},
   "source": [
    "아래와 같은 함수 $X:\\Omega \\to S$을 고려하라. "
   ]
  },
  {
   "cell_type": "markdown",
   "id": "72376699-9653-4c6f-a0d5-6d9179fa6378",
   "metadata": {},
   "source": [
    "$$X(\\omega) = \\begin{cases}\n",
    "0 & \\omega \\in \\mathbb{Q}\\\\\n",
    "1 & \\omega \\in \\mathbb{R} - \\mathbb{Q}\n",
    "\\end{cases}$$"
   ]
  },
  {
   "cell_type": "markdown",
   "id": "d28ff890-b5fd-4d73-b529-3a80e6c93f28",
   "metadata": {},
   "source": [
    "$X$는 $(\\Omega,{\\cal F})$에서의 확률변수인가? (즉 $X$는 $(\\Omega,{\\cal F})\\to(S,{\\cal S})$인 가측함수인가?)"
   ]
  },
  {
   "cell_type": "markdown",
   "id": "ca9de063-71ae-49cb-bdb1-3ecdb81d63e7",
   "metadata": {},
   "source": [
    "`(풀이)` 확률변수임. "
   ]
  },
  {
   "cell_type": "markdown",
   "id": "be5fb905-10d0-4fb0-8442-35dde543c3a0",
   "metadata": {},
   "source": [
    "Note: $\\sigma({\\cal A})=\\{\\emptyset, \\mathbb{Q}, \\mathbb{Q}^c, \\mathbb{R} \\}, 2^S  = \\{\\emptyset, \\{0\\}, \\{1\\}, \\{0,1\\}\\}$ \n",
    "\n",
    "확률변수임을 체크하기 위해서는 $2^S$의 모든 원소 $B$에 대하여 $X^{-1}(B):= \\{\\omega : X(\\omega) \\in B\\} \\in {\\cal F}$ 임을 확인하면 된다. \n",
    "\n",
    "- $B=\\emptyset$ 일 경우: $\\{\\omega: X(\\omega) \\in \\emptyset\\}=\\emptyset \\in \\sigma({\\cal A})$\n",
    "- $B=\\{0\\}$ 일 경우: $\\{\\omega: X(\\omega) \\in \\{0\\}\\}=\\mathbb{Q} \\in \\sigma({\\cal A})$\n",
    "- $B=\\{1\\}$ 일 경우: $\\{\\omega: X(\\omega) \\in \\{1\\}\\}=\\mathbb{Q}^c \\in \\sigma({\\cal A})$\n",
    "- $B=\\{0,1\\}$ 일 경우: $\\{\\omega: X(\\omega) \\in \\{0,1\\}\\}=\\mathbb{R} \\in \\sigma({\\cal A})$"
   ]
  },
  {
   "cell_type": "markdown",
   "id": "fcd7eec7-3234-4965-b38a-a617ff084f02",
   "metadata": {},
   "source": [
    "`(3)` 두개의 잴 수 있는 공간 $(\\Omega, {\\cal F})$와 $(S,{\\cal S})$를 고려하자. 단, \n",
    "\n",
    "- $\\Omega=\\mathbb{R}$,\n",
    "- ${\\cal F} =\\sigma({\\cal A})$ where ${\\cal A} = \\{\\mathbb{Q}\\}$,\n",
    "- $S = \\{0,1\\}$,\n",
    "- ${\\cal S} = 2^S$."
   ]
  },
  {
   "cell_type": "markdown",
   "id": "315dc8d5-5f72-45f7-9541-7407c67b3d35",
   "metadata": {},
   "source": [
    "아래와 같은 함수 $X:\\Omega \\to S$을 고려하라. "
   ]
  },
  {
   "cell_type": "markdown",
   "id": "d3dc7551-4863-4a4d-a3e7-9224ed60d005",
   "metadata": {},
   "source": [
    "$$X(\\omega) = \\begin{cases}\n",
    "0 & \\omega =0\\\\\n",
    "1 & \\omega \\neq 0\n",
    "\\end{cases}$$"
   ]
  },
  {
   "cell_type": "markdown",
   "id": "11f2e644-14fc-46a3-9f31-bb909428abf5",
   "metadata": {},
   "source": [
    "$X$는 $(\\Omega,{\\cal F})$에서의 확률변수인가? (즉 $X$는 $(\\Omega,{\\cal F})\\to(S,{\\cal S})$인 가측함수인가?)"
   ]
  },
  {
   "cell_type": "markdown",
   "id": "52d0cda7-b7e8-46ae-9724-77412ad7c2d9",
   "metadata": {},
   "source": [
    "`(풀이)` 확률변수가 아님. $B=\\{0\\}$ 일 경우, $\\{\\omega: X(\\omega) \\in B\\}=\\{0\\} \\notin \\sigma({\\cal A})$ 이므로 확률변수의 정의에 만족하지 않음. "
   ]
  }
 ],
 "metadata": {
  "kernelspec": {
   "display_name": "Python 3",
   "language": "python",
   "name": "python3"
  },
  "language_info": {
   "codemirror_mode": {
    "name": "ipython",
    "version": 3
   },
   "file_extension": ".py",
   "mimetype": "text/x-python",
   "name": "python",
   "nbconvert_exporter": "python",
   "pygments_lexer": "ipython3",
   "version": "3.8.16"
  }
 },
 "nbformat": 4,
 "nbformat_minor": 5
}
