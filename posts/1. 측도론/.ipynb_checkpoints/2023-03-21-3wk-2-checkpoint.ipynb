{
 "cells": [
  {
   "cell_type": "raw",
   "id": "ae4eac12-1827-418d-91a8-e64eecef3a9d",
   "metadata": {
    "slideshow": {
     "slide_type": "skip"
    }
   },
   "source": [
    "---\n",
    "title: \"03wk-2: 측도론 intro (4)\"\n",
    "author: \"최규빈\"\n",
    "date: \"03/21/2023\"\n",
    "---"
   ]
  },
  {
   "cell_type": "markdown",
   "id": "15e98de8-a998-48c9-bf15-b6aa119c908d",
   "metadata": {},
   "source": [
    "# 강의영상 "
   ]
  },
  {
   "cell_type": "markdown",
   "id": "d0472d63-1b48-4236-af4e-471111d0a4e3",
   "metadata": {},
   "source": [
    "> youtube: <https://youtube.com/playlist?list=PLQqh36zP38-yaBxW0S3fsO1d-kYIqZa62>"
   ]
  },
  {
   "cell_type": "markdown",
   "id": "a1243fde-17b2-4f27-ba58-06ebb3f7bb21",
   "metadata": {},
   "source": [
    "# 시그마필드 motivation (1)"
   ]
  },
  {
   "cell_type": "markdown",
   "id": "7ad71839-5543-4d8e-b763-baefa2b1fdaa",
   "metadata": {},
   "source": [
    "**(예제1)** -- 잴 수 있는 집합의 모임"
   ]
  },
  {
   "cell_type": "markdown",
   "id": "e66eb2d2-dc42-4353-981a-1d1dcb775ca4",
   "metadata": {},
   "source": [
    "$\\Omega=\\{H,T\\}$라고 하자. 아래집합들은 모두 확률을 정의할 수 있는 집합들이다. \n",
    "\n",
    "$$\\emptyset, \\{H\\}, \\{T\\}, \\Omega$$ \n",
    "\n",
    "따라서 ${\\cal F}$을 아래와 같이 정의한다면 묶음 ${\\cal F}$가 합리적일 것이다. \n",
    "\n",
    "$${\\cal F}=\\big\\{\\emptyset, \\{H\\}, \\{T\\}, \\Omega\\big\\}$$ "
   ]
  },
  {
   "cell_type": "markdown",
   "id": "7c9ea1f8-3ef2-4d1a-a432-4b3a579c1f33",
   "metadata": {},
   "source": [
    "> 이때 ${\\cal F}$는 집합들의 집합인데, 이러한 집합을 collection 이라고 한다. "
   ]
  },
  {
   "cell_type": "markdown",
   "id": "69c6a1ab-36b4-4926-8a03-fe202562530b",
   "metadata": {},
   "source": [
    "**(예제2)** -- 집합 $A$를 잴 수 있다면, 집합 $A^c$도 잴 수 있어~"
   ]
  },
  {
   "cell_type": "markdown",
   "id": "13169ed5-2539-4046-a307-d4df954fba6b",
   "metadata": {},
   "source": [
    "$\\Omega=\\{H,T\\}$라고 하자. ${\\cal F}$을 아래와 같이 정의한다면 묶음 ${\\cal F}$는 합리적이지 않다. \n",
    "\n",
    "$${\\cal F}=\\big\\{\\emptyset, \\{H\\}, \\Omega\\big\\}$$ "
   ]
  },
  {
   "cell_type": "markdown",
   "id": "6dea0317-e151-47f5-adc1-a18a1c588d40",
   "metadata": {},
   "source": [
    "(해설1)"
   ]
  },
  {
   "cell_type": "markdown",
   "id": "a0ac8d24-5743-4920-ab61-09f14b3b2c23",
   "metadata": {},
   "source": [
    "이러한 묶음이 의미하는건 \"앞면이 나올 확률은 모순없이 정의할 수 있지만, 뒷면이 나오는 확률은 모순없이 정의하는게 불가능해~\" 라는 뜻이다. 그런데 뒷면이 나올 확률은 \"1-앞면이 나올 확률\" 로 모순없이 정의할 수 있으므로 \"앞면이 나올 확률이 모순없이 정의되면서\" 동시에 \"뒷면이 나올 확률이 모순없이 정의되지 않는\" 상황은 없다. "
   ]
  },
  {
   "cell_type": "markdown",
   "id": "a3912f02-6d40-438b-9700-f2a636d8cf8a",
   "metadata": {},
   "source": [
    "(해설2)"
   ]
  },
  {
   "cell_type": "markdown",
   "id": "14924584-1e5e-4b62-a40d-0889a9634706",
   "metadata": {},
   "source": [
    "$\\Omega$의 어떠한 부분집합 $A$에 확률이 모순없이 정의된다면 그 집합의 여집합인 $A^c$에 대하여서도 확률이 모순없이 정의되어야 한다. \n",
    "\n",
    "$\\Leftrightarrow$ $\\forall A \\subset {\\Omega}: ~ A \\in {\\cal F} \\Rightarrow A^c \\in {\\cal F}$"
   ]
  },
  {
   "cell_type": "markdown",
   "id": "8fe41bb8-d094-4275-a501-dae2bb481d6e",
   "metadata": {},
   "source": [
    "**(예제3)** -- 전체집합이 잴 수 있는 집합이니까 공집합도 잴 수 있는 집합이야"
   ]
  },
  {
   "cell_type": "markdown",
   "id": "4b17b1f7-1098-4ee5-97c4-2b351c531c19",
   "metadata": {},
   "source": [
    "$\\Omega=\\{H,T\\}$라고 하자. ${\\cal F}$를 아래와 같이 정의한다면 묶음 ${\\cal F}$는 합리적이지 않다. \n",
    "\n",
    "$${\\cal F}=\\big\\{ \\{H\\}, \\{T\\}, \\Omega\\big\\}$$ "
   ]
  },
  {
   "cell_type": "markdown",
   "id": "d65f1bc4-8c37-4fe8-933a-2a58f7edc33d",
   "metadata": {},
   "source": [
    "(해설)"
   ]
  },
  {
   "cell_type": "markdown",
   "id": "012fa35e-cc13-4386-b7b6-fb93581889c7",
   "metadata": {},
   "source": [
    "전체집합의 확률은 $P(\\Omega)=1$로 정의할 수 있다. 그런데 전체집합의 여집합인 공집합의 확률을 정의할 수 없는건 말이 안되므로 공집합은 $\\cal F$에 포함되어야 한다. "
   ]
  },
  {
   "cell_type": "markdown",
   "id": "fd6f2288-4851-4692-8872-d325ec72c98c",
   "metadata": {},
   "source": [
    "**(예제4)** -- 원소의 수가 유한한 경우 ${\\cal F}=2^\\Omega$은 잴 수 있는 집합의 모임이야. "
   ]
  },
  {
   "cell_type": "markdown",
   "id": "52c0ceba-c4bd-450c-a295-d3ef0d0f1d48",
   "metadata": {},
   "source": [
    "$\\Omega=\\{1,2,3,4,5,6\\}$이라고 하자. ${\\cal F}$을 아래와 같이 정의한다고 하자. 이러한 묶음은 ${\\cal F}$은 합리적이다. \n",
    "\n",
    "$${\\cal F}=\\text{all subset of $\\Omega$}= 2^\\Omega = \\big\\{ \\emptyset, \\{1\\}, \\{2\\}, \\dots, \\{6\\}, \\dots, \\{1,2,3,4,5\\} \\dots \\Omega\\big\\}$$ "
   ]
  },
  {
   "cell_type": "markdown",
   "id": "4e24064f-955b-4c3c-aaf4-ad1c0d256fd9",
   "metadata": {},
   "source": [
    "(해설)"
   ]
  },
  {
   "cell_type": "markdown",
   "id": "e2a7f138-f3a1-4091-8f2d-73a5363957be",
   "metadata": {},
   "source": [
    "$\\Omega$의 모든 부분집합에 대하여 확률을 모순없이 정의할 수 있다. 예를들면 \n",
    "\n",
    "- $P(\\Omega)=1$, $P(\\emptyset)=0$ \n",
    "- $P(\\{1\\})=\\frac{1}{6}$\n",
    "- $P(\\{1,2,4\\})=\\frac{3}{6}$\n",
    "- $P(\\{2,3,4,5,6\\})=\\frac{5}{6}$\n",
    "- $\\dots$\n",
    "\n",
    "이런식으로 정의할 수 있다. "
   ]
  },
  {
   "cell_type": "markdown",
   "id": "882a94ae-9b4f-42db-8430-e3809ffe1d9c",
   "metadata": {},
   "source": [
    "**(예제5)** -- 동일한 $\\Omega$에 대하여 잴 수 있는 집합의 모임 ${\\cal F}$는 유니크하지 않음. "
   ]
  },
  {
   "cell_type": "markdown",
   "id": "868a5648-1532-47c1-86b5-e892f15ac229",
   "metadata": {},
   "source": [
    "$\\Omega=\\{1,2,3,4,5,6\\}$이라고 하자. ${\\cal F}$을 아래와 같이 정의한다고 하자. 이러한 묶음 ${\\cal F}$는 합리적이다. \n",
    "\n",
    "$${\\cal F}=\\big\\{\\emptyset, \\{6\\}, \\{1,2,3,4,5\\},\\Omega \\big\\}$$ "
   ]
  },
  {
   "cell_type": "markdown",
   "id": "7fa3a432-ce18-4fcf-a04c-a6db1058480b",
   "metadata": {},
   "source": [
    "(해설) "
   ]
  },
  {
   "cell_type": "markdown",
   "id": "a4df553b-aac3-4cf9-8671-ba551f86d92b",
   "metadata": {},
   "source": [
    "어떠한 특수한 상황을 가정하자. 주사위를 던져야하는데 6이 나오면 살수 있고 6이 나오지 않으면 죽는다고 하자. 따라서 던지는 사람 입장에서는 주사위를 던져서 6이 나오는지 안나오는지만 관심있을 것이다. 이 사람의 머리속에서 순간적으로 떠오르는 확률들은 아래와 같다.^[공평한 주사위라고 하자..]\n",
    "\n",
    "- 살수있다 => 1/6 \n",
    "- 죽는다 => 5/6 \n",
    "- 살거나 죽는다 => 1 \n",
    "- 살지도 죽지도 않는다  => 0 \n",
    "\n",
    "이러한 확률은 합리적이다. 즉 아래의 집합들만 확률을 정의한다고 해도, 확률을 잘 정의할 수 있을 것 같다. \n",
    "\n",
    "$$\\emptyset, \\{6\\}, \\{1,2,3,4,5\\}, \\Omega$$"
   ]
  },
  {
   "cell_type": "markdown",
   "id": "68d5d1b6-ff47-452a-b22e-bddb34c21a06",
   "metadata": {},
   "source": [
    "**(예제6)** -- $\\Omega$를 어떠한 사건의 집합으로 보느냐에 따라서 ${\\cal F}$를 달리 구성할 수 있다. "
   ]
  },
  {
   "cell_type": "markdown",
   "id": "3ac8eb32-8ea6-4613-b5fd-12ab48443fce",
   "metadata": {},
   "source": [
    "$\\Omega=\\{1,2,3,4,5,6\\}$이라고 하자. ${\\cal F}$을 아래와 같이 정의한다고 하자. 이러한 묶음 ${\\cal F}$는 합리적이다. \n",
    "\n",
    "$${\\cal F}=\\big\\{\\emptyset, \\{1,3,5\\}, \\{2,4,6\\},\\Omega \\big\\}$$ "
   ]
  },
  {
   "cell_type": "markdown",
   "id": "366ae832-c5f8-4731-b252-ac80404ec753",
   "metadata": {},
   "source": [
    "(해설) "
   ]
  },
  {
   "cell_type": "markdown",
   "id": "5c375cf7-7ef1-4f84-b369-6b2f3aa38536",
   "metadata": {},
   "source": [
    "전체사건을 \"주사위를 던져서 짝이 나오는 사건\", \"주사위를 던져서 홀이 나오는 사건\" 정도만 구분하겠다는 의미"
   ]
  },
  {
   "cell_type": "markdown",
   "id": "c19437e0-28d7-449c-b6bd-38eeff73166e",
   "metadata": {},
   "source": [
    "**(예제7)** -- $A\\in {\\cal F} \\Rightarrow A^c \\in {\\cal F}$"
   ]
  },
  {
   "cell_type": "markdown",
   "id": "33ea60eb-5128-4532-8749-401abfc489d0",
   "metadata": {},
   "source": [
    "$\\Omega=\\{1,2,3,4,5,6\\}$이라고 하자. ${\\cal F}$을 아래와 같이 정의한다고 하자. 이러한 묶음 ${\\cal F}$는 합리적이지 않다. \n",
    "\n",
    "$${\\cal F}=\\big\\{\\emptyset, \\{1,3,5\\}, \\Omega \\big\\}$$ "
   ]
  },
  {
   "cell_type": "markdown",
   "id": "e59223b6-78d2-4175-a8a6-286e6ba5b69f",
   "metadata": {},
   "source": [
    "(해설) "
   ]
  },
  {
   "cell_type": "markdown",
   "id": "f896458b-b362-43fc-b9fa-8186d3da2639",
   "metadata": {},
   "source": [
    "\"주사위를 던져서 홀수가 나올 사건\"에 대한 확률을 정의할 수 있는데, 짝수가 나올 사건에 대한 확률을 정의할 수 없다는건 말이 안되는 소리임. "
   ]
  },
  {
   "cell_type": "markdown",
   "id": "04dbde3c-bcca-41df-80e7-bf21d8455547",
   "metadata": {},
   "source": [
    "**(예제8)** -- trivial $\\sigma$-field"
   ]
  },
  {
   "cell_type": "markdown",
   "id": "d24d3da8-0cfe-4d4d-84a5-8f4169ad643d",
   "metadata": {},
   "source": [
    "$\\Omega=\\{1,2,3,4,5,6\\}$이라고 하자. ${\\cal F}$을 아래와 같이 정의한다고 하자. 이러한 묶음 ${\\cal F}$는 합리적이다. \n",
    "\n",
    "$${\\cal F}=\\{\\emptyset, \\Omega \\}$$ "
   ]
  },
  {
   "cell_type": "markdown",
   "id": "5aaad80a-28da-419f-b1c3-229e68732fe7",
   "metadata": {},
   "source": [
    "(해설) "
   ]
  },
  {
   "cell_type": "markdown",
   "id": "6645c19c-e524-4782-943f-570bf4f3e858",
   "metadata": {},
   "source": [
    "아예 이렇게 잡으면 모순이 일어나진 않음. (쓸모가 없겠지)"
   ]
  },
  {
   "cell_type": "markdown",
   "id": "5b4318dc-4d7a-41a0-905b-ea3baefc8621",
   "metadata": {},
   "source": [
    "**(예제9)** -- 서로소인 두 집합의 합, 포함관계에 있는 집합의 차"
   ]
  },
  {
   "cell_type": "markdown",
   "id": "47c17060-4a59-471f-be6c-038be091ecaa",
   "metadata": {},
   "source": [
    "$\\Omega=\\{1,2,3,4\\}$이라고 하자. 어떠한 필요에 따라서 1이 나올 확률과 2가 나올 확률에만 관심이 있고 나머지는 별로 관심이 없다고 하자. 그래서 ${\\cal F}$을 아래와 같이 정의했다고 하자. 이러한 묶음 ${\\cal F}$는 합리적이지 않다. \n",
    "\n",
    "$${\\cal F}=\\{\\emptyset, \\{1\\}, \\{2\\}, \\{2,3,4\\}, \\{1,3,4\\}, \\Omega \\}$$ "
   ]
  },
  {
   "cell_type": "markdown",
   "id": "32c54929-d747-4a90-a7b9-118f37755e45",
   "metadata": {},
   "source": [
    "(해설1) "
   ]
  },
  {
   "cell_type": "markdown",
   "id": "a010e850-de62-44e6-9a7b-8d754b45a5bf",
   "metadata": {},
   "source": [
    "${\\cal F}$은 전체집합과 공집합을 포함하고 여집합에 닫혀있으므로 언뜻 생각해보면 합리적인듯 보이지만 그렇지 않다. 왜냐하면 $\\{1,2\\}$이 빠졌기 때문이다. 1이 나올 확률 $P(\\{1\\})$와 2가 나올 확률 $P(\\{2\\})$를 각각 정의할 수 있는데, 1 또는 2가 나올 확률 $P(\\{1,2\\})$을 정의할 때 모순이 발생한다는 것은 합리적이지 못하다. 왜냐하면 $\\{1\\} \\cap \\{2\\} = \\emptyset$ 이므로 \n",
    "\n",
    "$$P(\\{1\\} \\cup \\{2\\})=P(\\{1\\}) + P(\\{2\\})$$\n",
    "\n",
    "와 같이 정의가능하기 때문이다. 따라서 집합이 아래와 같이 수정되어야 한다. \n",
    "\n",
    "$${\\cal F}=\\{\\emptyset, \\{1\\}, \\{2\\}, \\{2,3,4\\}, \\{1,3,4\\}, \\Omega, \\{1,2\\}, \\{3,4\\} \\}$$ "
   ]
  },
  {
   "cell_type": "markdown",
   "id": "ebb81acf-adb1-47af-86e5-467accea3710",
   "metadata": {},
   "source": [
    "(해설2) "
   ]
  },
  {
   "cell_type": "markdown",
   "id": "375b331b-0995-4a57-801b-a1ba1157606f",
   "metadata": {},
   "source": [
    "생각해보니까 $\\{2\\}$는 $\\{2,3,4\\}$의 부분집합이다. 그런데 $P(\\{2\\})$와 $P(\\{2,3,4\\})$를 각각 정의할 수 있는데 \n",
    "\n",
    "$$P(\\{2,3,4\\} - \\{2\\}) = P(\\{3,4\\})$$ \n",
    "\n",
    "를 정의할 수 없는건 말이 안된다. 따라서 ${\\cal F}$를 아래와 같이 수정해야 한다. \n",
    "\n",
    "$${\\cal F}=\\{\\emptyset, \\{1\\}, \\{2\\}, \\{2,3,4\\}, \\{1,3,4\\}, \\Omega, \\{3,4\\}, \\{1,2\\} \\}$$ "
   ]
  },
  {
   "cell_type": "markdown",
   "id": "5b1c164d-0cf2-4cb2-be3a-91abaa21c2a5",
   "metadata": {},
   "source": [
    "(해설3) \n",
    "\n",
    "$\\Omega$의 어떠한 두 부분집합 $A$, $B$가 서로소라고 상상하자. 집합 $A$, $B$에 대한 확률이 각각 무모순으로 정의된다면, 집합 $A\\cup B$에 대한 확률도 무모순으로 정의되어야 한다. "
   ]
  },
  {
   "cell_type": "markdown",
   "id": "836fa4d3-f275-4de8-bb2b-573c80efee8d",
   "metadata": {},
   "source": [
    "$\\Leftrightarrow$ $\\forall A,B \\subset \\Omega$ such that $A \\cap B =\\emptyset$: $A,B \\in {\\cal F} \\Rightarrow A \\cup B \\in {\\cal F}$ "
   ]
  },
  {
   "cell_type": "markdown",
   "id": "a71bc5d1-4e09-45dd-8e91-4b3e3eb61108",
   "metadata": {},
   "source": [
    "또한 $\\Omega$의 임의의 두 부분집합이 $A \\subset B$와 같은 포함관계가 성립할때, 집합 $A$, $B$에 대한 확률이 각각 무모순으로 정의된다면, 집합 $B-A$에 대한 확률로 무모순으로 정의되어야 한다. "
   ]
  },
  {
   "cell_type": "markdown",
   "id": "80e4c210-b720-4230-8b2b-9230186039fa",
   "metadata": {},
   "source": [
    "$\\Leftrightarrow$ $\\forall A,B \\subset \\Omega$ such that $A \\subset B$: $A,B \\in {\\cal F} \\Rightarrow B-A \\in {\\cal F}$ "
   ]
  },
  {
   "cell_type": "markdown",
   "id": "5e45203c-373a-4f66-997b-a3c1530dc179",
   "metadata": {},
   "source": [
    "**(예제10)** -- ${\\cal A}=\\{\\{1\\},\\{2\\}\\}$ 일때, $\\sigma({\\cal A})$ 를 구하는 문제 "
   ]
  },
  {
   "cell_type": "markdown",
   "id": "0d1fcd42-c63f-429e-b223-628a88c34e9e",
   "metadata": {},
   "source": [
    "$\\Omega=\\{1,2,3,4\\}$이라고 하자. 내가 관심이 있는 확률은 $P(\\{1\\})$, $P(\\{2\\})$ 밖에 없다고 하자. 이러한 확률들이 무모순으로 정의되기 위한 최소한의 ${\\cal F}$를 정의하라. "
   ]
  },
  {
   "cell_type": "markdown",
   "id": "224ee604-75a5-4d89-9cbe-2c015d5a8747",
   "metadata": {},
   "source": [
    "(해설) -- 좀 귀찮네..?"
   ]
  },
  {
   "cell_type": "markdown",
   "id": "af7173e8-0427-433f-8e59-aacac71823e4",
   "metadata": {},
   "source": [
    "0차수정: ${\\cal A} = \\big\\{\\{1\\}, \\{2\\}\\big\\}$"
   ]
  },
  {
   "cell_type": "markdown",
   "id": "a4754117-0ac3-4b6c-ba58-b7fc4852a032",
   "metadata": {},
   "source": [
    "1차수정: $\\big\\{\\emptyset, \\{1\\}, \\{2\\}, \\Omega \\big\\}$"
   ]
  },
  {
   "cell_type": "markdown",
   "id": "74df1b54-de21-4115-a91b-053ef8f79d6a",
   "metadata": {},
   "source": [
    "2차수정: $\\big\\{\\emptyset, \\{1\\}, \\{2\\}, \\{2,3,4\\}, \\{1,3,4\\}, \\Omega \\big\\}$"
   ]
  },
  {
   "cell_type": "markdown",
   "id": "dbc1ef50-9b63-4edc-87af-6e6ecc0cdd7c",
   "metadata": {},
   "source": [
    "3차수정: $\\big\\{\\emptyset, \\{1\\}, \\{2\\}, \\{2,3,4\\}, \\{1,3,4\\}, \\Omega, \\{1,2\\}, \\{3,4\\} \\big\\}$"
   ]
  },
  {
   "cell_type": "markdown",
   "id": "34dd3391-bb41-4bc4-b16b-5a37543c1748",
   "metadata": {},
   "source": [
    "> 사실 우리가 관심 있는건 ${\\cal A} = \\{ \\{1\\}, \\{2\\} \\}$ 뿐 이었음. 그런데 뭔가 $P(\\{1\\})$와 $P(\\{2\\})$를 합리적으로 정의하기 위해서 필연적으로 발생하는 어떠한 집합들을 모두 생각하는건 매우 피곤하고 귀찮은 일임. 그래서 \"아 모르겠고, $\\{1\\}$ 와 $\\{2\\}$를 포함하고 확률의 뜻에 모순되지 않게 만드는 최소한의 ${\\cal F}$가 있을텐데, 거기서만 확률을 정의할래!\" 라고 쉽게 생각하고 싶은 사람들이 생김. 그러한 공간을 $\\sigma({\\cal A})$라는 기호로 약속하고 smallest $\\sigma$-field containing ${\\cal A}$ 라는 용어로 부름. "
   ]
  }
 ],
 "metadata": {
  "celltoolbar": "Slideshow",
  "kernelspec": {
   "display_name": "Python 3",
   "language": "python",
   "name": "python3"
  },
  "language_info": {
   "codemirror_mode": {
    "name": "ipython",
    "version": 3
   },
   "file_extension": ".py",
   "mimetype": "text/x-python",
   "name": "python",
   "nbconvert_exporter": "python",
   "pygments_lexer": "ipython3",
   "version": "3.8.16"
  }
 },
 "nbformat": 4,
 "nbformat_minor": 5
}
