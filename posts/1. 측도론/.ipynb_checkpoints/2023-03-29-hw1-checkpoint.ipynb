{
 "cells": [
  {
   "cell_type": "raw",
   "id": "38a4ca44-41ef-461e-afc7-827b5f899e3b",
   "metadata": {},
   "source": [
    "---\n",
    "title: \"HW1: 측도론 (풀이업로드)\"\n",
    "author: \"최규빈\"\n",
    "date: \"03/29/2023\"\n",
    "---"
   ]
  },
  {
   "cell_type": "markdown",
   "id": "60077981-1569-41fa-8131-a063d0a92994",
   "metadata": {},
   "source": [
    "# 배점\n"
   ]
  },
  {
   "cell_type": "markdown",
   "id": "3002b830-aae4-4768-9194-6edbdf3ded0f",
   "metadata": {},
   "source": [
    "|문항|점수|\n",
    "|:-:|:-:|\n",
    "|1-(1)|15|\n",
    "|1-(2)|15|\n",
    "|2-(1)|5|\n",
    "|2-(2)|5|\n",
    "|2-(3)|10|\n",
    "|2-(4)|10|\n",
    "|3-(1)|20|\n",
    "|3-(2)|20|"
   ]
  },
  {
   "cell_type": "markdown",
   "id": "4b031dbe-d897-43f3-8a76-b7d0e4827b3d",
   "metadata": {},
   "source": [
    "# `1`. Cardinality"
   ]
  },
  {
   "cell_type": "markdown",
   "id": "91464302-cfb3-4e54-b557-c6706cc96e81",
   "metadata": {},
   "source": [
    "`(1)` $\\mathbb{Q}$의 cardinality가 $\\aleph_0$임을 증명하라. "
   ]
  },
  {
   "cell_type": "markdown",
   "id": "7e15bd8a-b8c1-475f-9a12-319a9a9a0330",
   "metadata": {},
   "source": [
    "`(풀이)` 생략 "
   ]
  },
  {
   "cell_type": "markdown",
   "id": "8ac13718-08e4-4bad-a640-c95fd32ec79d",
   "metadata": {},
   "source": [
    "`(2)` $\\mathbb{R}$의 cardinality가 $\\aleph_0$이 아님을 보여라. "
   ]
  },
  {
   "cell_type": "markdown",
   "id": "9e39444f-251e-4c39-a161-411cba2f2adf",
   "metadata": {},
   "source": [
    "`(풀이)` 생략 "
   ]
  },
  {
   "cell_type": "markdown",
   "id": "eda6799b-adac-4de2-994b-20f1dde36241",
   "metadata": {},
   "source": [
    "# `2`. $\\sigma$-field"
   ]
  },
  {
   "cell_type": "markdown",
   "id": "57bdac37-5b03-46f6-b769-bf0002496822",
   "metadata": {},
   "source": [
    "`(1)` $\\Omega=\\{H,T\\}$일 때, 다음 중 시그마필드의 정의를 만족하는 집합을 모두 골라라. \n",
    "\n",
    "1. ${\\cal F}=\\{\\emptyset\\}$\n",
    "2. ${\\cal F}=\\{\\Omega\\}$\n",
    "3. ${\\cal F}=\\{\\emptyset, \\Omega\\}$\n",
    "4. ${\\cal F}=\\{\\{H\\}\\}$\n",
    "5. ${\\cal F}=\\{\\{H\\}, \\{T\\}\\}$\n",
    "6. ${\\cal F}=\\{\\emptyset, \\{H\\}, \\Omega\\}$\n",
    "7. ${\\cal F}=\\{\\emptyset, \\{T\\}, \\Omega\\}$\n",
    "8. ${\\cal F}=\\{\\emptyset, \\{H\\}, \\{T\\}, \\Omega\\}$\n"
   ]
  },
  {
   "cell_type": "markdown",
   "id": "9a5b92ec-0064-4dfb-8b99-9cfcb641f49c",
   "metadata": {},
   "source": [
    "`(풀이)` 3,8 이 시그마필드이다. // 시그마필드가 아닌이유를 서술할 필요없음. 답만 쓰면 인정함. "
   ]
  },
  {
   "cell_type": "markdown",
   "id": "600733ec-6d19-4114-900a-737eb15e4aea",
   "metadata": {},
   "source": [
    "`(2)` $\\Omega=\\{1,2,3,4\\}$ 일 때, \n",
    "\n",
    "$${\\cal A}=\\{ \\{1\\}, \\{1,2\\}\\}$$ \n",
    "\n",
    "이라고 하자. $\\sigma({\\cal A})$를 구하여라. "
   ]
  },
  {
   "cell_type": "markdown",
   "id": "93082688-cae7-4b56-98f8-7c07d3ee4474",
   "metadata": {},
   "source": [
    "`(풀이)` // 이 문제역시 답만 써도 인정 "
   ]
  },
  {
   "cell_type": "markdown",
   "id": "466b54f3-2741-49ba-879c-595576725cdf",
   "metadata": {},
   "source": [
    "$\\sigma({\\cal A}) = \\{\\emptyset, \\{1\\},\\{2\\},\\{3,4\\}, \\{1,2\\},\\{1,3,4\\}, \\{2,3,4\\}, \\Omega\\}$ "
   ]
  },
  {
   "cell_type": "markdown",
   "id": "a318daba-d512-4f9e-b151-3bdc5cebb2a5",
   "metadata": {},
   "source": [
    "> 요령: $\\{3,4\\}$를 한세트로 보면 편리하다. 즉 전체사건을 $\\{1\\},\\{2\\},\\{3,4\\}$로 쪼갠뒤에 3개의 원소만 있다고 생각하고 모든 부분집합을 쓰면 된다. "
   ]
  },
  {
   "cell_type": "markdown",
   "id": "5af8349a-5724-4993-b139-4abef05ddb34",
   "metadata": {},
   "source": [
    "`(3)` $\\Omega=\\{1,2,3,4,\\dots,100\\}$ 일 때, \n",
    "\n",
    "$${\\cal A}=\\{ \\{1\\}, \\{1,2\\}, \\{1,2,3\\},\\{1,2,3,4\\}\\}$$\n",
    "\n",
    "이라고 하자. 아래의 물음에 답하여라. \n",
    "\n",
    "1. $\\{2\\} \\in \\sigma({\\cal A})$ 인가? \n",
    "2. $\\{2,3,4\\} \\in \\sigma({\\cal A})$ 인가? \n",
    "3. $\\{3,4,5\\} \\in \\sigma({\\cal A})$ 인가? \n",
    "4. $\\Omega - \\{1,2,3\\} \\in \\sigma({\\cal A})$ 인가? "
   ]
  },
  {
   "cell_type": "markdown",
   "id": "3d8dbc30-4628-46aa-b734-5e2d16f42f66",
   "metadata": {},
   "source": [
    "`(풀이)` // 답만쓰면 인정하지 않음. "
   ]
  },
  {
   "cell_type": "markdown",
   "id": "e1f14da6-d721-4789-87f4-28618c37e7f3",
   "metadata": {},
   "source": [
    "시그마필드의 정의는 아래와 같다. \n",
    "\n",
    "> 시그마필드 ${\\cal F} \\subset 2^\\Omega$ 는 1. 전체집합을 포함하고, 2. 여집합에 닫혀있고 3. 가산합집합에 닫혀있는 collection 이다. \n",
    "\n",
    "먼저 강의노트를 참고하여 아래의 사실을 보이자. \n",
    "\n",
    "(a) $A,B \\in {\\cal F} \\Rightarrow A \\cap B \\in {\\cal F}$\n",
    "\n",
    "(b) $A,B \\in {\\cal F} \\Rightarrow A - B \\in {\\cal F}$\n",
    "\n"
   ]
  },
  {
   "cell_type": "markdown",
   "id": "d59adf56-0032-40e1-99c7-afa23b55f36f",
   "metadata": {},
   "source": [
    "이제 풀어보자. "
   ]
  },
  {
   "cell_type": "markdown",
   "id": "03615cb4-0854-40b5-98c3-cd43e8a51ee8",
   "metadata": {},
   "source": [
    "1번\n",
    "\n",
    "- $\\{1,2\\} \\in \\sigma({\\cal A})$, $\\{1\\} \\in \\sigma({\\cal A})$ \n",
    "- $\\Rightarrow$ $\\{1,2\\} - \\{1\\} = \\{2\\} \\in \\sigma({\\cal A})$ ($\\because$ (b)) \n",
    "\n",
    "2번 \n",
    "\n",
    "- $\\{1,2\\}-\\{1\\} = \\{2\\} \\in \\sigma({\\cal A})$,  $\\{1,2,3\\} - \\{1,2\\} = \\{3\\} \\in \\sigma({\\cal A})$,  $\\{1,2,3,4\\} - \\{1,2,3\\} = \\{4\\} \\in \\sigma({\\cal A})$. \n",
    "- $\\Rightarrow$ $\\{2\\}\\cup \\{3\\} \\cup \\{4\\} = \\{2,3,4\\} \\in \\sigma({\\cal A})$ "
   ]
  },
  {
   "cell_type": "markdown",
   "id": "7f679bc6-b77e-41cc-9a46-6e64d102d925",
   "metadata": {},
   "source": [
    "3번 "
   ]
  },
  {
   "cell_type": "markdown",
   "id": "990a1b2f-7451-4c67-a384-2abfee00197d",
   "metadata": {},
   "source": [
    "- $\\{3,4,5\\} \\not \\in \\sigma({\\cal A})$"
   ]
  },
  {
   "cell_type": "markdown",
   "id": "fbaad57c-78c3-4664-ab67-7b9bef35ac78",
   "metadata": {},
   "source": [
    "4번 \n",
    "\n",
    "- $\\{1,2,3\\}\\in \\sigma({\\cal A})$\n",
    "- $\\Rightarrow \\{1,2,3\\}^c \\in \\sigma({\\cal A})$"
   ]
  },
  {
   "cell_type": "markdown",
   "id": "e0d47a74-f1db-441d-b849-6eca4fd54d4c",
   "metadata": {},
   "source": [
    "`(4)` $\\Omega=[0,2\\pi)$ 일 때, \n",
    "\n",
    "$${\\cal A}=\\{ [a,b): 0\\leq a< b\\leq 2\\pi\\}$$\n",
    "\n",
    "이라고 하자. 아래의 물음에 답하여라. \n",
    "\n",
    "1. $[\\frac{\\pi}{2},\\pi) \\in \\sigma({\\cal A})$ 인가? \n",
    "2. $\\{\\pi\\} \\in \\sigma({\\cal A})$ 인가? \n",
    "3. $\\{0,\\frac{\\pi}{2},\\pi,\\frac{3\\pi}{2}\\} \\in \\sigma({\\cal A})$ 인가? \n",
    "4. $(\\frac{\\pi}{2},\\pi) \\in \\sigma({\\cal A})$ 인가? "
   ]
  },
  {
   "cell_type": "markdown",
   "id": "0620e233-aa79-4018-a30f-d887ad544056",
   "metadata": {},
   "source": [
    "> 수업시간에 2번문제 잘못해설했어요. (문제도 잘못냈어요, 너무 어렵게 냈어요. ) "
   ]
  },
  {
   "cell_type": "markdown",
   "id": "55946287-38a3-46d3-82c7-feec51b3b1e1",
   "metadata": {},
   "source": [
    "(풀이) \n",
    "\n",
    "1. $a=\\frac{\\pi}{2}$, $b=\\pi$ \n",
    "2. $[0,\\pi)~ \\bigcup ~\\cup_{i=1}^{\\infty}[\\pi+\\frac{1}{n}, 2\\pi) = [0,\\pi) \\cup (\\pi,2\\pi)$ $\\Rightarrow$ $\\Omega - \\big([0,\\pi) \\cup (\\pi,2\\pi) \\big)  = \\{\\pi\\} \\in \\sigma({\\cal A})$ \n",
    "- $[\\pi+\\frac{1}{n}, 2\\pi)$는 각각 잴 수 있는 집합이므로 $\\cup_{i=1}^{\\infty}[\\pi+\\frac{1}{n}, 2\\pi)$ 역시 잴 수 있는 집합이다. \n",
    "- 여기에서 $\\cup_{i=1}^{\\infty}[\\pi+\\frac{1}{n}, 2\\pi)=(\\pi,2\\pi)$ 로 볼 수 있는데, 그 이유는 $\\cup_{i=1}^{\\infty}[\\pi+\\frac{1}{n}, 2\\pi)$는 $\\pi$보다 큰 모든수를 포함하지만 $\\pi$는 포함할 수 없기 때문이다. \n",
    "- $[0, \\pi)$도 당연히 잴 수 있는 집합이다. \n",
    "- 잴 수 있는 집합의 교집합은 잴 수 있으므로 $[0,\\pi)~ \\cup ~(\\pi,2\\pi)$ 역시 잴 수 있는 집합이다. \n",
    "- 따라서 $[0,2\\pi) - \\big([0,\\pi) \\cup (\\pi,2\\pi) \\big)$ 역시 잴 수 있다. \n",
    "3. $\\{\\pi\\}$를 잴수 있다는 것과 동일한 논리전개로 $\\{0\\},\\{\\frac{\\pi}{2}\\}, \\{\\frac{3\\pi}{2}\\}$ 모두 잴 수 있는 집합이고, 따라서 이들의 합집합도 잴 수 있다. \n",
    "4. $[\\frac{\\pi}{2}, \\pi)$를 잴 수 있고 $\\{\\frac{\\pi}{2}\\}$를 잴 수 있으므로 $[\\frac{\\pi}{2}, \\pi) - \\{\\frac{\\pi}{2}\\}$ 역시 잴 수 있다. "
   ]
  },
  {
   "cell_type": "markdown",
   "id": "26540377-7ce9-4214-b3e3-e440b081bb88",
   "metadata": {},
   "source": [
    "# `3`. 확률과 확률변수 "
   ]
  },
  {
   "cell_type": "markdown",
   "id": "73829dc5-2d25-4cb3-ad0e-49a8ec2695d7",
   "metadata": {},
   "source": [
    "`(1)` 아래와 같은 measurable space $(\\Omega, {\\cal F})$를 고려하자. \n",
    "\n",
    "- $\\Omega=\\{a,b,c,d\\}$\n",
    "- ${\\cal F}=2^\\Omega$"
   ]
  },
  {
   "cell_type": "markdown",
   "id": "668bb6cb-cc78-4c71-8d3e-03b66e5b0bfa",
   "metadata": {},
   "source": [
    "아래와 같은 확률변수 $X: \\Omega \\to \\{1,2,3,4\\}$ 를 고려하자. 다음중 올바른 표현은? "
   ]
  },
  {
   "cell_type": "markdown",
   "id": "fc7ed833-faf0-4c73-8347-8733fdbabebf",
   "metadata": {},
   "source": [
    "1. $X(a)$ \n",
    "2. $X(\\{a\\})$\n",
    "3. $P(a)$\n",
    "4. $P(\\{a\\})$\n",
    "5. $P(X=1)$\n",
    "6. $X = \\begin{cases} 1 & w.p.~\\frac{1}{2} \\\\ 2 & w.p. ~\\frac{1}{6} \\\\ 3 & w.p. ~\\frac{1}{6} \\\\ 4 & w.p. ~\\frac{1}{6} \\end{cases}$"
   ]
  },
  {
   "cell_type": "markdown",
   "id": "5523e797-abd6-4964-a543-dbf538ed8439",
   "metadata": {},
   "source": [
    "(풀이) 생략 (이 문제는 그대로 낼거라서요, 풀이 생략합니다. 스스로 해보세요. 시험에서는 답만쓰면 정답으로 인정합니다) "
   ]
  },
  {
   "cell_type": "markdown",
   "id": "71e50759-c1dd-47fb-b366-0161dd2f1337",
   "metadata": {},
   "source": [
    "`(2)` 아래와 같은 measurable space를 고려하자. \n",
    "\n",
    "- $\\Omega=\\{a,b,c,d\\}$\n",
    "- ${\\cal F} =\\sigma({\\cal A})$ where ${\\cal A} = \\{\\{a\\}\\}$. "
   ]
  },
  {
   "cell_type": "markdown",
   "id": "0e357c00-5da9-417b-b18a-bb4c740f689c",
   "metadata": {},
   "source": [
    "아래와 같은 function $X:\\Omega \\to A:=\\{1,2,3,4\\}$, $Y:\\Omega \\to B:=\\{1,2\\}$을 고려하자.  "
   ]
  },
  {
   "cell_type": "markdown",
   "id": "0fb16ab6-6986-4a14-9cca-5f5c8fa585f6",
   "metadata": {},
   "source": [
    "- $X(a)=1, X(b)=2, X(c)=3, X(d)=4$\n",
    "- $Y(a)=1, Y(b)=2, Y(c)=2, Y(c)=2$ "
   ]
  },
  {
   "cell_type": "markdown",
   "id": "2ac3fc8b-8b26-4b0c-9a70-1f2d5c5a2789",
   "metadata": {},
   "source": [
    "아래의 물음에 답하라. "
   ]
  },
  {
   "cell_type": "markdown",
   "id": "d28ff890-b5fd-4d73-b529-3a80e6c93f28",
   "metadata": {},
   "source": [
    "- $X$는 $(\\Omega,{\\cal F}) \\to (A,2^{A})$ 인가? 즉 $X$는 $(\\Omega,{\\cal F})$ 에서의 확률변수인가? \n",
    "- $Y$는 $(\\Omega,{\\cal F}) \\to (B,2^{B})$ 인가? 즉 $Y$는 $(\\Omega,{\\cal F})$ 에서의 확률변수인가? "
   ]
  },
  {
   "cell_type": "markdown",
   "id": "3a7af305-8b1b-4506-ae6a-3d206b4900bd",
   "metadata": {},
   "source": [
    "(풀이) "
   ]
  },
  {
   "cell_type": "markdown",
   "id": "cf06a4e1-d3fb-4380-92f0-a418377ad7b7",
   "metadata": {},
   "source": [
    "**$X$는 확률변수가 아님** "
   ]
  },
  {
   "cell_type": "markdown",
   "id": "b1349620-0bef-4f0f-bb7f-1b7e8125b0fc",
   "metadata": {},
   "source": [
    "집합 $\\{2\\} \\subset 2^A$에 대하여 $\\{\\omega: X(\\omega) \\in \\{2\\}\\}=\\{b\\} \\not \\in \\sigma({\\cal A})$ 이므로 $X$는 확률변수가 아님 "
   ]
  },
  {
   "cell_type": "markdown",
   "id": "634487d2-9b21-41f0-b22f-84af0390462e",
   "metadata": {},
   "source": [
    "**$Y$는 확률변수임** "
   ]
  },
  {
   "cell_type": "markdown",
   "id": "11f3332d-f268-4cb4-b09f-5a0cc0b3bcdf",
   "metadata": {},
   "source": [
    "$2^B = \\{\\emptyset,\\{1\\},\\{2\\},B\\}$ 의 모든 부분집합 $B^\\ast$에 대하여 $\\{\\omega: X(\\omega) \\in B^\\ast\\} \\in \\sigma({\\cal A})$ 이 성립함. \n",
    "\n",
    "- $\\{\\omega: X(\\omega) \\in \\emptyset\\}  = \\emptyset \\in \\sigma({\\cal A})$ \n",
    "- $\\{\\omega: X(\\omega) \\in \\{1\\}\\}  = \\{a\\} \\in \\sigma({\\cal A})$ \n",
    "- $\\{\\omega: X(\\omega) \\in \\{2\\}\\}  = \\{b,c,d\\} \\in \\sigma({\\cal A})$ \n",
    "- $\\{\\omega: X(\\omega) \\in B\\}  = \\{a,b,c,d\\} \\in \\sigma({\\cal A})$ "
   ]
  }
 ],
 "metadata": {
  "kernelspec": {
   "display_name": "Python 3",
   "language": "python",
   "name": "python3"
  },
  "language_info": {
   "codemirror_mode": {
    "name": "ipython",
    "version": 3
   },
   "file_extension": ".py",
   "mimetype": "text/x-python",
   "name": "python",
   "nbconvert_exporter": "python",
   "pygments_lexer": "ipython3",
   "version": "3.8.16"
  }
 },
 "nbformat": 4,
 "nbformat_minor": 5
}
