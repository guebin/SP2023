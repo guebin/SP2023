{
 "cells": [
  {
   "cell_type": "raw",
   "id": "6337cdb8-9ee3-4e56-b8fc-96cfb7fbcd4f",
   "metadata": {
    "slideshow": {
     "slide_type": "skip"
    }
   },
   "source": [
    "---\n",
    "title: \"01wk-2: 강의소개\"\n",
    "author: \"최규빈\"\n",
    "date: \"03/06/2023\"\n",
    "---"
   ]
  },
  {
   "cell_type": "markdown",
   "id": "08887f35-bc3e-4f26-8fae-537b39dc6297",
   "metadata": {
    "slideshow": {
     "slide_type": "slide"
    }
   },
   "source": [
    "# 수업구성 "
   ]
  },
  {
   "cell_type": "markdown",
   "id": "0c2656e0-be1c-47c7-83da-06ffc83d82ca",
   "metadata": {
    "slideshow": {
     "slide_type": "slide"
    }
   },
   "source": [
    "`1`. 측도론(실변수함수론)\n",
    "\n",
    "- 확률과정을 이해함에 있어서 필요함. \n",
    "- 그런데 학부수준에서는 꼭 필요한 내용은 아님. \n",
    "- 대학원 진학 등 깊이 공부 할 학생들은 필요함. "
   ]
  },
  {
   "cell_type": "markdown",
   "id": "8b712ad4",
   "metadata": {
    "slideshow": {
     "slide_type": "slide"
    }
   },
   "source": [
    "`2`. 확률과정론 \n",
    "\n",
    "- 원래는 금융통계을 위한 백업과목 \n",
    "- 여러가지 확률과정 중 우리는 마코프체인에만 집중 "
   ]
  },
  {
   "cell_type": "markdown",
   "id": "e65fefc9",
   "metadata": {
    "slideshow": {
     "slide_type": "slide"
    }
   },
   "source": [
    "`3`. 마코프체인의 응용 (유동적으로 변경가능)\n",
    "\n",
    "- \"마코프체인\"이라는 용어가 나오는 응용분야를 리뷰. \n",
    "- MCMC, 베이지안모형, 토픽모형(LDA), 강화학습, 구글페이지랭크 --> 몇 개만 다를 수 있지 않을까?"
   ]
  },
  {
   "cell_type": "markdown",
   "id": "bc500b3f",
   "metadata": {
    "slideshow": {
     "slide_type": "slide"
    }
   },
   "source": [
    "# 이 수업을 들어야 하는 이유"
   ]
  },
  {
   "cell_type": "markdown",
   "id": "40abc6cb",
   "metadata": {
    "slideshow": {
     "slide_type": "slide"
    }
   },
   "source": [
    "pass"
   ]
  },
  {
   "cell_type": "markdown",
   "id": "645e350b",
   "metadata": {
    "slideshow": {
     "slide_type": "slide"
    }
   },
   "source": [
    "# 이 수업을 듣지 말아야 하는 이유"
   ]
  },
  {
   "cell_type": "markdown",
   "id": "828711c7",
   "metadata": {
    "slideshow": {
     "slide_type": "slide"
    }
   },
   "source": [
    "`1`. F학점 줄 수 있음. \n",
    "\n",
    "- 진짜 줌."
   ]
  },
  {
   "cell_type": "markdown",
   "id": "1902b4fa",
   "metadata": {
    "slideshow": {
     "slide_type": "slide"
    }
   },
   "source": [
    "`2`. 쓸모가 없다. \n",
    "\n",
    "- 그동안 제가 강의했던 과목들: R입문, 파이썬입문, 통계전산, 데이터시각화, 딥러닝(파이토치/텐서플로우),\n",
    "- 측도론: 재미는 있음. 그런데 대학원가서 고급이론을 공부할 것이 아니면 쓸모가 없다. (통계학과에서 배우는 가장 이론적인 과목) \n",
    "- 확률과정론: 확률과정론 $\\to$ 금융공학으로 가는 교과과정은 학부수준에 다루기 어려움. 마코프체인은 응용이 많이 되는 편이지만 이론을 꼭 알아야 하는건 아니야.\n",
    "- 마코프체인의 응용: 꽤 재미있는 토픽들이 많음. 그런데 이 과목에서 깊게 다루기 불가능."
   ]
  },
  {
   "cell_type": "markdown",
   "id": "b7fff4a6",
   "metadata": {
    "slideshow": {
     "slide_type": "slide"
    }
   },
   "source": [
    "`3`. 회귀분석2와 시간이 겹침\n",
    "\n",
    "- 이영미교수님 수업!\n",
    "- 회귀분석2는 엄청 중요한 수업이에요.\n",
    "- 지금이라도 늦지 않음 "
   ]
  }
 ],
 "metadata": {
  "celltoolbar": "Slideshow",
  "kernelspec": {
   "display_name": "Python 3",
   "language": "python",
   "name": "python3"
  },
  "language_info": {
   "codemirror_mode": {
    "name": "ipython",
    "version": 3
   },
   "file_extension": ".py",
   "mimetype": "text/x-python",
   "name": "python",
   "nbconvert_exporter": "python",
   "pygments_lexer": "ipython3",
   "version": "3.8.16"
  }
 },
 "nbformat": 4,
 "nbformat_minor": 5
}
