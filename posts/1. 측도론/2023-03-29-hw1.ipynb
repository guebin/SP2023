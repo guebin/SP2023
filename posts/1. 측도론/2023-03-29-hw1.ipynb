{
 "cells": [
  {
   "cell_type": "raw",
   "id": "b81dc4b5-d27a-4d75-bf70-5019b815f980",
   "metadata": {},
   "source": [
    "---\n",
    "title: \"HW1: 측도론\"\n",
    "author: \"최규빈\"\n",
    "date: \"03/29/2023\"\n",
    "---"
   ]
  },
  {
   "cell_type": "markdown",
   "id": "60077981-1569-41fa-8131-a063d0a92994",
   "metadata": {},
   "source": [
    "# 배점\n"
   ]
  },
  {
   "cell_type": "markdown",
   "id": "3002b830-aae4-4768-9194-6edbdf3ded0f",
   "metadata": {},
   "source": [
    "|문항|점수|\n",
    "|:-:|:-:|\n",
    "|1-(1)|15|\n",
    "|1-(2)|15|\n",
    "|2-(1)|5|\n",
    "|2-(2)|5|\n",
    "|2-(3)|10|\n",
    "|2-(4)|10|\n",
    "|3-(1)|20|\n",
    "|3-(2)|20|"
   ]
  },
  {
   "cell_type": "markdown",
   "id": "4b031dbe-d897-43f3-8a76-b7d0e4827b3d",
   "metadata": {},
   "source": [
    "# `1`. Cardinality"
   ]
  },
  {
   "cell_type": "markdown",
   "id": "91464302-cfb3-4e54-b557-c6706cc96e81",
   "metadata": {},
   "source": [
    "`(1)` $\\mathbb{Q}$의 cardinality가 $\\aleph_0$임을 증명하라. "
   ]
  },
  {
   "cell_type": "markdown",
   "id": "8ac13718-08e4-4bad-a640-c95fd32ec79d",
   "metadata": {},
   "source": [
    "`(2)` $\\mathbb{R}$의 cardinality가 $\\aleph_0$이 아님을 보여라. "
   ]
  },
  {
   "cell_type": "markdown",
   "id": "eda6799b-adac-4de2-994b-20f1dde36241",
   "metadata": {},
   "source": [
    "# `2`. $\\sigma$-field"
   ]
  },
  {
   "cell_type": "markdown",
   "id": "57bdac37-5b03-46f6-b769-bf0002496822",
   "metadata": {},
   "source": [
    "`(1)` $\\Omega=\\{H,T\\}$일 때, 다음 중 시그마필드의 정의를 만족하는 집합을 모두 골라라. \n",
    "\n",
    "1. ${\\cal F}=\\{\\emptyset\\}$\n",
    "2. ${\\cal F}=\\{\\Omega\\}$\n",
    "3. ${\\cal F}=\\{\\emptyset, \\Omega\\}$\n",
    "4. ${\\cal F}=\\{\\{H\\}\\}$\n",
    "5. ${\\cal F}=\\{\\{H\\}, \\{T\\}\\}$\n",
    "6. ${\\cal F}=\\{\\emptyset, \\{H\\}, \\Omega\\}$\n",
    "7. ${\\cal F}=\\{\\emptyset, \\{T\\}, \\Omega\\}$\n",
    "8. ${\\cal F}=\\{\\emptyset, \\{H\\}, \\{T\\}, \\Omega\\}$\n"
   ]
  },
  {
   "cell_type": "markdown",
   "id": "600733ec-6d19-4114-900a-737eb15e4aea",
   "metadata": {},
   "source": [
    "`(2)` $\\Omega=\\{1,2,3,4\\}$ 일 때, \n",
    "\n",
    "$${\\cal A}=\\{ \\{1\\}, \\{1,2\\}\\}$$ \n",
    "\n",
    "이라고 하자. $\\sigma({\\cal A})$를 구하여라. "
   ]
  },
  {
   "cell_type": "markdown",
   "id": "5af8349a-5724-4993-b139-4abef05ddb34",
   "metadata": {},
   "source": [
    "`(3)` $\\Omega=\\{1,2,3,4,\\dots,100\\}$ 일 때, \n",
    "\n",
    "$${\\cal A}=\\{ \\{1\\}, \\{1,2\\}, \\{1,2,3\\},\\{1,2,3,4\\}\\}$$\n",
    "\n",
    "이라고 하자. 아래의 물음에 답하여라. \n",
    "\n",
    "- $\\{2\\} \\in \\sigma({\\cal A})$ 인가? \n",
    "- $\\{2,3,4\\} \\in \\sigma({\\cal A})$ 인가? \n",
    "- $\\{3,4,5\\} \\in \\sigma({\\cal A})$ 인가? \n",
    "- $\\Omega - \\{1,2,3\\} \\in \\sigma({\\cal A})$ 인가? "
   ]
  },
  {
   "cell_type": "markdown",
   "id": "e0d47a74-f1db-441d-b849-6eca4fd54d4c",
   "metadata": {},
   "source": [
    "`(4)` $\\Omega=[0,2\\pi)$ 일 때, \n",
    "\n",
    "$${\\cal A}=\\{ [a,b): 0\\leq a< b\\leq 2\\pi\\}$$\n",
    "\n",
    "이라고 하자. 아래의 물음에 답하여라. \n",
    "\n",
    "- $[\\frac{\\pi}{2},\\pi) \\in \\sigma({\\cal A})$ 인가? \n",
    "- $\\{\\pi\\} \\in \\sigma({\\cal A})$ 인가? \n",
    "- $\\{0,\\frac{\\pi}{2},\\pi,\\frac{3\\pi}{2}\\} \\in \\sigma({\\cal A})$ 인가? \n",
    "- $(\\frac{\\pi}{2},\\pi) \\in \\sigma({\\cal A})$ 인가? "
   ]
  },
  {
   "cell_type": "markdown",
   "id": "26540377-7ce9-4214-b3e3-e440b081bb88",
   "metadata": {},
   "source": [
    "# `3`. 확률과 확률변수 "
   ]
  },
  {
   "cell_type": "markdown",
   "id": "73829dc5-2d25-4cb3-ad0e-49a8ec2695d7",
   "metadata": {},
   "source": [
    "`(1)` 아래와 같은 measurable space $(\\Omega, {\\cal F})$를 고려하자. \n",
    "\n",
    "- $\\Omega=\\{a,b,c,d\\}$\n",
    "- ${\\cal F}=2^\\Omega$"
   ]
  },
  {
   "cell_type": "markdown",
   "id": "668bb6cb-cc78-4c71-8d3e-03b66e5b0bfa",
   "metadata": {},
   "source": [
    "아래와 같은 확률변수 $X: \\Omega \\to \\{1,2,3,4\\}$ 를 고려하자. 다음중 올바른 표현은? "
   ]
  },
  {
   "cell_type": "markdown",
   "id": "fc7ed833-faf0-4c73-8347-8733fdbabebf",
   "metadata": {},
   "source": [
    "1. $X(a)$ \n",
    "2. $X(\\{a\\})$\n",
    "3. $P(a)$\n",
    "4. $P(\\{a\\})$\n",
    "5. $P(X=1)$\n",
    "6. $X = \\begin{cases} 1 & w.p.~\\frac{1}{2} \\\\ 2 & w.p. ~\\frac{1}{6} \\\\ 3 & w.p. ~\\frac{1}{6} \\\\ 4 & w.p. ~\\frac{1}{6} \\end{cases}$"
   ]
  },
  {
   "cell_type": "markdown",
   "id": "71e50759-c1dd-47fb-b366-0161dd2f1337",
   "metadata": {},
   "source": [
    "`(2)` 아래와 같은 measurable space를 고려하자. \n",
    "\n",
    "- $\\Omega=\\{a,b,c,d\\}$\n",
    "- ${\\cal F} =\\sigma({\\cal A})$ where ${\\cal A} = \\{\\{a\\}\\}$. "
   ]
  },
  {
   "cell_type": "markdown",
   "id": "0e357c00-5da9-417b-b18a-bb4c740f689c",
   "metadata": {},
   "source": [
    "아래와 같은 function $X:\\Omega \\to A:=\\{1,2,3,4\\}$, $Y:\\Omega \\to B:=\\{1,2\\}$을 고려하자.  "
   ]
  },
  {
   "cell_type": "markdown",
   "id": "0fb16ab6-6986-4a14-9cca-5f5c8fa585f6",
   "metadata": {},
   "source": [
    "- $X(a)=1, X(b)=2, X(c)=3, X(d)=4$\n",
    "- $Y(a)=1, Y(b)=2, Y(c)=2, Y(c)=2$ "
   ]
  },
  {
   "cell_type": "markdown",
   "id": "2ac3fc8b-8b26-4b0c-9a70-1f2d5c5a2789",
   "metadata": {},
   "source": [
    "아래의 물음에 답하라. "
   ]
  },
  {
   "cell_type": "markdown",
   "id": "d28ff890-b5fd-4d73-b529-3a80e6c93f28",
   "metadata": {},
   "source": [
    "- $X$는 $(\\Omega,{\\cal F}) \\to (A,2^{A})$ 인가? 즉 $X$는 $(\\Omega,{\\cal F})$ 에서의 확률변수인가? \n",
    "- $Y$는 $(\\Omega,{\\cal F}) \\to (B,2^{B})$ 인가? 즉 $X$는 $(\\Omega,{\\cal F})$ 에서의 확률변수인가? "
   ]
  }
 ],
 "metadata": {
  "kernelspec": {
   "display_name": "Python 3",
   "language": "python",
   "name": "python3"
  },
  "language_info": {
   "codemirror_mode": {
    "name": "ipython",
    "version": 3
   },
   "file_extension": ".py",
   "mimetype": "text/x-python",
   "name": "python",
   "nbconvert_exporter": "python",
   "pygments_lexer": "ipython3",
   "version": "3.8.16"
  }
 },
 "nbformat": 4,
 "nbformat_minor": 5
}
